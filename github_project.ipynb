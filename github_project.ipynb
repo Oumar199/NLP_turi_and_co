{
  "cells": [
    {
      "cell_type": "markdown",
      "metadata": {
        "id": "view-in-github",
        "colab_type": "text"
      },
      "source": [
        "<a href=\"https://colab.research.google.com/github/Oumar199/NLP_turi_and_co/blob/main/github_project.ipynb\" target=\"_parent\"><img src=\"https://colab.research.google.com/assets/colab-badge.svg\" alt=\"Open In Colab\"/></a>"
      ]
    },
    {
      "cell_type": "markdown",
      "source": [
        "# Start"
      ],
      "metadata": {
        "id": "veBITun4l_Sg"
      }
    },
    {
      "cell_type": "markdown",
      "metadata": {
        "id": "GWYwsbCq7wKK"
      },
      "source": [
        "Text Analytics Tutorial using Sherlock Holmes Stories\n",
        "----------------"
      ]
    },
    {
      "cell_type": "markdown",
      "metadata": {
        "id": "hje0oGpn7wKO"
      },
      "source": [
        "#### Sections\n",
        "- [Setup](####Setup)\n",
        "- [Preparing and validating the dataset]()\n",
        "- [Calculating Various Statistics]()\n",
        "- [Constructing Social Networks]()\n",
        "- [Topic Models]()"
      ]
    },
    {
      "cell_type": "markdown",
      "metadata": {
        "id": "fwPqYDAL7wKO"
      },
      "source": [
        "#### Setup"
      ]
    },
    {
      "cell_type": "code",
      "execution_count": 5,
      "metadata": {
        "id": "O0jvrdMd7wKP",
        "colab": {
          "base_uri": "https://localhost:8080/"
        },
        "outputId": "07d813f2-2a97-4aaa-8112-bef1dd2f186e"
      },
      "outputs": [
        {
          "output_type": "stream",
          "name": "stdout",
          "text": [
            "\u001b[33mWARNING: Ignoring invalid distribution -andas (/usr/local/lib/python3.8/dist-packages)\u001b[0m\u001b[33m\n",
            "\u001b[0m\u001b[33mWARNING: Ignoring invalid distribution -andas (/usr/local/lib/python3.8/dist-packages)\u001b[0m\u001b[33m\n",
            "\u001b[0mLooking in indexes: https://pypi.org/simple, https://us-python.pkg.dev/colab-wheels/public/simple/\n",
            "Requirement already satisfied: gensim in /usr/local/lib/python3.8/dist-packages (4.3.0)\n",
            "Requirement already satisfied: scipy>=1.7.0 in /usr/local/lib/python3.8/dist-packages (from gensim) (1.7.3)\n",
            "Requirement already satisfied: numpy>=1.18.5 in /usr/local/lib/python3.8/dist-packages (from gensim) (1.21.6)\n",
            "Requirement already satisfied: smart-open>=1.8.1 in /usr/local/lib/python3.8/dist-packages (from gensim) (6.3.0)\n",
            "Requirement already satisfied: FuzzyTM>=0.4.0 in /usr/local/lib/python3.8/dist-packages (from gensim) (2.0.5)\n",
            "Requirement already satisfied: pyfume in /usr/local/lib/python3.8/dist-packages (from FuzzyTM>=0.4.0->gensim) (0.2.25)\n",
            "Requirement already satisfied: pandas in /usr/local/lib/python3.8/dist-packages (from FuzzyTM>=0.4.0->gensim) (1.5.2)\n",
            "Requirement already satisfied: python-dateutil>=2.8.1 in /usr/local/lib/python3.8/dist-packages (from pandas->FuzzyTM>=0.4.0->gensim) (2.8.2)\n",
            "Requirement already satisfied: pytz>=2020.1 in /usr/local/lib/python3.8/dist-packages (from pandas->FuzzyTM>=0.4.0->gensim) (2022.7)\n",
            "Requirement already satisfied: fst-pso in /usr/local/lib/python3.8/dist-packages (from pyfume->FuzzyTM>=0.4.0->gensim) (1.8.1)\n",
            "Requirement already satisfied: simpful in /usr/local/lib/python3.8/dist-packages (from pyfume->FuzzyTM>=0.4.0->gensim) (2.9.0)\n",
            "Requirement already satisfied: six>=1.5 in /usr/local/lib/python3.8/dist-packages (from python-dateutil>=2.8.1->pandas->FuzzyTM>=0.4.0->gensim) (1.15.0)\n",
            "Requirement already satisfied: miniful in /usr/local/lib/python3.8/dist-packages (from fst-pso->pyfume->FuzzyTM>=0.4.0->gensim) (0.0.6)\n",
            "Requirement already satisfied: requests in /usr/local/lib/python3.8/dist-packages (from simpful->pyfume->FuzzyTM>=0.4.0->gensim) (2.25.1)\n",
            "Requirement already satisfied: chardet<5,>=3.0.2 in /usr/local/lib/python3.8/dist-packages (from requests->simpful->pyfume->FuzzyTM>=0.4.0->gensim) (4.0.0)\n",
            "Requirement already satisfied: certifi>=2017.4.17 in /usr/local/lib/python3.8/dist-packages (from requests->simpful->pyfume->FuzzyTM>=0.4.0->gensim) (2022.12.7)\n",
            "Requirement already satisfied: idna<3,>=2.5 in /usr/local/lib/python3.8/dist-packages (from requests->simpful->pyfume->FuzzyTM>=0.4.0->gensim) (2.10)\n",
            "Requirement already satisfied: urllib3<1.27,>=1.21.1 in /usr/local/lib/python3.8/dist-packages (from requests->simpful->pyfume->FuzzyTM>=0.4.0->gensim) (1.26.14)\n",
            "\u001b[33mWARNING: Ignoring invalid distribution -andas (/usr/local/lib/python3.8/dist-packages)\u001b[0m\u001b[33m\n",
            "\u001b[0m\u001b[33mWARNING: Ignoring invalid distribution -andas (/usr/local/lib/python3.8/dist-packages)\u001b[0m\u001b[33m\n",
            "\u001b[0m\u001b[33mWARNING: Ignoring invalid distribution -andas (/usr/local/lib/python3.8/dist-packages)\u001b[0m\u001b[33m\n",
            "\u001b[0mLooking in indexes: https://pypi.org/simple, https://us-python.pkg.dev/colab-wheels/public/simple/\n",
            "Requirement already satisfied: nltk in /usr/local/lib/python3.8/dist-packages (3.8.1)\n",
            "Requirement already satisfied: click in /usr/local/lib/python3.8/dist-packages (from nltk) (7.1.2)\n",
            "Requirement already satisfied: joblib in /usr/local/lib/python3.8/dist-packages (from nltk) (1.2.0)\n",
            "Requirement already satisfied: regex>=2021.8.3 in /usr/local/lib/python3.8/dist-packages (from nltk) (2022.6.2)\n",
            "Requirement already satisfied: tqdm in /usr/local/lib/python3.8/dist-packages (from nltk) (4.64.1)\n",
            "\u001b[33mWARNING: Ignoring invalid distribution -andas (/usr/local/lib/python3.8/dist-packages)\u001b[0m\u001b[33m\n",
            "\u001b[0m\u001b[33mWARNING: Ignoring invalid distribution -andas (/usr/local/lib/python3.8/dist-packages)\u001b[0m\u001b[33m\n",
            "\u001b[0m\u001b[33mWARNING: Ignoring invalid distribution -andas (/usr/local/lib/python3.8/dist-packages)\u001b[0m\u001b[33m\n",
            "\u001b[0mLooking in indexes: https://pypi.org/simple, https://us-python.pkg.dev/colab-wheels/public/simple/\n",
            "Requirement already satisfied: turicreate in /usr/local/lib/python3.8/dist-packages (6.4.1)\n",
            "Requirement already satisfied: decorator>=4.0.9 in /usr/local/lib/python3.8/dist-packages (from turicreate) (4.4.2)\n",
            "Requirement already satisfied: prettytable==0.7.2 in /usr/local/lib/python3.8/dist-packages (from turicreate) (0.7.2)\n",
            "Requirement already satisfied: requests>=2.9.1 in /usr/local/lib/python3.8/dist-packages (from turicreate) (2.25.1)\n",
            "Requirement already satisfied: scipy>=1.1.0 in /usr/local/lib/python3.8/dist-packages (from turicreate) (1.7.3)\n",
            "Requirement already satisfied: coremltools==4.0b3 in /usr/local/lib/python3.8/dist-packages (from turicreate) (4.0b3)\n",
            "Requirement already satisfied: pillow>=5.2.0 in /usr/local/lib/python3.8/dist-packages (from turicreate) (7.1.2)\n",
            "Requirement already satisfied: numpy in /usr/local/lib/python3.8/dist-packages (from turicreate) (1.21.6)\n",
            "Requirement already satisfied: tensorflow>=2.0.0 in /usr/local/lib/python3.8/dist-packages (from turicreate) (2.9.2)\n",
            "Requirement already satisfied: resampy==0.2.1 in /usr/local/lib/python3.8/dist-packages (from turicreate) (0.2.1)\n",
            "Requirement already satisfied: pandas>=0.23.2 in /usr/local/lib/python3.8/dist-packages (from turicreate) (1.5.2)\n",
            "Requirement already satisfied: six>=1.10.0 in /usr/local/lib/python3.8/dist-packages (from turicreate) (1.15.0)\n",
            "Requirement already satisfied: numba<0.51.0 in /usr/local/lib/python3.8/dist-packages (from turicreate) (0.50.1)\n",
            "Requirement already satisfied: protobuf>=3.1.0 in /usr/local/lib/python3.8/dist-packages (from coremltools==4.0b3->turicreate) (3.19.6)\n",
            "Requirement already satisfied: tqdm in /usr/local/lib/python3.8/dist-packages (from coremltools==4.0b3->turicreate) (4.64.1)\n",
            "Requirement already satisfied: attrs in /usr/local/lib/python3.8/dist-packages (from coremltools==4.0b3->turicreate) (22.2.0)\n",
            "Requirement already satisfied: sympy in /usr/local/lib/python3.8/dist-packages (from coremltools==4.0b3->turicreate) (1.7.1)\n",
            "Requirement already satisfied: attr in /usr/local/lib/python3.8/dist-packages (from coremltools==4.0b3->turicreate) (0.3.2)\n",
            "Requirement already satisfied: setuptools in /usr/local/lib/python3.8/dist-packages (from numba<0.51.0->turicreate) (57.4.0)\n",
            "Collecting llvmlite<0.34,>=0.33.0.dev0\n",
            "  Using cached llvmlite-0.33.0-cp38-cp38-manylinux1_x86_64.whl (18.3 MB)\n",
            "Requirement already satisfied: python-dateutil>=2.8.1 in /usr/local/lib/python3.8/dist-packages (from pandas>=0.23.2->turicreate) (2.8.2)\n",
            "Requirement already satisfied: pytz>=2020.1 in /usr/local/lib/python3.8/dist-packages (from pandas>=0.23.2->turicreate) (2022.7)\n",
            "Requirement already satisfied: chardet<5,>=3.0.2 in /usr/local/lib/python3.8/dist-packages (from requests>=2.9.1->turicreate) (4.0.0)\n",
            "Requirement already satisfied: idna<3,>=2.5 in /usr/local/lib/python3.8/dist-packages (from requests>=2.9.1->turicreate) (2.10)\n",
            "Requirement already satisfied: urllib3<1.27,>=1.21.1 in /usr/local/lib/python3.8/dist-packages (from requests>=2.9.1->turicreate) (1.26.14)\n",
            "Requirement already satisfied: certifi>=2017.4.17 in /usr/local/lib/python3.8/dist-packages (from requests>=2.9.1->turicreate) (2022.12.7)\n",
            "Requirement already satisfied: grpcio<2.0,>=1.24.3 in /usr/local/lib/python3.8/dist-packages (from tensorflow>=2.0.0->turicreate) (1.51.1)\n",
            "Requirement already satisfied: typing-extensions>=3.6.6 in /usr/local/lib/python3.8/dist-packages (from tensorflow>=2.0.0->turicreate) (4.4.0)\n",
            "Requirement already satisfied: flatbuffers<2,>=1.12 in /usr/local/lib/python3.8/dist-packages (from tensorflow>=2.0.0->turicreate) (1.12)\n",
            "Requirement already satisfied: astunparse>=1.6.0 in /usr/local/lib/python3.8/dist-packages (from tensorflow>=2.0.0->turicreate) (1.6.3)\n",
            "Requirement already satisfied: tensorboard<2.10,>=2.9 in /usr/local/lib/python3.8/dist-packages (from tensorflow>=2.0.0->turicreate) (2.9.1)\n",
            "Requirement already satisfied: opt-einsum>=2.3.2 in /usr/local/lib/python3.8/dist-packages (from tensorflow>=2.0.0->turicreate) (3.3.0)\n",
            "Requirement already satisfied: tensorflow-estimator<2.10.0,>=2.9.0rc0 in /usr/local/lib/python3.8/dist-packages (from tensorflow>=2.0.0->turicreate) (2.9.0)\n",
            "Requirement already satisfied: google-pasta>=0.1.1 in /usr/local/lib/python3.8/dist-packages (from tensorflow>=2.0.0->turicreate) (0.2.0)\n",
            "Requirement already satisfied: keras<2.10.0,>=2.9.0rc0 in /usr/local/lib/python3.8/dist-packages (from tensorflow>=2.0.0->turicreate) (2.9.0)\n",
            "Requirement already satisfied: packaging in /usr/local/lib/python3.8/dist-packages (from tensorflow>=2.0.0->turicreate) (21.3)\n",
            "Requirement already satisfied: gast<=0.4.0,>=0.2.1 in /usr/local/lib/python3.8/dist-packages (from tensorflow>=2.0.0->turicreate) (0.4.0)\n",
            "Requirement already satisfied: termcolor>=1.1.0 in /usr/local/lib/python3.8/dist-packages (from tensorflow>=2.0.0->turicreate) (2.2.0)\n",
            "Requirement already satisfied: keras-preprocessing>=1.1.1 in /usr/local/lib/python3.8/dist-packages (from tensorflow>=2.0.0->turicreate) (1.1.2)\n",
            "Requirement already satisfied: tensorflow-io-gcs-filesystem>=0.23.1 in /usr/local/lib/python3.8/dist-packages (from tensorflow>=2.0.0->turicreate) (0.29.0)\n",
            "Requirement already satisfied: h5py>=2.9.0 in /usr/local/lib/python3.8/dist-packages (from tensorflow>=2.0.0->turicreate) (3.1.0)\n",
            "Requirement already satisfied: wrapt>=1.11.0 in /usr/local/lib/python3.8/dist-packages (from tensorflow>=2.0.0->turicreate) (1.14.1)\n",
            "Requirement already satisfied: libclang>=13.0.0 in /usr/local/lib/python3.8/dist-packages (from tensorflow>=2.0.0->turicreate) (15.0.6.1)\n",
            "Requirement already satisfied: absl-py>=1.0.0 in /usr/local/lib/python3.8/dist-packages (from tensorflow>=2.0.0->turicreate) (1.3.0)\n",
            "Requirement already satisfied: wheel<1.0,>=0.23.0 in /usr/local/lib/python3.8/dist-packages (from astunparse>=1.6.0->tensorflow>=2.0.0->turicreate) (0.38.4)\n",
            "Requirement already satisfied: tensorboard-data-server<0.7.0,>=0.6.0 in /usr/local/lib/python3.8/dist-packages (from tensorboard<2.10,>=2.9->tensorflow>=2.0.0->turicreate) (0.6.1)\n",
            "Requirement already satisfied: google-auth-oauthlib<0.5,>=0.4.1 in /usr/local/lib/python3.8/dist-packages (from tensorboard<2.10,>=2.9->tensorflow>=2.0.0->turicreate) (0.4.6)\n",
            "Requirement already satisfied: werkzeug>=1.0.1 in /usr/local/lib/python3.8/dist-packages (from tensorboard<2.10,>=2.9->tensorflow>=2.0.0->turicreate) (1.0.1)\n",
            "Requirement already satisfied: tensorboard-plugin-wit>=1.6.0 in /usr/local/lib/python3.8/dist-packages (from tensorboard<2.10,>=2.9->tensorflow>=2.0.0->turicreate) (1.8.1)\n",
            "Requirement already satisfied: google-auth<3,>=1.6.3 in /usr/local/lib/python3.8/dist-packages (from tensorboard<2.10,>=2.9->tensorflow>=2.0.0->turicreate) (2.16.0)\n",
            "Requirement already satisfied: markdown>=2.6.8 in /usr/local/lib/python3.8/dist-packages (from tensorboard<2.10,>=2.9->tensorflow>=2.0.0->turicreate) (3.4.1)\n",
            "Requirement already satisfied: pyparsing!=3.0.5,>=2.0.2 in /usr/local/lib/python3.8/dist-packages (from packaging->tensorflow>=2.0.0->turicreate) (3.0.9)\n",
            "Requirement already satisfied: mpmath>=0.19 in /usr/local/lib/python3.8/dist-packages (from sympy->coremltools==4.0b3->turicreate) (1.2.1)\n",
            "Requirement already satisfied: rsa<5,>=3.1.4 in /usr/local/lib/python3.8/dist-packages (from google-auth<3,>=1.6.3->tensorboard<2.10,>=2.9->tensorflow>=2.0.0->turicreate) (4.9)\n",
            "Requirement already satisfied: cachetools<6.0,>=2.0.0 in /usr/local/lib/python3.8/dist-packages (from google-auth<3,>=1.6.3->tensorboard<2.10,>=2.9->tensorflow>=2.0.0->turicreate) (5.2.1)\n",
            "Requirement already satisfied: pyasn1-modules>=0.2.1 in /usr/local/lib/python3.8/dist-packages (from google-auth<3,>=1.6.3->tensorboard<2.10,>=2.9->tensorflow>=2.0.0->turicreate) (0.2.8)\n",
            "Requirement already satisfied: requests-oauthlib>=0.7.0 in /usr/local/lib/python3.8/dist-packages (from google-auth-oauthlib<0.5,>=0.4.1->tensorboard<2.10,>=2.9->tensorflow>=2.0.0->turicreate) (1.3.1)\n",
            "Requirement already satisfied: importlib-metadata>=4.4 in /usr/local/lib/python3.8/dist-packages (from markdown>=2.6.8->tensorboard<2.10,>=2.9->tensorflow>=2.0.0->turicreate) (6.0.0)\n",
            "Requirement already satisfied: zipp>=0.5 in /usr/local/lib/python3.8/dist-packages (from importlib-metadata>=4.4->markdown>=2.6.8->tensorboard<2.10,>=2.9->tensorflow>=2.0.0->turicreate) (3.11.0)\n",
            "Requirement already satisfied: pyasn1<0.5.0,>=0.4.6 in /usr/local/lib/python3.8/dist-packages (from pyasn1-modules>=0.2.1->google-auth<3,>=1.6.3->tensorboard<2.10,>=2.9->tensorflow>=2.0.0->turicreate) (0.4.8)\n",
            "Requirement already satisfied: oauthlib>=3.0.0 in /usr/local/lib/python3.8/dist-packages (from requests-oauthlib>=0.7.0->google-auth-oauthlib<0.5,>=0.4.1->tensorboard<2.10,>=2.9->tensorflow>=2.0.0->turicreate) (3.2.2)\n",
            "\u001b[33mWARNING: Ignoring invalid distribution -andas (/usr/local/lib/python3.8/dist-packages)\u001b[0m\u001b[33m\n",
            "\u001b[0mInstalling collected packages: llvmlite\n",
            "  Attempting uninstall: llvmlite\n",
            "\u001b[33m    WARNING: Ignoring invalid distribution -andas (/usr/local/lib/python3.8/dist-packages)\u001b[0m\u001b[33m\n",
            "\u001b[0m    Found existing installation: llvmlite 0.39.1\n",
            "    Uninstalling llvmlite-0.39.1:\n",
            "      Successfully uninstalled llvmlite-0.39.1\n",
            "\u001b[33mWARNING: Ignoring invalid distribution -andas (/usr/local/lib/python3.8/dist-packages)\u001b[0m\u001b[33m\n",
            "\u001b[0m\u001b[31mERROR: pip's dependency resolver does not currently take into account all the packages that are installed. This behaviour is the source of the following dependency conflicts.\n",
            "librosa 0.8.1 requires resampy>=0.2.2, but you have resampy 0.2.1 which is incompatible.\u001b[0m\u001b[31m\n",
            "\u001b[0mSuccessfully installed llvmlite-0.33.0\n",
            "\u001b[33mWARNING: Ignoring invalid distribution -andas (/usr/local/lib/python3.8/dist-packages)\u001b[0m\u001b[33m\n",
            "\u001b[0m\u001b[33mWARNING: Ignoring invalid distribution -andas (/usr/local/lib/python3.8/dist-packages)\u001b[0m\u001b[33m\n",
            "\u001b[0mLooking in indexes: https://pypi.org/simple, https://us-python.pkg.dev/colab-wheels/public/simple/\n",
            "Requirement already satisfied: pyldavis in /usr/local/lib/python3.8/dist-packages (3.3.1)\n",
            "Requirement already satisfied: funcy in /usr/local/lib/python3.8/dist-packages (from pyldavis) (1.17)\n",
            "Requirement already satisfied: gensim in /usr/local/lib/python3.8/dist-packages (from pyldavis) (4.3.0)\n",
            "Requirement already satisfied: numpy>=1.20.0 in /usr/local/lib/python3.8/dist-packages (from pyldavis) (1.21.6)\n",
            "Requirement already satisfied: scikit-learn in /usr/local/lib/python3.8/dist-packages (from pyldavis) (1.0.2)\n",
            "Requirement already satisfied: jinja2 in /usr/local/lib/python3.8/dist-packages (from pyldavis) (2.11.3)\n",
            "Requirement already satisfied: pandas>=1.2.0 in /usr/local/lib/python3.8/dist-packages (from pyldavis) (1.5.2)\n",
            "Requirement already satisfied: scipy in /usr/local/lib/python3.8/dist-packages (from pyldavis) (1.7.3)\n",
            "Requirement already satisfied: sklearn in /usr/local/lib/python3.8/dist-packages (from pyldavis) (0.0.post1)\n",
            "Requirement already satisfied: future in /usr/local/lib/python3.8/dist-packages (from pyldavis) (0.16.0)\n",
            "Requirement already satisfied: joblib in /usr/local/lib/python3.8/dist-packages (from pyldavis) (1.2.0)\n",
            "Requirement already satisfied: setuptools in /usr/local/lib/python3.8/dist-packages (from pyldavis) (57.4.0)\n",
            "Requirement already satisfied: numexpr in /usr/local/lib/python3.8/dist-packages (from pyldavis) (2.8.4)\n",
            "Requirement already satisfied: pytz>=2020.1 in /usr/local/lib/python3.8/dist-packages (from pandas>=1.2.0->pyldavis) (2022.7)\n",
            "Requirement already satisfied: python-dateutil>=2.8.1 in /usr/local/lib/python3.8/dist-packages (from pandas>=1.2.0->pyldavis) (2.8.2)\n",
            "Requirement already satisfied: FuzzyTM>=0.4.0 in /usr/local/lib/python3.8/dist-packages (from gensim->pyldavis) (2.0.5)\n",
            "Requirement already satisfied: smart-open>=1.8.1 in /usr/local/lib/python3.8/dist-packages (from gensim->pyldavis) (6.3.0)\n",
            "Requirement already satisfied: MarkupSafe>=0.23 in /usr/local/lib/python3.8/dist-packages (from jinja2->pyldavis) (2.0.1)\n",
            "Requirement already satisfied: threadpoolctl>=2.0.0 in /usr/local/lib/python3.8/dist-packages (from scikit-learn->pyldavis) (3.1.0)\n",
            "Requirement already satisfied: pyfume in /usr/local/lib/python3.8/dist-packages (from FuzzyTM>=0.4.0->gensim->pyldavis) (0.2.25)\n",
            "Requirement already satisfied: six>=1.5 in /usr/local/lib/python3.8/dist-packages (from python-dateutil>=2.8.1->pandas>=1.2.0->pyldavis) (1.15.0)\n",
            "Requirement already satisfied: simpful in /usr/local/lib/python3.8/dist-packages (from pyfume->FuzzyTM>=0.4.0->gensim->pyldavis) (2.9.0)\n",
            "Requirement already satisfied: fst-pso in /usr/local/lib/python3.8/dist-packages (from pyfume->FuzzyTM>=0.4.0->gensim->pyldavis) (1.8.1)\n",
            "Requirement already satisfied: miniful in /usr/local/lib/python3.8/dist-packages (from fst-pso->pyfume->FuzzyTM>=0.4.0->gensim->pyldavis) (0.0.6)\n",
            "Requirement already satisfied: requests in /usr/local/lib/python3.8/dist-packages (from simpful->pyfume->FuzzyTM>=0.4.0->gensim->pyldavis) (2.25.1)\n",
            "Requirement already satisfied: chardet<5,>=3.0.2 in /usr/local/lib/python3.8/dist-packages (from requests->simpful->pyfume->FuzzyTM>=0.4.0->gensim->pyldavis) (4.0.0)\n",
            "Requirement already satisfied: idna<3,>=2.5 in /usr/local/lib/python3.8/dist-packages (from requests->simpful->pyfume->FuzzyTM>=0.4.0->gensim->pyldavis) (2.10)\n",
            "Requirement already satisfied: certifi>=2017.4.17 in /usr/local/lib/python3.8/dist-packages (from requests->simpful->pyfume->FuzzyTM>=0.4.0->gensim->pyldavis) (2022.12.7)\n",
            "Requirement already satisfied: urllib3<1.27,>=1.21.1 in /usr/local/lib/python3.8/dist-packages (from requests->simpful->pyfume->FuzzyTM>=0.4.0->gensim->pyldavis) (1.26.14)\n",
            "\u001b[33mWARNING: Ignoring invalid distribution -andas (/usr/local/lib/python3.8/dist-packages)\u001b[0m\u001b[33m\n",
            "\u001b[0m"
          ]
        }
      ],
      "source": [
        "# install requirements\n",
        "!pip install --upgrade gensim\n",
        "!pip install --upgrade nltk\n",
        "!pip install --upgrade turicreate\n",
        "!pip install --upgrade pyldavis"
      ]
    },
    {
      "cell_type": "markdown",
      "metadata": {
        "id": "VViHNhZf7wKQ"
      },
      "source": [
        "#### Preparing the Dataset"
      ]
    },
    {
      "cell_type": "markdown",
      "metadata": {
        "id": "8kwyvJAv7wKR"
      },
      "source": [
        "##### Constructing the Dataset"
      ]
    },
    {
      "cell_type": "code",
      "execution_count": 6,
      "metadata": {
        "colab": {
          "base_uri": "https://localhost:8080/"
        },
        "id": "EZLera9j7wKR",
        "outputId": "6940db7e-e6e0-43bc-d335-e859d8dc9800"
      },
      "outputs": [
        {
          "output_type": "stream",
          "name": "stdout",
          "text": [
            "[{'link': '/stories/plain-text/cano.txt', 'title': 'The Complete Canon'}, {'link': '/stories/plain-text/advs.txt', 'title': 'The Adventures of Sherlock Holmes'}, {'link': '/stories/plain-text/mems.txt', 'title': 'The Memoirs of Sherlock Holmes'}, {'link': '/stories/plain-text/retn.txt', 'title': 'The Return of Sherlock Holmes'}, {'link': '/stories/plain-text/lstb.txt', 'title': 'His Last Bow'}, {'link': '/stories/plain-text/case.txt', 'title': 'The Case-Book of Sherlock Holmes'}, {'link': '/stories/plain-text/stud.txt', 'title': 'A Study In Scarlet'}, {'link': '/stories/plain-text/sign.txt', 'title': 'The Sign of the Four'}, {'link': '/stories/plain-text/houn.txt', 'title': 'The Hound of the Baskervilles'}, {'link': '/stories/plain-text/vall.txt', 'title': 'The Valley of Fear'}, {'link': '/stories/plain-text/scan.txt', 'title': 'A Scandal in Bohemia'}, {'link': '/stories/plain-text/redh.txt', 'title': 'The Red-Headed League'}, {'link': '/stories/plain-text/iden.txt', 'title': 'A Case of Identity'}, {'link': '/stories/plain-text/bosc.txt', 'title': 'The Boscombe Valley Mystery'}, {'link': '/stories/plain-text/five.txt', 'title': 'The Five Orange Pips'}, {'link': '/stories/plain-text/twis.txt', 'title': 'The Man with the Twisted Lip'}, {'link': '/stories/plain-text/blue.txt', 'title': 'The Adventure of the Blue Carbuncle'}, {'link': '/stories/plain-text/spec.txt', 'title': 'The Adventure of the Speckled Band'}, {'link': '/stories/plain-text/engr.txt', 'title': \"The Adventure of the Engineer's Thumb\"}, {'link': '/stories/plain-text/nobl.txt', 'title': 'The Adventure of the Noble Bachelor'}, {'link': '/stories/plain-text/bery.txt', 'title': 'The Adventure of the Beryl Coronet'}, {'link': '/stories/plain-text/copp.txt', 'title': 'The Adventure of the Copper Beeches'}, {'link': '/stories/plain-text/silv.txt', 'title': 'Silver Blaze'}, {'link': '/stories/plain-text/yell.txt', 'title': 'Yellow Face'}, {'link': '/stories/plain-text/stoc.txt', 'title': \"The Stockbroker's Clerk\"}, {'link': '/stories/plain-text/glor.txt', 'title': 'The “Gloria Scott”'}, {'link': '/stories/plain-text/musg.txt', 'title': 'The Musgrave Ritual'}, {'link': '/stories/plain-text/reig.txt', 'title': 'The Reigate Puzzle'}, {'link': '/stories/plain-text/croo.txt', 'title': 'The Crooked Man'}, {'link': '/stories/plain-text/resi.txt', 'title': 'The Resident Patient'}, {'link': '/stories/plain-text/gree.txt', 'title': 'The Greek Interpreter'}, {'link': '/stories/plain-text/nava.txt', 'title': 'The Naval Treaty'}, {'link': '/stories/plain-text/fina.txt', 'title': 'The Final Problem'}, {'link': '/stories/plain-text/empt.txt', 'title': 'The Empty House'}, {'link': '/stories/plain-text/norw.txt', 'title': 'The Norwood Builder'}, {'link': '/stories/plain-text/danc.txt', 'title': 'The Dancing Men'}, {'link': '/stories/plain-text/soli.txt', 'title': 'The Solitary Cyclist'}, {'link': '/stories/plain-text/prio.txt', 'title': 'The Priory School'}, {'link': '/stories/plain-text/blac.txt', 'title': 'Black Peter'}, {'link': '/stories/plain-text/chas.txt', 'title': 'Charles Augustus Milverton'}, {'link': '/stories/plain-text/sixn.txt', 'title': 'The Six Napoleons'}, {'link': '/stories/plain-text/3stu.txt', 'title': 'The Three Students'}, {'link': '/stories/plain-text/gold.txt', 'title': 'The Golden Pince-Nez'}, {'link': '/stories/plain-text/miss.txt', 'title': 'The Missing Three-Quarter'}, {'link': '/stories/plain-text/abbe.txt', 'title': 'The Abbey Grange'}, {'link': '/stories/plain-text/seco.txt', 'title': 'The Second Stain'}, {'link': '/stories/plain-text/wist.txt', 'title': 'Wisteria Lodge'}, {'link': '/stories/plain-text/card.txt', 'title': 'The Cardboard Box'}, {'link': '/stories/plain-text/redc.txt', 'title': 'The Red Circle'}, {'link': '/stories/plain-text/bruc.txt', 'title': 'The Bruce-Partington Plans'}, {'link': '/stories/plain-text/dyin.txt', 'title': 'The Dying Detective'}, {'link': '/stories/plain-text/lady.txt', 'title': 'Lady Frances Carfax'}, {'link': '/stories/plain-text/devi.txt', 'title': \"The Devil's Foot\"}, {'link': '/stories/plain-text/last.txt', 'title': 'His Last Bow'}, {'link': '/stories/plain-text/illu.txt', 'title': 'The Illustrious Client'}, {'link': '/stories/plain-text/blan.txt', 'title': 'The Blanched Soldier'}, {'link': '/stories/plain-text/maza.txt', 'title': 'The Mazarin Stone'}, {'link': '/stories/plain-text/3gab.txt', 'title': 'The Three Gables'}, {'link': '/stories/plain-text/suss.txt', 'title': 'The Sussex Vampire'}, {'link': '/stories/plain-text/3gar.txt', 'title': 'The Three Garridebs'}, {'link': '/stories/plain-text/thor.txt', 'title': 'Thor Bridge'}, {'link': '/stories/plain-text/cree.txt', 'title': 'The Creeping Man'}, {'link': '/stories/plain-text/lion.txt', 'title': \"The Lion's Mane\"}, {'link': '/stories/plain-text/veil.txt', 'title': 'The Veiled Lodger'}, {'link': '/stories/plain-text/shos.txt', 'title': 'Shoscombe Old Place'}, {'link': '/stories/plain-text/reti.txt', 'title': 'The Retired Colourman'}]\n"
          ]
        }
      ],
      "source": [
        "# BASE_DIR = \"/Users/pablo/fromHomeMax/sherlock/data\"\n",
        "\n",
        "import re\n",
        "import urllib\n",
        "import turicreate as tr\n",
        "\n",
        "books_url = \"https://sherlock-holm.es/ascii/\"\n",
        "re_books_links = re.compile(\"\\\"piwik_download\\\"\\s+href=\\\"(?P<link>.*?)\\\">(?P<title>.*?)</a>\", re.MULTILINE)\n",
        "html = urllib.request.urlopen(books_url).read().decode('utf-8')\n",
        "books_list = [m.groupdict() for m in re_books_links.finditer(html)]\n",
        "print(books_list)"
      ]
    },
    {
      "cell_type": "code",
      "execution_count": 7,
      "metadata": {
        "id": "OU-AN5tC7wKT"
      },
      "outputs": [],
      "source": [
        "# let's download the books' texts.\n",
        "filtered_books = set([\"The Complete Canon\", \"The Case-Book of Sherlock Holmes\", \"The Canon - U.S. edition\"]) # remove some books\n",
        "books_list = [element for element in books_list if element['title'] not in filtered_books]\n",
        "\n",
        "for d in books_list:\n",
        "    d['text'] = urllib.request.urlopen(\"http://sherlock-holm.es\" + d['link']).read().strip() # recuperate contents inside the links\n",
        "\n"
      ]
    },
    {
      "cell_type": "markdown",
      "source": [
        "#### Calculating Various Statistics"
      ],
      "metadata": {
        "id": "grxi1HmpAwbM"
      }
    },
    {
      "cell_type": "markdown",
      "source": [
        "Save the data to use it with turicreate."
      ],
      "metadata": {
        "id": "fQV_VoTGA-ud"
      }
    },
    {
      "cell_type": "code",
      "execution_count": 8,
      "metadata": {
        "id": "Z0XUsm0r7wKU"
      },
      "outputs": [],
      "source": [
        "data_dir = \"/content/drive/MyDrive/Intelligence artificielle /Partie III Master/Traitement automatique des langues /Github NLP turicreate/data\"\n",
        "sf = tr.SFrame(books_list).unpack(\"X1\", column_name_prefix = \"\")\n",
        "sf.save(\"%s/books.sframe\" % data_dir)"
      ]
    },
    {
      "cell_type": "code",
      "source": [
        "# Let's calculate the length of each text\n",
        "sf['chars_num'] = sf['text'].apply(lambda t: len(t))\n",
        "sf.head(10)"
      ],
      "metadata": {
        "colab": {
          "base_uri": "https://localhost:8080/",
          "height": 423
        },
        "id": "5xdTfi9SAOYL",
        "outputId": "6a80c116-a4f3-4833-b908-ec6ad95fc1fa"
      },
      "execution_count": 9,
      "outputs": [
        {
          "output_type": "execute_result",
          "data": {
            "text/plain": [
              "Columns:\n",
              "\tlink\tstr\n",
              "\ttext\tstr\n",
              "\ttitle\tstr\n",
              "\tchars_num\tint\n",
              "\n",
              "Rows: 10\n",
              "\n",
              "Data:\n",
              "+------------------------------+-------------------------------+\n",
              "|             link             |              text             |\n",
              "+------------------------------+-------------------------------+\n",
              "| /stories/plain-text/advs.txt | THE ADVENTURES OF SHERLOCK... |\n",
              "| /stories/plain-text/mems.txt | THE MEMOIRS OF SHERLOCK HO... |\n",
              "| /stories/plain-text/retn.txt | THE RETURN OF SHERLOCK HOL... |\n",
              "| /stories/plain-text/lstb.txt | HIS LAST BOW\\n\\n          ... |\n",
              "| /stories/plain-text/stud.txt | A STUDY IN SCARLET\\n\\n    ... |\n",
              "| /stories/plain-text/sign.txt | THE SIGN OF THE FOUR\\n\\n  ... |\n",
              "| /stories/plain-text/houn.txt | THE HOUND OF THE BASKERVIL... |\n",
              "| /stories/plain-text/vall.txt | THE VALLEY OF FEAR\\n\\n    ... |\n",
              "| /stories/plain-text/scan.txt | A SCANDAL IN BOHEMIA\\n\\n  ... |\n",
              "| /stories/plain-text/redh.txt | THE RED-HEADED LEAGUE\\n\\n ... |\n",
              "+------------------------------+-------------------------------+\n",
              "+--------------------------------+-----------+\n",
              "|             title              | chars_num |\n",
              "+--------------------------------+-----------+\n",
              "| The Adventures of Sherlock...  |   610836  |\n",
              "| The Memoirs of Sherlock Holmes |   511733  |\n",
              "| The Return of Sherlock Holmes  |   662236  |\n",
              "|          His Last Bow          |   402289  |\n",
              "|       A Study In Scarlet       |   260045  |\n",
              "|      The Sign of the Four      |   251806  |\n",
              "| The Hound of the Baskervilles  |   346398  |\n",
              "|       The Valley of Fear       |   340222  |\n",
              "|      A Scandal in Bohemia      |   51395   |\n",
              "|     The Red-Headed League      |   54136   |\n",
              "+--------------------------------+-----------+\n",
              "[10 rows x 4 columns]"
            ],
            "text/html": [
              "<div style=\"max-height:1000px;max-width:1500px;overflow:auto;\"><table frame=\"box\" rules=\"cols\">\n",
              "    <tr>\n",
              "        <th style=\"padding-left: 1em; padding-right: 1em; text-align: center\">link</th>\n",
              "        <th style=\"padding-left: 1em; padding-right: 1em; text-align: center\">text</th>\n",
              "        <th style=\"padding-left: 1em; padding-right: 1em; text-align: center\">title</th>\n",
              "        <th style=\"padding-left: 1em; padding-right: 1em; text-align: center\">chars_num</th>\n",
              "    </tr>\n",
              "    <tr>\n",
              "        <td style=\"padding-left: 1em; padding-right: 1em; text-align: center; vertical-align: top\">/stories/plain-<br>text/advs.txt ...</td>\n",
              "        <td style=\"padding-left: 1em; padding-right: 1em; text-align: center; vertical-align: top\">THE ADVENTURES OF<br>SHERLOCK HOLMES\\n\\n ...</td>\n",
              "        <td style=\"padding-left: 1em; padding-right: 1em; text-align: center; vertical-align: top\">The Adventures of<br>Sherlock Holmes ...</td>\n",
              "        <td style=\"padding-left: 1em; padding-right: 1em; text-align: center; vertical-align: top\">610836</td>\n",
              "    </tr>\n",
              "    <tr>\n",
              "        <td style=\"padding-left: 1em; padding-right: 1em; text-align: center; vertical-align: top\">/stories/plain-<br>text/mems.txt ...</td>\n",
              "        <td style=\"padding-left: 1em; padding-right: 1em; text-align: center; vertical-align: top\">THE MEMOIRS OF SHERLOCK<br>HOLMES\\n\\n ...</td>\n",
              "        <td style=\"padding-left: 1em; padding-right: 1em; text-align: center; vertical-align: top\">The Memoirs of Sherlock<br>Holmes ...</td>\n",
              "        <td style=\"padding-left: 1em; padding-right: 1em; text-align: center; vertical-align: top\">511733</td>\n",
              "    </tr>\n",
              "    <tr>\n",
              "        <td style=\"padding-left: 1em; padding-right: 1em; text-align: center; vertical-align: top\">/stories/plain-<br>text/retn.txt ...</td>\n",
              "        <td style=\"padding-left: 1em; padding-right: 1em; text-align: center; vertical-align: top\">THE RETURN OF SHERLOCK<br>HOLMES\\n\\n ...</td>\n",
              "        <td style=\"padding-left: 1em; padding-right: 1em; text-align: center; vertical-align: top\">The Return of Sherlock<br>Holmes ...</td>\n",
              "        <td style=\"padding-left: 1em; padding-right: 1em; text-align: center; vertical-align: top\">662236</td>\n",
              "    </tr>\n",
              "    <tr>\n",
              "        <td style=\"padding-left: 1em; padding-right: 1em; text-align: center; vertical-align: top\">/stories/plain-<br>text/lstb.txt ...</td>\n",
              "        <td style=\"padding-left: 1em; padding-right: 1em; text-align: center; vertical-align: top\">HIS LAST BOW\\n\\n<br>Arthur Conan ...</td>\n",
              "        <td style=\"padding-left: 1em; padding-right: 1em; text-align: center; vertical-align: top\">His Last Bow</td>\n",
              "        <td style=\"padding-left: 1em; padding-right: 1em; text-align: center; vertical-align: top\">402289</td>\n",
              "    </tr>\n",
              "    <tr>\n",
              "        <td style=\"padding-left: 1em; padding-right: 1em; text-align: center; vertical-align: top\">/stories/plain-<br>text/stud.txt ...</td>\n",
              "        <td style=\"padding-left: 1em; padding-right: 1em; text-align: center; vertical-align: top\">A STUDY IN SCARLET\\n\\n<br>Arthur Conan ...</td>\n",
              "        <td style=\"padding-left: 1em; padding-right: 1em; text-align: center; vertical-align: top\">A Study In Scarlet</td>\n",
              "        <td style=\"padding-left: 1em; padding-right: 1em; text-align: center; vertical-align: top\">260045</td>\n",
              "    </tr>\n",
              "    <tr>\n",
              "        <td style=\"padding-left: 1em; padding-right: 1em; text-align: center; vertical-align: top\">/stories/plain-<br>text/sign.txt ...</td>\n",
              "        <td style=\"padding-left: 1em; padding-right: 1em; text-align: center; vertical-align: top\">THE SIGN OF THE FOUR\\n\\n<br>Arthur Conan ...</td>\n",
              "        <td style=\"padding-left: 1em; padding-right: 1em; text-align: center; vertical-align: top\">The Sign of the Four</td>\n",
              "        <td style=\"padding-left: 1em; padding-right: 1em; text-align: center; vertical-align: top\">251806</td>\n",
              "    </tr>\n",
              "    <tr>\n",
              "        <td style=\"padding-left: 1em; padding-right: 1em; text-align: center; vertical-align: top\">/stories/plain-<br>text/houn.txt ...</td>\n",
              "        <td style=\"padding-left: 1em; padding-right: 1em; text-align: center; vertical-align: top\">THE HOUND OF THE<br>BASKERVILLES\\n\\n ...</td>\n",
              "        <td style=\"padding-left: 1em; padding-right: 1em; text-align: center; vertical-align: top\">The Hound of the<br>Baskervilles ...</td>\n",
              "        <td style=\"padding-left: 1em; padding-right: 1em; text-align: center; vertical-align: top\">346398</td>\n",
              "    </tr>\n",
              "    <tr>\n",
              "        <td style=\"padding-left: 1em; padding-right: 1em; text-align: center; vertical-align: top\">/stories/plain-<br>text/vall.txt ...</td>\n",
              "        <td style=\"padding-left: 1em; padding-right: 1em; text-align: center; vertical-align: top\">THE VALLEY OF FEAR\\n\\n<br>Arthur Conan ...</td>\n",
              "        <td style=\"padding-left: 1em; padding-right: 1em; text-align: center; vertical-align: top\">The Valley of Fear</td>\n",
              "        <td style=\"padding-left: 1em; padding-right: 1em; text-align: center; vertical-align: top\">340222</td>\n",
              "    </tr>\n",
              "    <tr>\n",
              "        <td style=\"padding-left: 1em; padding-right: 1em; text-align: center; vertical-align: top\">/stories/plain-<br>text/scan.txt ...</td>\n",
              "        <td style=\"padding-left: 1em; padding-right: 1em; text-align: center; vertical-align: top\">A SCANDAL IN BOHEMIA\\n\\n<br>Arthur Conan ...</td>\n",
              "        <td style=\"padding-left: 1em; padding-right: 1em; text-align: center; vertical-align: top\">A Scandal in Bohemia</td>\n",
              "        <td style=\"padding-left: 1em; padding-right: 1em; text-align: center; vertical-align: top\">51395</td>\n",
              "    </tr>\n",
              "    <tr>\n",
              "        <td style=\"padding-left: 1em; padding-right: 1em; text-align: center; vertical-align: top\">/stories/plain-<br>text/redh.txt ...</td>\n",
              "        <td style=\"padding-left: 1em; padding-right: 1em; text-align: center; vertical-align: top\">THE RED-HEADED LEAGUE\\n\\n<br>Arthur Conan ...</td>\n",
              "        <td style=\"padding-left: 1em; padding-right: 1em; text-align: center; vertical-align: top\">The Red-Headed League</td>\n",
              "        <td style=\"padding-left: 1em; padding-right: 1em; text-align: center; vertical-align: top\">54136</td>\n",
              "    </tr>\n",
              "</table>\n",
              "[10 rows x 4 columns]<br/>\n",
              "</div>"
            ]
          },
          "metadata": {},
          "execution_count": 9
        }
      ]
    },
    {
      "cell_type": "markdown",
      "source": [
        "It works like pandas Dataframe. We can pass directly a dataframe to the SFrame class."
      ],
      "metadata": {
        "id": "EnVlbwaKBdhC"
      }
    },
    {
      "cell_type": "markdown",
      "source": [
        "Let's show the distribution of our text length column"
      ],
      "metadata": {
        "id": "u5jG7fM0BsFq"
      }
    },
    {
      "cell_type": "code",
      "source": [
        "sf['chars_num'].show()"
      ],
      "metadata": {
        "colab": {
          "base_uri": "https://localhost:8080/",
          "height": 809
        },
        "id": "X95raInNBWUh",
        "outputId": "5f2082de-c585-4cf1-9112-fa6ba0d6c84f"
      },
      "execution_count": 10,
      "outputs": [
        {
          "output_type": "display_data",
          "data": {
            "text/plain": [
              "Materializing SArray"
            ],
            "text/html": [
              "<pre>Materializing SArray</pre>"
            ]
          },
          "metadata": {}
        },
        {
          "output_type": "display_data",
          "data": {
            "text/plain": [
              "<IPython.core.display.HTML object>"
            ],
            "text/html": [
              "<html>                 <body>                     <iframe style=\"border:0;margin:0\" width=\"920\" height=\"770\" srcdoc='<html lang=\"en\">                         <head>                             <script src=\"https://cdnjs.cloudflare.com/ajax/libs/vega/5.4.0/vega.js\"></script>                             <script src=\"https://cdnjs.cloudflare.com/ajax/libs/vega-embed/4.0.0/vega-embed.js\"></script>                             <script src=\"https://cdnjs.cloudflare.com/ajax/libs/vega-tooltip/0.5.1/vega-tooltip.min.js\"></script>                             <link rel=\"stylesheet\" type=\"text/css\" href=\"https://cdnjs.cloudflare.com/ajax/libs/vega-tooltip/0.5.1/vega-tooltip.min.css\">                             <style>                             .vega-actions > a{                                 color:white;                                 text-decoration: none;                                 font-family: \"Arial\";                                 cursor:pointer;                                 padding:5px;                                 background:#AAAAAA;                                 border-radius:4px;                                 padding-left:10px;                                 padding-right:10px;                                 margin-right:5px;                             }                             .vega-actions{                                 margin-top:20px;                                 text-align:center                             }                            .vega-actions > a{                                 background:#999999;                            }                             </style>                         </head>                         <body>                             <div id=\"vis\">                             </div>                             <script>                                 var vega_json = \"{\\\"$schema\\\": \\\"https://vega.github.io/schema/vega/v4.json\\\", \\\"description\\\": \\\"A simple bar chart with embedded data.\\\", \\\"autosize\\\": {\\\"type\\\": \\\"fit\\\", \\\"resize\\\": false, \\\"contains\\\": \\\"padding\\\"}, \\\"width\\\": 720, \\\"height\\\": 550, \\\"padding\\\": 8, \\\"title\\\": \\\"Distribution of Values [integer]\\\", \\\"style\\\": \\\"cell\\\", \\\"signals\\\": [{\\\"name\\\": \\\"bins\\\", \\\"update\\\": \\\"data(\\\\\\\"bins_data\\\\\\\")[0]\\\"}, {\\\"name\\\": \\\"binCount\\\", \\\"update\\\": \\\"(bins.stop - bins.start) / bins.step\\\"}, {\\\"name\\\": \\\"nullGap\\\", \\\"update\\\": \\\"data(\\\\\\\"nulls\\\\\\\").length ? 10 : 0\\\"}, {\\\"name\\\": \\\"barStep\\\", \\\"update\\\": \\\"(width - nullGap) / (1 + binCount)\\\"}], \\\"data\\\": [{\\\"name\\\": \\\"source_2\\\", \\\"values\\\": [{\\\"left\\\": 25285, \\\"right\\\": 57284, \\\"count\\\": 46}, {\\\"left\\\": 57284, \\\"right\\\": 89283, \\\"count\\\": 10}, {\\\"left\\\": 89283, \\\"right\\\": 121282, \\\"count\\\": 0}, {\\\"left\\\": 121282, \\\"right\\\": 153281, \\\"count\\\": 0}, {\\\"left\\\": 153281, \\\"right\\\": 185280, \\\"count\\\": 0}, {\\\"left\\\": 185280, \\\"right\\\": 217279, \\\"count\\\": 0}, {\\\"left\\\": 217279, \\\"right\\\": 249278, \\\"count\\\": 0}, {\\\"left\\\": 249278, \\\"right\\\": 281277, \\\"count\\\": 2}, {\\\"left\\\": 281277, \\\"right\\\": 313276, \\\"count\\\": 0}, {\\\"left\\\": 313276, \\\"right\\\": 345275, \\\"count\\\": 1}, {\\\"left\\\": 345275, \\\"right\\\": 377274, \\\"count\\\": 1}, {\\\"left\\\": 377274, \\\"right\\\": 409273, \\\"count\\\": 1}, {\\\"left\\\": 409273, \\\"right\\\": 441272, \\\"count\\\": 0}, {\\\"left\\\": 441272, \\\"right\\\": 473271, \\\"count\\\": 0}, {\\\"left\\\": 473271, \\\"right\\\": 505270, \\\"count\\\": 0}, {\\\"left\\\": 505270, \\\"right\\\": 537269, \\\"count\\\": 1}, {\\\"left\\\": 537269, \\\"right\\\": 569268, \\\"count\\\": 0}, {\\\"left\\\": 569268, \\\"right\\\": 601267, \\\"count\\\": 0}, {\\\"left\\\": 601267, \\\"right\\\": 633266, \\\"count\\\": 1}, {\\\"left\\\": 633266, \\\"right\\\": 665265, \\\"count\\\": 1}, {\\\"start\\\": 25285, \\\"stop\\\": 665284, \\\"step\\\": 31999}]}, {\\\"name\\\": \\\"counts\\\", \\\"source\\\": \\\"source_2\\\", \\\"transform\\\": [{\\\"type\\\": \\\"filter\\\", \\\"expr\\\": \\\"datum[\\\\\\\"missing\\\\\\\"] !== true &amp;&amp; datum[\\\\\\\"count\\\\\\\"] != null\\\"}]}, {\\\"name\\\": \\\"nulls\\\", \\\"source\\\": \\\"source_2\\\", \\\"transform\\\": [{\\\"expr\\\": \\\"datum[\\\\\\\"missing\\\\\\\"] === true &amp;&amp; datum[\\\\\\\"count\\\\\\\"] != null\\\", \\\"type\\\": \\\"filter\\\"}]}, {\\\"name\\\": \\\"bins_data\\\", \\\"source\\\": \\\"source_2\\\", \\\"transform\\\": [{\\\"expr\\\": \\\"datum[\\\\\\\"start\\\\\\\"] != null &amp;&amp; datum[\\\\\\\"stop\\\\\\\"] != null &amp;&amp; datum[\\\\\\\"step\\\\\\\"] != null\\\", \\\"type\\\": \\\"filter\\\"}]}], \\\"marks\\\": [{\\\"type\\\": \\\"rect\\\", \\\"from\\\": {\\\"data\\\": \\\"counts\\\"}, \\\"encode\\\": {\\\"update\\\": {\\\"x\\\": {\\\"scale\\\": \\\"xscale\\\", \\\"field\\\": \\\"left\\\", \\\"offset\\\": 1}, \\\"x2\\\": {\\\"scale\\\": \\\"xscale\\\", \\\"field\\\": \\\"right\\\"}, \\\"y\\\": {\\\"scale\\\": \\\"yscale\\\", \\\"field\\\": \\\"count\\\"}, \\\"y2\\\": {\\\"scale\\\": \\\"yscale\\\", \\\"value\\\": 0}, \\\"fill\\\": {\\\"value\\\": \\\"#108EE9\\\"}}, \\\"hover\\\": {\\\"fill\\\": {\\\"value\\\": \\\"#7EC2F3\\\"}}}}, {\\\"type\\\": \\\"rect\\\", \\\"from\\\": {\\\"data\\\": \\\"nulls\\\"}, \\\"encode\\\": {\\\"update\\\": {\\\"x\\\": {\\\"scale\\\": \\\"xscale-null\\\", \\\"value\\\": null, \\\"offset\\\": 1}, \\\"x2\\\": {\\\"scale\\\": \\\"xscale-null\\\", \\\"band\\\": 1}, \\\"y\\\": {\\\"scale\\\": \\\"yscale\\\", \\\"field\\\": \\\"count\\\"}, \\\"y2\\\": {\\\"scale\\\": \\\"yscale\\\", \\\"value\\\": 0}, \\\"fill\\\": {\\\"value\\\": \\\"#108EE9\\\"}}, \\\"hover\\\": {\\\"fill\\\": {\\\"value\\\": \\\"#7EC2F3\\\"}}}}], \\\"scales\\\": [{\\\"name\\\": \\\"yscale\\\", \\\"type\\\": \\\"linear\\\", \\\"range\\\": \\\"height\\\", \\\"round\\\": true, \\\"nice\\\": true, \\\"domain\\\": {\\\"fields\\\": [{\\\"data\\\": \\\"counts\\\", \\\"field\\\": \\\"count\\\"}, {\\\"data\\\": \\\"nulls\\\", \\\"field\\\": \\\"count\\\"}]}}, {\\\"name\\\": \\\"xscale\\\", \\\"type\\\": \\\"linear\\\", \\\"range\\\": [{\\\"signal\\\": \\\"nullGap ? barStep + nullGap : 0\\\"}, {\\\"signal\\\": \\\"width\\\"}], \\\"round\\\": true, \\\"domain\\\": {\\\"signal\\\": \\\"[bins.start, bins.stop]\\\"}, \\\"bins\\\": {\\\"signal\\\": \\\"bins\\\"}}, {\\\"name\\\": \\\"xscale-null\\\", \\\"type\\\": \\\"band\\\", \\\"range\\\": [{\\\"signal\\\": \\\"nullGap ? 0 : 1\\\"}, {\\\"signal\\\": \\\"nullGap ? barStep : 0\\\"}], \\\"round\\\": true, \\\"domain\\\": [{\\\"signal\\\": \\\"nullGap ? null : &apos;&apos;\\\"}]}], \\\"axes\\\": [{\\\"title\\\": \\\"Values\\\", \\\"orient\\\": \\\"bottom\\\", \\\"scale\\\": \\\"xscale\\\", \\\"tickMinStep\\\": 1, \\\"grid\\\": true}, {\\\"orient\\\": \\\"bottom\\\", \\\"scale\\\": \\\"xscale-null\\\"}, {\\\"title\\\": \\\"Count\\\", \\\"orient\\\": \\\"left\\\", \\\"scale\\\": \\\"yscale\\\", \\\"tickCount\\\": 5, \\\"offset\\\": {\\\"signal\\\": \\\"nullGap ? 5 : 0\\\"}, \\\"grid\\\": true}], \\\"config\\\": {\\\"axis\\\": {\\\"gridColor\\\": \\\"rgba(204,204,204,1.0)\\\", \\\"labelFont\\\": \\\"\\\\\\\"San Francisco\\\\\\\", HelveticaNeue, Arial\\\", \\\"labelFontSize\\\": 12, \\\"labelPadding\\\": 10, \\\"labelColor\\\": \\\"rgba(0,0,0,0.847)\\\", \\\"tickColor\\\": \\\"rgb(136,136,136)\\\", \\\"titleFont\\\": \\\"\\\\\\\"San Francisco\\\\\\\", HelveticaNeue, Arial\\\", \\\"titleFontWeight\\\": \\\"normal\\\", \\\"titlePadding\\\": 20, \\\"titleFontSize\\\": 14, \\\"titleColor\\\": \\\"rgba(0,0,0,0.847)\\\"}, \\\"axisY\\\": {\\\"minExtent\\\": 30}, \\\"legend\\\": {\\\"labelFont\\\": \\\"\\\\\\\"San Francisco\\\\\\\", HelveticaNeue, Arial\\\", \\\"labelColor\\\": \\\"rgba(0,0,0,0.847)\\\", \\\"titleFont\\\": \\\"\\\\\\\"San Francisco\\\\\\\", HelveticaNeue, Arial\\\", \\\"cornerRadius\\\": 30, \\\"gradientLength\\\": 608, \\\"titleColor\\\": \\\"rgba(0,0,0,0.847)\\\"}, \\\"range\\\": {\\\"heatmap\\\": {\\\"scheme\\\": \\\"greenblue\\\"}}, \\\"style\\\": {\\\"rect\\\": {\\\"stroke\\\": \\\"rgba(200, 200, 200, 0.5)\\\"}, \\\"cell\\\": {\\\"stroke\\\": \\\"transparent\\\"}, \\\"group-title\\\": {\\\"fontSize\\\": 29, \\\"font\\\": \\\"HelveticaNeue, Arial\\\", \\\"fontWeight\\\": \\\"normal\\\", \\\"fill\\\": \\\"rgba(0,0,0,0.65)\\\"}}, \\\"title\\\": {\\\"color\\\": \\\"rgba(0,0,0,0.847)\\\", \\\"font\\\": \\\"\\\\\\\"San Francisco\\\\\\\", HelveticaNeue, Arial\\\", \\\"fontSize\\\": 18, \\\"fontWeight\\\": \\\"normal\\\", \\\"offset\\\": 30}}}\";                                 var vega_json_parsed = JSON.parse(vega_json);                                 var toolTipOpts = {                                     showAllFields: true                                 };                                 if(vega_json_parsed[\"metadata\"] != null){                                     if(vega_json_parsed[\"metadata\"][\"bubbleOpts\"] != null){                                         toolTipOpts = vega_json_parsed[\"metadata\"][\"bubbleOpts\"];                                     };                                 };                                 vegaEmbed(\"#vis\", vega_json_parsed).then(function (result) {                                     vegaTooltip.vega(result.view, toolTipOpts);                                  });                             </script>                         </body>                     </html>' src=\"demo_iframe_srcdoc.htm\">                         <p>Your browser does not support iframes.</p>                     </iframe>                 </body>             </html>"
            ]
          },
          "metadata": {}
        }
      ]
    },
    {
      "cell_type": "markdown",
      "source": [
        "Let's calculate the number of words in each text with nltk."
      ],
      "metadata": {
        "id": "QoOY7YYkCAal"
      }
    },
    {
      "cell_type": "code",
      "source": [
        "import nltk"
      ],
      "metadata": {
        "id": "WYpEDB7EBwkO"
      },
      "execution_count": 11,
      "outputs": []
    },
    {
      "cell_type": "markdown",
      "source": [
        "Let's use a tokenizer which recuperate only words."
      ],
      "metadata": {
        "id": "2ErKD8_hC4WI"
      }
    },
    {
      "cell_type": "code",
      "source": [
        "tokenizer = nltk.RegexpTokenizer('\\w+')"
      ],
      "metadata": {
        "id": "NpNL_XAdCiVg"
      },
      "execution_count": 12,
      "outputs": []
    },
    {
      "cell_type": "code",
      "source": [
        "sf['words_num'] = sf['text'].apply(lambda t: len(tokenizer.tokenize(t)))"
      ],
      "metadata": {
        "id": "g-GHQa7bCqje"
      },
      "execution_count": 13,
      "outputs": []
    },
    {
      "cell_type": "code",
      "source": [
        "sf.head(10)"
      ],
      "metadata": {
        "colab": {
          "base_uri": "https://localhost:8080/",
          "height": 423
        },
        "id": "Ph6j9w6lCzEP",
        "outputId": "68a71732-653b-41c8-f749-fc342bbe9c59"
      },
      "execution_count": 14,
      "outputs": [
        {
          "output_type": "execute_result",
          "data": {
            "text/plain": [
              "Columns:\n",
              "\tlink\tstr\n",
              "\ttext\tstr\n",
              "\ttitle\tstr\n",
              "\tchars_num\tint\n",
              "\twords_num\tint\n",
              "\n",
              "Rows: 10\n",
              "\n",
              "Data:\n",
              "+------------------------------+-------------------------------+\n",
              "|             link             |              text             |\n",
              "+------------------------------+-------------------------------+\n",
              "| /stories/plain-text/advs.txt | THE ADVENTURES OF SHERLOCK... |\n",
              "| /stories/plain-text/mems.txt | THE MEMOIRS OF SHERLOCK HO... |\n",
              "| /stories/plain-text/retn.txt | THE RETURN OF SHERLOCK HOL... |\n",
              "| /stories/plain-text/lstb.txt | HIS LAST BOW\\n\\n          ... |\n",
              "| /stories/plain-text/stud.txt | A STUDY IN SCARLET\\n\\n    ... |\n",
              "| /stories/plain-text/sign.txt | THE SIGN OF THE FOUR\\n\\n  ... |\n",
              "| /stories/plain-text/houn.txt | THE HOUND OF THE BASKERVIL... |\n",
              "| /stories/plain-text/vall.txt | THE VALLEY OF FEAR\\n\\n    ... |\n",
              "| /stories/plain-text/scan.txt | A SCANDAL IN BOHEMIA\\n\\n  ... |\n",
              "| /stories/plain-text/redh.txt | THE RED-HEADED LEAGUE\\n\\n ... |\n",
              "+------------------------------+-------------------------------+\n",
              "+--------------------------------+-----------+-----------+\n",
              "|             title              | chars_num | words_num |\n",
              "+--------------------------------+-----------+-----------+\n",
              "| The Adventures of Sherlock...  |   610836  |   106032  |\n",
              "| The Memoirs of Sherlock Holmes |   511733  |   88496   |\n",
              "| The Return of Sherlock Holmes  |   662236  |   114457  |\n",
              "|          His Last Bow          |   402289  |   68918   |\n",
              "|       A Study In Scarlet       |   260045  |   44205   |\n",
              "|      The Sign of the Four      |   251806  |   43951   |\n",
              "| The Hound of the Baskervilles  |   346398  |   60103   |\n",
              "|       The Valley of Fear       |   340222  |   59098   |\n",
              "|      A Scandal in Bohemia      |   51395   |    8751   |\n",
              "|     The Red-Headed League      |   54136   |    9370   |\n",
              "+--------------------------------+-----------+-----------+\n",
              "[10 rows x 5 columns]"
            ],
            "text/html": [
              "<div style=\"max-height:1000px;max-width:1500px;overflow:auto;\"><table frame=\"box\" rules=\"cols\">\n",
              "    <tr>\n",
              "        <th style=\"padding-left: 1em; padding-right: 1em; text-align: center\">link</th>\n",
              "        <th style=\"padding-left: 1em; padding-right: 1em; text-align: center\">text</th>\n",
              "        <th style=\"padding-left: 1em; padding-right: 1em; text-align: center\">title</th>\n",
              "        <th style=\"padding-left: 1em; padding-right: 1em; text-align: center\">chars_num</th>\n",
              "        <th style=\"padding-left: 1em; padding-right: 1em; text-align: center\">words_num</th>\n",
              "    </tr>\n",
              "    <tr>\n",
              "        <td style=\"padding-left: 1em; padding-right: 1em; text-align: center; vertical-align: top\">/stories/plain-<br>text/advs.txt ...</td>\n",
              "        <td style=\"padding-left: 1em; padding-right: 1em; text-align: center; vertical-align: top\">THE ADVENTURES OF<br>SHERLOCK HOLMES\\n\\n ...</td>\n",
              "        <td style=\"padding-left: 1em; padding-right: 1em; text-align: center; vertical-align: top\">The Adventures of<br>Sherlock Holmes ...</td>\n",
              "        <td style=\"padding-left: 1em; padding-right: 1em; text-align: center; vertical-align: top\">610836</td>\n",
              "        <td style=\"padding-left: 1em; padding-right: 1em; text-align: center; vertical-align: top\">106032</td>\n",
              "    </tr>\n",
              "    <tr>\n",
              "        <td style=\"padding-left: 1em; padding-right: 1em; text-align: center; vertical-align: top\">/stories/plain-<br>text/mems.txt ...</td>\n",
              "        <td style=\"padding-left: 1em; padding-right: 1em; text-align: center; vertical-align: top\">THE MEMOIRS OF SHERLOCK<br>HOLMES\\n\\n ...</td>\n",
              "        <td style=\"padding-left: 1em; padding-right: 1em; text-align: center; vertical-align: top\">The Memoirs of Sherlock<br>Holmes ...</td>\n",
              "        <td style=\"padding-left: 1em; padding-right: 1em; text-align: center; vertical-align: top\">511733</td>\n",
              "        <td style=\"padding-left: 1em; padding-right: 1em; text-align: center; vertical-align: top\">88496</td>\n",
              "    </tr>\n",
              "    <tr>\n",
              "        <td style=\"padding-left: 1em; padding-right: 1em; text-align: center; vertical-align: top\">/stories/plain-<br>text/retn.txt ...</td>\n",
              "        <td style=\"padding-left: 1em; padding-right: 1em; text-align: center; vertical-align: top\">THE RETURN OF SHERLOCK<br>HOLMES\\n\\n ...</td>\n",
              "        <td style=\"padding-left: 1em; padding-right: 1em; text-align: center; vertical-align: top\">The Return of Sherlock<br>Holmes ...</td>\n",
              "        <td style=\"padding-left: 1em; padding-right: 1em; text-align: center; vertical-align: top\">662236</td>\n",
              "        <td style=\"padding-left: 1em; padding-right: 1em; text-align: center; vertical-align: top\">114457</td>\n",
              "    </tr>\n",
              "    <tr>\n",
              "        <td style=\"padding-left: 1em; padding-right: 1em; text-align: center; vertical-align: top\">/stories/plain-<br>text/lstb.txt ...</td>\n",
              "        <td style=\"padding-left: 1em; padding-right: 1em; text-align: center; vertical-align: top\">HIS LAST BOW\\n\\n<br>Arthur Conan ...</td>\n",
              "        <td style=\"padding-left: 1em; padding-right: 1em; text-align: center; vertical-align: top\">His Last Bow</td>\n",
              "        <td style=\"padding-left: 1em; padding-right: 1em; text-align: center; vertical-align: top\">402289</td>\n",
              "        <td style=\"padding-left: 1em; padding-right: 1em; text-align: center; vertical-align: top\">68918</td>\n",
              "    </tr>\n",
              "    <tr>\n",
              "        <td style=\"padding-left: 1em; padding-right: 1em; text-align: center; vertical-align: top\">/stories/plain-<br>text/stud.txt ...</td>\n",
              "        <td style=\"padding-left: 1em; padding-right: 1em; text-align: center; vertical-align: top\">A STUDY IN SCARLET\\n\\n<br>Arthur Conan ...</td>\n",
              "        <td style=\"padding-left: 1em; padding-right: 1em; text-align: center; vertical-align: top\">A Study In Scarlet</td>\n",
              "        <td style=\"padding-left: 1em; padding-right: 1em; text-align: center; vertical-align: top\">260045</td>\n",
              "        <td style=\"padding-left: 1em; padding-right: 1em; text-align: center; vertical-align: top\">44205</td>\n",
              "    </tr>\n",
              "    <tr>\n",
              "        <td style=\"padding-left: 1em; padding-right: 1em; text-align: center; vertical-align: top\">/stories/plain-<br>text/sign.txt ...</td>\n",
              "        <td style=\"padding-left: 1em; padding-right: 1em; text-align: center; vertical-align: top\">THE SIGN OF THE FOUR\\n\\n<br>Arthur Conan ...</td>\n",
              "        <td style=\"padding-left: 1em; padding-right: 1em; text-align: center; vertical-align: top\">The Sign of the Four</td>\n",
              "        <td style=\"padding-left: 1em; padding-right: 1em; text-align: center; vertical-align: top\">251806</td>\n",
              "        <td style=\"padding-left: 1em; padding-right: 1em; text-align: center; vertical-align: top\">43951</td>\n",
              "    </tr>\n",
              "    <tr>\n",
              "        <td style=\"padding-left: 1em; padding-right: 1em; text-align: center; vertical-align: top\">/stories/plain-<br>text/houn.txt ...</td>\n",
              "        <td style=\"padding-left: 1em; padding-right: 1em; text-align: center; vertical-align: top\">THE HOUND OF THE<br>BASKERVILLES\\n\\n ...</td>\n",
              "        <td style=\"padding-left: 1em; padding-right: 1em; text-align: center; vertical-align: top\">The Hound of the<br>Baskervilles ...</td>\n",
              "        <td style=\"padding-left: 1em; padding-right: 1em; text-align: center; vertical-align: top\">346398</td>\n",
              "        <td style=\"padding-left: 1em; padding-right: 1em; text-align: center; vertical-align: top\">60103</td>\n",
              "    </tr>\n",
              "    <tr>\n",
              "        <td style=\"padding-left: 1em; padding-right: 1em; text-align: center; vertical-align: top\">/stories/plain-<br>text/vall.txt ...</td>\n",
              "        <td style=\"padding-left: 1em; padding-right: 1em; text-align: center; vertical-align: top\">THE VALLEY OF FEAR\\n\\n<br>Arthur Conan ...</td>\n",
              "        <td style=\"padding-left: 1em; padding-right: 1em; text-align: center; vertical-align: top\">The Valley of Fear</td>\n",
              "        <td style=\"padding-left: 1em; padding-right: 1em; text-align: center; vertical-align: top\">340222</td>\n",
              "        <td style=\"padding-left: 1em; padding-right: 1em; text-align: center; vertical-align: top\">59098</td>\n",
              "    </tr>\n",
              "    <tr>\n",
              "        <td style=\"padding-left: 1em; padding-right: 1em; text-align: center; vertical-align: top\">/stories/plain-<br>text/scan.txt ...</td>\n",
              "        <td style=\"padding-left: 1em; padding-right: 1em; text-align: center; vertical-align: top\">A SCANDAL IN BOHEMIA\\n\\n<br>Arthur Conan ...</td>\n",
              "        <td style=\"padding-left: 1em; padding-right: 1em; text-align: center; vertical-align: top\">A Scandal in Bohemia</td>\n",
              "        <td style=\"padding-left: 1em; padding-right: 1em; text-align: center; vertical-align: top\">51395</td>\n",
              "        <td style=\"padding-left: 1em; padding-right: 1em; text-align: center; vertical-align: top\">8751</td>\n",
              "    </tr>\n",
              "    <tr>\n",
              "        <td style=\"padding-left: 1em; padding-right: 1em; text-align: center; vertical-align: top\">/stories/plain-<br>text/redh.txt ...</td>\n",
              "        <td style=\"padding-left: 1em; padding-right: 1em; text-align: center; vertical-align: top\">THE RED-HEADED LEAGUE\\n\\n<br>Arthur Conan ...</td>\n",
              "        <td style=\"padding-left: 1em; padding-right: 1em; text-align: center; vertical-align: top\">The Red-Headed League</td>\n",
              "        <td style=\"padding-left: 1em; padding-right: 1em; text-align: center; vertical-align: top\">54136</td>\n",
              "        <td style=\"padding-left: 1em; padding-right: 1em; text-align: center; vertical-align: top\">9370</td>\n",
              "    </tr>\n",
              "</table>\n",
              "[10 rows x 5 columns]<br/>\n",
              "</div>"
            ]
          },
          "metadata": {},
          "execution_count": 14
        }
      ]
    },
    {
      "cell_type": "code",
      "source": [
        "# let's use the sent tokenizer to get the sentences but only english chars\n",
        "def to_sentences(txt: str, remove_none_english_chars: bool = True):\n",
        "  \"\"\"Split text into sentences\n",
        "  \"\"\"\n",
        "\n",
        "  for s in nltk.sent_tokenize(txt):\n",
        "    if remove_none_english_chars:\n",
        "\n",
        "      # remove non english chars\n",
        "      s = re.sub(\"[^a-zA-Z]\", \" \", s)\n",
        "    yield s\n",
        "  "
      ],
      "metadata": {
        "id": "XcuqGcdzC1IX"
      },
      "execution_count": 15,
      "outputs": []
    },
    {
      "cell_type": "code",
      "source": [
        "nltk.download('punkt')"
      ],
      "metadata": {
        "colab": {
          "base_uri": "https://localhost:8080/"
        },
        "id": "5kpJ1YCiyfqm",
        "outputId": "1fd17fe5-9125-4e32-caf1-5cdea5d32283"
      },
      "execution_count": 16,
      "outputs": [
        {
          "output_type": "stream",
          "name": "stderr",
          "text": [
            "[nltk_data] Downloading package punkt to /root/nltk_data...\n",
            "[nltk_data]   Package punkt is already up-to-date!\n"
          ]
        },
        {
          "output_type": "execute_result",
          "data": {
            "text/plain": [
              "True"
            ]
          },
          "metadata": {},
          "execution_count": 16
        }
      ]
    },
    {
      "cell_type": "code",
      "source": [
        "# create a new column containing number of sentences of each text\n",
        "sf[\"sentences_num\"] = sf[\"text\"].apply(lambda t: len(list(to_sentences(t))))"
      ],
      "metadata": {
        "id": "vzdeuq38EAYx"
      },
      "execution_count": 17,
      "outputs": []
    },
    {
      "cell_type": "markdown",
      "source": [
        "Let's show the statistics of the three columns that we created"
      ],
      "metadata": {
        "id": "-qsocaDwEcQl"
      }
    },
    {
      "cell_type": "code",
      "source": [
        "sf[[\"chars_num\", \"words_num\", \"sentences_num\"]].show()"
      ],
      "metadata": {
        "colab": {
          "base_uri": "https://localhost:8080/",
          "height": 1000
        },
        "id": "7foONQ_zEVmc",
        "outputId": "0f63bb53-699c-40de-b05e-2f51a6ab6a4a"
      },
      "execution_count": 18,
      "outputs": [
        {
          "output_type": "display_data",
          "data": {
            "text/plain": [
              "Materializing SFrame"
            ],
            "text/html": [
              "<pre>Materializing SFrame</pre>"
            ]
          },
          "metadata": {}
        },
        {
          "output_type": "display_data",
          "data": {
            "text/plain": [
              "<IPython.core.display.HTML object>"
            ],
            "text/html": [
              "<html>                 <body>                     <iframe style=\"border:0;margin:0\" width=\"1000\" height=\"1200\" srcdoc='<html lang=\"en\">                         <head>                             <script src=\"https://cdnjs.cloudflare.com/ajax/libs/vega/5.4.0/vega.js\"></script>                             <script src=\"https://cdnjs.cloudflare.com/ajax/libs/vega-embed/4.0.0/vega-embed.js\"></script>                             <script src=\"https://cdnjs.cloudflare.com/ajax/libs/vega-tooltip/0.5.1/vega-tooltip.min.js\"></script>                             <link rel=\"stylesheet\" type=\"text/css\" href=\"https://cdnjs.cloudflare.com/ajax/libs/vega-tooltip/0.5.1/vega-tooltip.min.css\">                             <style>                             .vega-actions > a{                                 color:white;                                 text-decoration: none;                                 font-family: \"Arial\";                                 cursor:pointer;                                 padding:5px;                                 background:#AAAAAA;                                 border-radius:4px;                                 padding-left:10px;                                 padding-right:10px;                                 margin-right:5px;                             }                             .vega-actions{                                 margin-top:20px;                                 text-align:center                             }                            .vega-actions > a{                                 background:#999999;                            }                             </style>                         </head>                         <body>                             <div id=\"vis\">                             </div>                             <script>                                 var vega_json = \"{\\\"$schema\\\": \\\"https://vega.github.io/schema/vega/v4.json\\\", \\\"metadata\\\": {\\\"bubbleOpts\\\": {\\\"showAllFields\\\": false, \\\"fields\\\": [{\\\"field\\\": \\\"left\\\"}, {\\\"field\\\": \\\"right\\\"}, {\\\"field\\\": \\\"count\\\"}, {\\\"field\\\": \\\"label\\\"}]}}, \\\"width\\\": 800, \\\"height\\\": 980, \\\"padding\\\": 8, \\\"data\\\": [{\\\"name\\\": \\\"pts_store\\\"}, {\\\"name\\\": \\\"source_2\\\", \\\"values\\\": [{\\\"a\\\": 0, \\\"title\\\": \\\"chars_num\\\", \\\"num_row\\\": 64, \\\"type\\\": \\\"integer\\\", \\\"num_unique\\\": 64, \\\"num_missing\\\": 0, \\\"mean\\\": 95017.640625, \\\"min\\\": 26234.0, \\\"max\\\": 662236.0, \\\"median\\\": 48930.0, \\\"stdev\\\": 134590.148909, \\\"numeric\\\": [{\\\"left\\\": 25285, \\\"right\\\": 57284, \\\"count\\\": 46}, {\\\"left\\\": 57284, \\\"right\\\": 89283, \\\"count\\\": 10}, {\\\"left\\\": 89283, \\\"right\\\": 121282, \\\"count\\\": 0}, {\\\"left\\\": 121282, \\\"right\\\": 153281, \\\"count\\\": 0}, {\\\"left\\\": 153281, \\\"right\\\": 185280, \\\"count\\\": 0}, {\\\"left\\\": 185280, \\\"right\\\": 217279, \\\"count\\\": 0}, {\\\"left\\\": 217279, \\\"right\\\": 249278, \\\"count\\\": 0}, {\\\"left\\\": 249278, \\\"right\\\": 281277, \\\"count\\\": 2}, {\\\"left\\\": 281277, \\\"right\\\": 313276, \\\"count\\\": 0}, {\\\"left\\\": 313276, \\\"right\\\": 345275, \\\"count\\\": 1}, {\\\"left\\\": 345275, \\\"right\\\": 377274, \\\"count\\\": 1}, {\\\"left\\\": 377274, \\\"right\\\": 409273, \\\"count\\\": 1}, {\\\"left\\\": 409273, \\\"right\\\": 441272, \\\"count\\\": 0}, {\\\"left\\\": 441272, \\\"right\\\": 473271, \\\"count\\\": 0}, {\\\"left\\\": 473271, \\\"right\\\": 505270, \\\"count\\\": 0}, {\\\"left\\\": 505270, \\\"right\\\": 537269, \\\"count\\\": 1}, {\\\"left\\\": 537269, \\\"right\\\": 569268, \\\"count\\\": 0}, {\\\"left\\\": 569268, \\\"right\\\": 601267, \\\"count\\\": 0}, {\\\"left\\\": 601267, \\\"right\\\": 633266, \\\"count\\\": 1}, {\\\"left\\\": 633266, \\\"right\\\": 665265, \\\"count\\\": 1}, {\\\"start\\\": 25285, \\\"stop\\\": 665284, \\\"step\\\": 31999}], \\\"categorical\\\": []}, {\\\"a\\\": 1, \\\"title\\\": \\\"words_num\\\", \\\"num_row\\\": 64, \\\"type\\\": \\\"integer\\\", \\\"num_unique\\\": 64, \\\"num_missing\\\": 0, \\\"mean\\\": 16420.21875, \\\"min\\\": 4622.0, \\\"max\\\": 114457.0, \\\"median\\\": 8483.0, \\\"stdev\\\": 23279.802715, \\\"numeric\\\": [{\\\"left\\\": 1936, \\\"right\\\": 7696, \\\"count\\\": 22}, {\\\"left\\\": 7696, \\\"right\\\": 13456, \\\"count\\\": 34}, {\\\"left\\\": 13456, \\\"right\\\": 19216, \\\"count\\\": 0}, {\\\"left\\\": 19216, \\\"right\\\": 24976, \\\"count\\\": 0}, {\\\"left\\\": 24976, \\\"right\\\": 30736, \\\"count\\\": 0}, {\\\"left\\\": 30736, \\\"right\\\": 36496, \\\"count\\\": 0}, {\\\"left\\\": 36496, \\\"right\\\": 42256, \\\"count\\\": 0}, {\\\"left\\\": 42256, \\\"right\\\": 48016, \\\"count\\\": 2}, {\\\"left\\\": 48016, \\\"right\\\": 53776, \\\"count\\\": 0}, {\\\"left\\\": 53776, \\\"right\\\": 59536, \\\"count\\\": 1}, {\\\"left\\\": 59536, \\\"right\\\": 65296, \\\"count\\\": 1}, {\\\"left\\\": 65296, \\\"right\\\": 71056, \\\"count\\\": 1}, {\\\"left\\\": 71056, \\\"right\\\": 76816, \\\"count\\\": 0}, {\\\"left\\\": 76816, \\\"right\\\": 82576, \\\"count\\\": 0}, {\\\"left\\\": 82576, \\\"right\\\": 88336, \\\"count\\\": 0}, {\\\"left\\\": 88336, \\\"right\\\": 94096, \\\"count\\\": 1}, {\\\"left\\\": 94096, \\\"right\\\": 99856, \\\"count\\\": 0}, {\\\"left\\\": 99856, \\\"right\\\": 105616, \\\"count\\\": 0}, {\\\"left\\\": 105616, \\\"right\\\": 111376, \\\"count\\\": 1}, {\\\"left\\\": 111376, \\\"right\\\": 117136, \\\"count\\\": 1}, {\\\"start\\\": 1936, \\\"stop\\\": 117136, \\\"step\\\": 5760}], \\\"categorical\\\": []}, {\\\"a\\\": 2, \\\"title\\\": \\\"sentences_num\\\", \\\"num_row\\\": 64, \\\"type\\\": \\\"integer\\\", \\\"num_unique\\\": 62, \\\"num_missing\\\": 0, \\\"mean\\\": 1108.921875, \\\"min\\\": 334.0, \\\"max\\\": 7807.0, \\\"median\\\": 572.0, \\\"stdev\\\": 1546.263352, \\\"numeric\\\": [{\\\"left\\\": 239, \\\"right\\\": 623, \\\"count\\\": 40}, {\\\"left\\\": 623, \\\"right\\\": 1007, \\\"count\\\": 16}, {\\\"left\\\": 1007, \\\"right\\\": 1391, \\\"count\\\": 0}, {\\\"left\\\": 1391, \\\"right\\\": 1775, \\\"count\\\": 0}, {\\\"left\\\": 1775, \\\"right\\\": 2159, \\\"count\\\": 0}, {\\\"left\\\": 2159, \\\"right\\\": 2543, \\\"count\\\": 0}, {\\\"left\\\": 2543, \\\"right\\\": 2927, \\\"count\\\": 1}, {\\\"left\\\": 2927, \\\"right\\\": 3311, \\\"count\\\": 1}, {\\\"left\\\": 3311, \\\"right\\\": 3695, \\\"count\\\": 0}, {\\\"left\\\": 3695, \\\"right\\\": 4079, \\\"count\\\": 1}, {\\\"left\\\": 4079, \\\"right\\\": 4463, \\\"count\\\": 1}, {\\\"left\\\": 4463, \\\"right\\\": 4847, \\\"count\\\": 0}, {\\\"left\\\": 4847, \\\"right\\\": 5231, \\\"count\\\": 1}, {\\\"left\\\": 5231, \\\"right\\\": 5615, \\\"count\\\": 1}, {\\\"left\\\": 5615, \\\"right\\\": 5999, \\\"count\\\": 0}, {\\\"left\\\": 5999, \\\"right\\\": 6383, \\\"count\\\": 0}, {\\\"left\\\": 6383, \\\"right\\\": 6767, \\\"count\\\": 0}, {\\\"left\\\": 6767, \\\"right\\\": 7151, \\\"count\\\": 1}, {\\\"left\\\": 7151, \\\"right\\\": 7535, \\\"count\\\": 0}, {\\\"left\\\": 7535, \\\"right\\\": 7919, \\\"count\\\": 1}, {\\\"start\\\": 239, \\\"stop\\\": 7919, \\\"step\\\": 384}], \\\"categorical\\\": []}]}, {\\\"name\\\": \\\"data_2\\\", \\\"source\\\": \\\"source_2\\\", \\\"transform\\\": [{\\\"type\\\": \\\"formula\\\", \\\"expr\\\": \\\"20\\\", \\\"as\\\": \\\"c_x_axis_back\\\"}, {\\\"type\\\": \\\"formula\\\", \\\"expr\\\": \\\"toNumber(datum[\\\\\\\"a\\\\\\\"])*300+66\\\", \\\"as\\\": \\\"c_main_background\\\"}, {\\\"type\\\": \\\"formula\\\", \\\"expr\\\": \\\"toNumber(datum[\\\\\\\"a\\\\\\\"])*300+43\\\", \\\"as\\\": \\\"c_top_bar\\\"}, {\\\"type\\\": \\\"formula\\\", \\\"expr\\\": \\\"toNumber(datum[\\\\\\\"a\\\\\\\"])*300+59\\\", \\\"as\\\": \\\"c_top_title\\\"}, {\\\"type\\\": \\\"formula\\\", \\\"expr\\\": \\\"toNumber(datum[\\\\\\\"a\\\\\\\"])*300+58\\\", \\\"as\\\": \\\"c_top_type\\\"}, {\\\"type\\\": \\\"formula\\\", \\\"expr\\\": \\\"toNumber(datum[\\\\\\\"a\\\\\\\"])*300+178\\\", \\\"as\\\": \\\"c_rule\\\"}, {\\\"type\\\": \\\"formula\\\", \\\"expr\\\": \\\"toNumber(datum[\\\\\\\"a\\\\\\\"])*300+106\\\", \\\"as\\\": \\\"c_num_rows\\\"}, {\\\"type\\\": \\\"formula\\\", \\\"expr\\\": \\\"toNumber(datum[\\\\\\\"a\\\\\\\"])*300+130\\\", \\\"as\\\": \\\"c_num_unique\\\"}, {\\\"type\\\": \\\"formula\\\", \\\"expr\\\": \\\"toNumber(datum[\\\\\\\"a\\\\\\\"])*300+154\\\", \\\"as\\\": \\\"c_missing\\\"}, {\\\"type\\\": \\\"formula\\\", \\\"expr\\\": \\\"toNumber(datum[\\\\\\\"a\\\\\\\"])*300+105\\\", \\\"as\\\": \\\"c_num_rows_val\\\"}, {\\\"type\\\": \\\"formula\\\", \\\"expr\\\": \\\"toNumber(datum[\\\\\\\"a\\\\\\\"])*300+130\\\", \\\"as\\\": \\\"c_num_unique_val\\\"}, {\\\"type\\\": \\\"formula\\\", \\\"expr\\\": \\\"toNumber(datum[\\\\\\\"a\\\\\\\"])*300+154\\\", \\\"as\\\": \\\"c_missing_val\\\"}, {\\\"type\\\": \\\"formula\\\", \\\"expr\\\": \\\"toNumber(datum[\\\\\\\"a\\\\\\\"])*300+195\\\", \\\"as\\\": \\\"c_frequent_items\\\"}, {\\\"type\\\": \\\"formula\\\", \\\"expr\\\": \\\"toNumber(datum[\\\\\\\"a\\\\\\\"])*300+218\\\", \\\"as\\\": \\\"c_first_item\\\"}, {\\\"type\\\": \\\"formula\\\", \\\"expr\\\": \\\"toNumber(datum[\\\\\\\"a\\\\\\\"])*300+235\\\", \\\"as\\\": \\\"c_second_item\\\"}, {\\\"type\\\": \\\"formula\\\", \\\"expr\\\": \\\"toNumber(datum[\\\\\\\"a\\\\\\\"])*300+252\\\", \\\"as\\\": \\\"c_third_item\\\"}, {\\\"type\\\": \\\"formula\\\", \\\"expr\\\": \\\"toNumber(datum[\\\\\\\"a\\\\\\\"])*300+269\\\", \\\"as\\\": \\\"c_fourth_item\\\"}, {\\\"type\\\": \\\"formula\\\", \\\"expr\\\": \\\"toNumber(datum[\\\\\\\"a\\\\\\\"])*300+286\\\", \\\"as\\\": \\\"c_fifth_item\\\"}, {\\\"type\\\": \\\"formula\\\", \\\"expr\\\": \\\"toNumber(datum[\\\\\\\"a\\\\\\\"])*300+200\\\", \\\"as\\\": \\\"c_mean\\\"}, {\\\"type\\\": \\\"formula\\\", \\\"expr\\\": \\\"toNumber(datum[\\\\\\\"a\\\\\\\"])*300+220\\\", \\\"as\\\": \\\"c_min\\\"}, {\\\"type\\\": \\\"formula\\\", \\\"expr\\\": \\\"toNumber(datum[\\\\\\\"a\\\\\\\"])*300+240\\\", \\\"as\\\": \\\"c_max\\\"}, {\\\"type\\\": \\\"formula\\\", \\\"expr\\\": \\\"toNumber(datum[\\\\\\\"a\\\\\\\"])*300+260\\\", \\\"as\\\": \\\"c_median\\\"}, {\\\"type\\\": \\\"formula\\\", \\\"expr\\\": \\\"toNumber(datum[\\\\\\\"a\\\\\\\"])*300+280\\\", \\\"as\\\": \\\"c_stdev\\\"}, {\\\"type\\\": \\\"formula\\\", \\\"expr\\\": \\\"toNumber(datum[\\\\\\\"a\\\\\\\"])*300+198\\\", \\\"as\\\": \\\"c_mean_val\\\"}, {\\\"type\\\": \\\"formula\\\", \\\"expr\\\": \\\"toNumber(datum[\\\\\\\"a\\\\\\\"])*300+218\\\", \\\"as\\\": \\\"c_min_val\\\"}, {\\\"type\\\": \\\"formula\\\", \\\"expr\\\": \\\"toNumber(datum[\\\\\\\"a\\\\\\\"])*300+238\\\", \\\"as\\\": \\\"c_max_val\\\"}, {\\\"type\\\": \\\"formula\\\", \\\"expr\\\": \\\"toNumber(datum[\\\\\\\"a\\\\\\\"])*300+258\\\", \\\"as\\\": \\\"c_median_val\\\"}, {\\\"type\\\": \\\"formula\\\", \\\"expr\\\": \\\"toNumber(datum[\\\\\\\"a\\\\\\\"])*300+278\\\", \\\"as\\\": \\\"c_stdev_val\\\"}, {\\\"type\\\": \\\"formula\\\", \\\"expr\\\": \\\"toNumber(datum[\\\\\\\"a\\\\\\\"])*300+106\\\", \\\"as\\\": \\\"graph_offset\\\"}, {\\\"type\\\": \\\"formula\\\", \\\"expr\\\": \\\"toNumber(datum[\\\\\\\"a\\\\\\\"])*300+132\\\", \\\"as\\\": \\\"graph_offset_categorical\\\"}, {\\\"type\\\": \\\"formula\\\", \\\"expr\\\": \\\"(toString(datum[\\\\\\\"type\\\\\\\"]) == \\\\\\\"integer\\\\\\\" || toString(datum[\\\\\\\"type\\\\\\\"]) == \\\\\\\"float\\\\\\\")?false:true\\\", \\\"as\\\": \\\"c_clip_val\\\"}, {\\\"type\\\": \\\"formula\\\", \\\"expr\\\": \\\"(toString(datum[\\\\\\\"type\\\\\\\"]) == \\\\\\\"integer\\\\\\\" || toString(datum[\\\\\\\"type\\\\\\\"]) == \\\\\\\"float\\\\\\\")?250:0\\\", \\\"as\\\": \\\"c_width_numeric_val\\\"}, {\\\"type\\\": \\\"formula\\\", \\\"expr\\\": \\\"(toString(datum[\\\\\\\"type\\\\\\\"]) == \\\\\\\"str\\\\\\\")?false:true\\\", \\\"as\\\": \\\"c_clip_val_cat\\\"}, {\\\"type\\\": \\\"formula\\\", \\\"expr\\\": \\\"(toString(datum[\\\\\\\"type\\\\\\\"]) == \\\\\\\"str\\\\\\\")?250:0\\\", \\\"as\\\": \\\"c_width_numeric_val_cat\\\"}]}], \\\"marks\\\": [{\\\"encode\\\": {\\\"enter\\\": {\\\"x\\\": {\\\"value\\\": 0}, \\\"width\\\": {\\\"value\\\": 734}, \\\"y\\\": {\\\"value\\\": 0}, \\\"height\\\": {\\\"value\\\": 366}, \\\"clip\\\": {\\\"value\\\": 0}, \\\"fill\\\": {\\\"value\\\": \\\"#ffffff\\\"}, \\\"fillOpacity\\\": {\\\"value\\\": 0}, \\\"stroke\\\": {\\\"value\\\": \\\"#000000\\\"}, \\\"strokeWidth\\\": {\\\"value\\\": 0}}}, \\\"marks\\\": [{\\\"encode\\\": {\\\"enter\\\": {\\\"x\\\": {\\\"value\\\": 0}, \\\"width\\\": {\\\"value\\\": 734}, \\\"y\\\": {\\\"value\\\": 0}, \\\"height\\\": {\\\"value\\\": 366}, \\\"clip\\\": {\\\"value\\\": 0}, \\\"fill\\\": {\\\"value\\\": \\\"#ffffff\\\"}, \\\"fillOpacity\\\": {\\\"value\\\": 0}, \\\"stroke\\\": {\\\"value\\\": \\\"#000000\\\"}, \\\"strokeWidth\\\": {\\\"value\\\": 0}}}, \\\"scales\\\": [], \\\"axes\\\": [], \\\"marks\\\": [{\\\"from\\\": {\\\"data\\\": \\\"data_2\\\"}, \\\"encode\\\": {\\\"enter\\\": {\\\"x\\\": {\\\"value\\\": 33}, \\\"width\\\": {\\\"value\\\": 700}, \\\"y\\\": {\\\"value\\\": 66}, \\\"height\\\": {\\\"value\\\": 250}, \\\"fill\\\": {\\\"value\\\": \\\"#FEFEFE\\\"}, \\\"fillOpacity\\\": {\\\"value\\\": 1}, \\\"stroke\\\": {\\\"value\\\": \\\"#DEDEDE\\\"}, \\\"strokeWidth\\\": {\\\"value\\\": 0.5}}, \\\"update\\\": {\\\"x\\\": {\\\"signal\\\": \\\"datum[\\\\\\\"c_x_axis_back\\\\\\\"]\\\"}, \\\"y\\\": {\\\"field\\\": \\\"c_main_background\\\"}}}, \\\"type\\\": \\\"rect\\\"}, {\\\"from\\\": {\\\"data\\\": \\\"data_2\\\"}, \\\"encode\\\": {\\\"enter\\\": {\\\"x\\\": {\\\"value\\\": 33}, \\\"width\\\": {\\\"value\\\": 700}, \\\"y\\\": {\\\"value\\\": 43}, \\\"height\\\": {\\\"value\\\": 30}, \\\"fill\\\": {\\\"value\\\": \\\"#F5F5F5\\\"}, \\\"fillOpacity\\\": {\\\"value\\\": 1}, \\\"stroke\\\": {\\\"value\\\": \\\"#DEDEDE\\\"}, \\\"strokeWidth\\\": {\\\"value\\\": 0.5}}, \\\"update\\\": {\\\"x\\\": {\\\"signal\\\": \\\"datum[\\\\\\\"c_x_axis_back\\\\\\\"]\\\"}, \\\"y\\\": {\\\"field\\\": \\\"c_top_bar\\\"}}}, \\\"type\\\": \\\"rect\\\"}, {\\\"from\\\": {\\\"data\\\": \\\"data_2\\\"}, \\\"encode\\\": {\\\"enter\\\": {\\\"x\\\": {\\\"value\\\": 720}, \\\"y\\\": {\\\"value\\\": 58}, \\\"text\\\": {\\\"signal\\\": \\\"&apos;&apos;+datum[\\\\\\\"type\\\\\\\"]\\\"}, \\\"align\\\": {\\\"value\\\": \\\"right\\\"}, \\\"baseline\\\": {\\\"value\\\": \\\"middle\\\"}, \\\"dx\\\": {\\\"value\\\": 0, \\\"offset\\\": 0}, \\\"dy\\\": {\\\"value\\\": 0, \\\"offset\\\": 0}, \\\"angle\\\": {\\\"value\\\": 0}, \\\"font\\\": {\\\"value\\\": \\\"AvenirNext-Medium\\\"}, \\\"fontSize\\\": {\\\"value\\\": 12}, \\\"fontWeight\\\": {\\\"value\\\": \\\"normal\\\"}, \\\"fontStyle\\\": {\\\"value\\\": \\\"normal\\\"}, \\\"fill\\\": {\\\"value\\\": \\\"#595859\\\"}}, \\\"update\\\": {\\\"x\\\": {\\\"signal\\\": \\\"datum[\\\\\\\"c_x_axis_back\\\\\\\"]+687\\\"}, \\\"y\\\": {\\\"field\\\": \\\"c_top_type\\\"}}}, \\\"type\\\": \\\"text\\\"}, {\\\"from\\\": {\\\"data\\\": \\\"data_2\\\"}, \\\"encode\\\": {\\\"enter\\\": {\\\"x\\\": {\\\"value\\\": 44}, \\\"y\\\": {\\\"value\\\": 59}, \\\"text\\\": {\\\"signal\\\": \\\"&apos;&apos;+datum[\\\\\\\"title\\\\\\\"]\\\"}, \\\"align\\\": {\\\"value\\\": \\\"left\\\"}, \\\"baseline\\\": {\\\"value\\\": \\\"middle\\\"}, \\\"dx\\\": {\\\"value\\\": 0, \\\"offset\\\": 0}, \\\"dy\\\": {\\\"value\\\": 0, \\\"offset\\\": 0}, \\\"angle\\\": {\\\"value\\\": 0}, \\\"font\\\": {\\\"value\\\": \\\"AvenirNext-Medium\\\"}, \\\"fontSize\\\": {\\\"value\\\": 15}, \\\"fontWeight\\\": {\\\"value\\\": \\\"normal\\\"}, \\\"fontStyle\\\": {\\\"value\\\": \\\"normal\\\"}, \\\"fill\\\": {\\\"value\\\": \\\"#9B9B9B\\\"}}, \\\"update\\\": {\\\"x\\\": {\\\"signal\\\": \\\"datum[\\\\\\\"c_x_axis_back\\\\\\\"]+11\\\"}, \\\"y\\\": {\\\"field\\\": \\\"c_top_title\\\"}}}, \\\"type\\\": \\\"text\\\"}, {\\\"from\\\": {\\\"data\\\": \\\"data_2\\\"}, \\\"encode\\\": {\\\"enter\\\": {\\\"x\\\": {\\\"value\\\": 500}, \\\"y\\\": {\\\"value\\\": 178}, \\\"stroke\\\": {\\\"value\\\": \\\"#EDEDEB\\\"}, \\\"strokeWidth\\\": {\\\"value\\\": 1}, \\\"strokeCap\\\": {\\\"value\\\": \\\"butt\\\"}, \\\"x2\\\": {\\\"value\\\": 720}, \\\"y2\\\": {\\\"value\\\": 178}}, \\\"update\\\": {\\\"x\\\": {\\\"signal\\\": \\\"datum[\\\\\\\"c_x_axis_back\\\\\\\"]+467\\\"}, \\\"x2\\\": {\\\"signal\\\": \\\"datum[\\\\\\\"c_x_axis_back\\\\\\\"]+687\\\"}, \\\"y\\\": {\\\"field\\\": \\\"c_rule\\\"}, \\\"y2\\\": {\\\"field\\\": \\\"c_rule\\\"}}}, \\\"type\\\": \\\"rule\\\"}, {\\\"from\\\": {\\\"data\\\": \\\"data_2\\\"}, \\\"encode\\\": {\\\"enter\\\": {\\\"x\\\": {\\\"value\\\": 500}, \\\"y\\\": {\\\"value\\\": 106}, \\\"text\\\": {\\\"value\\\": \\\"Num. Rows:\\\"}, \\\"align\\\": {\\\"value\\\": \\\"left\\\"}, \\\"baseline\\\": {\\\"value\\\": \\\"middle\\\"}, \\\"dx\\\": {\\\"value\\\": 0, \\\"offset\\\": 0}, \\\"dy\\\": {\\\"value\\\": 0, \\\"offset\\\": 0}, \\\"angle\\\": {\\\"value\\\": 0}, \\\"font\\\": {\\\"value\\\": \\\"AvenirNext-Medium\\\"}, \\\"fontSize\\\": {\\\"value\\\": 12}, \\\"fontWeight\\\": {\\\"value\\\": \\\"normal\\\"}, \\\"fontStyle\\\": {\\\"value\\\": \\\"normal\\\"}, \\\"fill\\\": {\\\"value\\\": \\\"#4A4A4A\\\"}}, \\\"update\\\": {\\\"x\\\": {\\\"signal\\\": \\\"datum[\\\\\\\"c_x_axis_back\\\\\\\"]+467\\\"}, \\\"y\\\": {\\\"field\\\": \\\"c_num_rows\\\"}}}, \\\"type\\\": \\\"text\\\"}, {\\\"from\\\": {\\\"data\\\": \\\"data_2\\\"}, \\\"encode\\\": {\\\"enter\\\": {\\\"x\\\": {\\\"value\\\": 500}, \\\"y\\\": {\\\"value\\\": 130}, \\\"text\\\": {\\\"value\\\": \\\"Num. Unique:\\\"}, \\\"align\\\": {\\\"value\\\": \\\"left\\\"}, \\\"baseline\\\": {\\\"value\\\": \\\"middle\\\"}, \\\"dx\\\": {\\\"value\\\": 0, \\\"offset\\\": 0}, \\\"dy\\\": {\\\"value\\\": 0, \\\"offset\\\": 0}, \\\"angle\\\": {\\\"value\\\": 0}, \\\"font\\\": {\\\"value\\\": \\\"AvenirNext-Medium\\\"}, \\\"fontSize\\\": {\\\"value\\\": 12}, \\\"fontWeight\\\": {\\\"value\\\": \\\"normal\\\"}, \\\"fontStyle\\\": {\\\"value\\\": \\\"normal\\\"}, \\\"fill\\\": {\\\"value\\\": \\\"#4A4A4A\\\"}}, \\\"update\\\": {\\\"x\\\": {\\\"signal\\\": \\\"datum[\\\\\\\"c_x_axis_back\\\\\\\"]+467\\\"}, \\\"y\\\": {\\\"field\\\": \\\"c_num_unique\\\"}}}, \\\"type\\\": \\\"text\\\"}, {\\\"from\\\": {\\\"data\\\": \\\"data_2\\\"}, \\\"encode\\\": {\\\"enter\\\": {\\\"x\\\": {\\\"value\\\": 500}, \\\"y\\\": {\\\"value\\\": 154}, \\\"text\\\": {\\\"value\\\": \\\"Missing:\\\"}, \\\"align\\\": {\\\"value\\\": \\\"left\\\"}, \\\"baseline\\\": {\\\"value\\\": \\\"middle\\\"}, \\\"dx\\\": {\\\"value\\\": 0, \\\"offset\\\": 0}, \\\"dy\\\": {\\\"value\\\": 0, \\\"offset\\\": 0}, \\\"angle\\\": {\\\"value\\\": 0}, \\\"font\\\": {\\\"value\\\": \\\"AvenirNext-Medium\\\"}, \\\"fontSize\\\": {\\\"value\\\": 12}, \\\"fontWeight\\\": {\\\"value\\\": \\\"normal\\\"}, \\\"fontStyle\\\": {\\\"value\\\": \\\"normal\\\"}, \\\"fill\\\": {\\\"value\\\": \\\"#4A4A4A\\\"}}, \\\"update\\\": {\\\"x\\\": {\\\"signal\\\": \\\"datum[\\\\\\\"c_x_axis_back\\\\\\\"]+467\\\"}, \\\"y\\\": {\\\"field\\\": \\\"c_missing\\\"}}}, \\\"type\\\": \\\"text\\\"}, {\\\"from\\\": {\\\"data\\\": \\\"data_2\\\"}, \\\"encode\\\": {\\\"enter\\\": {\\\"x\\\": {\\\"value\\\": 700}, \\\"y\\\": {\\\"value\\\": 105}, \\\"text\\\": {\\\"signal\\\": \\\"toString(format(datum[\\\\\\\"num_row\\\\\\\"], \\\\\\\",\\\\\\\"))\\\"}, \\\"align\\\": {\\\"value\\\": \\\"right\\\"}, \\\"baseline\\\": {\\\"value\\\": \\\"middle\\\"}, \\\"dx\\\": {\\\"value\\\": 0, \\\"offset\\\": 0}, \\\"dy\\\": {\\\"value\\\": 0, \\\"offset\\\": 0}, \\\"angle\\\": {\\\"value\\\": 0}, \\\"font\\\": {\\\"value\\\": \\\"AvenirNext-Medium\\\"}, \\\"fontSize\\\": {\\\"value\\\": 12}, \\\"fontWeight\\\": {\\\"value\\\": \\\"normal\\\"}, \\\"fontStyle\\\": {\\\"value\\\": \\\"normal\\\"}, \\\"fill\\\": {\\\"value\\\": \\\"#5A5A5A\\\"}}, \\\"update\\\": {\\\"x\\\": {\\\"signal\\\": \\\"datum[\\\\\\\"c_x_axis_back\\\\\\\"]+667\\\"}, \\\"y\\\": {\\\"field\\\": \\\"c_num_rows_val\\\"}}}, \\\"type\\\": \\\"text\\\"}, {\\\"from\\\": {\\\"data\\\": \\\"data_2\\\"}, \\\"encode\\\": {\\\"enter\\\": {\\\"x\\\": {\\\"value\\\": 700}, \\\"y\\\": {\\\"value\\\": 130}, \\\"text\\\": {\\\"signal\\\": \\\"toString(format(datum[\\\\\\\"num_unique\\\\\\\"], \\\\\\\",\\\\\\\"))\\\"}, \\\"align\\\": {\\\"value\\\": \\\"right\\\"}, \\\"baseline\\\": {\\\"value\\\": \\\"middle\\\"}, \\\"dx\\\": {\\\"value\\\": 0, \\\"offset\\\": 0}, \\\"dy\\\": {\\\"value\\\": 0, \\\"offset\\\": 0}, \\\"angle\\\": {\\\"value\\\": 0}, \\\"font\\\": {\\\"value\\\": \\\"AvenirNext-Medium\\\"}, \\\"fontSize\\\": {\\\"value\\\": 12}, \\\"fontWeight\\\": {\\\"value\\\": \\\"normal\\\"}, \\\"fontStyle\\\": {\\\"value\\\": \\\"normal\\\"}, \\\"fill\\\": {\\\"value\\\": \\\"#5A5A5A\\\"}}, \\\"update\\\": {\\\"x\\\": {\\\"signal\\\": \\\"datum[\\\\\\\"c_x_axis_back\\\\\\\"]+667\\\"}, \\\"y\\\": {\\\"field\\\": \\\"c_num_unique_val\\\"}}}, \\\"type\\\": \\\"text\\\"}, {\\\"from\\\": {\\\"data\\\": \\\"data_2\\\"}, \\\"encode\\\": {\\\"enter\\\": {\\\"x\\\": {\\\"value\\\": 700}, \\\"y\\\": {\\\"value\\\": 154}, \\\"text\\\": {\\\"signal\\\": \\\"toString(format(datum[\\\\\\\"num_missing\\\\\\\"], \\\\\\\",\\\\\\\"))\\\"}, \\\"align\\\": {\\\"value\\\": \\\"right\\\"}, \\\"baseline\\\": {\\\"value\\\": \\\"middle\\\"}, \\\"dx\\\": {\\\"value\\\": 0, \\\"offset\\\": 0}, \\\"dy\\\": {\\\"value\\\": 0, \\\"offset\\\": 0}, \\\"angle\\\": {\\\"value\\\": 0}, \\\"font\\\": {\\\"value\\\": \\\"AvenirNext-Medium\\\"}, \\\"fontSize\\\": {\\\"value\\\": 12}, \\\"fontWeight\\\": {\\\"value\\\": \\\"normal\\\"}, \\\"fontStyle\\\": {\\\"value\\\": \\\"normal\\\"}, \\\"fill\\\": {\\\"value\\\": \\\"#5A5A5A\\\"}}, \\\"update\\\": {\\\"x\\\": {\\\"signal\\\": \\\"datum[\\\\\\\"c_x_axis_back\\\\\\\"]+667\\\"}, \\\"y\\\": {\\\"field\\\": \\\"c_missing_val\\\"}}}, \\\"type\\\": \\\"text\\\"}, {\\\"from\\\": {\\\"data\\\": \\\"data_2\\\"}, \\\"encode\\\": {\\\"enter\\\": {\\\"x\\\": {\\\"value\\\": 500}, \\\"y\\\": {\\\"value\\\": 200}, \\\"text\\\": {\\\"signal\\\": \\\"(toString(datum[\\\\\\\"type\\\\\\\"]) == \\\\\\\"str\\\\\\\")? \\\\\\\"Frequent Items\\\\\\\":\\\\\\\"\\\\\\\"\\\"}, \\\"align\\\": {\\\"value\\\": \\\"left\\\"}, \\\"baseline\\\": {\\\"value\\\": \\\"middle\\\"}, \\\"dx\\\": {\\\"value\\\": 0, \\\"offset\\\": 0}, \\\"dy\\\": {\\\"value\\\": 0, \\\"offset\\\": 0}, \\\"angle\\\": {\\\"value\\\": 0}, \\\"clip\\\": {\\\"value\\\": true}, \\\"font\\\": {\\\"value\\\": \\\"AvenirNext-Medium\\\"}, \\\"fontSize\\\": {\\\"value\\\": 11}, \\\"fontWeight\\\": {\\\"value\\\": \\\"bold\\\"}, \\\"fontStyle\\\": {\\\"value\\\": \\\"normal\\\"}, \\\"fill\\\": {\\\"value\\\": \\\"#4A4A4A\\\"}}, \\\"update\\\": {\\\"x\\\": {\\\"signal\\\": \\\"datum[\\\\\\\"c_x_axis_back\\\\\\\"]+467\\\"}, \\\"y\\\": {\\\"field\\\": \\\"c_frequent_items\\\"}}}, \\\"type\\\": \\\"text\\\"}, {\\\"from\\\": {\\\"data\\\": \\\"data_2\\\"}, \\\"encode\\\": {\\\"enter\\\": {\\\"x\\\": {\\\"value\\\": 520}, \\\"y\\\": {\\\"value\\\": 200}, \\\"text\\\": {\\\"signal\\\": \\\"((datum[\\\\\\\"categorical\\\\\\\"].length >= 1) &amp;&amp; (toString(datum[\\\\\\\"type\\\\\\\"]) == \\\\\\\"str\\\\\\\"))? toString(datum[\\\\\\\"categorical\\\\\\\"][0][\\\\\\\"label\\\\\\\"]):\\\\\\\"\\\\\\\"\\\"}, \\\"align\\\": {\\\"value\\\": \\\"left\\\"}, \\\"baseline\\\": {\\\"value\\\": \\\"middle\\\"}, \\\"dx\\\": {\\\"value\\\": 0, \\\"offset\\\": 0}, \\\"dy\\\": {\\\"value\\\": 0, \\\"offset\\\": 0}, \\\"angle\\\": {\\\"value\\\": 0}, \\\"clip\\\": {\\\"value\\\": true}, \\\"font\\\": {\\\"value\\\": \\\"AvenirNext-Medium\\\"}, \\\"fontSize\\\": {\\\"value\\\": 11}, \\\"fontWeight\\\": {\\\"value\\\": \\\"normal\\\"}, \\\"fontStyle\\\": {\\\"value\\\": \\\"normal\\\"}, \\\"fill\\\": {\\\"value\\\": \\\"#4A4A4A\\\"}}, \\\"update\\\": {\\\"x\\\": {\\\"signal\\\": \\\"datum[\\\\\\\"c_x_axis_back\\\\\\\"]+487\\\"}, \\\"y\\\": {\\\"field\\\": \\\"c_first_item\\\"}}}, \\\"type\\\": \\\"text\\\"}, {\\\"from\\\": {\\\"data\\\": \\\"data_2\\\"}, \\\"encode\\\": {\\\"enter\\\": {\\\"x\\\": {\\\"value\\\": 520}, \\\"y\\\": {\\\"value\\\": 200}, \\\"text\\\": {\\\"signal\\\": \\\"((datum[\\\\\\\"categorical\\\\\\\"].length >= 2) &amp;&amp; (toString(datum[\\\\\\\"type\\\\\\\"]) == \\\\\\\"str\\\\\\\"))? toString(datum[\\\\\\\"categorical\\\\\\\"][1][\\\\\\\"label\\\\\\\"]):\\\\\\\"\\\\\\\"\\\"}, \\\"align\\\": {\\\"value\\\": \\\"left\\\"}, \\\"baseline\\\": {\\\"value\\\": \\\"middle\\\"}, \\\"dx\\\": {\\\"value\\\": 0, \\\"offset\\\": 0}, \\\"dy\\\": {\\\"value\\\": 0, \\\"offset\\\": 0}, \\\"angle\\\": {\\\"value\\\": 0}, \\\"clip\\\": {\\\"value\\\": true}, \\\"font\\\": {\\\"value\\\": \\\"AvenirNext-Medium\\\"}, \\\"fontSize\\\": {\\\"value\\\": 11}, \\\"fontWeight\\\": {\\\"value\\\": \\\"normal\\\"}, \\\"fontStyle\\\": {\\\"value\\\": \\\"normal\\\"}, \\\"fill\\\": {\\\"value\\\": \\\"#4A4A4A\\\"}}, \\\"update\\\": {\\\"x\\\": {\\\"signal\\\": \\\"datum[\\\\\\\"c_x_axis_back\\\\\\\"]+487\\\"}, \\\"y\\\": {\\\"field\\\": \\\"c_second_item\\\"}}}, \\\"type\\\": \\\"text\\\"}, {\\\"from\\\": {\\\"data\\\": \\\"data_2\\\"}, \\\"encode\\\": {\\\"enter\\\": {\\\"x\\\": {\\\"value\\\": 520}, \\\"y\\\": {\\\"value\\\": 200}, \\\"text\\\": {\\\"signal\\\": \\\"((datum[\\\\\\\"categorical\\\\\\\"].length >= 3) &amp;&amp; (toString(datum[\\\\\\\"type\\\\\\\"]) == \\\\\\\"str\\\\\\\"))? toString(datum[\\\\\\\"categorical\\\\\\\"][2][\\\\\\\"label\\\\\\\"]):\\\\\\\"\\\\\\\"\\\"}, \\\"align\\\": {\\\"value\\\": \\\"left\\\"}, \\\"baseline\\\": {\\\"value\\\": \\\"middle\\\"}, \\\"dx\\\": {\\\"value\\\": 0, \\\"offset\\\": 0}, \\\"dy\\\": {\\\"value\\\": 0, \\\"offset\\\": 0}, \\\"angle\\\": {\\\"value\\\": 0}, \\\"clip\\\": {\\\"value\\\": true}, \\\"font\\\": {\\\"value\\\": \\\"AvenirNext-Medium\\\"}, \\\"fontSize\\\": {\\\"value\\\": 11}, \\\"fontWeight\\\": {\\\"value\\\": \\\"normal\\\"}, \\\"fontStyle\\\": {\\\"value\\\": \\\"normal\\\"}, \\\"fill\\\": {\\\"value\\\": \\\"#4A4A4A\\\"}}, \\\"update\\\": {\\\"x\\\": {\\\"signal\\\": \\\"datum[\\\\\\\"c_x_axis_back\\\\\\\"]+487\\\"}, \\\"y\\\": {\\\"field\\\": \\\"c_third_item\\\"}}}, \\\"type\\\": \\\"text\\\"}, {\\\"from\\\": {\\\"data\\\": \\\"data_2\\\"}, \\\"encode\\\": {\\\"enter\\\": {\\\"x\\\": {\\\"value\\\": 520}, \\\"y\\\": {\\\"value\\\": 200}, \\\"text\\\": {\\\"signal\\\": \\\"((datum[\\\\\\\"categorical\\\\\\\"].length >= 4) &amp;&amp; (toString(datum[\\\\\\\"type\\\\\\\"]) == \\\\\\\"str\\\\\\\"))? toString(datum[\\\\\\\"categorical\\\\\\\"][3][\\\\\\\"label\\\\\\\"]):\\\\\\\"\\\\\\\"\\\"}, \\\"align\\\": {\\\"value\\\": \\\"left\\\"}, \\\"baseline\\\": {\\\"value\\\": \\\"middle\\\"}, \\\"dx\\\": {\\\"value\\\": 0, \\\"offset\\\": 0}, \\\"dy\\\": {\\\"value\\\": 0, \\\"offset\\\": 0}, \\\"angle\\\": {\\\"value\\\": 0}, \\\"clip\\\": {\\\"value\\\": true}, \\\"font\\\": {\\\"value\\\": \\\"AvenirNext-Medium\\\"}, \\\"fontSize\\\": {\\\"value\\\": 11}, \\\"fontWeight\\\": {\\\"value\\\": \\\"normal\\\"}, \\\"fontStyle\\\": {\\\"value\\\": \\\"normal\\\"}, \\\"fill\\\": {\\\"value\\\": \\\"#4A4A4A\\\"}}, \\\"update\\\": {\\\"x\\\": {\\\"signal\\\": \\\"datum[\\\\\\\"c_x_axis_back\\\\\\\"]+487\\\"}, \\\"y\\\": {\\\"field\\\": \\\"c_fourth_item\\\"}}}, \\\"type\\\": \\\"text\\\"}, {\\\"from\\\": {\\\"data\\\": \\\"data_2\\\"}, \\\"encode\\\": {\\\"enter\\\": {\\\"x\\\": {\\\"value\\\": 520}, \\\"y\\\": {\\\"value\\\": 200}, \\\"text\\\": {\\\"signal\\\": \\\"((datum[\\\\\\\"categorical\\\\\\\"].length >= 5) &amp;&amp; (toString(datum[\\\\\\\"type\\\\\\\"]) == \\\\\\\"str\\\\\\\"))? toString(datum[\\\\\\\"categorical\\\\\\\"][4][\\\\\\\"label\\\\\\\"]):\\\\\\\"\\\\\\\"\\\"}, \\\"align\\\": {\\\"value\\\": \\\"left\\\"}, \\\"baseline\\\": {\\\"value\\\": \\\"middle\\\"}, \\\"dx\\\": {\\\"value\\\": 0, \\\"offset\\\": 0}, \\\"dy\\\": {\\\"value\\\": 0, \\\"offset\\\": 0}, \\\"angle\\\": {\\\"value\\\": 0}, \\\"clip\\\": {\\\"value\\\": true}, \\\"font\\\": {\\\"value\\\": \\\"AvenirNext-Medium\\\"}, \\\"fontSize\\\": {\\\"value\\\": 11}, \\\"fontWeight\\\": {\\\"value\\\": \\\"normal\\\"}, \\\"fontStyle\\\": {\\\"value\\\": \\\"normal\\\"}, \\\"fill\\\": {\\\"value\\\": \\\"#4A4A4A\\\"}}, \\\"update\\\": {\\\"x\\\": {\\\"signal\\\": \\\"datum[\\\\\\\"c_x_axis_back\\\\\\\"]+487\\\"}, \\\"y\\\": {\\\"field\\\": \\\"c_fifth_item\\\"}}}, \\\"type\\\": \\\"text\\\"}, {\\\"from\\\": {\\\"data\\\": \\\"data_2\\\"}, \\\"encode\\\": {\\\"enter\\\": {\\\"x\\\": {\\\"value\\\": 700}, \\\"y\\\": {\\\"value\\\": 200}, \\\"text\\\": {\\\"signal\\\": \\\"((datum[\\\\\\\"categorical\\\\\\\"].length >= 1) &amp;&amp; (toString(datum[\\\\\\\"type\\\\\\\"]) == \\\\\\\"str\\\\\\\"))? toString(datum[\\\\\\\"categorical\\\\\\\"][0][\\\\\\\"count\\\\\\\"]):\\\\\\\"\\\\\\\"\\\"}, \\\"align\\\": {\\\"value\\\": \\\"right\\\"}, \\\"baseline\\\": {\\\"value\\\": \\\"middle\\\"}, \\\"dx\\\": {\\\"value\\\": 0, \\\"offset\\\": 0}, \\\"dy\\\": {\\\"value\\\": 0, \\\"offset\\\": 0}, \\\"angle\\\": {\\\"value\\\": 0}, \\\"clip\\\": {\\\"value\\\": true}, \\\"font\\\": {\\\"value\\\": \\\"AvenirNext-Medium\\\"}, \\\"fontSize\\\": {\\\"value\\\": 11}, \\\"fontWeight\\\": {\\\"value\\\": \\\"normal\\\"}, \\\"fontStyle\\\": {\\\"value\\\": \\\"normal\\\"}, \\\"fill\\\": {\\\"value\\\": \\\"#7A7A7A\\\"}}, \\\"update\\\": {\\\"x\\\": {\\\"signal\\\": \\\"datum[\\\\\\\"c_x_axis_back\\\\\\\"]+667\\\"}, \\\"y\\\": {\\\"field\\\": \\\"c_first_item\\\"}}}, \\\"type\\\": \\\"text\\\"}, {\\\"from\\\": {\\\"data\\\": \\\"data_2\\\"}, \\\"encode\\\": {\\\"enter\\\": {\\\"x\\\": {\\\"value\\\": 700}, \\\"y\\\": {\\\"value\\\": 200}, \\\"text\\\": {\\\"signal\\\": \\\"((datum[\\\\\\\"categorical\\\\\\\"].length >= 2) &amp;&amp; (toString(datum[\\\\\\\"type\\\\\\\"]) == \\\\\\\"str\\\\\\\"))? toString(datum[\\\\\\\"categorical\\\\\\\"][1][\\\\\\\"count\\\\\\\"]):\\\\\\\"\\\\\\\"\\\"}, \\\"align\\\": {\\\"value\\\": \\\"right\\\"}, \\\"baseline\\\": {\\\"value\\\": \\\"middle\\\"}, \\\"dx\\\": {\\\"value\\\": 0, \\\"offset\\\": 0}, \\\"dy\\\": {\\\"value\\\": 0, \\\"offset\\\": 0}, \\\"angle\\\": {\\\"value\\\": 0}, \\\"clip\\\": {\\\"value\\\": true}, \\\"font\\\": {\\\"value\\\": \\\"AvenirNext-Medium\\\"}, \\\"fontSize\\\": {\\\"value\\\": 10}, \\\"fontWeight\\\": {\\\"value\\\": \\\"normal\\\"}, \\\"fontStyle\\\": {\\\"value\\\": \\\"normal\\\"}, \\\"fill\\\": {\\\"value\\\": \\\"#7A7A7A\\\"}}, \\\"update\\\": {\\\"x\\\": {\\\"signal\\\": \\\"datum[\\\\\\\"c_x_axis_back\\\\\\\"]+667\\\"}, \\\"y\\\": {\\\"field\\\": \\\"c_second_item\\\"}}}, \\\"type\\\": \\\"text\\\"}, {\\\"from\\\": {\\\"data\\\": \\\"data_2\\\"}, \\\"encode\\\": {\\\"enter\\\": {\\\"x\\\": {\\\"value\\\": 700}, \\\"y\\\": {\\\"value\\\": 200}, \\\"text\\\": {\\\"signal\\\": \\\"((datum[\\\\\\\"categorical\\\\\\\"].length >= 3) &amp;&amp; (toString(datum[\\\\\\\"type\\\\\\\"]) == \\\\\\\"str\\\\\\\"))? toString(datum[\\\\\\\"categorical\\\\\\\"][2][\\\\\\\"count\\\\\\\"]):\\\\\\\"\\\\\\\"\\\"}, \\\"align\\\": {\\\"value\\\": \\\"right\\\"}, \\\"baseline\\\": {\\\"value\\\": \\\"middle\\\"}, \\\"dx\\\": {\\\"value\\\": 0, \\\"offset\\\": 0}, \\\"dy\\\": {\\\"value\\\": 0, \\\"offset\\\": 0}, \\\"angle\\\": {\\\"value\\\": 0}, \\\"clip\\\": {\\\"value\\\": true}, \\\"font\\\": {\\\"value\\\": \\\"AvenirNext-Medium\\\"}, \\\"fontSize\\\": {\\\"value\\\": 10}, \\\"fontWeight\\\": {\\\"value\\\": \\\"normal\\\"}, \\\"fontStyle\\\": {\\\"value\\\": \\\"normal\\\"}, \\\"fill\\\": {\\\"value\\\": \\\"#7A7A7A\\\"}}, \\\"update\\\": {\\\"x\\\": {\\\"signal\\\": \\\"datum[\\\\\\\"c_x_axis_back\\\\\\\"]+667\\\"}, \\\"y\\\": {\\\"field\\\": \\\"c_third_item\\\"}}}, \\\"type\\\": \\\"text\\\"}, {\\\"from\\\": {\\\"data\\\": \\\"data_2\\\"}, \\\"encode\\\": {\\\"enter\\\": {\\\"x\\\": {\\\"value\\\": 700}, \\\"y\\\": {\\\"value\\\": 200}, \\\"text\\\": {\\\"signal\\\": \\\"((datum[\\\\\\\"categorical\\\\\\\"].length >= 4) &amp;&amp; (toString(datum[\\\\\\\"type\\\\\\\"]) == \\\\\\\"str\\\\\\\"))? toString(datum[\\\\\\\"categorical\\\\\\\"][3][\\\\\\\"count\\\\\\\"]):\\\\\\\"\\\\\\\"\\\"}, \\\"align\\\": {\\\"value\\\": \\\"right\\\"}, \\\"baseline\\\": {\\\"value\\\": \\\"middle\\\"}, \\\"dx\\\": {\\\"value\\\": 0, \\\"offset\\\": 0}, \\\"dy\\\": {\\\"value\\\": 0, \\\"offset\\\": 0}, \\\"angle\\\": {\\\"value\\\": 0}, \\\"clip\\\": {\\\"value\\\": true}, \\\"font\\\": {\\\"value\\\": \\\"AvenirNext-Medium\\\"}, \\\"fontSize\\\": {\\\"value\\\": 10}, \\\"fontWeight\\\": {\\\"value\\\": \\\"normal\\\"}, \\\"fontStyle\\\": {\\\"value\\\": \\\"normal\\\"}, \\\"fill\\\": {\\\"value\\\": \\\"#7A7A7A\\\"}}, \\\"update\\\": {\\\"x\\\": {\\\"signal\\\": \\\"datum[\\\\\\\"c_x_axis_back\\\\\\\"]+667\\\"}, \\\"y\\\": {\\\"field\\\": \\\"c_fourth_item\\\"}}}, \\\"type\\\": \\\"text\\\"}, {\\\"from\\\": {\\\"data\\\": \\\"data_2\\\"}, \\\"encode\\\": {\\\"enter\\\": {\\\"x\\\": {\\\"value\\\": 700}, \\\"y\\\": {\\\"value\\\": 200}, \\\"text\\\": {\\\"signal\\\": \\\"((datum[\\\\\\\"categorical\\\\\\\"].length >= 5) &amp;&amp; (toString(datum[\\\\\\\"type\\\\\\\"]) == \\\\\\\"str\\\\\\\"))? toString(datum[\\\\\\\"categorical\\\\\\\"][4][\\\\\\\"count\\\\\\\"]):\\\\\\\"\\\\\\\"\\\"}, \\\"align\\\": {\\\"value\\\": \\\"right\\\"}, \\\"baseline\\\": {\\\"value\\\": \\\"middle\\\"}, \\\"dx\\\": {\\\"value\\\": 0, \\\"offset\\\": 0}, \\\"dy\\\": {\\\"value\\\": 0, \\\"offset\\\": 0}, \\\"angle\\\": {\\\"value\\\": 0}, \\\"clip\\\": {\\\"value\\\": true}, \\\"font\\\": {\\\"value\\\": \\\"AvenirNext-Medium\\\"}, \\\"fontSize\\\": {\\\"value\\\": 10}, \\\"fontWeight\\\": {\\\"value\\\": \\\"normal\\\"}, \\\"fontStyle\\\": {\\\"value\\\": \\\"normal\\\"}, \\\"fill\\\": {\\\"value\\\": \\\"#7A7A7A\\\"}}, \\\"update\\\": {\\\"x\\\": {\\\"signal\\\": \\\"datum[\\\\\\\"c_x_axis_back\\\\\\\"]+667\\\"}, \\\"y\\\": {\\\"field\\\": \\\"c_fifth_item\\\"}}}, \\\"type\\\": \\\"text\\\"}, {\\\"from\\\": {\\\"data\\\": \\\"data_2\\\"}, \\\"encode\\\": {\\\"enter\\\": {\\\"x\\\": {\\\"value\\\": 500}, \\\"y\\\": {\\\"value\\\": 200}, \\\"text\\\": {\\\"signal\\\": \\\"(toString(datum[\\\\\\\"type\\\\\\\"]) == \\\\\\\"integer\\\\\\\" || toString(datum[\\\\\\\"type\\\\\\\"]) == \\\\\\\"float\\\\\\\")? \\\\\\\"Mean:\\\\\\\":\\\\\\\"\\\\\\\"\\\"}, \\\"align\\\": {\\\"value\\\": \\\"left\\\"}, \\\"baseline\\\": {\\\"value\\\": \\\"middle\\\"}, \\\"dx\\\": {\\\"value\\\": 0, \\\"offset\\\": 0}, \\\"dy\\\": {\\\"value\\\": 0, \\\"offset\\\": 0}, \\\"angle\\\": {\\\"value\\\": 0}, \\\"clip\\\": {\\\"value\\\": true}, \\\"font\\\": {\\\"value\\\": \\\"AvenirNext-Medium\\\"}, \\\"fontSize\\\": {\\\"value\\\": 11}, \\\"fontWeight\\\": {\\\"value\\\": \\\"bold\\\"}, \\\"fontStyle\\\": {\\\"value\\\": \\\"normal\\\"}, \\\"fill\\\": {\\\"value\\\": \\\"#4A4A4A\\\"}}, \\\"update\\\": {\\\"x\\\": {\\\"signal\\\": \\\"datum[\\\\\\\"c_x_axis_back\\\\\\\"]+467\\\"}, \\\"y\\\": {\\\"field\\\": \\\"c_mean\\\"}}}, \\\"type\\\": \\\"text\\\"}, {\\\"from\\\": {\\\"data\\\": \\\"data_2\\\"}, \\\"encode\\\": {\\\"enter\\\": {\\\"x\\\": {\\\"value\\\": 500}, \\\"y\\\": {\\\"value\\\": 220}, \\\"text\\\": {\\\"signal\\\": \\\"(toString(datum[\\\\\\\"type\\\\\\\"]) == \\\\\\\"integer\\\\\\\" || toString(datum[\\\\\\\"type\\\\\\\"]) == \\\\\\\"float\\\\\\\")? \\\\\\\"Min:\\\\\\\":\\\\\\\"\\\\\\\"\\\"}, \\\"align\\\": {\\\"value\\\": \\\"left\\\"}, \\\"baseline\\\": {\\\"value\\\": \\\"middle\\\"}, \\\"dx\\\": {\\\"value\\\": 0, \\\"offset\\\": 0}, \\\"dy\\\": {\\\"value\\\": 0, \\\"offset\\\": 0}, \\\"angle\\\": {\\\"value\\\": 0}, \\\"font\\\": {\\\"value\\\": \\\"AvenirNext-Medium\\\"}, \\\"fontSize\\\": {\\\"value\\\": 11}, \\\"fontWeight\\\": {\\\"value\\\": \\\"bold\\\"}, \\\"fontStyle\\\": {\\\"value\\\": \\\"normal\\\"}, \\\"fill\\\": {\\\"value\\\": \\\"#4A4A4A\\\"}}, \\\"update\\\": {\\\"x\\\": {\\\"signal\\\": \\\"datum[\\\\\\\"c_x_axis_back\\\\\\\"]+467\\\"}, \\\"y\\\": {\\\"field\\\": \\\"c_min\\\"}}}, \\\"type\\\": \\\"text\\\"}, {\\\"from\\\": {\\\"data\\\": \\\"data_2\\\"}, \\\"encode\\\": {\\\"enter\\\": {\\\"x\\\": {\\\"value\\\": 500}, \\\"y\\\": {\\\"value\\\": 240}, \\\"text\\\": {\\\"signal\\\": \\\"(toString(datum[\\\\\\\"type\\\\\\\"]) == \\\\\\\"integer\\\\\\\" || toString(datum[\\\\\\\"type\\\\\\\"]) == \\\\\\\"float\\\\\\\")? \\\\\\\"Max:\\\\\\\":\\\\\\\"\\\\\\\"\\\"}, \\\"align\\\": {\\\"value\\\": \\\"left\\\"}, \\\"baseline\\\": {\\\"value\\\": \\\"middle\\\"}, \\\"dx\\\": {\\\"value\\\": 0, \\\"offset\\\": 0}, \\\"dy\\\": {\\\"value\\\": 0, \\\"offset\\\": 0}, \\\"angle\\\": {\\\"value\\\": 0}, \\\"font\\\": {\\\"value\\\": \\\"AvenirNext-Medium\\\"}, \\\"fontSize\\\": {\\\"value\\\": 11}, \\\"fontWeight\\\": {\\\"value\\\": \\\"bold\\\"}, \\\"fontStyle\\\": {\\\"value\\\": \\\"normal\\\"}, \\\"fill\\\": {\\\"value\\\": \\\"#4A4A4A\\\"}}, \\\"update\\\": {\\\"x\\\": {\\\"signal\\\": \\\"datum[\\\\\\\"c_x_axis_back\\\\\\\"]+467\\\"}, \\\"y\\\": {\\\"field\\\": \\\"c_max\\\"}}}, \\\"type\\\": \\\"text\\\"}, {\\\"from\\\": {\\\"data\\\": \\\"data_2\\\"}, \\\"encode\\\": {\\\"enter\\\": {\\\"x\\\": {\\\"value\\\": 500}, \\\"y\\\": {\\\"value\\\": 260}, \\\"text\\\": {\\\"signal\\\": \\\"(toString(datum[\\\\\\\"type\\\\\\\"]) == \\\\\\\"integer\\\\\\\" || toString(datum[\\\\\\\"type\\\\\\\"]) == \\\\\\\"float\\\\\\\")? \\\\\\\"Median:\\\\\\\":\\\\\\\"\\\\\\\"\\\"}, \\\"align\\\": {\\\"value\\\": \\\"left\\\"}, \\\"baseline\\\": {\\\"value\\\": \\\"middle\\\"}, \\\"dx\\\": {\\\"value\\\": 0, \\\"offset\\\": 0}, \\\"dy\\\": {\\\"value\\\": 0, \\\"offset\\\": 0}, \\\"angle\\\": {\\\"value\\\": 0}, \\\"font\\\": {\\\"value\\\": \\\"AvenirNext-Medium\\\"}, \\\"fontSize\\\": {\\\"value\\\": 11}, \\\"fontWeight\\\": {\\\"value\\\": \\\"bold\\\"}, \\\"fontStyle\\\": {\\\"value\\\": \\\"normal\\\"}, \\\"fill\\\": {\\\"value\\\": \\\"#4A4A4A\\\"}}, \\\"update\\\": {\\\"x\\\": {\\\"signal\\\": \\\"datum[\\\\\\\"c_x_axis_back\\\\\\\"]+467\\\"}, \\\"y\\\": {\\\"field\\\": \\\"c_median\\\"}}}, \\\"type\\\": \\\"text\\\"}, {\\\"from\\\": {\\\"data\\\": \\\"data_2\\\"}, \\\"encode\\\": {\\\"enter\\\": {\\\"x\\\": {\\\"value\\\": 500}, \\\"y\\\": {\\\"value\\\": 280}, \\\"text\\\": {\\\"signal\\\": \\\"(toString(datum[\\\\\\\"type\\\\\\\"]) == \\\\\\\"integer\\\\\\\" || toString(datum[\\\\\\\"type\\\\\\\"]) == \\\\\\\"float\\\\\\\")? \\\\\\\"St. Dev:\\\\\\\":\\\\\\\"\\\\\\\"\\\"}, \\\"align\\\": {\\\"value\\\": \\\"left\\\"}, \\\"baseline\\\": {\\\"value\\\": \\\"middle\\\"}, \\\"dx\\\": {\\\"value\\\": 0, \\\"offset\\\": 0}, \\\"dy\\\": {\\\"value\\\": 0, \\\"offset\\\": 0}, \\\"angle\\\": {\\\"value\\\": 0}, \\\"font\\\": {\\\"value\\\": \\\"AvenirNext-Medium\\\"}, \\\"fontSize\\\": {\\\"value\\\": 11}, \\\"fontWeight\\\": {\\\"value\\\": \\\"bold\\\"}, \\\"fontStyle\\\": {\\\"value\\\": \\\"normal\\\"}, \\\"fill\\\": {\\\"value\\\": \\\"#4A4A4A\\\"}}, \\\"update\\\": {\\\"x\\\": {\\\"signal\\\": \\\"datum[\\\\\\\"c_x_axis_back\\\\\\\"]+467\\\"}, \\\"y\\\": {\\\"field\\\": \\\"c_stdev\\\"}}}, \\\"type\\\": \\\"text\\\"}, {\\\"from\\\": {\\\"data\\\": \\\"data_2\\\"}, \\\"encode\\\": {\\\"enter\\\": {\\\"x\\\": {\\\"value\\\": 700}, \\\"y\\\": {\\\"value\\\": 198}, \\\"text\\\": {\\\"signal\\\": \\\"(toString(datum[\\\\\\\"type\\\\\\\"]) == \\\\\\\"integer\\\\\\\" || toString(datum[\\\\\\\"type\\\\\\\"]) == \\\\\\\"float\\\\\\\")?toString(format(datum[\\\\\\\"mean\\\\\\\"], \\\\\\\",\\\\\\\")):\\\\\\\"\\\\\\\"\\\"}, \\\"align\\\": {\\\"value\\\": \\\"right\\\"}, \\\"baseline\\\": {\\\"value\\\": \\\"middle\\\"}, \\\"dx\\\": {\\\"value\\\": 0, \\\"offset\\\": 0}, \\\"dy\\\": {\\\"value\\\": 0, \\\"offset\\\": 0}, \\\"angle\\\": {\\\"value\\\": 0}, \\\"font\\\": {\\\"value\\\": \\\"AvenirNext-Medium\\\"}, \\\"fontSize\\\": {\\\"value\\\": 10}, \\\"fontWeight\\\": {\\\"value\\\": \\\"normal\\\"}, \\\"fontStyle\\\": {\\\"value\\\": \\\"normal\\\"}, \\\"fill\\\": {\\\"value\\\": \\\"#6A6A6A\\\"}}, \\\"update\\\": {\\\"x\\\": {\\\"signal\\\": \\\"datum[\\\\\\\"c_x_axis_back\\\\\\\"]+667\\\"}, \\\"y\\\": {\\\"field\\\": \\\"c_mean_val\\\"}}}, \\\"type\\\": \\\"text\\\"}, {\\\"from\\\": {\\\"data\\\": \\\"data_2\\\"}, \\\"encode\\\": {\\\"enter\\\": {\\\"x\\\": {\\\"value\\\": 700}, \\\"y\\\": {\\\"value\\\": 218}, \\\"text\\\": {\\\"signal\\\": \\\"(toString(datum[\\\\\\\"type\\\\\\\"]) == \\\\\\\"integer\\\\\\\" || toString(datum[\\\\\\\"type\\\\\\\"]) == \\\\\\\"float\\\\\\\")?toString(format(datum[\\\\\\\"min\\\\\\\"], \\\\\\\",\\\\\\\")):\\\\\\\"\\\\\\\"\\\"}, \\\"align\\\": {\\\"value\\\": \\\"right\\\"}, \\\"baseline\\\": {\\\"value\\\": \\\"middle\\\"}, \\\"dx\\\": {\\\"value\\\": 0, \\\"offset\\\": 0}, \\\"dy\\\": {\\\"value\\\": 0, \\\"offset\\\": 0}, \\\"angle\\\": {\\\"value\\\": 0}, \\\"font\\\": {\\\"value\\\": \\\"AvenirNext-Medium\\\"}, \\\"fontSize\\\": {\\\"value\\\": 10}, \\\"fontWeight\\\": {\\\"value\\\": \\\"normal\\\"}, \\\"fontStyle\\\": {\\\"value\\\": \\\"normal\\\"}, \\\"fill\\\": {\\\"value\\\": \\\"#6A6A6A\\\"}}, \\\"update\\\": {\\\"x\\\": {\\\"signal\\\": \\\"datum[\\\\\\\"c_x_axis_back\\\\\\\"]+667\\\"}, \\\"y\\\": {\\\"field\\\": \\\"c_min_val\\\"}}}, \\\"type\\\": \\\"text\\\"}, {\\\"from\\\": {\\\"data\\\": \\\"data_2\\\"}, \\\"encode\\\": {\\\"enter\\\": {\\\"x\\\": {\\\"value\\\": 700}, \\\"y\\\": {\\\"value\\\": 238}, \\\"text\\\": {\\\"signal\\\": \\\"(toString(datum[\\\\\\\"type\\\\\\\"]) == \\\\\\\"integer\\\\\\\" || toString(datum[\\\\\\\"type\\\\\\\"]) == \\\\\\\"float\\\\\\\")?toString(format(datum[\\\\\\\"max\\\\\\\"], \\\\\\\",\\\\\\\")):\\\\\\\"\\\\\\\"\\\"}, \\\"align\\\": {\\\"value\\\": \\\"right\\\"}, \\\"baseline\\\": {\\\"value\\\": \\\"middle\\\"}, \\\"dx\\\": {\\\"value\\\": 0, \\\"offset\\\": 0}, \\\"dy\\\": {\\\"value\\\": 0, \\\"offset\\\": 0}, \\\"angle\\\": {\\\"value\\\": 0}, \\\"font\\\": {\\\"value\\\": \\\"AvenirNext-Medium\\\"}, \\\"fontSize\\\": {\\\"value\\\": 10}, \\\"fontWeight\\\": {\\\"value\\\": \\\"normal\\\"}, \\\"fontStyle\\\": {\\\"value\\\": \\\"normal\\\"}, \\\"fill\\\": {\\\"value\\\": \\\"#6A6A6A\\\"}}, \\\"update\\\": {\\\"x\\\": {\\\"signal\\\": \\\"datum[\\\\\\\"c_x_axis_back\\\\\\\"]+667\\\"}, \\\"y\\\": {\\\"field\\\": \\\"c_max_val\\\"}}}, \\\"type\\\": \\\"text\\\"}, {\\\"from\\\": {\\\"data\\\": \\\"data_2\\\"}, \\\"encode\\\": {\\\"enter\\\": {\\\"x\\\": {\\\"value\\\": 700}, \\\"y\\\": {\\\"value\\\": 258}, \\\"text\\\": {\\\"signal\\\": \\\"(toString(datum[\\\\\\\"type\\\\\\\"]) == \\\\\\\"integer\\\\\\\" || toString(datum[\\\\\\\"type\\\\\\\"]) == \\\\\\\"float\\\\\\\")?toString(format(datum[\\\\\\\"median\\\\\\\"], \\\\\\\",\\\\\\\")):\\\\\\\"\\\\\\\"\\\"}, \\\"align\\\": {\\\"value\\\": \\\"right\\\"}, \\\"baseline\\\": {\\\"value\\\": \\\"middle\\\"}, \\\"dx\\\": {\\\"value\\\": 0, \\\"offset\\\": 0}, \\\"dy\\\": {\\\"value\\\": 0, \\\"offset\\\": 0}, \\\"angle\\\": {\\\"value\\\": 0}, \\\"font\\\": {\\\"value\\\": \\\"AvenirNext-Medium\\\"}, \\\"fontSize\\\": {\\\"value\\\": 10}, \\\"fontWeight\\\": {\\\"value\\\": \\\"normal\\\"}, \\\"fontStyle\\\": {\\\"value\\\": \\\"normal\\\"}, \\\"fill\\\": {\\\"value\\\": \\\"#6A6A6A\\\"}}, \\\"update\\\": {\\\"x\\\": {\\\"signal\\\": \\\"datum[\\\\\\\"c_x_axis_back\\\\\\\"]+667\\\"}, \\\"y\\\": {\\\"field\\\": \\\"c_median_val\\\"}}}, \\\"type\\\": \\\"text\\\"}, {\\\"from\\\": {\\\"data\\\": \\\"data_2\\\"}, \\\"encode\\\": {\\\"enter\\\": {\\\"x\\\": {\\\"value\\\": 700}, \\\"y\\\": {\\\"value\\\": 278}, \\\"text\\\": {\\\"signal\\\": \\\"(toString(datum[\\\\\\\"type\\\\\\\"]) == \\\\\\\"integer\\\\\\\" || toString(datum[\\\\\\\"type\\\\\\\"]) == \\\\\\\"float\\\\\\\")?toString(format(datum[\\\\\\\"stdev\\\\\\\"], \\\\\\\",\\\\\\\")):\\\\\\\"\\\\\\\"\\\"}, \\\"align\\\": {\\\"value\\\": \\\"right\\\"}, \\\"baseline\\\": {\\\"value\\\": \\\"middle\\\"}, \\\"dx\\\": {\\\"value\\\": 0, \\\"offset\\\": 0}, \\\"dy\\\": {\\\"value\\\": 0, \\\"offset\\\": 0}, \\\"angle\\\": {\\\"value\\\": 0}, \\\"font\\\": {\\\"value\\\": \\\"AvenirNext-Medium\\\"}, \\\"fontSize\\\": {\\\"value\\\": 10}, \\\"fontWeight\\\": {\\\"value\\\": \\\"normal\\\"}, \\\"fontStyle\\\": {\\\"value\\\": \\\"normal\\\"}, \\\"fill\\\": {\\\"value\\\": \\\"#6A6A6A\\\"}}, \\\"update\\\": {\\\"x\\\": {\\\"signal\\\": \\\"datum[\\\\\\\"c_x_axis_back\\\\\\\"]+667\\\"}, \\\"y\\\": {\\\"field\\\": \\\"c_stdev_val\\\"}}}, \\\"type\\\": \\\"text\\\"}, {\\\"from\\\": {\\\"facet\\\": {\\\"name\\\": \\\"new_data\\\", \\\"data\\\": \\\"data_2\\\", \\\"field\\\": \\\"numeric\\\"}}, \\\"encode\\\": {\\\"enter\\\": {\\\"x\\\": {\\\"value\\\": 120}, \\\"width\\\": {\\\"value\\\": 250}, \\\"y\\\": {\\\"field\\\": \\\"graph_offset\\\"}, \\\"height\\\": {\\\"value\\\": 150}, \\\"fill\\\": {\\\"value\\\": \\\"#ffffff\\\"}, \\\"fillOpacity\\\": {\\\"value\\\": 0}, \\\"stroke\\\": {\\\"value\\\": \\\"#000000\\\"}, \\\"strokeWidth\\\": {\\\"value\\\": 0}}, \\\"update\\\": {\\\"x\\\": {\\\"signal\\\": \\\"datum[\\\\\\\"c_x_axis_back\\\\\\\"]+87\\\"}, \\\"clip\\\": {\\\"field\\\": \\\"c_clip_val\\\"}, \\\"width\\\": {\\\"field\\\": \\\"c_width_numeric_val\\\"}}}, \\\"type\\\": \\\"group\\\", \\\"scales\\\": [{\\\"name\\\": \\\"x\\\", \\\"type\\\": \\\"linear\\\", \\\"domain\\\": {\\\"data\\\": \\\"new_data\\\", \\\"fields\\\": [\\\"left\\\", \\\"right\\\"], \\\"sort\\\": true}, \\\"range\\\": [0, {\\\"signal\\\": \\\"width\\\"}], \\\"nice\\\": true, \\\"zero\\\": true}, {\\\"name\\\": \\\"y\\\", \\\"type\\\": \\\"linear\\\", \\\"domain\\\": {\\\"data\\\": \\\"new_data\\\", \\\"field\\\": \\\"count\\\"}, \\\"range\\\": [{\\\"signal\\\": \\\"height\\\"}, 0], \\\"nice\\\": true, \\\"zero\\\": true}], \\\"axes\\\": [{\\\"title\\\": \\\"Values\\\", \\\"scale\\\": \\\"x\\\", \\\"labelOverlap\\\": true, \\\"orient\\\": \\\"bottom\\\", \\\"tickCount\\\": {\\\"signal\\\": \\\"ceil(width/40)\\\"}, \\\"zindex\\\": 1}, {\\\"scale\\\": \\\"x\\\", \\\"domain\\\": false, \\\"grid\\\": true, \\\"labels\\\": false, \\\"maxExtent\\\": 0, \\\"minExtent\\\": 0, \\\"orient\\\": \\\"bottom\\\", \\\"tickCount\\\": {\\\"signal\\\": \\\"ceil(width/40)\\\"}, \\\"ticks\\\": false, \\\"zindex\\\": 0, \\\"gridScale\\\": \\\"y\\\"}, {\\\"title\\\": \\\"Count\\\", \\\"scale\\\": \\\"y\\\", \\\"labelOverlap\\\": true, \\\"orient\\\": \\\"left\\\", \\\"tickCount\\\": {\\\"signal\\\": \\\"ceil(height/40)\\\"}, \\\"zindex\\\": 1}, {\\\"scale\\\": \\\"y\\\", \\\"domain\\\": false, \\\"grid\\\": true, \\\"labels\\\": false, \\\"maxExtent\\\": 0, \\\"minExtent\\\": 0, \\\"orient\\\": \\\"left\\\", \\\"tickCount\\\": {\\\"signal\\\": \\\"ceil(height/40)\\\"}, \\\"ticks\\\": false, \\\"zindex\\\": 0, \\\"gridScale\\\": \\\"x\\\"}], \\\"style\\\": \\\"cell\\\", \\\"signals\\\": [{\\\"name\\\": \\\"width\\\", \\\"update\\\": \\\"250\\\"}, {\\\"name\\\": \\\"height\\\", \\\"update\\\": \\\"150\\\"}], \\\"marks\\\": [{\\\"name\\\": \\\"marks\\\", \\\"type\\\": \\\"rect\\\", \\\"style\\\": [\\\"rect\\\"], \\\"from\\\": {\\\"data\\\": \\\"new_data\\\"}, \\\"encode\\\": {\\\"hover\\\": {\\\"fill\\\": {\\\"value\\\": \\\"#7EC2F3\\\"}}, \\\"update\\\": {\\\"x\\\": {\\\"scale\\\": \\\"x\\\", \\\"field\\\": \\\"left\\\"}, \\\"x2\\\": {\\\"scale\\\": \\\"x\\\", \\\"field\\\": \\\"right\\\"}, \\\"y\\\": {\\\"scale\\\": \\\"y\\\", \\\"field\\\": \\\"count\\\"}, \\\"y2\\\": {\\\"scale\\\": \\\"y\\\", \\\"value\\\": 0}, \\\"fill\\\": {\\\"value\\\": \\\"#108EE9\\\"}}}}]}, {\\\"from\\\": {\\\"facet\\\": {\\\"name\\\": \\\"data_5\\\", \\\"data\\\": \\\"data_2\\\", \\\"field\\\": \\\"categorical\\\"}}, \\\"encode\\\": {\\\"enter\\\": {\\\"x\\\": {\\\"value\\\": 170}, \\\"width\\\": {\\\"value\\\": 250}, \\\"y\\\": {\\\"field\\\": \\\"graph_offset_categorical\\\"}, \\\"height\\\": {\\\"value\\\": 150}, \\\"fill\\\": {\\\"value\\\": \\\"#ffffff\\\"}, \\\"fillOpacity\\\": {\\\"value\\\": 0}, \\\"stroke\\\": {\\\"value\\\": \\\"#000000\\\"}, \\\"strokeWidth\\\": {\\\"value\\\": 0}}, \\\"update\\\": {\\\"x\\\": {\\\"signal\\\": \\\"datum[\\\\\\\"c_x_axis_back\\\\\\\"]+137\\\"}, \\\"clip\\\": {\\\"field\\\": \\\"c_clip_val_cat\\\"}, \\\"width\\\": {\\\"field\\\": \\\"c_width_numeric_val_cat\\\"}}}, \\\"type\\\": \\\"group\\\", \\\"style\\\": \\\"cell\\\", \\\"signals\\\": [{\\\"name\\\": \\\"unit\\\", \\\"value\\\": {}, \\\"on\\\": [{\\\"events\\\": \\\"mousemove\\\", \\\"update\\\": \\\"isTuple(group()) ? group() : unit\\\"}]}, {\\\"name\\\": \\\"pts\\\", \\\"update\\\": \\\"data(\\\\\\\"pts_store\\\\\\\").length &amp;&amp; {count: data(\\\\\\\"pts_store\\\\\\\")[0].values[0]}\\\"}, {\\\"name\\\": \\\"pts_tuple\\\", \\\"value\\\": {}, \\\"on\\\": [{\\\"events\\\": [{\\\"source\\\": \\\"scope\\\", \\\"type\\\": \\\"click\\\"}], \\\"update\\\": \\\"datum &amp;&amp; item().mark.marktype !== &apos;group&apos; ? {unit: \\\\\\\"\\\\\\\", encodings: [\\\\\\\"x\\\\\\\"], fields: [\\\\\\\"count\\\\\\\"], values: [datum[\\\\\\\"count\\\\\\\"]]} : null\\\", \\\"force\\\": true}]}, {\\\"name\\\": \\\"pts_modify\\\", \\\"on\\\": [{\\\"events\\\": {\\\"signal\\\": \\\"pts_tuple\\\"}, \\\"update\\\": \\\"modify(\\\\\\\"pts_store\\\\\\\", pts_tuple, true)\\\"}]}], \\\"marks\\\": [{\\\"name\\\": \\\"marks\\\", \\\"type\\\": \\\"rect\\\", \\\"style\\\": [\\\"bar\\\"], \\\"from\\\": {\\\"data\\\": \\\"data_5\\\"}, \\\"encode\\\": {\\\"hover\\\": {\\\"fill\\\": {\\\"value\\\": \\\"#7EC2F3\\\"}}, \\\"update\\\": {\\\"x\\\": {\\\"scale\\\": \\\"x\\\", \\\"field\\\": \\\"count\\\"}, \\\"x2\\\": {\\\"scale\\\": \\\"x\\\", \\\"value\\\": 0}, \\\"y\\\": {\\\"scale\\\": \\\"y\\\", \\\"field\\\": \\\"label\\\"}, \\\"height\\\": {\\\"scale\\\": \\\"y\\\", \\\"band\\\": true}, \\\"fill\\\": {\\\"value\\\": \\\"#108EE9\\\"}}}}], \\\"scales\\\": [{\\\"name\\\": \\\"x\\\", \\\"type\\\": \\\"linear\\\", \\\"domain\\\": {\\\"data\\\": \\\"data_5\\\", \\\"field\\\": \\\"count\\\"}, \\\"range\\\": [0, 250], \\\"nice\\\": true, \\\"zero\\\": true}, {\\\"name\\\": \\\"y\\\", \\\"type\\\": \\\"band\\\", \\\"domain\\\": {\\\"data\\\": \\\"data_5\\\", \\\"field\\\": \\\"label\\\", \\\"sort\\\": {\\\"op\\\": \\\"mean\\\", \\\"field\\\": \\\"label_idx\\\", \\\"order\\\": \\\"descending\\\"}}, \\\"range\\\": [150, 0], \\\"paddingInner\\\": 0.1, \\\"paddingOuter\\\": 0.05}], \\\"axes\\\": [{\\\"orient\\\": \\\"top\\\", \\\"scale\\\": \\\"x\\\", \\\"labelOverlap\\\": true, \\\"tickCount\\\": {\\\"signal\\\": \\\"ceil(width/40)\\\"}, \\\"title\\\": \\\"Count\\\", \\\"zindex\\\": 1}, {\\\"orient\\\": \\\"top\\\", \\\"scale\\\": \\\"x\\\", \\\"domain\\\": false, \\\"grid\\\": true, \\\"labels\\\": false, \\\"maxExtent\\\": 0, \\\"minExtent\\\": 0, \\\"tickCount\\\": {\\\"signal\\\": \\\"ceil(width/40)\\\"}, \\\"ticks\\\": false, \\\"zindex\\\": 0, \\\"gridScale\\\": \\\"y\\\"}, {\\\"scale\\\": \\\"y\\\", \\\"labelOverlap\\\": true, \\\"orient\\\": \\\"left\\\", \\\"title\\\": \\\"Label\\\", \\\"zindex\\\": 1}]}], \\\"type\\\": \\\"group\\\"}], \\\"type\\\": \\\"group\\\"}], \\\"config\\\": {\\\"axis\\\": {\\\"labelFont\\\": \\\"HelveticaNeue-Light, Arial\\\", \\\"labelFontSize\\\": 7, \\\"labelPadding\\\": 10, \\\"labelColor\\\": \\\"#595959\\\", \\\"titleFont\\\": \\\"HelveticaNeue-Light, Arial\\\", \\\"titleFontWeight\\\": \\\"normal\\\", \\\"titlePadding\\\": 9, \\\"titleFontSize\\\": 12, \\\"titleColor\\\": \\\"#595959\\\"}, \\\"axisY\\\": {\\\"minExtent\\\": 30}, \\\"style\\\": {\\\"rect\\\": {\\\"stroke\\\": \\\"rgba(200, 200, 200, 0.5)\\\"}, \\\"group-title\\\": {\\\"fontSize\\\": 20, \\\"font\\\": \\\"HelveticaNeue-Light, Arial\\\", \\\"fontWeight\\\": \\\"normal\\\", \\\"fill\\\": \\\"#595959\\\"}}}}\";                                 var vega_json_parsed = JSON.parse(vega_json);                                 var toolTipOpts = {                                     showAllFields: true                                 };                                 if(vega_json_parsed[\"metadata\"] != null){                                     if(vega_json_parsed[\"metadata\"][\"bubbleOpts\"] != null){                                         toolTipOpts = vega_json_parsed[\"metadata\"][\"bubbleOpts\"];                                     };                                 };                                 vegaEmbed(\"#vis\", vega_json_parsed).then(function (result) {                                     vegaTooltip.vega(result.view, toolTipOpts);                                  });                             </script>                         </body>                     </html>' src=\"demo_iframe_srcdoc.htm\">                         <p>Your browser does not support iframes.</p>                     </iframe>                 </body>             </html>"
            ]
          },
          "metadata": {}
        }
      ]
    },
    {
      "cell_type": "markdown",
      "source": [
        "Let's count the number of times that the words 'Sherlock', 'Watson', and 'Elementary' appeared in each text."
      ],
      "metadata": {
        "id": "kGaYzVUPFFTB"
      }
    },
    {
      "cell_type": "code",
      "source": [
        "# number of words\n",
        "sf['words_count'] = tr.text_analytics.count_words(sf['text'], to_lower = True)\n",
        "\n",
        "sf['sherlowk'] = sf['words_count'].apply(lambda d: d.get('sherlock', 0))\n",
        "\n",
        "sf['sherlock_count'] = sf['words_count'].apply(lambda d: d.get('sherlock', 0))\n",
        "sf['watson_count'] = sf['words_count'].apply(lambda d: d.get('watson', 0))\n",
        "sf['elementary_count'] = sf['words_count'].apply(lambda d: d.get('elementary', 0))\n"
      ],
      "metadata": {
        "id": "RVqGHr6OEk--"
      },
      "execution_count": 19,
      "outputs": []
    },
    {
      "cell_type": "code",
      "source": [
        "sf.remove_column('sherlowk', inplace=True)"
      ],
      "metadata": {
        "colab": {
          "base_uri": "https://localhost:8080/",
          "height": 846
        },
        "id": "UgGzUl2EGND4",
        "outputId": "aa12e175-acc7-4c69-846b-0b728141f59b"
      },
      "execution_count": 20,
      "outputs": [
        {
          "output_type": "execute_result",
          "data": {
            "text/plain": [
              "Columns:\n",
              "\tlink\tstr\n",
              "\ttext\tstr\n",
              "\ttitle\tstr\n",
              "\tchars_num\tint\n",
              "\twords_num\tint\n",
              "\tsentences_num\tint\n",
              "\twords_count\tdict\n",
              "\tsherlock_count\tfloat\n",
              "\twatson_count\tfloat\n",
              "\telementary_count\tfloat\n",
              "\n",
              "Rows: 64\n",
              "\n",
              "Data:\n",
              "+------------------------------+-------------------------------+\n",
              "|             link             |              text             |\n",
              "+------------------------------+-------------------------------+\n",
              "| /stories/plain-text/advs.txt | THE ADVENTURES OF SHERLOCK... |\n",
              "| /stories/plain-text/mems.txt | THE MEMOIRS OF SHERLOCK HO... |\n",
              "| /stories/plain-text/retn.txt | THE RETURN OF SHERLOCK HOL... |\n",
              "| /stories/plain-text/lstb.txt | HIS LAST BOW\\n\\n          ... |\n",
              "| /stories/plain-text/stud.txt | A STUDY IN SCARLET\\n\\n    ... |\n",
              "| /stories/plain-text/sign.txt | THE SIGN OF THE FOUR\\n\\n  ... |\n",
              "| /stories/plain-text/houn.txt | THE HOUND OF THE BASKERVIL... |\n",
              "| /stories/plain-text/vall.txt | THE VALLEY OF FEAR\\n\\n    ... |\n",
              "| /stories/plain-text/scan.txt | A SCANDAL IN BOHEMIA\\n\\n  ... |\n",
              "| /stories/plain-text/redh.txt | THE RED-HEADED LEAGUE\\n\\n ... |\n",
              "+------------------------------+-------------------------------+\n",
              "+--------------------------------+-----------+-----------+---------------+\n",
              "|             title              | chars_num | words_num | sentences_num |\n",
              "+--------------------------------+-----------+-----------+---------------+\n",
              "| The Adventures of Sherlock...  |   610836  |   106032  |      6815     |\n",
              "| The Memoirs of Sherlock Holmes |   511733  |   88496   |      5502     |\n",
              "| The Return of Sherlock Holmes  |   662236  |   114457  |      7807     |\n",
              "|          His Last Bow          |   402289  |   68918   |      5086     |\n",
              "|       A Study In Scarlet       |   260045  |   44205   |      2699     |\n",
              "|      The Sign of the Four      |   251806  |   43951   |      2930     |\n",
              "| The Hound of the Baskervilles  |   346398  |   60103   |      3875     |\n",
              "|       The Valley of Fear       |   340222  |   59098   |      4268     |\n",
              "|      A Scandal in Bohemia      |   51395   |    8751   |      673      |\n",
              "|     The Red-Headed League      |   54136   |    9370   |      578      |\n",
              "+--------------------------------+-----------+-----------+---------------+\n",
              "+-------------------------------+----------------+--------------+------------------+\n",
              "|          words_count          | sherlock_count | watson_count | elementary_count |\n",
              "+-------------------------------+----------------+--------------+------------------+\n",
              "| {'additional': 1.0, 'es': ... |      98.0      |     81.0     |       1.0        |\n",
              "| {'smith': 1.0, 'pince': 1.... |      56.0      |    120.0     |       1.0        |\n",
              "| {'1915': 1.0, 'http': 1.0,... |      63.0      |    211.0     |       0.0        |\n",
              "| {'3': 1.0, 'es': 1.0, 'hol... |      37.0      |    197.0     |       2.0        |\n",
              "| {'es': 1.0, 'html': 1.0, '... |      53.0      |     9.0      |       1.0        |\n",
              "| {'es': 1.0, 'holm': 1.0, '... |      36.0      |     24.0     |       0.0        |\n",
              "| {'es': 1.0, 'holm': 1.0, '... |      35.0      |    117.0     |       2.0        |\n",
              "| {'additional': 1.0, 'elect... |      13.0      |     55.0     |       0.0        |\n",
              "| {'version': 1.0, 'addition... |      12.0      |     6.0      |       0.0        |\n",
              "| {'version': 1.0, 'collecti... |      11.0      |     10.0     |       0.0        |\n",
              "+-------------------------------+----------------+--------------+------------------+\n",
              "[64 rows x 10 columns]\n",
              "Note: Only the head of the SFrame is printed.\n",
              "You can use print_rows(num_rows=m, num_columns=n) to print more rows and columns."
            ],
            "text/html": [
              "<div style=\"max-height:1000px;max-width:1500px;overflow:auto;\"><table frame=\"box\" rules=\"cols\">\n",
              "    <tr>\n",
              "        <th style=\"padding-left: 1em; padding-right: 1em; text-align: center\">link</th>\n",
              "        <th style=\"padding-left: 1em; padding-right: 1em; text-align: center\">text</th>\n",
              "        <th style=\"padding-left: 1em; padding-right: 1em; text-align: center\">title</th>\n",
              "        <th style=\"padding-left: 1em; padding-right: 1em; text-align: center\">chars_num</th>\n",
              "        <th style=\"padding-left: 1em; padding-right: 1em; text-align: center\">words_num</th>\n",
              "        <th style=\"padding-left: 1em; padding-right: 1em; text-align: center\">sentences_num</th>\n",
              "    </tr>\n",
              "    <tr>\n",
              "        <td style=\"padding-left: 1em; padding-right: 1em; text-align: center; vertical-align: top\">/stories/plain-<br>text/advs.txt ...</td>\n",
              "        <td style=\"padding-left: 1em; padding-right: 1em; text-align: center; vertical-align: top\">THE ADVENTURES OF<br>SHERLOCK HOLMES\\n\\n ...</td>\n",
              "        <td style=\"padding-left: 1em; padding-right: 1em; text-align: center; vertical-align: top\">The Adventures of<br>Sherlock Holmes ...</td>\n",
              "        <td style=\"padding-left: 1em; padding-right: 1em; text-align: center; vertical-align: top\">610836</td>\n",
              "        <td style=\"padding-left: 1em; padding-right: 1em; text-align: center; vertical-align: top\">106032</td>\n",
              "        <td style=\"padding-left: 1em; padding-right: 1em; text-align: center; vertical-align: top\">6815</td>\n",
              "    </tr>\n",
              "    <tr>\n",
              "        <td style=\"padding-left: 1em; padding-right: 1em; text-align: center; vertical-align: top\">/stories/plain-<br>text/mems.txt ...</td>\n",
              "        <td style=\"padding-left: 1em; padding-right: 1em; text-align: center; vertical-align: top\">THE MEMOIRS OF SHERLOCK<br>HOLMES\\n\\n ...</td>\n",
              "        <td style=\"padding-left: 1em; padding-right: 1em; text-align: center; vertical-align: top\">The Memoirs of Sherlock<br>Holmes ...</td>\n",
              "        <td style=\"padding-left: 1em; padding-right: 1em; text-align: center; vertical-align: top\">511733</td>\n",
              "        <td style=\"padding-left: 1em; padding-right: 1em; text-align: center; vertical-align: top\">88496</td>\n",
              "        <td style=\"padding-left: 1em; padding-right: 1em; text-align: center; vertical-align: top\">5502</td>\n",
              "    </tr>\n",
              "    <tr>\n",
              "        <td style=\"padding-left: 1em; padding-right: 1em; text-align: center; vertical-align: top\">/stories/plain-<br>text/retn.txt ...</td>\n",
              "        <td style=\"padding-left: 1em; padding-right: 1em; text-align: center; vertical-align: top\">THE RETURN OF SHERLOCK<br>HOLMES\\n\\n ...</td>\n",
              "        <td style=\"padding-left: 1em; padding-right: 1em; text-align: center; vertical-align: top\">The Return of Sherlock<br>Holmes ...</td>\n",
              "        <td style=\"padding-left: 1em; padding-right: 1em; text-align: center; vertical-align: top\">662236</td>\n",
              "        <td style=\"padding-left: 1em; padding-right: 1em; text-align: center; vertical-align: top\">114457</td>\n",
              "        <td style=\"padding-left: 1em; padding-right: 1em; text-align: center; vertical-align: top\">7807</td>\n",
              "    </tr>\n",
              "    <tr>\n",
              "        <td style=\"padding-left: 1em; padding-right: 1em; text-align: center; vertical-align: top\">/stories/plain-<br>text/lstb.txt ...</td>\n",
              "        <td style=\"padding-left: 1em; padding-right: 1em; text-align: center; vertical-align: top\">HIS LAST BOW\\n\\n<br>Arthur Conan ...</td>\n",
              "        <td style=\"padding-left: 1em; padding-right: 1em; text-align: center; vertical-align: top\">His Last Bow</td>\n",
              "        <td style=\"padding-left: 1em; padding-right: 1em; text-align: center; vertical-align: top\">402289</td>\n",
              "        <td style=\"padding-left: 1em; padding-right: 1em; text-align: center; vertical-align: top\">68918</td>\n",
              "        <td style=\"padding-left: 1em; padding-right: 1em; text-align: center; vertical-align: top\">5086</td>\n",
              "    </tr>\n",
              "    <tr>\n",
              "        <td style=\"padding-left: 1em; padding-right: 1em; text-align: center; vertical-align: top\">/stories/plain-<br>text/stud.txt ...</td>\n",
              "        <td style=\"padding-left: 1em; padding-right: 1em; text-align: center; vertical-align: top\">A STUDY IN SCARLET\\n\\n<br>Arthur Conan ...</td>\n",
              "        <td style=\"padding-left: 1em; padding-right: 1em; text-align: center; vertical-align: top\">A Study In Scarlet</td>\n",
              "        <td style=\"padding-left: 1em; padding-right: 1em; text-align: center; vertical-align: top\">260045</td>\n",
              "        <td style=\"padding-left: 1em; padding-right: 1em; text-align: center; vertical-align: top\">44205</td>\n",
              "        <td style=\"padding-left: 1em; padding-right: 1em; text-align: center; vertical-align: top\">2699</td>\n",
              "    </tr>\n",
              "    <tr>\n",
              "        <td style=\"padding-left: 1em; padding-right: 1em; text-align: center; vertical-align: top\">/stories/plain-<br>text/sign.txt ...</td>\n",
              "        <td style=\"padding-left: 1em; padding-right: 1em; text-align: center; vertical-align: top\">THE SIGN OF THE FOUR\\n\\n<br>Arthur Conan ...</td>\n",
              "        <td style=\"padding-left: 1em; padding-right: 1em; text-align: center; vertical-align: top\">The Sign of the Four</td>\n",
              "        <td style=\"padding-left: 1em; padding-right: 1em; text-align: center; vertical-align: top\">251806</td>\n",
              "        <td style=\"padding-left: 1em; padding-right: 1em; text-align: center; vertical-align: top\">43951</td>\n",
              "        <td style=\"padding-left: 1em; padding-right: 1em; text-align: center; vertical-align: top\">2930</td>\n",
              "    </tr>\n",
              "    <tr>\n",
              "        <td style=\"padding-left: 1em; padding-right: 1em; text-align: center; vertical-align: top\">/stories/plain-<br>text/houn.txt ...</td>\n",
              "        <td style=\"padding-left: 1em; padding-right: 1em; text-align: center; vertical-align: top\">THE HOUND OF THE<br>BASKERVILLES\\n\\n ...</td>\n",
              "        <td style=\"padding-left: 1em; padding-right: 1em; text-align: center; vertical-align: top\">The Hound of the<br>Baskervilles ...</td>\n",
              "        <td style=\"padding-left: 1em; padding-right: 1em; text-align: center; vertical-align: top\">346398</td>\n",
              "        <td style=\"padding-left: 1em; padding-right: 1em; text-align: center; vertical-align: top\">60103</td>\n",
              "        <td style=\"padding-left: 1em; padding-right: 1em; text-align: center; vertical-align: top\">3875</td>\n",
              "    </tr>\n",
              "    <tr>\n",
              "        <td style=\"padding-left: 1em; padding-right: 1em; text-align: center; vertical-align: top\">/stories/plain-<br>text/vall.txt ...</td>\n",
              "        <td style=\"padding-left: 1em; padding-right: 1em; text-align: center; vertical-align: top\">THE VALLEY OF FEAR\\n\\n<br>Arthur Conan ...</td>\n",
              "        <td style=\"padding-left: 1em; padding-right: 1em; text-align: center; vertical-align: top\">The Valley of Fear</td>\n",
              "        <td style=\"padding-left: 1em; padding-right: 1em; text-align: center; vertical-align: top\">340222</td>\n",
              "        <td style=\"padding-left: 1em; padding-right: 1em; text-align: center; vertical-align: top\">59098</td>\n",
              "        <td style=\"padding-left: 1em; padding-right: 1em; text-align: center; vertical-align: top\">4268</td>\n",
              "    </tr>\n",
              "    <tr>\n",
              "        <td style=\"padding-left: 1em; padding-right: 1em; text-align: center; vertical-align: top\">/stories/plain-<br>text/scan.txt ...</td>\n",
              "        <td style=\"padding-left: 1em; padding-right: 1em; text-align: center; vertical-align: top\">A SCANDAL IN BOHEMIA\\n\\n<br>Arthur Conan ...</td>\n",
              "        <td style=\"padding-left: 1em; padding-right: 1em; text-align: center; vertical-align: top\">A Scandal in Bohemia</td>\n",
              "        <td style=\"padding-left: 1em; padding-right: 1em; text-align: center; vertical-align: top\">51395</td>\n",
              "        <td style=\"padding-left: 1em; padding-right: 1em; text-align: center; vertical-align: top\">8751</td>\n",
              "        <td style=\"padding-left: 1em; padding-right: 1em; text-align: center; vertical-align: top\">673</td>\n",
              "    </tr>\n",
              "    <tr>\n",
              "        <td style=\"padding-left: 1em; padding-right: 1em; text-align: center; vertical-align: top\">/stories/plain-<br>text/redh.txt ...</td>\n",
              "        <td style=\"padding-left: 1em; padding-right: 1em; text-align: center; vertical-align: top\">THE RED-HEADED LEAGUE\\n\\n<br>Arthur Conan ...</td>\n",
              "        <td style=\"padding-left: 1em; padding-right: 1em; text-align: center; vertical-align: top\">The Red-Headed League</td>\n",
              "        <td style=\"padding-left: 1em; padding-right: 1em; text-align: center; vertical-align: top\">54136</td>\n",
              "        <td style=\"padding-left: 1em; padding-right: 1em; text-align: center; vertical-align: top\">9370</td>\n",
              "        <td style=\"padding-left: 1em; padding-right: 1em; text-align: center; vertical-align: top\">578</td>\n",
              "    </tr>\n",
              "</table>\n",
              "<table frame=\"box\" rules=\"cols\">\n",
              "    <tr>\n",
              "        <th style=\"padding-left: 1em; padding-right: 1em; text-align: center\">words_count</th>\n",
              "        <th style=\"padding-left: 1em; padding-right: 1em; text-align: center\">sherlock_count</th>\n",
              "        <th style=\"padding-left: 1em; padding-right: 1em; text-align: center\">watson_count</th>\n",
              "        <th style=\"padding-left: 1em; padding-right: 1em; text-align: center\">elementary_count</th>\n",
              "    </tr>\n",
              "    <tr>\n",
              "        <td style=\"padding-left: 1em; padding-right: 1em; text-align: center; vertical-align: top\">{&#x27;additional&#x27;: 1.0, &#x27;es&#x27;:<br>1.0, &#x27;http&#x27;: 1.0, &#x27;ht ...</td>\n",
              "        <td style=\"padding-left: 1em; padding-right: 1em; text-align: center; vertical-align: top\">98.0</td>\n",
              "        <td style=\"padding-left: 1em; padding-right: 1em; text-align: center; vertical-align: top\">81.0</td>\n",
              "        <td style=\"padding-left: 1em; padding-right: 1em; text-align: center; vertical-align: top\">1.0</td>\n",
              "    </tr>\n",
              "    <tr>\n",
              "        <td style=\"padding-left: 1em; padding-right: 1em; text-align: center; vertical-align: top\">{&#x27;smith&#x27;: 1.0, &#x27;pince&#x27;:<br>1.0, &#x27;priory&#x27;: 1.0, &#x27; ...</td>\n",
              "        <td style=\"padding-left: 1em; padding-right: 1em; text-align: center; vertical-align: top\">56.0</td>\n",
              "        <td style=\"padding-left: 1em; padding-right: 1em; text-align: center; vertical-align: top\">120.0</td>\n",
              "        <td style=\"padding-left: 1em; padding-right: 1em; text-align: center; vertical-align: top\">1.0</td>\n",
              "    </tr>\n",
              "    <tr>\n",
              "        <td style=\"padding-left: 1em; padding-right: 1em; text-align: center; vertical-align: top\">{&#x27;1915&#x27;: 1.0, &#x27;http&#x27;:<br>1.0, &#x27;ascii&#x27;: 1.0, ...</td>\n",
              "        <td style=\"padding-left: 1em; padding-right: 1em; text-align: center; vertical-align: top\">63.0</td>\n",
              "        <td style=\"padding-left: 1em; padding-right: 1em; text-align: center; vertical-align: top\">211.0</td>\n",
              "        <td style=\"padding-left: 1em; padding-right: 1em; text-align: center; vertical-align: top\">0.0</td>\n",
              "    </tr>\n",
              "    <tr>\n",
              "        <td style=\"padding-left: 1em; padding-right: 1em; text-align: center; vertical-align: top\">{&#x27;3&#x27;: 1.0, &#x27;es&#x27;: 1.0,<br>&#x27;holm&#x27;: 1.0, &#x27;html&#x27;:  ...</td>\n",
              "        <td style=\"padding-left: 1em; padding-right: 1em; text-align: center; vertical-align: top\">37.0</td>\n",
              "        <td style=\"padding-left: 1em; padding-right: 1em; text-align: center; vertical-align: top\">197.0</td>\n",
              "        <td style=\"padding-left: 1em; padding-right: 1em; text-align: center; vertical-align: top\">2.0</td>\n",
              "    </tr>\n",
              "    <tr>\n",
              "        <td style=\"padding-left: 1em; padding-right: 1em; text-align: center; vertical-align: top\">{&#x27;es&#x27;: 1.0, &#x27;html&#x27;: 1.0,<br>&#x27;fitness&#x27;: 1.0, ...</td>\n",
              "        <td style=\"padding-left: 1em; padding-right: 1em; text-align: center; vertical-align: top\">53.0</td>\n",
              "        <td style=\"padding-left: 1em; padding-right: 1em; text-align: center; vertical-align: top\">9.0</td>\n",
              "        <td style=\"padding-left: 1em; padding-right: 1em; text-align: center; vertical-align: top\">1.0</td>\n",
              "    </tr>\n",
              "    <tr>\n",
              "        <td style=\"padding-left: 1em; padding-right: 1em; text-align: center; vertical-align: top\">{&#x27;es&#x27;: 1.0, &#x27;holm&#x27;: 1.0,<br>&#x27;html&#x27;: 1.0, &#x27;formatt ...</td>\n",
              "        <td style=\"padding-left: 1em; padding-right: 1em; text-align: center; vertical-align: top\">36.0</td>\n",
              "        <td style=\"padding-left: 1em; padding-right: 1em; text-align: center; vertical-align: top\">24.0</td>\n",
              "        <td style=\"padding-left: 1em; padding-right: 1em; text-align: center; vertical-align: top\">0.0</td>\n",
              "    </tr>\n",
              "    <tr>\n",
              "        <td style=\"padding-left: 1em; padding-right: 1em; text-align: center; vertical-align: top\">{&#x27;es&#x27;: 1.0, &#x27;holm&#x27;: 1.0,<br>&#x27;http&#x27;: 1.0, &#x27;html&#x27;:  ...</td>\n",
              "        <td style=\"padding-left: 1em; padding-right: 1em; text-align: center; vertical-align: top\">35.0</td>\n",
              "        <td style=\"padding-left: 1em; padding-right: 1em; text-align: center; vertical-align: top\">117.0</td>\n",
              "        <td style=\"padding-left: 1em; padding-right: 1em; text-align: center; vertical-align: top\">2.0</td>\n",
              "    </tr>\n",
              "    <tr>\n",
              "        <td style=\"padding-left: 1em; padding-right: 1em; text-align: center; vertical-align: top\">{&#x27;additional&#x27;: 1.0,<br>&#x27;electronic&#x27;: 1.0, &#x27;es&#x27;: ...</td>\n",
              "        <td style=\"padding-left: 1em; padding-right: 1em; text-align: center; vertical-align: top\">13.0</td>\n",
              "        <td style=\"padding-left: 1em; padding-right: 1em; text-align: center; vertical-align: top\">55.0</td>\n",
              "        <td style=\"padding-left: 1em; padding-right: 1em; text-align: center; vertical-align: top\">0.0</td>\n",
              "    </tr>\n",
              "    <tr>\n",
              "        <td style=\"padding-left: 1em; padding-right: 1em; text-align: center; vertical-align: top\">{&#x27;version&#x27;: 1.0,<br>&#x27;additional&#x27;: 1.0, &#x27;es&#x27;: ...</td>\n",
              "        <td style=\"padding-left: 1em; padding-right: 1em; text-align: center; vertical-align: top\">12.0</td>\n",
              "        <td style=\"padding-left: 1em; padding-right: 1em; text-align: center; vertical-align: top\">6.0</td>\n",
              "        <td style=\"padding-left: 1em; padding-right: 1em; text-align: center; vertical-align: top\">0.0</td>\n",
              "    </tr>\n",
              "    <tr>\n",
              "        <td style=\"padding-left: 1em; padding-right: 1em; text-align: center; vertical-align: top\">{&#x27;version&#x27;: 1.0,<br>&#x27;collection&#x27;: 1.0, ...</td>\n",
              "        <td style=\"padding-left: 1em; padding-right: 1em; text-align: center; vertical-align: top\">11.0</td>\n",
              "        <td style=\"padding-left: 1em; padding-right: 1em; text-align: center; vertical-align: top\">10.0</td>\n",
              "        <td style=\"padding-left: 1em; padding-right: 1em; text-align: center; vertical-align: top\">0.0</td>\n",
              "    </tr>\n",
              "</table>\n",
              "[64 rows x 10 columns]<br/>Note: Only the head of the SFrame is printed.<br/>You can use print_rows(num_rows=m, num_columns=n) to print more rows and columns.\n",
              "</div>"
            ]
          },
          "metadata": {},
          "execution_count": 20
        }
      ]
    },
    {
      "cell_type": "markdown",
      "source": [
        "Let's describe the three columns."
      ],
      "metadata": {
        "id": "G0v_JdLVF_L8"
      }
    },
    {
      "cell_type": "code",
      "source": [
        "sf[['sherlock_count', 'watson_count', 'elementary_count']].show()"
      ],
      "metadata": {
        "colab": {
          "base_uri": "https://localhost:8080/",
          "height": 1000
        },
        "id": "k9MIRpHWF93z",
        "outputId": "6d853964-9251-4e42-b450-95d31cde9076"
      },
      "execution_count": 21,
      "outputs": [
        {
          "output_type": "display_data",
          "data": {
            "text/plain": [
              "Materializing SFrame"
            ],
            "text/html": [
              "<pre>Materializing SFrame</pre>"
            ]
          },
          "metadata": {}
        },
        {
          "output_type": "display_data",
          "data": {
            "text/plain": [
              "<IPython.core.display.HTML object>"
            ],
            "text/html": [
              "<html>                 <body>                     <iframe style=\"border:0;margin:0\" width=\"1000\" height=\"1200\" srcdoc='<html lang=\"en\">                         <head>                             <script src=\"https://cdnjs.cloudflare.com/ajax/libs/vega/5.4.0/vega.js\"></script>                             <script src=\"https://cdnjs.cloudflare.com/ajax/libs/vega-embed/4.0.0/vega-embed.js\"></script>                             <script src=\"https://cdnjs.cloudflare.com/ajax/libs/vega-tooltip/0.5.1/vega-tooltip.min.js\"></script>                             <link rel=\"stylesheet\" type=\"text/css\" href=\"https://cdnjs.cloudflare.com/ajax/libs/vega-tooltip/0.5.1/vega-tooltip.min.css\">                             <style>                             .vega-actions > a{                                 color:white;                                 text-decoration: none;                                 font-family: \"Arial\";                                 cursor:pointer;                                 padding:5px;                                 background:#AAAAAA;                                 border-radius:4px;                                 padding-left:10px;                                 padding-right:10px;                                 margin-right:5px;                             }                             .vega-actions{                                 margin-top:20px;                                 text-align:center                             }                            .vega-actions > a{                                 background:#999999;                            }                             </style>                         </head>                         <body>                             <div id=\"vis\">                             </div>                             <script>                                 var vega_json = \"{\\\"$schema\\\": \\\"https://vega.github.io/schema/vega/v4.json\\\", \\\"metadata\\\": {\\\"bubbleOpts\\\": {\\\"showAllFields\\\": false, \\\"fields\\\": [{\\\"field\\\": \\\"left\\\"}, {\\\"field\\\": \\\"right\\\"}, {\\\"field\\\": \\\"count\\\"}, {\\\"field\\\": \\\"label\\\"}]}}, \\\"width\\\": 800, \\\"height\\\": 980, \\\"padding\\\": 8, \\\"data\\\": [{\\\"name\\\": \\\"pts_store\\\"}, {\\\"name\\\": \\\"source_2\\\", \\\"values\\\": [{\\\"a\\\": 0, \\\"title\\\": \\\"sherlock_count\\\", \\\"num_row\\\": 64, \\\"type\\\": \\\"float\\\", \\\"num_unique\\\": 21, \\\"num_missing\\\": 0, \\\"mean\\\": 11.265625, \\\"min\\\": 1.0, \\\"max\\\": 98.0, \\\"median\\\": 6.0, \\\"stdev\\\": 16.861793, \\\"numeric\\\": [{\\\"left\\\": 0.896, \\\"right\\\": 5.768, \\\"count\\\": 31}, {\\\"left\\\": 5.768, \\\"right\\\": 10.64, \\\"count\\\": 17}, {\\\"left\\\": 10.64, \\\"right\\\": 15.512, \\\"count\\\": 8}, {\\\"left\\\": 15.512, \\\"right\\\": 20.384, \\\"count\\\": 0}, {\\\"left\\\": 20.384, \\\"right\\\": 25.256, \\\"count\\\": 1}, {\\\"left\\\": 25.256, \\\"right\\\": 30.128, \\\"count\\\": 0}, {\\\"left\\\": 30.128, \\\"right\\\": 35, \\\"count\\\": 0}, {\\\"left\\\": 35, \\\"right\\\": 39.872, \\\"count\\\": 3}, {\\\"left\\\": 39.872, \\\"right\\\": 44.744, \\\"count\\\": 0}, {\\\"left\\\": 44.744, \\\"right\\\": 49.616, \\\"count\\\": 0}, {\\\"left\\\": 49.616, \\\"right\\\": 54.488, \\\"count\\\": 1}, {\\\"left\\\": 54.488, \\\"right\\\": 59.36, \\\"count\\\": 1}, {\\\"left\\\": 59.36, \\\"right\\\": 64.232, \\\"count\\\": 1}, {\\\"left\\\": 64.232, \\\"right\\\": 69.104, \\\"count\\\": 0}, {\\\"left\\\": 69.104, \\\"right\\\": 73.976, \\\"count\\\": 0}, {\\\"left\\\": 73.976, \\\"right\\\": 78.848, \\\"count\\\": 0}, {\\\"left\\\": 78.848, \\\"right\\\": 83.72, \\\"count\\\": 0}, {\\\"left\\\": 83.72, \\\"right\\\": 88.592, \\\"count\\\": 0}, {\\\"left\\\": 88.592, \\\"right\\\": 93.464, \\\"count\\\": 0}, {\\\"left\\\": 93.464, \\\"right\\\": 98.336, \\\"count\\\": 1}, {\\\"start\\\": 0.896, \\\"stop\\\": 98.336, \\\"step\\\": 4.872}], \\\"categorical\\\": []}, {\\\"a\\\": 1, \\\"title\\\": \\\"watson_count\\\", \\\"num_row\\\": 64, \\\"type\\\": \\\"float\\\", \\\"num_unique\\\": 33, \\\"num_missing\\\": 0, \\\"mean\\\": 25.703125, \\\"min\\\": 0.0, \\\"max\\\": 211.0, \\\"median\\\": 16.0, \\\"stdev\\\": 38.803463, \\\"numeric\\\": [{\\\"left\\\": -0.588, \\\"right\\\": 10.02, \\\"count\\\": 22}, {\\\"left\\\": 10.02, \\\"right\\\": 20.628, \\\"count\\\": 20}, {\\\"left\\\": 20.628, \\\"right\\\": 31.236, \\\"count\\\": 15}, {\\\"left\\\": 31.236, \\\"right\\\": 41.844, \\\"count\\\": 0}, {\\\"left\\\": 41.844, \\\"right\\\": 52.452, \\\"count\\\": 1}, {\\\"left\\\": 52.452, \\\"right\\\": 63.06, \\\"count\\\": 1}, {\\\"left\\\": 63.06, \\\"right\\\": 73.668, \\\"count\\\": 0}, {\\\"left\\\": 73.668, \\\"right\\\": 84.276, \\\"count\\\": 1}, {\\\"left\\\": 84.276, \\\"right\\\": 94.884, \\\"count\\\": 0}, {\\\"left\\\": 94.884, \\\"right\\\": 105.492, \\\"count\\\": 0}, {\\\"left\\\": 105.492, \\\"right\\\": 116.1, \\\"count\\\": 0}, {\\\"left\\\": 116.1, \\\"right\\\": 126.708, \\\"count\\\": 2}, {\\\"left\\\": 126.708, \\\"right\\\": 137.316, \\\"count\\\": 0}, {\\\"left\\\": 137.316, \\\"right\\\": 147.924, \\\"count\\\": 0}, {\\\"left\\\": 147.924, \\\"right\\\": 158.532, \\\"count\\\": 0}, {\\\"left\\\": 158.532, \\\"right\\\": 169.14, \\\"count\\\": 0}, {\\\"left\\\": 169.14, \\\"right\\\": 179.748, \\\"count\\\": 0}, {\\\"left\\\": 179.748, \\\"right\\\": 190.356, \\\"count\\\": 0}, {\\\"left\\\": 190.356, \\\"right\\\": 200.964, \\\"count\\\": 1}, {\\\"left\\\": 200.964, \\\"right\\\": 211.572, \\\"count\\\": 1}, {\\\"start\\\": -0.588, \\\"stop\\\": 211.572, \\\"step\\\": 10.608}], \\\"categorical\\\": []}, {\\\"a\\\": 2, \\\"title\\\": \\\"elementary_count\\\", \\\"num_row\\\": 64, \\\"type\\\": \\\"float\\\", \\\"num_unique\\\": 3, \\\"num_missing\\\": 0, \\\"mean\\\": 0.1875, \\\"min\\\": 0.0, \\\"max\\\": 2.0, \\\"median\\\": 0.0, \\\"stdev\\\": 0.463512, \\\"numeric\\\": [{\\\"left\\\": -0.02412, \\\"right\\\": 0.07828, \\\"count\\\": 54}, {\\\"left\\\": 0.07828, \\\"right\\\": 0.18068, \\\"count\\\": 0}, {\\\"left\\\": 0.18068, \\\"right\\\": 0.28308, \\\"count\\\": 0}, {\\\"left\\\": 0.28308, \\\"right\\\": 0.38548, \\\"count\\\": 0}, {\\\"left\\\": 0.38548, \\\"right\\\": 0.48788, \\\"count\\\": 0}, {\\\"left\\\": 0.48788, \\\"right\\\": 0.59028, \\\"count\\\": 0}, {\\\"left\\\": 0.59028, \\\"right\\\": 0.69268, \\\"count\\\": 0}, {\\\"left\\\": 0.69268, \\\"right\\\": 0.79508, \\\"count\\\": 0}, {\\\"left\\\": 0.79508, \\\"right\\\": 0.89748, \\\"count\\\": 0}, {\\\"left\\\": 0.89748, \\\"right\\\": 0.99988, \\\"count\\\": 0}, {\\\"left\\\": 0.99988, \\\"right\\\": 1.10228, \\\"count\\\": 8}, {\\\"left\\\": 1.10228, \\\"right\\\": 1.20468, \\\"count\\\": 0}, {\\\"left\\\": 1.20468, \\\"right\\\": 1.30708, \\\"count\\\": 0}, {\\\"left\\\": 1.30708, \\\"right\\\": 1.40948, \\\"count\\\": 0}, {\\\"left\\\": 1.40948, \\\"right\\\": 1.51188, \\\"count\\\": 0}, {\\\"left\\\": 1.51188, \\\"right\\\": 1.61428, \\\"count\\\": 0}, {\\\"left\\\": 1.61428, \\\"right\\\": 1.71668, \\\"count\\\": 0}, {\\\"left\\\": 1.71668, \\\"right\\\": 1.81908, \\\"count\\\": 0}, {\\\"left\\\": 1.81908, \\\"right\\\": 1.92148, \\\"count\\\": 0}, {\\\"left\\\": 1.92148, \\\"right\\\": 2.02388, \\\"count\\\": 2}, {\\\"start\\\": -0.02412, \\\"stop\\\": 2.02388, \\\"step\\\": 0.1024}], \\\"categorical\\\": []}]}, {\\\"name\\\": \\\"data_2\\\", \\\"source\\\": \\\"source_2\\\", \\\"transform\\\": [{\\\"type\\\": \\\"formula\\\", \\\"expr\\\": \\\"20\\\", \\\"as\\\": \\\"c_x_axis_back\\\"}, {\\\"type\\\": \\\"formula\\\", \\\"expr\\\": \\\"toNumber(datum[\\\\\\\"a\\\\\\\"])*300+66\\\", \\\"as\\\": \\\"c_main_background\\\"}, {\\\"type\\\": \\\"formula\\\", \\\"expr\\\": \\\"toNumber(datum[\\\\\\\"a\\\\\\\"])*300+43\\\", \\\"as\\\": \\\"c_top_bar\\\"}, {\\\"type\\\": \\\"formula\\\", \\\"expr\\\": \\\"toNumber(datum[\\\\\\\"a\\\\\\\"])*300+59\\\", \\\"as\\\": \\\"c_top_title\\\"}, {\\\"type\\\": \\\"formula\\\", \\\"expr\\\": \\\"toNumber(datum[\\\\\\\"a\\\\\\\"])*300+58\\\", \\\"as\\\": \\\"c_top_type\\\"}, {\\\"type\\\": \\\"formula\\\", \\\"expr\\\": \\\"toNumber(datum[\\\\\\\"a\\\\\\\"])*300+178\\\", \\\"as\\\": \\\"c_rule\\\"}, {\\\"type\\\": \\\"formula\\\", \\\"expr\\\": \\\"toNumber(datum[\\\\\\\"a\\\\\\\"])*300+106\\\", \\\"as\\\": \\\"c_num_rows\\\"}, {\\\"type\\\": \\\"formula\\\", \\\"expr\\\": \\\"toNumber(datum[\\\\\\\"a\\\\\\\"])*300+130\\\", \\\"as\\\": \\\"c_num_unique\\\"}, {\\\"type\\\": \\\"formula\\\", \\\"expr\\\": \\\"toNumber(datum[\\\\\\\"a\\\\\\\"])*300+154\\\", \\\"as\\\": \\\"c_missing\\\"}, {\\\"type\\\": \\\"formula\\\", \\\"expr\\\": \\\"toNumber(datum[\\\\\\\"a\\\\\\\"])*300+105\\\", \\\"as\\\": \\\"c_num_rows_val\\\"}, {\\\"type\\\": \\\"formula\\\", \\\"expr\\\": \\\"toNumber(datum[\\\\\\\"a\\\\\\\"])*300+130\\\", \\\"as\\\": \\\"c_num_unique_val\\\"}, {\\\"type\\\": \\\"formula\\\", \\\"expr\\\": \\\"toNumber(datum[\\\\\\\"a\\\\\\\"])*300+154\\\", \\\"as\\\": \\\"c_missing_val\\\"}, {\\\"type\\\": \\\"formula\\\", \\\"expr\\\": \\\"toNumber(datum[\\\\\\\"a\\\\\\\"])*300+195\\\", \\\"as\\\": \\\"c_frequent_items\\\"}, {\\\"type\\\": \\\"formula\\\", \\\"expr\\\": \\\"toNumber(datum[\\\\\\\"a\\\\\\\"])*300+218\\\", \\\"as\\\": \\\"c_first_item\\\"}, {\\\"type\\\": \\\"formula\\\", \\\"expr\\\": \\\"toNumber(datum[\\\\\\\"a\\\\\\\"])*300+235\\\", \\\"as\\\": \\\"c_second_item\\\"}, {\\\"type\\\": \\\"formula\\\", \\\"expr\\\": \\\"toNumber(datum[\\\\\\\"a\\\\\\\"])*300+252\\\", \\\"as\\\": \\\"c_third_item\\\"}, {\\\"type\\\": \\\"formula\\\", \\\"expr\\\": \\\"toNumber(datum[\\\\\\\"a\\\\\\\"])*300+269\\\", \\\"as\\\": \\\"c_fourth_item\\\"}, {\\\"type\\\": \\\"formula\\\", \\\"expr\\\": \\\"toNumber(datum[\\\\\\\"a\\\\\\\"])*300+286\\\", \\\"as\\\": \\\"c_fifth_item\\\"}, {\\\"type\\\": \\\"formula\\\", \\\"expr\\\": \\\"toNumber(datum[\\\\\\\"a\\\\\\\"])*300+200\\\", \\\"as\\\": \\\"c_mean\\\"}, {\\\"type\\\": \\\"formula\\\", \\\"expr\\\": \\\"toNumber(datum[\\\\\\\"a\\\\\\\"])*300+220\\\", \\\"as\\\": \\\"c_min\\\"}, {\\\"type\\\": \\\"formula\\\", \\\"expr\\\": \\\"toNumber(datum[\\\\\\\"a\\\\\\\"])*300+240\\\", \\\"as\\\": \\\"c_max\\\"}, {\\\"type\\\": \\\"formula\\\", \\\"expr\\\": \\\"toNumber(datum[\\\\\\\"a\\\\\\\"])*300+260\\\", \\\"as\\\": \\\"c_median\\\"}, {\\\"type\\\": \\\"formula\\\", \\\"expr\\\": \\\"toNumber(datum[\\\\\\\"a\\\\\\\"])*300+280\\\", \\\"as\\\": \\\"c_stdev\\\"}, {\\\"type\\\": \\\"formula\\\", \\\"expr\\\": \\\"toNumber(datum[\\\\\\\"a\\\\\\\"])*300+198\\\", \\\"as\\\": \\\"c_mean_val\\\"}, {\\\"type\\\": \\\"formula\\\", \\\"expr\\\": \\\"toNumber(datum[\\\\\\\"a\\\\\\\"])*300+218\\\", \\\"as\\\": \\\"c_min_val\\\"}, {\\\"type\\\": \\\"formula\\\", \\\"expr\\\": \\\"toNumber(datum[\\\\\\\"a\\\\\\\"])*300+238\\\", \\\"as\\\": \\\"c_max_val\\\"}, {\\\"type\\\": \\\"formula\\\", \\\"expr\\\": \\\"toNumber(datum[\\\\\\\"a\\\\\\\"])*300+258\\\", \\\"as\\\": \\\"c_median_val\\\"}, {\\\"type\\\": \\\"formula\\\", \\\"expr\\\": \\\"toNumber(datum[\\\\\\\"a\\\\\\\"])*300+278\\\", \\\"as\\\": \\\"c_stdev_val\\\"}, {\\\"type\\\": \\\"formula\\\", \\\"expr\\\": \\\"toNumber(datum[\\\\\\\"a\\\\\\\"])*300+106\\\", \\\"as\\\": \\\"graph_offset\\\"}, {\\\"type\\\": \\\"formula\\\", \\\"expr\\\": \\\"toNumber(datum[\\\\\\\"a\\\\\\\"])*300+132\\\", \\\"as\\\": \\\"graph_offset_categorical\\\"}, {\\\"type\\\": \\\"formula\\\", \\\"expr\\\": \\\"(toString(datum[\\\\\\\"type\\\\\\\"]) == \\\\\\\"integer\\\\\\\" || toString(datum[\\\\\\\"type\\\\\\\"]) == \\\\\\\"float\\\\\\\")?false:true\\\", \\\"as\\\": \\\"c_clip_val\\\"}, {\\\"type\\\": \\\"formula\\\", \\\"expr\\\": \\\"(toString(datum[\\\\\\\"type\\\\\\\"]) == \\\\\\\"integer\\\\\\\" || toString(datum[\\\\\\\"type\\\\\\\"]) == \\\\\\\"float\\\\\\\")?250:0\\\", \\\"as\\\": \\\"c_width_numeric_val\\\"}, {\\\"type\\\": \\\"formula\\\", \\\"expr\\\": \\\"(toString(datum[\\\\\\\"type\\\\\\\"]) == \\\\\\\"str\\\\\\\")?false:true\\\", \\\"as\\\": \\\"c_clip_val_cat\\\"}, {\\\"type\\\": \\\"formula\\\", \\\"expr\\\": \\\"(toString(datum[\\\\\\\"type\\\\\\\"]) == \\\\\\\"str\\\\\\\")?250:0\\\", \\\"as\\\": \\\"c_width_numeric_val_cat\\\"}]}], \\\"marks\\\": [{\\\"encode\\\": {\\\"enter\\\": {\\\"x\\\": {\\\"value\\\": 0}, \\\"width\\\": {\\\"value\\\": 734}, \\\"y\\\": {\\\"value\\\": 0}, \\\"height\\\": {\\\"value\\\": 366}, \\\"clip\\\": {\\\"value\\\": 0}, \\\"fill\\\": {\\\"value\\\": \\\"#ffffff\\\"}, \\\"fillOpacity\\\": {\\\"value\\\": 0}, \\\"stroke\\\": {\\\"value\\\": \\\"#000000\\\"}, \\\"strokeWidth\\\": {\\\"value\\\": 0}}}, \\\"marks\\\": [{\\\"encode\\\": {\\\"enter\\\": {\\\"x\\\": {\\\"value\\\": 0}, \\\"width\\\": {\\\"value\\\": 734}, \\\"y\\\": {\\\"value\\\": 0}, \\\"height\\\": {\\\"value\\\": 366}, \\\"clip\\\": {\\\"value\\\": 0}, \\\"fill\\\": {\\\"value\\\": \\\"#ffffff\\\"}, \\\"fillOpacity\\\": {\\\"value\\\": 0}, \\\"stroke\\\": {\\\"value\\\": \\\"#000000\\\"}, \\\"strokeWidth\\\": {\\\"value\\\": 0}}}, \\\"scales\\\": [], \\\"axes\\\": [], \\\"marks\\\": [{\\\"from\\\": {\\\"data\\\": \\\"data_2\\\"}, \\\"encode\\\": {\\\"enter\\\": {\\\"x\\\": {\\\"value\\\": 33}, \\\"width\\\": {\\\"value\\\": 700}, \\\"y\\\": {\\\"value\\\": 66}, \\\"height\\\": {\\\"value\\\": 250}, \\\"fill\\\": {\\\"value\\\": \\\"#FEFEFE\\\"}, \\\"fillOpacity\\\": {\\\"value\\\": 1}, \\\"stroke\\\": {\\\"value\\\": \\\"#DEDEDE\\\"}, \\\"strokeWidth\\\": {\\\"value\\\": 0.5}}, \\\"update\\\": {\\\"x\\\": {\\\"signal\\\": \\\"datum[\\\\\\\"c_x_axis_back\\\\\\\"]\\\"}, \\\"y\\\": {\\\"field\\\": \\\"c_main_background\\\"}}}, \\\"type\\\": \\\"rect\\\"}, {\\\"from\\\": {\\\"data\\\": \\\"data_2\\\"}, \\\"encode\\\": {\\\"enter\\\": {\\\"x\\\": {\\\"value\\\": 33}, \\\"width\\\": {\\\"value\\\": 700}, \\\"y\\\": {\\\"value\\\": 43}, \\\"height\\\": {\\\"value\\\": 30}, \\\"fill\\\": {\\\"value\\\": \\\"#F5F5F5\\\"}, \\\"fillOpacity\\\": {\\\"value\\\": 1}, \\\"stroke\\\": {\\\"value\\\": \\\"#DEDEDE\\\"}, \\\"strokeWidth\\\": {\\\"value\\\": 0.5}}, \\\"update\\\": {\\\"x\\\": {\\\"signal\\\": \\\"datum[\\\\\\\"c_x_axis_back\\\\\\\"]\\\"}, \\\"y\\\": {\\\"field\\\": \\\"c_top_bar\\\"}}}, \\\"type\\\": \\\"rect\\\"}, {\\\"from\\\": {\\\"data\\\": \\\"data_2\\\"}, \\\"encode\\\": {\\\"enter\\\": {\\\"x\\\": {\\\"value\\\": 720}, \\\"y\\\": {\\\"value\\\": 58}, \\\"text\\\": {\\\"signal\\\": \\\"&apos;&apos;+datum[\\\\\\\"type\\\\\\\"]\\\"}, \\\"align\\\": {\\\"value\\\": \\\"right\\\"}, \\\"baseline\\\": {\\\"value\\\": \\\"middle\\\"}, \\\"dx\\\": {\\\"value\\\": 0, \\\"offset\\\": 0}, \\\"dy\\\": {\\\"value\\\": 0, \\\"offset\\\": 0}, \\\"angle\\\": {\\\"value\\\": 0}, \\\"font\\\": {\\\"value\\\": \\\"AvenirNext-Medium\\\"}, \\\"fontSize\\\": {\\\"value\\\": 12}, \\\"fontWeight\\\": {\\\"value\\\": \\\"normal\\\"}, \\\"fontStyle\\\": {\\\"value\\\": \\\"normal\\\"}, \\\"fill\\\": {\\\"value\\\": \\\"#595859\\\"}}, \\\"update\\\": {\\\"x\\\": {\\\"signal\\\": \\\"datum[\\\\\\\"c_x_axis_back\\\\\\\"]+687\\\"}, \\\"y\\\": {\\\"field\\\": \\\"c_top_type\\\"}}}, \\\"type\\\": \\\"text\\\"}, {\\\"from\\\": {\\\"data\\\": \\\"data_2\\\"}, \\\"encode\\\": {\\\"enter\\\": {\\\"x\\\": {\\\"value\\\": 44}, \\\"y\\\": {\\\"value\\\": 59}, \\\"text\\\": {\\\"signal\\\": \\\"&apos;&apos;+datum[\\\\\\\"title\\\\\\\"]\\\"}, \\\"align\\\": {\\\"value\\\": \\\"left\\\"}, \\\"baseline\\\": {\\\"value\\\": \\\"middle\\\"}, \\\"dx\\\": {\\\"value\\\": 0, \\\"offset\\\": 0}, \\\"dy\\\": {\\\"value\\\": 0, \\\"offset\\\": 0}, \\\"angle\\\": {\\\"value\\\": 0}, \\\"font\\\": {\\\"value\\\": \\\"AvenirNext-Medium\\\"}, \\\"fontSize\\\": {\\\"value\\\": 15}, \\\"fontWeight\\\": {\\\"value\\\": \\\"normal\\\"}, \\\"fontStyle\\\": {\\\"value\\\": \\\"normal\\\"}, \\\"fill\\\": {\\\"value\\\": \\\"#9B9B9B\\\"}}, \\\"update\\\": {\\\"x\\\": {\\\"signal\\\": \\\"datum[\\\\\\\"c_x_axis_back\\\\\\\"]+11\\\"}, \\\"y\\\": {\\\"field\\\": \\\"c_top_title\\\"}}}, \\\"type\\\": \\\"text\\\"}, {\\\"from\\\": {\\\"data\\\": \\\"data_2\\\"}, \\\"encode\\\": {\\\"enter\\\": {\\\"x\\\": {\\\"value\\\": 500}, \\\"y\\\": {\\\"value\\\": 178}, \\\"stroke\\\": {\\\"value\\\": \\\"#EDEDEB\\\"}, \\\"strokeWidth\\\": {\\\"value\\\": 1}, \\\"strokeCap\\\": {\\\"value\\\": \\\"butt\\\"}, \\\"x2\\\": {\\\"value\\\": 720}, \\\"y2\\\": {\\\"value\\\": 178}}, \\\"update\\\": {\\\"x\\\": {\\\"signal\\\": \\\"datum[\\\\\\\"c_x_axis_back\\\\\\\"]+467\\\"}, \\\"x2\\\": {\\\"signal\\\": \\\"datum[\\\\\\\"c_x_axis_back\\\\\\\"]+687\\\"}, \\\"y\\\": {\\\"field\\\": \\\"c_rule\\\"}, \\\"y2\\\": {\\\"field\\\": \\\"c_rule\\\"}}}, \\\"type\\\": \\\"rule\\\"}, {\\\"from\\\": {\\\"data\\\": \\\"data_2\\\"}, \\\"encode\\\": {\\\"enter\\\": {\\\"x\\\": {\\\"value\\\": 500}, \\\"y\\\": {\\\"value\\\": 106}, \\\"text\\\": {\\\"value\\\": \\\"Num. Rows:\\\"}, \\\"align\\\": {\\\"value\\\": \\\"left\\\"}, \\\"baseline\\\": {\\\"value\\\": \\\"middle\\\"}, \\\"dx\\\": {\\\"value\\\": 0, \\\"offset\\\": 0}, \\\"dy\\\": {\\\"value\\\": 0, \\\"offset\\\": 0}, \\\"angle\\\": {\\\"value\\\": 0}, \\\"font\\\": {\\\"value\\\": \\\"AvenirNext-Medium\\\"}, \\\"fontSize\\\": {\\\"value\\\": 12}, \\\"fontWeight\\\": {\\\"value\\\": \\\"normal\\\"}, \\\"fontStyle\\\": {\\\"value\\\": \\\"normal\\\"}, \\\"fill\\\": {\\\"value\\\": \\\"#4A4A4A\\\"}}, \\\"update\\\": {\\\"x\\\": {\\\"signal\\\": \\\"datum[\\\\\\\"c_x_axis_back\\\\\\\"]+467\\\"}, \\\"y\\\": {\\\"field\\\": \\\"c_num_rows\\\"}}}, \\\"type\\\": \\\"text\\\"}, {\\\"from\\\": {\\\"data\\\": \\\"data_2\\\"}, \\\"encode\\\": {\\\"enter\\\": {\\\"x\\\": {\\\"value\\\": 500}, \\\"y\\\": {\\\"value\\\": 130}, \\\"text\\\": {\\\"value\\\": \\\"Num. Unique:\\\"}, \\\"align\\\": {\\\"value\\\": \\\"left\\\"}, \\\"baseline\\\": {\\\"value\\\": \\\"middle\\\"}, \\\"dx\\\": {\\\"value\\\": 0, \\\"offset\\\": 0}, \\\"dy\\\": {\\\"value\\\": 0, \\\"offset\\\": 0}, \\\"angle\\\": {\\\"value\\\": 0}, \\\"font\\\": {\\\"value\\\": \\\"AvenirNext-Medium\\\"}, \\\"fontSize\\\": {\\\"value\\\": 12}, \\\"fontWeight\\\": {\\\"value\\\": \\\"normal\\\"}, \\\"fontStyle\\\": {\\\"value\\\": \\\"normal\\\"}, \\\"fill\\\": {\\\"value\\\": \\\"#4A4A4A\\\"}}, \\\"update\\\": {\\\"x\\\": {\\\"signal\\\": \\\"datum[\\\\\\\"c_x_axis_back\\\\\\\"]+467\\\"}, \\\"y\\\": {\\\"field\\\": \\\"c_num_unique\\\"}}}, \\\"type\\\": \\\"text\\\"}, {\\\"from\\\": {\\\"data\\\": \\\"data_2\\\"}, \\\"encode\\\": {\\\"enter\\\": {\\\"x\\\": {\\\"value\\\": 500}, \\\"y\\\": {\\\"value\\\": 154}, \\\"text\\\": {\\\"value\\\": \\\"Missing:\\\"}, \\\"align\\\": {\\\"value\\\": \\\"left\\\"}, \\\"baseline\\\": {\\\"value\\\": \\\"middle\\\"}, \\\"dx\\\": {\\\"value\\\": 0, \\\"offset\\\": 0}, \\\"dy\\\": {\\\"value\\\": 0, \\\"offset\\\": 0}, \\\"angle\\\": {\\\"value\\\": 0}, \\\"font\\\": {\\\"value\\\": \\\"AvenirNext-Medium\\\"}, \\\"fontSize\\\": {\\\"value\\\": 12}, \\\"fontWeight\\\": {\\\"value\\\": \\\"normal\\\"}, \\\"fontStyle\\\": {\\\"value\\\": \\\"normal\\\"}, \\\"fill\\\": {\\\"value\\\": \\\"#4A4A4A\\\"}}, \\\"update\\\": {\\\"x\\\": {\\\"signal\\\": \\\"datum[\\\\\\\"c_x_axis_back\\\\\\\"]+467\\\"}, \\\"y\\\": {\\\"field\\\": \\\"c_missing\\\"}}}, \\\"type\\\": \\\"text\\\"}, {\\\"from\\\": {\\\"data\\\": \\\"data_2\\\"}, \\\"encode\\\": {\\\"enter\\\": {\\\"x\\\": {\\\"value\\\": 700}, \\\"y\\\": {\\\"value\\\": 105}, \\\"text\\\": {\\\"signal\\\": \\\"toString(format(datum[\\\\\\\"num_row\\\\\\\"], \\\\\\\",\\\\\\\"))\\\"}, \\\"align\\\": {\\\"value\\\": \\\"right\\\"}, \\\"baseline\\\": {\\\"value\\\": \\\"middle\\\"}, \\\"dx\\\": {\\\"value\\\": 0, \\\"offset\\\": 0}, \\\"dy\\\": {\\\"value\\\": 0, \\\"offset\\\": 0}, \\\"angle\\\": {\\\"value\\\": 0}, \\\"font\\\": {\\\"value\\\": \\\"AvenirNext-Medium\\\"}, \\\"fontSize\\\": {\\\"value\\\": 12}, \\\"fontWeight\\\": {\\\"value\\\": \\\"normal\\\"}, \\\"fontStyle\\\": {\\\"value\\\": \\\"normal\\\"}, \\\"fill\\\": {\\\"value\\\": \\\"#5A5A5A\\\"}}, \\\"update\\\": {\\\"x\\\": {\\\"signal\\\": \\\"datum[\\\\\\\"c_x_axis_back\\\\\\\"]+667\\\"}, \\\"y\\\": {\\\"field\\\": \\\"c_num_rows_val\\\"}}}, \\\"type\\\": \\\"text\\\"}, {\\\"from\\\": {\\\"data\\\": \\\"data_2\\\"}, \\\"encode\\\": {\\\"enter\\\": {\\\"x\\\": {\\\"value\\\": 700}, \\\"y\\\": {\\\"value\\\": 130}, \\\"text\\\": {\\\"signal\\\": \\\"toString(format(datum[\\\\\\\"num_unique\\\\\\\"], \\\\\\\",\\\\\\\"))\\\"}, \\\"align\\\": {\\\"value\\\": \\\"right\\\"}, \\\"baseline\\\": {\\\"value\\\": \\\"middle\\\"}, \\\"dx\\\": {\\\"value\\\": 0, \\\"offset\\\": 0}, \\\"dy\\\": {\\\"value\\\": 0, \\\"offset\\\": 0}, \\\"angle\\\": {\\\"value\\\": 0}, \\\"font\\\": {\\\"value\\\": \\\"AvenirNext-Medium\\\"}, \\\"fontSize\\\": {\\\"value\\\": 12}, \\\"fontWeight\\\": {\\\"value\\\": \\\"normal\\\"}, \\\"fontStyle\\\": {\\\"value\\\": \\\"normal\\\"}, \\\"fill\\\": {\\\"value\\\": \\\"#5A5A5A\\\"}}, \\\"update\\\": {\\\"x\\\": {\\\"signal\\\": \\\"datum[\\\\\\\"c_x_axis_back\\\\\\\"]+667\\\"}, \\\"y\\\": {\\\"field\\\": \\\"c_num_unique_val\\\"}}}, \\\"type\\\": \\\"text\\\"}, {\\\"from\\\": {\\\"data\\\": \\\"data_2\\\"}, \\\"encode\\\": {\\\"enter\\\": {\\\"x\\\": {\\\"value\\\": 700}, \\\"y\\\": {\\\"value\\\": 154}, \\\"text\\\": {\\\"signal\\\": \\\"toString(format(datum[\\\\\\\"num_missing\\\\\\\"], \\\\\\\",\\\\\\\"))\\\"}, \\\"align\\\": {\\\"value\\\": \\\"right\\\"}, \\\"baseline\\\": {\\\"value\\\": \\\"middle\\\"}, \\\"dx\\\": {\\\"value\\\": 0, \\\"offset\\\": 0}, \\\"dy\\\": {\\\"value\\\": 0, \\\"offset\\\": 0}, \\\"angle\\\": {\\\"value\\\": 0}, \\\"font\\\": {\\\"value\\\": \\\"AvenirNext-Medium\\\"}, \\\"fontSize\\\": {\\\"value\\\": 12}, \\\"fontWeight\\\": {\\\"value\\\": \\\"normal\\\"}, \\\"fontStyle\\\": {\\\"value\\\": \\\"normal\\\"}, \\\"fill\\\": {\\\"value\\\": \\\"#5A5A5A\\\"}}, \\\"update\\\": {\\\"x\\\": {\\\"signal\\\": \\\"datum[\\\\\\\"c_x_axis_back\\\\\\\"]+667\\\"}, \\\"y\\\": {\\\"field\\\": \\\"c_missing_val\\\"}}}, \\\"type\\\": \\\"text\\\"}, {\\\"from\\\": {\\\"data\\\": \\\"data_2\\\"}, \\\"encode\\\": {\\\"enter\\\": {\\\"x\\\": {\\\"value\\\": 500}, \\\"y\\\": {\\\"value\\\": 200}, \\\"text\\\": {\\\"signal\\\": \\\"(toString(datum[\\\\\\\"type\\\\\\\"]) == \\\\\\\"str\\\\\\\")? \\\\\\\"Frequent Items\\\\\\\":\\\\\\\"\\\\\\\"\\\"}, \\\"align\\\": {\\\"value\\\": \\\"left\\\"}, \\\"baseline\\\": {\\\"value\\\": \\\"middle\\\"}, \\\"dx\\\": {\\\"value\\\": 0, \\\"offset\\\": 0}, \\\"dy\\\": {\\\"value\\\": 0, \\\"offset\\\": 0}, \\\"angle\\\": {\\\"value\\\": 0}, \\\"clip\\\": {\\\"value\\\": true}, \\\"font\\\": {\\\"value\\\": \\\"AvenirNext-Medium\\\"}, \\\"fontSize\\\": {\\\"value\\\": 11}, \\\"fontWeight\\\": {\\\"value\\\": \\\"bold\\\"}, \\\"fontStyle\\\": {\\\"value\\\": \\\"normal\\\"}, \\\"fill\\\": {\\\"value\\\": \\\"#4A4A4A\\\"}}, \\\"update\\\": {\\\"x\\\": {\\\"signal\\\": \\\"datum[\\\\\\\"c_x_axis_back\\\\\\\"]+467\\\"}, \\\"y\\\": {\\\"field\\\": \\\"c_frequent_items\\\"}}}, \\\"type\\\": \\\"text\\\"}, {\\\"from\\\": {\\\"data\\\": \\\"data_2\\\"}, \\\"encode\\\": {\\\"enter\\\": {\\\"x\\\": {\\\"value\\\": 520}, \\\"y\\\": {\\\"value\\\": 200}, \\\"text\\\": {\\\"signal\\\": \\\"((datum[\\\\\\\"categorical\\\\\\\"].length >= 1) &amp;&amp; (toString(datum[\\\\\\\"type\\\\\\\"]) == \\\\\\\"str\\\\\\\"))? toString(datum[\\\\\\\"categorical\\\\\\\"][0][\\\\\\\"label\\\\\\\"]):\\\\\\\"\\\\\\\"\\\"}, \\\"align\\\": {\\\"value\\\": \\\"left\\\"}, \\\"baseline\\\": {\\\"value\\\": \\\"middle\\\"}, \\\"dx\\\": {\\\"value\\\": 0, \\\"offset\\\": 0}, \\\"dy\\\": {\\\"value\\\": 0, \\\"offset\\\": 0}, \\\"angle\\\": {\\\"value\\\": 0}, \\\"clip\\\": {\\\"value\\\": true}, \\\"font\\\": {\\\"value\\\": \\\"AvenirNext-Medium\\\"}, \\\"fontSize\\\": {\\\"value\\\": 11}, \\\"fontWeight\\\": {\\\"value\\\": \\\"normal\\\"}, \\\"fontStyle\\\": {\\\"value\\\": \\\"normal\\\"}, \\\"fill\\\": {\\\"value\\\": \\\"#4A4A4A\\\"}}, \\\"update\\\": {\\\"x\\\": {\\\"signal\\\": \\\"datum[\\\\\\\"c_x_axis_back\\\\\\\"]+487\\\"}, \\\"y\\\": {\\\"field\\\": \\\"c_first_item\\\"}}}, \\\"type\\\": \\\"text\\\"}, {\\\"from\\\": {\\\"data\\\": \\\"data_2\\\"}, \\\"encode\\\": {\\\"enter\\\": {\\\"x\\\": {\\\"value\\\": 520}, \\\"y\\\": {\\\"value\\\": 200}, \\\"text\\\": {\\\"signal\\\": \\\"((datum[\\\\\\\"categorical\\\\\\\"].length >= 2) &amp;&amp; (toString(datum[\\\\\\\"type\\\\\\\"]) == \\\\\\\"str\\\\\\\"))? toString(datum[\\\\\\\"categorical\\\\\\\"][1][\\\\\\\"label\\\\\\\"]):\\\\\\\"\\\\\\\"\\\"}, \\\"align\\\": {\\\"value\\\": \\\"left\\\"}, \\\"baseline\\\": {\\\"value\\\": \\\"middle\\\"}, \\\"dx\\\": {\\\"value\\\": 0, \\\"offset\\\": 0}, \\\"dy\\\": {\\\"value\\\": 0, \\\"offset\\\": 0}, \\\"angle\\\": {\\\"value\\\": 0}, \\\"clip\\\": {\\\"value\\\": true}, \\\"font\\\": {\\\"value\\\": \\\"AvenirNext-Medium\\\"}, \\\"fontSize\\\": {\\\"value\\\": 11}, \\\"fontWeight\\\": {\\\"value\\\": \\\"normal\\\"}, \\\"fontStyle\\\": {\\\"value\\\": \\\"normal\\\"}, \\\"fill\\\": {\\\"value\\\": \\\"#4A4A4A\\\"}}, \\\"update\\\": {\\\"x\\\": {\\\"signal\\\": \\\"datum[\\\\\\\"c_x_axis_back\\\\\\\"]+487\\\"}, \\\"y\\\": {\\\"field\\\": \\\"c_second_item\\\"}}}, \\\"type\\\": \\\"text\\\"}, {\\\"from\\\": {\\\"data\\\": \\\"data_2\\\"}, \\\"encode\\\": {\\\"enter\\\": {\\\"x\\\": {\\\"value\\\": 520}, \\\"y\\\": {\\\"value\\\": 200}, \\\"text\\\": {\\\"signal\\\": \\\"((datum[\\\\\\\"categorical\\\\\\\"].length >= 3) &amp;&amp; (toString(datum[\\\\\\\"type\\\\\\\"]) == \\\\\\\"str\\\\\\\"))? toString(datum[\\\\\\\"categorical\\\\\\\"][2][\\\\\\\"label\\\\\\\"]):\\\\\\\"\\\\\\\"\\\"}, \\\"align\\\": {\\\"value\\\": \\\"left\\\"}, \\\"baseline\\\": {\\\"value\\\": \\\"middle\\\"}, \\\"dx\\\": {\\\"value\\\": 0, \\\"offset\\\": 0}, \\\"dy\\\": {\\\"value\\\": 0, \\\"offset\\\": 0}, \\\"angle\\\": {\\\"value\\\": 0}, \\\"clip\\\": {\\\"value\\\": true}, \\\"font\\\": {\\\"value\\\": \\\"AvenirNext-Medium\\\"}, \\\"fontSize\\\": {\\\"value\\\": 11}, \\\"fontWeight\\\": {\\\"value\\\": \\\"normal\\\"}, \\\"fontStyle\\\": {\\\"value\\\": \\\"normal\\\"}, \\\"fill\\\": {\\\"value\\\": \\\"#4A4A4A\\\"}}, \\\"update\\\": {\\\"x\\\": {\\\"signal\\\": \\\"datum[\\\\\\\"c_x_axis_back\\\\\\\"]+487\\\"}, \\\"y\\\": {\\\"field\\\": \\\"c_third_item\\\"}}}, \\\"type\\\": \\\"text\\\"}, {\\\"from\\\": {\\\"data\\\": \\\"data_2\\\"}, \\\"encode\\\": {\\\"enter\\\": {\\\"x\\\": {\\\"value\\\": 520}, \\\"y\\\": {\\\"value\\\": 200}, \\\"text\\\": {\\\"signal\\\": \\\"((datum[\\\\\\\"categorical\\\\\\\"].length >= 4) &amp;&amp; (toString(datum[\\\\\\\"type\\\\\\\"]) == \\\\\\\"str\\\\\\\"))? toString(datum[\\\\\\\"categorical\\\\\\\"][3][\\\\\\\"label\\\\\\\"]):\\\\\\\"\\\\\\\"\\\"}, \\\"align\\\": {\\\"value\\\": \\\"left\\\"}, \\\"baseline\\\": {\\\"value\\\": \\\"middle\\\"}, \\\"dx\\\": {\\\"value\\\": 0, \\\"offset\\\": 0}, \\\"dy\\\": {\\\"value\\\": 0, \\\"offset\\\": 0}, \\\"angle\\\": {\\\"value\\\": 0}, \\\"clip\\\": {\\\"value\\\": true}, \\\"font\\\": {\\\"value\\\": \\\"AvenirNext-Medium\\\"}, \\\"fontSize\\\": {\\\"value\\\": 11}, \\\"fontWeight\\\": {\\\"value\\\": \\\"normal\\\"}, \\\"fontStyle\\\": {\\\"value\\\": \\\"normal\\\"}, \\\"fill\\\": {\\\"value\\\": \\\"#4A4A4A\\\"}}, \\\"update\\\": {\\\"x\\\": {\\\"signal\\\": \\\"datum[\\\\\\\"c_x_axis_back\\\\\\\"]+487\\\"}, \\\"y\\\": {\\\"field\\\": \\\"c_fourth_item\\\"}}}, \\\"type\\\": \\\"text\\\"}, {\\\"from\\\": {\\\"data\\\": \\\"data_2\\\"}, \\\"encode\\\": {\\\"enter\\\": {\\\"x\\\": {\\\"value\\\": 520}, \\\"y\\\": {\\\"value\\\": 200}, \\\"text\\\": {\\\"signal\\\": \\\"((datum[\\\\\\\"categorical\\\\\\\"].length >= 5) &amp;&amp; (toString(datum[\\\\\\\"type\\\\\\\"]) == \\\\\\\"str\\\\\\\"))? toString(datum[\\\\\\\"categorical\\\\\\\"][4][\\\\\\\"label\\\\\\\"]):\\\\\\\"\\\\\\\"\\\"}, \\\"align\\\": {\\\"value\\\": \\\"left\\\"}, \\\"baseline\\\": {\\\"value\\\": \\\"middle\\\"}, \\\"dx\\\": {\\\"value\\\": 0, \\\"offset\\\": 0}, \\\"dy\\\": {\\\"value\\\": 0, \\\"offset\\\": 0}, \\\"angle\\\": {\\\"value\\\": 0}, \\\"clip\\\": {\\\"value\\\": true}, \\\"font\\\": {\\\"value\\\": \\\"AvenirNext-Medium\\\"}, \\\"fontSize\\\": {\\\"value\\\": 11}, \\\"fontWeight\\\": {\\\"value\\\": \\\"normal\\\"}, \\\"fontStyle\\\": {\\\"value\\\": \\\"normal\\\"}, \\\"fill\\\": {\\\"value\\\": \\\"#4A4A4A\\\"}}, \\\"update\\\": {\\\"x\\\": {\\\"signal\\\": \\\"datum[\\\\\\\"c_x_axis_back\\\\\\\"]+487\\\"}, \\\"y\\\": {\\\"field\\\": \\\"c_fifth_item\\\"}}}, \\\"type\\\": \\\"text\\\"}, {\\\"from\\\": {\\\"data\\\": \\\"data_2\\\"}, \\\"encode\\\": {\\\"enter\\\": {\\\"x\\\": {\\\"value\\\": 700}, \\\"y\\\": {\\\"value\\\": 200}, \\\"text\\\": {\\\"signal\\\": \\\"((datum[\\\\\\\"categorical\\\\\\\"].length >= 1) &amp;&amp; (toString(datum[\\\\\\\"type\\\\\\\"]) == \\\\\\\"str\\\\\\\"))? toString(datum[\\\\\\\"categorical\\\\\\\"][0][\\\\\\\"count\\\\\\\"]):\\\\\\\"\\\\\\\"\\\"}, \\\"align\\\": {\\\"value\\\": \\\"right\\\"}, \\\"baseline\\\": {\\\"value\\\": \\\"middle\\\"}, \\\"dx\\\": {\\\"value\\\": 0, \\\"offset\\\": 0}, \\\"dy\\\": {\\\"value\\\": 0, \\\"offset\\\": 0}, \\\"angle\\\": {\\\"value\\\": 0}, \\\"clip\\\": {\\\"value\\\": true}, \\\"font\\\": {\\\"value\\\": \\\"AvenirNext-Medium\\\"}, \\\"fontSize\\\": {\\\"value\\\": 11}, \\\"fontWeight\\\": {\\\"value\\\": \\\"normal\\\"}, \\\"fontStyle\\\": {\\\"value\\\": \\\"normal\\\"}, \\\"fill\\\": {\\\"value\\\": \\\"#7A7A7A\\\"}}, \\\"update\\\": {\\\"x\\\": {\\\"signal\\\": \\\"datum[\\\\\\\"c_x_axis_back\\\\\\\"]+667\\\"}, \\\"y\\\": {\\\"field\\\": \\\"c_first_item\\\"}}}, \\\"type\\\": \\\"text\\\"}, {\\\"from\\\": {\\\"data\\\": \\\"data_2\\\"}, \\\"encode\\\": {\\\"enter\\\": {\\\"x\\\": {\\\"value\\\": 700}, \\\"y\\\": {\\\"value\\\": 200}, \\\"text\\\": {\\\"signal\\\": \\\"((datum[\\\\\\\"categorical\\\\\\\"].length >= 2) &amp;&amp; (toString(datum[\\\\\\\"type\\\\\\\"]) == \\\\\\\"str\\\\\\\"))? toString(datum[\\\\\\\"categorical\\\\\\\"][1][\\\\\\\"count\\\\\\\"]):\\\\\\\"\\\\\\\"\\\"}, \\\"align\\\": {\\\"value\\\": \\\"right\\\"}, \\\"baseline\\\": {\\\"value\\\": \\\"middle\\\"}, \\\"dx\\\": {\\\"value\\\": 0, \\\"offset\\\": 0}, \\\"dy\\\": {\\\"value\\\": 0, \\\"offset\\\": 0}, \\\"angle\\\": {\\\"value\\\": 0}, \\\"clip\\\": {\\\"value\\\": true}, \\\"font\\\": {\\\"value\\\": \\\"AvenirNext-Medium\\\"}, \\\"fontSize\\\": {\\\"value\\\": 10}, \\\"fontWeight\\\": {\\\"value\\\": \\\"normal\\\"}, \\\"fontStyle\\\": {\\\"value\\\": \\\"normal\\\"}, \\\"fill\\\": {\\\"value\\\": \\\"#7A7A7A\\\"}}, \\\"update\\\": {\\\"x\\\": {\\\"signal\\\": \\\"datum[\\\\\\\"c_x_axis_back\\\\\\\"]+667\\\"}, \\\"y\\\": {\\\"field\\\": \\\"c_second_item\\\"}}}, \\\"type\\\": \\\"text\\\"}, {\\\"from\\\": {\\\"data\\\": \\\"data_2\\\"}, \\\"encode\\\": {\\\"enter\\\": {\\\"x\\\": {\\\"value\\\": 700}, \\\"y\\\": {\\\"value\\\": 200}, \\\"text\\\": {\\\"signal\\\": \\\"((datum[\\\\\\\"categorical\\\\\\\"].length >= 3) &amp;&amp; (toString(datum[\\\\\\\"type\\\\\\\"]) == \\\\\\\"str\\\\\\\"))? toString(datum[\\\\\\\"categorical\\\\\\\"][2][\\\\\\\"count\\\\\\\"]):\\\\\\\"\\\\\\\"\\\"}, \\\"align\\\": {\\\"value\\\": \\\"right\\\"}, \\\"baseline\\\": {\\\"value\\\": \\\"middle\\\"}, \\\"dx\\\": {\\\"value\\\": 0, \\\"offset\\\": 0}, \\\"dy\\\": {\\\"value\\\": 0, \\\"offset\\\": 0}, \\\"angle\\\": {\\\"value\\\": 0}, \\\"clip\\\": {\\\"value\\\": true}, \\\"font\\\": {\\\"value\\\": \\\"AvenirNext-Medium\\\"}, \\\"fontSize\\\": {\\\"value\\\": 10}, \\\"fontWeight\\\": {\\\"value\\\": \\\"normal\\\"}, \\\"fontStyle\\\": {\\\"value\\\": \\\"normal\\\"}, \\\"fill\\\": {\\\"value\\\": \\\"#7A7A7A\\\"}}, \\\"update\\\": {\\\"x\\\": {\\\"signal\\\": \\\"datum[\\\\\\\"c_x_axis_back\\\\\\\"]+667\\\"}, \\\"y\\\": {\\\"field\\\": \\\"c_third_item\\\"}}}, \\\"type\\\": \\\"text\\\"}, {\\\"from\\\": {\\\"data\\\": \\\"data_2\\\"}, \\\"encode\\\": {\\\"enter\\\": {\\\"x\\\": {\\\"value\\\": 700}, \\\"y\\\": {\\\"value\\\": 200}, \\\"text\\\": {\\\"signal\\\": \\\"((datum[\\\\\\\"categorical\\\\\\\"].length >= 4) &amp;&amp; (toString(datum[\\\\\\\"type\\\\\\\"]) == \\\\\\\"str\\\\\\\"))? toString(datum[\\\\\\\"categorical\\\\\\\"][3][\\\\\\\"count\\\\\\\"]):\\\\\\\"\\\\\\\"\\\"}, \\\"align\\\": {\\\"value\\\": \\\"right\\\"}, \\\"baseline\\\": {\\\"value\\\": \\\"middle\\\"}, \\\"dx\\\": {\\\"value\\\": 0, \\\"offset\\\": 0}, \\\"dy\\\": {\\\"value\\\": 0, \\\"offset\\\": 0}, \\\"angle\\\": {\\\"value\\\": 0}, \\\"clip\\\": {\\\"value\\\": true}, \\\"font\\\": {\\\"value\\\": \\\"AvenirNext-Medium\\\"}, \\\"fontSize\\\": {\\\"value\\\": 10}, \\\"fontWeight\\\": {\\\"value\\\": \\\"normal\\\"}, \\\"fontStyle\\\": {\\\"value\\\": \\\"normal\\\"}, \\\"fill\\\": {\\\"value\\\": \\\"#7A7A7A\\\"}}, \\\"update\\\": {\\\"x\\\": {\\\"signal\\\": \\\"datum[\\\\\\\"c_x_axis_back\\\\\\\"]+667\\\"}, \\\"y\\\": {\\\"field\\\": \\\"c_fourth_item\\\"}}}, \\\"type\\\": \\\"text\\\"}, {\\\"from\\\": {\\\"data\\\": \\\"data_2\\\"}, \\\"encode\\\": {\\\"enter\\\": {\\\"x\\\": {\\\"value\\\": 700}, \\\"y\\\": {\\\"value\\\": 200}, \\\"text\\\": {\\\"signal\\\": \\\"((datum[\\\\\\\"categorical\\\\\\\"].length >= 5) &amp;&amp; (toString(datum[\\\\\\\"type\\\\\\\"]) == \\\\\\\"str\\\\\\\"))? toString(datum[\\\\\\\"categorical\\\\\\\"][4][\\\\\\\"count\\\\\\\"]):\\\\\\\"\\\\\\\"\\\"}, \\\"align\\\": {\\\"value\\\": \\\"right\\\"}, \\\"baseline\\\": {\\\"value\\\": \\\"middle\\\"}, \\\"dx\\\": {\\\"value\\\": 0, \\\"offset\\\": 0}, \\\"dy\\\": {\\\"value\\\": 0, \\\"offset\\\": 0}, \\\"angle\\\": {\\\"value\\\": 0}, \\\"clip\\\": {\\\"value\\\": true}, \\\"font\\\": {\\\"value\\\": \\\"AvenirNext-Medium\\\"}, \\\"fontSize\\\": {\\\"value\\\": 10}, \\\"fontWeight\\\": {\\\"value\\\": \\\"normal\\\"}, \\\"fontStyle\\\": {\\\"value\\\": \\\"normal\\\"}, \\\"fill\\\": {\\\"value\\\": \\\"#7A7A7A\\\"}}, \\\"update\\\": {\\\"x\\\": {\\\"signal\\\": \\\"datum[\\\\\\\"c_x_axis_back\\\\\\\"]+667\\\"}, \\\"y\\\": {\\\"field\\\": \\\"c_fifth_item\\\"}}}, \\\"type\\\": \\\"text\\\"}, {\\\"from\\\": {\\\"data\\\": \\\"data_2\\\"}, \\\"encode\\\": {\\\"enter\\\": {\\\"x\\\": {\\\"value\\\": 500}, \\\"y\\\": {\\\"value\\\": 200}, \\\"text\\\": {\\\"signal\\\": \\\"(toString(datum[\\\\\\\"type\\\\\\\"]) == \\\\\\\"integer\\\\\\\" || toString(datum[\\\\\\\"type\\\\\\\"]) == \\\\\\\"float\\\\\\\")? \\\\\\\"Mean:\\\\\\\":\\\\\\\"\\\\\\\"\\\"}, \\\"align\\\": {\\\"value\\\": \\\"left\\\"}, \\\"baseline\\\": {\\\"value\\\": \\\"middle\\\"}, \\\"dx\\\": {\\\"value\\\": 0, \\\"offset\\\": 0}, \\\"dy\\\": {\\\"value\\\": 0, \\\"offset\\\": 0}, \\\"angle\\\": {\\\"value\\\": 0}, \\\"clip\\\": {\\\"value\\\": true}, \\\"font\\\": {\\\"value\\\": \\\"AvenirNext-Medium\\\"}, \\\"fontSize\\\": {\\\"value\\\": 11}, \\\"fontWeight\\\": {\\\"value\\\": \\\"bold\\\"}, \\\"fontStyle\\\": {\\\"value\\\": \\\"normal\\\"}, \\\"fill\\\": {\\\"value\\\": \\\"#4A4A4A\\\"}}, \\\"update\\\": {\\\"x\\\": {\\\"signal\\\": \\\"datum[\\\\\\\"c_x_axis_back\\\\\\\"]+467\\\"}, \\\"y\\\": {\\\"field\\\": \\\"c_mean\\\"}}}, \\\"type\\\": \\\"text\\\"}, {\\\"from\\\": {\\\"data\\\": \\\"data_2\\\"}, \\\"encode\\\": {\\\"enter\\\": {\\\"x\\\": {\\\"value\\\": 500}, \\\"y\\\": {\\\"value\\\": 220}, \\\"text\\\": {\\\"signal\\\": \\\"(toString(datum[\\\\\\\"type\\\\\\\"]) == \\\\\\\"integer\\\\\\\" || toString(datum[\\\\\\\"type\\\\\\\"]) == \\\\\\\"float\\\\\\\")? \\\\\\\"Min:\\\\\\\":\\\\\\\"\\\\\\\"\\\"}, \\\"align\\\": {\\\"value\\\": \\\"left\\\"}, \\\"baseline\\\": {\\\"value\\\": \\\"middle\\\"}, \\\"dx\\\": {\\\"value\\\": 0, \\\"offset\\\": 0}, \\\"dy\\\": {\\\"value\\\": 0, \\\"offset\\\": 0}, \\\"angle\\\": {\\\"value\\\": 0}, \\\"font\\\": {\\\"value\\\": \\\"AvenirNext-Medium\\\"}, \\\"fontSize\\\": {\\\"value\\\": 11}, \\\"fontWeight\\\": {\\\"value\\\": \\\"bold\\\"}, \\\"fontStyle\\\": {\\\"value\\\": \\\"normal\\\"}, \\\"fill\\\": {\\\"value\\\": \\\"#4A4A4A\\\"}}, \\\"update\\\": {\\\"x\\\": {\\\"signal\\\": \\\"datum[\\\\\\\"c_x_axis_back\\\\\\\"]+467\\\"}, \\\"y\\\": {\\\"field\\\": \\\"c_min\\\"}}}, \\\"type\\\": \\\"text\\\"}, {\\\"from\\\": {\\\"data\\\": \\\"data_2\\\"}, \\\"encode\\\": {\\\"enter\\\": {\\\"x\\\": {\\\"value\\\": 500}, \\\"y\\\": {\\\"value\\\": 240}, \\\"text\\\": {\\\"signal\\\": \\\"(toString(datum[\\\\\\\"type\\\\\\\"]) == \\\\\\\"integer\\\\\\\" || toString(datum[\\\\\\\"type\\\\\\\"]) == \\\\\\\"float\\\\\\\")? \\\\\\\"Max:\\\\\\\":\\\\\\\"\\\\\\\"\\\"}, \\\"align\\\": {\\\"value\\\": \\\"left\\\"}, \\\"baseline\\\": {\\\"value\\\": \\\"middle\\\"}, \\\"dx\\\": {\\\"value\\\": 0, \\\"offset\\\": 0}, \\\"dy\\\": {\\\"value\\\": 0, \\\"offset\\\": 0}, \\\"angle\\\": {\\\"value\\\": 0}, \\\"font\\\": {\\\"value\\\": \\\"AvenirNext-Medium\\\"}, \\\"fontSize\\\": {\\\"value\\\": 11}, \\\"fontWeight\\\": {\\\"value\\\": \\\"bold\\\"}, \\\"fontStyle\\\": {\\\"value\\\": \\\"normal\\\"}, \\\"fill\\\": {\\\"value\\\": \\\"#4A4A4A\\\"}}, \\\"update\\\": {\\\"x\\\": {\\\"signal\\\": \\\"datum[\\\\\\\"c_x_axis_back\\\\\\\"]+467\\\"}, \\\"y\\\": {\\\"field\\\": \\\"c_max\\\"}}}, \\\"type\\\": \\\"text\\\"}, {\\\"from\\\": {\\\"data\\\": \\\"data_2\\\"}, \\\"encode\\\": {\\\"enter\\\": {\\\"x\\\": {\\\"value\\\": 500}, \\\"y\\\": {\\\"value\\\": 260}, \\\"text\\\": {\\\"signal\\\": \\\"(toString(datum[\\\\\\\"type\\\\\\\"]) == \\\\\\\"integer\\\\\\\" || toString(datum[\\\\\\\"type\\\\\\\"]) == \\\\\\\"float\\\\\\\")? \\\\\\\"Median:\\\\\\\":\\\\\\\"\\\\\\\"\\\"}, \\\"align\\\": {\\\"value\\\": \\\"left\\\"}, \\\"baseline\\\": {\\\"value\\\": \\\"middle\\\"}, \\\"dx\\\": {\\\"value\\\": 0, \\\"offset\\\": 0}, \\\"dy\\\": {\\\"value\\\": 0, \\\"offset\\\": 0}, \\\"angle\\\": {\\\"value\\\": 0}, \\\"font\\\": {\\\"value\\\": \\\"AvenirNext-Medium\\\"}, \\\"fontSize\\\": {\\\"value\\\": 11}, \\\"fontWeight\\\": {\\\"value\\\": \\\"bold\\\"}, \\\"fontStyle\\\": {\\\"value\\\": \\\"normal\\\"}, \\\"fill\\\": {\\\"value\\\": \\\"#4A4A4A\\\"}}, \\\"update\\\": {\\\"x\\\": {\\\"signal\\\": \\\"datum[\\\\\\\"c_x_axis_back\\\\\\\"]+467\\\"}, \\\"y\\\": {\\\"field\\\": \\\"c_median\\\"}}}, \\\"type\\\": \\\"text\\\"}, {\\\"from\\\": {\\\"data\\\": \\\"data_2\\\"}, \\\"encode\\\": {\\\"enter\\\": {\\\"x\\\": {\\\"value\\\": 500}, \\\"y\\\": {\\\"value\\\": 280}, \\\"text\\\": {\\\"signal\\\": \\\"(toString(datum[\\\\\\\"type\\\\\\\"]) == \\\\\\\"integer\\\\\\\" || toString(datum[\\\\\\\"type\\\\\\\"]) == \\\\\\\"float\\\\\\\")? \\\\\\\"St. Dev:\\\\\\\":\\\\\\\"\\\\\\\"\\\"}, \\\"align\\\": {\\\"value\\\": \\\"left\\\"}, \\\"baseline\\\": {\\\"value\\\": \\\"middle\\\"}, \\\"dx\\\": {\\\"value\\\": 0, \\\"offset\\\": 0}, \\\"dy\\\": {\\\"value\\\": 0, \\\"offset\\\": 0}, \\\"angle\\\": {\\\"value\\\": 0}, \\\"font\\\": {\\\"value\\\": \\\"AvenirNext-Medium\\\"}, \\\"fontSize\\\": {\\\"value\\\": 11}, \\\"fontWeight\\\": {\\\"value\\\": \\\"bold\\\"}, \\\"fontStyle\\\": {\\\"value\\\": \\\"normal\\\"}, \\\"fill\\\": {\\\"value\\\": \\\"#4A4A4A\\\"}}, \\\"update\\\": {\\\"x\\\": {\\\"signal\\\": \\\"datum[\\\\\\\"c_x_axis_back\\\\\\\"]+467\\\"}, \\\"y\\\": {\\\"field\\\": \\\"c_stdev\\\"}}}, \\\"type\\\": \\\"text\\\"}, {\\\"from\\\": {\\\"data\\\": \\\"data_2\\\"}, \\\"encode\\\": {\\\"enter\\\": {\\\"x\\\": {\\\"value\\\": 700}, \\\"y\\\": {\\\"value\\\": 198}, \\\"text\\\": {\\\"signal\\\": \\\"(toString(datum[\\\\\\\"type\\\\\\\"]) == \\\\\\\"integer\\\\\\\" || toString(datum[\\\\\\\"type\\\\\\\"]) == \\\\\\\"float\\\\\\\")?toString(format(datum[\\\\\\\"mean\\\\\\\"], \\\\\\\",\\\\\\\")):\\\\\\\"\\\\\\\"\\\"}, \\\"align\\\": {\\\"value\\\": \\\"right\\\"}, \\\"baseline\\\": {\\\"value\\\": \\\"middle\\\"}, \\\"dx\\\": {\\\"value\\\": 0, \\\"offset\\\": 0}, \\\"dy\\\": {\\\"value\\\": 0, \\\"offset\\\": 0}, \\\"angle\\\": {\\\"value\\\": 0}, \\\"font\\\": {\\\"value\\\": \\\"AvenirNext-Medium\\\"}, \\\"fontSize\\\": {\\\"value\\\": 10}, \\\"fontWeight\\\": {\\\"value\\\": \\\"normal\\\"}, \\\"fontStyle\\\": {\\\"value\\\": \\\"normal\\\"}, \\\"fill\\\": {\\\"value\\\": \\\"#6A6A6A\\\"}}, \\\"update\\\": {\\\"x\\\": {\\\"signal\\\": \\\"datum[\\\\\\\"c_x_axis_back\\\\\\\"]+667\\\"}, \\\"y\\\": {\\\"field\\\": \\\"c_mean_val\\\"}}}, \\\"type\\\": \\\"text\\\"}, {\\\"from\\\": {\\\"data\\\": \\\"data_2\\\"}, \\\"encode\\\": {\\\"enter\\\": {\\\"x\\\": {\\\"value\\\": 700}, \\\"y\\\": {\\\"value\\\": 218}, \\\"text\\\": {\\\"signal\\\": \\\"(toString(datum[\\\\\\\"type\\\\\\\"]) == \\\\\\\"integer\\\\\\\" || toString(datum[\\\\\\\"type\\\\\\\"]) == \\\\\\\"float\\\\\\\")?toString(format(datum[\\\\\\\"min\\\\\\\"], \\\\\\\",\\\\\\\")):\\\\\\\"\\\\\\\"\\\"}, \\\"align\\\": {\\\"value\\\": \\\"right\\\"}, \\\"baseline\\\": {\\\"value\\\": \\\"middle\\\"}, \\\"dx\\\": {\\\"value\\\": 0, \\\"offset\\\": 0}, \\\"dy\\\": {\\\"value\\\": 0, \\\"offset\\\": 0}, \\\"angle\\\": {\\\"value\\\": 0}, \\\"font\\\": {\\\"value\\\": \\\"AvenirNext-Medium\\\"}, \\\"fontSize\\\": {\\\"value\\\": 10}, \\\"fontWeight\\\": {\\\"value\\\": \\\"normal\\\"}, \\\"fontStyle\\\": {\\\"value\\\": \\\"normal\\\"}, \\\"fill\\\": {\\\"value\\\": \\\"#6A6A6A\\\"}}, \\\"update\\\": {\\\"x\\\": {\\\"signal\\\": \\\"datum[\\\\\\\"c_x_axis_back\\\\\\\"]+667\\\"}, \\\"y\\\": {\\\"field\\\": \\\"c_min_val\\\"}}}, \\\"type\\\": \\\"text\\\"}, {\\\"from\\\": {\\\"data\\\": \\\"data_2\\\"}, \\\"encode\\\": {\\\"enter\\\": {\\\"x\\\": {\\\"value\\\": 700}, \\\"y\\\": {\\\"value\\\": 238}, \\\"text\\\": {\\\"signal\\\": \\\"(toString(datum[\\\\\\\"type\\\\\\\"]) == \\\\\\\"integer\\\\\\\" || toString(datum[\\\\\\\"type\\\\\\\"]) == \\\\\\\"float\\\\\\\")?toString(format(datum[\\\\\\\"max\\\\\\\"], \\\\\\\",\\\\\\\")):\\\\\\\"\\\\\\\"\\\"}, \\\"align\\\": {\\\"value\\\": \\\"right\\\"}, \\\"baseline\\\": {\\\"value\\\": \\\"middle\\\"}, \\\"dx\\\": {\\\"value\\\": 0, \\\"offset\\\": 0}, \\\"dy\\\": {\\\"value\\\": 0, \\\"offset\\\": 0}, \\\"angle\\\": {\\\"value\\\": 0}, \\\"font\\\": {\\\"value\\\": \\\"AvenirNext-Medium\\\"}, \\\"fontSize\\\": {\\\"value\\\": 10}, \\\"fontWeight\\\": {\\\"value\\\": \\\"normal\\\"}, \\\"fontStyle\\\": {\\\"value\\\": \\\"normal\\\"}, \\\"fill\\\": {\\\"value\\\": \\\"#6A6A6A\\\"}}, \\\"update\\\": {\\\"x\\\": {\\\"signal\\\": \\\"datum[\\\\\\\"c_x_axis_back\\\\\\\"]+667\\\"}, \\\"y\\\": {\\\"field\\\": \\\"c_max_val\\\"}}}, \\\"type\\\": \\\"text\\\"}, {\\\"from\\\": {\\\"data\\\": \\\"data_2\\\"}, \\\"encode\\\": {\\\"enter\\\": {\\\"x\\\": {\\\"value\\\": 700}, \\\"y\\\": {\\\"value\\\": 258}, \\\"text\\\": {\\\"signal\\\": \\\"(toString(datum[\\\\\\\"type\\\\\\\"]) == \\\\\\\"integer\\\\\\\" || toString(datum[\\\\\\\"type\\\\\\\"]) == \\\\\\\"float\\\\\\\")?toString(format(datum[\\\\\\\"median\\\\\\\"], \\\\\\\",\\\\\\\")):\\\\\\\"\\\\\\\"\\\"}, \\\"align\\\": {\\\"value\\\": \\\"right\\\"}, \\\"baseline\\\": {\\\"value\\\": \\\"middle\\\"}, \\\"dx\\\": {\\\"value\\\": 0, \\\"offset\\\": 0}, \\\"dy\\\": {\\\"value\\\": 0, \\\"offset\\\": 0}, \\\"angle\\\": {\\\"value\\\": 0}, \\\"font\\\": {\\\"value\\\": \\\"AvenirNext-Medium\\\"}, \\\"fontSize\\\": {\\\"value\\\": 10}, \\\"fontWeight\\\": {\\\"value\\\": \\\"normal\\\"}, \\\"fontStyle\\\": {\\\"value\\\": \\\"normal\\\"}, \\\"fill\\\": {\\\"value\\\": \\\"#6A6A6A\\\"}}, \\\"update\\\": {\\\"x\\\": {\\\"signal\\\": \\\"datum[\\\\\\\"c_x_axis_back\\\\\\\"]+667\\\"}, \\\"y\\\": {\\\"field\\\": \\\"c_median_val\\\"}}}, \\\"type\\\": \\\"text\\\"}, {\\\"from\\\": {\\\"data\\\": \\\"data_2\\\"}, \\\"encode\\\": {\\\"enter\\\": {\\\"x\\\": {\\\"value\\\": 700}, \\\"y\\\": {\\\"value\\\": 278}, \\\"text\\\": {\\\"signal\\\": \\\"(toString(datum[\\\\\\\"type\\\\\\\"]) == \\\\\\\"integer\\\\\\\" || toString(datum[\\\\\\\"type\\\\\\\"]) == \\\\\\\"float\\\\\\\")?toString(format(datum[\\\\\\\"stdev\\\\\\\"], \\\\\\\",\\\\\\\")):\\\\\\\"\\\\\\\"\\\"}, \\\"align\\\": {\\\"value\\\": \\\"right\\\"}, \\\"baseline\\\": {\\\"value\\\": \\\"middle\\\"}, \\\"dx\\\": {\\\"value\\\": 0, \\\"offset\\\": 0}, \\\"dy\\\": {\\\"value\\\": 0, \\\"offset\\\": 0}, \\\"angle\\\": {\\\"value\\\": 0}, \\\"font\\\": {\\\"value\\\": \\\"AvenirNext-Medium\\\"}, \\\"fontSize\\\": {\\\"value\\\": 10}, \\\"fontWeight\\\": {\\\"value\\\": \\\"normal\\\"}, \\\"fontStyle\\\": {\\\"value\\\": \\\"normal\\\"}, \\\"fill\\\": {\\\"value\\\": \\\"#6A6A6A\\\"}}, \\\"update\\\": {\\\"x\\\": {\\\"signal\\\": \\\"datum[\\\\\\\"c_x_axis_back\\\\\\\"]+667\\\"}, \\\"y\\\": {\\\"field\\\": \\\"c_stdev_val\\\"}}}, \\\"type\\\": \\\"text\\\"}, {\\\"from\\\": {\\\"facet\\\": {\\\"name\\\": \\\"new_data\\\", \\\"data\\\": \\\"data_2\\\", \\\"field\\\": \\\"numeric\\\"}}, \\\"encode\\\": {\\\"enter\\\": {\\\"x\\\": {\\\"value\\\": 120}, \\\"width\\\": {\\\"value\\\": 250}, \\\"y\\\": {\\\"field\\\": \\\"graph_offset\\\"}, \\\"height\\\": {\\\"value\\\": 150}, \\\"fill\\\": {\\\"value\\\": \\\"#ffffff\\\"}, \\\"fillOpacity\\\": {\\\"value\\\": 0}, \\\"stroke\\\": {\\\"value\\\": \\\"#000000\\\"}, \\\"strokeWidth\\\": {\\\"value\\\": 0}}, \\\"update\\\": {\\\"x\\\": {\\\"signal\\\": \\\"datum[\\\\\\\"c_x_axis_back\\\\\\\"]+87\\\"}, \\\"clip\\\": {\\\"field\\\": \\\"c_clip_val\\\"}, \\\"width\\\": {\\\"field\\\": \\\"c_width_numeric_val\\\"}}}, \\\"type\\\": \\\"group\\\", \\\"scales\\\": [{\\\"name\\\": \\\"x\\\", \\\"type\\\": \\\"linear\\\", \\\"domain\\\": {\\\"data\\\": \\\"new_data\\\", \\\"fields\\\": [\\\"left\\\", \\\"right\\\"], \\\"sort\\\": true}, \\\"range\\\": [0, {\\\"signal\\\": \\\"width\\\"}], \\\"nice\\\": true, \\\"zero\\\": true}, {\\\"name\\\": \\\"y\\\", \\\"type\\\": \\\"linear\\\", \\\"domain\\\": {\\\"data\\\": \\\"new_data\\\", \\\"field\\\": \\\"count\\\"}, \\\"range\\\": [{\\\"signal\\\": \\\"height\\\"}, 0], \\\"nice\\\": true, \\\"zero\\\": true}], \\\"axes\\\": [{\\\"title\\\": \\\"Values\\\", \\\"scale\\\": \\\"x\\\", \\\"labelOverlap\\\": true, \\\"orient\\\": \\\"bottom\\\", \\\"tickCount\\\": {\\\"signal\\\": \\\"ceil(width/40)\\\"}, \\\"zindex\\\": 1}, {\\\"scale\\\": \\\"x\\\", \\\"domain\\\": false, \\\"grid\\\": true, \\\"labels\\\": false, \\\"maxExtent\\\": 0, \\\"minExtent\\\": 0, \\\"orient\\\": \\\"bottom\\\", \\\"tickCount\\\": {\\\"signal\\\": \\\"ceil(width/40)\\\"}, \\\"ticks\\\": false, \\\"zindex\\\": 0, \\\"gridScale\\\": \\\"y\\\"}, {\\\"title\\\": \\\"Count\\\", \\\"scale\\\": \\\"y\\\", \\\"labelOverlap\\\": true, \\\"orient\\\": \\\"left\\\", \\\"tickCount\\\": {\\\"signal\\\": \\\"ceil(height/40)\\\"}, \\\"zindex\\\": 1}, {\\\"scale\\\": \\\"y\\\", \\\"domain\\\": false, \\\"grid\\\": true, \\\"labels\\\": false, \\\"maxExtent\\\": 0, \\\"minExtent\\\": 0, \\\"orient\\\": \\\"left\\\", \\\"tickCount\\\": {\\\"signal\\\": \\\"ceil(height/40)\\\"}, \\\"ticks\\\": false, \\\"zindex\\\": 0, \\\"gridScale\\\": \\\"x\\\"}], \\\"style\\\": \\\"cell\\\", \\\"signals\\\": [{\\\"name\\\": \\\"width\\\", \\\"update\\\": \\\"250\\\"}, {\\\"name\\\": \\\"height\\\", \\\"update\\\": \\\"150\\\"}], \\\"marks\\\": [{\\\"name\\\": \\\"marks\\\", \\\"type\\\": \\\"rect\\\", \\\"style\\\": [\\\"rect\\\"], \\\"from\\\": {\\\"data\\\": \\\"new_data\\\"}, \\\"encode\\\": {\\\"hover\\\": {\\\"fill\\\": {\\\"value\\\": \\\"#7EC2F3\\\"}}, \\\"update\\\": {\\\"x\\\": {\\\"scale\\\": \\\"x\\\", \\\"field\\\": \\\"left\\\"}, \\\"x2\\\": {\\\"scale\\\": \\\"x\\\", \\\"field\\\": \\\"right\\\"}, \\\"y\\\": {\\\"scale\\\": \\\"y\\\", \\\"field\\\": \\\"count\\\"}, \\\"y2\\\": {\\\"scale\\\": \\\"y\\\", \\\"value\\\": 0}, \\\"fill\\\": {\\\"value\\\": \\\"#108EE9\\\"}}}}]}, {\\\"from\\\": {\\\"facet\\\": {\\\"name\\\": \\\"data_5\\\", \\\"data\\\": \\\"data_2\\\", \\\"field\\\": \\\"categorical\\\"}}, \\\"encode\\\": {\\\"enter\\\": {\\\"x\\\": {\\\"value\\\": 170}, \\\"width\\\": {\\\"value\\\": 250}, \\\"y\\\": {\\\"field\\\": \\\"graph_offset_categorical\\\"}, \\\"height\\\": {\\\"value\\\": 150}, \\\"fill\\\": {\\\"value\\\": \\\"#ffffff\\\"}, \\\"fillOpacity\\\": {\\\"value\\\": 0}, \\\"stroke\\\": {\\\"value\\\": \\\"#000000\\\"}, \\\"strokeWidth\\\": {\\\"value\\\": 0}}, \\\"update\\\": {\\\"x\\\": {\\\"signal\\\": \\\"datum[\\\\\\\"c_x_axis_back\\\\\\\"]+137\\\"}, \\\"clip\\\": {\\\"field\\\": \\\"c_clip_val_cat\\\"}, \\\"width\\\": {\\\"field\\\": \\\"c_width_numeric_val_cat\\\"}}}, \\\"type\\\": \\\"group\\\", \\\"style\\\": \\\"cell\\\", \\\"signals\\\": [{\\\"name\\\": \\\"unit\\\", \\\"value\\\": {}, \\\"on\\\": [{\\\"events\\\": \\\"mousemove\\\", \\\"update\\\": \\\"isTuple(group()) ? group() : unit\\\"}]}, {\\\"name\\\": \\\"pts\\\", \\\"update\\\": \\\"data(\\\\\\\"pts_store\\\\\\\").length &amp;&amp; {count: data(\\\\\\\"pts_store\\\\\\\")[0].values[0]}\\\"}, {\\\"name\\\": \\\"pts_tuple\\\", \\\"value\\\": {}, \\\"on\\\": [{\\\"events\\\": [{\\\"source\\\": \\\"scope\\\", \\\"type\\\": \\\"click\\\"}], \\\"update\\\": \\\"datum &amp;&amp; item().mark.marktype !== &apos;group&apos; ? {unit: \\\\\\\"\\\\\\\", encodings: [\\\\\\\"x\\\\\\\"], fields: [\\\\\\\"count\\\\\\\"], values: [datum[\\\\\\\"count\\\\\\\"]]} : null\\\", \\\"force\\\": true}]}, {\\\"name\\\": \\\"pts_modify\\\", \\\"on\\\": [{\\\"events\\\": {\\\"signal\\\": \\\"pts_tuple\\\"}, \\\"update\\\": \\\"modify(\\\\\\\"pts_store\\\\\\\", pts_tuple, true)\\\"}]}], \\\"marks\\\": [{\\\"name\\\": \\\"marks\\\", \\\"type\\\": \\\"rect\\\", \\\"style\\\": [\\\"bar\\\"], \\\"from\\\": {\\\"data\\\": \\\"data_5\\\"}, \\\"encode\\\": {\\\"hover\\\": {\\\"fill\\\": {\\\"value\\\": \\\"#7EC2F3\\\"}}, \\\"update\\\": {\\\"x\\\": {\\\"scale\\\": \\\"x\\\", \\\"field\\\": \\\"count\\\"}, \\\"x2\\\": {\\\"scale\\\": \\\"x\\\", \\\"value\\\": 0}, \\\"y\\\": {\\\"scale\\\": \\\"y\\\", \\\"field\\\": \\\"label\\\"}, \\\"height\\\": {\\\"scale\\\": \\\"y\\\", \\\"band\\\": true}, \\\"fill\\\": {\\\"value\\\": \\\"#108EE9\\\"}}}}], \\\"scales\\\": [{\\\"name\\\": \\\"x\\\", \\\"type\\\": \\\"linear\\\", \\\"domain\\\": {\\\"data\\\": \\\"data_5\\\", \\\"field\\\": \\\"count\\\"}, \\\"range\\\": [0, 250], \\\"nice\\\": true, \\\"zero\\\": true}, {\\\"name\\\": \\\"y\\\", \\\"type\\\": \\\"band\\\", \\\"domain\\\": {\\\"data\\\": \\\"data_5\\\", \\\"field\\\": \\\"label\\\", \\\"sort\\\": {\\\"op\\\": \\\"mean\\\", \\\"field\\\": \\\"label_idx\\\", \\\"order\\\": \\\"descending\\\"}}, \\\"range\\\": [150, 0], \\\"paddingInner\\\": 0.1, \\\"paddingOuter\\\": 0.05}], \\\"axes\\\": [{\\\"orient\\\": \\\"top\\\", \\\"scale\\\": \\\"x\\\", \\\"labelOverlap\\\": true, \\\"tickCount\\\": {\\\"signal\\\": \\\"ceil(width/40)\\\"}, \\\"title\\\": \\\"Count\\\", \\\"zindex\\\": 1}, {\\\"orient\\\": \\\"top\\\", \\\"scale\\\": \\\"x\\\", \\\"domain\\\": false, \\\"grid\\\": true, \\\"labels\\\": false, \\\"maxExtent\\\": 0, \\\"minExtent\\\": 0, \\\"tickCount\\\": {\\\"signal\\\": \\\"ceil(width/40)\\\"}, \\\"ticks\\\": false, \\\"zindex\\\": 0, \\\"gridScale\\\": \\\"y\\\"}, {\\\"scale\\\": \\\"y\\\", \\\"labelOverlap\\\": true, \\\"orient\\\": \\\"left\\\", \\\"title\\\": \\\"Label\\\", \\\"zindex\\\": 1}]}], \\\"type\\\": \\\"group\\\"}], \\\"type\\\": \\\"group\\\"}], \\\"config\\\": {\\\"axis\\\": {\\\"labelFont\\\": \\\"HelveticaNeue-Light, Arial\\\", \\\"labelFontSize\\\": 7, \\\"labelPadding\\\": 10, \\\"labelColor\\\": \\\"#595959\\\", \\\"titleFont\\\": \\\"HelveticaNeue-Light, Arial\\\", \\\"titleFontWeight\\\": \\\"normal\\\", \\\"titlePadding\\\": 9, \\\"titleFontSize\\\": 12, \\\"titleColor\\\": \\\"#595959\\\"}, \\\"axisY\\\": {\\\"minExtent\\\": 30}, \\\"style\\\": {\\\"rect\\\": {\\\"stroke\\\": \\\"rgba(200, 200, 200, 0.5)\\\"}, \\\"group-title\\\": {\\\"fontSize\\\": 20, \\\"font\\\": \\\"HelveticaNeue-Light, Arial\\\", \\\"fontWeight\\\": \\\"normal\\\", \\\"fill\\\": \\\"#595959\\\"}}}}\";                                 var vega_json_parsed = JSON.parse(vega_json);                                 var toolTipOpts = {                                     showAllFields: true                                 };                                 if(vega_json_parsed[\"metadata\"] != null){                                     if(vega_json_parsed[\"metadata\"][\"bubbleOpts\"] != null){                                         toolTipOpts = vega_json_parsed[\"metadata\"][\"bubbleOpts\"];                                     };                                 };                                 vegaEmbed(\"#vis\", vega_json_parsed).then(function (result) {                                     vegaTooltip.vega(result.view, toolTipOpts);                                  });                             </script>                         </body>                     </html>' src=\"demo_iframe_srcdoc.htm\">                         <p>Your browser does not support iframes.</p>                     </iframe>                 </body>             </html>"
            ]
          },
          "metadata": {}
        }
      ]
    },
    {
      "cell_type": "markdown",
      "source": [
        "Let's create a linear regression model which count the number of times that we obtain sherlock word in a text depending on the number of times that we watson word in the text."
      ],
      "metadata": {
        "id": "wMF4a0gJG69o"
      }
    },
    {
      "cell_type": "code",
      "source": [
        "sher_wat_reg = tr.linear_regression.create(sf, target = \"sherlock_count\", features = ['watson_count'])\n",
        "sher_wat_reg"
      ],
      "metadata": {
        "colab": {
          "base_uri": "https://localhost:8080/",
          "height": 850
        },
        "id": "nkmsDLWaGH4w",
        "outputId": "8a6bc321-71a2-4bc5-a70c-cf33a41d0bc7"
      },
      "execution_count": 22,
      "outputs": [
        {
          "output_type": "display_data",
          "data": {
            "text/plain": [
              "Linear regression:"
            ],
            "text/html": [
              "<pre>Linear regression:</pre>"
            ]
          },
          "metadata": {}
        },
        {
          "output_type": "display_data",
          "data": {
            "text/plain": [
              "--------------------------------------------------------"
            ],
            "text/html": [
              "<pre>--------------------------------------------------------</pre>"
            ]
          },
          "metadata": {}
        },
        {
          "output_type": "display_data",
          "data": {
            "text/plain": [
              "Number of examples          : 64"
            ],
            "text/html": [
              "<pre>Number of examples          : 64</pre>"
            ]
          },
          "metadata": {}
        },
        {
          "output_type": "display_data",
          "data": {
            "text/plain": [
              "Number of features          : 1"
            ],
            "text/html": [
              "<pre>Number of features          : 1</pre>"
            ]
          },
          "metadata": {}
        },
        {
          "output_type": "display_data",
          "data": {
            "text/plain": [
              "Number of unpacked features : 1"
            ],
            "text/html": [
              "<pre>Number of unpacked features : 1</pre>"
            ]
          },
          "metadata": {}
        },
        {
          "output_type": "display_data",
          "data": {
            "text/plain": [
              "Number of coefficients    : 2"
            ],
            "text/html": [
              "<pre>Number of coefficients    : 2</pre>"
            ]
          },
          "metadata": {}
        },
        {
          "output_type": "display_data",
          "data": {
            "text/plain": [
              "Starting Newton Method"
            ],
            "text/html": [
              "<pre>Starting Newton Method</pre>"
            ]
          },
          "metadata": {}
        },
        {
          "output_type": "display_data",
          "data": {
            "text/plain": [
              "--------------------------------------------------------"
            ],
            "text/html": [
              "<pre>--------------------------------------------------------</pre>"
            ]
          },
          "metadata": {}
        },
        {
          "output_type": "display_data",
          "data": {
            "text/plain": [
              "+-----------+----------+--------------+--------------------+---------------------------------+"
            ],
            "text/html": [
              "<pre>+-----------+----------+--------------+--------------------+---------------------------------+</pre>"
            ]
          },
          "metadata": {}
        },
        {
          "output_type": "display_data",
          "data": {
            "text/plain": [
              "| Iteration | Passes   | Elapsed Time | Training Max Error | Training Root-Mean-Square Error |"
            ],
            "text/html": [
              "<pre>| Iteration | Passes   | Elapsed Time | Training Max Error | Training Root-Mean-Square Error |</pre>"
            ]
          },
          "metadata": {}
        },
        {
          "output_type": "display_data",
          "data": {
            "text/plain": [
              "+-----------+----------+--------------+--------------------+---------------------------------+"
            ],
            "text/html": [
              "<pre>+-----------+----------+--------------+--------------------+---------------------------------+</pre>"
            ]
          },
          "metadata": {}
        },
        {
          "output_type": "display_data",
          "data": {
            "text/plain": [
              "| 1         | 2        | 1.001022     | 71.035762          | 12.763565                       |"
            ],
            "text/html": [
              "<pre>| 1         | 2        | 1.001022     | 71.035762          | 12.763565                       |</pre>"
            ]
          },
          "metadata": {}
        },
        {
          "output_type": "display_data",
          "data": {
            "text/plain": [
              "+-----------+----------+--------------+--------------------+---------------------------------+"
            ],
            "text/html": [
              "<pre>+-----------+----------+--------------+--------------------+---------------------------------+</pre>"
            ]
          },
          "metadata": {}
        },
        {
          "output_type": "display_data",
          "data": {
            "text/plain": [
              "SUCCESS: Optimal solution found."
            ],
            "text/html": [
              "<pre>SUCCESS: Optimal solution found.</pre>"
            ]
          },
          "metadata": {}
        },
        {
          "output_type": "display_data",
          "data": {
            "text/plain": [],
            "text/html": [
              "<pre></pre>"
            ]
          },
          "metadata": {}
        },
        {
          "output_type": "execute_result",
          "data": {
            "text/plain": [
              "Class                          : LinearRegression\n",
              "\n",
              "Schema\n",
              "------\n",
              "Number of coefficients         : 2\n",
              "Number of examples             : 64\n",
              "Number of feature columns      : 1\n",
              "Number of unpacked features    : 1\n",
              "\n",
              "Hyperparameters\n",
              "---------------\n",
              "L1 penalty                     : 0.0\n",
              "L2 penalty                     : 0.01\n",
              "\n",
              "Training Summary\n",
              "----------------\n",
              "Solver                         : newton\n",
              "Solver iterations              : 1\n",
              "Solver status                  : SUCCESS: Optimal solution found.\n",
              "Training time (sec)            : 1.0019\n",
              "\n",
              "Settings\n",
              "--------\n",
              "Residual sum of squares        : 10426.1504\n",
              "Training RMSE                  : 12.7636\n",
              "\n",
              "Highest Positive Coefficients\n",
              "-----------------------------\n",
              "(intercept)                    : 3.9686\n",
              "watson_count                   : 0.2839\n",
              "\n",
              "Lowest Negative Coefficients\n",
              "----------------------------\n",
              "No Negative Coefficients       : "
            ]
          },
          "metadata": {},
          "execution_count": 22
        }
      ]
    },
    {
      "cell_type": "markdown",
      "source": [
        "According to the results we have the following results:\n",
        "\n",
        "$$\n",
        "n\\_sherlock = n\\_watson \\times 0.2839 + 3.9686 \n",
        "$$"
      ],
      "metadata": {
        "id": "xUiLzvBOH6qR"
      }
    },
    {
      "cell_type": "markdown",
      "source": [
        "##### Constructing Social Networks"
      ],
      "metadata": {
        "id": "_usYMQ4ZILsC"
      }
    },
    {
      "cell_type": "markdown",
      "source": [
        "1. Constructing Social Network using Names List"
      ],
      "metadata": {
        "id": "KIydnhWszBg5"
      }
    },
    {
      "cell_type": "markdown",
      "source": [
        "Let's recuperate the sentences of each text in a new column sentences."
      ],
      "metadata": {
        "id": "z0gkJ2EBzaib"
      }
    },
    {
      "cell_type": "code",
      "source": [
        "sf['sentences'] = sf['text'].apply(lambda t: list(to_sentences(t)))"
      ],
      "metadata": {
        "id": "VMs_qJglHeaK"
      },
      "execution_count": 23,
      "outputs": []
    },
    {
      "cell_type": "code",
      "source": [
        "# let's create a s frame which contains for each line a sentence and the title of the sentence\n",
        "sf_sentences = sf.flat_map(['title', 'text'], lambda t: [[t['title'], s.strip()] for s in to_sentences(t['text'])])"
      ],
      "metadata": {
        "id": "b2U4wSL0zwYZ"
      },
      "execution_count": 24,
      "outputs": []
    },
    {
      "cell_type": "code",
      "source": [
        "sf_sentences.head()"
      ],
      "metadata": {
        "colab": {
          "base_uri": "https://localhost:8080/",
          "height": 423
        },
        "id": "SrEMUnod0h6U",
        "outputId": "51b3ee7e-487e-494d-9ef4-6c6e94c70b10"
      },
      "execution_count": 25,
      "outputs": [
        {
          "output_type": "execute_result",
          "data": {
            "text/plain": [
              "Columns:\n",
              "\ttitle\tstr\n",
              "\ttext\tstr\n",
              "\n",
              "Rows: 10\n",
              "\n",
              "Data:\n",
              "+-------------------------------+-------------------------------+\n",
              "|             title             |              text             |\n",
              "+-------------------------------+-------------------------------+\n",
              "| The Adventures of Sherlock... | THE ADVENTURES OF SHERLOCK... |\n",
              "| The Adventures of Sherlock... | I have seldom heard him   ... |\n",
              "| The Adventures of Sherlock... | In his eyes she eclipses a... |\n",
              "| The Adventures of Sherlock... | It was not that he felt an... |\n",
              "| The Adventures of Sherlock... | All emotions  and that one... |\n",
              "| The Adventures of Sherlock... | He was  I take it  the mos... |\n",
              "| The Adventures of Sherlock... | He never spoke of the soft... |\n",
              "| The Adventures of Sherlock... | They were admirable things... |\n",
              "| The Adventures of Sherlock... | But for the trained reason... |\n",
              "| The Adventures of Sherlock... | Grit in a sensitive instru... |\n",
              "+-------------------------------+-------------------------------+\n",
              "[10 rows x 2 columns]"
            ],
            "text/html": [
              "<div style=\"max-height:1000px;max-width:1500px;overflow:auto;\"><table frame=\"box\" rules=\"cols\">\n",
              "    <tr>\n",
              "        <th style=\"padding-left: 1em; padding-right: 1em; text-align: center\">title</th>\n",
              "        <th style=\"padding-left: 1em; padding-right: 1em; text-align: center\">text</th>\n",
              "    </tr>\n",
              "    <tr>\n",
              "        <td style=\"padding-left: 1em; padding-right: 1em; text-align: center; vertical-align: top\">The Adventures of<br>Sherlock Holmes ...</td>\n",
              "        <td style=\"padding-left: 1em; padding-right: 1em; text-align: center; vertical-align: top\">THE ADVENTURES OF<br>SHERLOCK HOLMES ...</td>\n",
              "    </tr>\n",
              "    <tr>\n",
              "        <td style=\"padding-left: 1em; padding-right: 1em; text-align: center; vertical-align: top\">The Adventures of<br>Sherlock Holmes ...</td>\n",
              "        <td style=\"padding-left: 1em; padding-right: 1em; text-align: center; vertical-align: top\">I have seldom heard him<br>mention her under any ...</td>\n",
              "    </tr>\n",
              "    <tr>\n",
              "        <td style=\"padding-left: 1em; padding-right: 1em; text-align: center; vertical-align: top\">The Adventures of<br>Sherlock Holmes ...</td>\n",
              "        <td style=\"padding-left: 1em; padding-right: 1em; text-align: center; vertical-align: top\">In his eyes she eclipses<br>and      predominates ...</td>\n",
              "    </tr>\n",
              "    <tr>\n",
              "        <td style=\"padding-left: 1em; padding-right: 1em; text-align: center; vertical-align: top\">The Adventures of<br>Sherlock Holmes ...</td>\n",
              "        <td style=\"padding-left: 1em; padding-right: 1em; text-align: center; vertical-align: top\">It was not that he felt<br>any      emotion akin to ...</td>\n",
              "    </tr>\n",
              "    <tr>\n",
              "        <td style=\"padding-left: 1em; padding-right: 1em; text-align: center; vertical-align: top\">The Adventures of<br>Sherlock Holmes ...</td>\n",
              "        <td style=\"padding-left: 1em; padding-right: 1em; text-align: center; vertical-align: top\">All emotions  and that<br>one      particularly ...</td>\n",
              "    </tr>\n",
              "    <tr>\n",
              "        <td style=\"padding-left: 1em; padding-right: 1em; text-align: center; vertical-align: top\">The Adventures of<br>Sherlock Holmes ...</td>\n",
              "        <td style=\"padding-left: 1em; padding-right: 1em; text-align: center; vertical-align: top\">He was  I take it  the<br>most perfect reasoning ...</td>\n",
              "    </tr>\n",
              "    <tr>\n",
              "        <td style=\"padding-left: 1em; padding-right: 1em; text-align: center; vertical-align: top\">The Adventures of<br>Sherlock Holmes ...</td>\n",
              "        <td style=\"padding-left: 1em; padding-right: 1em; text-align: center; vertical-align: top\">He never spoke of the<br>softer      passions ...</td>\n",
              "    </tr>\n",
              "    <tr>\n",
              "        <td style=\"padding-left: 1em; padding-right: 1em; text-align: center; vertical-align: top\">The Adventures of<br>Sherlock Holmes ...</td>\n",
              "        <td style=\"padding-left: 1em; padding-right: 1em; text-align: center; vertical-align: top\">They were admirable<br>things      for the ...</td>\n",
              "    </tr>\n",
              "    <tr>\n",
              "        <td style=\"padding-left: 1em; padding-right: 1em; text-align: center; vertical-align: top\">The Adventures of<br>Sherlock Holmes ...</td>\n",
              "        <td style=\"padding-left: 1em; padding-right: 1em; text-align: center; vertical-align: top\">But for the trained<br>reasoner to admit such ...</td>\n",
              "    </tr>\n",
              "    <tr>\n",
              "        <td style=\"padding-left: 1em; padding-right: 1em; text-align: center; vertical-align: top\">The Adventures of<br>Sherlock Holmes ...</td>\n",
              "        <td style=\"padding-left: 1em; padding-right: 1em; text-align: center; vertical-align: top\">Grit in a sensitive<br>instrument  or a crac ...</td>\n",
              "    </tr>\n",
              "</table>\n",
              "[10 rows x 2 columns]<br/>\n",
              "</div>"
            ]
          },
          "metadata": {},
          "execution_count": 25
        }
      ]
    },
    {
      "cell_type": "code",
      "source": [
        "# rename the second column to sentence\n",
        "sf_sentences.rename({'text': 'sentence'}, inplace=True)"
      ],
      "metadata": {
        "colab": {
          "base_uri": "https://localhost:8080/",
          "height": 458
        },
        "id": "zFOA8N5a063T",
        "outputId": "bf47ec37-5b48-4ae6-a8a2-b10a1de7818d"
      },
      "execution_count": 26,
      "outputs": [
        {
          "output_type": "execute_result",
          "data": {
            "text/plain": [
              "Columns:\n",
              "\ttitle\tstr\n",
              "\tsentence\tstr\n",
              "\n",
              "Rows: 70971\n",
              "\n",
              "Data:\n",
              "+-------------------------------+-------------------------------+\n",
              "|             title             |            sentence           |\n",
              "+-------------------------------+-------------------------------+\n",
              "| The Adventures of Sherlock... | THE ADVENTURES OF SHERLOCK... |\n",
              "| The Adventures of Sherlock... | I have seldom heard him   ... |\n",
              "| The Adventures of Sherlock... | In his eyes she eclipses a... |\n",
              "| The Adventures of Sherlock... | It was not that he felt an... |\n",
              "| The Adventures of Sherlock... | All emotions  and that one... |\n",
              "| The Adventures of Sherlock... | He was  I take it  the mos... |\n",
              "| The Adventures of Sherlock... | He never spoke of the soft... |\n",
              "| The Adventures of Sherlock... | They were admirable things... |\n",
              "| The Adventures of Sherlock... | But for the trained reason... |\n",
              "| The Adventures of Sherlock... | Grit in a sensitive instru... |\n",
              "+-------------------------------+-------------------------------+\n",
              "[70971 rows x 2 columns]\n",
              "Note: Only the head of the SFrame is printed.\n",
              "You can use print_rows(num_rows=m, num_columns=n) to print more rows and columns."
            ],
            "text/html": [
              "<div style=\"max-height:1000px;max-width:1500px;overflow:auto;\"><table frame=\"box\" rules=\"cols\">\n",
              "    <tr>\n",
              "        <th style=\"padding-left: 1em; padding-right: 1em; text-align: center\">title</th>\n",
              "        <th style=\"padding-left: 1em; padding-right: 1em; text-align: center\">sentence</th>\n",
              "    </tr>\n",
              "    <tr>\n",
              "        <td style=\"padding-left: 1em; padding-right: 1em; text-align: center; vertical-align: top\">The Adventures of<br>Sherlock Holmes ...</td>\n",
              "        <td style=\"padding-left: 1em; padding-right: 1em; text-align: center; vertical-align: top\">THE ADVENTURES OF<br>SHERLOCK HOLMES ...</td>\n",
              "    </tr>\n",
              "    <tr>\n",
              "        <td style=\"padding-left: 1em; padding-right: 1em; text-align: center; vertical-align: top\">The Adventures of<br>Sherlock Holmes ...</td>\n",
              "        <td style=\"padding-left: 1em; padding-right: 1em; text-align: center; vertical-align: top\">I have seldom heard him<br>mention her under any ...</td>\n",
              "    </tr>\n",
              "    <tr>\n",
              "        <td style=\"padding-left: 1em; padding-right: 1em; text-align: center; vertical-align: top\">The Adventures of<br>Sherlock Holmes ...</td>\n",
              "        <td style=\"padding-left: 1em; padding-right: 1em; text-align: center; vertical-align: top\">In his eyes she eclipses<br>and      predominates ...</td>\n",
              "    </tr>\n",
              "    <tr>\n",
              "        <td style=\"padding-left: 1em; padding-right: 1em; text-align: center; vertical-align: top\">The Adventures of<br>Sherlock Holmes ...</td>\n",
              "        <td style=\"padding-left: 1em; padding-right: 1em; text-align: center; vertical-align: top\">It was not that he felt<br>any      emotion akin to ...</td>\n",
              "    </tr>\n",
              "    <tr>\n",
              "        <td style=\"padding-left: 1em; padding-right: 1em; text-align: center; vertical-align: top\">The Adventures of<br>Sherlock Holmes ...</td>\n",
              "        <td style=\"padding-left: 1em; padding-right: 1em; text-align: center; vertical-align: top\">All emotions  and that<br>one      particularly ...</td>\n",
              "    </tr>\n",
              "    <tr>\n",
              "        <td style=\"padding-left: 1em; padding-right: 1em; text-align: center; vertical-align: top\">The Adventures of<br>Sherlock Holmes ...</td>\n",
              "        <td style=\"padding-left: 1em; padding-right: 1em; text-align: center; vertical-align: top\">He was  I take it  the<br>most perfect reasoning ...</td>\n",
              "    </tr>\n",
              "    <tr>\n",
              "        <td style=\"padding-left: 1em; padding-right: 1em; text-align: center; vertical-align: top\">The Adventures of<br>Sherlock Holmes ...</td>\n",
              "        <td style=\"padding-left: 1em; padding-right: 1em; text-align: center; vertical-align: top\">He never spoke of the<br>softer      passions ...</td>\n",
              "    </tr>\n",
              "    <tr>\n",
              "        <td style=\"padding-left: 1em; padding-right: 1em; text-align: center; vertical-align: top\">The Adventures of<br>Sherlock Holmes ...</td>\n",
              "        <td style=\"padding-left: 1em; padding-right: 1em; text-align: center; vertical-align: top\">They were admirable<br>things      for the ...</td>\n",
              "    </tr>\n",
              "    <tr>\n",
              "        <td style=\"padding-left: 1em; padding-right: 1em; text-align: center; vertical-align: top\">The Adventures of<br>Sherlock Holmes ...</td>\n",
              "        <td style=\"padding-left: 1em; padding-right: 1em; text-align: center; vertical-align: top\">But for the trained<br>reasoner to admit such ...</td>\n",
              "    </tr>\n",
              "    <tr>\n",
              "        <td style=\"padding-left: 1em; padding-right: 1em; text-align: center; vertical-align: top\">The Adventures of<br>Sherlock Holmes ...</td>\n",
              "        <td style=\"padding-left: 1em; padding-right: 1em; text-align: center; vertical-align: top\">Grit in a sensitive<br>instrument  or a crac ...</td>\n",
              "    </tr>\n",
              "</table>\n",
              "[70971 rows x 2 columns]<br/>Note: Only the head of the SFrame is printed.<br/>You can use print_rows(num_rows=m, num_columns=n) to print more rows and columns.\n",
              "</div>"
            ]
          },
          "metadata": {},
          "execution_count": 26
        }
      ]
    },
    {
      "cell_type": "markdown",
      "source": [
        "Let's split the sentences into words."
      ],
      "metadata": {
        "id": "V8FwSbGy1U_l"
      }
    },
    {
      "cell_type": "code",
      "source": [
        "re_words_split = re.compile(\"(\\w+)\")\n",
        "sf_sentences['words'] = sf_sentences['sentence'].apply(lambda s: re_words_split.findall(s))"
      ],
      "metadata": {
        "id": "bB-LH5tC1Ix6"
      },
      "execution_count": 27,
      "outputs": []
    },
    {
      "cell_type": "code",
      "source": [
        "sf_sentences.head()"
      ],
      "metadata": {
        "colab": {
          "base_uri": "https://localhost:8080/",
          "height": 423
        },
        "id": "S9f_6-VX12iJ",
        "outputId": "4869e89a-7b6b-4eb6-eb81-a0ad19a708b6"
      },
      "execution_count": 28,
      "outputs": [
        {
          "output_type": "execute_result",
          "data": {
            "text/plain": [
              "Columns:\n",
              "\ttitle\tstr\n",
              "\tsentence\tstr\n",
              "\twords\tlist\n",
              "\n",
              "Rows: 10\n",
              "\n",
              "Data:\n",
              "+-------------------------------+-------------------------------+\n",
              "|             title             |            sentence           |\n",
              "+-------------------------------+-------------------------------+\n",
              "| The Adventures of Sherlock... | THE ADVENTURES OF SHERLOCK... |\n",
              "| The Adventures of Sherlock... | I have seldom heard him   ... |\n",
              "| The Adventures of Sherlock... | In his eyes she eclipses a... |\n",
              "| The Adventures of Sherlock... | It was not that he felt an... |\n",
              "| The Adventures of Sherlock... | All emotions  and that one... |\n",
              "| The Adventures of Sherlock... | He was  I take it  the mos... |\n",
              "| The Adventures of Sherlock... | He never spoke of the soft... |\n",
              "| The Adventures of Sherlock... | They were admirable things... |\n",
              "| The Adventures of Sherlock... | But for the trained reason... |\n",
              "| The Adventures of Sherlock... | Grit in a sensitive instru... |\n",
              "+-------------------------------+-------------------------------+\n",
              "+-------------------------------+\n",
              "|             words             |\n",
              "+-------------------------------+\n",
              "| [THE, ADVENTURES, OF, SHER... |\n",
              "| [I, have, seldom, heard, h... |\n",
              "| [In, his, eyes, she, eclip... |\n",
              "| [It, was, not, that, he, f... |\n",
              "| [All, emotions, and, that,... |\n",
              "| [He, was, I, take, it, the... |\n",
              "| [He, never, spoke, of, the... |\n",
              "| [They, were, admirable, th... |\n",
              "| [But, for, the, trained, r... |\n",
              "| [Grit, in, a, sensitive, i... |\n",
              "+-------------------------------+\n",
              "[10 rows x 3 columns]"
            ],
            "text/html": [
              "<div style=\"max-height:1000px;max-width:1500px;overflow:auto;\"><table frame=\"box\" rules=\"cols\">\n",
              "    <tr>\n",
              "        <th style=\"padding-left: 1em; padding-right: 1em; text-align: center\">title</th>\n",
              "        <th style=\"padding-left: 1em; padding-right: 1em; text-align: center\">sentence</th>\n",
              "        <th style=\"padding-left: 1em; padding-right: 1em; text-align: center\">words</th>\n",
              "    </tr>\n",
              "    <tr>\n",
              "        <td style=\"padding-left: 1em; padding-right: 1em; text-align: center; vertical-align: top\">The Adventures of<br>Sherlock Holmes ...</td>\n",
              "        <td style=\"padding-left: 1em; padding-right: 1em; text-align: center; vertical-align: top\">THE ADVENTURES OF<br>SHERLOCK HOLMES ...</td>\n",
              "        <td style=\"padding-left: 1em; padding-right: 1em; text-align: center; vertical-align: top\">[THE, ADVENTURES, OF,<br>SHERLOCK, HOLMES, Art ...</td>\n",
              "    </tr>\n",
              "    <tr>\n",
              "        <td style=\"padding-left: 1em; padding-right: 1em; text-align: center; vertical-align: top\">The Adventures of<br>Sherlock Holmes ...</td>\n",
              "        <td style=\"padding-left: 1em; padding-right: 1em; text-align: center; vertical-align: top\">I have seldom heard him<br>mention her under any ...</td>\n",
              "        <td style=\"padding-left: 1em; padding-right: 1em; text-align: center; vertical-align: top\">[I, have, seldom, heard,<br>him, mention, her, un ...</td>\n",
              "    </tr>\n",
              "    <tr>\n",
              "        <td style=\"padding-left: 1em; padding-right: 1em; text-align: center; vertical-align: top\">The Adventures of<br>Sherlock Holmes ...</td>\n",
              "        <td style=\"padding-left: 1em; padding-right: 1em; text-align: center; vertical-align: top\">In his eyes she eclipses<br>and      predominates ...</td>\n",
              "        <td style=\"padding-left: 1em; padding-right: 1em; text-align: center; vertical-align: top\">[In, his, eyes, she,<br>eclipses, and, ...</td>\n",
              "    </tr>\n",
              "    <tr>\n",
              "        <td style=\"padding-left: 1em; padding-right: 1em; text-align: center; vertical-align: top\">The Adventures of<br>Sherlock Holmes ...</td>\n",
              "        <td style=\"padding-left: 1em; padding-right: 1em; text-align: center; vertical-align: top\">It was not that he felt<br>any      emotion akin to ...</td>\n",
              "        <td style=\"padding-left: 1em; padding-right: 1em; text-align: center; vertical-align: top\">[It, was, not, that, he,<br>felt, any, emotion, a ...</td>\n",
              "    </tr>\n",
              "    <tr>\n",
              "        <td style=\"padding-left: 1em; padding-right: 1em; text-align: center; vertical-align: top\">The Adventures of<br>Sherlock Holmes ...</td>\n",
              "        <td style=\"padding-left: 1em; padding-right: 1em; text-align: center; vertical-align: top\">All emotions  and that<br>one      particularly ...</td>\n",
              "        <td style=\"padding-left: 1em; padding-right: 1em; text-align: center; vertical-align: top\">[All, emotions, and,<br>that, one, particularly, ...</td>\n",
              "    </tr>\n",
              "    <tr>\n",
              "        <td style=\"padding-left: 1em; padding-right: 1em; text-align: center; vertical-align: top\">The Adventures of<br>Sherlock Holmes ...</td>\n",
              "        <td style=\"padding-left: 1em; padding-right: 1em; text-align: center; vertical-align: top\">He was  I take it  the<br>most perfect reasoning ...</td>\n",
              "        <td style=\"padding-left: 1em; padding-right: 1em; text-align: center; vertical-align: top\">[He, was, I, take, it,<br>the, most, perfect, ...</td>\n",
              "    </tr>\n",
              "    <tr>\n",
              "        <td style=\"padding-left: 1em; padding-right: 1em; text-align: center; vertical-align: top\">The Adventures of<br>Sherlock Holmes ...</td>\n",
              "        <td style=\"padding-left: 1em; padding-right: 1em; text-align: center; vertical-align: top\">He never spoke of the<br>softer      passions ...</td>\n",
              "        <td style=\"padding-left: 1em; padding-right: 1em; text-align: center; vertical-align: top\">[He, never, spoke, of,<br>the, softer, passions, ...</td>\n",
              "    </tr>\n",
              "    <tr>\n",
              "        <td style=\"padding-left: 1em; padding-right: 1em; text-align: center; vertical-align: top\">The Adventures of<br>Sherlock Holmes ...</td>\n",
              "        <td style=\"padding-left: 1em; padding-right: 1em; text-align: center; vertical-align: top\">They were admirable<br>things      for the ...</td>\n",
              "        <td style=\"padding-left: 1em; padding-right: 1em; text-align: center; vertical-align: top\">[They, were, admirable,<br>things, for, the, ...</td>\n",
              "    </tr>\n",
              "    <tr>\n",
              "        <td style=\"padding-left: 1em; padding-right: 1em; text-align: center; vertical-align: top\">The Adventures of<br>Sherlock Holmes ...</td>\n",
              "        <td style=\"padding-left: 1em; padding-right: 1em; text-align: center; vertical-align: top\">But for the trained<br>reasoner to admit such ...</td>\n",
              "        <td style=\"padding-left: 1em; padding-right: 1em; text-align: center; vertical-align: top\">[But, for, the, trained,<br>reasoner, to, admit, ...</td>\n",
              "    </tr>\n",
              "    <tr>\n",
              "        <td style=\"padding-left: 1em; padding-right: 1em; text-align: center; vertical-align: top\">The Adventures of<br>Sherlock Holmes ...</td>\n",
              "        <td style=\"padding-left: 1em; padding-right: 1em; text-align: center; vertical-align: top\">Grit in a sensitive<br>instrument  or a crac ...</td>\n",
              "        <td style=\"padding-left: 1em; padding-right: 1em; text-align: center; vertical-align: top\">[Grit, in, a, sensitive,<br>instrument, or, a, cr ...</td>\n",
              "    </tr>\n",
              "</table>\n",
              "[10 rows x 3 columns]<br/>\n",
              "</div>"
            ]
          },
          "metadata": {},
          "execution_count": 28
        }
      ]
    },
    {
      "cell_type": "code",
      "source": [
        "# save the results\n",
        "sf_sentences.save(\"%s/sentences.sframe\" % data_dir)"
      ],
      "metadata": {
        "id": "GywtuMlc1whC"
      },
      "execution_count": 29,
      "outputs": []
    },
    {
      "cell_type": "markdown",
      "source": [
        "Let's use the principal name of some characters (the main ones) to recuperate the characters for which their names appear in the same sentences. "
      ],
      "metadata": {
        "id": "O0T9sU5Y5BxH"
      }
    },
    {
      "cell_type": "code",
      "source": [
        "main_characters = set([\"Irene\", \"Mycroft\", \"Lestrade\", \"Sherlock\", \"Moran\", \"Moriarty\", \"Watson\"])"
      ],
      "metadata": {
        "id": "oh_urIn743Uh"
      },
      "execution_count": 30,
      "outputs": []
    },
    {
      "cell_type": "markdown",
      "source": [
        "Let's use the `SGraph`, `Vertex` and `Edge` functions to recuperate the relations between the characters as a graph."
      ],
      "metadata": {
        "id": "ZLQabASE7eih"
      }
    },
    {
      "cell_type": "code",
      "source": [
        "from turicreate import SGraph, Vertex, Edge\n",
        "import itertools # to iterate through objects and find combinations (order of 2 in our case)\n",
        "from collections import Counter"
      ],
      "metadata": {
        "id": "fcXdabSv61jx"
      },
      "execution_count": 31,
      "outputs": []
    },
    {
      "cell_type": "code",
      "source": [],
      "metadata": {
        "id": "0EansRMoqKsg"
      },
      "execution_count": 31,
      "outputs": []
    },
    {
      "cell_type": "code",
      "source": [
        "def create_graph(s_sentences, characters, min_edge_strength: int = 1):\n",
        "\n",
        "  s_sentences[\"characters\"] = s_sentences[\"words\"].apply(lambda w: list(set(w) & characters))\n",
        "\n",
        "\n",
        "  # recuperate line of s_sentences with more than 1 character\n",
        "  s_sentences['num_characters'] = s_sentences['characters'].apply(lambda ch: len(ch))\n",
        "  s_sentences = s_sentences[s_sentences['num_characters'] > 1]\n",
        "\n",
        "  # let's recuperate the links or combinations of characters \n",
        "  links = []\n",
        "\n",
        "  for l in s_sentences['characters']:\n",
        "\n",
        "    links += itertools.combinations(l, 2)\n",
        "  \n",
        "  # recuperate frequencies as a dictionary\n",
        "  links_freq = Counter(links)\n",
        "\n",
        "  # We will create an edge between two characters if their frequency is higher than\n",
        "  # the frequency lower limit\n",
        "  g = SGraph() # initialize the social network\n",
        "  edges = [] # initialize the edges\n",
        "\n",
        "  for link, fr in links_freq.items():\n",
        "\n",
        "    if fr >= min_edge_strength:\n",
        "\n",
        "      edges.append(Edge(link[0], link[1], attr = {\"strength\": fr}))\n",
        "  \n",
        "  # return the graph\n",
        "  return g.add_edges(edges)\n"
      ],
      "metadata": {
        "id": "0nQTquDr7y1d"
      },
      "execution_count": 32,
      "outputs": []
    },
    {
      "cell_type": "code",
      "source": [
        "# create the graph and render it\n",
        "g = create_graph(sf_sentences, main_characters)\n",
        "g"
      ],
      "metadata": {
        "colab": {
          "base_uri": "https://localhost:8080/"
        },
        "id": "8YoE8ou_BZDC",
        "outputId": "55af60f4-c2f8-4a07-90f2-2a68a69dbb9b"
      },
      "execution_count": 33,
      "outputs": [
        {
          "output_type": "execute_result",
          "data": {
            "text/plain": [
              "SGraph({'num_edges': 10, 'num_vertices': 7})\n",
              "Vertex Fields:['__id']\n",
              "Edge Fields:['__src_id', '__dst_id', 'strength']"
            ]
          },
          "metadata": {},
          "execution_count": 33
        }
      ]
    },
    {
      "cell_type": "code",
      "source": [
        "g.edges"
      ],
      "metadata": {
        "colab": {
          "base_uri": "https://localhost:8080/",
          "height": 249
        },
        "id": "NVVEtmrbFO1X",
        "outputId": "880300db-f581-4f84-9d06-d37658eb82b9"
      },
      "execution_count": 34,
      "outputs": [
        {
          "output_type": "execute_result",
          "data": {
            "text/plain": [
              "Columns:\n",
              "\t__src_id\tstr\n",
              "\t__dst_id\tstr\n",
              "\tstrength\tint\n",
              "\n",
              "Rows: 10\n",
              "\n",
              "Data:\n",
              "+----------+----------+----------+\n",
              "| __src_id | __dst_id | strength |\n",
              "+----------+----------+----------+\n",
              "| Mycroft  | Lestrade |    5     |\n",
              "| Mycroft  | Sherlock |    6     |\n",
              "| Lestrade | Mycroft  |    1     |\n",
              "| Lestrade | Sherlock |    11    |\n",
              "|  Moran   | Sherlock |    2     |\n",
              "| Moriarty |  Moran   |    1     |\n",
              "| Moriarty | Sherlock |    4     |\n",
              "| Moriarty |  Watson  |    6     |\n",
              "|  Irene   | Sherlock |    4     |\n",
              "|  Watson  | Sherlock |    14    |\n",
              "+----------+----------+----------+\n",
              "[10 rows x 3 columns]"
            ],
            "text/html": [
              "<div style=\"max-height:1000px;max-width:1500px;overflow:auto;\"><table frame=\"box\" rules=\"cols\">\n",
              "    <tr>\n",
              "        <th style=\"padding-left: 1em; padding-right: 1em; text-align: center\">__src_id</th>\n",
              "        <th style=\"padding-left: 1em; padding-right: 1em; text-align: center\">__dst_id</th>\n",
              "        <th style=\"padding-left: 1em; padding-right: 1em; text-align: center\">strength</th>\n",
              "    </tr>\n",
              "    <tr>\n",
              "        <td style=\"padding-left: 1em; padding-right: 1em; text-align: center; vertical-align: top\">Mycroft</td>\n",
              "        <td style=\"padding-left: 1em; padding-right: 1em; text-align: center; vertical-align: top\">Lestrade</td>\n",
              "        <td style=\"padding-left: 1em; padding-right: 1em; text-align: center; vertical-align: top\">5</td>\n",
              "    </tr>\n",
              "    <tr>\n",
              "        <td style=\"padding-left: 1em; padding-right: 1em; text-align: center; vertical-align: top\">Mycroft</td>\n",
              "        <td style=\"padding-left: 1em; padding-right: 1em; text-align: center; vertical-align: top\">Sherlock</td>\n",
              "        <td style=\"padding-left: 1em; padding-right: 1em; text-align: center; vertical-align: top\">6</td>\n",
              "    </tr>\n",
              "    <tr>\n",
              "        <td style=\"padding-left: 1em; padding-right: 1em; text-align: center; vertical-align: top\">Lestrade</td>\n",
              "        <td style=\"padding-left: 1em; padding-right: 1em; text-align: center; vertical-align: top\">Mycroft</td>\n",
              "        <td style=\"padding-left: 1em; padding-right: 1em; text-align: center; vertical-align: top\">1</td>\n",
              "    </tr>\n",
              "    <tr>\n",
              "        <td style=\"padding-left: 1em; padding-right: 1em; text-align: center; vertical-align: top\">Lestrade</td>\n",
              "        <td style=\"padding-left: 1em; padding-right: 1em; text-align: center; vertical-align: top\">Sherlock</td>\n",
              "        <td style=\"padding-left: 1em; padding-right: 1em; text-align: center; vertical-align: top\">11</td>\n",
              "    </tr>\n",
              "    <tr>\n",
              "        <td style=\"padding-left: 1em; padding-right: 1em; text-align: center; vertical-align: top\">Moran</td>\n",
              "        <td style=\"padding-left: 1em; padding-right: 1em; text-align: center; vertical-align: top\">Sherlock</td>\n",
              "        <td style=\"padding-left: 1em; padding-right: 1em; text-align: center; vertical-align: top\">2</td>\n",
              "    </tr>\n",
              "    <tr>\n",
              "        <td style=\"padding-left: 1em; padding-right: 1em; text-align: center; vertical-align: top\">Moriarty</td>\n",
              "        <td style=\"padding-left: 1em; padding-right: 1em; text-align: center; vertical-align: top\">Moran</td>\n",
              "        <td style=\"padding-left: 1em; padding-right: 1em; text-align: center; vertical-align: top\">1</td>\n",
              "    </tr>\n",
              "    <tr>\n",
              "        <td style=\"padding-left: 1em; padding-right: 1em; text-align: center; vertical-align: top\">Moriarty</td>\n",
              "        <td style=\"padding-left: 1em; padding-right: 1em; text-align: center; vertical-align: top\">Sherlock</td>\n",
              "        <td style=\"padding-left: 1em; padding-right: 1em; text-align: center; vertical-align: top\">4</td>\n",
              "    </tr>\n",
              "    <tr>\n",
              "        <td style=\"padding-left: 1em; padding-right: 1em; text-align: center; vertical-align: top\">Moriarty</td>\n",
              "        <td style=\"padding-left: 1em; padding-right: 1em; text-align: center; vertical-align: top\">Watson</td>\n",
              "        <td style=\"padding-left: 1em; padding-right: 1em; text-align: center; vertical-align: top\">6</td>\n",
              "    </tr>\n",
              "    <tr>\n",
              "        <td style=\"padding-left: 1em; padding-right: 1em; text-align: center; vertical-align: top\">Irene</td>\n",
              "        <td style=\"padding-left: 1em; padding-right: 1em; text-align: center; vertical-align: top\">Sherlock</td>\n",
              "        <td style=\"padding-left: 1em; padding-right: 1em; text-align: center; vertical-align: top\">4</td>\n",
              "    </tr>\n",
              "    <tr>\n",
              "        <td style=\"padding-left: 1em; padding-right: 1em; text-align: center; vertical-align: top\">Watson</td>\n",
              "        <td style=\"padding-left: 1em; padding-right: 1em; text-align: center; vertical-align: top\">Sherlock</td>\n",
              "        <td style=\"padding-left: 1em; padding-right: 1em; text-align: center; vertical-align: top\">14</td>\n",
              "    </tr>\n",
              "</table>\n",
              "[10 rows x 3 columns]<br/>\n",
              "</div>"
            ]
          },
          "metadata": {},
          "execution_count": 34
        }
      ]
    },
    {
      "cell_type": "code",
      "source": [
        "g.edges[0]"
      ],
      "metadata": {
        "colab": {
          "base_uri": "https://localhost:8080/"
        },
        "id": "AUWfPc5kFgLa",
        "outputId": "730b0029-0730-4349-e9c9-af453ed1849b"
      },
      "execution_count": 35,
      "outputs": [
        {
          "output_type": "execute_result",
          "data": {
            "text/plain": [
              "{'__src_id': 'Mycroft', '__dst_id': 'Lestrade', 'strength': 5}"
            ]
          },
          "metadata": {},
          "execution_count": 35
        }
      ]
    },
    {
      "cell_type": "code",
      "source": [
        "edges = g.edges.apply(lambda row: [v for (k, v) in row.items()])"
      ],
      "metadata": {
        "id": "r4UiO7ZLFx3C"
      },
      "execution_count": 36,
      "outputs": []
    },
    {
      "cell_type": "code",
      "source": [
        "edges"
      ],
      "metadata": {
        "colab": {
          "base_uri": "https://localhost:8080/"
        },
        "id": "SO1Vgxx0F5ho",
        "outputId": "0babf75c-1732-4155-961f-6d528faa9315"
      },
      "execution_count": 37,
      "outputs": [
        {
          "output_type": "execute_result",
          "data": {
            "text/plain": [
              "dtype: list\n",
              "Rows: 10\n",
              "[['Mycroft', 'Lestrade', 5], ['Mycroft', 'Sherlock', 6], ['Lestrade', 'Mycroft', 1], ['Lestrade', 'Sherlock', 11], ['Moran', 'Sherlock', 2], ['Moriarty', 'Moran', 1], ['Moriarty', 'Sherlock', 4], ['Moriarty', 'Watson', 6], ['Irene', 'Sherlock', 4], ['Watson', 'Sherlock', 14]]"
            ]
          },
          "metadata": {},
          "execution_count": 37
        }
      ]
    },
    {
      "cell_type": "code",
      "source": [
        "g.vertices['__id']"
      ],
      "metadata": {
        "colab": {
          "base_uri": "https://localhost:8080/"
        },
        "id": "6wx1hdhHGcFB",
        "outputId": "46f6362e-532a-4041-986f-b1a7e54cbe0e"
      },
      "execution_count": 38,
      "outputs": [
        {
          "output_type": "execute_result",
          "data": {
            "text/plain": [
              "dtype: str\n",
              "Rows: 7\n",
              "['Mycroft', 'Lestrade', 'Moran', 'Moriarty', 'Irene', 'Sherlock', 'Watson']"
            ]
          },
          "metadata": {},
          "execution_count": 38
        }
      ]
    },
    {
      "cell_type": "markdown",
      "source": [
        "Let's create two functions to visualize the graphes. One based on networkx and the other based on `pyviz` which is our preferred. With the last one we will trace a most interactive graph."
      ],
      "metadata": {
        "id": "g6ZkaxdrpxfK"
      }
    },
    {
      "cell_type": "code",
      "source": [
        "!pip install networkx as nx\n",
        "# it can take few moments to install pyviz\n",
        "!pip install pyvis==0.2.1"
      ],
      "metadata": {
        "colab": {
          "base_uri": "https://localhost:8080/"
        },
        "id": "uaFWS1g0BhMj",
        "outputId": "0843c71e-2955-46f7-997f-6ed2aae558ac"
      },
      "execution_count": 39,
      "outputs": [
        {
          "output_type": "stream",
          "name": "stdout",
          "text": [
            "\u001b[33mWARNING: Ignoring invalid distribution -andas (/usr/local/lib/python3.8/dist-packages)\u001b[0m\u001b[33m\n",
            "\u001b[0m\u001b[33mWARNING: Ignoring invalid distribution -andas (/usr/local/lib/python3.8/dist-packages)\u001b[0m\u001b[33m\n",
            "\u001b[0mLooking in indexes: https://pypi.org/simple, https://us-python.pkg.dev/colab-wheels/public/simple/\n",
            "Requirement already satisfied: networkx in /usr/local/lib/python3.8/dist-packages (3.0)\n",
            "\u001b[31mERROR: Could not find a version that satisfies the requirement as (from versions: none)\u001b[0m\u001b[31m\n",
            "\u001b[0m\u001b[31mERROR: No matching distribution found for as\u001b[0m\u001b[31m\n",
            "\u001b[0m\u001b[33mWARNING: Ignoring invalid distribution -andas (/usr/local/lib/python3.8/dist-packages)\u001b[0m\u001b[33m\n",
            "\u001b[0m\u001b[33mWARNING: Ignoring invalid distribution -andas (/usr/local/lib/python3.8/dist-packages)\u001b[0m\u001b[33m\n",
            "\u001b[0mLooking in indexes: https://pypi.org/simple, https://us-python.pkg.dev/colab-wheels/public/simple/\n",
            "Requirement already satisfied: pyvis==0.2.1 in /usr/local/lib/python3.8/dist-packages (0.2.1)\n",
            "Requirement already satisfied: ipython>=5.3.0 in /usr/local/lib/python3.8/dist-packages (from pyvis==0.2.1) (7.9.0)\n",
            "Requirement already satisfied: jinja2>=2.9.6 in /usr/local/lib/python3.8/dist-packages (from pyvis==0.2.1) (2.11.3)\n",
            "Requirement already satisfied: jsonpickle>=1.4.1 in /usr/local/lib/python3.8/dist-packages (from pyvis==0.2.1) (3.0.1)\n",
            "Requirement already satisfied: networkx>=1.11 in /usr/local/lib/python3.8/dist-packages (from pyvis==0.2.1) (3.0)\n",
            "Requirement already satisfied: traitlets>=4.2 in /usr/local/lib/python3.8/dist-packages (from ipython>=5.3.0->pyvis==0.2.1) (5.7.1)\n",
            "Requirement already satisfied: prompt-toolkit<2.1.0,>=2.0.0 in /usr/local/lib/python3.8/dist-packages (from ipython>=5.3.0->pyvis==0.2.1) (2.0.10)\n",
            "Requirement already satisfied: backcall in /usr/local/lib/python3.8/dist-packages (from ipython>=5.3.0->pyvis==0.2.1) (0.2.0)\n",
            "Requirement already satisfied: setuptools>=18.5 in /usr/local/lib/python3.8/dist-packages (from ipython>=5.3.0->pyvis==0.2.1) (57.4.0)\n",
            "Requirement already satisfied: jedi>=0.10 in /usr/local/lib/python3.8/dist-packages (from ipython>=5.3.0->pyvis==0.2.1) (0.18.2)\n",
            "Requirement already satisfied: pexpect in /usr/local/lib/python3.8/dist-packages (from ipython>=5.3.0->pyvis==0.2.1) (4.8.0)\n",
            "Requirement already satisfied: pickleshare in /usr/local/lib/python3.8/dist-packages (from ipython>=5.3.0->pyvis==0.2.1) (0.7.5)\n",
            "Requirement already satisfied: pygments in /usr/local/lib/python3.8/dist-packages (from ipython>=5.3.0->pyvis==0.2.1) (2.6.1)\n",
            "Requirement already satisfied: decorator in /usr/local/lib/python3.8/dist-packages (from ipython>=5.3.0->pyvis==0.2.1) (4.4.2)\n",
            "Requirement already satisfied: MarkupSafe>=0.23 in /usr/local/lib/python3.8/dist-packages (from jinja2>=2.9.6->pyvis==0.2.1) (2.0.1)\n",
            "Requirement already satisfied: parso<0.9.0,>=0.8.0 in /usr/local/lib/python3.8/dist-packages (from jedi>=0.10->ipython>=5.3.0->pyvis==0.2.1) (0.8.3)\n",
            "Requirement already satisfied: six>=1.9.0 in /usr/local/lib/python3.8/dist-packages (from prompt-toolkit<2.1.0,>=2.0.0->ipython>=5.3.0->pyvis==0.2.1) (1.15.0)\n",
            "Requirement already satisfied: wcwidth in /usr/local/lib/python3.8/dist-packages (from prompt-toolkit<2.1.0,>=2.0.0->ipython>=5.3.0->pyvis==0.2.1) (0.2.5)\n",
            "Requirement already satisfied: ptyprocess>=0.5 in /usr/local/lib/python3.8/dist-packages (from pexpect->ipython>=5.3.0->pyvis==0.2.1) (0.7.0)\n",
            "\u001b[33mWARNING: Ignoring invalid distribution -andas (/usr/local/lib/python3.8/dist-packages)\u001b[0m\u001b[33m\n",
            "\u001b[0m"
          ]
        }
      ]
    },
    {
      "cell_type": "code",
      "source": [
        "# let's import the libraries\n",
        "# for networkx\n",
        "import networkx as nx\n",
        "import matplotlib.pyplot as plt\n",
        "\n",
        "# for pyviz\n",
        "from IPython.display import display, HTML\n",
        "from pyvis.network import Network\n",
        "\n",
        "from typing import Union\n"
      ],
      "metadata": {
        "id": "D0PlgVl2qYPb"
      },
      "execution_count": 45,
      "outputs": []
    },
    {
      "cell_type": "code",
      "source": [
        "def plot_graph(g, fig_size: tuple = (10, 8), node_size: int = 100, font_size: int = 18, edge_color: str = \"blue\", node_color: str = \"black\", alpha: float = .5):\n",
        "  \"\"\" visualize graph with networkx\n",
        "  \"\"\"\n",
        "  edges = g.edges.apply(lambda row: [v for (k, v) in row.items()])\n",
        "  gnx = nx.Graph()\n",
        "  gnx.add_nodes_from(g.vertices['__id'])\n",
        "  gnx.add_weighted_edges_from(edges)\n",
        "\n",
        "  plt.figure(figsize = fig_size)\n",
        "\n",
        "  # initialize pos\n",
        "  pos = nx.kamada_kawai_layout(gnx)\n",
        "\n",
        "  # Draw the graph\n",
        "  nx.draw_networkx_edges(gnx, pos, edgelist=edges, edge_color=edge_color, width=[edge[2] for edge in edges], alpha = alpha)\n",
        "  nx.draw_networkx_nodes(gnx, pos, node_color=node_color, node_size=node_size)\n",
        "  nx.draw_networkx_labels(gnx, pos, font_size=18, verticalalignment=\"bottom\", horizontalalignment=\"left\")\n",
        "  plt.show()\n",
        "\n",
        "def plot_graph2(g, width: str = \"500px\", height: str = \"500px\", bgcolor: str = \"#ffffff\", font_color: bool = False, label_colors: Union[str, list, None] = None, node_distance: int = 90, spring_length: int = 200):\n",
        "  \"\"\"Visualize graph with pyviz\n",
        "  \"\"\"\n",
        "  \n",
        "  # recuperate edges\n",
        "  edges = g.edges.apply(lambda row: [v for (k, v) in row.items()])\n",
        "  \n",
        "  # initialize the network\n",
        "  net = Network(height, width, bgcolor=bgcolor, font_color=font_color, notebook = True)\n",
        "\n",
        "  # add the nodes\n",
        "  nodes = g.vertices['__id'] # recuperate the nodes\n",
        "\n",
        "  if label_colors: \n",
        "    \n",
        "    label_colors = [label_colors] * len(nodes) if type(label_colors) is str else label_colors\n",
        "\n",
        "    net.add_nodes(nodes, label = nodes, color = label_colors)\n",
        "\n",
        "  else:\n",
        "\n",
        "    net.add_nodes(nodes, label = nodes)\n",
        "\n",
        "  # add the edges\n",
        "  net.add_edges(edges)\n",
        "\n",
        "  # add repulsion options\n",
        "  net.repulsion(node_distance=node_distance, spring_length=spring_length)\n",
        "\n",
        "  # add other things in map\n",
        "  neighbor_map = net.get_adj_list()\n",
        "\n",
        "  for node in net.nodes:\n",
        "\n",
        "    node[\"title\"] = f\"{node['id']} Neighbors: \\n\" +\"-\"+ \"\\n-\".join(neighbor_map[node['id']])\n",
        "\n",
        "    node[\"value\"] = len(neighbor_map[node[\"id\"]]) \n",
        "\n",
        "  # save and show the network\n",
        "  net.show(\"net1.html\")\n",
        "\n",
        "  display(HTML(\"net1.html\"))\n",
        "  \n",
        "\n",
        "\n"
      ],
      "metadata": {
        "id": "o8CIldNEDfvm"
      },
      "execution_count": 110,
      "outputs": []
    },
    {
      "cell_type": "code",
      "source": [
        "plot_graph2(g)"
      ],
      "metadata": {
        "colab": {
          "base_uri": "https://localhost:8080/",
          "height": 538
        },
        "id": "7lxT-cueCShc",
        "outputId": "d1fe083a-cb66-4591-8bc1-6b988fd6005a"
      },
      "execution_count": 111,
      "outputs": [
        {
          "output_type": "display_data",
          "data": {
            "text/plain": [
              "<IPython.core.display.HTML object>"
            ],
            "text/html": [
              "<html>\n",
              "<head>\n",
              "<link rel=\"stylesheet\" href=\"https://cdn.jsdelivr.net/npm/vis-network@latest/styles/vis-network.css\" type=\"text/css\" />\n",
              "<script type=\"text/javascript\" src=\"https://cdn.jsdelivr.net/npm/vis-network@latest/dist/vis-network.min.js\"> </script>\n",
              "<center>\n",
              "<h1></h1>\n",
              "</center>\n",
              "\n",
              "<!-- <link rel=\"stylesheet\" href=\"../node_modules/vis/dist/vis.min.css\" type=\"text/css\" />\n",
              "<script type=\"text/javascript\" src=\"../node_modules/vis/dist/vis.js\"> </script>-->\n",
              "\n",
              "<style type=\"text/css\">\n",
              "\n",
              "        #mynetwork {\n",
              "            width: 500px;\n",
              "            height: 500px;\n",
              "            background-color: #ffffff;\n",
              "            border: 1px solid lightgray;\n",
              "            position: relative;\n",
              "            float: left;\n",
              "        }\n",
              "\n",
              "        \n",
              "\n",
              "        \n",
              "\n",
              "        \n",
              "</style>\n",
              "\n",
              "</head>\n",
              "\n",
              "<body>\n",
              "<div id = \"mynetwork\"></div>\n",
              "\n",
              "\n",
              "<script type=\"text/javascript\">\n",
              "\n",
              "    // initialize global variables.\n",
              "    var edges;\n",
              "    var nodes;\n",
              "    var network; \n",
              "    var container;\n",
              "    var options, data;\n",
              "\n",
              "    \n",
              "    // This method is responsible for drawing the graph, returns the drawn network\n",
              "    function drawGraph() {\n",
              "        var container = document.getElementById('mynetwork');\n",
              "        \n",
              "        \n",
              "\n",
              "        // parsing and collecting nodes and edges from the python\n",
              "        nodes = new vis.DataSet([{\"id\": \"Mycroft\", \"label\": \"Mycroft\", \"shape\": \"dot\", \"title\": \"Mycroft Neighbors: \\n-Sherlock\\n-Lestrade\", \"value\": 2}, {\"id\": \"Lestrade\", \"label\": \"Lestrade\", \"shape\": \"dot\", \"title\": \"Lestrade Neighbors: \\n-Sherlock\\n-Mycroft\", \"value\": 2}, {\"id\": \"Moran\", \"label\": \"Moran\", \"shape\": \"dot\", \"title\": \"Moran Neighbors: \\n-Sherlock\\n-Moriarty\", \"value\": 2}, {\"id\": \"Moriarty\", \"label\": \"Moriarty\", \"shape\": \"dot\", \"title\": \"Moriarty Neighbors: \\n-Moran\\n-Sherlock\\n-Watson\", \"value\": 3}, {\"id\": \"Irene\", \"label\": \"Irene\", \"shape\": \"dot\", \"title\": \"Irene Neighbors: \\n-Sherlock\", \"value\": 1}, {\"id\": \"Sherlock\", \"label\": \"Sherlock\", \"shape\": \"dot\", \"title\": \"Sherlock Neighbors: \\n-Moriarty\\n-Mycroft\\n-Irene\\n-Watson\\n-Lestrade\\n-Moran\", \"value\": 6}, {\"id\": \"Watson\", \"label\": \"Watson\", \"shape\": \"dot\", \"title\": \"Watson Neighbors: \\n-Sherlock\\n-Moriarty\", \"value\": 2}]);\n",
              "        edges = new vis.DataSet([{\"from\": \"Mycroft\", \"to\": \"Lestrade\", \"width\": 5}, {\"from\": \"Mycroft\", \"to\": \"Sherlock\", \"width\": 6}, {\"from\": \"Lestrade\", \"to\": \"Sherlock\", \"width\": 11}, {\"from\": \"Moran\", \"to\": \"Sherlock\", \"width\": 2}, {\"from\": \"Moriarty\", \"to\": \"Moran\", \"width\": 1}, {\"from\": \"Moriarty\", \"to\": \"Sherlock\", \"width\": 4}, {\"from\": \"Moriarty\", \"to\": \"Watson\", \"width\": 6}, {\"from\": \"Irene\", \"to\": \"Sherlock\", \"width\": 4}, {\"from\": \"Watson\", \"to\": \"Sherlock\", \"width\": 14}]);\n",
              "\n",
              "        // adding nodes and edges to the graph\n",
              "        data = {nodes: nodes, edges: edges};\n",
              "\n",
              "        var options = {\n",
              "    \"configure\": {\n",
              "        \"enabled\": false\n",
              "    },\n",
              "    \"edges\": {\n",
              "        \"color\": {\n",
              "            \"inherit\": true\n",
              "        },\n",
              "        \"smooth\": {\n",
              "            \"enabled\": true,\n",
              "            \"type\": \"dynamic\"\n",
              "        }\n",
              "    },\n",
              "    \"interaction\": {\n",
              "        \"dragNodes\": true,\n",
              "        \"hideEdgesOnDrag\": false,\n",
              "        \"hideNodesOnDrag\": false\n",
              "    },\n",
              "    \"physics\": {\n",
              "        \"enabled\": true,\n",
              "        \"repulsion\": {\n",
              "            \"centralGravity\": 0.2,\n",
              "            \"damping\": 0.09,\n",
              "            \"nodeDistance\": 90,\n",
              "            \"springConstant\": 0.05,\n",
              "            \"springLength\": 200\n",
              "        },\n",
              "        \"solver\": \"repulsion\",\n",
              "        \"stabilization\": {\n",
              "            \"enabled\": true,\n",
              "            \"fit\": true,\n",
              "            \"iterations\": 1000,\n",
              "            \"onlyDynamicEdges\": false,\n",
              "            \"updateInterval\": 50\n",
              "        }\n",
              "    }\n",
              "};\n",
              "        \n",
              "        \n",
              "\n",
              "        \n",
              "\n",
              "        network = new vis.Network(container, data, options);\n",
              "\t \n",
              "        \n",
              "\n",
              "\n",
              "        \n",
              "\n",
              "        return network;\n",
              "\n",
              "    }\n",
              "\n",
              "    drawGraph();\n",
              "\n",
              "</script>\n",
              "</body>\n",
              "</html>"
            ]
          },
          "metadata": {}
        }
      ]
    },
    {
      "cell_type": "markdown",
      "source": [
        "It seems that Sherlock knows more Watson (her friend) and agent Lestrade. And also he has more relations (with all characters that we mentioned)."
      ],
      "metadata": {
        "id": "YAlADrL9fmTp"
      }
    },
    {
      "cell_type": "markdown",
      "source": [
        "Let's make the same thing for the minor characters."
      ],
      "metadata": {
        "id": "N54FDnP-gs0Y"
      }
    },
    {
      "cell_type": "code",
      "source": [
        "minor_characters = set([\"Irene\",\"Mycroft\",\"Lestrade\",\"Sherlock\",\"Moran\",\"Moriarty\",\"Watson\",\"Baynes\",\"Billy\",\"Bradstreet\",\"Gregson\"\n",
        "                            ,\"Hopkins\",\"Hudson\",\"Shinwell\",\"Athelney\",\"Mary\",\"Langdale\",\"Toby\",\"Wiggins\"])\n"
      ],
      "metadata": {
        "id": "FquV0628IfjS"
      },
      "execution_count": 112,
      "outputs": []
    },
    {
      "cell_type": "code",
      "source": [
        "minor_g = create_graph(sf_sentences, minor_characters)\n",
        "minor_g"
      ],
      "metadata": {
        "colab": {
          "base_uri": "https://localhost:8080/"
        },
        "id": "B30l74v-iW8-",
        "outputId": "1f06f1ab-6e06-4fb3-fee3-92652d8d857f"
      },
      "execution_count": 113,
      "outputs": [
        {
          "output_type": "execute_result",
          "data": {
            "text/plain": [
              "SGraph({'num_edges': 29, 'num_vertices': 15})\n",
              "Vertex Fields:['__id']\n",
              "Edge Fields:['__src_id', '__dst_id', 'strength']"
            ]
          },
          "metadata": {},
          "execution_count": 113
        }
      ]
    },
    {
      "cell_type": "code",
      "source": [
        "plot_graph2(minor_g, \"1300px\", \"800px\")"
      ],
      "metadata": {
        "colab": {
          "base_uri": "https://localhost:8080/",
          "height": 838
        },
        "id": "zWYIhrDBn4VP",
        "outputId": "333d2e89-cf57-4ed3-8b2c-c5f6c99372fd"
      },
      "execution_count": 114,
      "outputs": [
        {
          "output_type": "display_data",
          "data": {
            "text/plain": [
              "<IPython.core.display.HTML object>"
            ],
            "text/html": [
              "<html>\n",
              "<head>\n",
              "<link rel=\"stylesheet\" href=\"https://cdn.jsdelivr.net/npm/vis-network@latest/styles/vis-network.css\" type=\"text/css\" />\n",
              "<script type=\"text/javascript\" src=\"https://cdn.jsdelivr.net/npm/vis-network@latest/dist/vis-network.min.js\"> </script>\n",
              "<center>\n",
              "<h1></h1>\n",
              "</center>\n",
              "\n",
              "<!-- <link rel=\"stylesheet\" href=\"../node_modules/vis/dist/vis.min.css\" type=\"text/css\" />\n",
              "<script type=\"text/javascript\" src=\"../node_modules/vis/dist/vis.js\"> </script>-->\n",
              "\n",
              "<style type=\"text/css\">\n",
              "\n",
              "        #mynetwork {\n",
              "            width: 1300px;\n",
              "            height: 800px;\n",
              "            background-color: #ffffff;\n",
              "            border: 1px solid lightgray;\n",
              "            position: relative;\n",
              "            float: left;\n",
              "        }\n",
              "\n",
              "        \n",
              "\n",
              "        \n",
              "\n",
              "        \n",
              "</style>\n",
              "\n",
              "</head>\n",
              "\n",
              "<body>\n",
              "<div id = \"mynetwork\"></div>\n",
              "\n",
              "\n",
              "<script type=\"text/javascript\">\n",
              "\n",
              "    // initialize global variables.\n",
              "    var edges;\n",
              "    var nodes;\n",
              "    var network; \n",
              "    var container;\n",
              "    var options, data;\n",
              "\n",
              "    \n",
              "    // This method is responsible for drawing the graph, returns the drawn network\n",
              "    function drawGraph() {\n",
              "        var container = document.getElementById('mynetwork');\n",
              "        \n",
              "        \n",
              "\n",
              "        // parsing and collecting nodes and edges from the python\n",
              "        nodes = new vis.DataSet([{\"id\": \"Langdale\", \"label\": \"Langdale\", \"shape\": \"dot\", \"title\": \"Langdale Neighbors: \\n-Watson\", \"value\": 1}, {\"id\": \"Mycroft\", \"label\": \"Mycroft\", \"shape\": \"dot\", \"title\": \"Mycroft Neighbors: \\n-Sherlock\\n-Hudson\\n-Lestrade\", \"value\": 3}, {\"id\": \"Lestrade\", \"label\": \"Lestrade\", \"shape\": \"dot\", \"title\": \"Lestrade Neighbors: \\n-Gregson\\n-Athelney\\n-Sherlock\\n-Mycroft\", \"value\": 4}, {\"id\": \"Moran\", \"label\": \"Moran\", \"shape\": \"dot\", \"title\": \"Moran Neighbors: \\n-Sherlock\\n-Moriarty\", \"value\": 2}, {\"id\": \"Hudson\", \"label\": \"Hudson\", \"shape\": \"dot\", \"title\": \"Hudson Neighbors: \\n-Sherlock\\n-Billy\\n-Mycroft\\n-Watson\\n-Hopkins\\n-Gregson\", \"value\": 6}, {\"id\": \"Mary\", \"label\": \"Mary\", \"shape\": \"dot\", \"title\": \"Mary Neighbors: \\n-Irene\", \"value\": 1}, {\"id\": \"Moriarty\", \"label\": \"Moriarty\", \"shape\": \"dot\", \"title\": \"Moriarty Neighbors: \\n-Moran\\n-Sherlock\\n-Watson\", \"value\": 3}, {\"id\": \"Billy\", \"label\": \"Billy\", \"shape\": \"dot\", \"title\": \"Billy Neighbors: \\n-Hudson\", \"value\": 1}, {\"id\": \"Irene\", \"label\": \"Irene\", \"shape\": \"dot\", \"title\": \"Irene Neighbors: \\n-Sherlock\\n-Mary\", \"value\": 2}, {\"id\": \"Sherlock\", \"label\": \"Sherlock\", \"shape\": \"dot\", \"title\": \"Sherlock Neighbors: \\n-Moriarty\\n-Mycroft\\n-Hudson\\n-Irene\\n-Watson\\n-Hopkins\\n-Bradstreet\\n-Gregson\\n-Lestrade\\n-Moran\", \"value\": 10}, {\"id\": \"Gregson\", \"label\": \"Gregson\", \"shape\": \"dot\", \"title\": \"Gregson Neighbors: \\n-Sherlock\\n-Hudson\\n-Athelney\\n-Watson\\n-Lestrade\", \"value\": 5}, {\"id\": \"Bradstreet\", \"label\": \"Bradstreet\", \"shape\": \"dot\", \"title\": \"Bradstreet Neighbors: \\n-Sherlock\", \"value\": 1}, {\"id\": \"Watson\", \"label\": \"Watson\", \"shape\": \"dot\", \"title\": \"Watson Neighbors: \\n-Sherlock\\n-Moriarty\\n-Hudson\\n-Gregson\\n-Langdale\", \"value\": 5}, {\"id\": \"Athelney\", \"label\": \"Athelney\", \"shape\": \"dot\", \"title\": \"Athelney Neighbors: \\n-Gregson\\n-Lestrade\", \"value\": 2}, {\"id\": \"Hopkins\", \"label\": \"Hopkins\", \"shape\": \"dot\", \"title\": \"Hopkins Neighbors: \\n-Sherlock\\n-Hudson\", \"value\": 2}]);\n",
              "        edges = new vis.DataSet([{\"from\": \"Mycroft\", \"to\": \"Lestrade\", \"width\": 3}, {\"from\": \"Mycroft\", \"to\": \"Hudson\", \"width\": 3}, {\"from\": \"Mycroft\", \"to\": \"Sherlock\", \"width\": 6}, {\"from\": \"Lestrade\", \"to\": \"Sherlock\", \"width\": 11}, {\"from\": \"Moran\", \"to\": \"Sherlock\", \"width\": 2}, {\"from\": \"Lestrade\", \"to\": \"Athelney\", \"width\": 1}, {\"from\": \"Moriarty\", \"to\": \"Moran\", \"width\": 1}, {\"from\": \"Mary\", \"to\": \"Irene\", \"width\": 2}, {\"from\": \"Moriarty\", \"to\": \"Sherlock\", \"width\": 4}, {\"from\": \"Hudson\", \"to\": \"Sherlock\", \"width\": 3}, {\"from\": \"Hudson\", \"to\": \"Billy\", \"width\": 1}, {\"from\": \"Hudson\", \"to\": \"Watson\", \"width\": 1}, {\"from\": \"Moriarty\", \"to\": \"Watson\", \"width\": 5}, {\"from\": \"Hudson\", \"to\": \"Hopkins\", \"width\": 2}, {\"from\": \"Irene\", \"to\": \"Sherlock\", \"width\": 4}, {\"from\": \"Sherlock\", \"to\": \"Hopkins\", \"width\": 1}, {\"from\": \"Gregson\", \"to\": \"Lestrade\", \"width\": 15}, {\"from\": \"Gregson\", \"to\": \"Hudson\", \"width\": 2}, {\"from\": \"Gregson\", \"to\": \"Sherlock\", \"width\": 3}, {\"from\": \"Gregson\", \"to\": \"Watson\", \"width\": 1}, {\"from\": \"Gregson\", \"to\": \"Athelney\", \"width\": 1}, {\"from\": \"Watson\", \"to\": \"Langdale\", \"width\": 1}, {\"from\": \"Bradstreet\", \"to\": \"Sherlock\", \"width\": 2}, {\"from\": \"Watson\", \"to\": \"Sherlock\", \"width\": 14}]);\n",
              "\n",
              "        // adding nodes and edges to the graph\n",
              "        data = {nodes: nodes, edges: edges};\n",
              "\n",
              "        var options = {\n",
              "    \"configure\": {\n",
              "        \"enabled\": false\n",
              "    },\n",
              "    \"edges\": {\n",
              "        \"color\": {\n",
              "            \"inherit\": true\n",
              "        },\n",
              "        \"smooth\": {\n",
              "            \"enabled\": true,\n",
              "            \"type\": \"dynamic\"\n",
              "        }\n",
              "    },\n",
              "    \"interaction\": {\n",
              "        \"dragNodes\": true,\n",
              "        \"hideEdgesOnDrag\": false,\n",
              "        \"hideNodesOnDrag\": false\n",
              "    },\n",
              "    \"physics\": {\n",
              "        \"enabled\": true,\n",
              "        \"repulsion\": {\n",
              "            \"centralGravity\": 0.2,\n",
              "            \"damping\": 0.09,\n",
              "            \"nodeDistance\": 90,\n",
              "            \"springConstant\": 0.05,\n",
              "            \"springLength\": 200\n",
              "        },\n",
              "        \"solver\": \"repulsion\",\n",
              "        \"stabilization\": {\n",
              "            \"enabled\": true,\n",
              "            \"fit\": true,\n",
              "            \"iterations\": 1000,\n",
              "            \"onlyDynamicEdges\": false,\n",
              "            \"updateInterval\": 50\n",
              "        }\n",
              "    }\n",
              "};\n",
              "        \n",
              "        \n",
              "\n",
              "        \n",
              "\n",
              "        network = new vis.Network(container, data, options);\n",
              "\t \n",
              "        \n",
              "\n",
              "\n",
              "        \n",
              "\n",
              "        return network;\n",
              "\n",
              "    }\n",
              "\n",
              "    drawGraph();\n",
              "\n",
              "</script>\n",
              "</body>\n",
              "</html>"
            ]
          },
          "metadata": {}
        }
      ]
    },
    {
      "cell_type": "markdown",
      "source": [
        "2. Constructing Social Network using Named Entity Recognition"
      ],
      "metadata": {
        "id": "wXoBrkvnt8Im"
      }
    },
    {
      "cell_type": "markdown",
      "source": [
        "Let's add the `StanfordNERTagger` to recognize automaticaly the entities of our texts. Since it is very complicated to use the stanforNertagger in our case (in colab) let's use the `spacy` library to get the entity names."
      ],
      "metadata": {
        "id": "24E9x8u9uQAQ"
      }
    },
    {
      "cell_type": "code",
      "source": [
        "# install the spacy model\n",
        "!python -m spacy download en_core_web_md"
      ],
      "metadata": {
        "colab": {
          "base_uri": "https://localhost:8080/"
        },
        "id": "vpe_-JHAE2qj",
        "outputId": "6ea29465-aacf-439b-c91a-eb783e8f984c"
      },
      "execution_count": 115,
      "outputs": [
        {
          "output_type": "stream",
          "name": "stdout",
          "text": [
            "/usr/local/lib/python3.8/dist-packages/torch/cuda/__init__.py:497: UserWarning: Can't initialize NVML\n",
            "  warnings.warn(\"Can't initialize NVML\")\n",
            "2023-01-18 13:54:51.773653: E tensorflow/stream_executor/cuda/cuda_driver.cc:271] failed call to cuInit: CUDA_ERROR_NO_DEVICE: no CUDA-capable device is detected\n",
            "\u001b[33mWARNING: Ignoring invalid distribution -andas (/usr/local/lib/python3.8/dist-packages)\u001b[0m\u001b[33m\n",
            "\u001b[0m\u001b[33mWARNING: Ignoring invalid distribution -andas (/usr/local/lib/python3.8/dist-packages)\u001b[0m\u001b[33m\n",
            "\u001b[0mLooking in indexes: https://pypi.org/simple, https://us-python.pkg.dev/colab-wheels/public/simple/\n",
            "Collecting en-core-web-md==3.4.1\n",
            "  Downloading https://github.com/explosion/spacy-models/releases/download/en_core_web_md-3.4.1/en_core_web_md-3.4.1-py3-none-any.whl (42.8 MB)\n",
            "\u001b[2K     \u001b[90m━━━━━━━━━━━━━━━━━━━━━━━━━━━━━━━━━━━━━━━━\u001b[0m \u001b[32m42.8/42.8 MB\u001b[0m \u001b[31m13.2 MB/s\u001b[0m eta \u001b[36m0:00:00\u001b[0m\n",
            "\u001b[?25hRequirement already satisfied: spacy<3.5.0,>=3.4.0 in /usr/local/lib/python3.8/dist-packages (from en-core-web-md==3.4.1) (3.4.4)\n",
            "Requirement already satisfied: srsly<3.0.0,>=2.4.3 in /usr/local/lib/python3.8/dist-packages (from spacy<3.5.0,>=3.4.0->en-core-web-md==3.4.1) (2.4.5)\n",
            "Requirement already satisfied: spacy-legacy<3.1.0,>=3.0.10 in /usr/local/lib/python3.8/dist-packages (from spacy<3.5.0,>=3.4.0->en-core-web-md==3.4.1) (3.0.11)\n",
            "Requirement already satisfied: preshed<3.1.0,>=3.0.2 in /usr/local/lib/python3.8/dist-packages (from spacy<3.5.0,>=3.4.0->en-core-web-md==3.4.1) (3.0.8)\n",
            "Requirement already satisfied: requests<3.0.0,>=2.13.0 in /usr/local/lib/python3.8/dist-packages (from spacy<3.5.0,>=3.4.0->en-core-web-md==3.4.1) (2.25.1)\n",
            "Requirement already satisfied: tqdm<5.0.0,>=4.38.0 in /usr/local/lib/python3.8/dist-packages (from spacy<3.5.0,>=3.4.0->en-core-web-md==3.4.1) (4.64.1)\n",
            "Requirement already satisfied: spacy-loggers<2.0.0,>=1.0.0 in /usr/local/lib/python3.8/dist-packages (from spacy<3.5.0,>=3.4.0->en-core-web-md==3.4.1) (1.0.4)\n",
            "Requirement already satisfied: pathy>=0.3.5 in /usr/local/lib/python3.8/dist-packages (from spacy<3.5.0,>=3.4.0->en-core-web-md==3.4.1) (0.10.1)\n",
            "Requirement already satisfied: wasabi<1.1.0,>=0.9.1 in /usr/local/lib/python3.8/dist-packages (from spacy<3.5.0,>=3.4.0->en-core-web-md==3.4.1) (0.10.1)\n",
            "Requirement already satisfied: numpy>=1.15.0 in /usr/local/lib/python3.8/dist-packages (from spacy<3.5.0,>=3.4.0->en-core-web-md==3.4.1) (1.21.6)\n",
            "Requirement already satisfied: langcodes<4.0.0,>=3.2.0 in /usr/local/lib/python3.8/dist-packages (from spacy<3.5.0,>=3.4.0->en-core-web-md==3.4.1) (3.3.0)\n",
            "Requirement already satisfied: packaging>=20.0 in /usr/local/lib/python3.8/dist-packages (from spacy<3.5.0,>=3.4.0->en-core-web-md==3.4.1) (21.3)\n",
            "Requirement already satisfied: murmurhash<1.1.0,>=0.28.0 in /usr/local/lib/python3.8/dist-packages (from spacy<3.5.0,>=3.4.0->en-core-web-md==3.4.1) (1.0.9)\n",
            "Requirement already satisfied: jinja2 in /usr/local/lib/python3.8/dist-packages (from spacy<3.5.0,>=3.4.0->en-core-web-md==3.4.1) (2.11.3)\n",
            "Requirement already satisfied: thinc<8.2.0,>=8.1.0 in /usr/local/lib/python3.8/dist-packages (from spacy<3.5.0,>=3.4.0->en-core-web-md==3.4.1) (8.1.6)\n",
            "Requirement already satisfied: setuptools in /usr/local/lib/python3.8/dist-packages (from spacy<3.5.0,>=3.4.0->en-core-web-md==3.4.1) (57.4.0)\n",
            "Requirement already satisfied: cymem<2.1.0,>=2.0.2 in /usr/local/lib/python3.8/dist-packages (from spacy<3.5.0,>=3.4.0->en-core-web-md==3.4.1) (2.0.7)\n",
            "Requirement already satisfied: catalogue<2.1.0,>=2.0.6 in /usr/local/lib/python3.8/dist-packages (from spacy<3.5.0,>=3.4.0->en-core-web-md==3.4.1) (2.0.8)\n",
            "Requirement already satisfied: typer<0.8.0,>=0.3.0 in /usr/local/lib/python3.8/dist-packages (from spacy<3.5.0,>=3.4.0->en-core-web-md==3.4.1) (0.7.0)\n",
            "Requirement already satisfied: pydantic!=1.8,!=1.8.1,<1.11.0,>=1.7.4 in /usr/local/lib/python3.8/dist-packages (from spacy<3.5.0,>=3.4.0->en-core-web-md==3.4.1) (1.10.4)\n",
            "Requirement already satisfied: smart-open<7.0.0,>=5.2.1 in /usr/local/lib/python3.8/dist-packages (from spacy<3.5.0,>=3.4.0->en-core-web-md==3.4.1) (6.3.0)\n",
            "Requirement already satisfied: pyparsing!=3.0.5,>=2.0.2 in /usr/local/lib/python3.8/dist-packages (from packaging>=20.0->spacy<3.5.0,>=3.4.0->en-core-web-md==3.4.1) (3.0.9)\n",
            "Requirement already satisfied: typing-extensions>=4.2.0 in /usr/local/lib/python3.8/dist-packages (from pydantic!=1.8,!=1.8.1,<1.11.0,>=1.7.4->spacy<3.5.0,>=3.4.0->en-core-web-md==3.4.1) (4.4.0)\n",
            "Requirement already satisfied: idna<3,>=2.5 in /usr/local/lib/python3.8/dist-packages (from requests<3.0.0,>=2.13.0->spacy<3.5.0,>=3.4.0->en-core-web-md==3.4.1) (2.10)\n",
            "Requirement already satisfied: certifi>=2017.4.17 in /usr/local/lib/python3.8/dist-packages (from requests<3.0.0,>=2.13.0->spacy<3.5.0,>=3.4.0->en-core-web-md==3.4.1) (2022.12.7)\n",
            "Requirement already satisfied: urllib3<1.27,>=1.21.1 in /usr/local/lib/python3.8/dist-packages (from requests<3.0.0,>=2.13.0->spacy<3.5.0,>=3.4.0->en-core-web-md==3.4.1) (1.26.14)\n",
            "Requirement already satisfied: chardet<5,>=3.0.2 in /usr/local/lib/python3.8/dist-packages (from requests<3.0.0,>=2.13.0->spacy<3.5.0,>=3.4.0->en-core-web-md==3.4.1) (4.0.0)\n",
            "Requirement already satisfied: confection<1.0.0,>=0.0.1 in /usr/local/lib/python3.8/dist-packages (from thinc<8.2.0,>=8.1.0->spacy<3.5.0,>=3.4.0->en-core-web-md==3.4.1) (0.0.3)\n",
            "Requirement already satisfied: blis<0.8.0,>=0.7.8 in /usr/local/lib/python3.8/dist-packages (from thinc<8.2.0,>=8.1.0->spacy<3.5.0,>=3.4.0->en-core-web-md==3.4.1) (0.7.9)\n",
            "Requirement already satisfied: click<9.0.0,>=7.1.1 in /usr/local/lib/python3.8/dist-packages (from typer<0.8.0,>=0.3.0->spacy<3.5.0,>=3.4.0->en-core-web-md==3.4.1) (7.1.2)\n",
            "Requirement already satisfied: MarkupSafe>=0.23 in /usr/local/lib/python3.8/dist-packages (from jinja2->spacy<3.5.0,>=3.4.0->en-core-web-md==3.4.1) (2.0.1)\n",
            "\u001b[33mWARNING: Ignoring invalid distribution -andas (/usr/local/lib/python3.8/dist-packages)\u001b[0m\u001b[33m\n",
            "\u001b[0m\u001b[38;5;2m✔ Download and installation successful\u001b[0m\n",
            "You can now load the package via spacy.load('en_core_web_md')\n"
          ]
        }
      ]
    },
    {
      "cell_type": "code",
      "source": [
        "# from nltk.tag import StanfordNERTagger\n",
        "import spacy\n",
        "from spacy.tokens import Doc\n",
        "\n",
        "# create the natural language processing model\n",
        "nlp = spacy.load(\"en_core_web_md\")"
      ],
      "metadata": {
        "colab": {
          "base_uri": "https://localhost:8080/"
        },
        "id": "AXQ-cABNuqAj",
        "outputId": "27597489-0df1-493d-9f21-efbe22b090b8"
      },
      "execution_count": 116,
      "outputs": [
        {
          "output_type": "stream",
          "name": "stderr",
          "text": [
            "/usr/local/lib/python3.8/dist-packages/torch/cuda/__init__.py:497: UserWarning: Can't initialize NVML\n",
            "  warnings.warn(\"Can't initialize NVML\")\n"
          ]
        }
      ]
    },
    {
      "cell_type": "code",
      "source": [
        "sf_books = tr.load_sframe(\"%s/books.sframe\" % data_dir)"
      ],
      "metadata": {
        "id": "1mHDQK2-uZKw"
      },
      "execution_count": 117,
      "outputs": []
    },
    {
      "cell_type": "markdown",
      "source": [
        "We will use pandarallel to speed up the next transformations."
      ],
      "metadata": {
        "id": "xFgnKRSVZ75H"
      }
    },
    {
      "cell_type": "code",
      "source": [
        "!pip install pandarallel"
      ],
      "metadata": {
        "colab": {
          "base_uri": "https://localhost:8080/"
        },
        "id": "LQR8Sc3Mbv3h",
        "outputId": "6b27e74f-9483-40ef-97b2-3b38b69c4967"
      },
      "execution_count": 118,
      "outputs": [
        {
          "output_type": "stream",
          "name": "stdout",
          "text": [
            "\u001b[33mWARNING: Ignoring invalid distribution -andas (/usr/local/lib/python3.8/dist-packages)\u001b[0m\u001b[33m\n",
            "\u001b[0m\u001b[33mWARNING: Ignoring invalid distribution -andas (/usr/local/lib/python3.8/dist-packages)\u001b[0m\u001b[33m\n",
            "\u001b[0mLooking in indexes: https://pypi.org/simple, https://us-python.pkg.dev/colab-wheels/public/simple/\n",
            "Requirement already satisfied: pandarallel in /usr/local/lib/python3.8/dist-packages (1.6.4)\n",
            "Requirement already satisfied: dill>=0.3.1 in /usr/local/lib/python3.8/dist-packages (from pandarallel) (0.3.6)\n",
            "Requirement already satisfied: pandas>=1 in /usr/local/lib/python3.8/dist-packages (from pandarallel) (1.5.2)\n",
            "Requirement already satisfied: psutil in /usr/local/lib/python3.8/dist-packages (from pandarallel) (5.4.8)\n",
            "Requirement already satisfied: pytz>=2020.1 in /usr/local/lib/python3.8/dist-packages (from pandas>=1->pandarallel) (2022.7)\n",
            "Requirement already satisfied: numpy>=1.20.3 in /usr/local/lib/python3.8/dist-packages (from pandas>=1->pandarallel) (1.21.6)\n",
            "Requirement already satisfied: python-dateutil>=2.8.1 in /usr/local/lib/python3.8/dist-packages (from pandas>=1->pandarallel) (2.8.2)\n",
            "Requirement already satisfied: six>=1.5 in /usr/local/lib/python3.8/dist-packages (from python-dateutil>=2.8.1->pandas>=1->pandarallel) (1.15.0)\n",
            "\u001b[33mWARNING: Ignoring invalid distribution -andas (/usr/local/lib/python3.8/dist-packages)\u001b[0m\u001b[33m\n",
            "\u001b[0m"
          ]
        }
      ]
    },
    {
      "cell_type": "code",
      "source": [
        "import pandarallel as prl\n",
        "import pandas as pd\n",
        "\n",
        "prl.pandarallel.initialize(progress_bar=True, nb_workers=10)"
      ],
      "metadata": {
        "colab": {
          "base_uri": "https://localhost:8080/"
        },
        "id": "UOleI_9db0-H",
        "outputId": "dd1d7e24-65d0-4095-f6b6-e9c5ea38c410"
      },
      "execution_count": 119,
      "outputs": [
        {
          "output_type": "stream",
          "name": "stdout",
          "text": [
            "INFO: Pandarallel will run on 10 workers.\n",
            "INFO: Pandarallel will use Memory file system to transfer data between the main process and workers.\n"
          ]
        }
      ]
    },
    {
      "cell_type": "code",
      "source": [
        "sf_books = sf_books.to_dataframe()"
      ],
      "metadata": {
        "id": "OrhekYg3cKq1"
      },
      "execution_count": 120,
      "outputs": []
    },
    {
      "cell_type": "code",
      "source": [
        "sf_books.head()"
      ],
      "metadata": {
        "colab": {
          "base_uri": "https://localhost:8080/",
          "height": 206
        },
        "id": "oFdfTP53cL5R",
        "outputId": "db3eca4a-431d-4455-e16a-2f35b2d7de05"
      },
      "execution_count": 121,
      "outputs": [
        {
          "output_type": "execute_result",
          "data": {
            "text/plain": [
              "                           link  \\\n",
              "0  /stories/plain-text/advs.txt   \n",
              "1  /stories/plain-text/mems.txt   \n",
              "2  /stories/plain-text/retn.txt   \n",
              "3  /stories/plain-text/lstb.txt   \n",
              "4  /stories/plain-text/stud.txt   \n",
              "\n",
              "                                                text  \\\n",
              "0  THE ADVENTURES OF SHERLOCK HOLMES\\n\\n         ...   \n",
              "1  THE MEMOIRS OF SHERLOCK HOLMES\\n\\n            ...   \n",
              "2  THE RETURN OF SHERLOCK HOLMES\\n\\n             ...   \n",
              "3  HIS LAST BOW\\n\\n                              ...   \n",
              "4  A STUDY IN SCARLET\\n\\n                        ...   \n",
              "\n",
              "                               title  \n",
              "0  The Adventures of Sherlock Holmes  \n",
              "1     The Memoirs of Sherlock Holmes  \n",
              "2      The Return of Sherlock Holmes  \n",
              "3                       His Last Bow  \n",
              "4                 A Study In Scarlet  "
            ],
            "text/html": [
              "\n",
              "  <div id=\"df-e55259be-3ca8-4be8-965a-7d9ddb24662e\">\n",
              "    <div class=\"colab-df-container\">\n",
              "      <div>\n",
              "<style scoped>\n",
              "    .dataframe tbody tr th:only-of-type {\n",
              "        vertical-align: middle;\n",
              "    }\n",
              "\n",
              "    .dataframe tbody tr th {\n",
              "        vertical-align: top;\n",
              "    }\n",
              "\n",
              "    .dataframe thead th {\n",
              "        text-align: right;\n",
              "    }\n",
              "</style>\n",
              "<table border=\"1\" class=\"dataframe\">\n",
              "  <thead>\n",
              "    <tr style=\"text-align: right;\">\n",
              "      <th></th>\n",
              "      <th>link</th>\n",
              "      <th>text</th>\n",
              "      <th>title</th>\n",
              "    </tr>\n",
              "  </thead>\n",
              "  <tbody>\n",
              "    <tr>\n",
              "      <th>0</th>\n",
              "      <td>/stories/plain-text/advs.txt</td>\n",
              "      <td>THE ADVENTURES OF SHERLOCK HOLMES\\n\\n         ...</td>\n",
              "      <td>The Adventures of Sherlock Holmes</td>\n",
              "    </tr>\n",
              "    <tr>\n",
              "      <th>1</th>\n",
              "      <td>/stories/plain-text/mems.txt</td>\n",
              "      <td>THE MEMOIRS OF SHERLOCK HOLMES\\n\\n            ...</td>\n",
              "      <td>The Memoirs of Sherlock Holmes</td>\n",
              "    </tr>\n",
              "    <tr>\n",
              "      <th>2</th>\n",
              "      <td>/stories/plain-text/retn.txt</td>\n",
              "      <td>THE RETURN OF SHERLOCK HOLMES\\n\\n             ...</td>\n",
              "      <td>The Return of Sherlock Holmes</td>\n",
              "    </tr>\n",
              "    <tr>\n",
              "      <th>3</th>\n",
              "      <td>/stories/plain-text/lstb.txt</td>\n",
              "      <td>HIS LAST BOW\\n\\n                              ...</td>\n",
              "      <td>His Last Bow</td>\n",
              "    </tr>\n",
              "    <tr>\n",
              "      <th>4</th>\n",
              "      <td>/stories/plain-text/stud.txt</td>\n",
              "      <td>A STUDY IN SCARLET\\n\\n                        ...</td>\n",
              "      <td>A Study In Scarlet</td>\n",
              "    </tr>\n",
              "  </tbody>\n",
              "</table>\n",
              "</div>\n",
              "      <button class=\"colab-df-convert\" onclick=\"convertToInteractive('df-e55259be-3ca8-4be8-965a-7d9ddb24662e')\"\n",
              "              title=\"Convert this dataframe to an interactive table.\"\n",
              "              style=\"display:none;\">\n",
              "        \n",
              "  <svg xmlns=\"http://www.w3.org/2000/svg\" height=\"24px\"viewBox=\"0 0 24 24\"\n",
              "       width=\"24px\">\n",
              "    <path d=\"M0 0h24v24H0V0z\" fill=\"none\"/>\n",
              "    <path d=\"M18.56 5.44l.94 2.06.94-2.06 2.06-.94-2.06-.94-.94-2.06-.94 2.06-2.06.94zm-11 1L8.5 8.5l.94-2.06 2.06-.94-2.06-.94L8.5 2.5l-.94 2.06-2.06.94zm10 10l.94 2.06.94-2.06 2.06-.94-2.06-.94-.94-2.06-.94 2.06-2.06.94z\"/><path d=\"M17.41 7.96l-1.37-1.37c-.4-.4-.92-.59-1.43-.59-.52 0-1.04.2-1.43.59L10.3 9.45l-7.72 7.72c-.78.78-.78 2.05 0 2.83L4 21.41c.39.39.9.59 1.41.59.51 0 1.02-.2 1.41-.59l7.78-7.78 2.81-2.81c.8-.78.8-2.07 0-2.86zM5.41 20L4 18.59l7.72-7.72 1.47 1.35L5.41 20z\"/>\n",
              "  </svg>\n",
              "      </button>\n",
              "      \n",
              "  <style>\n",
              "    .colab-df-container {\n",
              "      display:flex;\n",
              "      flex-wrap:wrap;\n",
              "      gap: 12px;\n",
              "    }\n",
              "\n",
              "    .colab-df-convert {\n",
              "      background-color: #E8F0FE;\n",
              "      border: none;\n",
              "      border-radius: 50%;\n",
              "      cursor: pointer;\n",
              "      display: none;\n",
              "      fill: #1967D2;\n",
              "      height: 32px;\n",
              "      padding: 0 0 0 0;\n",
              "      width: 32px;\n",
              "    }\n",
              "\n",
              "    .colab-df-convert:hover {\n",
              "      background-color: #E2EBFA;\n",
              "      box-shadow: 0px 1px 2px rgba(60, 64, 67, 0.3), 0px 1px 3px 1px rgba(60, 64, 67, 0.15);\n",
              "      fill: #174EA6;\n",
              "    }\n",
              "\n",
              "    [theme=dark] .colab-df-convert {\n",
              "      background-color: #3B4455;\n",
              "      fill: #D2E3FC;\n",
              "    }\n",
              "\n",
              "    [theme=dark] .colab-df-convert:hover {\n",
              "      background-color: #434B5C;\n",
              "      box-shadow: 0px 1px 3px 1px rgba(0, 0, 0, 0.15);\n",
              "      filter: drop-shadow(0px 1px 2px rgba(0, 0, 0, 0.3));\n",
              "      fill: #FFFFFF;\n",
              "    }\n",
              "  </style>\n",
              "\n",
              "      <script>\n",
              "        const buttonEl =\n",
              "          document.querySelector('#df-e55259be-3ca8-4be8-965a-7d9ddb24662e button.colab-df-convert');\n",
              "        buttonEl.style.display =\n",
              "          google.colab.kernel.accessAllowed ? 'block' : 'none';\n",
              "\n",
              "        async function convertToInteractive(key) {\n",
              "          const element = document.querySelector('#df-e55259be-3ca8-4be8-965a-7d9ddb24662e');\n",
              "          const dataTable =\n",
              "            await google.colab.kernel.invokeFunction('convertToInteractive',\n",
              "                                                     [key], {});\n",
              "          if (!dataTable) return;\n",
              "\n",
              "          const docLinkHtml = 'Like what you see? Visit the ' +\n",
              "            '<a target=\"_blank\" href=https://colab.research.google.com/notebooks/data_table.ipynb>data table notebook</a>'\n",
              "            + ' to learn more about interactive tables.';\n",
              "          element.innerHTML = '';\n",
              "          dataTable['output_type'] = 'display_data';\n",
              "          await google.colab.output.renderOutput(dataTable, element);\n",
              "          const docLink = document.createElement('div');\n",
              "          docLink.innerHTML = docLinkHtml;\n",
              "          element.appendChild(docLink);\n",
              "        }\n",
              "      </script>\n",
              "    </div>\n",
              "  </div>\n",
              "  "
            ]
          },
          "metadata": {},
          "execution_count": 121
        }
      ]
    },
    {
      "cell_type": "markdown",
      "source": [
        "Let's change the matcher of the model with a new that we will create to recuperate only the words."
      ],
      "metadata": {
        "id": "mIJeySBzUE4A"
      }
    },
    {
      "cell_type": "code",
      "source": [
        "nlp.tokenizer.token_match = re.compile(r\"^(\\w+)$\").match"
      ],
      "metadata": {
        "id": "VlKKZLSdQHJJ"
      },
      "execution_count": 122,
      "outputs": []
    },
    {
      "cell_type": "code",
      "source": [
        "# insert as parameters the stansford-ner.jar file and the type of classifier we want to use\n",
        "# st = StanfordNERTagger(\"/content/drive/MyDrive/stanford-ner-2020-11-17/classifiers/english.all.3class.distsim.crf.ser.gz\",\n",
        "#                        \"/content/drive/MyDrive/stanford-ner-2020-11-17/stanford-ner.jar\")\n",
        "\n",
        "# st.java_options = \"-Xmx4096m\""
      ],
      "metadata": {
        "id": "f_V03a9cctFb"
      },
      "execution_count": 123,
      "outputs": []
    },
    {
      "cell_type": "code",
      "source": [
        "sf_books[\"sentences\"] = sf_books[\"text\"].apply(lambda t: list(to_sentences(t)))"
      ],
      "metadata": {
        "id": "mxD7F8_PcpPw"
      },
      "execution_count": 124,
      "outputs": []
    },
    {
      "cell_type": "code",
      "source": [
        "# It can take some minutes to get all the entity names\n",
        "sf_books[\"NER\"] = sf_books[\"sentences\"].parallel_apply(lambda l: [[(t.text, t.label_) for t in d.ents] for d in nlp.pipe(l)])"
      ],
      "metadata": {
        "colab": {
          "base_uri": "https://localhost:8080/",
          "height": 337,
          "referenced_widgets": [
            "dd6afa0730b54acb925db024780da0f7",
            "26440a8202a44bca96287a537f748799",
            "bbc2827715a34004b68df5a465350aab",
            "595e14fa2e6f4490b32509507eec41e5",
            "e4d35d3d634d44f5a7f5b7b3dd4ab8b6",
            "df297cf3a7324181972afc55c69f60b7",
            "6bf5e6b6f72847d9b3656fc198d9faa1",
            "d6e4609b938842d5891872720639e3aa",
            "0b7bed63e22a4dd5bad7e22e7df017ec",
            "6b3b9aa0e56249e096929ef6a69570ff",
            "d3a7680325114ee7a03ce2c4e4c952b2",
            "34d6386def9c457f8a19c11892d39d59",
            "4cecfb176f1a4eee8411c7762a466a7b",
            "64e8681e08734420937524d63adb76e2",
            "9a58f11bf01a4386af85e486ba260dd0",
            "283b2f1797bb4b44943b41da6b3423e8",
            "12f5ba26937140a39ea42b6925f8c68e",
            "06dfafda9db64a7dab73a5acd9fca01e",
            "2f0ea792044b4c489cd0214069343e20",
            "1b3904c2449343ceaebdd3838af3d4f7",
            "02a8c908d5d9467db3d5642ee581181c",
            "eb06bd4f8d394621a309101cc33e2b6a",
            "f3118ad813ac4d8a8199faf9d80ddeb5",
            "aa53ad5e15364343ac58da9fcda782b4",
            "fd53a839a7d14fc298fbd467030c3af1",
            "421e8fadd6c048d7bf801da10bd461cd",
            "8c125db3373646a7ab6a225d3c92aa5a",
            "b23f86eb7c674fb5978258a9ee3a8fc7",
            "6d8730959c6c4898959293df57ee8415",
            "ac6e66d23e1c464a9bc57c90c03513d2",
            "8ade0ed116d74689b1dc8b9d75b317b8",
            "edd33cefe7f34fe3805b3330d9556c80",
            "c3ebdc2f4aa9422dba676994c63b1632",
            "66271910313c4ca5ab3304cb5d075fab",
            "87ce52b2628645ffb8948b39376c979d",
            "91f62409971c4f46846bc48672f11462",
            "9d90880a9a5546f589ab73607197078f",
            "fa27b4320a3e406e9a4859bc64e23bfe",
            "3158428101fc4e1e99cef654967c3c54",
            "19146253bbfd419780cd732d4c3564c6",
            "8957a56b23cc4cdf8c58db94f83754d0",
            "be6b50155002479e9d459a5c1b1400b0",
            "120f5a4ee57349b9bd566335710b4526",
            "22311daf08a248eb92d632eabd32a3c6",
            "2cad399916964dc9825ca185335e2ce3",
            "0cf01f2fb60b4915a0bfc23fd3c1d270",
            "114313fa0a9a4251a7a69ef99d14a29c",
            "af89bf24bcdf46b39f1095d1ba4fc7f9",
            "cbfac6bd8b6343259e36ae959e5e0511",
            "160479d37744463796262f694afe0533",
            "31941770cbb54847b6f0a39b97a3372e",
            "b4bd17ae684c4d7db3f3169f3e1dc698",
            "99994d441b404b4ea91ce9334e909f38",
            "23fad4a55b0f41fc87b45fd0f476b0bf",
            "3992caf6739a402cb9b298c8f9e0891a",
            "aab41051320b475eb615ef3c7c2057c0",
            "f3fc8c052d104486a1740b4c224dba9a",
            "8df644e34b9749909ef5e43612eb6335",
            "b98f863211054789afd72331c2a386a5",
            "2ab1b35fad1448cca639843021b9b1fa",
            "90a4b348c7a24a21b4a0dc665690616b",
            "06be2854f20749c592d7a6ab306b231e",
            "08e3e64273cd4e4198eda35a8dd40078",
            "346dc36c5bdf4e4295fba3dc495e5ea4",
            "fd8d824945854ae5b369d4b9c50a4642",
            "e925a966c0724744a287355fdddb24ac",
            "dc52243f52c84aa99260bf4a7760cf34",
            "1102aa20f3e24cc19a0468dd183b879b",
            "da6241c354ec457da508b1a90afd24ab",
            "02809dfdb1154471b7cba2e479a11c1c",
            "bc1429acc2904da59401a0836ee2f78b",
            "2c1ac502f1bd478799cfdfcd47e74018",
            "b27af80bcfad4da0b9b08bce1cbaa286",
            "5490d83be65f412ea77676394190d920",
            "090a35759c464054bf34a45f0817d3b6",
            "74c2c09b619c478ebbb118dea9b51f40",
            "5c4ef68c922e4886bfa851bbcfa2784e",
            "f411ba63cc674ceba6d2b1cc3f614dc5",
            "e8b50ca991d94aacabad071c0ec5e110",
            "fc37f0360c1d4ca69274c3e3b988d293",
            "4eae534eb786480fa1502b2e9eb01f3e",
            "9895d7cc91314cbcaf3ccde57aabe7dd"
          ]
        },
        "id": "SG_AdOm0cyMz",
        "outputId": "195e3c97-23b5-48f4-9ea0-6b54575c8686"
      },
      "execution_count": 125,
      "outputs": [
        {
          "output_type": "display_data",
          "data": {
            "text/plain": [
              "VBox(children=(HBox(children=(IntProgress(value=0, description='0.00%', max=7), Label(value='0 / 7'))), HBox(c…"
            ],
            "application/vnd.jupyter.widget-view+json": {
              "version_major": 2,
              "version_minor": 0,
              "model_id": "dd6afa0730b54acb925db024780da0f7"
            }
          },
          "metadata": {}
        }
      ]
    },
    {
      "cell_type": "code",
      "source": [
        "# ne chunk sents function can create lists of name entities for object of type list(list(str))\n",
        "# sf_books[\"NER\"] = sf_books[\"words\"].apply(lambda w: [[(token.text, token.ent_type_) for token in Doc(nlp.vocab, sentence)] for sentence in w])\n",
        "sf_books[\"person\"] = sf_books[\"NER\"].apply(lambda n: [e[0] for s in n for e in s if e[1] == \"PERSON\"])\n",
        "\n",
        "person_list = []\n",
        "for p in sf_books[\"person\"]:\n",
        "  person_list += p\n",
        "\n",
        "len(set(person_list))"
      ],
      "metadata": {
        "colab": {
          "base_uri": "https://localhost:8080/"
        },
        "id": "7uQz4oq4uvqL",
        "outputId": "c0f33620-7f70-46dc-96f9-d8ce97c31806"
      },
      "execution_count": 126,
      "outputs": [
        {
          "output_type": "execute_result",
          "data": {
            "text/plain": [
              "1810"
            ]
          },
          "metadata": {},
          "execution_count": 126
        }
      ]
    },
    {
      "cell_type": "code",
      "source": [
        "sf_books.head()"
      ],
      "metadata": {
        "colab": {
          "base_uri": "https://localhost:8080/",
          "height": 337
        },
        "id": "BRb3G3oZAw56",
        "outputId": "bfa2def6-3ea7-45f7-aab4-110f745e35ed"
      },
      "execution_count": 127,
      "outputs": [
        {
          "output_type": "execute_result",
          "data": {
            "text/plain": [
              "                           link  \\\n",
              "0  /stories/plain-text/advs.txt   \n",
              "1  /stories/plain-text/mems.txt   \n",
              "2  /stories/plain-text/retn.txt   \n",
              "3  /stories/plain-text/lstb.txt   \n",
              "4  /stories/plain-text/stud.txt   \n",
              "\n",
              "                                                text  \\\n",
              "0  THE ADVENTURES OF SHERLOCK HOLMES\\n\\n         ...   \n",
              "1  THE MEMOIRS OF SHERLOCK HOLMES\\n\\n            ...   \n",
              "2  THE RETURN OF SHERLOCK HOLMES\\n\\n             ...   \n",
              "3  HIS LAST BOW\\n\\n                              ...   \n",
              "4  A STUDY IN SCARLET\\n\\n                        ...   \n",
              "\n",
              "                               title  \\\n",
              "0  The Adventures of Sherlock Holmes   \n",
              "1     The Memoirs of Sherlock Holmes   \n",
              "2      The Return of Sherlock Holmes   \n",
              "3                       His Last Bow   \n",
              "4                 A Study In Scarlet   \n",
              "\n",
              "                                           sentences  \\\n",
              "0  [THE ADVENTURES OF SHERLOCK HOLMES            ...   \n",
              "1  [THE MEMOIRS OF SHERLOCK HOLMES               ...   \n",
              "2  [THE RETURN OF SHERLOCK HOLMES                ...   \n",
              "3  [HIS LAST BOW                                 ...   \n",
              "4  [A STUDY IN SCARLET                           ...   \n",
              "\n",
              "                                                 NER  \\\n",
              "0  [[(Arthur Conan Doyle, PERSON), (The Man with ...   \n",
              "1  [[(Arthur Conan Doyle, PERSON), (Gloria Scott,...   \n",
              "2  [[(Arthur Conan Doyle, PERSON), (The Adventure...   \n",
              "3  [[(Arthur Conan Doyle                         ...   \n",
              "4  [[(Arthur Conan Doyle, PERSON), (Sherlock Holm...   \n",
              "\n",
              "                                              person  \n",
              "0  [Arthur Conan Doyle, Irene Adler, Irene Adler,...  \n",
              "1  [Arthur Conan Doyle, Gloria Scott, Watson, Hol...  \n",
              "2  [Arthur Conan Doyle, Ronald Adair, Sherlock Ho...  \n",
              "3  [Sherlock Holmes, John H  Watson  M, John Scot...  \n",
              "4  [Arthur Conan Doyle, Sherlock Holmes         T...  "
            ],
            "text/html": [
              "\n",
              "  <div id=\"df-3c031d20-dee6-457e-a473-7068f4f15c47\">\n",
              "    <div class=\"colab-df-container\">\n",
              "      <div>\n",
              "<style scoped>\n",
              "    .dataframe tbody tr th:only-of-type {\n",
              "        vertical-align: middle;\n",
              "    }\n",
              "\n",
              "    .dataframe tbody tr th {\n",
              "        vertical-align: top;\n",
              "    }\n",
              "\n",
              "    .dataframe thead th {\n",
              "        text-align: right;\n",
              "    }\n",
              "</style>\n",
              "<table border=\"1\" class=\"dataframe\">\n",
              "  <thead>\n",
              "    <tr style=\"text-align: right;\">\n",
              "      <th></th>\n",
              "      <th>link</th>\n",
              "      <th>text</th>\n",
              "      <th>title</th>\n",
              "      <th>sentences</th>\n",
              "      <th>NER</th>\n",
              "      <th>person</th>\n",
              "    </tr>\n",
              "  </thead>\n",
              "  <tbody>\n",
              "    <tr>\n",
              "      <th>0</th>\n",
              "      <td>/stories/plain-text/advs.txt</td>\n",
              "      <td>THE ADVENTURES OF SHERLOCK HOLMES\\n\\n         ...</td>\n",
              "      <td>The Adventures of Sherlock Holmes</td>\n",
              "      <td>[THE ADVENTURES OF SHERLOCK HOLMES            ...</td>\n",
              "      <td>[[(Arthur Conan Doyle, PERSON), (The Man with ...</td>\n",
              "      <td>[Arthur Conan Doyle, Irene Adler, Irene Adler,...</td>\n",
              "    </tr>\n",
              "    <tr>\n",
              "      <th>1</th>\n",
              "      <td>/stories/plain-text/mems.txt</td>\n",
              "      <td>THE MEMOIRS OF SHERLOCK HOLMES\\n\\n            ...</td>\n",
              "      <td>The Memoirs of Sherlock Holmes</td>\n",
              "      <td>[THE MEMOIRS OF SHERLOCK HOLMES               ...</td>\n",
              "      <td>[[(Arthur Conan Doyle, PERSON), (Gloria Scott,...</td>\n",
              "      <td>[Arthur Conan Doyle, Gloria Scott, Watson, Hol...</td>\n",
              "    </tr>\n",
              "    <tr>\n",
              "      <th>2</th>\n",
              "      <td>/stories/plain-text/retn.txt</td>\n",
              "      <td>THE RETURN OF SHERLOCK HOLMES\\n\\n             ...</td>\n",
              "      <td>The Return of Sherlock Holmes</td>\n",
              "      <td>[THE RETURN OF SHERLOCK HOLMES                ...</td>\n",
              "      <td>[[(Arthur Conan Doyle, PERSON), (The Adventure...</td>\n",
              "      <td>[Arthur Conan Doyle, Ronald Adair, Sherlock Ho...</td>\n",
              "    </tr>\n",
              "    <tr>\n",
              "      <th>3</th>\n",
              "      <td>/stories/plain-text/lstb.txt</td>\n",
              "      <td>HIS LAST BOW\\n\\n                              ...</td>\n",
              "      <td>His Last Bow</td>\n",
              "      <td>[HIS LAST BOW                                 ...</td>\n",
              "      <td>[[(Arthur Conan Doyle                         ...</td>\n",
              "      <td>[Sherlock Holmes, John H  Watson  M, John Scot...</td>\n",
              "    </tr>\n",
              "    <tr>\n",
              "      <th>4</th>\n",
              "      <td>/stories/plain-text/stud.txt</td>\n",
              "      <td>A STUDY IN SCARLET\\n\\n                        ...</td>\n",
              "      <td>A Study In Scarlet</td>\n",
              "      <td>[A STUDY IN SCARLET                           ...</td>\n",
              "      <td>[[(Arthur Conan Doyle, PERSON), (Sherlock Holm...</td>\n",
              "      <td>[Arthur Conan Doyle, Sherlock Holmes         T...</td>\n",
              "    </tr>\n",
              "  </tbody>\n",
              "</table>\n",
              "</div>\n",
              "      <button class=\"colab-df-convert\" onclick=\"convertToInteractive('df-3c031d20-dee6-457e-a473-7068f4f15c47')\"\n",
              "              title=\"Convert this dataframe to an interactive table.\"\n",
              "              style=\"display:none;\">\n",
              "        \n",
              "  <svg xmlns=\"http://www.w3.org/2000/svg\" height=\"24px\"viewBox=\"0 0 24 24\"\n",
              "       width=\"24px\">\n",
              "    <path d=\"M0 0h24v24H0V0z\" fill=\"none\"/>\n",
              "    <path d=\"M18.56 5.44l.94 2.06.94-2.06 2.06-.94-2.06-.94-.94-2.06-.94 2.06-2.06.94zm-11 1L8.5 8.5l.94-2.06 2.06-.94-2.06-.94L8.5 2.5l-.94 2.06-2.06.94zm10 10l.94 2.06.94-2.06 2.06-.94-2.06-.94-.94-2.06-.94 2.06-2.06.94z\"/><path d=\"M17.41 7.96l-1.37-1.37c-.4-.4-.92-.59-1.43-.59-.52 0-1.04.2-1.43.59L10.3 9.45l-7.72 7.72c-.78.78-.78 2.05 0 2.83L4 21.41c.39.39.9.59 1.41.59.51 0 1.02-.2 1.41-.59l7.78-7.78 2.81-2.81c.8-.78.8-2.07 0-2.86zM5.41 20L4 18.59l7.72-7.72 1.47 1.35L5.41 20z\"/>\n",
              "  </svg>\n",
              "      </button>\n",
              "      \n",
              "  <style>\n",
              "    .colab-df-container {\n",
              "      display:flex;\n",
              "      flex-wrap:wrap;\n",
              "      gap: 12px;\n",
              "    }\n",
              "\n",
              "    .colab-df-convert {\n",
              "      background-color: #E8F0FE;\n",
              "      border: none;\n",
              "      border-radius: 50%;\n",
              "      cursor: pointer;\n",
              "      display: none;\n",
              "      fill: #1967D2;\n",
              "      height: 32px;\n",
              "      padding: 0 0 0 0;\n",
              "      width: 32px;\n",
              "    }\n",
              "\n",
              "    .colab-df-convert:hover {\n",
              "      background-color: #E2EBFA;\n",
              "      box-shadow: 0px 1px 2px rgba(60, 64, 67, 0.3), 0px 1px 3px 1px rgba(60, 64, 67, 0.15);\n",
              "      fill: #174EA6;\n",
              "    }\n",
              "\n",
              "    [theme=dark] .colab-df-convert {\n",
              "      background-color: #3B4455;\n",
              "      fill: #D2E3FC;\n",
              "    }\n",
              "\n",
              "    [theme=dark] .colab-df-convert:hover {\n",
              "      background-color: #434B5C;\n",
              "      box-shadow: 0px 1px 3px 1px rgba(0, 0, 0, 0.15);\n",
              "      filter: drop-shadow(0px 1px 2px rgba(0, 0, 0, 0.3));\n",
              "      fill: #FFFFFF;\n",
              "    }\n",
              "  </style>\n",
              "\n",
              "      <script>\n",
              "        const buttonEl =\n",
              "          document.querySelector('#df-3c031d20-dee6-457e-a473-7068f4f15c47 button.colab-df-convert');\n",
              "        buttonEl.style.display =\n",
              "          google.colab.kernel.accessAllowed ? 'block' : 'none';\n",
              "\n",
              "        async function convertToInteractive(key) {\n",
              "          const element = document.querySelector('#df-3c031d20-dee6-457e-a473-7068f4f15c47');\n",
              "          const dataTable =\n",
              "            await google.colab.kernel.invokeFunction('convertToInteractive',\n",
              "                                                     [key], {});\n",
              "          if (!dataTable) return;\n",
              "\n",
              "          const docLinkHtml = 'Like what you see? Visit the ' +\n",
              "            '<a target=\"_blank\" href=https://colab.research.google.com/notebooks/data_table.ipynb>data table notebook</a>'\n",
              "            + ' to learn more about interactive tables.';\n",
              "          element.innerHTML = '';\n",
              "          dataTable['output_type'] = 'display_data';\n",
              "          await google.colab.output.renderOutput(dataTable, element);\n",
              "          const docLink = document.createElement('div');\n",
              "          docLink.innerHTML = docLinkHtml;\n",
              "          element.appendChild(docLink);\n",
              "        }\n",
              "      </script>\n",
              "    </div>\n",
              "  </div>\n",
              "  "
            ]
          },
          "metadata": {},
          "execution_count": 127
        }
      ]
    },
    {
      "cell_type": "markdown",
      "source": [
        "Let's transform the dataframe that we got to a turi SFrame."
      ],
      "metadata": {
        "id": "xthDMxahhehq"
      }
    },
    {
      "cell_type": "code",
      "source": [
        "sf_books = tr.SFrame(sf_books)"
      ],
      "metadata": {
        "id": "rLa-YVwfhnyb"
      },
      "execution_count": 128,
      "outputs": []
    },
    {
      "cell_type": "markdown",
      "source": [
        "We can remove some most common names and classified words, etc to make a more readable social network."
      ],
      "metadata": {
        "id": "5PYUQcMyiVov"
      }
    },
    {
      "cell_type": "code",
      "source": [
        "c = Counter(person_list) # names' frequencies"
      ],
      "metadata": {
        "id": "YjCwrWPxiem2"
      },
      "execution_count": 129,
      "outputs": []
    },
    {
      "cell_type": "code",
      "source": [
        "characters_set = set(i[0] for i in c.most_common(200)) - set(['the', 'You', 'Mrs', 'He', 'Dr', 'me','did', 'Mr', \n",
        "                                      'Now', 'My', 'Miss', 'of', 'Sir', 'Here', 'All', 'Our', 'sir',\n",
        "                                      'man', 'father', 'What', 'There', 'When', 'no', 'Lord', 'you', 'St',\n",
        "                                      'John', 'James',  'Holmes', 'Arthur', 'Conan', 'Doyle', 'Lady'])\n",
        "\n",
        "sf_sentences = tr.load_sframe(\"%s/sentences.sframe\" % data_dir)\n",
        "g = create_graph(sf_sentences, characters_set)"
      ],
      "metadata": {
        "id": "8k8QZL-vihqy"
      },
      "execution_count": 130,
      "outputs": []
    },
    {
      "cell_type": "code",
      "source": [
        "plot_graph2(g, \"1300px\", \"800px\")"
      ],
      "metadata": {
        "colab": {
          "base_uri": "https://localhost:8080/",
          "height": 838
        },
        "id": "Q3Ns9TE5kxkx",
        "outputId": "bc235f36-d529-4d35-ae87-f9b15bb65eff"
      },
      "execution_count": 131,
      "outputs": [
        {
          "output_type": "display_data",
          "data": {
            "text/plain": [
              "<IPython.core.display.HTML object>"
            ],
            "text/html": [
              "<html>\n",
              "<head>\n",
              "<link rel=\"stylesheet\" href=\"https://cdn.jsdelivr.net/npm/vis-network@latest/styles/vis-network.css\" type=\"text/css\" />\n",
              "<script type=\"text/javascript\" src=\"https://cdn.jsdelivr.net/npm/vis-network@latest/dist/vis-network.min.js\"> </script>\n",
              "<center>\n",
              "<h1></h1>\n",
              "</center>\n",
              "\n",
              "<!-- <link rel=\"stylesheet\" href=\"../node_modules/vis/dist/vis.min.css\" type=\"text/css\" />\n",
              "<script type=\"text/javascript\" src=\"../node_modules/vis/dist/vis.js\"> </script>-->\n",
              "\n",
              "<style type=\"text/css\">\n",
              "\n",
              "        #mynetwork {\n",
              "            width: 1300px;\n",
              "            height: 800px;\n",
              "            background-color: #ffffff;\n",
              "            border: 1px solid lightgray;\n",
              "            position: relative;\n",
              "            float: left;\n",
              "        }\n",
              "\n",
              "        \n",
              "        #loadingBar {\n",
              "            position:absolute;\n",
              "            top:0px;\n",
              "            left:0px;\n",
              "            width: 1300px;\n",
              "            height: 800px;\n",
              "            background-color:rgba(200,200,200,0.8);\n",
              "            -webkit-transition: all 0.5s ease;\n",
              "            -moz-transition: all 0.5s ease;\n",
              "            -ms-transition: all 0.5s ease;\n",
              "            -o-transition: all 0.5s ease;\n",
              "            transition: all 0.5s ease;\n",
              "            opacity:1;\n",
              "        }\n",
              "\n",
              "        #bar {\n",
              "            position:absolute;\n",
              "            top:0px;\n",
              "            left:0px;\n",
              "            width:20px;\n",
              "            height:20px;\n",
              "            margin:auto auto auto auto;\n",
              "            border-radius:11px;\n",
              "            border:2px solid rgba(30,30,30,0.05);\n",
              "            background: rgb(0, 173, 246); /* Old browsers */\n",
              "            box-shadow: 2px 0px 4px rgba(0,0,0,0.4);\n",
              "        }\n",
              "\n",
              "        #border {\n",
              "            position:absolute;\n",
              "            top:10px;\n",
              "            left:10px;\n",
              "            width:500px;\n",
              "            height:23px;\n",
              "            margin:auto auto auto auto;\n",
              "            box-shadow: 0px 0px 4px rgba(0,0,0,0.2);\n",
              "            border-radius:10px;\n",
              "        }\n",
              "\n",
              "        #text {\n",
              "            position:absolute;\n",
              "            top:8px;\n",
              "            left:530px;\n",
              "            width:30px;\n",
              "            height:50px;\n",
              "            margin:auto auto auto auto;\n",
              "            font-size:22px;\n",
              "            color: #000000;\n",
              "        }\n",
              "\n",
              "        div.outerBorder {\n",
              "            position:relative;\n",
              "            top:400px;\n",
              "            width:600px;\n",
              "            height:44px;\n",
              "            margin:auto auto auto auto;\n",
              "            border:8px solid rgba(0,0,0,0.1);\n",
              "            background: rgb(252,252,252); /* Old browsers */\n",
              "            background: -moz-linear-gradient(top,  rgba(252,252,252,1) 0%, rgba(237,237,237,1) 100%); /* FF3.6+ */\n",
              "            background: -webkit-gradient(linear, left top, left bottom, color-stop(0%,rgba(252,252,252,1)), color-stop(100%,rgba(237,237,237,1))); /* Chrome,Safari4+ */\n",
              "            background: -webkit-linear-gradient(top,  rgba(252,252,252,1) 0%,rgba(237,237,237,1) 100%); /* Chrome10+,Safari5.1+ */\n",
              "            background: -o-linear-gradient(top,  rgba(252,252,252,1) 0%,rgba(237,237,237,1) 100%); /* Opera 11.10+ */\n",
              "            background: -ms-linear-gradient(top,  rgba(252,252,252,1) 0%,rgba(237,237,237,1) 100%); /* IE10+ */\n",
              "            background: linear-gradient(to bottom,  rgba(252,252,252,1) 0%,rgba(237,237,237,1) 100%); /* W3C */\n",
              "            filter: progid:DXImageTransform.Microsoft.gradient( startColorstr='#fcfcfc', endColorstr='#ededed',GradientType=0 ); /* IE6-9 */\n",
              "            border-radius:72px;\n",
              "            box-shadow: 0px 0px 10px rgba(0,0,0,0.2);\n",
              "        }\n",
              "        \n",
              "\n",
              "        \n",
              "\n",
              "        \n",
              "</style>\n",
              "\n",
              "</head>\n",
              "\n",
              "<body>\n",
              "<div id = \"mynetwork\"></div>\n",
              "\n",
              "<div id=\"loadingBar\">\n",
              "    <div class=\"outerBorder\">\n",
              "        <div id=\"text\">0%</div>\n",
              "        <div id=\"border\">\n",
              "            <div id=\"bar\"></div>\n",
              "        </div>\n",
              "    </div>\n",
              "</div>\n",
              "\n",
              "\n",
              "<script type=\"text/javascript\">\n",
              "\n",
              "    // initialize global variables.\n",
              "    var edges;\n",
              "    var nodes;\n",
              "    var network; \n",
              "    var container;\n",
              "    var options, data;\n",
              "\n",
              "    \n",
              "    // This method is responsible for drawing the graph, returns the drawn network\n",
              "    function drawGraph() {\n",
              "        var container = document.getElementById('mynetwork');\n",
              "        \n",
              "        \n",
              "\n",
              "        // parsing and collecting nodes and edges from the python\n",
              "        nodes = new vis.DataSet([{\"id\": \"Adair\", \"label\": \"Adair\", \"shape\": \"dot\", \"title\": \"Adair Neighbors: \\n-Moran\\n-s\\n-Hilda\\n-Charles\", \"value\": 4}, {\"id\": \"Barker\", \"label\": \"Barker\", \"shape\": \"dot\", \"title\": \"Barker Neighbors: \\n-s\\n-Watson\\n-Douglas\", \"value\": 3}, {\"id\": \"Godfrey\", \"label\": \"Godfrey\", \"shape\": \"dot\", \"title\": \"Godfrey Neighbors: \\n-Staunton\\n-s\\n-Henry\\n-Moran\\n-Emsworth\", \"value\": 5}, {\"id\": \"Harrison\", \"label\": \"Harrison\", \"shape\": \"dot\", \"title\": \"Harrison Neighbors: \\n-s\\n-Charles\\n-Joseph\", \"value\": 3}, {\"id\": \"Jack\", \"label\": \"Jack\", \"shape\": \"dot\", \"title\": \"Jack Neighbors: \\n-Carruthers\\n-McGinty\\n-Woodley\\n-s\\n-Bennett\\n-Douglas\\n-Bodymaster\", \"value\": 7}, {\"id\": \"Jones\", \"label\": \"Jones\", \"shape\": \"dot\", \"title\": \"Jones Neighbors: \\n-Merryweather\\n-Watson\\n-Gregson\\n-s\\n-Lestrade\", \"value\": 5}, {\"id\": \"Joseph\", \"label\": \"Joseph\", \"shape\": \"dot\", \"title\": \"Joseph Neighbors: \\n-Stangerson\\n-Drebber\\n-s\\n-Charles\\n-Lestrade\\n-Smith\\n-Harrison\", \"value\": 7}, {\"id\": \"MacDonald\", \"label\": \"MacDonald\", \"shape\": \"dot\", \"title\": \"MacDonald Neighbors: \\n-s\\n-Alec\\n-Billy\\n-Douglas\", \"value\": 4}, {\"id\": \"McCarthy\", \"label\": \"McCarthy\", \"shape\": \"dot\", \"title\": \"McCarthy Neighbors: \\n-s\\n-Turner\\n-Charles\\n-Lestrade\", \"value\": 4}, {\"id\": \"McGinty\", \"label\": \"McGinty\", \"shape\": \"dot\", \"title\": \"McGinty Neighbors: \\n-Baldwin\\n-Scanlan\\n-s\\n-Evans\\n-Marvin\\n-Bodymaster\\n-Jack\", \"value\": 7}, {\"id\": \"Mycroft\", \"label\": \"Mycroft\", \"shape\": \"dot\", \"title\": \"Mycroft Neighbors: \\n-s\\n-Hudson\\n-Oberstein\\n-Lestrade\", \"value\": 4}, {\"id\": \"Pierrot\", \"label\": \"Pierrot\", \"shape\": \"dot\", \"title\": \"Pierrot Neighbors: \\n-s\", \"value\": 1}, {\"id\": \"Presbury\", \"label\": \"Presbury\", \"shape\": \"dot\", \"title\": \"Presbury Neighbors: \\n-s\\n-Bennett\", \"value\": 2}, {\"id\": \"Robert\", \"label\": \"Robert\", \"shape\": \"dot\", \"title\": \"Robert Neighbors: \\n-s\\n-Watson\", \"value\": 2}, {\"id\": \"Charles\", \"label\": \"Charles\", \"shape\": \"dot\", \"title\": \"Charles Neighbors: \\n-Adair\\n-Mac\\n-George\\n-Stapleton\\n-McCarthy\\n-Joseph\\n-s\\n-Barrymore\\n-Henry\\n-Mortimer\\n-Musgrave\\n-Harrison\\n-Hall\", \"value\": 13}, {\"id\": \"Coram\", \"label\": \"Coram\", \"shape\": \"dot\", \"title\": \"Coram Neighbors: \\n-s\\n-Watson\", \"value\": 2}, {\"id\": \"Dunbar\", \"label\": \"Dunbar\", \"shape\": \"dot\", \"title\": \"Dunbar Neighbors: \\n-s\\n-Gibson\\n-Grace\", \"value\": 3}, {\"id\": \"Elsie\", \"label\": \"Elsie\", \"shape\": \"dot\", \"title\": \"Elsie Neighbors: \\n-s\", \"value\": 1}, {\"id\": \"Ettie\", \"label\": \"Ettie\", \"shape\": \"dot\", \"title\": \"Ettie Neighbors: \\n-s\\n-Scanlan\", \"value\": 2}, {\"id\": \"Lee\", \"label\": \"Lee\", \"shape\": \"dot\", \"title\": \"Lee Neighbors: \\n-s\", \"value\": 1}, {\"id\": \"Lestrade\", \"label\": \"Lestrade\", \"shape\": \"dot\", \"title\": \"Lestrade Neighbors: \\n-Jones\\n-Mycroft\\n-Stangerson\\n-Gregson\\n-McCarthy\\n-s\\n-Joseph\\n-Turner\\n-Hall\", \"value\": 9}, {\"id\": \"Mapleton\", \"label\": \"Mapleton\", \"shape\": \"dot\", \"title\": \"Mapleton Neighbors: \\n-s\\n-Simpson\", \"value\": 2}, {\"id\": \"Moran\", \"label\": \"Moran\", \"shape\": \"dot\", \"title\": \"Moran Neighbors: \\n-Moriarty\\n-Adair\\n-Roylott\\n-s\\n-Stoner\\n-Godfrey\", \"value\": 6}, {\"id\": \"Peters\", \"label\": \"Peters\", \"shape\": \"dot\", \"title\": \"Peters Neighbors: \\n-s\\n-Henry\", \"value\": 2}, {\"id\": \"Ross\", \"label\": \"Ross\", \"shape\": \"dot\", \"title\": \"Ross Neighbors: \\n-s\\n-Morris\\n-Gregory\\n-William\", \"value\": 4}, {\"id\": \"Sholto\", \"label\": \"Sholto\", \"shape\": \"dot\", \"title\": \"Sholto Neighbors: \\n-Thaddeus\\n-Watson\\n-Bartholomew\\n-s\\n-Don\", \"value\": 5}, {\"id\": \"Wilder\", \"label\": \"Wilder\", \"shape\": \"dot\", \"title\": \"Wilder Neighbors: \\n-s\\n-Saltire\\n-Grace\", \"value\": 3}, {\"id\": \"Burnet\", \"label\": \"Burnet\", \"shape\": \"dot\", \"title\": \"Burnet Neighbors: \\n-s\", \"value\": 1}, {\"id\": \"Carruthers\", \"label\": \"Carruthers\", \"shape\": \"dot\", \"title\": \"Carruthers Neighbors: \\n-Woodley\\n-Watson\\n-s\\n-Williamson\\n-Jack\", \"value\": 5}, {\"id\": \"Harker\", \"label\": \"Harker\", \"shape\": \"dot\", \"title\": \"Harker Neighbors: \\n-s\", \"value\": 1}, {\"id\": \"Hudson\", \"label\": \"Hudson\", \"shape\": \"dot\", \"title\": \"Hudson Neighbors: \\n-Billy\\n-Mycroft\\n-Watson\\n-Gregson\\n-s\\n-Trevor\", \"value\": 6}, {\"id\": \"Lucy\", \"label\": \"Lucy\", \"shape\": \"dot\", \"title\": \"Lucy Neighbors: \\n-s\\n-Stangerson\", \"value\": 2}, {\"id\": \"Mac\", \"label\": \"Mac\", \"shape\": \"dot\", \"title\": \"Mac Neighbors: \\n-s\\n-Scanlan\\n-Charles\", \"value\": 3}, {\"id\": \"Mary\", \"label\": \"Mary\", \"shape\": \"dot\", \"title\": \"Mary Neighbors: \\n-s\\n-Brackenstall\\n-George\\n-Sarah\", \"value\": 4}, {\"id\": \"Merryweather\", \"label\": \"Merryweather\", \"shape\": \"dot\", \"title\": \"Merryweather Neighbors: \\n-s\\n-Jones\", \"value\": 2}, {\"id\": \"Moriarty\", \"label\": \"Moriarty\", \"shape\": \"dot\", \"title\": \"Moriarty Neighbors: \\n-Moran\\n-Watson\\n-s\", \"value\": 3}, {\"id\": \"Morris\", \"label\": \"Morris\", \"shape\": \"dot\", \"title\": \"Morris Neighbors: \\n-s\\n-Ross\\n-Bodymaster\\n-William\", \"value\": 4}, {\"id\": \"Pinner\", \"label\": \"Pinner\", \"shape\": \"dot\", \"title\": \"Pinner Neighbors: \\n-s\\n-Pycroft\\n-Hall\", \"value\": 3}, {\"id\": \"Stapleton\", \"label\": \"Stapleton\", \"shape\": \"dot\", \"title\": \"Stapleton Neighbors: \\n-Watson\\n-s\\n-Henry\\n-Charles\\n-Mortimer\\n-Selden\\n-Hall\", \"value\": 7}, {\"id\": \"Warren\", \"label\": \"Warren\", \"shape\": \"dot\", \"title\": \"Warren Neighbors: \\n-s\", \"value\": 1}, {\"id\": \"Wilson\", \"label\": \"Wilson\", \"shape\": \"dot\", \"title\": \"Wilson Neighbors: \\n-s\\n-Bartholomew\", \"value\": 2}, {\"id\": \"Alice\", \"label\": \"Alice\", \"shape\": \"dot\", \"title\": \"Alice Neighbors: \\n-s\\n-Rucastle\", \"value\": 2}, {\"id\": \"Billy\", \"label\": \"Billy\", \"shape\": \"dot\", \"title\": \"Billy Neighbors: \\n-MacDonald\\n-s\\n-Sylvius\\n-Hudson\", \"value\": 4}, {\"id\": \"Blessington\", \"label\": \"Blessington\", \"shape\": \"dot\", \"title\": \"Blessington Neighbors: \\n-s\", \"value\": 1}, {\"id\": \"Brackenstall\", \"label\": \"Brackenstall\", \"shape\": \"dot\", \"title\": \"Brackenstall Neighbors: \\n-s\\n-Mary\\n-Eustace\", \"value\": 3}, {\"id\": \"Cushing\", \"label\": \"Cushing\", \"shape\": \"dot\", \"title\": \"Cushing Neighbors: \\n-s\\n-Susan\\n-Sarah\", \"value\": 3}, {\"id\": \"Don\", \"label\": \"Don\", \"shape\": \"dot\", \"title\": \"Don Neighbors: \\n-Watson\\n-s\\n-Gibson\\n-Pycroft\\n-Henry\\n-Sholto\\n-Marvin\", \"value\": 7}, {\"id\": \"Drebber\", \"label\": \"Drebber\", \"shape\": \"dot\", \"title\": \"Drebber Neighbors: \\n-Gregson\\n-s\\n-Stangerson\\n-Joseph\", \"value\": 4}, {\"id\": \"Gorgiano\", \"label\": \"Gorgiano\", \"shape\": \"dot\", \"title\": \"Gorgiano Neighbors: \\n-s\", \"value\": 1}, {\"id\": \"Henry\", \"label\": \"Henry\", \"shape\": \"dot\", \"title\": \"Henry Neighbors: \\n-Watson\\n-Staunton\\n-Stapleton\\n-s\\n-Barrymore\\n-Peters\\n-Don\\n-Charles\\n-Mortimer\\n-Godfrey\\n-Hall\", \"value\": 11}, {\"id\": \"Jove\", \"label\": \"Jove\", \"shape\": \"dot\", \"title\": \"Jove Neighbors: \\n-Peterson\\n-s\\n-Watson\", \"value\": 3}, {\"id\": \"Mortimer\", \"label\": \"Mortimer\", \"shape\": \"dot\", \"title\": \"Mortimer Neighbors: \\n-Watson\\n-Stapleton\\n-s\\n-Barrymore\\n-Henry\\n-Charles\\n-Smith\\n-Hall\", \"value\": 8}, {\"id\": \"Phelps\", \"label\": \"Phelps\", \"shape\": \"dot\", \"title\": \"Phelps Neighbors: \\n-Holdhurst\\n-s\\n-Watson\", \"value\": 3}, {\"id\": \"Soames\", \"label\": \"Soames\", \"shape\": \"dot\", \"title\": \"Soames Neighbors: \\n-s\\n-Gilchrist\", \"value\": 2}, {\"id\": \"Susan\", \"label\": \"Susan\", \"shape\": \"dot\", \"title\": \"Susan Neighbors: \\n-Smith\\n-s\\n-Cushing\", \"value\": 3}, {\"id\": \"Trevor\", \"label\": \"Trevor\", \"shape\": \"dot\", \"title\": \"Trevor Neighbors: \\n-s\\n-Watson\\n-Bennett\\n-Hudson\", \"value\": 4}, {\"id\": \"Acton\", \"label\": \"Acton\", \"shape\": \"dot\", \"title\": \"Acton Neighbors: \\n-s\\n-William\", \"value\": 2}, {\"id\": \"Bartholomew\", \"label\": \"Bartholomew\", \"shape\": \"dot\", \"title\": \"Bartholomew Neighbors: \\n-Sholto\\n-s\\n-Wilson\", \"value\": 3}, {\"id\": \"Bennett\", \"label\": \"Bennett\", \"shape\": \"dot\", \"title\": \"Bennett Neighbors: \\n-Watson\\n-s\\n-Trevor\\n-Presbury\\n-Jack\", \"value\": 5}, {\"id\": \"Gennaro\", \"label\": \"Gennaro\", \"shape\": \"dot\", \"title\": \"Gennaro Neighbors: \\n-s\", \"value\": 1}, {\"id\": \"Gregson\", \"label\": \"Gregson\", \"shape\": \"dot\", \"title\": \"Gregson Neighbors: \\n-Jones\\n-Hudson\\n-Drebber\\n-Watson\\n-s\\n-Garcia\\n-Lestrade\", \"value\": 7}, {\"id\": \"Hunter\", \"label\": \"Hunter\", \"shape\": \"dot\", \"title\": \"Hunter Neighbors: \\n-s\\n-Watson\\n-Stoper\\n-Rucastle\", \"value\": 4}, {\"id\": \"Lucas\", \"label\": \"Lucas\", \"shape\": \"dot\", \"title\": \"Lucas Neighbors: \\n-s\\n-Oberstein\", \"value\": 2}, {\"id\": \"Marvin\", \"label\": \"Marvin\", \"shape\": \"dot\", \"title\": \"Marvin Neighbors: \\n-Don\\n-McGinty\", \"value\": 2}, {\"id\": \"Musgrave\", \"label\": \"Musgrave\", \"shape\": \"dot\", \"title\": \"Musgrave Neighbors: \\n-s\\n-Watson\\n-Charles\", \"value\": 3}, {\"id\": \"Neligan\", \"label\": \"Neligan\", \"shape\": \"dot\", \"title\": \"Neligan Neighbors: \\n-s\", \"value\": 1}, {\"id\": \"Peterson\", \"label\": \"Peterson\", \"shape\": \"dot\", \"title\": \"Peterson Neighbors: \\n-s\\n-Jove\", \"value\": 2}, {\"id\": \"Pompey\", \"label\": \"Pompey\", \"shape\": \"dot\", \"title\": \"Pompey Neighbors: \\n-s\", \"value\": 1}, {\"id\": \"Pycroft\", \"label\": \"Pycroft\", \"shape\": \"dot\", \"title\": \"Pycroft Neighbors: \\n-Pinner\\n-s\\n-Don\\n-Mawson\\n-Hall\", \"value\": 5}, {\"id\": \"Stangerson\", \"label\": \"Stangerson\", \"shape\": \"dot\", \"title\": \"Stangerson Neighbors: \\n-Drebber\\n-Lucy\\n-s\\n-Joseph\\n-Lestrade\", \"value\": 5}, {\"id\": \"Staunton\", \"label\": \"Staunton\", \"shape\": \"dot\", \"title\": \"Staunton Neighbors: \\n-s\\n-Godfrey\\n-Henry\", \"value\": 3}, {\"id\": \"Woodley\", \"label\": \"Woodley\", \"shape\": \"dot\", \"title\": \"Woodley Neighbors: \\n-Carruthers\\n-s\\n-Williamson\\n-Smith\\n-Jack\\n-Hall\", \"value\": 6}, {\"id\": \"bush\", \"label\": \"bush\", \"shape\": \"dot\", \"title\": \"bush Neighbors: \\n-s\", \"value\": 1}, {\"id\": \"Alec\", \"label\": \"Alec\", \"shape\": \"dot\", \"title\": \"Alec Neighbors: \\n-MacDonald\\n-s\\n-William\", \"value\": 3}, {\"id\": \"Bodymaster\", \"label\": \"Bodymaster\", \"shape\": \"dot\", \"title\": \"Bodymaster Neighbors: \\n-McGinty\\n-Morris\\n-s\\n-Baldwin\\n-Jack\", \"value\": 5}, {\"id\": \"Eustace\", \"label\": \"Eustace\", \"shape\": \"dot\", \"title\": \"Eustace Neighbors: \\n-s\\n-Brackenstall\\n-George\", \"value\": 3}, {\"id\": \"Evans\", \"label\": \"Evans\", \"shape\": \"dot\", \"title\": \"Evans Neighbors: \\n-s\\n-Scanlan\\n-McGinty\", \"value\": 3}, {\"id\": \"Garcia\", \"label\": \"Garcia\", \"shape\": \"dot\", \"title\": \"Garcia Neighbors: \\n-Gregson\\n-s\", \"value\": 2}, {\"id\": \"Holdhurst\", \"label\": \"Holdhurst\", \"shape\": \"dot\", \"title\": \"Holdhurst Neighbors: \\n-Phelps\\n-s\\n-Watson\", \"value\": 3}, {\"id\": \"Leonardo\", \"label\": \"Leonardo\", \"shape\": \"dot\", \"title\": \"Leonardo Neighbors: \\n-s\", \"value\": 1}, {\"id\": \"Openshaw\", \"label\": \"Openshaw\", \"shape\": \"dot\", \"title\": \"Openshaw Neighbors: \\n-s\", \"value\": 1}, {\"id\": \"Saltire\", \"label\": \"Saltire\", \"shape\": \"dot\", \"title\": \"Saltire Neighbors: \\n-Wilder\\n-s\", \"value\": 2}, {\"id\": \"Scanlan\", \"label\": \"Scanlan\", \"shape\": \"dot\", \"title\": \"Scanlan Neighbors: \\n-Ettie\\n-McGinty\\n-s\\n-Evans\\n-Mac\", \"value\": 5}, {\"id\": \"Smith\", \"label\": \"Smith\", \"shape\": \"dot\", \"title\": \"Smith Neighbors: \\n-Woodley\\n-Susan\\n-Watson\\n-s\\n-Joseph\\n-Mortimer\", \"value\": 6}, {\"id\": \"Stoner\", \"label\": \"Stoner\", \"shape\": \"dot\", \"title\": \"Stoner Neighbors: \\n-Moran\\n-s\\n-Roylott\", \"value\": 3}, {\"id\": \"Sylvius\", \"label\": \"Sylvius\", \"shape\": \"dot\", \"title\": \"Sylvius Neighbors: \\n-Billy\", \"value\": 1}, {\"id\": \"Toby\", \"label\": \"Toby\", \"shape\": \"dot\", \"title\": \"Toby Neighbors: \\n-s\", \"value\": 1}, {\"id\": \"Watson\", \"label\": \"Watson\", \"shape\": \"dot\", \"title\": \"Watson Neighbors: \\n-Carruthers\\n-Coram\\n-Cornish\\n-Grace\\n-Gibson\\n-Bennett\\n-Don\\n-Musgrave\\n-Garrideb\\n-Jones\\n-Rucastle\\n-George\\n-Hudson\\n-s\\n-Henry\\n-Holdhurst\\n-Barker\\n-Stapleton\\n-Gregson\\n-Trevor\\n-Hunter\\n-Mawson\\n-Phelps\\n-Sholto\\n-Smith\\n-Hall\\n-Thaddeus\\n-Moriarty\\n-Mortimer\\n-Jove\\n-Robert\", \"value\": 31}, {\"id\": \"s\", \"label\": \"s\", \"shape\": \"dot\", \"title\": \"s Neighbors: \\n-Lucas\\n-Pierrot\\n-Susan\\n-Cornish\\n-Grace\\n-Stoner\\n-Gibson\\n-Bennett\\n-Gorgiano\\n-Turner\\n-MacDonald\\n-Elsie\\n-Rucastle\\n-Bartholomew\\n-McCarthy\\n-Ettie\\n-Bodymaster\\n-Gilchrist\\n-Adair\\n-Morris\\n-Stapleton\\n-Alec\\n-Sarah\\n-Moriarty\\n-bush\\n-Watson\\n-Robert\\n-Cushing\\n-Openshaw\\n-Neligan\\n-Horner\\n-Saltire\\n-George\\n-Warren\\n-Godfrey\\n-Toby\\n-Wilson\\n-Brackenstall\\n-Soames\\n-Gregson\\n-Selden\\n-Phelps\\n-Hall\\n-Thaddeus\\n-Billy\\n-Burnet\\n-Woodley\\n-William\\n-Peters\\n-Mortimer\\n-Mapleton\\n-Carruthers\\n-Merryweather\\n-Gennaro\\n-Acton\\n-Barrymore\\n-Don\\n-Garrideb\\n-Pinner\\n-Oberstein\\n-Hudson\\n-Henry\\n-Harker\\n-Pompey\\n-McGinty\\n-Wilder\\n-Alice\\n-Trevor\\n-Smith\\n-Harrison\\n-Emsworth\\n-Hayes\\n-Martha\\n-Scanlan\\n-Mary\\n-Simpson\\n-Charles\\n-Williamson\\n-Coram\\n-Ross\\n-Stangerson\\n-Drebber\\n-Roylott\\n-Pycroft\\n-Barclay\\n-Musgrave\\n-Jack\\n-Jones\\n-Evans\\n-Douglas\\n-Peterson\\n-Blessington\\n-Presbury\\n-Dunbar\\n-Holdhurst\\n-Mycroft\\n-Barker\\n-Lucy\\n-Staunton\\n-Leonardo\\n-Hunter\\n-Garcia\\n-Browner\\n-Mawson\\n-Joseph\\n-Sholto\\n-Lestrade\\n-Eustace\\n-Frank\\n-Hilda\\n-Beppo\\n-Mac\\n-Moran\\n-Jove\\n-Lee\\n-Baldwin\", \"value\": 116}, {\"id\": \"Baldwin\", \"label\": \"Baldwin\", \"shape\": \"dot\", \"title\": \"Baldwin Neighbors: \\n-s\\n-Bodymaster\\n-McGinty\", \"value\": 3}, {\"id\": \"Barclay\", \"label\": \"Barclay\", \"shape\": \"dot\", \"title\": \"Barclay Neighbors: \\n-s\\n-George\", \"value\": 2}, {\"id\": \"Barrymore\", \"label\": \"Barrymore\", \"shape\": \"dot\", \"title\": \"Barrymore Neighbors: \\n-s\\n-Henry\\n-Charles\\n-Mortimer\\n-Selden\\n-Hall\", \"value\": 6}, {\"id\": \"Browner\", \"label\": \"Browner\", \"shape\": \"dot\", \"title\": \"Browner Neighbors: \\n-s\\n-Sarah\", \"value\": 2}, {\"id\": \"Frank\", \"label\": \"Frank\", \"shape\": \"dot\", \"title\": \"Frank Neighbors: \\n-s\", \"value\": 1}, {\"id\": \"Hall\", \"label\": \"Hall\", \"shape\": \"dot\", \"title\": \"Hall Neighbors: \\n-Pinner\\n-George\\n-Woodley\\n-Watson\\n-Stapleton\\n-s\\n-Barrymore\\n-Pycroft\\n-Henry\\n-Charles\\n-Lestrade\\n-Mawson\\n-Mortimer\\n-Turner\\n-Williamson\", \"value\": 15}, {\"id\": \"Hayes\", \"label\": \"Hayes\", \"shape\": \"dot\", \"title\": \"Hayes Neighbors: \\n-s\", \"value\": 1}, {\"id\": \"Horner\", \"label\": \"Horner\", \"shape\": \"dot\", \"title\": \"Horner Neighbors: \\n-s\", \"value\": 1}, {\"id\": \"Mawson\", \"label\": \"Mawson\", \"shape\": \"dot\", \"title\": \"Mawson Neighbors: \\n-s\\n-Watson\\n-Pycroft\\n-Hall\", \"value\": 4}, {\"id\": \"Oberstein\", \"label\": \"Oberstein\", \"shape\": \"dot\", \"title\": \"Oberstein Neighbors: \\n-Lucas\\n-s\\n-George\\n-Mycroft\", \"value\": 4}, {\"id\": \"Roylott\", \"label\": \"Roylott\", \"shape\": \"dot\", \"title\": \"Roylott Neighbors: \\n-Moran\\n-Stoner\\n-s\", \"value\": 3}, {\"id\": \"Rucastle\", \"label\": \"Rucastle\", \"shape\": \"dot\", \"title\": \"Rucastle Neighbors: \\n-Watson\\n-Alice\\n-s\\n-Hunter\\n-Toller\", \"value\": 5}, {\"id\": \"Simpson\", \"label\": \"Simpson\", \"shape\": \"dot\", \"title\": \"Simpson Neighbors: \\n-s\\n-Mapleton\", \"value\": 2}, {\"id\": \"Thaddeus\", \"label\": \"Thaddeus\", \"shape\": \"dot\", \"title\": \"Thaddeus Neighbors: \\n-Sholto\\n-Watson\\n-s\", \"value\": 3}, {\"id\": \"Toller\", \"label\": \"Toller\", \"shape\": \"dot\", \"title\": \"Toller Neighbors: \\n-Rucastle\", \"value\": 1}, {\"id\": \"William\", \"label\": \"William\", \"shape\": \"dot\", \"title\": \"William Neighbors: \\n-Ross\\n-Morris\\n-Acton\\n-s\\n-Alec\\n-Turner\", \"value\": 6}, {\"id\": \"Beppo\", \"label\": \"Beppo\", \"shape\": \"dot\", \"title\": \"Beppo Neighbors: \\n-s\", \"value\": 1}, {\"id\": \"Cornish\", \"label\": \"Cornish\", \"shape\": \"dot\", \"title\": \"Cornish Neighbors: \\n-s\\n-Watson\", \"value\": 2}, {\"id\": \"Douglas\", \"label\": \"Douglas\", \"shape\": \"dot\", \"title\": \"Douglas Neighbors: \\n-MacDonald\\n-s\\n-Jack\\n-Barker\", \"value\": 4}, {\"id\": \"Emsworth\", \"label\": \"Emsworth\", \"shape\": \"dot\", \"title\": \"Emsworth Neighbors: \\n-s\\n-Godfrey\", \"value\": 2}, {\"id\": \"Garrideb\", \"label\": \"Garrideb\", \"shape\": \"dot\", \"title\": \"Garrideb Neighbors: \\n-s\\n-Watson\", \"value\": 2}, {\"id\": \"George\", \"label\": \"George\", \"shape\": \"dot\", \"title\": \"George Neighbors: \\n-Eustace\\n-Oberstein\\n-Watson\\n-Mary\\n-s\\n-Barclay\\n-Charles\\n-Hall\", \"value\": 8}, {\"id\": \"Gibson\", \"label\": \"Gibson\", \"shape\": \"dot\", \"title\": \"Gibson Neighbors: \\n-s\\n-Watson\\n-Don\\n-Dunbar\", \"value\": 4}, {\"id\": \"Gilchrist\", \"label\": \"Gilchrist\", \"shape\": \"dot\", \"title\": \"Gilchrist Neighbors: \\n-s\\n-Soames\", \"value\": 2}, {\"id\": \"Grace\", \"label\": \"Grace\", \"shape\": \"dot\", \"title\": \"Grace Neighbors: \\n-Wilder\\n-s\\n-Watson\\n-Dunbar\", \"value\": 4}, {\"id\": \"Gregory\", \"label\": \"Gregory\", \"shape\": \"dot\", \"title\": \"Gregory Neighbors: \\n-Ross\", \"value\": 1}, {\"id\": \"Hilda\", \"label\": \"Hilda\", \"shape\": \"dot\", \"title\": \"Hilda Neighbors: \\n-s\\n-Adair\", \"value\": 2}, {\"id\": \"Martha\", \"label\": \"Martha\", \"shape\": \"dot\", \"title\": \"Martha Neighbors: \\n-s\", \"value\": 1}, {\"id\": \"Sarah\", \"label\": \"Sarah\", \"shape\": \"dot\", \"title\": \"Sarah Neighbors: \\n-s\\n-Cushing\\n-Mary\\n-Browner\", \"value\": 4}, {\"id\": \"Selden\", \"label\": \"Selden\", \"shape\": \"dot\", \"title\": \"Selden Neighbors: \\n-s\\n-Barrymore\\n-Stapleton\", \"value\": 3}, {\"id\": \"Stoper\", \"label\": \"Stoper\", \"shape\": \"dot\", \"title\": \"Stoper Neighbors: \\n-Hunter\", \"value\": 1}, {\"id\": \"Turner\", \"label\": \"Turner\", \"shape\": \"dot\", \"title\": \"Turner Neighbors: \\n-McCarthy\\n-s\\n-William\\n-Lestrade\\n-Hall\", \"value\": 5}, {\"id\": \"Williamson\", \"label\": \"Williamson\", \"shape\": \"dot\", \"title\": \"Williamson Neighbors: \\n-Carruthers\\n-s\\n-Woodley\\n-Hall\", \"value\": 4}]);\n",
              "        edges = new vis.DataSet([{\"from\": \"Harrison\", \"to\": \"Joseph\", \"width\": 14}, {\"from\": \"Jack\", \"to\": \"McGinty\", \"width\": 5}, {\"from\": \"McCarthy\", \"to\": \"Charles\", \"width\": 2}, {\"from\": \"McCarthy\", \"to\": \"Lestrade\", \"width\": 2}, {\"from\": \"Harrison\", \"to\": \"Charles\", \"width\": 2}, {\"from\": \"Joseph\", \"to\": \"Charles\", \"width\": 2}, {\"from\": \"Godfrey\", \"to\": \"Moran\", \"width\": 2}, {\"from\": \"Adair\", \"to\": \"Moran\", \"width\": 3}, {\"from\": \"Mycroft\", \"to\": \"Lestrade\", \"width\": 3}, {\"from\": \"Joseph\", \"to\": \"Lestrade\", \"width\": 2}, {\"from\": \"Jack\", \"to\": \"Carruthers\", \"width\": 2}, {\"from\": \"Jones\", \"to\": \"Merryweather\", \"width\": 1}, {\"from\": \"Mycroft\", \"to\": \"Hudson\", \"width\": 1}, {\"from\": \"Joseph\", \"to\": \"Drebber\", \"width\": 2}, {\"from\": \"MacDonald\", \"to\": \"Billy\", \"width\": 1}, {\"from\": \"Jack\", \"to\": \"Woodley\", \"width\": 4}, {\"from\": \"Godfrey\", \"to\": \"Staunton\", \"width\": 20}, {\"from\": \"Joseph\", \"to\": \"Stangerson\", \"width\": 6}, {\"from\": \"Jack\", \"to\": \"Bennett\", \"width\": 1}, {\"from\": \"Adair\", \"to\": \"s\", \"width\": 2}, {\"from\": \"Godfrey\", \"to\": \"s\", \"width\": 10}, {\"from\": \"Joseph\", \"to\": \"Smith\", \"width\": 2}, {\"from\": \"Barker\", \"to\": \"s\", \"width\": 8}, {\"from\": \"Barker\", \"to\": \"Watson\", \"width\": 2}, {\"from\": \"Jack\", \"to\": \"Bodymaster\", \"width\": 2}, {\"from\": \"Jack\", \"to\": \"s\", \"width\": 2}, {\"from\": \"Mycroft\", \"to\": \"Oberstein\", \"width\": 1}, {\"from\": \"McCarthy\", \"to\": \"Turner\", \"width\": 6}, {\"from\": \"Barker\", \"to\": \"Douglas\", \"width\": 9}, {\"from\": \"MacDonald\", \"to\": \"Douglas\", \"width\": 1}, {\"from\": \"Jack\", \"to\": \"Douglas\", \"width\": 2}, {\"from\": \"Adair\", \"to\": \"Hilda\", \"width\": 1}, {\"from\": \"Godfrey\", \"to\": \"Emsworth\", \"width\": 4}, {\"from\": \"Charles\", \"to\": \"Adair\", \"width\": 1}, {\"from\": \"Lestrade\", \"to\": \"Jones\", \"width\": 1}, {\"from\": \"Ross\", \"to\": \"Morris\", \"width\": 2}, {\"from\": \"Peters\", \"to\": \"Henry\", \"width\": 1}, {\"from\": \"Charles\", \"to\": \"Mortimer\", \"width\": 3}, {\"from\": \"Lestrade\", \"to\": \"Stangerson\", \"width\": 2}, {\"from\": \"Sholto\", \"to\": \"Bartholomew\", \"width\": 1}, {\"from\": \"Mapleton\", \"to\": \"s\", \"width\": 4}, {\"from\": \"Wilder\", \"to\": \"Saltire\", \"width\": 2}, {\"from\": \"Lee\", \"to\": \"s\", \"width\": 4}, {\"from\": \"Ettie\", \"to\": \"s\", \"width\": 1}, {\"from\": \"Ettie\", \"to\": \"Scanlan\", \"width\": 1}, {\"from\": \"Ross\", \"to\": \"s\", \"width\": 4}, {\"from\": \"Dunbar\", \"to\": \"s\", \"width\": 2}, {\"from\": \"Moran\", \"to\": \"Roylott\", \"width\": 5}, {\"from\": \"Sholto\", \"to\": \"Thaddeus\", \"width\": 6}, {\"from\": \"Charles\", \"to\": \"Hall\", \"width\": 3}, {\"from\": \"Lestrade\", \"to\": \"Hall\", \"width\": 1}, {\"from\": \"Lestrade\", \"to\": \"Turner\", \"width\": 2}, {\"from\": \"Ross\", \"to\": \"Gregory\", \"width\": 2}, {\"from\": \"Dunbar\", \"to\": \"Grace\", \"width\": 1}, {\"from\": \"Dunbar\", \"to\": \"Gibson\", \"width\": 2}, {\"from\": \"Stapleton\", \"to\": \"Charles\", \"width\": 3}, {\"from\": \"Mac\", \"to\": \"Charles\", \"width\": 1}, {\"from\": \"Moriarty\", \"to\": \"Moran\", \"width\": 1}, {\"from\": \"Hudson\", \"to\": \"Trevor\", \"width\": 2}, {\"from\": \"Stapleton\", \"to\": \"Henry\", \"width\": 10}, {\"from\": \"Stapleton\", \"to\": \"Mortimer\", \"width\": 1}, {\"from\": \"Hudson\", \"to\": \"Billy\", \"width\": 1}, {\"from\": \"Pinner\", \"to\": \"Pycroft\", \"width\": 2}, {\"from\": \"Carruthers\", \"to\": \"Woodley\", \"width\": 8}, {\"from\": \"Lucy\", \"to\": \"Stangerson\", \"width\": 1}, {\"from\": \"Wilson\", \"to\": \"Bartholomew\", \"width\": 1}, {\"from\": \"Wilson\", \"to\": \"s\", \"width\": 3}, {\"from\": \"Merryweather\", \"to\": \"s\", \"width\": 2}, {\"from\": \"Pinner\", \"to\": \"s\", \"width\": 1}, {\"from\": \"Hudson\", \"to\": \"s\", \"width\": 10}, {\"from\": \"Moriarty\", \"to\": \"Watson\", \"width\": 4}, {\"from\": \"Moriarty\", \"to\": \"s\", \"width\": 5}, {\"from\": \"Hudson\", \"to\": \"Watson\", \"width\": 2}, {\"from\": \"Lucy\", \"to\": \"s\", \"width\": 8}, {\"from\": \"Stapleton\", \"to\": \"s\", \"width\": 13}, {\"from\": \"Stapleton\", \"to\": \"Watson\", \"width\": 1}, {\"from\": \"Pinner\", \"to\": \"Hall\", \"width\": 1}, {\"from\": \"Stapleton\", \"to\": \"Hall\", \"width\": 2}, {\"from\": \"Carruthers\", \"to\": \"Williamson\", \"width\": 8}, {\"from\": \"Stapleton\", \"to\": \"Selden\", \"width\": 1}, {\"from\": \"Mary\", \"to\": \"George\", \"width\": 1}, {\"from\": \"Henry\", \"to\": \"Godfrey\", \"width\": 2}, {\"from\": \"Don\", \"to\": \"Sholto\", \"width\": 1}, {\"from\": \"Henry\", \"to\": \"Charles\", \"width\": 1}, {\"from\": \"Brackenstall\", \"to\": \"Mary\", \"width\": 2}, {\"from\": \"Susan\", \"to\": \"Cushing\", \"width\": 1}, {\"from\": \"Henry\", \"to\": \"Mortimer\", \"width\": 9}, {\"from\": \"Don\", \"to\": \"Henry\", \"width\": 1}, {\"from\": \"Jove\", \"to\": \"Peterson\", \"width\": 2}, {\"from\": \"Don\", \"to\": \"Pycroft\", \"width\": 2}, {\"from\": \"Don\", \"to\": \"Marvin\", \"width\": 1}, {\"from\": \"Jove\", \"to\": \"Watson\", \"width\": 2}, {\"from\": \"Soames\", \"to\": \"s\", \"width\": 6}, {\"from\": \"Susan\", \"to\": \"Smith\", \"width\": 2}, {\"from\": \"Brackenstall\", \"to\": \"Eustace\", \"width\": 3}, {\"from\": \"Cushing\", \"to\": \"s\", \"width\": 2}, {\"from\": \"Gorgiano\", \"to\": \"s\", \"width\": 1}, {\"from\": \"Don\", \"to\": \"Watson\", \"width\": 3}, {\"from\": \"Drebber\", \"to\": \"s\", \"width\": 5}, {\"from\": \"Jove\", \"to\": \"s\", \"width\": 3}, {\"from\": \"Don\", \"to\": \"s\", \"width\": 4}, {\"from\": \"Henry\", \"to\": \"s\", \"width\": 2}, {\"from\": \"Phelps\", \"to\": \"Watson\", \"width\": 1}, {\"from\": \"Susan\", \"to\": \"s\", \"width\": 3}, {\"from\": \"Billy\", \"to\": \"Sylvius\", \"width\": 1}, {\"from\": \"Alice\", \"to\": \"Rucastle\", \"width\": 2}, {\"from\": \"Henry\", \"to\": \"Hall\", \"width\": 4}, {\"from\": \"Mortimer\", \"to\": \"Hall\", \"width\": 3}, {\"from\": \"Henry\", \"to\": \"Barrymore\", \"width\": 2}, {\"from\": \"Soames\", \"to\": \"Gilchrist\", \"width\": 2}, {\"from\": \"Cushing\", \"to\": \"Sarah\", \"width\": 5}, {\"from\": \"Don\", \"to\": \"Gibson\", \"width\": 2}, {\"from\": \"Gregson\", \"to\": \"Jones\", \"width\": 1}, {\"from\": \"Marvin\", \"to\": \"McGinty\", \"width\": 2}, {\"from\": \"Bennett\", \"to\": \"Presbury\", \"width\": 1}, {\"from\": \"Musgrave\", \"to\": \"Charles\", \"width\": 2}, {\"from\": \"Gregson\", \"to\": \"Lestrade\", \"width\": 15}, {\"from\": \"Gregson\", \"to\": \"Hudson\", \"width\": 2}, {\"from\": \"Staunton\", \"to\": \"Henry\", \"width\": 2}, {\"from\": \"Stangerson\", \"to\": \"Drebber\", \"width\": 17}, {\"from\": \"Gregson\", \"to\": \"Drebber\", \"width\": 1}, {\"from\": \"Bennett\", \"to\": \"Trevor\", \"width\": 1}, {\"from\": \"Hunter\", \"to\": \"s\", \"width\": 2}, {\"from\": \"Musgrave\", \"to\": \"s\", \"width\": 1}, {\"from\": \"Acton\", \"to\": \"s\", \"width\": 6}, {\"from\": \"Neligan\", \"to\": \"s\", \"width\": 2}, {\"from\": \"Staunton\", \"to\": \"s\", \"width\": 4}, {\"from\": \"Pompey\", \"to\": \"s\", \"width\": 4}, {\"from\": \"Lucas\", \"to\": \"s\", \"width\": 2}, {\"from\": \"Gregson\", \"to\": \"Garcia\", \"width\": 2}, {\"from\": \"Gregson\", \"to\": \"s\", \"width\": 11}, {\"from\": \"Stangerson\", \"to\": \"s\", \"width\": 2}, {\"from\": \"Bartholomew\", \"to\": \"s\", \"width\": 3}, {\"from\": \"Hunter\", \"to\": \"Watson\", \"width\": 1}, {\"from\": \"Musgrave\", \"to\": \"Watson\", \"width\": 3}, {\"from\": \"Bennett\", \"to\": \"Watson\", \"width\": 1}, {\"from\": \"Bennett\", \"to\": \"s\", \"width\": 1}, {\"from\": \"Hunter\", \"to\": \"Rucastle\", \"width\": 2}, {\"from\": \"Pycroft\", \"to\": \"Hall\", \"width\": 19}, {\"from\": \"Woodley\", \"to\": \"Hall\", \"width\": 2}, {\"from\": \"Hunter\", \"to\": \"Stoper\", \"width\": 2}, {\"from\": \"Watson\", \"to\": \"Jones\", \"width\": 3}, {\"from\": \"s\", \"to\": \"McCarthy\", \"width\": 10}, {\"from\": \"s\", \"to\": \"Mycroft\", \"width\": 10}, {\"from\": \"s\", \"to\": \"Harrison\", \"width\": 6}, {\"from\": \"s\", \"to\": \"Joseph\", \"width\": 6}, {\"from\": \"s\", \"to\": \"Pierrot\", \"width\": 2}, {\"from\": \"s\", \"to\": \"Jones\", \"width\": 8}, {\"from\": \"Alec\", \"to\": \"MacDonald\", \"width\": 1}, {\"from\": \"s\", \"to\": \"MacDonald\", \"width\": 5}, {\"from\": \"Bodymaster\", \"to\": \"McGinty\", \"width\": 6}, {\"from\": \"s\", \"to\": \"McGinty\", \"width\": 16}, {\"from\": \"Evans\", \"to\": \"McGinty\", \"width\": 1}, {\"from\": \"Scanlan\", \"to\": \"McGinty\", \"width\": 2}, {\"from\": \"s\", \"to\": \"Presbury\", \"width\": 3}, {\"from\": \"s\", \"to\": \"Robert\", \"width\": 9}, {\"from\": \"Watson\", \"to\": \"Robert\", \"width\": 2}, {\"from\": \"s\", \"to\": \"Lestrade\", \"width\": 38}, {\"from\": \"Stoner\", \"to\": \"Moran\", \"width\": 2}, {\"from\": \"s\", \"to\": \"Moran\", \"width\": 4}, {\"from\": \"s\", \"to\": \"Elsie\", \"width\": 2}, {\"from\": \"s\", \"to\": \"Wilder\", \"width\": 8}, {\"from\": \"Watson\", \"to\": \"Coram\", \"width\": 2}, {\"from\": \"s\", \"to\": \"Coram\", \"width\": 2}, {\"from\": \"s\", \"to\": \"Peters\", \"width\": 2}, {\"from\": \"s\", \"to\": \"Sholto\", \"width\": 11}, {\"from\": \"Watson\", \"to\": \"Sholto\", \"width\": 1}, {\"from\": \"s\", \"to\": \"Charles\", \"width\": 28}, {\"from\": \"s\", \"to\": \"Mary\", \"width\": 18}, {\"from\": \"s\", \"to\": \"Carruthers\", \"width\": 2}, {\"from\": \"s\", \"to\": \"Harker\", \"width\": 6}, {\"from\": \"Watson\", \"to\": \"Carruthers\", \"width\": 2}, {\"from\": \"s\", \"to\": \"Burnet\", \"width\": 2}, {\"from\": \"s\", \"to\": \"Warren\", \"width\": 14}, {\"from\": \"s\", \"to\": \"Mac\", \"width\": 1}, {\"from\": \"s\", \"to\": \"Morris\", \"width\": 2}, {\"from\": \"Bodymaster\", \"to\": \"Morris\", \"width\": 2}, {\"from\": \"Scanlan\", \"to\": \"Mac\", \"width\": 1}, {\"from\": \"s\", \"to\": \"Mortimer\", \"width\": 17}, {\"from\": \"s\", \"to\": \"Alice\", \"width\": 9}, {\"from\": \"s\", \"to\": \"Trevor\", \"width\": 2}, {\"from\": \"Watson\", \"to\": \"Trevor\", \"width\": 3}, {\"from\": \"s\", \"to\": \"Blessington\", \"width\": 12}, {\"from\": \"s\", \"to\": \"Phelps\", \"width\": 6}, {\"from\": \"Holdhurst\", \"to\": \"Phelps\", \"width\": 2}, {\"from\": \"Smith\", \"to\": \"Mortimer\", \"width\": 2}, {\"from\": \"s\", \"to\": \"Brackenstall\", \"width\": 2}, {\"from\": \"Watson\", \"to\": \"Henry\", \"width\": 1}, {\"from\": \"Watson\", \"to\": \"Mortimer\", \"width\": 1}, {\"from\": \"s\", \"to\": \"Billy\", \"width\": 1}, {\"from\": \"s\", \"to\": \"Peterson\", \"width\": 2}, {\"from\": \"s\", \"to\": \"bush\", \"width\": 4}, {\"from\": \"s\", \"to\": \"Pycroft\", \"width\": 6}, {\"from\": \"s\", \"to\": \"Woodley\", \"width\": 2}, {\"from\": \"Smith\", \"to\": \"Woodley\", \"width\": 2}, {\"from\": \"s\", \"to\": \"Gennaro\", \"width\": 6}, {\"from\": \"Watson\", \"to\": \"Gregson\", \"width\": 1}, {\"from\": \"s\", \"to\": \"Watson\", \"width\": 58}, {\"from\": \"s\", \"to\": \"Openshaw\", \"width\": 2}, {\"from\": \"Stoner\", \"to\": \"s\", \"width\": 1}, {\"from\": \"s\", \"to\": \"Eustace\", \"width\": 2}, {\"from\": \"Alec\", \"to\": \"s\", \"width\": 4}, {\"from\": \"s\", \"to\": \"Holdhurst\", \"width\": 1}, {\"from\": \"Watson\", \"to\": \"Holdhurst\", \"width\": 1}, {\"from\": \"Smith\", \"to\": \"s\", \"width\": 2}, {\"from\": \"Watson\", \"to\": \"Smith\", \"width\": 3}, {\"from\": \"s\", \"to\": \"Saltire\", \"width\": 12}, {\"from\": \"Garcia\", \"to\": \"s\", \"width\": 8}, {\"from\": \"s\", \"to\": \"Toby\", \"width\": 2}, {\"from\": \"s\", \"to\": \"Bodymaster\", \"width\": 2}, {\"from\": \"s\", \"to\": \"Evans\", \"width\": 2}, {\"from\": \"s\", \"to\": \"Scanlan\", \"width\": 3}, {\"from\": \"Evans\", \"to\": \"Scanlan\", \"width\": 1}, {\"from\": \"s\", \"to\": \"Leonardo\", \"width\": 2}, {\"from\": \"s\", \"to\": \"Hall\", \"width\": 16}, {\"from\": \"s\", \"to\": \"Horner\", \"width\": 2}, {\"from\": \"Stoner\", \"to\": \"Roylott\", \"width\": 4}, {\"from\": \"s\", \"to\": \"Roylott\", \"width\": 14}, {\"from\": \"s\", \"to\": \"Rucastle\", \"width\": 10}, {\"from\": \"Watson\", \"to\": \"Rucastle\", \"width\": 2}, {\"from\": \"s\", \"to\": \"Simpson\", \"width\": 4}, {\"from\": \"s\", \"to\": \"Mawson\", \"width\": 29}, {\"from\": \"Watson\", \"to\": \"Mawson\", \"width\": 2}, {\"from\": \"s\", \"to\": \"Barclay\", \"width\": 5}, {\"from\": \"s\", \"to\": \"Hayes\", \"width\": 2}, {\"from\": \"s\", \"to\": \"Browner\", \"width\": 2}, {\"from\": \"Watson\", \"to\": \"Hall\", \"width\": 2}, {\"from\": \"s\", \"to\": \"Barrymore\", \"width\": 6}, {\"from\": \"s\", \"to\": \"Baldwin\", \"width\": 5}, {\"from\": \"Bodymaster\", \"to\": \"Baldwin\", \"width\": 1}, {\"from\": \"s\", \"to\": \"Frank\", \"width\": 2}, {\"from\": \"s\", \"to\": \"Oberstein\", \"width\": 1}, {\"from\": \"s\", \"to\": \"Turner\", \"width\": 4}, {\"from\": \"s\", \"to\": \"George\", \"width\": 6}, {\"from\": \"s\", \"to\": \"Williamson\", \"width\": 2}, {\"from\": \"s\", \"to\": \"Grace\", \"width\": 11}, {\"from\": \"Watson\", \"to\": \"Grace\", \"width\": 1}, {\"from\": \"s\", \"to\": \"Beppo\", \"width\": 4}, {\"from\": \"s\", \"to\": \"Gilchrist\", \"width\": 1}, {\"from\": \"s\", \"to\": \"Sarah\", \"width\": 10}, {\"from\": \"s\", \"to\": \"Cornish\", \"width\": 2}, {\"from\": \"Watson\", \"to\": \"Cornish\", \"width\": 4}, {\"from\": \"s\", \"to\": \"Martha\", \"width\": 2}, {\"from\": \"s\", \"to\": \"Douglas\", \"width\": 10}, {\"from\": \"Watson\", \"to\": \"George\", \"width\": 1}, {\"from\": \"Watson\", \"to\": \"Garrideb\", \"width\": 1}, {\"from\": \"Watson\", \"to\": \"Gibson\", \"width\": 1}, {\"from\": \"s\", \"to\": \"Gibson\", \"width\": 4}, {\"from\": \"Baldwin\", \"to\": \"McGinty\", \"width\": 2}, {\"from\": \"William\", \"to\": \"Ross\", \"width\": 2}, {\"from\": \"Simpson\", \"to\": \"Mapleton\", \"width\": 2}, {\"from\": \"Barrymore\", \"to\": \"Charles\", \"width\": 4}, {\"from\": \"William\", \"to\": \"Morris\", \"width\": 4}, {\"from\": \"Barrymore\", \"to\": \"Mortimer\", \"width\": 1}, {\"from\": \"Mawson\", \"to\": \"Pycroft\", \"width\": 2}, {\"from\": \"William\", \"to\": \"Acton\", \"width\": 2}, {\"from\": \"Oberstein\", \"to\": \"Lucas\", \"width\": 2}, {\"from\": \"William\", \"to\": \"s\", \"width\": 8}, {\"from\": \"William\", \"to\": \"Alec\", \"width\": 6}, {\"from\": \"Thaddeus\", \"to\": \"s\", \"width\": 2}, {\"from\": \"Thaddeus\", \"to\": \"Watson\", \"width\": 1}, {\"from\": \"Toller\", \"to\": \"Rucastle\", \"width\": 2}, {\"from\": \"Mawson\", \"to\": \"Hall\", \"width\": 2}, {\"from\": \"Hall\", \"to\": \"Barrymore\", \"width\": 3}, {\"from\": \"William\", \"to\": \"Turner\", \"width\": 2}, {\"from\": \"Barclay\", \"to\": \"George\", \"width\": 1}, {\"from\": \"Hall\", \"to\": \"Williamson\", \"width\": 4}, {\"from\": \"Barrymore\", \"to\": \"Selden\", \"width\": 1}, {\"from\": \"Grace\", \"to\": \"Wilder\", \"width\": 10}, {\"from\": \"George\", \"to\": \"Charles\", \"width\": 1}, {\"from\": \"Sarah\", \"to\": \"Mary\", \"width\": 8}, {\"from\": \"Williamson\", \"to\": \"Woodley\", \"width\": 8}, {\"from\": \"George\", \"to\": \"Eustace\", \"width\": 2}, {\"from\": \"Hilda\", \"to\": \"s\", \"width\": 4}, {\"from\": \"Selden\", \"to\": \"s\", \"width\": 1}, {\"from\": \"Emsworth\", \"to\": \"s\", \"width\": 3}, {\"from\": \"Garrideb\", \"to\": \"s\", \"width\": 1}, {\"from\": \"Turner\", \"to\": \"Hall\", \"width\": 2}, {\"from\": \"George\", \"to\": \"Hall\", \"width\": 2}, {\"from\": \"Sarah\", \"to\": \"Browner\", \"width\": 2}, {\"from\": \"George\", \"to\": \"Oberstein\", \"width\": 2}]);\n",
              "\n",
              "        // adding nodes and edges to the graph\n",
              "        data = {nodes: nodes, edges: edges};\n",
              "\n",
              "        var options = {\n",
              "    \"configure\": {\n",
              "        \"enabled\": false\n",
              "    },\n",
              "    \"edges\": {\n",
              "        \"color\": {\n",
              "            \"inherit\": true\n",
              "        },\n",
              "        \"smooth\": {\n",
              "            \"enabled\": true,\n",
              "            \"type\": \"dynamic\"\n",
              "        }\n",
              "    },\n",
              "    \"interaction\": {\n",
              "        \"dragNodes\": true,\n",
              "        \"hideEdgesOnDrag\": false,\n",
              "        \"hideNodesOnDrag\": false\n",
              "    },\n",
              "    \"physics\": {\n",
              "        \"enabled\": true,\n",
              "        \"repulsion\": {\n",
              "            \"centralGravity\": 0.2,\n",
              "            \"damping\": 0.09,\n",
              "            \"nodeDistance\": 90,\n",
              "            \"springConstant\": 0.05,\n",
              "            \"springLength\": 200\n",
              "        },\n",
              "        \"solver\": \"repulsion\",\n",
              "        \"stabilization\": {\n",
              "            \"enabled\": true,\n",
              "            \"fit\": true,\n",
              "            \"iterations\": 1000,\n",
              "            \"onlyDynamicEdges\": false,\n",
              "            \"updateInterval\": 50\n",
              "        }\n",
              "    }\n",
              "};\n",
              "        \n",
              "        \n",
              "\n",
              "        \n",
              "\n",
              "        network = new vis.Network(container, data, options);\n",
              "\t \n",
              "        \n",
              "\n",
              "\n",
              "        \n",
              "        network.on(\"stabilizationProgress\", function(params) {\n",
              "      \t\tdocument.getElementById('loadingBar').removeAttribute(\"style\");\n",
              "\t        var maxWidth = 496;\n",
              "\t        var minWidth = 20;\n",
              "\t        var widthFactor = params.iterations/params.total;\n",
              "\t        var width = Math.max(minWidth,maxWidth * widthFactor);\n",
              "\n",
              "\t        document.getElementById('bar').style.width = width + 'px';\n",
              "\t        document.getElementById('text').innerHTML = Math.round(widthFactor*100) + '%';\n",
              "\t    });\n",
              "\t    network.once(\"stabilizationIterationsDone\", function() {\n",
              "\t        document.getElementById('text').innerHTML = '100%';\n",
              "\t        document.getElementById('bar').style.width = '496px';\n",
              "\t        document.getElementById('loadingBar').style.opacity = 0;\n",
              "\t        // really clean the dom element\n",
              "\t        setTimeout(function () {document.getElementById('loadingBar').style.display = 'none';}, 500);\n",
              "\t    });\n",
              "        \n",
              "\n",
              "        return network;\n",
              "\n",
              "    }\n",
              "\n",
              "    drawGraph();\n",
              "\n",
              "</script>\n",
              "</body>\n",
              "</html>"
            ]
          },
          "metadata": {}
        }
      ]
    },
    {
      "cell_type": "markdown",
      "source": [
        "Remove the Stanford NER maps 'I' from the graph."
      ],
      "metadata": {
        "id": "Gp2RZ04jlx3s"
      }
    },
    {
      "cell_type": "code",
      "source": [
        "def clean_graph(graph, remove_entities):\n",
        "  vertices = graph.vertices[graph.vertices[\"__id\"].apply(lambda v: v not in remove_entities)]\n",
        "  edges = graph.edges[graph.edges.apply(lambda e: e[\"__src_id\"] not in remove_entities and e[\"__dst_id\"] not in remove_entities)]\n",
        "  return tr.SGraph(vertices, edges)"
      ],
      "metadata": {
        "id": "n_aIiK7ekZFr"
      },
      "execution_count": 132,
      "outputs": []
    },
    {
      "cell_type": "code",
      "source": [
        "g = clean_graph(g, {'I'})\n",
        "plot_graph2(g, \"1400px\", \"900px\")"
      ],
      "metadata": {
        "colab": {
          "base_uri": "https://localhost:8080/",
          "height": 938
        },
        "id": "mE9-pwFUm_dH",
        "outputId": "e8af81f6-07cc-476d-f5f2-440959f62eca"
      },
      "execution_count": 134,
      "outputs": [
        {
          "output_type": "display_data",
          "data": {
            "text/plain": [
              "<IPython.core.display.HTML object>"
            ],
            "text/html": [
              "<html>\n",
              "<head>\n",
              "<link rel=\"stylesheet\" href=\"https://cdn.jsdelivr.net/npm/vis-network@latest/styles/vis-network.css\" type=\"text/css\" />\n",
              "<script type=\"text/javascript\" src=\"https://cdn.jsdelivr.net/npm/vis-network@latest/dist/vis-network.min.js\"> </script>\n",
              "<center>\n",
              "<h1></h1>\n",
              "</center>\n",
              "\n",
              "<!-- <link rel=\"stylesheet\" href=\"../node_modules/vis/dist/vis.min.css\" type=\"text/css\" />\n",
              "<script type=\"text/javascript\" src=\"../node_modules/vis/dist/vis.js\"> </script>-->\n",
              "\n",
              "<style type=\"text/css\">\n",
              "\n",
              "        #mynetwork {\n",
              "            width: 1400px;\n",
              "            height: 900px;\n",
              "            background-color: #ffffff;\n",
              "            border: 1px solid lightgray;\n",
              "            position: relative;\n",
              "            float: left;\n",
              "        }\n",
              "\n",
              "        \n",
              "        #loadingBar {\n",
              "            position:absolute;\n",
              "            top:0px;\n",
              "            left:0px;\n",
              "            width: 1400px;\n",
              "            height: 900px;\n",
              "            background-color:rgba(200,200,200,0.8);\n",
              "            -webkit-transition: all 0.5s ease;\n",
              "            -moz-transition: all 0.5s ease;\n",
              "            -ms-transition: all 0.5s ease;\n",
              "            -o-transition: all 0.5s ease;\n",
              "            transition: all 0.5s ease;\n",
              "            opacity:1;\n",
              "        }\n",
              "\n",
              "        #bar {\n",
              "            position:absolute;\n",
              "            top:0px;\n",
              "            left:0px;\n",
              "            width:20px;\n",
              "            height:20px;\n",
              "            margin:auto auto auto auto;\n",
              "            border-radius:11px;\n",
              "            border:2px solid rgba(30,30,30,0.05);\n",
              "            background: rgb(0, 173, 246); /* Old browsers */\n",
              "            box-shadow: 2px 0px 4px rgba(0,0,0,0.4);\n",
              "        }\n",
              "\n",
              "        #border {\n",
              "            position:absolute;\n",
              "            top:10px;\n",
              "            left:10px;\n",
              "            width:500px;\n",
              "            height:23px;\n",
              "            margin:auto auto auto auto;\n",
              "            box-shadow: 0px 0px 4px rgba(0,0,0,0.2);\n",
              "            border-radius:10px;\n",
              "        }\n",
              "\n",
              "        #text {\n",
              "            position:absolute;\n",
              "            top:8px;\n",
              "            left:530px;\n",
              "            width:30px;\n",
              "            height:50px;\n",
              "            margin:auto auto auto auto;\n",
              "            font-size:22px;\n",
              "            color: #000000;\n",
              "        }\n",
              "\n",
              "        div.outerBorder {\n",
              "            position:relative;\n",
              "            top:400px;\n",
              "            width:600px;\n",
              "            height:44px;\n",
              "            margin:auto auto auto auto;\n",
              "            border:8px solid rgba(0,0,0,0.1);\n",
              "            background: rgb(252,252,252); /* Old browsers */\n",
              "            background: -moz-linear-gradient(top,  rgba(252,252,252,1) 0%, rgba(237,237,237,1) 100%); /* FF3.6+ */\n",
              "            background: -webkit-gradient(linear, left top, left bottom, color-stop(0%,rgba(252,252,252,1)), color-stop(100%,rgba(237,237,237,1))); /* Chrome,Safari4+ */\n",
              "            background: -webkit-linear-gradient(top,  rgba(252,252,252,1) 0%,rgba(237,237,237,1) 100%); /* Chrome10+,Safari5.1+ */\n",
              "            background: -o-linear-gradient(top,  rgba(252,252,252,1) 0%,rgba(237,237,237,1) 100%); /* Opera 11.10+ */\n",
              "            background: -ms-linear-gradient(top,  rgba(252,252,252,1) 0%,rgba(237,237,237,1) 100%); /* IE10+ */\n",
              "            background: linear-gradient(to bottom,  rgba(252,252,252,1) 0%,rgba(237,237,237,1) 100%); /* W3C */\n",
              "            filter: progid:DXImageTransform.Microsoft.gradient( startColorstr='#fcfcfc', endColorstr='#ededed',GradientType=0 ); /* IE6-9 */\n",
              "            border-radius:72px;\n",
              "            box-shadow: 0px 0px 10px rgba(0,0,0,0.2);\n",
              "        }\n",
              "        \n",
              "\n",
              "        \n",
              "\n",
              "        \n",
              "</style>\n",
              "\n",
              "</head>\n",
              "\n",
              "<body>\n",
              "<div id = \"mynetwork\"></div>\n",
              "\n",
              "<div id=\"loadingBar\">\n",
              "    <div class=\"outerBorder\">\n",
              "        <div id=\"text\">0%</div>\n",
              "        <div id=\"border\">\n",
              "            <div id=\"bar\"></div>\n",
              "        </div>\n",
              "    </div>\n",
              "</div>\n",
              "\n",
              "\n",
              "<script type=\"text/javascript\">\n",
              "\n",
              "    // initialize global variables.\n",
              "    var edges;\n",
              "    var nodes;\n",
              "    var network; \n",
              "    var container;\n",
              "    var options, data;\n",
              "\n",
              "    \n",
              "    // This method is responsible for drawing the graph, returns the drawn network\n",
              "    function drawGraph() {\n",
              "        var container = document.getElementById('mynetwork');\n",
              "        \n",
              "        \n",
              "\n",
              "        // parsing and collecting nodes and edges from the python\n",
              "        nodes = new vis.DataSet([{\"id\": \"McGinty\", \"label\": \"McGinty\", \"shape\": \"dot\", \"title\": \"McGinty Neighbors: \\n-Baldwin\\n-Scanlan\\n-s\\n-Evans\\n-Marvin\\n-Bodymaster\\n-Jack\", \"value\": 7}, {\"id\": \"MacDonald\", \"label\": \"MacDonald\", \"shape\": \"dot\", \"title\": \"MacDonald Neighbors: \\n-s\\n-Alec\\n-Billy\\n-Douglas\", \"value\": 4}, {\"id\": \"McCarthy\", \"label\": \"McCarthy\", \"shape\": \"dot\", \"title\": \"McCarthy Neighbors: \\n-s\\n-Turner\\n-Charles\\n-Lestrade\", \"value\": 4}, {\"id\": \"Robert\", \"label\": \"Robert\", \"shape\": \"dot\", \"title\": \"Robert Neighbors: \\n-s\\n-Watson\", \"value\": 2}, {\"id\": \"Presbury\", \"label\": \"Presbury\", \"shape\": \"dot\", \"title\": \"Presbury Neighbors: \\n-s\\n-Bennett\", \"value\": 2}, {\"id\": \"Harrison\", \"label\": \"Harrison\", \"shape\": \"dot\", \"title\": \"Harrison Neighbors: \\n-s\\n-Charles\\n-Joseph\", \"value\": 3}, {\"id\": \"Jones\", \"label\": \"Jones\", \"shape\": \"dot\", \"title\": \"Jones Neighbors: \\n-Merryweather\\n-Watson\\n-Gregson\\n-s\\n-Lestrade\", \"value\": 5}, {\"id\": \"Adair\", \"label\": \"Adair\", \"shape\": \"dot\", \"title\": \"Adair Neighbors: \\n-Moran\\n-s\\n-Hilda\\n-Charles\", \"value\": 4}, {\"id\": \"Barker\", \"label\": \"Barker\", \"shape\": \"dot\", \"title\": \"Barker Neighbors: \\n-s\\n-Watson\\n-Douglas\", \"value\": 3}, {\"id\": \"Jack\", \"label\": \"Jack\", \"shape\": \"dot\", \"title\": \"Jack Neighbors: \\n-Carruthers\\n-McGinty\\n-Woodley\\n-s\\n-Bennett\\n-Douglas\\n-Bodymaster\", \"value\": 7}, {\"id\": \"Godfrey\", \"label\": \"Godfrey\", \"shape\": \"dot\", \"title\": \"Godfrey Neighbors: \\n-Staunton\\n-s\\n-Henry\\n-Moran\\n-Emsworth\", \"value\": 5}, {\"id\": \"Mycroft\", \"label\": \"Mycroft\", \"shape\": \"dot\", \"title\": \"Mycroft Neighbors: \\n-s\\n-Hudson\\n-Oberstein\\n-Lestrade\", \"value\": 4}, {\"id\": \"Pierrot\", \"label\": \"Pierrot\", \"shape\": \"dot\", \"title\": \"Pierrot Neighbors: \\n-s\", \"value\": 1}, {\"id\": \"Joseph\", \"label\": \"Joseph\", \"shape\": \"dot\", \"title\": \"Joseph Neighbors: \\n-Stangerson\\n-Drebber\\n-s\\n-Charles\\n-Lestrade\\n-Smith\\n-Harrison\", \"value\": 7}, {\"id\": \"Ross\", \"label\": \"Ross\", \"shape\": \"dot\", \"title\": \"Ross Neighbors: \\n-s\\n-Morris\\n-Gregory\\n-William\", \"value\": 4}, {\"id\": \"Lestrade\", \"label\": \"Lestrade\", \"shape\": \"dot\", \"title\": \"Lestrade Neighbors: \\n-Jones\\n-Mycroft\\n-Stangerson\\n-Gregson\\n-McCarthy\\n-s\\n-Joseph\\n-Turner\\n-Hall\", \"value\": 9}, {\"id\": \"Wilder\", \"label\": \"Wilder\", \"shape\": \"dot\", \"title\": \"Wilder Neighbors: \\n-s\\n-Saltire\\n-Grace\", \"value\": 3}, {\"id\": \"Sholto\", \"label\": \"Sholto\", \"shape\": \"dot\", \"title\": \"Sholto Neighbors: \\n-Thaddeus\\n-Watson\\n-Bartholomew\\n-s\\n-Don\", \"value\": 5}, {\"id\": \"Elsie\", \"label\": \"Elsie\", \"shape\": \"dot\", \"title\": \"Elsie Neighbors: \\n-s\", \"value\": 1}, {\"id\": \"Moran\", \"label\": \"Moran\", \"shape\": \"dot\", \"title\": \"Moran Neighbors: \\n-Moriarty\\n-Adair\\n-Roylott\\n-s\\n-Stoner\\n-Godfrey\", \"value\": 6}, {\"id\": \"Peters\", \"label\": \"Peters\", \"shape\": \"dot\", \"title\": \"Peters Neighbors: \\n-s\\n-Henry\", \"value\": 2}, {\"id\": \"Mapleton\", \"label\": \"Mapleton\", \"shape\": \"dot\", \"title\": \"Mapleton Neighbors: \\n-s\\n-Simpson\", \"value\": 2}, {\"id\": \"Coram\", \"label\": \"Coram\", \"shape\": \"dot\", \"title\": \"Coram Neighbors: \\n-s\\n-Watson\", \"value\": 2}, {\"id\": \"Dunbar\", \"label\": \"Dunbar\", \"shape\": \"dot\", \"title\": \"Dunbar Neighbors: \\n-s\\n-Gibson\\n-Grace\", \"value\": 3}, {\"id\": \"Lee\", \"label\": \"Lee\", \"shape\": \"dot\", \"title\": \"Lee Neighbors: \\n-s\", \"value\": 1}, {\"id\": \"Charles\", \"label\": \"Charles\", \"shape\": \"dot\", \"title\": \"Charles Neighbors: \\n-Adair\\n-Mac\\n-George\\n-Stapleton\\n-McCarthy\\n-Joseph\\n-s\\n-Barrymore\\n-Henry\\n-Mortimer\\n-Musgrave\\n-Harrison\\n-Hall\", \"value\": 13}, {\"id\": \"Ettie\", \"label\": \"Ettie\", \"shape\": \"dot\", \"title\": \"Ettie Neighbors: \\n-s\\n-Scanlan\", \"value\": 2}, {\"id\": \"Pinner\", \"label\": \"Pinner\", \"shape\": \"dot\", \"title\": \"Pinner Neighbors: \\n-s\\n-Pycroft\\n-Hall\", \"value\": 3}, {\"id\": \"Merryweather\", \"label\": \"Merryweather\", \"shape\": \"dot\", \"title\": \"Merryweather Neighbors: \\n-s\\n-Jones\", \"value\": 2}, {\"id\": \"Morris\", \"label\": \"Morris\", \"shape\": \"dot\", \"title\": \"Morris Neighbors: \\n-s\\n-Ross\\n-Bodymaster\\n-William\", \"value\": 4}, {\"id\": \"Wilson\", \"label\": \"Wilson\", \"shape\": \"dot\", \"title\": \"Wilson Neighbors: \\n-s\\n-Bartholomew\", \"value\": 2}, {\"id\": \"Carruthers\", \"label\": \"Carruthers\", \"shape\": \"dot\", \"title\": \"Carruthers Neighbors: \\n-Woodley\\n-Watson\\n-s\\n-Williamson\\n-Jack\", \"value\": 5}, {\"id\": \"Hudson\", \"label\": \"Hudson\", \"shape\": \"dot\", \"title\": \"Hudson Neighbors: \\n-Billy\\n-Mycroft\\n-Watson\\n-Gregson\\n-s\\n-Trevor\", \"value\": 6}, {\"id\": \"Mac\", \"label\": \"Mac\", \"shape\": \"dot\", \"title\": \"Mac Neighbors: \\n-s\\n-Scanlan\\n-Charles\", \"value\": 3}, {\"id\": \"Stapleton\", \"label\": \"Stapleton\", \"shape\": \"dot\", \"title\": \"Stapleton Neighbors: \\n-Watson\\n-s\\n-Henry\\n-Charles\\n-Mortimer\\n-Selden\\n-Hall\", \"value\": 7}, {\"id\": \"Burnet\", \"label\": \"Burnet\", \"shape\": \"dot\", \"title\": \"Burnet Neighbors: \\n-s\", \"value\": 1}, {\"id\": \"Moriarty\", \"label\": \"Moriarty\", \"shape\": \"dot\", \"title\": \"Moriarty Neighbors: \\n-Moran\\n-Watson\\n-s\", \"value\": 3}, {\"id\": \"Harker\", \"label\": \"Harker\", \"shape\": \"dot\", \"title\": \"Harker Neighbors: \\n-s\", \"value\": 1}, {\"id\": \"Warren\", \"label\": \"Warren\", \"shape\": \"dot\", \"title\": \"Warren Neighbors: \\n-s\", \"value\": 1}, {\"id\": \"Lucy\", \"label\": \"Lucy\", \"shape\": \"dot\", \"title\": \"Lucy Neighbors: \\n-s\\n-Stangerson\", \"value\": 2}, {\"id\": \"Mary\", \"label\": \"Mary\", \"shape\": \"dot\", \"title\": \"Mary Neighbors: \\n-s\\n-Brackenstall\\n-George\\n-Sarah\", \"value\": 4}, {\"id\": \"Jove\", \"label\": \"Jove\", \"shape\": \"dot\", \"title\": \"Jove Neighbors: \\n-Peterson\\n-s\\n-Watson\", \"value\": 3}, {\"id\": \"Phelps\", \"label\": \"Phelps\", \"shape\": \"dot\", \"title\": \"Phelps Neighbors: \\n-Holdhurst\\n-s\\n-Watson\", \"value\": 3}, {\"id\": \"Henry\", \"label\": \"Henry\", \"shape\": \"dot\", \"title\": \"Henry Neighbors: \\n-Watson\\n-Staunton\\n-Stapleton\\n-s\\n-Barrymore\\n-Peters\\n-Don\\n-Charles\\n-Mortimer\\n-Godfrey\\n-Hall\", \"value\": 11}, {\"id\": \"Brackenstall\", \"label\": \"Brackenstall\", \"shape\": \"dot\", \"title\": \"Brackenstall Neighbors: \\n-s\\n-Mary\\n-Eustace\", \"value\": 3}, {\"id\": \"Trevor\", \"label\": \"Trevor\", \"shape\": \"dot\", \"title\": \"Trevor Neighbors: \\n-s\\n-Watson\\n-Bennett\\n-Hudson\", \"value\": 4}, {\"id\": \"Susan\", \"label\": \"Susan\", \"shape\": \"dot\", \"title\": \"Susan Neighbors: \\n-Smith\\n-s\\n-Cushing\", \"value\": 3}, {\"id\": \"Soames\", \"label\": \"Soames\", \"shape\": \"dot\", \"title\": \"Soames Neighbors: \\n-s\\n-Gilchrist\", \"value\": 2}, {\"id\": \"Alice\", \"label\": \"Alice\", \"shape\": \"dot\", \"title\": \"Alice Neighbors: \\n-s\\n-Rucastle\", \"value\": 2}, {\"id\": \"Blessington\", \"label\": \"Blessington\", \"shape\": \"dot\", \"title\": \"Blessington Neighbors: \\n-s\", \"value\": 1}, {\"id\": \"Gorgiano\", \"label\": \"Gorgiano\", \"shape\": \"dot\", \"title\": \"Gorgiano Neighbors: \\n-s\", \"value\": 1}, {\"id\": \"Cushing\", \"label\": \"Cushing\", \"shape\": \"dot\", \"title\": \"Cushing Neighbors: \\n-s\\n-Susan\\n-Sarah\", \"value\": 3}, {\"id\": \"Mortimer\", \"label\": \"Mortimer\", \"shape\": \"dot\", \"title\": \"Mortimer Neighbors: \\n-Watson\\n-Stapleton\\n-s\\n-Barrymore\\n-Henry\\n-Charles\\n-Smith\\n-Hall\", \"value\": 8}, {\"id\": \"Billy\", \"label\": \"Billy\", \"shape\": \"dot\", \"title\": \"Billy Neighbors: \\n-MacDonald\\n-s\\n-Sylvius\\n-Hudson\", \"value\": 4}, {\"id\": \"Don\", \"label\": \"Don\", \"shape\": \"dot\", \"title\": \"Don Neighbors: \\n-Watson\\n-s\\n-Gibson\\n-Pycroft\\n-Henry\\n-Sholto\\n-Marvin\", \"value\": 7}, {\"id\": \"Drebber\", \"label\": \"Drebber\", \"shape\": \"dot\", \"title\": \"Drebber Neighbors: \\n-Gregson\\n-s\\n-Stangerson\\n-Joseph\", \"value\": 4}, {\"id\": \"Peterson\", \"label\": \"Peterson\", \"shape\": \"dot\", \"title\": \"Peterson Neighbors: \\n-s\\n-Jove\", \"value\": 2}, {\"id\": \"Musgrave\", \"label\": \"Musgrave\", \"shape\": \"dot\", \"title\": \"Musgrave Neighbors: \\n-s\\n-Watson\\n-Charles\", \"value\": 3}, {\"id\": \"bush\", \"label\": \"bush\", \"shape\": \"dot\", \"title\": \"bush Neighbors: \\n-s\", \"value\": 1}, {\"id\": \"Woodley\", \"label\": \"Woodley\", \"shape\": \"dot\", \"title\": \"Woodley Neighbors: \\n-Carruthers\\n-s\\n-Williamson\\n-Smith\\n-Jack\\n-Hall\", \"value\": 6}, {\"id\": \"Staunton\", \"label\": \"Staunton\", \"shape\": \"dot\", \"title\": \"Staunton Neighbors: \\n-s\\n-Godfrey\\n-Henry\", \"value\": 3}, {\"id\": \"Pycroft\", \"label\": \"Pycroft\", \"shape\": \"dot\", \"title\": \"Pycroft Neighbors: \\n-Pinner\\n-s\\n-Don\\n-Mawson\\n-Hall\", \"value\": 5}, {\"id\": \"Acton\", \"label\": \"Acton\", \"shape\": \"dot\", \"title\": \"Acton Neighbors: \\n-s\\n-William\", \"value\": 2}, {\"id\": \"Lucas\", \"label\": \"Lucas\", \"shape\": \"dot\", \"title\": \"Lucas Neighbors: \\n-s\\n-Oberstein\", \"value\": 2}, {\"id\": \"Hunter\", \"label\": \"Hunter\", \"shape\": \"dot\", \"title\": \"Hunter Neighbors: \\n-s\\n-Watson\\n-Stoper\\n-Rucastle\", \"value\": 4}, {\"id\": \"Bartholomew\", \"label\": \"Bartholomew\", \"shape\": \"dot\", \"title\": \"Bartholomew Neighbors: \\n-Sholto\\n-s\\n-Wilson\", \"value\": 3}, {\"id\": \"Bennett\", \"label\": \"Bennett\", \"shape\": \"dot\", \"title\": \"Bennett Neighbors: \\n-Watson\\n-s\\n-Trevor\\n-Presbury\\n-Jack\", \"value\": 5}, {\"id\": \"Gennaro\", \"label\": \"Gennaro\", \"shape\": \"dot\", \"title\": \"Gennaro Neighbors: \\n-s\", \"value\": 1}, {\"id\": \"Gregson\", \"label\": \"Gregson\", \"shape\": \"dot\", \"title\": \"Gregson Neighbors: \\n-Jones\\n-Hudson\\n-Drebber\\n-Watson\\n-s\\n-Garcia\\n-Lestrade\", \"value\": 7}, {\"id\": \"Marvin\", \"label\": \"Marvin\", \"shape\": \"dot\", \"title\": \"Marvin Neighbors: \\n-Don\\n-McGinty\", \"value\": 2}, {\"id\": \"Neligan\", \"label\": \"Neligan\", \"shape\": \"dot\", \"title\": \"Neligan Neighbors: \\n-s\", \"value\": 1}, {\"id\": \"Pompey\", \"label\": \"Pompey\", \"shape\": \"dot\", \"title\": \"Pompey Neighbors: \\n-s\", \"value\": 1}, {\"id\": \"Stangerson\", \"label\": \"Stangerson\", \"shape\": \"dot\", \"title\": \"Stangerson Neighbors: \\n-Drebber\\n-Lucy\\n-s\\n-Joseph\\n-Lestrade\", \"value\": 5}, {\"id\": \"Smith\", \"label\": \"Smith\", \"shape\": \"dot\", \"title\": \"Smith Neighbors: \\n-Woodley\\n-Susan\\n-Watson\\n-s\\n-Joseph\\n-Mortimer\", \"value\": 6}, {\"id\": \"Saltire\", \"label\": \"Saltire\", \"shape\": \"dot\", \"title\": \"Saltire Neighbors: \\n-Wilder\\n-s\", \"value\": 2}, {\"id\": \"Openshaw\", \"label\": \"Openshaw\", \"shape\": \"dot\", \"title\": \"Openshaw Neighbors: \\n-s\", \"value\": 1}, {\"id\": \"Leonardo\", \"label\": \"Leonardo\", \"shape\": \"dot\", \"title\": \"Leonardo Neighbors: \\n-s\", \"value\": 1}, {\"id\": \"Alec\", \"label\": \"Alec\", \"shape\": \"dot\", \"title\": \"Alec Neighbors: \\n-MacDonald\\n-s\\n-William\", \"value\": 3}, {\"id\": \"s\", \"label\": \"s\", \"shape\": \"dot\", \"title\": \"s Neighbors: \\n-Lucas\\n-Pierrot\\n-Susan\\n-Cornish\\n-Grace\\n-Stoner\\n-Gibson\\n-Bennett\\n-Gorgiano\\n-Turner\\n-MacDonald\\n-Elsie\\n-Rucastle\\n-Bartholomew\\n-McCarthy\\n-Ettie\\n-Bodymaster\\n-Gilchrist\\n-Adair\\n-Morris\\n-Stapleton\\n-Alec\\n-Sarah\\n-Moriarty\\n-bush\\n-Watson\\n-Robert\\n-Cushing\\n-Openshaw\\n-Neligan\\n-Horner\\n-Saltire\\n-George\\n-Warren\\n-Godfrey\\n-Toby\\n-Wilson\\n-Brackenstall\\n-Soames\\n-Gregson\\n-Selden\\n-Phelps\\n-Hall\\n-Thaddeus\\n-Billy\\n-Burnet\\n-Woodley\\n-William\\n-Peters\\n-Mortimer\\n-Mapleton\\n-Carruthers\\n-Merryweather\\n-Gennaro\\n-Acton\\n-Barrymore\\n-Don\\n-Garrideb\\n-Pinner\\n-Oberstein\\n-Hudson\\n-Henry\\n-Harker\\n-Pompey\\n-McGinty\\n-Wilder\\n-Alice\\n-Trevor\\n-Smith\\n-Harrison\\n-Emsworth\\n-Hayes\\n-Martha\\n-Scanlan\\n-Mary\\n-Simpson\\n-Charles\\n-Williamson\\n-Coram\\n-Ross\\n-Stangerson\\n-Drebber\\n-Roylott\\n-Pycroft\\n-Barclay\\n-Musgrave\\n-Jack\\n-Jones\\n-Evans\\n-Douglas\\n-Peterson\\n-Blessington\\n-Presbury\\n-Dunbar\\n-Holdhurst\\n-Mycroft\\n-Barker\\n-Lucy\\n-Staunton\\n-Leonardo\\n-Hunter\\n-Garcia\\n-Browner\\n-Mawson\\n-Joseph\\n-Sholto\\n-Lestrade\\n-Eustace\\n-Frank\\n-Hilda\\n-Beppo\\n-Mac\\n-Moran\\n-Jove\\n-Lee\\n-Baldwin\", \"value\": 116}, {\"id\": \"Toby\", \"label\": \"Toby\", \"shape\": \"dot\", \"title\": \"Toby Neighbors: \\n-s\", \"value\": 1}, {\"id\": \"Evans\", \"label\": \"Evans\", \"shape\": \"dot\", \"title\": \"Evans Neighbors: \\n-s\\n-Scanlan\\n-McGinty\", \"value\": 3}, {\"id\": \"Sylvius\", \"label\": \"Sylvius\", \"shape\": \"dot\", \"title\": \"Sylvius Neighbors: \\n-Billy\", \"value\": 1}, {\"id\": \"Stoner\", \"label\": \"Stoner\", \"shape\": \"dot\", \"title\": \"Stoner Neighbors: \\n-Moran\\n-s\\n-Roylott\", \"value\": 3}, {\"id\": \"Bodymaster\", \"label\": \"Bodymaster\", \"shape\": \"dot\", \"title\": \"Bodymaster Neighbors: \\n-McGinty\\n-Morris\\n-s\\n-Baldwin\\n-Jack\", \"value\": 5}, {\"id\": \"Eustace\", \"label\": \"Eustace\", \"shape\": \"dot\", \"title\": \"Eustace Neighbors: \\n-s\\n-Brackenstall\\n-George\", \"value\": 3}, {\"id\": \"Watson\", \"label\": \"Watson\", \"shape\": \"dot\", \"title\": \"Watson Neighbors: \\n-Carruthers\\n-Coram\\n-Cornish\\n-Grace\\n-Gibson\\n-Bennett\\n-Don\\n-Musgrave\\n-Garrideb\\n-Jones\\n-Rucastle\\n-George\\n-Hudson\\n-s\\n-Henry\\n-Holdhurst\\n-Barker\\n-Stapleton\\n-Gregson\\n-Trevor\\n-Hunter\\n-Mawson\\n-Phelps\\n-Sholto\\n-Smith\\n-Hall\\n-Thaddeus\\n-Moriarty\\n-Mortimer\\n-Jove\\n-Robert\", \"value\": 31}, {\"id\": \"Garcia\", \"label\": \"Garcia\", \"shape\": \"dot\", \"title\": \"Garcia Neighbors: \\n-Gregson\\n-s\", \"value\": 2}, {\"id\": \"Holdhurst\", \"label\": \"Holdhurst\", \"shape\": \"dot\", \"title\": \"Holdhurst Neighbors: \\n-Phelps\\n-s\\n-Watson\", \"value\": 3}, {\"id\": \"Scanlan\", \"label\": \"Scanlan\", \"shape\": \"dot\", \"title\": \"Scanlan Neighbors: \\n-Ettie\\n-McGinty\\n-s\\n-Evans\\n-Mac\", \"value\": 5}, {\"id\": \"Roylott\", \"label\": \"Roylott\", \"shape\": \"dot\", \"title\": \"Roylott Neighbors: \\n-Moran\\n-Stoner\\n-s\", \"value\": 3}, {\"id\": \"Frank\", \"label\": \"Frank\", \"shape\": \"dot\", \"title\": \"Frank Neighbors: \\n-s\", \"value\": 1}, {\"id\": \"Mawson\", \"label\": \"Mawson\", \"shape\": \"dot\", \"title\": \"Mawson Neighbors: \\n-s\\n-Watson\\n-Pycroft\\n-Hall\", \"value\": 4}, {\"id\": \"Rucastle\", \"label\": \"Rucastle\", \"shape\": \"dot\", \"title\": \"Rucastle Neighbors: \\n-Watson\\n-Alice\\n-s\\n-Hunter\\n-Toller\", \"value\": 5}, {\"id\": \"Oberstein\", \"label\": \"Oberstein\", \"shape\": \"dot\", \"title\": \"Oberstein Neighbors: \\n-Lucas\\n-s\\n-George\\n-Mycroft\", \"value\": 4}, {\"id\": \"Toller\", \"label\": \"Toller\", \"shape\": \"dot\", \"title\": \"Toller Neighbors: \\n-Rucastle\", \"value\": 1}, {\"id\": \"Horner\", \"label\": \"Horner\", \"shape\": \"dot\", \"title\": \"Horner Neighbors: \\n-s\", \"value\": 1}, {\"id\": \"Simpson\", \"label\": \"Simpson\", \"shape\": \"dot\", \"title\": \"Simpson Neighbors: \\n-s\\n-Mapleton\", \"value\": 2}, {\"id\": \"Baldwin\", \"label\": \"Baldwin\", \"shape\": \"dot\", \"title\": \"Baldwin Neighbors: \\n-s\\n-Bodymaster\\n-McGinty\", \"value\": 3}, {\"id\": \"Barrymore\", \"label\": \"Barrymore\", \"shape\": \"dot\", \"title\": \"Barrymore Neighbors: \\n-s\\n-Henry\\n-Charles\\n-Mortimer\\n-Selden\\n-Hall\", \"value\": 6}, {\"id\": \"Hall\", \"label\": \"Hall\", \"shape\": \"dot\", \"title\": \"Hall Neighbors: \\n-Pinner\\n-George\\n-Woodley\\n-Watson\\n-Stapleton\\n-s\\n-Barrymore\\n-Pycroft\\n-Henry\\n-Charles\\n-Lestrade\\n-Mawson\\n-Mortimer\\n-Turner\\n-Williamson\", \"value\": 15}, {\"id\": \"Barclay\", \"label\": \"Barclay\", \"shape\": \"dot\", \"title\": \"Barclay Neighbors: \\n-s\\n-George\", \"value\": 2}, {\"id\": \"Browner\", \"label\": \"Browner\", \"shape\": \"dot\", \"title\": \"Browner Neighbors: \\n-s\\n-Sarah\", \"value\": 2}, {\"id\": \"Thaddeus\", \"label\": \"Thaddeus\", \"shape\": \"dot\", \"title\": \"Thaddeus Neighbors: \\n-Sholto\\n-Watson\\n-s\", \"value\": 3}, {\"id\": \"William\", \"label\": \"William\", \"shape\": \"dot\", \"title\": \"William Neighbors: \\n-Ross\\n-Morris\\n-Acton\\n-s\\n-Alec\\n-Turner\", \"value\": 6}, {\"id\": \"Hayes\", \"label\": \"Hayes\", \"shape\": \"dot\", \"title\": \"Hayes Neighbors: \\n-s\", \"value\": 1}, {\"id\": \"George\", \"label\": \"George\", \"shape\": \"dot\", \"title\": \"George Neighbors: \\n-Eustace\\n-Oberstein\\n-Watson\\n-Mary\\n-s\\n-Barclay\\n-Charles\\n-Hall\", \"value\": 8}, {\"id\": \"Cornish\", \"label\": \"Cornish\", \"shape\": \"dot\", \"title\": \"Cornish Neighbors: \\n-s\\n-Watson\", \"value\": 2}, {\"id\": \"Gregory\", \"label\": \"Gregory\", \"shape\": \"dot\", \"title\": \"Gregory Neighbors: \\n-Ross\", \"value\": 1}, {\"id\": \"Martha\", \"label\": \"Martha\", \"shape\": \"dot\", \"title\": \"Martha Neighbors: \\n-s\", \"value\": 1}, {\"id\": \"Selden\", \"label\": \"Selden\", \"shape\": \"dot\", \"title\": \"Selden Neighbors: \\n-s\\n-Barrymore\\n-Stapleton\", \"value\": 3}, {\"id\": \"Grace\", \"label\": \"Grace\", \"shape\": \"dot\", \"title\": \"Grace Neighbors: \\n-Wilder\\n-s\\n-Watson\\n-Dunbar\", \"value\": 4}, {\"id\": \"Williamson\", \"label\": \"Williamson\", \"shape\": \"dot\", \"title\": \"Williamson Neighbors: \\n-Carruthers\\n-s\\n-Woodley\\n-Hall\", \"value\": 4}, {\"id\": \"Emsworth\", \"label\": \"Emsworth\", \"shape\": \"dot\", \"title\": \"Emsworth Neighbors: \\n-s\\n-Godfrey\", \"value\": 2}, {\"id\": \"Turner\", \"label\": \"Turner\", \"shape\": \"dot\", \"title\": \"Turner Neighbors: \\n-McCarthy\\n-s\\n-William\\n-Lestrade\\n-Hall\", \"value\": 5}, {\"id\": \"Douglas\", \"label\": \"Douglas\", \"shape\": \"dot\", \"title\": \"Douglas Neighbors: \\n-MacDonald\\n-s\\n-Jack\\n-Barker\", \"value\": 4}, {\"id\": \"Stoper\", \"label\": \"Stoper\", \"shape\": \"dot\", \"title\": \"Stoper Neighbors: \\n-Hunter\", \"value\": 1}, {\"id\": \"Gibson\", \"label\": \"Gibson\", \"shape\": \"dot\", \"title\": \"Gibson Neighbors: \\n-s\\n-Watson\\n-Don\\n-Dunbar\", \"value\": 4}, {\"id\": \"Sarah\", \"label\": \"Sarah\", \"shape\": \"dot\", \"title\": \"Sarah Neighbors: \\n-s\\n-Cushing\\n-Mary\\n-Browner\", \"value\": 4}, {\"id\": \"Beppo\", \"label\": \"Beppo\", \"shape\": \"dot\", \"title\": \"Beppo Neighbors: \\n-s\", \"value\": 1}, {\"id\": \"Gilchrist\", \"label\": \"Gilchrist\", \"shape\": \"dot\", \"title\": \"Gilchrist Neighbors: \\n-s\\n-Soames\", \"value\": 2}, {\"id\": \"Garrideb\", \"label\": \"Garrideb\", \"shape\": \"dot\", \"title\": \"Garrideb Neighbors: \\n-s\\n-Watson\", \"value\": 2}, {\"id\": \"Hilda\", \"label\": \"Hilda\", \"shape\": \"dot\", \"title\": \"Hilda Neighbors: \\n-s\\n-Adair\", \"value\": 2}]);\n",
              "        edges = new vis.DataSet([{\"from\": \"Harrison\", \"to\": \"Joseph\", \"width\": 14}, {\"from\": \"Jack\", \"to\": \"McGinty\", \"width\": 5}, {\"from\": \"McCarthy\", \"to\": \"Charles\", \"width\": 2}, {\"from\": \"McCarthy\", \"to\": \"Lestrade\", \"width\": 2}, {\"from\": \"Harrison\", \"to\": \"Charles\", \"width\": 2}, {\"from\": \"Joseph\", \"to\": \"Charles\", \"width\": 2}, {\"from\": \"Godfrey\", \"to\": \"Moran\", \"width\": 2}, {\"from\": \"Adair\", \"to\": \"Moran\", \"width\": 3}, {\"from\": \"Mycroft\", \"to\": \"Lestrade\", \"width\": 3}, {\"from\": \"Joseph\", \"to\": \"Lestrade\", \"width\": 2}, {\"from\": \"Jack\", \"to\": \"Carruthers\", \"width\": 2}, {\"from\": \"Jones\", \"to\": \"Merryweather\", \"width\": 1}, {\"from\": \"Mycroft\", \"to\": \"Hudson\", \"width\": 1}, {\"from\": \"Joseph\", \"to\": \"Drebber\", \"width\": 2}, {\"from\": \"MacDonald\", \"to\": \"Billy\", \"width\": 1}, {\"from\": \"Jack\", \"to\": \"Woodley\", \"width\": 4}, {\"from\": \"Godfrey\", \"to\": \"Staunton\", \"width\": 20}, {\"from\": \"Joseph\", \"to\": \"Stangerson\", \"width\": 6}, {\"from\": \"Jack\", \"to\": \"Bennett\", \"width\": 1}, {\"from\": \"Adair\", \"to\": \"s\", \"width\": 2}, {\"from\": \"Godfrey\", \"to\": \"s\", \"width\": 10}, {\"from\": \"Joseph\", \"to\": \"Smith\", \"width\": 2}, {\"from\": \"Barker\", \"to\": \"s\", \"width\": 8}, {\"from\": \"Barker\", \"to\": \"Watson\", \"width\": 2}, {\"from\": \"Jack\", \"to\": \"Bodymaster\", \"width\": 2}, {\"from\": \"Jack\", \"to\": \"s\", \"width\": 2}, {\"from\": \"Mycroft\", \"to\": \"Oberstein\", \"width\": 1}, {\"from\": \"McCarthy\", \"to\": \"Turner\", \"width\": 6}, {\"from\": \"Barker\", \"to\": \"Douglas\", \"width\": 9}, {\"from\": \"MacDonald\", \"to\": \"Douglas\", \"width\": 1}, {\"from\": \"Jack\", \"to\": \"Douglas\", \"width\": 2}, {\"from\": \"Adair\", \"to\": \"Hilda\", \"width\": 1}, {\"from\": \"Godfrey\", \"to\": \"Emsworth\", \"width\": 4}, {\"from\": \"Charles\", \"to\": \"Adair\", \"width\": 1}, {\"from\": \"Lestrade\", \"to\": \"Jones\", \"width\": 1}, {\"from\": \"Ross\", \"to\": \"Morris\", \"width\": 2}, {\"from\": \"Peters\", \"to\": \"Henry\", \"width\": 1}, {\"from\": \"Charles\", \"to\": \"Mortimer\", \"width\": 3}, {\"from\": \"Lestrade\", \"to\": \"Stangerson\", \"width\": 2}, {\"from\": \"Sholto\", \"to\": \"Bartholomew\", \"width\": 1}, {\"from\": \"Mapleton\", \"to\": \"s\", \"width\": 4}, {\"from\": \"Wilder\", \"to\": \"Saltire\", \"width\": 2}, {\"from\": \"Lee\", \"to\": \"s\", \"width\": 4}, {\"from\": \"Ettie\", \"to\": \"s\", \"width\": 1}, {\"from\": \"Ettie\", \"to\": \"Scanlan\", \"width\": 1}, {\"from\": \"Ross\", \"to\": \"s\", \"width\": 4}, {\"from\": \"Dunbar\", \"to\": \"s\", \"width\": 2}, {\"from\": \"Moran\", \"to\": \"Roylott\", \"width\": 5}, {\"from\": \"Sholto\", \"to\": \"Thaddeus\", \"width\": 6}, {\"from\": \"Charles\", \"to\": \"Hall\", \"width\": 3}, {\"from\": \"Lestrade\", \"to\": \"Hall\", \"width\": 1}, {\"from\": \"Lestrade\", \"to\": \"Turner\", \"width\": 2}, {\"from\": \"Ross\", \"to\": \"Gregory\", \"width\": 2}, {\"from\": \"Dunbar\", \"to\": \"Grace\", \"width\": 1}, {\"from\": \"Dunbar\", \"to\": \"Gibson\", \"width\": 2}, {\"from\": \"Stapleton\", \"to\": \"Charles\", \"width\": 3}, {\"from\": \"Mac\", \"to\": \"Charles\", \"width\": 1}, {\"from\": \"Moriarty\", \"to\": \"Moran\", \"width\": 1}, {\"from\": \"Hudson\", \"to\": \"Trevor\", \"width\": 2}, {\"from\": \"Stapleton\", \"to\": \"Henry\", \"width\": 10}, {\"from\": \"Stapleton\", \"to\": \"Mortimer\", \"width\": 1}, {\"from\": \"Hudson\", \"to\": \"Billy\", \"width\": 1}, {\"from\": \"Pinner\", \"to\": \"Pycroft\", \"width\": 2}, {\"from\": \"Carruthers\", \"to\": \"Woodley\", \"width\": 8}, {\"from\": \"Lucy\", \"to\": \"Stangerson\", \"width\": 1}, {\"from\": \"Wilson\", \"to\": \"Bartholomew\", \"width\": 1}, {\"from\": \"Wilson\", \"to\": \"s\", \"width\": 3}, {\"from\": \"Merryweather\", \"to\": \"s\", \"width\": 2}, {\"from\": \"Pinner\", \"to\": \"s\", \"width\": 1}, {\"from\": \"Hudson\", \"to\": \"s\", \"width\": 10}, {\"from\": \"Moriarty\", \"to\": \"Watson\", \"width\": 4}, {\"from\": \"Moriarty\", \"to\": \"s\", \"width\": 5}, {\"from\": \"Hudson\", \"to\": \"Watson\", \"width\": 2}, {\"from\": \"Lucy\", \"to\": \"s\", \"width\": 8}, {\"from\": \"Stapleton\", \"to\": \"s\", \"width\": 13}, {\"from\": \"Stapleton\", \"to\": \"Watson\", \"width\": 1}, {\"from\": \"Pinner\", \"to\": \"Hall\", \"width\": 1}, {\"from\": \"Stapleton\", \"to\": \"Hall\", \"width\": 2}, {\"from\": \"Carruthers\", \"to\": \"Williamson\", \"width\": 8}, {\"from\": \"Stapleton\", \"to\": \"Selden\", \"width\": 1}, {\"from\": \"Mary\", \"to\": \"George\", \"width\": 1}, {\"from\": \"Henry\", \"to\": \"Godfrey\", \"width\": 2}, {\"from\": \"Don\", \"to\": \"Sholto\", \"width\": 1}, {\"from\": \"Henry\", \"to\": \"Charles\", \"width\": 1}, {\"from\": \"Brackenstall\", \"to\": \"Mary\", \"width\": 2}, {\"from\": \"Susan\", \"to\": \"Cushing\", \"width\": 1}, {\"from\": \"Henry\", \"to\": \"Mortimer\", \"width\": 9}, {\"from\": \"Don\", \"to\": \"Henry\", \"width\": 1}, {\"from\": \"Jove\", \"to\": \"Peterson\", \"width\": 2}, {\"from\": \"Don\", \"to\": \"Pycroft\", \"width\": 2}, {\"from\": \"Don\", \"to\": \"Marvin\", \"width\": 1}, {\"from\": \"Jove\", \"to\": \"Watson\", \"width\": 2}, {\"from\": \"Soames\", \"to\": \"s\", \"width\": 6}, {\"from\": \"Susan\", \"to\": \"Smith\", \"width\": 2}, {\"from\": \"Brackenstall\", \"to\": \"Eustace\", \"width\": 3}, {\"from\": \"Cushing\", \"to\": \"s\", \"width\": 2}, {\"from\": \"Gorgiano\", \"to\": \"s\", \"width\": 1}, {\"from\": \"Don\", \"to\": \"Watson\", \"width\": 3}, {\"from\": \"Drebber\", \"to\": \"s\", \"width\": 5}, {\"from\": \"Jove\", \"to\": \"s\", \"width\": 3}, {\"from\": \"Don\", \"to\": \"s\", \"width\": 4}, {\"from\": \"Henry\", \"to\": \"s\", \"width\": 2}, {\"from\": \"Phelps\", \"to\": \"Watson\", \"width\": 1}, {\"from\": \"Susan\", \"to\": \"s\", \"width\": 3}, {\"from\": \"Billy\", \"to\": \"Sylvius\", \"width\": 1}, {\"from\": \"Alice\", \"to\": \"Rucastle\", \"width\": 2}, {\"from\": \"Henry\", \"to\": \"Hall\", \"width\": 4}, {\"from\": \"Mortimer\", \"to\": \"Hall\", \"width\": 3}, {\"from\": \"Henry\", \"to\": \"Barrymore\", \"width\": 2}, {\"from\": \"Soames\", \"to\": \"Gilchrist\", \"width\": 2}, {\"from\": \"Cushing\", \"to\": \"Sarah\", \"width\": 5}, {\"from\": \"Don\", \"to\": \"Gibson\", \"width\": 2}, {\"from\": \"Gregson\", \"to\": \"Jones\", \"width\": 1}, {\"from\": \"Marvin\", \"to\": \"McGinty\", \"width\": 2}, {\"from\": \"Bennett\", \"to\": \"Presbury\", \"width\": 1}, {\"from\": \"Musgrave\", \"to\": \"Charles\", \"width\": 2}, {\"from\": \"Gregson\", \"to\": \"Lestrade\", \"width\": 15}, {\"from\": \"Gregson\", \"to\": \"Hudson\", \"width\": 2}, {\"from\": \"Staunton\", \"to\": \"Henry\", \"width\": 2}, {\"from\": \"Stangerson\", \"to\": \"Drebber\", \"width\": 17}, {\"from\": \"Gregson\", \"to\": \"Drebber\", \"width\": 1}, {\"from\": \"Bennett\", \"to\": \"Trevor\", \"width\": 1}, {\"from\": \"Hunter\", \"to\": \"s\", \"width\": 2}, {\"from\": \"Musgrave\", \"to\": \"s\", \"width\": 1}, {\"from\": \"Acton\", \"to\": \"s\", \"width\": 6}, {\"from\": \"Neligan\", \"to\": \"s\", \"width\": 2}, {\"from\": \"Staunton\", \"to\": \"s\", \"width\": 4}, {\"from\": \"Pompey\", \"to\": \"s\", \"width\": 4}, {\"from\": \"Lucas\", \"to\": \"s\", \"width\": 2}, {\"from\": \"Gregson\", \"to\": \"Garcia\", \"width\": 2}, {\"from\": \"Gregson\", \"to\": \"s\", \"width\": 11}, {\"from\": \"Stangerson\", \"to\": \"s\", \"width\": 2}, {\"from\": \"Bartholomew\", \"to\": \"s\", \"width\": 3}, {\"from\": \"Hunter\", \"to\": \"Watson\", \"width\": 1}, {\"from\": \"Musgrave\", \"to\": \"Watson\", \"width\": 3}, {\"from\": \"Bennett\", \"to\": \"Watson\", \"width\": 1}, {\"from\": \"Bennett\", \"to\": \"s\", \"width\": 1}, {\"from\": \"Hunter\", \"to\": \"Rucastle\", \"width\": 2}, {\"from\": \"Pycroft\", \"to\": \"Hall\", \"width\": 19}, {\"from\": \"Woodley\", \"to\": \"Hall\", \"width\": 2}, {\"from\": \"Hunter\", \"to\": \"Stoper\", \"width\": 2}, {\"from\": \"Watson\", \"to\": \"Jones\", \"width\": 3}, {\"from\": \"s\", \"to\": \"McCarthy\", \"width\": 10}, {\"from\": \"s\", \"to\": \"Mycroft\", \"width\": 10}, {\"from\": \"s\", \"to\": \"Harrison\", \"width\": 6}, {\"from\": \"s\", \"to\": \"Joseph\", \"width\": 6}, {\"from\": \"s\", \"to\": \"Pierrot\", \"width\": 2}, {\"from\": \"s\", \"to\": \"Jones\", \"width\": 8}, {\"from\": \"Alec\", \"to\": \"MacDonald\", \"width\": 1}, {\"from\": \"s\", \"to\": \"MacDonald\", \"width\": 5}, {\"from\": \"Bodymaster\", \"to\": \"McGinty\", \"width\": 6}, {\"from\": \"s\", \"to\": \"McGinty\", \"width\": 16}, {\"from\": \"Evans\", \"to\": \"McGinty\", \"width\": 1}, {\"from\": \"Scanlan\", \"to\": \"McGinty\", \"width\": 2}, {\"from\": \"s\", \"to\": \"Presbury\", \"width\": 3}, {\"from\": \"s\", \"to\": \"Robert\", \"width\": 9}, {\"from\": \"Watson\", \"to\": \"Robert\", \"width\": 2}, {\"from\": \"s\", \"to\": \"Lestrade\", \"width\": 38}, {\"from\": \"Stoner\", \"to\": \"Moran\", \"width\": 2}, {\"from\": \"s\", \"to\": \"Moran\", \"width\": 4}, {\"from\": \"s\", \"to\": \"Elsie\", \"width\": 2}, {\"from\": \"s\", \"to\": \"Wilder\", \"width\": 8}, {\"from\": \"Watson\", \"to\": \"Coram\", \"width\": 2}, {\"from\": \"s\", \"to\": \"Coram\", \"width\": 2}, {\"from\": \"s\", \"to\": \"Peters\", \"width\": 2}, {\"from\": \"s\", \"to\": \"Sholto\", \"width\": 11}, {\"from\": \"Watson\", \"to\": \"Sholto\", \"width\": 1}, {\"from\": \"s\", \"to\": \"Charles\", \"width\": 28}, {\"from\": \"s\", \"to\": \"Mary\", \"width\": 18}, {\"from\": \"s\", \"to\": \"Carruthers\", \"width\": 2}, {\"from\": \"s\", \"to\": \"Harker\", \"width\": 6}, {\"from\": \"Watson\", \"to\": \"Carruthers\", \"width\": 2}, {\"from\": \"s\", \"to\": \"Burnet\", \"width\": 2}, {\"from\": \"s\", \"to\": \"Warren\", \"width\": 14}, {\"from\": \"s\", \"to\": \"Mac\", \"width\": 1}, {\"from\": \"s\", \"to\": \"Morris\", \"width\": 2}, {\"from\": \"Bodymaster\", \"to\": \"Morris\", \"width\": 2}, {\"from\": \"Scanlan\", \"to\": \"Mac\", \"width\": 1}, {\"from\": \"s\", \"to\": \"Mortimer\", \"width\": 17}, {\"from\": \"s\", \"to\": \"Alice\", \"width\": 9}, {\"from\": \"s\", \"to\": \"Trevor\", \"width\": 2}, {\"from\": \"Watson\", \"to\": \"Trevor\", \"width\": 3}, {\"from\": \"s\", \"to\": \"Blessington\", \"width\": 12}, {\"from\": \"s\", \"to\": \"Phelps\", \"width\": 6}, {\"from\": \"Holdhurst\", \"to\": \"Phelps\", \"width\": 2}, {\"from\": \"Smith\", \"to\": \"Mortimer\", \"width\": 2}, {\"from\": \"s\", \"to\": \"Brackenstall\", \"width\": 2}, {\"from\": \"Watson\", \"to\": \"Henry\", \"width\": 1}, {\"from\": \"Watson\", \"to\": \"Mortimer\", \"width\": 1}, {\"from\": \"s\", \"to\": \"Billy\", \"width\": 1}, {\"from\": \"s\", \"to\": \"Peterson\", \"width\": 2}, {\"from\": \"s\", \"to\": \"bush\", \"width\": 4}, {\"from\": \"s\", \"to\": \"Pycroft\", \"width\": 6}, {\"from\": \"s\", \"to\": \"Woodley\", \"width\": 2}, {\"from\": \"Smith\", \"to\": \"Woodley\", \"width\": 2}, {\"from\": \"s\", \"to\": \"Gennaro\", \"width\": 6}, {\"from\": \"Watson\", \"to\": \"Gregson\", \"width\": 1}, {\"from\": \"s\", \"to\": \"Watson\", \"width\": 58}, {\"from\": \"s\", \"to\": \"Openshaw\", \"width\": 2}, {\"from\": \"Stoner\", \"to\": \"s\", \"width\": 1}, {\"from\": \"s\", \"to\": \"Eustace\", \"width\": 2}, {\"from\": \"Alec\", \"to\": \"s\", \"width\": 4}, {\"from\": \"s\", \"to\": \"Holdhurst\", \"width\": 1}, {\"from\": \"Watson\", \"to\": \"Holdhurst\", \"width\": 1}, {\"from\": \"Smith\", \"to\": \"s\", \"width\": 2}, {\"from\": \"Watson\", \"to\": \"Smith\", \"width\": 3}, {\"from\": \"s\", \"to\": \"Saltire\", \"width\": 12}, {\"from\": \"Garcia\", \"to\": \"s\", \"width\": 8}, {\"from\": \"s\", \"to\": \"Toby\", \"width\": 2}, {\"from\": \"s\", \"to\": \"Bodymaster\", \"width\": 2}, {\"from\": \"s\", \"to\": \"Evans\", \"width\": 2}, {\"from\": \"s\", \"to\": \"Scanlan\", \"width\": 3}, {\"from\": \"Evans\", \"to\": \"Scanlan\", \"width\": 1}, {\"from\": \"s\", \"to\": \"Leonardo\", \"width\": 2}, {\"from\": \"s\", \"to\": \"Hall\", \"width\": 16}, {\"from\": \"s\", \"to\": \"Horner\", \"width\": 2}, {\"from\": \"Stoner\", \"to\": \"Roylott\", \"width\": 4}, {\"from\": \"s\", \"to\": \"Roylott\", \"width\": 14}, {\"from\": \"s\", \"to\": \"Rucastle\", \"width\": 10}, {\"from\": \"Watson\", \"to\": \"Rucastle\", \"width\": 2}, {\"from\": \"s\", \"to\": \"Simpson\", \"width\": 4}, {\"from\": \"s\", \"to\": \"Mawson\", \"width\": 29}, {\"from\": \"Watson\", \"to\": \"Mawson\", \"width\": 2}, {\"from\": \"s\", \"to\": \"Barclay\", \"width\": 5}, {\"from\": \"s\", \"to\": \"Hayes\", \"width\": 2}, {\"from\": \"s\", \"to\": \"Browner\", \"width\": 2}, {\"from\": \"Watson\", \"to\": \"Hall\", \"width\": 2}, {\"from\": \"s\", \"to\": \"Barrymore\", \"width\": 6}, {\"from\": \"s\", \"to\": \"Baldwin\", \"width\": 5}, {\"from\": \"Bodymaster\", \"to\": \"Baldwin\", \"width\": 1}, {\"from\": \"s\", \"to\": \"Frank\", \"width\": 2}, {\"from\": \"s\", \"to\": \"Oberstein\", \"width\": 1}, {\"from\": \"s\", \"to\": \"Turner\", \"width\": 4}, {\"from\": \"s\", \"to\": \"George\", \"width\": 6}, {\"from\": \"s\", \"to\": \"Williamson\", \"width\": 2}, {\"from\": \"s\", \"to\": \"Grace\", \"width\": 11}, {\"from\": \"Watson\", \"to\": \"Grace\", \"width\": 1}, {\"from\": \"s\", \"to\": \"Beppo\", \"width\": 4}, {\"from\": \"s\", \"to\": \"Gilchrist\", \"width\": 1}, {\"from\": \"s\", \"to\": \"Sarah\", \"width\": 10}, {\"from\": \"s\", \"to\": \"Cornish\", \"width\": 2}, {\"from\": \"Watson\", \"to\": \"Cornish\", \"width\": 4}, {\"from\": \"s\", \"to\": \"Martha\", \"width\": 2}, {\"from\": \"s\", \"to\": \"Douglas\", \"width\": 10}, {\"from\": \"Watson\", \"to\": \"George\", \"width\": 1}, {\"from\": \"Watson\", \"to\": \"Garrideb\", \"width\": 1}, {\"from\": \"Watson\", \"to\": \"Gibson\", \"width\": 1}, {\"from\": \"s\", \"to\": \"Gibson\", \"width\": 4}, {\"from\": \"Baldwin\", \"to\": \"McGinty\", \"width\": 2}, {\"from\": \"William\", \"to\": \"Ross\", \"width\": 2}, {\"from\": \"Simpson\", \"to\": \"Mapleton\", \"width\": 2}, {\"from\": \"Barrymore\", \"to\": \"Charles\", \"width\": 4}, {\"from\": \"William\", \"to\": \"Morris\", \"width\": 4}, {\"from\": \"Barrymore\", \"to\": \"Mortimer\", \"width\": 1}, {\"from\": \"Mawson\", \"to\": \"Pycroft\", \"width\": 2}, {\"from\": \"William\", \"to\": \"Acton\", \"width\": 2}, {\"from\": \"Oberstein\", \"to\": \"Lucas\", \"width\": 2}, {\"from\": \"William\", \"to\": \"s\", \"width\": 8}, {\"from\": \"William\", \"to\": \"Alec\", \"width\": 6}, {\"from\": \"Thaddeus\", \"to\": \"s\", \"width\": 2}, {\"from\": \"Thaddeus\", \"to\": \"Watson\", \"width\": 1}, {\"from\": \"Toller\", \"to\": \"Rucastle\", \"width\": 2}, {\"from\": \"Mawson\", \"to\": \"Hall\", \"width\": 2}, {\"from\": \"Hall\", \"to\": \"Barrymore\", \"width\": 3}, {\"from\": \"William\", \"to\": \"Turner\", \"width\": 2}, {\"from\": \"Barclay\", \"to\": \"George\", \"width\": 1}, {\"from\": \"Hall\", \"to\": \"Williamson\", \"width\": 4}, {\"from\": \"Barrymore\", \"to\": \"Selden\", \"width\": 1}, {\"from\": \"Grace\", \"to\": \"Wilder\", \"width\": 10}, {\"from\": \"George\", \"to\": \"Charles\", \"width\": 1}, {\"from\": \"Sarah\", \"to\": \"Mary\", \"width\": 8}, {\"from\": \"Williamson\", \"to\": \"Woodley\", \"width\": 8}, {\"from\": \"George\", \"to\": \"Eustace\", \"width\": 2}, {\"from\": \"Hilda\", \"to\": \"s\", \"width\": 4}, {\"from\": \"Selden\", \"to\": \"s\", \"width\": 1}, {\"from\": \"Emsworth\", \"to\": \"s\", \"width\": 3}, {\"from\": \"Garrideb\", \"to\": \"s\", \"width\": 1}, {\"from\": \"Turner\", \"to\": \"Hall\", \"width\": 2}, {\"from\": \"George\", \"to\": \"Hall\", \"width\": 2}, {\"from\": \"Sarah\", \"to\": \"Browner\", \"width\": 2}, {\"from\": \"George\", \"to\": \"Oberstein\", \"width\": 2}]);\n",
              "\n",
              "        // adding nodes and edges to the graph\n",
              "        data = {nodes: nodes, edges: edges};\n",
              "\n",
              "        var options = {\n",
              "    \"configure\": {\n",
              "        \"enabled\": false\n",
              "    },\n",
              "    \"edges\": {\n",
              "        \"color\": {\n",
              "            \"inherit\": true\n",
              "        },\n",
              "        \"smooth\": {\n",
              "            \"enabled\": true,\n",
              "            \"type\": \"dynamic\"\n",
              "        }\n",
              "    },\n",
              "    \"interaction\": {\n",
              "        \"dragNodes\": true,\n",
              "        \"hideEdgesOnDrag\": false,\n",
              "        \"hideNodesOnDrag\": false\n",
              "    },\n",
              "    \"physics\": {\n",
              "        \"enabled\": true,\n",
              "        \"repulsion\": {\n",
              "            \"centralGravity\": 0.2,\n",
              "            \"damping\": 0.09,\n",
              "            \"nodeDistance\": 90,\n",
              "            \"springConstant\": 0.05,\n",
              "            \"springLength\": 200\n",
              "        },\n",
              "        \"solver\": \"repulsion\",\n",
              "        \"stabilization\": {\n",
              "            \"enabled\": true,\n",
              "            \"fit\": true,\n",
              "            \"iterations\": 1000,\n",
              "            \"onlyDynamicEdges\": false,\n",
              "            \"updateInterval\": 50\n",
              "        }\n",
              "    }\n",
              "};\n",
              "        \n",
              "        \n",
              "\n",
              "        \n",
              "\n",
              "        network = new vis.Network(container, data, options);\n",
              "\t \n",
              "        \n",
              "\n",
              "\n",
              "        \n",
              "        network.on(\"stabilizationProgress\", function(params) {\n",
              "      \t\tdocument.getElementById('loadingBar').removeAttribute(\"style\");\n",
              "\t        var maxWidth = 496;\n",
              "\t        var minWidth = 20;\n",
              "\t        var widthFactor = params.iterations/params.total;\n",
              "\t        var width = Math.max(minWidth,maxWidth * widthFactor);\n",
              "\n",
              "\t        document.getElementById('bar').style.width = width + 'px';\n",
              "\t        document.getElementById('text').innerHTML = Math.round(widthFactor*100) + '%';\n",
              "\t    });\n",
              "\t    network.once(\"stabilizationIterationsDone\", function() {\n",
              "\t        document.getElementById('text').innerHTML = '100%';\n",
              "\t        document.getElementById('bar').style.width = '496px';\n",
              "\t        document.getElementById('loadingBar').style.opacity = 0;\n",
              "\t        // really clean the dom element\n",
              "\t        setTimeout(function () {document.getElementById('loadingBar').style.display = 'none';}, 500);\n",
              "\t    });\n",
              "        \n",
              "\n",
              "        return network;\n",
              "\n",
              "    }\n",
              "\n",
              "    drawGraph();\n",
              "\n",
              "</script>\n",
              "</body>\n",
              "</html>"
            ]
          },
          "metadata": {}
        }
      ]
    },
    {
      "cell_type": "markdown",
      "source": [
        "The middle node is Sherlock labeled as `s` due to some loading errors."
      ],
      "metadata": {
        "id": "bBTIdgZAN4rL"
      }
    },
    {
      "cell_type": "markdown",
      "source": [
        "Let's recuperate the graph, in this time focusing on the social network's largest component."
      ],
      "metadata": {
        "id": "jfP6jtiurGBN"
      }
    },
    {
      "cell_type": "code",
      "source": [
        "def get_graph_largest_component(graph):\n",
        "\n",
        "  cc = tr.connected_components.create(graph)\n",
        "\n",
        "  # for each vertice we add her component id\n",
        "  graph.vertices[\"component_id\"] = cc[\"graph\"].vertices[\"component_id\"]\n",
        "\n",
        "  # calculate the component_id of the largest component\n",
        "  largest_component_id = cc[\"component_size\"].sort(\"Count\", ascending = False)[0]['component_id']\n",
        "  largest_component_vertices = graph.vertices.filter_by(largest_component_id, \"component_id\")[\"__id\"]\n",
        "  h = graph.get_neighborhood(largest_component_vertices, 1)\n",
        "  return h"
      ],
      "metadata": {
        "id": "8uhyxiyfnfTZ"
      },
      "execution_count": 135,
      "outputs": []
    },
    {
      "cell_type": "code",
      "source": [
        "h = get_graph_largest_component(g)"
      ],
      "metadata": {
        "colab": {
          "base_uri": "https://localhost:8080/",
          "height": 121
        },
        "id": "p9n1j32osLnP",
        "outputId": "73e1076d-86a5-4b04-e3fd-f15aadc33697"
      },
      "execution_count": 136,
      "outputs": [
        {
          "output_type": "display_data",
          "data": {
            "text/plain": [
              "+-----------------------------+"
            ],
            "text/html": [
              "<pre>+-----------------------------+</pre>"
            ]
          },
          "metadata": {}
        },
        {
          "output_type": "display_data",
          "data": {
            "text/plain": [
              "| Number of components merged |"
            ],
            "text/html": [
              "<pre>| Number of components merged |</pre>"
            ]
          },
          "metadata": {}
        },
        {
          "output_type": "display_data",
          "data": {
            "text/plain": [
              "+-----------------------------+"
            ],
            "text/html": [
              "<pre>+-----------------------------+</pre>"
            ]
          },
          "metadata": {}
        },
        {
          "output_type": "display_data",
          "data": {
            "text/plain": [
              "| 185                         |"
            ],
            "text/html": [
              "<pre>| 185                         |</pre>"
            ]
          },
          "metadata": {}
        },
        {
          "output_type": "display_data",
          "data": {
            "text/plain": [
              "| 0                           |"
            ],
            "text/html": [
              "<pre>| 0                           |</pre>"
            ]
          },
          "metadata": {}
        },
        {
          "output_type": "display_data",
          "data": {
            "text/plain": [
              "+-----------------------------+"
            ],
            "text/html": [
              "<pre>+-----------------------------+</pre>"
            ]
          },
          "metadata": {}
        }
      ]
    },
    {
      "cell_type": "code",
      "source": [
        "plot_graph2(h, \"1500px\", \"900px\")"
      ],
      "metadata": {
        "colab": {
          "base_uri": "https://localhost:8080/",
          "height": 938
        },
        "id": "i2hJ_x5qsrjt",
        "outputId": "0933524d-0cf7-43d8-84e2-a638fb9d87d4"
      },
      "execution_count": 137,
      "outputs": [
        {
          "output_type": "display_data",
          "data": {
            "text/plain": [
              "<IPython.core.display.HTML object>"
            ],
            "text/html": [
              "<html>\n",
              "<head>\n",
              "<link rel=\"stylesheet\" href=\"https://cdn.jsdelivr.net/npm/vis-network@latest/styles/vis-network.css\" type=\"text/css\" />\n",
              "<script type=\"text/javascript\" src=\"https://cdn.jsdelivr.net/npm/vis-network@latest/dist/vis-network.min.js\"> </script>\n",
              "<center>\n",
              "<h1></h1>\n",
              "</center>\n",
              "\n",
              "<!-- <link rel=\"stylesheet\" href=\"../node_modules/vis/dist/vis.min.css\" type=\"text/css\" />\n",
              "<script type=\"text/javascript\" src=\"../node_modules/vis/dist/vis.js\"> </script>-->\n",
              "\n",
              "<style type=\"text/css\">\n",
              "\n",
              "        #mynetwork {\n",
              "            width: 1500px;\n",
              "            height: 900px;\n",
              "            background-color: #ffffff;\n",
              "            border: 1px solid lightgray;\n",
              "            position: relative;\n",
              "            float: left;\n",
              "        }\n",
              "\n",
              "        \n",
              "        #loadingBar {\n",
              "            position:absolute;\n",
              "            top:0px;\n",
              "            left:0px;\n",
              "            width: 1500px;\n",
              "            height: 900px;\n",
              "            background-color:rgba(200,200,200,0.8);\n",
              "            -webkit-transition: all 0.5s ease;\n",
              "            -moz-transition: all 0.5s ease;\n",
              "            -ms-transition: all 0.5s ease;\n",
              "            -o-transition: all 0.5s ease;\n",
              "            transition: all 0.5s ease;\n",
              "            opacity:1;\n",
              "        }\n",
              "\n",
              "        #bar {\n",
              "            position:absolute;\n",
              "            top:0px;\n",
              "            left:0px;\n",
              "            width:20px;\n",
              "            height:20px;\n",
              "            margin:auto auto auto auto;\n",
              "            border-radius:11px;\n",
              "            border:2px solid rgba(30,30,30,0.05);\n",
              "            background: rgb(0, 173, 246); /* Old browsers */\n",
              "            box-shadow: 2px 0px 4px rgba(0,0,0,0.4);\n",
              "        }\n",
              "\n",
              "        #border {\n",
              "            position:absolute;\n",
              "            top:10px;\n",
              "            left:10px;\n",
              "            width:500px;\n",
              "            height:23px;\n",
              "            margin:auto auto auto auto;\n",
              "            box-shadow: 0px 0px 4px rgba(0,0,0,0.2);\n",
              "            border-radius:10px;\n",
              "        }\n",
              "\n",
              "        #text {\n",
              "            position:absolute;\n",
              "            top:8px;\n",
              "            left:530px;\n",
              "            width:30px;\n",
              "            height:50px;\n",
              "            margin:auto auto auto auto;\n",
              "            font-size:22px;\n",
              "            color: #000000;\n",
              "        }\n",
              "\n",
              "        div.outerBorder {\n",
              "            position:relative;\n",
              "            top:400px;\n",
              "            width:600px;\n",
              "            height:44px;\n",
              "            margin:auto auto auto auto;\n",
              "            border:8px solid rgba(0,0,0,0.1);\n",
              "            background: rgb(252,252,252); /* Old browsers */\n",
              "            background: -moz-linear-gradient(top,  rgba(252,252,252,1) 0%, rgba(237,237,237,1) 100%); /* FF3.6+ */\n",
              "            background: -webkit-gradient(linear, left top, left bottom, color-stop(0%,rgba(252,252,252,1)), color-stop(100%,rgba(237,237,237,1))); /* Chrome,Safari4+ */\n",
              "            background: -webkit-linear-gradient(top,  rgba(252,252,252,1) 0%,rgba(237,237,237,1) 100%); /* Chrome10+,Safari5.1+ */\n",
              "            background: -o-linear-gradient(top,  rgba(252,252,252,1) 0%,rgba(237,237,237,1) 100%); /* Opera 11.10+ */\n",
              "            background: -ms-linear-gradient(top,  rgba(252,252,252,1) 0%,rgba(237,237,237,1) 100%); /* IE10+ */\n",
              "            background: linear-gradient(to bottom,  rgba(252,252,252,1) 0%,rgba(237,237,237,1) 100%); /* W3C */\n",
              "            filter: progid:DXImageTransform.Microsoft.gradient( startColorstr='#fcfcfc', endColorstr='#ededed',GradientType=0 ); /* IE6-9 */\n",
              "            border-radius:72px;\n",
              "            box-shadow: 0px 0px 10px rgba(0,0,0,0.2);\n",
              "        }\n",
              "        \n",
              "\n",
              "        \n",
              "\n",
              "        \n",
              "</style>\n",
              "\n",
              "</head>\n",
              "\n",
              "<body>\n",
              "<div id = \"mynetwork\"></div>\n",
              "\n",
              "<div id=\"loadingBar\">\n",
              "    <div class=\"outerBorder\">\n",
              "        <div id=\"text\">0%</div>\n",
              "        <div id=\"border\">\n",
              "            <div id=\"bar\"></div>\n",
              "        </div>\n",
              "    </div>\n",
              "</div>\n",
              "\n",
              "\n",
              "<script type=\"text/javascript\">\n",
              "\n",
              "    // initialize global variables.\n",
              "    var edges;\n",
              "    var nodes;\n",
              "    var network; \n",
              "    var container;\n",
              "    var options, data;\n",
              "\n",
              "    \n",
              "    // This method is responsible for drawing the graph, returns the drawn network\n",
              "    function drawGraph() {\n",
              "        var container = document.getElementById('mynetwork');\n",
              "        \n",
              "        \n",
              "\n",
              "        // parsing and collecting nodes and edges from the python\n",
              "        nodes = new vis.DataSet([{\"id\": \"Joseph\", \"label\": \"Joseph\", \"shape\": \"dot\", \"title\": \"Joseph Neighbors: \\n-Stangerson\\n-Drebber\\n-s\\n-Charles\\n-Lestrade\\n-Smith\\n-Harrison\", \"value\": 7}, {\"id\": \"Pierrot\", \"label\": \"Pierrot\", \"shape\": \"dot\", \"title\": \"Pierrot Neighbors: \\n-s\", \"value\": 1}, {\"id\": \"Mycroft\", \"label\": \"Mycroft\", \"shape\": \"dot\", \"title\": \"Mycroft Neighbors: \\n-s\\n-Hudson\\n-Oberstein\\n-Lestrade\", \"value\": 4}, {\"id\": \"McGinty\", \"label\": \"McGinty\", \"shape\": \"dot\", \"title\": \"McGinty Neighbors: \\n-Baldwin\\n-Scanlan\\n-s\\n-Evans\\n-Marvin\\n-Bodymaster\\n-Jack\", \"value\": 7}, {\"id\": \"Presbury\", \"label\": \"Presbury\", \"shape\": \"dot\", \"title\": \"Presbury Neighbors: \\n-s\\n-Bennett\", \"value\": 2}, {\"id\": \"MacDonald\", \"label\": \"MacDonald\", \"shape\": \"dot\", \"title\": \"MacDonald Neighbors: \\n-s\\n-Alec\\n-Billy\\n-Douglas\", \"value\": 4}, {\"id\": \"McCarthy\", \"label\": \"McCarthy\", \"shape\": \"dot\", \"title\": \"McCarthy Neighbors: \\n-s\\n-Turner\\n-Charles\\n-Lestrade\", \"value\": 4}, {\"id\": \"Robert\", \"label\": \"Robert\", \"shape\": \"dot\", \"title\": \"Robert Neighbors: \\n-s\\n-Watson\", \"value\": 2}, {\"id\": \"Harrison\", \"label\": \"Harrison\", \"shape\": \"dot\", \"title\": \"Harrison Neighbors: \\n-s\\n-Charles\\n-Joseph\", \"value\": 3}, {\"id\": \"Jones\", \"label\": \"Jones\", \"shape\": \"dot\", \"title\": \"Jones Neighbors: \\n-Merryweather\\n-Watson\\n-Gregson\\n-s\\n-Lestrade\", \"value\": 5}, {\"id\": \"Adair\", \"label\": \"Adair\", \"shape\": \"dot\", \"title\": \"Adair Neighbors: \\n-Moran\\n-s\\n-Hilda\\n-Charles\", \"value\": 4}, {\"id\": \"Barker\", \"label\": \"Barker\", \"shape\": \"dot\", \"title\": \"Barker Neighbors: \\n-s\\n-Watson\\n-Douglas\", \"value\": 3}, {\"id\": \"Jack\", \"label\": \"Jack\", \"shape\": \"dot\", \"title\": \"Jack Neighbors: \\n-Carruthers\\n-McGinty\\n-Woodley\\n-s\\n-Bennett\\n-Douglas\\n-Bodymaster\", \"value\": 7}, {\"id\": \"Godfrey\", \"label\": \"Godfrey\", \"shape\": \"dot\", \"title\": \"Godfrey Neighbors: \\n-Staunton\\n-s\\n-Henry\\n-Moran\\n-Emsworth\", \"value\": 5}, {\"id\": \"Ettie\", \"label\": \"Ettie\", \"shape\": \"dot\", \"title\": \"Ettie Neighbors: \\n-s\\n-Scanlan\", \"value\": 2}, {\"id\": \"Charles\", \"label\": \"Charles\", \"shape\": \"dot\", \"title\": \"Charles Neighbors: \\n-Adair\\n-Mac\\n-George\\n-Stapleton\\n-McCarthy\\n-Joseph\\n-s\\n-Barrymore\\n-Henry\\n-Mortimer\\n-Musgrave\\n-Harrison\\n-Hall\", \"value\": 13}, {\"id\": \"Ross\", \"label\": \"Ross\", \"shape\": \"dot\", \"title\": \"Ross Neighbors: \\n-s\\n-Morris\\n-Gregory\\n-William\", \"value\": 4}, {\"id\": \"Lestrade\", \"label\": \"Lestrade\", \"shape\": \"dot\", \"title\": \"Lestrade Neighbors: \\n-Jones\\n-Mycroft\\n-Stangerson\\n-Gregson\\n-McCarthy\\n-s\\n-Joseph\\n-Turner\\n-Hall\", \"value\": 9}, {\"id\": \"Wilder\", \"label\": \"Wilder\", \"shape\": \"dot\", \"title\": \"Wilder Neighbors: \\n-s\\n-Saltire\\n-Grace\", \"value\": 3}, {\"id\": \"Sholto\", \"label\": \"Sholto\", \"shape\": \"dot\", \"title\": \"Sholto Neighbors: \\n-Thaddeus\\n-Watson\\n-Bartholomew\\n-s\\n-Don\", \"value\": 5}, {\"id\": \"Elsie\", \"label\": \"Elsie\", \"shape\": \"dot\", \"title\": \"Elsie Neighbors: \\n-s\", \"value\": 1}, {\"id\": \"Moran\", \"label\": \"Moran\", \"shape\": \"dot\", \"title\": \"Moran Neighbors: \\n-Moriarty\\n-Adair\\n-Roylott\\n-s\\n-Stoner\\n-Godfrey\", \"value\": 6}, {\"id\": \"Peters\", \"label\": \"Peters\", \"shape\": \"dot\", \"title\": \"Peters Neighbors: \\n-s\\n-Henry\", \"value\": 2}, {\"id\": \"Mapleton\", \"label\": \"Mapleton\", \"shape\": \"dot\", \"title\": \"Mapleton Neighbors: \\n-s\\n-Simpson\", \"value\": 2}, {\"id\": \"Coram\", \"label\": \"Coram\", \"shape\": \"dot\", \"title\": \"Coram Neighbors: \\n-s\\n-Watson\", \"value\": 2}, {\"id\": \"Dunbar\", \"label\": \"Dunbar\", \"shape\": \"dot\", \"title\": \"Dunbar Neighbors: \\n-s\\n-Grace\\n-Gibson\", \"value\": 3}, {\"id\": \"Lee\", \"label\": \"Lee\", \"shape\": \"dot\", \"title\": \"Lee Neighbors: \\n-s\", \"value\": 1}, {\"id\": \"Mary\", \"label\": \"Mary\", \"shape\": \"dot\", \"title\": \"Mary Neighbors: \\n-s\\n-Brackenstall\\n-George\\n-Sarah\", \"value\": 4}, {\"id\": \"Lucy\", \"label\": \"Lucy\", \"shape\": \"dot\", \"title\": \"Lucy Neighbors: \\n-s\\n-Stangerson\", \"value\": 2}, {\"id\": \"Warren\", \"label\": \"Warren\", \"shape\": \"dot\", \"title\": \"Warren Neighbors: \\n-s\", \"value\": 1}, {\"id\": \"Pinner\", \"label\": \"Pinner\", \"shape\": \"dot\", \"title\": \"Pinner Neighbors: \\n-s\\n-Pycroft\\n-Hall\", \"value\": 3}, {\"id\": \"Merryweather\", \"label\": \"Merryweather\", \"shape\": \"dot\", \"title\": \"Merryweather Neighbors: \\n-s\\n-Jones\", \"value\": 2}, {\"id\": \"Morris\", \"label\": \"Morris\", \"shape\": \"dot\", \"title\": \"Morris Neighbors: \\n-s\\n-Ross\\n-Bodymaster\\n-William\", \"value\": 4}, {\"id\": \"Wilson\", \"label\": \"Wilson\", \"shape\": \"dot\", \"title\": \"Wilson Neighbors: \\n-s\\n-Bartholomew\", \"value\": 2}, {\"id\": \"Carruthers\", \"label\": \"Carruthers\", \"shape\": \"dot\", \"title\": \"Carruthers Neighbors: \\n-Woodley\\n-Watson\\n-s\\n-Williamson\\n-Jack\", \"value\": 5}, {\"id\": \"Hudson\", \"label\": \"Hudson\", \"shape\": \"dot\", \"title\": \"Hudson Neighbors: \\n-Billy\\n-Mycroft\\n-Watson\\n-Gregson\\n-s\\n-Trevor\", \"value\": 6}, {\"id\": \"Mac\", \"label\": \"Mac\", \"shape\": \"dot\", \"title\": \"Mac Neighbors: \\n-s\\n-Scanlan\\n-Charles\", \"value\": 3}, {\"id\": \"Stapleton\", \"label\": \"Stapleton\", \"shape\": \"dot\", \"title\": \"Stapleton Neighbors: \\n-Watson\\n-s\\n-Henry\\n-Charles\\n-Mortimer\\n-Selden\\n-Hall\", \"value\": 7}, {\"id\": \"Burnet\", \"label\": \"Burnet\", \"shape\": \"dot\", \"title\": \"Burnet Neighbors: \\n-s\", \"value\": 1}, {\"id\": \"Moriarty\", \"label\": \"Moriarty\", \"shape\": \"dot\", \"title\": \"Moriarty Neighbors: \\n-Moran\\n-Watson\\n-s\", \"value\": 3}, {\"id\": \"Harker\", \"label\": \"Harker\", \"shape\": \"dot\", \"title\": \"Harker Neighbors: \\n-s\", \"value\": 1}, {\"id\": \"Drebber\", \"label\": \"Drebber\", \"shape\": \"dot\", \"title\": \"Drebber Neighbors: \\n-Gregson\\n-s\\n-Stangerson\\n-Joseph\", \"value\": 4}, {\"id\": \"Don\", \"label\": \"Don\", \"shape\": \"dot\", \"title\": \"Don Neighbors: \\n-Watson\\n-s\\n-Gibson\\n-Pycroft\\n-Henry\\n-Sholto\\n-Marvin\", \"value\": 7}, {\"id\": \"Billy\", \"label\": \"Billy\", \"shape\": \"dot\", \"title\": \"Billy Neighbors: \\n-MacDonald\\n-s\\n-Sylvius\\n-Hudson\", \"value\": 4}, {\"id\": \"Mortimer\", \"label\": \"Mortimer\", \"shape\": \"dot\", \"title\": \"Mortimer Neighbors: \\n-Watson\\n-Stapleton\\n-s\\n-Barrymore\\n-Henry\\n-Charles\\n-Smith\\n-Hall\", \"value\": 8}, {\"id\": \"Jove\", \"label\": \"Jove\", \"shape\": \"dot\", \"title\": \"Jove Neighbors: \\n-Peterson\\n-s\\n-Watson\", \"value\": 3}, {\"id\": \"Phelps\", \"label\": \"Phelps\", \"shape\": \"dot\", \"title\": \"Phelps Neighbors: \\n-Holdhurst\\n-s\\n-Watson\", \"value\": 3}, {\"id\": \"Trevor\", \"label\": \"Trevor\", \"shape\": \"dot\", \"title\": \"Trevor Neighbors: \\n-s\\n-Watson\\n-Bennett\\n-Hudson\", \"value\": 4}, {\"id\": \"Henry\", \"label\": \"Henry\", \"shape\": \"dot\", \"title\": \"Henry Neighbors: \\n-Watson\\n-Staunton\\n-Stapleton\\n-s\\n-Barrymore\\n-Peters\\n-Don\\n-Charles\\n-Mortimer\\n-Godfrey\\n-Hall\", \"value\": 11}, {\"id\": \"Brackenstall\", \"label\": \"Brackenstall\", \"shape\": \"dot\", \"title\": \"Brackenstall Neighbors: \\n-s\\n-Mary\\n-Eustace\", \"value\": 3}, {\"id\": \"Susan\", \"label\": \"Susan\", \"shape\": \"dot\", \"title\": \"Susan Neighbors: \\n-Smith\\n-s\\n-Cushing\", \"value\": 3}, {\"id\": \"Soames\", \"label\": \"Soames\", \"shape\": \"dot\", \"title\": \"Soames Neighbors: \\n-s\\n-Gilchrist\", \"value\": 2}, {\"id\": \"Alice\", \"label\": \"Alice\", \"shape\": \"dot\", \"title\": \"Alice Neighbors: \\n-s\\n-Rucastle\", \"value\": 2}, {\"id\": \"Blessington\", \"label\": \"Blessington\", \"shape\": \"dot\", \"title\": \"Blessington Neighbors: \\n-s\", \"value\": 1}, {\"id\": \"Gorgiano\", \"label\": \"Gorgiano\", \"shape\": \"dot\", \"title\": \"Gorgiano Neighbors: \\n-s\", \"value\": 1}, {\"id\": \"Cushing\", \"label\": \"Cushing\", \"shape\": \"dot\", \"title\": \"Cushing Neighbors: \\n-s\\n-Susan\\n-Sarah\", \"value\": 3}, {\"id\": \"Stangerson\", \"label\": \"Stangerson\", \"shape\": \"dot\", \"title\": \"Stangerson Neighbors: \\n-Drebber\\n-Lucy\\n-s\\n-Joseph\\n-Lestrade\", \"value\": 5}, {\"id\": \"Pompey\", \"label\": \"Pompey\", \"shape\": \"dot\", \"title\": \"Pompey Neighbors: \\n-s\", \"value\": 1}, {\"id\": \"Neligan\", \"label\": \"Neligan\", \"shape\": \"dot\", \"title\": \"Neligan Neighbors: \\n-s\", \"value\": 1}, {\"id\": \"Marvin\", \"label\": \"Marvin\", \"shape\": \"dot\", \"title\": \"Marvin Neighbors: \\n-Don\\n-McGinty\", \"value\": 2}, {\"id\": \"Gregson\", \"label\": \"Gregson\", \"shape\": \"dot\", \"title\": \"Gregson Neighbors: \\n-Jones\\n-Hudson\\n-Drebber\\n-Watson\\n-s\\n-Garcia\\n-Lestrade\", \"value\": 7}, {\"id\": \"Gennaro\", \"label\": \"Gennaro\", \"shape\": \"dot\", \"title\": \"Gennaro Neighbors: \\n-s\", \"value\": 1}, {\"id\": \"Peterson\", \"label\": \"Peterson\", \"shape\": \"dot\", \"title\": \"Peterson Neighbors: \\n-s\\n-Jove\", \"value\": 2}, {\"id\": \"Staunton\", \"label\": \"Staunton\", \"shape\": \"dot\", \"title\": \"Staunton Neighbors: \\n-s\\n-Godfrey\\n-Henry\", \"value\": 3}, {\"id\": \"bush\", \"label\": \"bush\", \"shape\": \"dot\", \"title\": \"bush Neighbors: \\n-s\", \"value\": 1}, {\"id\": \"Musgrave\", \"label\": \"Musgrave\", \"shape\": \"dot\", \"title\": \"Musgrave Neighbors: \\n-s\\n-Watson\\n-Charles\", \"value\": 3}, {\"id\": \"Woodley\", \"label\": \"Woodley\", \"shape\": \"dot\", \"title\": \"Woodley Neighbors: \\n-Carruthers\\n-s\\n-Williamson\\n-Smith\\n-Jack\\n-Hall\", \"value\": 6}, {\"id\": \"Pycroft\", \"label\": \"Pycroft\", \"shape\": \"dot\", \"title\": \"Pycroft Neighbors: \\n-Pinner\\n-s\\n-Don\\n-Mawson\\n-Hall\", \"value\": 5}, {\"id\": \"Acton\", \"label\": \"Acton\", \"shape\": \"dot\", \"title\": \"Acton Neighbors: \\n-s\\n-William\", \"value\": 2}, {\"id\": \"Lucas\", \"label\": \"Lucas\", \"shape\": \"dot\", \"title\": \"Lucas Neighbors: \\n-s\\n-Oberstein\", \"value\": 2}, {\"id\": \"Hunter\", \"label\": \"Hunter\", \"shape\": \"dot\", \"title\": \"Hunter Neighbors: \\n-s\\n-Watson\\n-Stoper\\n-Rucastle\", \"value\": 4}, {\"id\": \"Bartholomew\", \"label\": \"Bartholomew\", \"shape\": \"dot\", \"title\": \"Bartholomew Neighbors: \\n-Sholto\\n-s\\n-Wilson\", \"value\": 3}, {\"id\": \"Bennett\", \"label\": \"Bennett\", \"shape\": \"dot\", \"title\": \"Bennett Neighbors: \\n-Watson\\n-s\\n-Trevor\\n-Presbury\\n-Jack\", \"value\": 5}, {\"id\": \"Scanlan\", \"label\": \"Scanlan\", \"shape\": \"dot\", \"title\": \"Scanlan Neighbors: \\n-Ettie\\n-McGinty\\n-s\\n-Evans\\n-Mac\", \"value\": 5}, {\"id\": \"Holdhurst\", \"label\": \"Holdhurst\", \"shape\": \"dot\", \"title\": \"Holdhurst Neighbors: \\n-Phelps\\n-s\\n-Watson\", \"value\": 3}, {\"id\": \"Garcia\", \"label\": \"Garcia\", \"shape\": \"dot\", \"title\": \"Garcia Neighbors: \\n-Gregson\\n-s\", \"value\": 2}, {\"id\": \"Watson\", \"label\": \"Watson\", \"shape\": \"dot\", \"title\": \"Watson Neighbors: \\n-Carruthers\\n-Coram\\n-Cornish\\n-Gibson\\n-Grace\\n-Bennett\\n-Don\\n-Musgrave\\n-Garrideb\\n-Jones\\n-Rucastle\\n-George\\n-Hudson\\n-s\\n-Henry\\n-Holdhurst\\n-Barker\\n-Stapleton\\n-Gregson\\n-Trevor\\n-Hunter\\n-Mawson\\n-Phelps\\n-Sholto\\n-Smith\\n-Hall\\n-Thaddeus\\n-Moriarty\\n-Mortimer\\n-Jove\\n-Robert\", \"value\": 31}, {\"id\": \"Eustace\", \"label\": \"Eustace\", \"shape\": \"dot\", \"title\": \"Eustace Neighbors: \\n-s\\n-Brackenstall\\n-George\", \"value\": 3}, {\"id\": \"Smith\", \"label\": \"Smith\", \"shape\": \"dot\", \"title\": \"Smith Neighbors: \\n-Woodley\\n-Susan\\n-Watson\\n-s\\n-Joseph\\n-Mortimer\", \"value\": 6}, {\"id\": \"Saltire\", \"label\": \"Saltire\", \"shape\": \"dot\", \"title\": \"Saltire Neighbors: \\n-Wilder\\n-s\", \"value\": 2}, {\"id\": \"Openshaw\", \"label\": \"Openshaw\", \"shape\": \"dot\", \"title\": \"Openshaw Neighbors: \\n-s\", \"value\": 1}, {\"id\": \"Sylvius\", \"label\": \"Sylvius\", \"shape\": \"dot\", \"title\": \"Sylvius Neighbors: \\n-Billy\", \"value\": 1}, {\"id\": \"Leonardo\", \"label\": \"Leonardo\", \"shape\": \"dot\", \"title\": \"Leonardo Neighbors: \\n-s\", \"value\": 1}, {\"id\": \"Alec\", \"label\": \"Alec\", \"shape\": \"dot\", \"title\": \"Alec Neighbors: \\n-MacDonald\\n-s\\n-William\", \"value\": 3}, {\"id\": \"s\", \"label\": \"s\", \"shape\": \"dot\", \"title\": \"s Neighbors: \\n-Lucas\\n-Pierrot\\n-Susan\\n-Cornish\\n-Gibson\\n-Stoner\\n-Grace\\n-Bennett\\n-Gorgiano\\n-Turner\\n-MacDonald\\n-Elsie\\n-Rucastle\\n-Bartholomew\\n-McCarthy\\n-Ettie\\n-Bodymaster\\n-Gilchrist\\n-Adair\\n-Morris\\n-Stapleton\\n-Alec\\n-Sarah\\n-Moriarty\\n-bush\\n-Watson\\n-Robert\\n-Cushing\\n-Openshaw\\n-Neligan\\n-Horner\\n-Saltire\\n-George\\n-Warren\\n-Godfrey\\n-Toby\\n-Wilson\\n-Brackenstall\\n-Soames\\n-Gregson\\n-Selden\\n-Phelps\\n-Hall\\n-Thaddeus\\n-Billy\\n-Burnet\\n-Woodley\\n-William\\n-Peters\\n-Mortimer\\n-Mapleton\\n-Carruthers\\n-Merryweather\\n-Gennaro\\n-Acton\\n-Barrymore\\n-Don\\n-Garrideb\\n-Pinner\\n-Oberstein\\n-Hudson\\n-Henry\\n-Harker\\n-Pompey\\n-McGinty\\n-Wilder\\n-Alice\\n-Trevor\\n-Smith\\n-Harrison\\n-Emsworth\\n-Hayes\\n-Martha\\n-Scanlan\\n-Mary\\n-Simpson\\n-Charles\\n-Williamson\\n-Coram\\n-Ross\\n-Stangerson\\n-Drebber\\n-Roylott\\n-Pycroft\\n-Barclay\\n-Musgrave\\n-Jack\\n-Jones\\n-Evans\\n-Douglas\\n-Peterson\\n-Blessington\\n-Presbury\\n-Dunbar\\n-Holdhurst\\n-Mycroft\\n-Barker\\n-Lucy\\n-Staunton\\n-Leonardo\\n-Hunter\\n-Garcia\\n-Browner\\n-Mawson\\n-Joseph\\n-Sholto\\n-Lestrade\\n-Eustace\\n-Frank\\n-Hilda\\n-Beppo\\n-Mac\\n-Moran\\n-Jove\\n-Lee\\n-Baldwin\", \"value\": 116}, {\"id\": \"Toby\", \"label\": \"Toby\", \"shape\": \"dot\", \"title\": \"Toby Neighbors: \\n-s\", \"value\": 1}, {\"id\": \"Evans\", \"label\": \"Evans\", \"shape\": \"dot\", \"title\": \"Evans Neighbors: \\n-s\\n-Scanlan\\n-McGinty\", \"value\": 3}, {\"id\": \"Stoner\", \"label\": \"Stoner\", \"shape\": \"dot\", \"title\": \"Stoner Neighbors: \\n-Moran\\n-s\\n-Roylott\", \"value\": 3}, {\"id\": \"Bodymaster\", \"label\": \"Bodymaster\", \"shape\": \"dot\", \"title\": \"Bodymaster Neighbors: \\n-McGinty\\n-Morris\\n-s\\n-Baldwin\\n-Jack\", \"value\": 5}, {\"id\": \"Hayes\", \"label\": \"Hayes\", \"shape\": \"dot\", \"title\": \"Hayes Neighbors: \\n-s\", \"value\": 1}, {\"id\": \"William\", \"label\": \"William\", \"shape\": \"dot\", \"title\": \"William Neighbors: \\n-Ross\\n-Morris\\n-Acton\\n-s\\n-Alec\\n-Turner\", \"value\": 6}, {\"id\": \"Thaddeus\", \"label\": \"Thaddeus\", \"shape\": \"dot\", \"title\": \"Thaddeus Neighbors: \\n-Sholto\\n-Watson\\n-s\", \"value\": 3}, {\"id\": \"Browner\", \"label\": \"Browner\", \"shape\": \"dot\", \"title\": \"Browner Neighbors: \\n-s\\n-Sarah\", \"value\": 2}, {\"id\": \"Barclay\", \"label\": \"Barclay\", \"shape\": \"dot\", \"title\": \"Barclay Neighbors: \\n-s\\n-George\", \"value\": 2}, {\"id\": \"Roylott\", \"label\": \"Roylott\", \"shape\": \"dot\", \"title\": \"Roylott Neighbors: \\n-Moran\\n-Stoner\\n-s\", \"value\": 3}, {\"id\": \"Frank\", \"label\": \"Frank\", \"shape\": \"dot\", \"title\": \"Frank Neighbors: \\n-s\", \"value\": 1}, {\"id\": \"Mawson\", \"label\": \"Mawson\", \"shape\": \"dot\", \"title\": \"Mawson Neighbors: \\n-s\\n-Watson\\n-Pycroft\\n-Hall\", \"value\": 4}, {\"id\": \"Rucastle\", \"label\": \"Rucastle\", \"shape\": \"dot\", \"title\": \"Rucastle Neighbors: \\n-Watson\\n-Alice\\n-s\\n-Hunter\\n-Toller\", \"value\": 5}, {\"id\": \"Oberstein\", \"label\": \"Oberstein\", \"shape\": \"dot\", \"title\": \"Oberstein Neighbors: \\n-Lucas\\n-s\\n-George\\n-Mycroft\", \"value\": 4}, {\"id\": \"Toller\", \"label\": \"Toller\", \"shape\": \"dot\", \"title\": \"Toller Neighbors: \\n-Rucastle\", \"value\": 1}, {\"id\": \"Horner\", \"label\": \"Horner\", \"shape\": \"dot\", \"title\": \"Horner Neighbors: \\n-s\", \"value\": 1}, {\"id\": \"Simpson\", \"label\": \"Simpson\", \"shape\": \"dot\", \"title\": \"Simpson Neighbors: \\n-s\\n-Mapleton\", \"value\": 2}, {\"id\": \"Baldwin\", \"label\": \"Baldwin\", \"shape\": \"dot\", \"title\": \"Baldwin Neighbors: \\n-s\\n-Bodymaster\\n-McGinty\", \"value\": 3}, {\"id\": \"Barrymore\", \"label\": \"Barrymore\", \"shape\": \"dot\", \"title\": \"Barrymore Neighbors: \\n-s\\n-Henry\\n-Charles\\n-Mortimer\\n-Selden\\n-Hall\", \"value\": 6}, {\"id\": \"Hall\", \"label\": \"Hall\", \"shape\": \"dot\", \"title\": \"Hall Neighbors: \\n-Pinner\\n-Lestrade\\n-George\\n-Woodley\\n-Watson\\n-Stapleton\\n-s\\n-Barrymore\\n-Pycroft\\n-Henry\\n-Charles\\n-Mortimer\\n-Mawson\\n-Turner\\n-Williamson\", \"value\": 15}, {\"id\": \"Hilda\", \"label\": \"Hilda\", \"shape\": \"dot\", \"title\": \"Hilda Neighbors: \\n-s\\n-Adair\", \"value\": 2}, {\"id\": \"Garrideb\", \"label\": \"Garrideb\", \"shape\": \"dot\", \"title\": \"Garrideb Neighbors: \\n-s\\n-Watson\", \"value\": 2}, {\"id\": \"Gilchrist\", \"label\": \"Gilchrist\", \"shape\": \"dot\", \"title\": \"Gilchrist Neighbors: \\n-s\\n-Soames\", \"value\": 2}, {\"id\": \"Beppo\", \"label\": \"Beppo\", \"shape\": \"dot\", \"title\": \"Beppo Neighbors: \\n-s\", \"value\": 1}, {\"id\": \"Sarah\", \"label\": \"Sarah\", \"shape\": \"dot\", \"title\": \"Sarah Neighbors: \\n-s\\n-Cushing\\n-Mary\\n-Browner\", \"value\": 4}, {\"id\": \"Gibson\", \"label\": \"Gibson\", \"shape\": \"dot\", \"title\": \"Gibson Neighbors: \\n-s\\n-Watson\\n-Don\\n-Dunbar\", \"value\": 4}, {\"id\": \"George\", \"label\": \"George\", \"shape\": \"dot\", \"title\": \"George Neighbors: \\n-Eustace\\n-Oberstein\\n-Watson\\n-Mary\\n-s\\n-Barclay\\n-Charles\\n-Hall\", \"value\": 8}, {\"id\": \"Cornish\", \"label\": \"Cornish\", \"shape\": \"dot\", \"title\": \"Cornish Neighbors: \\n-s\\n-Watson\", \"value\": 2}, {\"id\": \"Grace\", \"label\": \"Grace\", \"shape\": \"dot\", \"title\": \"Grace Neighbors: \\n-Wilder\\n-s\\n-Watson\\n-Dunbar\", \"value\": 4}, {\"id\": \"Williamson\", \"label\": \"Williamson\", \"shape\": \"dot\", \"title\": \"Williamson Neighbors: \\n-Carruthers\\n-s\\n-Woodley\\n-Hall\", \"value\": 4}, {\"id\": \"Emsworth\", \"label\": \"Emsworth\", \"shape\": \"dot\", \"title\": \"Emsworth Neighbors: \\n-s\\n-Godfrey\", \"value\": 2}, {\"id\": \"Gregory\", \"label\": \"Gregory\", \"shape\": \"dot\", \"title\": \"Gregory Neighbors: \\n-Ross\", \"value\": 1}, {\"id\": \"Martha\", \"label\": \"Martha\", \"shape\": \"dot\", \"title\": \"Martha Neighbors: \\n-s\", \"value\": 1}, {\"id\": \"Selden\", \"label\": \"Selden\", \"shape\": \"dot\", \"title\": \"Selden Neighbors: \\n-s\\n-Barrymore\\n-Stapleton\", \"value\": 3}, {\"id\": \"Turner\", \"label\": \"Turner\", \"shape\": \"dot\", \"title\": \"Turner Neighbors: \\n-McCarthy\\n-s\\n-William\\n-Lestrade\\n-Hall\", \"value\": 5}, {\"id\": \"Douglas\", \"label\": \"Douglas\", \"shape\": \"dot\", \"title\": \"Douglas Neighbors: \\n-MacDonald\\n-s\\n-Jack\\n-Barker\", \"value\": 4}, {\"id\": \"Stoper\", \"label\": \"Stoper\", \"shape\": \"dot\", \"title\": \"Stoper Neighbors: \\n-Hunter\", \"value\": 1}]);\n",
              "        edges = new vis.DataSet([{\"from\": \"Jack\", \"to\": \"McGinty\", \"width\": 5}, {\"from\": \"Harrison\", \"to\": \"Joseph\", \"width\": 14}, {\"from\": \"Harrison\", \"to\": \"Charles\", \"width\": 2}, {\"from\": \"McCarthy\", \"to\": \"Lestrade\", \"width\": 2}, {\"from\": \"Godfrey\", \"to\": \"Moran\", \"width\": 2}, {\"from\": \"McCarthy\", \"to\": \"Charles\", \"width\": 2}, {\"from\": \"Mycroft\", \"to\": \"Lestrade\", \"width\": 3}, {\"from\": \"Joseph\", \"to\": \"Lestrade\", \"width\": 2}, {\"from\": \"Adair\", \"to\": \"Moran\", \"width\": 3}, {\"from\": \"Joseph\", \"to\": \"Charles\", \"width\": 2}, {\"from\": \"Jack\", \"to\": \"Carruthers\", \"width\": 2}, {\"from\": \"Mycroft\", \"to\": \"Hudson\", \"width\": 1}, {\"from\": \"Jones\", \"to\": \"Merryweather\", \"width\": 1}, {\"from\": \"Joseph\", \"to\": \"Drebber\", \"width\": 2}, {\"from\": \"MacDonald\", \"to\": \"Billy\", \"width\": 1}, {\"from\": \"Jack\", \"to\": \"Woodley\", \"width\": 4}, {\"from\": \"Godfrey\", \"to\": \"Staunton\", \"width\": 20}, {\"from\": \"Joseph\", \"to\": \"Stangerson\", \"width\": 6}, {\"from\": \"Jack\", \"to\": \"Bennett\", \"width\": 1}, {\"from\": \"Jack\", \"to\": \"Bodymaster\", \"width\": 2}, {\"from\": \"Jack\", \"to\": \"s\", \"width\": 2}, {\"from\": \"Godfrey\", \"to\": \"s\", \"width\": 10}, {\"from\": \"Adair\", \"to\": \"s\", \"width\": 2}, {\"from\": \"Barker\", \"to\": \"Watson\", \"width\": 2}, {\"from\": \"Joseph\", \"to\": \"Smith\", \"width\": 2}, {\"from\": \"Barker\", \"to\": \"s\", \"width\": 8}, {\"from\": \"Mycroft\", \"to\": \"Oberstein\", \"width\": 1}, {\"from\": \"Godfrey\", \"to\": \"Emsworth\", \"width\": 4}, {\"from\": \"Barker\", \"to\": \"Douglas\", \"width\": 9}, {\"from\": \"McCarthy\", \"to\": \"Turner\", \"width\": 6}, {\"from\": \"Jack\", \"to\": \"Douglas\", \"width\": 2}, {\"from\": \"Adair\", \"to\": \"Hilda\", \"width\": 1}, {\"from\": \"MacDonald\", \"to\": \"Douglas\", \"width\": 1}, {\"from\": \"Lestrade\", \"to\": \"Jones\", \"width\": 1}, {\"from\": \"Charles\", \"to\": \"Adair\", \"width\": 1}, {\"from\": \"Ross\", \"to\": \"Morris\", \"width\": 2}, {\"from\": \"Charles\", \"to\": \"Mortimer\", \"width\": 3}, {\"from\": \"Peters\", \"to\": \"Henry\", \"width\": 1}, {\"from\": \"Lestrade\", \"to\": \"Stangerson\", \"width\": 2}, {\"from\": \"Sholto\", \"to\": \"Bartholomew\", \"width\": 1}, {\"from\": \"Mapleton\", \"to\": \"s\", \"width\": 4}, {\"from\": \"Lee\", \"to\": \"s\", \"width\": 4}, {\"from\": \"Wilder\", \"to\": \"Saltire\", \"width\": 2}, {\"from\": \"Ross\", \"to\": \"s\", \"width\": 4}, {\"from\": \"Dunbar\", \"to\": \"s\", \"width\": 2}, {\"from\": \"Ettie\", \"to\": \"s\", \"width\": 1}, {\"from\": \"Ettie\", \"to\": \"Scanlan\", \"width\": 1}, {\"from\": \"Sholto\", \"to\": \"Thaddeus\", \"width\": 6}, {\"from\": \"Moran\", \"to\": \"Roylott\", \"width\": 5}, {\"from\": \"Charles\", \"to\": \"Hall\", \"width\": 3}, {\"from\": \"Lestrade\", \"to\": \"Hall\", \"width\": 1}, {\"from\": \"Dunbar\", \"to\": \"Gibson\", \"width\": 2}, {\"from\": \"Ross\", \"to\": \"Gregory\", \"width\": 2}, {\"from\": \"Lestrade\", \"to\": \"Turner\", \"width\": 2}, {\"from\": \"Dunbar\", \"to\": \"Grace\", \"width\": 1}, {\"from\": \"Stapleton\", \"to\": \"Charles\", \"width\": 3}, {\"from\": \"Mac\", \"to\": \"Charles\", \"width\": 1}, {\"from\": \"Moriarty\", \"to\": \"Moran\", \"width\": 1}, {\"from\": \"Stapleton\", \"to\": \"Henry\", \"width\": 10}, {\"from\": \"Hudson\", \"to\": \"Trevor\", \"width\": 2}, {\"from\": \"Hudson\", \"to\": \"Billy\", \"width\": 1}, {\"from\": \"Stapleton\", \"to\": \"Mortimer\", \"width\": 1}, {\"from\": \"Pinner\", \"to\": \"Pycroft\", \"width\": 2}, {\"from\": \"Wilson\", \"to\": \"Bartholomew\", \"width\": 1}, {\"from\": \"Lucy\", \"to\": \"Stangerson\", \"width\": 1}, {\"from\": \"Carruthers\", \"to\": \"Woodley\", \"width\": 8}, {\"from\": \"Moriarty\", \"to\": \"s\", \"width\": 5}, {\"from\": \"Hudson\", \"to\": \"s\", \"width\": 10}, {\"from\": \"Merryweather\", \"to\": \"s\", \"width\": 2}, {\"from\": \"Wilson\", \"to\": \"s\", \"width\": 3}, {\"from\": \"Stapleton\", \"to\": \"s\", \"width\": 13}, {\"from\": \"Hudson\", \"to\": \"Watson\", \"width\": 2}, {\"from\": \"Moriarty\", \"to\": \"Watson\", \"width\": 4}, {\"from\": \"Pinner\", \"to\": \"s\", \"width\": 1}, {\"from\": \"Lucy\", \"to\": \"s\", \"width\": 8}, {\"from\": \"Stapleton\", \"to\": \"Watson\", \"width\": 1}, {\"from\": \"Stapleton\", \"to\": \"Hall\", \"width\": 2}, {\"from\": \"Pinner\", \"to\": \"Hall\", \"width\": 1}, {\"from\": \"Carruthers\", \"to\": \"Williamson\", \"width\": 8}, {\"from\": \"Stapleton\", \"to\": \"Selden\", \"width\": 1}, {\"from\": \"Mary\", \"to\": \"George\", \"width\": 1}, {\"from\": \"Henry\", \"to\": \"Godfrey\", \"width\": 2}, {\"from\": \"Henry\", \"to\": \"Charles\", \"width\": 1}, {\"from\": \"Don\", \"to\": \"Sholto\", \"width\": 1}, {\"from\": \"Brackenstall\", \"to\": \"Mary\", \"width\": 2}, {\"from\": \"Henry\", \"to\": \"Mortimer\", \"width\": 9}, {\"from\": \"Cushing\", \"to\": \"Susan\", \"width\": 1}, {\"from\": \"Don\", \"to\": \"Henry\", \"width\": 1}, {\"from\": \"Jove\", \"to\": \"Peterson\", \"width\": 2}, {\"from\": \"Don\", \"to\": \"Pycroft\", \"width\": 2}, {\"from\": \"Don\", \"to\": \"Marvin\", \"width\": 1}, {\"from\": \"Don\", \"to\": \"s\", \"width\": 4}, {\"from\": \"Don\", \"to\": \"Watson\", \"width\": 3}, {\"from\": \"Brackenstall\", \"to\": \"Eustace\", \"width\": 3}, {\"from\": \"Susan\", \"to\": \"s\", \"width\": 3}, {\"from\": \"Soames\", \"to\": \"s\", \"width\": 6}, {\"from\": \"Drebber\", \"to\": \"s\", \"width\": 5}, {\"from\": \"Henry\", \"to\": \"s\", \"width\": 2}, {\"from\": \"Susan\", \"to\": \"Smith\", \"width\": 2}, {\"from\": \"Cushing\", \"to\": \"s\", \"width\": 2}, {\"from\": \"Jove\", \"to\": \"Watson\", \"width\": 2}, {\"from\": \"Jove\", \"to\": \"s\", \"width\": 3}, {\"from\": \"Gorgiano\", \"to\": \"s\", \"width\": 1}, {\"from\": \"Phelps\", \"to\": \"Watson\", \"width\": 1}, {\"from\": \"Billy\", \"to\": \"Sylvius\", \"width\": 1}, {\"from\": \"Alice\", \"to\": \"Rucastle\", \"width\": 2}, {\"from\": \"Mortimer\", \"to\": \"Hall\", \"width\": 3}, {\"from\": \"Henry\", \"to\": \"Barrymore\", \"width\": 2}, {\"from\": \"Henry\", \"to\": \"Hall\", \"width\": 4}, {\"from\": \"Don\", \"to\": \"Gibson\", \"width\": 2}, {\"from\": \"Cushing\", \"to\": \"Sarah\", \"width\": 5}, {\"from\": \"Soames\", \"to\": \"Gilchrist\", \"width\": 2}, {\"from\": \"Marvin\", \"to\": \"McGinty\", \"width\": 2}, {\"from\": \"Gregson\", \"to\": \"Jones\", \"width\": 1}, {\"from\": \"Bennett\", \"to\": \"Presbury\", \"width\": 1}, {\"from\": \"Musgrave\", \"to\": \"Charles\", \"width\": 2}, {\"from\": \"Gregson\", \"to\": \"Lestrade\", \"width\": 15}, {\"from\": \"Gregson\", \"to\": \"Hudson\", \"width\": 2}, {\"from\": \"Staunton\", \"to\": \"Henry\", \"width\": 2}, {\"from\": \"Gregson\", \"to\": \"Drebber\", \"width\": 1}, {\"from\": \"Stangerson\", \"to\": \"Drebber\", \"width\": 17}, {\"from\": \"Bennett\", \"to\": \"Trevor\", \"width\": 1}, {\"from\": \"Lucas\", \"to\": \"s\", \"width\": 2}, {\"from\": \"Neligan\", \"to\": \"s\", \"width\": 2}, {\"from\": \"Staunton\", \"to\": \"s\", \"width\": 4}, {\"from\": \"Bartholomew\", \"to\": \"s\", \"width\": 3}, {\"from\": \"Pompey\", \"to\": \"s\", \"width\": 4}, {\"from\": \"Gregson\", \"to\": \"Garcia\", \"width\": 2}, {\"from\": \"Hunter\", \"to\": \"s\", \"width\": 2}, {\"from\": \"Musgrave\", \"to\": \"Watson\", \"width\": 3}, {\"from\": \"Stangerson\", \"to\": \"s\", \"width\": 2}, {\"from\": \"Acton\", \"to\": \"s\", \"width\": 6}, {\"from\": \"Gregson\", \"to\": \"s\", \"width\": 11}, {\"from\": \"Bennett\", \"to\": \"s\", \"width\": 1}, {\"from\": \"Hunter\", \"to\": \"Watson\", \"width\": 1}, {\"from\": \"Musgrave\", \"to\": \"s\", \"width\": 1}, {\"from\": \"Bennett\", \"to\": \"Watson\", \"width\": 1}, {\"from\": \"Pycroft\", \"to\": \"Hall\", \"width\": 19}, {\"from\": \"Hunter\", \"to\": \"Rucastle\", \"width\": 2}, {\"from\": \"Woodley\", \"to\": \"Hall\", \"width\": 2}, {\"from\": \"Hunter\", \"to\": \"Stoper\", \"width\": 2}, {\"from\": \"s\", \"to\": \"MacDonald\", \"width\": 5}, {\"from\": \"s\", \"to\": \"McCarthy\", \"width\": 10}, {\"from\": \"Watson\", \"to\": \"Jones\", \"width\": 3}, {\"from\": \"s\", \"to\": \"Presbury\", \"width\": 3}, {\"from\": \"s\", \"to\": \"Mycroft\", \"width\": 10}, {\"from\": \"s\", \"to\": \"Harrison\", \"width\": 6}, {\"from\": \"Bodymaster\", \"to\": \"McGinty\", \"width\": 6}, {\"from\": \"s\", \"to\": \"Joseph\", \"width\": 6}, {\"from\": \"s\", \"to\": \"McGinty\", \"width\": 16}, {\"from\": \"Scanlan\", \"to\": \"McGinty\", \"width\": 2}, {\"from\": \"Watson\", \"to\": \"Robert\", \"width\": 2}, {\"from\": \"s\", \"to\": \"Pierrot\", \"width\": 2}, {\"from\": \"s\", \"to\": \"Robert\", \"width\": 9}, {\"from\": \"Evans\", \"to\": \"McGinty\", \"width\": 1}, {\"from\": \"s\", \"to\": \"Jones\", \"width\": 8}, {\"from\": \"Alec\", \"to\": \"MacDonald\", \"width\": 1}, {\"from\": \"s\", \"to\": \"Elsie\", \"width\": 2}, {\"from\": \"s\", \"to\": \"Peters\", \"width\": 2}, {\"from\": \"Stoner\", \"to\": \"Moran\", \"width\": 2}, {\"from\": \"Watson\", \"to\": \"Coram\", \"width\": 2}, {\"from\": \"s\", \"to\": \"Moran\", \"width\": 4}, {\"from\": \"s\", \"to\": \"Coram\", \"width\": 2}, {\"from\": \"s\", \"to\": \"Lestrade\", \"width\": 38}, {\"from\": \"Watson\", \"to\": \"Sholto\", \"width\": 1}, {\"from\": \"s\", \"to\": \"Sholto\", \"width\": 11}, {\"from\": \"s\", \"to\": \"Charles\", \"width\": 28}, {\"from\": \"s\", \"to\": \"Wilder\", \"width\": 8}, {\"from\": \"Bodymaster\", \"to\": \"Morris\", \"width\": 2}, {\"from\": \"s\", \"to\": \"Harker\", \"width\": 6}, {\"from\": \"Watson\", \"to\": \"Carruthers\", \"width\": 2}, {\"from\": \"s\", \"to\": \"Warren\", \"width\": 14}, {\"from\": \"s\", \"to\": \"Morris\", \"width\": 2}, {\"from\": \"s\", \"to\": \"Carruthers\", \"width\": 2}, {\"from\": \"s\", \"to\": \"Burnet\", \"width\": 2}, {\"from\": \"s\", \"to\": \"Mac\", \"width\": 1}, {\"from\": \"Scanlan\", \"to\": \"Mac\", \"width\": 1}, {\"from\": \"s\", \"to\": \"Mary\", \"width\": 18}, {\"from\": \"s\", \"to\": \"Blessington\", \"width\": 12}, {\"from\": \"Holdhurst\", \"to\": \"Phelps\", \"width\": 2}, {\"from\": \"s\", \"to\": \"Phelps\", \"width\": 6}, {\"from\": \"s\", \"to\": \"Trevor\", \"width\": 2}, {\"from\": \"Watson\", \"to\": \"Trevor\", \"width\": 3}, {\"from\": \"s\", \"to\": \"Alice\", \"width\": 9}, {\"from\": \"Smith\", \"to\": \"Mortimer\", \"width\": 2}, {\"from\": \"s\", \"to\": \"Brackenstall\", \"width\": 2}, {\"from\": \"s\", \"to\": \"Billy\", \"width\": 1}, {\"from\": \"Watson\", \"to\": \"Mortimer\", \"width\": 1}, {\"from\": \"s\", \"to\": \"Mortimer\", \"width\": 17}, {\"from\": \"Watson\", \"to\": \"Henry\", \"width\": 1}, {\"from\": \"s\", \"to\": \"bush\", \"width\": 4}, {\"from\": \"s\", \"to\": \"Pycroft\", \"width\": 6}, {\"from\": \"s\", \"to\": \"Woodley\", \"width\": 2}, {\"from\": \"s\", \"to\": \"Gennaro\", \"width\": 6}, {\"from\": \"s\", \"to\": \"Peterson\", \"width\": 2}, {\"from\": \"Smith\", \"to\": \"Woodley\", \"width\": 2}, {\"from\": \"Watson\", \"to\": \"Gregson\", \"width\": 1}, {\"from\": \"s\", \"to\": \"Saltire\", \"width\": 12}, {\"from\": \"s\", \"to\": \"Scanlan\", \"width\": 3}, {\"from\": \"Watson\", \"to\": \"Smith\", \"width\": 3}, {\"from\": \"s\", \"to\": \"Evans\", \"width\": 2}, {\"from\": \"s\", \"to\": \"Leonardo\", \"width\": 2}, {\"from\": \"s\", \"to\": \"Smith\", \"width\": 6}, {\"from\": \"s\", \"to\": \"Watson\", \"width\": 58}, {\"from\": \"s\", \"to\": \"Eustace\", \"width\": 2}, {\"from\": \"s\", \"to\": \"Openshaw\", \"width\": 2}, {\"from\": \"s\", \"to\": \"Bodymaster\", \"width\": 2}, {\"from\": \"Alec\", \"to\": \"s\", \"width\": 4}, {\"from\": \"s\", \"to\": \"Stoner\", \"width\": 3}, {\"from\": \"s\", \"to\": \"Toby\", \"width\": 2}, {\"from\": \"Holdhurst\", \"to\": \"Watson\", \"width\": 1}, {\"from\": \"s\", \"to\": \"Holdhurst\", \"width\": 1}, {\"from\": \"Garcia\", \"to\": \"s\", \"width\": 8}, {\"from\": \"Evans\", \"to\": \"Scanlan\", \"width\": 1}, {\"from\": \"s\", \"to\": \"Simpson\", \"width\": 4}, {\"from\": \"Stoner\", \"to\": \"Roylott\", \"width\": 4}, {\"from\": \"s\", \"to\": \"Barclay\", \"width\": 5}, {\"from\": \"s\", \"to\": \"Horner\", \"width\": 2}, {\"from\": \"Watson\", \"to\": \"Hall\", \"width\": 2}, {\"from\": \"s\", \"to\": \"Roylott\", \"width\": 14}, {\"from\": \"Watson\", \"to\": \"Rucastle\", \"width\": 2}, {\"from\": \"s\", \"to\": \"Rucastle\", \"width\": 10}, {\"from\": \"s\", \"to\": \"Hayes\", \"width\": 2}, {\"from\": \"Watson\", \"to\": \"Mawson\", \"width\": 2}, {\"from\": \"s\", \"to\": \"Mawson\", \"width\": 29}, {\"from\": \"s\", \"to\": \"Hall\", \"width\": 16}, {\"from\": \"s\", \"to\": \"Browner\", \"width\": 2}, {\"from\": \"s\", \"to\": \"Barrymore\", \"width\": 6}, {\"from\": \"s\", \"to\": \"Frank\", \"width\": 2}, {\"from\": \"s\", \"to\": \"Baldwin\", \"width\": 5}, {\"from\": \"s\", \"to\": \"Oberstein\", \"width\": 1}, {\"from\": \"Bodymaster\", \"to\": \"Baldwin\", \"width\": 1}, {\"from\": \"s\", \"to\": \"Douglas\", \"width\": 10}, {\"from\": \"Watson\", \"to\": \"Cornish\", \"width\": 4}, {\"from\": \"s\", \"to\": \"Williamson\", \"width\": 2}, {\"from\": \"s\", \"to\": \"Martha\", \"width\": 2}, {\"from\": \"s\", \"to\": \"George\", \"width\": 6}, {\"from\": \"s\", \"to\": \"Turner\", \"width\": 4}, {\"from\": \"s\", \"to\": \"Sarah\", \"width\": 10}, {\"from\": \"s\", \"to\": \"Cornish\", \"width\": 2}, {\"from\": \"s\", \"to\": \"Gibson\", \"width\": 4}, {\"from\": \"s\", \"to\": \"Beppo\", \"width\": 4}, {\"from\": \"Watson\", \"to\": \"Garrideb\", \"width\": 1}, {\"from\": \"Watson\", \"to\": \"George\", \"width\": 1}, {\"from\": \"s\", \"to\": \"Gilchrist\", \"width\": 1}, {\"from\": \"Watson\", \"to\": \"Gibson\", \"width\": 1}, {\"from\": \"s\", \"to\": \"Grace\", \"width\": 11}, {\"from\": \"Watson\", \"to\": \"Grace\", \"width\": 1}, {\"from\": \"Baldwin\", \"to\": \"McGinty\", \"width\": 2}, {\"from\": \"Simpson\", \"to\": \"Mapleton\", \"width\": 2}, {\"from\": \"Barrymore\", \"to\": \"Charles\", \"width\": 4}, {\"from\": \"William\", \"to\": \"Ross\", \"width\": 2}, {\"from\": \"William\", \"to\": \"Morris\", \"width\": 4}, {\"from\": \"Barrymore\", \"to\": \"Mortimer\", \"width\": 1}, {\"from\": \"William\", \"to\": \"Acton\", \"width\": 2}, {\"from\": \"Oberstein\", \"to\": \"Lucas\", \"width\": 2}, {\"from\": \"Mawson\", \"to\": \"Pycroft\", \"width\": 2}, {\"from\": \"Thaddeus\", \"to\": \"s\", \"width\": 2}, {\"from\": \"William\", \"to\": \"Alec\", \"width\": 6}, {\"from\": \"William\", \"to\": \"s\", \"width\": 8}, {\"from\": \"Thaddeus\", \"to\": \"Watson\", \"width\": 1}, {\"from\": \"Barrymore\", \"to\": \"Hall\", \"width\": 2}, {\"from\": \"Mawson\", \"to\": \"Hall\", \"width\": 2}, {\"from\": \"Toller\", \"to\": \"Rucastle\", \"width\": 2}, {\"from\": \"Hall\", \"to\": \"Williamson\", \"width\": 4}, {\"from\": \"William\", \"to\": \"Turner\", \"width\": 2}, {\"from\": \"Barrymore\", \"to\": \"Selden\", \"width\": 1}, {\"from\": \"Barclay\", \"to\": \"George\", \"width\": 1}, {\"from\": \"Grace\", \"to\": \"Wilder\", \"width\": 10}, {\"from\": \"George\", \"to\": \"Charles\", \"width\": 1}, {\"from\": \"Sarah\", \"to\": \"Mary\", \"width\": 8}, {\"from\": \"Williamson\", \"to\": \"Woodley\", \"width\": 8}, {\"from\": \"Emsworth\", \"to\": \"s\", \"width\": 3}, {\"from\": \"George\", \"to\": \"Eustace\", \"width\": 2}, {\"from\": \"Hilda\", \"to\": \"s\", \"width\": 4}, {\"from\": \"Selden\", \"to\": \"s\", \"width\": 1}, {\"from\": \"Garrideb\", \"to\": \"s\", \"width\": 1}, {\"from\": \"George\", \"to\": \"Hall\", \"width\": 2}, {\"from\": \"Sarah\", \"to\": \"Browner\", \"width\": 2}, {\"from\": \"Turner\", \"to\": \"Hall\", \"width\": 2}, {\"from\": \"George\", \"to\": \"Oberstein\", \"width\": 2}]);\n",
              "\n",
              "        // adding nodes and edges to the graph\n",
              "        data = {nodes: nodes, edges: edges};\n",
              "\n",
              "        var options = {\n",
              "    \"configure\": {\n",
              "        \"enabled\": false\n",
              "    },\n",
              "    \"edges\": {\n",
              "        \"color\": {\n",
              "            \"inherit\": true\n",
              "        },\n",
              "        \"smooth\": {\n",
              "            \"enabled\": true,\n",
              "            \"type\": \"dynamic\"\n",
              "        }\n",
              "    },\n",
              "    \"interaction\": {\n",
              "        \"dragNodes\": true,\n",
              "        \"hideEdgesOnDrag\": false,\n",
              "        \"hideNodesOnDrag\": false\n",
              "    },\n",
              "    \"physics\": {\n",
              "        \"enabled\": true,\n",
              "        \"repulsion\": {\n",
              "            \"centralGravity\": 0.2,\n",
              "            \"damping\": 0.09,\n",
              "            \"nodeDistance\": 90,\n",
              "            \"springConstant\": 0.05,\n",
              "            \"springLength\": 200\n",
              "        },\n",
              "        \"solver\": \"repulsion\",\n",
              "        \"stabilization\": {\n",
              "            \"enabled\": true,\n",
              "            \"fit\": true,\n",
              "            \"iterations\": 1000,\n",
              "            \"onlyDynamicEdges\": false,\n",
              "            \"updateInterval\": 50\n",
              "        }\n",
              "    }\n",
              "};\n",
              "        \n",
              "        \n",
              "\n",
              "        \n",
              "\n",
              "        network = new vis.Network(container, data, options);\n",
              "\t \n",
              "        \n",
              "\n",
              "\n",
              "        \n",
              "        network.on(\"stabilizationProgress\", function(params) {\n",
              "      \t\tdocument.getElementById('loadingBar').removeAttribute(\"style\");\n",
              "\t        var maxWidth = 496;\n",
              "\t        var minWidth = 20;\n",
              "\t        var widthFactor = params.iterations/params.total;\n",
              "\t        var width = Math.max(minWidth,maxWidth * widthFactor);\n",
              "\n",
              "\t        document.getElementById('bar').style.width = width + 'px';\n",
              "\t        document.getElementById('text').innerHTML = Math.round(widthFactor*100) + '%';\n",
              "\t    });\n",
              "\t    network.once(\"stabilizationIterationsDone\", function() {\n",
              "\t        document.getElementById('text').innerHTML = '100%';\n",
              "\t        document.getElementById('bar').style.width = '496px';\n",
              "\t        document.getElementById('loadingBar').style.opacity = 0;\n",
              "\t        // really clean the dom element\n",
              "\t        setTimeout(function () {document.getElementById('loadingBar').style.display = 'none';}, 500);\n",
              "\t    });\n",
              "        \n",
              "\n",
              "        return network;\n",
              "\n",
              "    }\n",
              "\n",
              "    drawGraph();\n",
              "\n",
              "</script>\n",
              "</body>\n",
              "</html>"
            ]
          },
          "metadata": {}
        }
      ]
    },
    {
      "cell_type": "markdown",
      "source": [
        "The above graph is very interesting since we can identify easily relashionships between characters (mains and minors). It seems that all characters excepted some of them have relations with Sherlock Holmes. But the most important relations are between again Watson and Sherlock and Lestrade and Sherlock."
      ],
      "metadata": {
        "id": "M9rOn2aNOWad"
      }
    },
    {
      "cell_type": "markdown",
      "source": [
        "##### Topic Model"
      ],
      "metadata": {
        "id": "muijxrAqtPpN"
      }
    },
    {
      "cell_type": "markdown",
      "source": [
        "We will research for the abstract topics of the different paragraphs of our corpus using something named as `topic model`: According to Wikipedia article, topic model is a type of statistical model for discovering the abstract \"topics\" that occur in a collection of documents."
      ],
      "metadata": {
        "id": "Sh2Mw4_bnEpT"
      }
    },
    {
      "cell_type": "code",
      "source": [
        "# let's separate each story into paragraphs\n",
        "\n",
        "sf_paragraphs = sf.flat_map(['title', 'text'], lambda t: [[t[\"title\"], p.strip()] for p in t[\"text\"].split(\"\\n\\n\")])\n",
        "sf_paragraphs = sf_paragraphs.rename({\"text\": \"paragraph\"})"
      ],
      "metadata": {
        "id": "jE-352ldsvv7"
      },
      "execution_count": 138,
      "outputs": []
    },
    {
      "cell_type": "markdown",
      "source": [
        "Let's calculate the number of words in each paragraph having less than 25 words."
      ],
      "metadata": {
        "id": "r32zlWwkomKZ"
      }
    },
    {
      "cell_type": "code",
      "source": [
        "sf_paragraphs[\"paragraph_words_number\"] = sf_paragraphs[\"paragraph\"].apply(lambda p: len(tokenizer.tokenize(p)))\n",
        "sf_paragraphs = sf_paragraphs[sf_paragraphs[\"paragraph_words_number\"] >= 25]"
      ],
      "metadata": {
        "id": "Z0UpAhnWofET"
      },
      "execution_count": 139,
      "outputs": []
    },
    {
      "cell_type": "markdown",
      "source": [
        "Let's use the `turicreate`'s topic model toolkit to discover the topic of each paragraph (10 topics exactly). The topics can change at each trial."
      ],
      "metadata": {
        "id": "IwXMqO6Hpa28"
      }
    },
    {
      "cell_type": "code",
      "source": [
        "nltk.download('stopwords')"
      ],
      "metadata": {
        "colab": {
          "base_uri": "https://localhost:8080/"
        },
        "id": "9V6MXLuqqzC5",
        "outputId": "a481ecd3-957b-4c05-8a8f-50d1a8285337"
      },
      "execution_count": 140,
      "outputs": [
        {
          "output_type": "stream",
          "name": "stderr",
          "text": [
            "[nltk_data] Downloading package stopwords to /root/nltk_data...\n",
            "[nltk_data]   Package stopwords is already up-to-date!\n"
          ]
        },
        {
          "output_type": "execute_result",
          "data": {
            "text/plain": [
              "True"
            ]
          },
          "metadata": {},
          "execution_count": 140
        }
      ]
    },
    {
      "cell_type": "code",
      "source": [
        "docs = tr.text_analytics.count_ngrams(sf_paragraphs[\"paragraph\"], n = 1)\n",
        "stopwords = set(nltk.corpus.stopwords.words())\n",
        "\n",
        "# let's add some other stopwords \n",
        "stopwords |= set(['man', 'mr', 'sir', 'make', 'made', 'll', 'door', 'long', 'day', 'small'])\n",
        "docs = docs.dict_trim_by_keys(stopwords, exclude = True)\n",
        "docs = docs.dropna()\n",
        "topic_model = tr.topic_model.create(docs, num_topics=10)"
      ],
      "metadata": {
        "colab": {
          "base_uri": "https://localhost:8080/",
          "height": 173
        },
        "id": "V1PTXw10pPFE",
        "outputId": "3fbe5ec2-0522-4112-ee29-7830471280be"
      },
      "execution_count": 141,
      "outputs": [
        {
          "output_type": "display_data",
          "data": {
            "text/plain": [
              "Learning a topic model"
            ],
            "text/html": [
              "<pre>Learning a topic model</pre>"
            ]
          },
          "metadata": {}
        },
        {
          "output_type": "display_data",
          "data": {
            "text/plain": [
              "       Number of documents     11657"
            ],
            "text/html": [
              "<pre>       Number of documents     11657</pre>"
            ]
          },
          "metadata": {}
        },
        {
          "output_type": "display_data",
          "data": {
            "text/plain": [
              "           Vocabulary size     18007"
            ],
            "text/html": [
              "<pre>           Vocabulary size     18007</pre>"
            ]
          },
          "metadata": {}
        },
        {
          "output_type": "display_data",
          "data": {
            "text/plain": [
              "   Running collapsed Gibbs sampling"
            ],
            "text/html": [
              "<pre>   Running collapsed Gibbs sampling</pre>"
            ]
          },
          "metadata": {}
        },
        {
          "output_type": "display_data",
          "data": {
            "text/plain": [
              "+-----------+---------------+----------------+-----------------+"
            ],
            "text/html": [
              "<pre>+-----------+---------------+----------------+-----------------+</pre>"
            ]
          },
          "metadata": {}
        },
        {
          "output_type": "display_data",
          "data": {
            "text/plain": [
              "| Iteration | Elapsed Time  | Tokens/Second  | Est. Perplexity |"
            ],
            "text/html": [
              "<pre>| Iteration | Elapsed Time  | Tokens/Second  | Est. Perplexity |</pre>"
            ]
          },
          "metadata": {}
        },
        {
          "output_type": "display_data",
          "data": {
            "text/plain": [
              "+-----------+---------------+----------------+-----------------+"
            ],
            "text/html": [
              "<pre>+-----------+---------------+----------------+-----------------+</pre>"
            ]
          },
          "metadata": {}
        },
        {
          "output_type": "display_data",
          "data": {
            "text/plain": [
              "| 10        | 953.355ms     | 3.61358e+06    | 0               |"
            ],
            "text/html": [
              "<pre>| 10        | 953.355ms     | 3.61358e+06    | 0               |</pre>"
            ]
          },
          "metadata": {}
        },
        {
          "output_type": "display_data",
          "data": {
            "text/plain": [
              "+-----------+---------------+----------------+-----------------+"
            ],
            "text/html": [
              "<pre>+-----------+---------------+----------------+-----------------+</pre>"
            ]
          },
          "metadata": {}
        }
      ]
    },
    {
      "cell_type": "markdown",
      "source": [
        "Let's view the most common words in each topic."
      ],
      "metadata": {
        "id": "rpZff62vr0BT"
      }
    },
    {
      "cell_type": "code",
      "source": [
        "topic_model.get_topics().print_rows(1000)\n",
        "\n",
        "# save the model\n",
        "topic_model.save(\"%s/topic_model\" % data_dir)"
      ],
      "metadata": {
        "colab": {
          "base_uri": "https://localhost:8080/"
        },
        "id": "YyyX9MNlrc9X",
        "outputId": "65ddf0ed-84a9-493c-dd02-09e7dbb59972"
      },
      "execution_count": 142,
      "outputs": [
        {
          "output_type": "stream",
          "name": "stdout",
          "text": [
            "+-------+----------+-----------------------+\n",
            "| topic |   word   |         score         |\n",
            "+-------+----------+-----------------------+\n",
            "|   0   |   room   |  0.02768494826334979  |\n",
            "|   0   |  watson  |  0.017243524951659924 |\n",
            "|   0   |   eyes   |  0.014299286401561327 |\n",
            "|   0   |   mrs    |  0.011263988927232878 |\n",
            "|   0   |  death   |  0.009655281265838799 |\n",
            "|   1   |  years   |  0.012905635450522087 |\n",
            "|   1   |  london  |  0.011825278500586012 |\n",
            "|   1   |  night   |  0.008028595505096376 |\n",
            "|   1   | business |  0.007843391456535904 |\n",
            "|   1   | country  | 0.0074729833594149656 |\n",
            "|   2   |   back   |  0.030831329708564933 |\n",
            "|   2   |  father  |  0.011196328129639086 |\n",
            "|   2   |  watson  |  0.010383414051530692 |\n",
            "|   2   |  words   |  0.009132777008287006 |\n",
            "|   2   |  facts   |  0.008194799225854244 |\n",
            "|   3   |  holmes  |  0.08111172729158318  |\n",
            "|   3   |  black   |  0.013417932504482135 |\n",
            "|   3   |   knew   |  0.013139102228471193 |\n",
            "|   3   |   head   |  0.012550460534670314 |\n",
            "|   3   |  hands   |  0.009700195491002902 |\n",
            "|   4   |   case   |  0.02036205414363252  |\n",
            "|   4   |   half   |  0.015117141553670782 |\n",
            "|   4   |   eyes   |  0.011889503036771252 |\n",
            "|   4   |  house   |  0.011455013236419391 |\n",
            "|   4   | remember |  0.009189459277441837 |\n",
            "|   5   | morning  |  0.013397812204238047 |\n",
            "|   5   |   hand   |  0.012014325377233884 |\n",
            "|   5   |  found   |  0.010505067020502069 |\n",
            "|   5   |   told   |  0.010127752431319116 |\n",
            "|   5   |  night   |  0.009656109194840423 |\n",
            "|   6   |  house   |  0.02276481281546904  |\n",
            "|   6   |  round   |  0.02178052148984411  |\n",
            "|   6   |  window  |  0.017966392603047512 |\n",
            "|   6   |  night   |  0.016674510238164797 |\n",
            "|   6   |   room   |   0.0159362917439461  |\n",
            "|   7   |   time   |  0.04143827275688241  |\n",
            "|   7   |   hand   |   0.0152487529929723  |\n",
            "|   7   |   find   |  0.011010352451469939 |\n",
            "|   7   |  passed  |  0.010219606081786663 |\n",
            "|   7   |  table   |  0.010187976226999332 |\n",
            "|   8   |  holmes  |  0.011944346522608328 |\n",
            "|   8   |   lady   |  0.011531486898056591 |\n",
            "|   8   |  light   |  0.011118627273504855 |\n",
            "|   8   |  woman   |  0.010197632726427904 |\n",
            "|   8   |  chair   |  0.009498947207955733 |\n",
            "|   9   |  paper   |  0.013591963013172443 |\n",
            "|   9   |   give   |  0.012801916337214964 |\n",
            "|   9   |   open   |  0.01264390700202347  |\n",
            "|   9   |  street  |  0.01046337817638083  |\n",
            "|   9   |  woman   |  0.008978090425580775 |\n",
            "+-------+----------+-----------------------+\n",
            "[50 rows x 3 columns]\n",
            "\n"
          ]
        }
      ]
    },
    {
      "cell_type": "markdown",
      "source": [
        "Let's visualize more clearly the topics and their most common words with the excellent `pyLDAvis` package developed by Ben Mabey. We will then use the `sklearn` topic model named as `LatentDirichletAllocation` because the `pyLDAvis.graphlab` module is not anymore available."
      ],
      "metadata": {
        "id": "AhTabjOXsbVE"
      }
    },
    {
      "cell_type": "code",
      "source": [
        "!pip install pyLDAvis"
      ],
      "metadata": {
        "colab": {
          "base_uri": "https://localhost:8080/"
        },
        "id": "pvYmDF_cd2DH",
        "outputId": "ecf78797-2fce-4773-9892-49e840229bb1"
      },
      "execution_count": 143,
      "outputs": [
        {
          "output_type": "stream",
          "name": "stdout",
          "text": [
            "\u001b[33mWARNING: Ignoring invalid distribution -andas (/usr/local/lib/python3.8/dist-packages)\u001b[0m\u001b[33m\n",
            "\u001b[0m\u001b[33mWARNING: Ignoring invalid distribution -andas (/usr/local/lib/python3.8/dist-packages)\u001b[0m\u001b[33m\n",
            "\u001b[0mLooking in indexes: https://pypi.org/simple, https://us-python.pkg.dev/colab-wheels/public/simple/\n",
            "Requirement already satisfied: pyLDAvis in /usr/local/lib/python3.8/dist-packages (3.3.1)\n",
            "Requirement already satisfied: scipy in /usr/local/lib/python3.8/dist-packages (from pyLDAvis) (1.7.3)\n",
            "Requirement already satisfied: pandas>=1.2.0 in /usr/local/lib/python3.8/dist-packages (from pyLDAvis) (1.5.2)\n",
            "Requirement already satisfied: scikit-learn in /usr/local/lib/python3.8/dist-packages (from pyLDAvis) (1.0.2)\n",
            "Requirement already satisfied: future in /usr/local/lib/python3.8/dist-packages (from pyLDAvis) (0.16.0)\n",
            "Requirement already satisfied: joblib in /usr/local/lib/python3.8/dist-packages (from pyLDAvis) (1.2.0)\n",
            "Requirement already satisfied: setuptools in /usr/local/lib/python3.8/dist-packages (from pyLDAvis) (57.4.0)\n",
            "Requirement already satisfied: funcy in /usr/local/lib/python3.8/dist-packages (from pyLDAvis) (1.17)\n",
            "Requirement already satisfied: gensim in /usr/local/lib/python3.8/dist-packages (from pyLDAvis) (4.3.0)\n",
            "Requirement already satisfied: numpy>=1.20.0 in /usr/local/lib/python3.8/dist-packages (from pyLDAvis) (1.21.6)\n",
            "Requirement already satisfied: numexpr in /usr/local/lib/python3.8/dist-packages (from pyLDAvis) (2.8.4)\n",
            "Requirement already satisfied: jinja2 in /usr/local/lib/python3.8/dist-packages (from pyLDAvis) (2.11.3)\n",
            "Requirement already satisfied: sklearn in /usr/local/lib/python3.8/dist-packages (from pyLDAvis) (0.0.post1)\n",
            "Requirement already satisfied: python-dateutil>=2.8.1 in /usr/local/lib/python3.8/dist-packages (from pandas>=1.2.0->pyLDAvis) (2.8.2)\n",
            "Requirement already satisfied: pytz>=2020.1 in /usr/local/lib/python3.8/dist-packages (from pandas>=1.2.0->pyLDAvis) (2022.7)\n",
            "Requirement already satisfied: smart-open>=1.8.1 in /usr/local/lib/python3.8/dist-packages (from gensim->pyLDAvis) (6.3.0)\n",
            "Requirement already satisfied: FuzzyTM>=0.4.0 in /usr/local/lib/python3.8/dist-packages (from gensim->pyLDAvis) (2.0.5)\n",
            "Requirement already satisfied: MarkupSafe>=0.23 in /usr/local/lib/python3.8/dist-packages (from jinja2->pyLDAvis) (2.0.1)\n",
            "Requirement already satisfied: threadpoolctl>=2.0.0 in /usr/local/lib/python3.8/dist-packages (from scikit-learn->pyLDAvis) (3.1.0)\n",
            "Requirement already satisfied: pyfume in /usr/local/lib/python3.8/dist-packages (from FuzzyTM>=0.4.0->gensim->pyLDAvis) (0.2.25)\n",
            "Requirement already satisfied: six>=1.5 in /usr/local/lib/python3.8/dist-packages (from python-dateutil>=2.8.1->pandas>=1.2.0->pyLDAvis) (1.15.0)\n",
            "Requirement already satisfied: simpful in /usr/local/lib/python3.8/dist-packages (from pyfume->FuzzyTM>=0.4.0->gensim->pyLDAvis) (2.9.0)\n",
            "Requirement already satisfied: fst-pso in /usr/local/lib/python3.8/dist-packages (from pyfume->FuzzyTM>=0.4.0->gensim->pyLDAvis) (1.8.1)\n",
            "Requirement already satisfied: miniful in /usr/local/lib/python3.8/dist-packages (from fst-pso->pyfume->FuzzyTM>=0.4.0->gensim->pyLDAvis) (0.0.6)\n",
            "Requirement already satisfied: requests in /usr/local/lib/python3.8/dist-packages (from simpful->pyfume->FuzzyTM>=0.4.0->gensim->pyLDAvis) (2.25.1)\n",
            "Requirement already satisfied: idna<3,>=2.5 in /usr/local/lib/python3.8/dist-packages (from requests->simpful->pyfume->FuzzyTM>=0.4.0->gensim->pyLDAvis) (2.10)\n",
            "Requirement already satisfied: certifi>=2017.4.17 in /usr/local/lib/python3.8/dist-packages (from requests->simpful->pyfume->FuzzyTM>=0.4.0->gensim->pyLDAvis) (2022.12.7)\n",
            "Requirement already satisfied: chardet<5,>=3.0.2 in /usr/local/lib/python3.8/dist-packages (from requests->simpful->pyfume->FuzzyTM>=0.4.0->gensim->pyLDAvis) (4.0.0)\n",
            "Requirement already satisfied: urllib3<1.27,>=1.21.1 in /usr/local/lib/python3.8/dist-packages (from requests->simpful->pyfume->FuzzyTM>=0.4.0->gensim->pyLDAvis) (1.26.14)\n",
            "\u001b[33mWARNING: Ignoring invalid distribution -andas (/usr/local/lib/python3.8/dist-packages)\u001b[0m\u001b[33m\n",
            "\u001b[0m"
          ]
        }
      ]
    },
    {
      "cell_type": "markdown",
      "source": [
        "Let's create our new topic model with 10 components like we did previously."
      ],
      "metadata": {
        "id": "6qWG6atXgDiv"
      }
    },
    {
      "cell_type": "code",
      "source": [
        "# Let's import the sklearn tools\n",
        "from sklearn.feature_extraction.text import CountVectorizer, TfidfVectorizer # for vectorization\n",
        "from sklearn.decomposition import LatentDirichletAllocation # for training the topic model"
      ],
      "metadata": {
        "id": "x-LORBVkgKd0"
      },
      "execution_count": 144,
      "outputs": []
    },
    {
      "cell_type": "markdown",
      "source": [
        "Let's get the documents which are the paragraphs."
      ],
      "metadata": {
        "id": "TxW9QEsniko9"
      }
    },
    {
      "cell_type": "code",
      "source": [
        "documents = sf_paragraphs['paragraph']"
      ],
      "metadata": {
        "id": "C1FvjWfbikMP"
      },
      "execution_count": 145,
      "outputs": []
    },
    {
      "cell_type": "markdown",
      "source": [
        "Let's vectorize the corpus."
      ],
      "metadata": {
        "id": "NGrAfTcPjB5G"
      }
    },
    {
      "cell_type": "code",
      "source": [
        "tf_vectorizer = CountVectorizer(strip_accents = 'unicode',\n",
        "                                stop_words = stopwords,\n",
        "                                lowercase = True,\n",
        "                                token_pattern = r'\\b(\\w+)\\b',\n",
        "                                )\n",
        "\n",
        "dtm_tf = tf_vectorizer.fit_transform(documents)\n",
        "tfidf_vectorizer = TfidfVectorizer(**tf_vectorizer.get_params())\n",
        "dtm_tfidf = tfidf_vectorizer.fit_transform(documents) # recuperate results as a one dimensionnal array"
      ],
      "metadata": {
        "colab": {
          "base_uri": "https://localhost:8080/"
        },
        "id": "Vd5sObW9jFQm",
        "outputId": "7eb1a2a6-dccc-4eb2-b82e-6bfe8401c8ca"
      },
      "execution_count": 146,
      "outputs": [
        {
          "output_type": "stream",
          "name": "stderr",
          "text": [
            "/usr/local/lib/python3.8/dist-packages/sklearn/feature_extraction/text.py:396: UserWarning: Your stop_words may be inconsistent with your preprocessing. Tokenizing the stop words generated tokens ['acesti', 'aci', 'aiba', 'aixi', 'aixo', 'aldiz', 'alli', 'altal', 'altalaban', 'altmıs', 'ambdos', 'amig', 'aqui', 'arrol', 'astia', 'ate', 'aveti', 'avra', 'avro', 'azert', 'aztan', 'azutan', 'bade', 'bae', 'baiknya', 'baizik', 'bar', 'belul', 'berkali', 'bes', 'birkac', 'birsey', 'bos', 'brzcas', 'brzkone', 'bukatzeko', 'butun', 'caci', 'cadascu', 'carei', 'caror', 'carui', 'cate', 'cati', 'catva', 'cem', 'cemer', 'cemerkoli', 'cemu', 'cemur', 'cemurkoli', 'ceprav', 'ceravno', 'cesa', 'cesar', 'cesarkoli', 'cetrta', 'cetrte', 'cetrtega', 'cetrtem', 'cetrtemu', 'cetrti', 'cetrtih', 'cetrtim', 'cetrtima', 'cetrtimi', 'cetrto', 'cetudi', 'cez', 'cezenj', 'ceznje', 'cigar', 'cigav', 'cigava', 'cigave', 'cigavega', 'cigavem', 'cigavemu', 'cigavi', 'cigavih', 'cigavim', 'cigavima', 'cigavimi', 'cigavo', 'cim', 'cimer', 'cimerkoli', 'citva', 'cok', 'cox', 'cunki', 'cunku', 'data', 'despres', 'dord', 'doua', 'dovolis', 'drugacen', 'drugacna', 'drugacne', 'drugacnega', 'drugacnem', 'drugacnemu', 'drugacni', 'drugacnih', 'drugacnim', 'drugacnima', 'drugacnimi', 'drugacno', 'duz', 'dvainsestdeset', 'dvainsestdesetih', 'dvainsestdesetim', 'dvainsestdesetimi', 'edota', 'eger', 'egesz', 'egyeb', 'eivat', 'eleg', 'elo', 'eloszor', 'elott', 'elso', 'eppen', 'eramos', 'ereu', 'essent', 'estabamos', 'estais', 'estao', 'estara', 'estaran', 'estaras', 'estare', 'estareis', 'estaria', 'estariais', 'estariamos', 'estarian', 'estarias', 'estavamos', 'estavem', 'estaveu', 'esteis', 'esten', 'esti', 'estiveramos', 'estivessemos', 'estuvieramos', 'estuviesemos', 'etaient', 'etais', 'etait', 'etant', 'etante', 'etantes', 'etants', 'ete', 'etee', 'etees', 'etes', 'etiez', 'etions', 'etta', 'eumes', 'eutes', 'eze', 'ezert', 'ezpabere', 'ezpada', 'ezperen', 'faro', 'fele', 'fiti', 'foramos', 'fossemos', 'fran', 'fueramos', 'fuesemos', 'fumes', 'fur', 'futes', 'gainera', 'gainerontzean', 'gairebe', 'gorə', 'guztiz', 'habeis', 'habia', 'habiais', 'habiamos', 'habian', 'habias', 'habra', 'habran', 'habras', 'habre', 'habreis', 'habria', 'habriais', 'habriamos', 'habrian', 'habrias', 'hainbestez', 'haneen', 'hanella', 'hanelle', 'hanelta', 'hanen', 'hanessa', 'hanesta', 'hanet', 'hanta', 'hao', 'hayais', 'hec', 'heidan', 'heidat', 'heilla', 'heilta', 'heissa', 'heista', 'heita', 'hic', 'hja', 'hoce', 'hocejo', 'hocem', 'hocemo', 'hoces', 'hoceta', 'hocete', 'hoceva', 'horra', 'houveramos', 'houverao', 'houveriamos', 'houvessemos', 'hubieramos', 'hubiesemos', 'həmisə', 'icin', 'igy', 'inclos', 'ismet', 'jol', 'kakrsen', 'kakrsenkoli', 'kakrsna', 'kakrsnakoli', 'kakrsne', 'kakrsnega', 'kakrsnegakoli', 'kakrsnekoli', 'kakrsnem', 'kakrsnemkoli', 'kakrsnemu', 'kakrsnemukoli', 'kakrsni', 'kakrsnih', 'kakrsnihkoli', 'kakrsnikoli', 'kakrsnim', 'kakrsnima', 'kakrsnimakoli', 'kakrsnimi', 'kakrsnimikoli', 'kakrsnimkoli', 'kakrsno', 'kakrsnokoli', 'kaksen', 'kaksna', 'kaksne', 'kaksnega', 'kaksnem', 'kaksnemu', 'kaksni', 'kaksnih', 'kaksnim', 'kaksnima', 'kaksnimi', 'kaksno', 'kali', 'keilla', 'keilta', 'keina', 'keissa', 'keista', 'keita', 'kenella', 'kenelta', 'kenena', 'kenessa', 'kenesta', 'keressunk', 'keresztul', 'keta', 'ketka', 'kivul', 'koliksen', 'koliksna', 'koliksne', 'koliksnega', 'koliksnem', 'koliksnemu', 'koliksni', 'koliksnih', 'koliksnim', 'koliksnima', 'koliksnimi', 'koliksno', 'konnen', 'konnte', 'kozott', 'kozul', 'kurangnya', 'langa', 'legalabb', 'linga', 'magat', 'maras', 'marsicem', 'marsicemu', 'marsicesa', 'marsicim', 'marvec', 'masik', 'mata', 'meidan', 'meidat', 'meilla', 'meilta', 'meissa', 'meista', 'meita', 'meme', 'mias', 'miert', 'miine', 'mika', 'milla', 'milta', 'minka', 'mios', 'mirsey', 'missa', 'mista', 'mita', 'mitka', 'moci', 'moras', 'mores', 'nagon', 'nagot', 'nagra', 'naiden', 'naihin', 'naiksi', 'nailla', 'naille', 'nailta', 'naina', 'naissa', 'naista', 'naita', 'najbrz', 'namrec', 'nao', 'nar', 'nasa', 'nasega', 'nasem', 'nasemu', 'nasi', 'nasih', 'nasim', 'nasima', 'nasimi', 'naso', 'necem', 'necemu', 'necesa', 'necim', 'neha', 'nehany', 'nekaksen', 'nekaksna', 'nekaksne', 'nekaksnega', 'nekaksnem', 'nekaksnemu', 'nekaksni', 'nekaksnih', 'nekaksnim', 'nekaksnima', 'nekaksnimi', 'nekaksno', 'nelkul', 'nic', 'nicemer', 'nicemur', 'nicesar', 'nicimer', 'nicin', 'nihce', 'niilla', 'niilta', 'niina', 'niissa', 'niista', 'niita', 'nikakrsen', 'nikakrsna', 'nikakrsne', 'nikakrsnega', 'nikakrsnem', 'nikakrsnemu', 'nikakrsni', 'nikakrsnih', 'nikakrsnim', 'nikakrsnima', 'nikakrsnimi', 'nikakrsno', 'noastra', 'noce', 'nocejo', 'nocem', 'nocemo', 'noces', 'noceta', 'nocete', 'noceva', 'nomes', 'ogsa', 'oket', 'olah', 'oldugu', 'olmusdur', 'onların', 'ordea', 'oricand', 'oricat', 'oricind', 'oricit', 'oseminstirideset', 'oseminstiridesetih', 'oseminstiridesetim', 'oseminstiridesetimi', 'ossze', 'osterantzean', 'oz', 'ozu', 'pac', 'pana', 'perche', 'perque', 'petinstirideset', 'petinstirideseta', 'petinstiridesete', 'petinstiridesetega', 'petinstiridesetem', 'petinstiridesetemu', 'petinstirideseti', 'petinstiridesetih', 'petinstiridesetim', 'petinstiridesetima', 'petinstiridesetimi', 'petinstirideseto', 'piu', 'printr', 'putin', 'putina', 'qarsı', 'ra', 'sadan', 'sadana', 'sadant', 'sajat', 'sann', 'sao', 'saro', 'seais', 'sedeminsestdeset', 'sedeminsestdesetih', 'sedeminsestdesetim', 'sedeminsestdesetimi', 'seka', 'sekurang', 'sele', 'seran', 'serao', 'sere', 'sereis', 'seriais', 'seriamos', 'serian', 'serias', 'sest', 'sesta', 'sestdeset', 'sestdeseta', 'sestdesete', 'sestdesetega', 'sestdesetem', 'sestdesetemu', 'sestdeseti', 'sestdesetih', 'sestdesetim', 'sestdesetima', 'sestdesetimi', 'sestdeseto', 'seste', 'sestega', 'sestem', 'sestemu', 'sesti', 'sestih', 'sestim', 'sestima', 'sestimi', 'sestindvajset', 'sestindvajsetih', 'sestindvajsetim', 'sestindvajsetimi', 'sestintrideset', 'sestintridesetih', 'sestintridesetim', 'sestintridesetimi', 'sestnajst', 'sestnajsta', 'sestnajste', 'sestnajstega', 'sestnajstem', 'sestnajstemu', 'sestnajsti', 'sestnajstih', 'sestnajstim', 'sestnajstima', 'sestnajstimi', 'sestnajsto', 'sesto', 'seststo', 'seststotih', 'seststotim', 'seststotimi', 'setidak', 'sey', 'siina', 'siita', 'silla', 'silta', 'sita', 'sjalv', 'smes', 'sprico', 'stara', 'staro', 'stiri', 'stirideset', 'stirideseta', 'stiridesete', 'stiridesetega', 'stiridesetem', 'stiridesetemu', 'stirideseti', 'stiridesetih', 'stiridesetim', 'stiridesetima', 'stiridesetimi', 'stirideseto', 'stirih', 'stiriindvajset', 'stiriindvajseta', 'stiriindvajsete', 'stiriindvajsetega', 'stiriindvajsetem', 'stiriindvajsetemu', 'stiriindvajseti', 'stiriindvajsetih', 'stiriindvajsetim', 'stiriindvajsetima', 'stiriindvajsetimi', 'stiriindvajseto', 'stirim', 'stirimi', 'stirinajst', 'stirinajsta', 'stirinajste', 'stirinajstega', 'stirinajstem', 'stirinajstemu', 'stirinajsti', 'stirinajstih', 'stirinajstim', 'stirinajstima', 'stirinajstimi', 'stirinajsto', 'stiristo', 'stiristotih', 'stiristotim', 'stiristotimi', 'stirje', 'sunteti', 'szamara', 'tahan', 'taksen', 'taksi', 'taksna', 'taksne', 'taksnega', 'taksnem', 'taksnemu', 'taksni', 'taksnih', 'taksnim', 'taksnima', 'taksnimi', 'taksno', 'talan', 'talla', 'talle', 'talta', 'tama', 'taman', 'tambe', 'tambem', 'tambien', 'tana', 'tassa', 'tasta', 'tata', 'tau', 'tehat', 'teidan', 'teidat', 'teilla', 'teilta', 'teissa', 'teista', 'teita', 'temvec', 'tendra', 'tendran', 'tendras', 'tendre', 'tendreis', 'tendria', 'tendriais', 'tendriamos', 'tendrian', 'tendrias', 'teneis', 'tengais', 'tenia', 'teniais', 'teniamos', 'tenian', 'tenias', 'terao', 'teriamos', 'tidaknya', 'tieи', 'tinhamos', 'tisoc', 'tisoca', 'tisoce', 'tisocega', 'tisocem', 'tisocemu', 'tisocer', 'tisocera', 'tisocere', 'tisocerega', 'tisocerem', 'tisoceremu', 'tisoceri', 'tisocerih', 'tisocerim', 'tisocerima', 'tisocerimi', 'tisocero', 'tisoci', 'tisocih', 'tisocim', 'tisocima', 'tisocimi', 'tisoco', 'tiveramos', 'tivessemos', 'tobb', 'toliksen', 'toliksna', 'toliksne', 'toliksnega', 'toliksnem', 'toliksnemu', 'toliksni', 'toliksnih', 'toliksnim', 'toliksnima', 'toliksnimi', 'toliksno', 'tovabb', 'tovabba', 'triinsestdeset', 'triinsestdesetih', 'triinsestdesetim', 'triinsestdesetimi', 'tuota', 'tuvieramos', 'tuviesemos', 'təəssuf', 'uber', 'uc', 'ucun', 'ugy', 'uj', 'ujabb', 'ujra', 'ultim', 'us一', 'utana', 'utolso', 'valo', 'varfor', 'vasa', 'vasega', 'vasem', 'vasemu', 'vasi', 'vasih', 'vasim', 'vasima', 'vasimi', 'vaso', 'vnovic', 'voastra', 'voce', 'voces', 'voua', 'vprico', 'vsakrsen', 'vsakrsna', 'vsakrsne', 'vsakrsnega', 'vsakrsnem', 'vsakrsnemu', 'vsakrsni', 'vsakrsnih', 'vsakrsnim', 'vsakrsnima', 'vsakrsnimi', 'vsakrsno', 'vsec', 'vstric', 'vzdolz', 'wahrend', 'wurde', 'wurden', 'yaxsı', 'yetmis', 'yuz', 'zelel', 'zelela', 'zelele', 'zeleli', 'zelelo', 'zelen', 'zelena', 'zelene', 'zeleni', 'zeleno', 'zeleti', 'zeli', 'zelijo', 'zelim', 'zelimo', 'zelis', 'zelita', 'zelite', 'zeliva', 'zmoci', 'zmores', 'α', 'αι', 'αλλ', 'αλλος', 'αλλοσ', 'αμα', 'απ', 'αρα', 'αυ', 'αυτος', 'αφ', 'γαρ', 'γουν', 'δ', 'δαι', 'δαις', 'δαισ', 'δη', 'δι', 'δια', 'εαυτου', 'εγω', 'ει', 'ειμι', 'εις', 'εισ', 'ειτε', 'εκ', 'εμος', 'εμοσ', 'εν', 'εξ', 'επει', 'εστι', 'ετι', 'εφ', 'ης', 'ινα', 'καιτοι', 'καν', 'μεν', 'μητε', 'οδε', 'οθεν', 'οις', 'ον', 'οπερ', 'ος', 'οσ', 'οστις', 'οστισ', 'οτε', 'ου', 'ουδ', 'ουδε', 'ουδεις', 'ουδεισ', 'ουδεν', 'ουκ', 'ουν', 'ους', 'ουτε', 'ουτος', 'ουτοσ', 'ουτω', 'ουτως', 'ουτωσ', 'ουχ', 'ουχι', 'περι', 'προς', 'σος', 'σοσ', 'συ', 'συν', 'ταις', 'τας', 'τη', 'της', 'τοιουτος', 'τοιουτοσ', 'τοις', 'τους', 'τουσ', 'τω', 'υμοσ', 'υπ', 'υπερ', 'υπο', 'ω', 'ως', 'ωστε', 'ае', 'аи', 'аитпақшы', 'алаида', 'алақаи', 'арбаң', 'арнаиы', 'арсалаң', 'афташ', 'баи', 'бале', 'баски', 'батыр', 'баҳри', 'боиы', 'боиымен', 'болои', 'бүгжең', 'бүит', 'бұндаи', 'бұтыр', 'валекин', 'вақте', 'вои', 'вуҷуди', 'гар', 'гарчанде', 'гуе', 'далаң', 'даме', 'деиін', 'другои', 'еи', 'ербелең', 'ешқаисы', 'ешқандаи', 'жалт', 'жұлт', 'какои', 'кани', 'карда', 'кеибір', 'кеибіреу', 'кеиін', 'кошки', 'куя', 'күңгір', 'магар', 'маилаш', 'масқараи', 'митың', 'модоме', 'мои', 'мұндаи', 'неи', 'нияти', 'ое', 'ои', 'оипырмаи', 'онан', 'оре', 'осылаи', 'осындаи', 'паи', 'паһ', 'руacaba', 'руи', 'руии', 'саиын', 'салаң', 'сар', 'сеичас', 'солаи', 'сондаи', 'сұлаң', 'сұрт', 'такои', 'тарбаң', 'тразе', 'ту', 'тыржың', 'тұрс', 'уаи', 'уббо', 'уим', 'уҳу', 'хаир', 'хом', 'хуб', 'чаро', 'чи', 'чун', 'чунон', 'ш', 'шарте', 'шеиін', 'шұңқ', 'шәит', 'ыржың', 'эи', 'этои', 'япырмаи', 'ғаири', 'қадар', 'қаисыбір', 'қаиқаң', 'қалт', 'қараи', 'қаңғыр', 'қаңқ', 'қош', 'қызараң', 'құиқаң', 'құлт', 'құңқ', 'үит', 'ұрс', 'ҳаи', 'ҳамин', 'ҳатто', 'ҳо', 'ҳои', 'ҳол', 'ҳолате', 'әи', 'әида', 'әиткенмен', 'әитпесе', 'әлдеқаидан', 'әлдеқалаи', 'әншеиін', 'әрқаисы', 'әрқалаи', 'әттеген', 'әттегенаи', 'өи', 'өиткені', 'באיזו', 'בו', 'במקום', 'בשעה', 'הסיבה', 'לאיזו', 'למקום', 'מאיזו', 'מידה', 'מקום', 'סיבה', 'ש', 'שבגללה', 'שבו', 'תכלית', 'اب', 'ابتدا', 'ابدا', 'ابريل', 'ابو', 'اجل', 'اجمع', 'احد', 'احدى', 'اخ', 'اخبر', 'اخذ', 'اخو', 'اذ', 'اذا', 'اذار', 'اذما', 'اذن', 'اربع', 'اربعاء', 'اربعة', 'اربعماية', 'اربعمية', 'ارتد', 'ارى', 'ازاء', 'اسكن', 'اصبح', 'اصلا', 'اض', 'اضحى', 'اطعم', 'اعطى', 'اعلم', 'اغسطس', 'اف', 'افريل', 'افعل', 'افعله', 'اقبل', 'اقل', 'اكتوبر', 'اكثر', 'ال', 'الا', 'الالاء', 'الالى', 'الان', 'الف', 'الفى', 'اللايي', 'الى', 'اليك', 'اليكم', 'اليكما', 'اليكن', 'ام', 'اما', 'امام', 'امامك', 'امد', 'امس', 'امسى', 'امين', 'ان', 'انا', 'اناء', 'انبا', 'انت', 'انتم', 'انتما', 'انتن', 'انشا', 'انفا', 'انفك', 'انما', 'انه', 'انى', 'اه', 'اها', 'اهلا', 'او', 'اوت', 'اوشك', 'اول', 'اولاء', 'اولالك', 'اوليك', 'اوه', 'اى', 'اي', 'ايا', 'ايار', 'اياك', 'اياكم', 'اياكما', 'اياكن', 'ايان', 'ايانا', 'اياه', 'اياها', 'اياهم', 'اياهما', 'اياهن', 'اياي', 'ايضا', 'ايلول', 'اين', 'اينما', 'ايه', 'ايها', 'برح', 'بطان', 'بله', 'بوسا', 'بيس', 'تان', 'تانك', 'تبدل', 'تحول', 'تسعماية', 'تسعمية', 'تعلم', 'ثلاثماية', 'ثلاثمية', 'ثمانمية', 'ثمنمية', 'حدث', 'حذار', 'حم', 'حي', 'خبر', 'خمسماية', 'خمسمية', 'راى', 'رب', 'سبعماية', 'سبعمية', 'ستماية', 'ستمية', 'سيما', 'صه', 'طق', 'ظل', 'ظن', 'عد', 'عدس', 'فاذا', 'فان', 'قط', 'كانما', 'كاي', 'كاين', 'كخ', 'لين', 'مافتي', 'ماية', 'مرة', 'مكانك', 'مكانكن', 'مية', 'ميتان', 'نبا', 'نخ', 'هبa', 'هج', 'هولاء', 'واذ', 'واذا', 'وان', 'واها', 'وراءك', 'وشكان', 'وي', 'अकसर', 'अग', 'अझ', 'अन', 'अनतरगत', 'अनय', 'अनयतर', 'अनयथ', 'अर', 'अरक', 'अरथ', 'आजक', 'आतम', 'आद', 'आफ', 'आफन', 'आय', 'ई', 'ईक', 'उद', 'उनक', 'उनल', 'उह', 'ए', 'एउट', 'एन', 'औ', 'क', 'कog', 'कत', 'कम', 'करमश', 'कस', 'कसर', 'कह', 'ख', 'खछ', 'खय', 'ग', 'गय', 'गर', 'गरछ', 'गरद', 'गरन', 'च', 'चच', 'चम', 'छन', 'ज', 'जत', 'जबक', 'जसक', 'जसत', 'जसब', 'जसम', 'जसल', 'जह', 'ट', 'ठ', 'ड', 'तत', 'ततक', 'तथ', 'तदन', 'तप', 'तय', 'तयह', 'तस', 'तसपछ', 'थ', 'द', 'दध', 'ध', 'नछ', 'नज', 'नत', 'नतर', 'नभन', 'नय', 'प', 'पकक', 'पछ', 'पत', 'पन', 'पय', 'पर', 'परछ', 'परत', 'परथय', 'परय', 'पलस', 'पह', 'फ', 'ब', 'बन', 'बर', 'भ', 'भएक', 'भनछ', 'भनछन', 'भनद', 'भनन', 'भय', 'मत', 'मन', 'मर', 'मल', 'य', 'यत', 'यथ', 'यद', 'यदयप', 'यसक', 'यसत', 'यसपछ', 'यसब', 'यसर', 'यह', 'रण', 'रद', 'रव', 'रह', 'ल', 'लय', 'लल', 'व', 'वर', 'श', 'ष', 'षट', 'स', 'सक', 'सकछ', 'सटट', 'सतवम', 'सध', 'सपषट', 'सब', 'समभव', 'समम', 'सर', 'सह', 'ह', 'हन', 'हनछ', 'हर', 'हरण', 'অথব', 'অন', 'অনতত', 'অনয', 'অবধ', 'অবশয', 'অরথ', 'আগ', 'আছ', 'আদযভ', 'আপন', 'আব', 'আম', 'আমর', 'ইতয', 'ইহ', 'উ', 'উই', 'উক', 'উচ', 'উততর', 'উন', 'এক', 'একট', 'একব', 'এখ', 'এট', 'এতট', 'এদ', 'এমনক', 'ওক', 'ওখ', 'ওদ', 'ওয', 'ক', 'কট', 'কব', 'কমন', 'কয', 'কর', 'করছ', 'করত', 'করব', 'করল', 'কষ', 'খ', 'খত', 'গ', 'চ', 'চছ', 'চল', 'ছ', 'জ', 'জনক', 'জনজন', 'জনয', 'জনযওজ', 'ট', 'ঠ', 'ড', 'ত', 'তথ', 'তব', 'তর', 'থ', 'থম', 'দ', 'দব', 'ধ', 'ধযম', 'ধর', 'ন', 'নঐ', 'নও', 'নত', 'নন', 'নয', 'প', 'পকষ', 'পরত', 'পরথম', 'পরভ', 'পরযনত', 'ফ', 'ফল', 'ব', 'বকতবয', 'বদল', 'বয', 'বযবহ', 'বর', 'বল', 'বলত', 'বস', 'বহ', 'ভ', 'ম', 'মত', 'মধয', 'মধযভ', 'মন', 'য', 'যতট', 'যথ', 'যদ', 'যর', 'রও', 'রণ', 'রপর', 'রয', 'ল', 'লকষ', 'শ', 'ষ', 'ষট', 'ষযট', 'স', 'সঙগ', 'সপষট', 'সবয', 'সমপরত', 'সমসত', 'হ', 'হইত', 'হইব', 'হইয', 'হওয', 'হচছ', 'হব', 'হয', 'হযa', 'হযত', 'হযন'] not in stop_words.\n",
            "  warnings.warn(\n",
            "/usr/local/lib/python3.8/dist-packages/sklearn/feature_extraction/text.py:2029: UserWarning: Only (<class 'numpy.float64'>, <class 'numpy.float32'>, <class 'numpy.float16'>) 'dtype' should be used. <class 'numpy.int64'> 'dtype' will be converted to np.float64.\n",
            "  warnings.warn(\n"
          ]
        }
      ]
    },
    {
      "cell_type": "code",
      "source": [
        "print(f\"tfidf vector: {dtm_tfidf.data}\") # print the vector for the tfidf\n",
        "print(f\"tf vector: {dtm_tf.data}\") # print the vector for the tf"
      ],
      "metadata": {
        "colab": {
          "base_uri": "https://localhost:8080/"
        },
        "id": "SFHAQHVAjrKb",
        "outputId": "59e54146-b34c-4897-f615-8e9ae893b02a"
      },
      "execution_count": 147,
      "outputs": [
        {
          "output_type": "stream",
          "name": "stdout",
          "text": [
            "tfidf vector: [0.12573468 0.12874305 0.12573468 ... 0.27078832 0.27078832 0.26511483]\n",
            "tf vector: [1 1 1 ... 1 1 1]\n"
          ]
        }
      ]
    },
    {
      "cell_type": "markdown",
      "source": [
        "Let's train the topic model."
      ],
      "metadata": {
        "id": "s4GLlivTkfLj"
      }
    },
    {
      "cell_type": "code",
      "source": [
        "# for TF DTM\n",
        "lda_tf = LatentDirichletAllocation(n_components=10, random_state=0)\n",
        "lda_tf.fit(dtm_tf)\n",
        "# for TFIDF DTM\n",
        "lda_tfidf = LatentDirichletAllocation(n_components=10, random_state=0)\n",
        "lda_tfidf.fit(dtm_tfidf)"
      ],
      "metadata": {
        "colab": {
          "base_uri": "https://localhost:8080/"
        },
        "id": "0Quj6drkkh4p",
        "outputId": "af2018c1-d9ef-40b2-dc60-43743f3d5b90"
      },
      "execution_count": 148,
      "outputs": [
        {
          "output_type": "execute_result",
          "data": {
            "text/plain": [
              "LatentDirichletAllocation(random_state=0)"
            ]
          },
          "metadata": {},
          "execution_count": 148
        }
      ]
    },
    {
      "cell_type": "markdown",
      "source": [
        "Let's visualize the results with `pyLDAvis`."
      ],
      "metadata": {
        "id": "pHUowN1KlLB8"
      }
    },
    {
      "cell_type": "code",
      "source": [
        "import pyLDAvis\n",
        "# import pyLDAvis.graphlab # graphlab is not longer available we will use sklearn so\n",
        "import pyLDAvis.sklearn\n",
        "pyLDAvis.enable_notebook()\n",
        "pyLDAvis.sklearn.prepare(lda_tf, dtm_tf, tf_vectorizer)"
      ],
      "metadata": {
        "colab": {
          "base_uri": "https://localhost:8080/",
          "height": 986
        },
        "id": "PQ6W0YDar_Fn",
        "outputId": "c5589cb9-f2ec-444b-99b2-5ff03b492ace"
      },
      "execution_count": 150,
      "outputs": [
        {
          "output_type": "stream",
          "name": "stderr",
          "text": [
            "/usr/local/lib/python3.8/dist-packages/past/builtins/misc.py:4: DeprecationWarning: Using or importing the ABCs from 'collections' instead of from 'collections.abc' is deprecated since Python 3.3, and in 3.10 it will stop working\n",
            "  from collections import Mapping\n",
            "/usr/local/lib/python3.8/dist-packages/sklearn/utils/deprecation.py:87: FutureWarning: Function get_feature_names is deprecated; get_feature_names is deprecated in 1.0 and will be removed in 1.2. Please use get_feature_names_out instead.\n",
            "  warnings.warn(msg, category=FutureWarning)\n",
            "/usr/local/lib/python3.8/dist-packages/pyLDAvis/_prepare.py:246: FutureWarning: In a future version of pandas all arguments of DataFrame.drop except for the argument 'labels' will be keyword-only.\n",
            "  default_term_info = default_term_info.sort_values(\n"
          ]
        },
        {
          "output_type": "execute_result",
          "data": {
            "text/plain": [
              "PreparedData(topic_coordinates=              x         y  topics  cluster       Freq\n",
              "topic                                                \n",
              "4     -0.088699  0.022684       1        1  18.026653\n",
              "3     -0.015722  0.011447       2        1  13.167647\n",
              "0     -0.031317  0.029850       3        1   9.691394\n",
              "9      0.200060  0.032016       4        1   9.373633\n",
              "1     -0.091282  0.034242       5        1   8.922901\n",
              "5     -0.023492 -0.017314       6        1   8.679948\n",
              "8     -0.000528 -0.071894       7        1   8.561286\n",
              "7     -0.021004  0.027289       8        1   8.467656\n",
              "6      0.024472 -0.139831       9        1   7.886317\n",
              "2      0.047512  0.071513      10        1   7.222564, topic_info=             Term         Freq        Total Category  logprob  loglift\n",
              "16017        text   255.000000   255.000000  Default  30.0000  30.0000\n",
              "17473      watson  1312.000000  1312.000000  Default  29.0000  29.0000\n",
              "15369      street   599.000000   599.000000  Default  28.0000  28.0000\n",
              "17435  warranties   124.000000   124.000000  Default  27.0000  27.0000\n",
              "13560        room  1430.000000  1430.000000  Default  26.0000  26.0000\n",
              "...           ...          ...          ...      ...      ...      ...\n",
              "9089         lady    51.761712   550.083083  Topic10  -6.0465   0.2645\n",
              "2526         case    57.181285   964.095576  Topic10  -5.9469  -0.1970\n",
              "7468         hand    55.908681   976.731664  Topic10  -5.9694  -0.2325\n",
              "5970         eyes    53.421992   816.300563  Topic10  -6.0149  -0.0986\n",
              "6629        found    46.352468   906.421272  Topic10  -6.1569  -0.3453\n",
              "\n",
              "[887 rows x 6 columns], token_table=       Topic      Freq   Term\n",
              "term                         \n",
              "23         2  0.118844     15\n",
              "23         9  0.831906     15\n",
              "74         9  0.891661   1915\n",
              "84         7  0.951199   221b\n",
              "149        3  0.914561     85\n",
              "...      ...       ...    ...\n",
              "17961      7  0.053576  young\n",
              "17961      8  0.042546  young\n",
              "17961      9  0.115031  young\n",
              "17961     10  0.130788  young\n",
              "17973      7  0.855425  zamba\n",
              "\n",
              "[2779 rows x 3 columns], R=30, lambda_step=0.01, plot_opts={'xlab': 'PC1', 'ylab': 'PC2'}, topic_order=[5, 4, 1, 10, 2, 6, 9, 8, 7, 3])"
            ],
            "text/html": [
              "\n",
              "<link rel=\"stylesheet\" type=\"text/css\" href=\"https://cdn.jsdelivr.net/gh/bmabey/pyLDAvis@3.3.1/pyLDAvis/js/ldavis.v1.0.0.css\">\n",
              "\n",
              "\n",
              "<div id=\"ldavis_el406971401827975250563964944144\"></div>\n",
              "<script type=\"text/javascript\">\n",
              "\n",
              "var ldavis_el406971401827975250563964944144_data = {\"mdsDat\": {\"x\": [-0.08869898882980791, -0.015722111914443032, -0.03131707486410124, 0.20005955941901368, -0.09128177878280111, -0.023492094159607957, -0.0005279669407728687, -0.02100357545874729, 0.024471698036177783, 0.04751233349508989], \"y\": [0.022683612781498032, 0.011446929854105996, 0.029849557419743968, 0.03201576488531547, 0.03424161724669468, -0.017314401777683237, -0.07189371085997757, 0.027289316724437674, -0.13983140969041963, 0.0715127234162846], \"topics\": [1, 2, 3, 4, 5, 6, 7, 8, 9, 10], \"cluster\": [1, 1, 1, 1, 1, 1, 1, 1, 1, 1], \"Freq\": [18.02665314009069, 13.167646950227645, 9.691393659539859, 9.373632949695665, 8.922901303947485, 8.679948263055534, 8.561286327681353, 8.467656305225557, 7.886317421963929, 7.222563678572282]}, \"tinfo\": {\"Term\": [\"text\", \"watson\", \"street\", \"warranties\", \"room\", \"moor\", \"case\", \"information\", \"facts\", \"free\", \"kind\", \"purpose\", \"cases\", \"provided\", \"night\", \"find\", \"expressed\", \"mcmurdo\", \"eyes\", \"additional\", \"london\", \"life\", \"chair\", \"implied\", \"limited\", \"holmes\", \"medium\", \"warranty\", \"fitness\", \"merchantablity\", \"destined\", \"spray\", \"sodden\", \"cubitt\", \"hilton\", \"ghost\", \"fournaye\", \"frantically\", \"barrels\", \"fanlight\", \"symbols\", \"carafe\", \"referring\", \"sikhs\", \"swan\", \"slung\", \"laurels\", \"henri\", \"guardsmen\", \"hayter\", \"rallied\", \"graver\", \"arcade\", \"arched\", \"rolls\", \"justifiable\", \"loungers\", \"sawed\", \"recounted\", \"suavely\", \"moonlight\", \"glimmer\", \"stepped\", \"shotgun\", \"rushing\", \"ferrier\", \"dangers\", \"commit\", \"dashed\", \"flash\", \"rushed\", \"trevelyan\", \"phelps\", \"sprang\", \"pulled\", \"silence\", \"pistol\", \"opened\", \"holmes\", \"bitter\", \"street\", \"window\", \"glimpse\", \"carriage\", \"standing\", \"stood\", \"front\", \"minutes\", \"room\", \"instant\", \"road\", \"broken\", \"back\", \"led\", \"open\", \"side\", \"raised\", \"half\", \"round\", \"found\", \"figure\", \"hand\", \"morning\", \"away\", \"eyes\", \"house\", \"left\", \"hands\", \"light\", \"time\", \"head\", \"turned\", \"young\", \"night\", \"coombe\", \"tracey\", \"tooth\", \"pew\", \"armitage\", \"legend\", \"gipsies\", \"rail\", \"jules\", \"investigate\", \"mackleton\", \"vibart\", \"heidegger\", \"skipper\", \"epistle\", \"martha\", \"laura\", \"bicycle\", \"ladder\", \"peasants\", \"flags\", \"awake\", \"jane\", \"hector\", \"pledged\", \"ghosts\", \"barrymores\", \"reckoned\", \"taught\", \"ray\", \"baronet\", \"stapleton\", \"yew\", \"slept\", \"withdraw\", \"stapletons\", \"moor\", \"alley\", \"mortimer\", \"hound\", \"fugitives\", \"henry\", \"baskerville\", \"frank\", \"grimpen\", \"night\", \"charles\", \"barrymore\", \"morning\", \"fled\", \"mire\", \"walk\", \"room\", \"bed\", \"dr\", \"morrow\", \"early\", \"left\", \"smith\", \"doctor\", \"watson\", \"heard\", \"back\", \"hear\", \"sister\", \"track\", \"clear\", \"house\", \"place\", \"husband\", \"holmes\", \"found\", \"time\", \"woman\", \"away\", \"hall\", \"matter\", \"put\", \"point\", \"london\", \"find\", \"window\", \"side\", \"told\", \"case\", \"friend\", \"hand\", \"leonardo\", \"pennies\", \"constraint\", \"tramp\", \"bracket\", \"hugh\", \"branded\", \"notices\", \"swirled\", \"spaniard\", \"teddy\", \"paler\", \"locket\", \"85\", \"robber\", \"moulton\", \"bygones\", \"decade\", \"clasping\", \"unfolding\", \"intercepted\", \"ronder\", \"curry\", \"flavor\", \"sales\", \"marx\", \"musician\", \"tying\", \"hurts\", \"bootmaker\", \"pardon\", \"hellish\", \"frighten\", \"curt\", \"simon\", \"proposition\", \"bowing\", \"latin\", \"whispered\", \"st\", \"torn\", \"lion\", \"killing\", \"head\", \"key\", \"chair\", \"eyes\", \"year\", \"looked\", \"shook\", \"holmes\", \"knife\", \"mantelpiece\", \"crumpled\", \"brutal\", \"hand\", \"god\", \"sat\", \"blow\", \"fear\", \"lord\", \"time\", \"poor\", \"back\", \"forward\", \"hands\", \"table\", \"dead\", \"lady\", \"lay\", \"turned\", \"reason\", \"heart\", \"course\", \"matter\", \"sherlock\", \"room\", \"watson\", \"case\", \"night\", \"young\", \"find\", \"doubt\", \"half\", \"heard\", \"house\", \"text\", \"warranties\", \"implied\", \"fitness\", \"merchantablity\", \"warranty\", \"ascii\", \"electronic\", \"formatted\", \"holm\", \"html\", \"http\", \"variants\", \"medium\", \"stoke\", \"additional\", \"ronald\", \"widower\", \"provided\", \"including\", \"sketches\", \"originals\", \"aversion\", \"tallow\", \"adair\", \"deals\", \"indifference\", \"eva\", \"reader\", \"confederates\", \"expressed\", \"hypothesis\", \"oldest\", \"free\", \"limited\", \"purpose\", \"information\", \"essential\", \"kind\", \"cases\", \"form\", \"particular\", \"facts\", \"case\", \"sherlock\", \"years\", \"time\", \"life\", \"watson\", \"matter\", \"holmes\", \"dear\", \"present\", \"friend\", \"crime\", \"possible\", \"mind\", \"interest\", \"wife\", \"singular\", \"point\", \"house\", \"portly\", \"brink\", \"roundhay\", \"skirts\", \"awry\", \"stub\", \"dotted\", \"abnormal\", \"organisation\", \"lightened\", \"rises\", \"scraping\", \"wearer\", \"response\", \"accidents\", \"glided\", \"frou\", \"unresponsive\", \"wallington\", \"tennis\", \"longing\", \"whilst\", \"hurling\", \"uniformed\", \"cracks\", \"accidentally\", \"cocking\", \"wrestling\", \"unwieldy\", \"lordship\", \"sheer\", \"morse\", \"pearl\", \"thaddeus\", \"pair\", \"bradstreet\", \"hastened\", \"policemen\", \"cunningham\", \"bookcase\", \"inconvenience\", \"glasses\", \"beppo\", \"plaster\", \"stoner\", \"destroyed\", \"lighting\", \"alec\", \"obtained\", \"pipe\", \"nose\", \"dust\", \"physical\", \"downstairs\", \"carpet\", \"wet\", \"lock\", \"examination\", \"room\", \"crop\", \"steps\", \"inside\", \"holmes\", \"lamp\", \"upstairs\", \"colonel\", \"turned\", \"side\", \"foot\", \"entered\", \"light\", \"ear\", \"put\", \"step\", \"floor\", \"stood\", \"left\", \"case\", \"dark\", \"black\", \"instant\", \"hand\", \"window\", \"inspector\", \"found\", \"eyes\", \"heard\", \"house\", \"friend\", \"time\", \"miss\", \"matter\", \"back\", \"head\", \"mind\", \"round\", \"doubt\", \"night\", \"cooee\", \"isa\", \"stealthily\", \"begging\", \"blunders\", \"crowder\", \"budge\", \"pathetic\", \"narrowed\", \"beer\", \"writes\", \"footfalls\", \"sings\", \"ore\", \"postmaster\", \"lashed\", \"registration\", \"intrusions\", \"plied\", \"johann\", \"pupils\", \"fondly\", \"prussian\", \"westaway\", \"hobbling\", \"estranged\", \"reuben\", \"majestic\", \"flopped\", \"perch\", \"regiment\", \"ridge\", \"franco\", \"boscombe\", \"amberley\", \"hayes\", \"keeper\", \"whitney\", \"glint\", \"pool\", \"courts\", \"grosvenor\", \"midland\", \"staunton\", \"saloon\", \"patience\", \"arthur\", \"ralph\", \"godfrey\", \"street\", \"pavement\", \"coroner\", \"telegram\", \"sergeant\", \"heard\", \"time\", \"witness\", \"border\", \"cab\", \"house\", \"watson\", \"father\", \"half\", \"miss\", \"passed\", \"james\", \"fellow\", \"holmes\", \"woman\", \"dead\", \"room\", \"young\", \"point\", \"found\", \"police\", \"find\", \"cried\", \"evening\", \"round\", \"left\", \"case\", \"told\", \"dark\", \"country\", \"away\", \"back\", \"night\", \"eyes\", \"place\", \"friend\", \"gregory\", \"tonga\", \"duncan\", \"identify\", \"221b\", \"hobson\", \"leash\", \"commercial\", \"detachment\", \"brier\", \"yearned\", \"brand\", \"sniffing\", \"depleted\", \"glades\", \"southsea\", \"thermometer\", \"persia\", \"jobs\", \"zamba\", \"talker\", \"hynes\", \"handbook\", \"magnum\", \"opus\", \"bayard\", \"cruiser\", \"putty\", \"nugget\", \"vat\", \"climb\", \"queerest\", \"spaulding\", \"wages\", \"millions\", \"smooth\", \"majesty\", \"castalotte\", \"string\", \"wessex\", \"offend\", \"registered\", \"purposes\", \"bewilderment\", \"baggage\", \"killer\", \"morris\", \"beware\", \"shilling\", \"angel\", \"scanlan\", \"mcmurdo\", \"gennaro\", \"drop\", \"chicago\", \"infinitely\", \"york\", \"ross\", \"red\", \"france\", \"london\", \"practical\", \"moriarty\", \"queer\", \"watson\", \"hosmer\", \"street\", \"work\", \"found\", \"fellow\", \"silver\", \"things\", \"time\", \"holmes\", \"table\", \"show\", \"great\", \"mind\", \"evening\", \"put\", \"brought\", \"called\", \"away\", \"give\", \"place\", \"left\", \"paper\", \"town\", \"hand\", \"clear\", \"house\", \"friend\", \"black\", \"business\", \"back\", \"matter\", \"eyes\", \"glances\", \"hears\", \"wartha\", \"appetite\", \"eggs\", \"doran\", \"composed\", \"prolonged\", \"coach\", \"reverse\", \"9\", \"watches\", \"snips\", \"nucleus\", \"misgivings\", \"imperturbably\", \"abnormally\", \"meditation\", \"dejection\", \"demented\", \"napoleons\", \"surmounted\", \"pillar\", \"fordingham\", \"periods\", \"tendencies\", \"insensibly\", \"pericolo\", \"favourably\", \"scraps\", \"adding\", \"befallen\", \"mall\", \"pall\", \"councillor\", \"bluff\", \"pheasant\", \"correspondent\", \"aloysius\", \"important\", \"tredannick\", \"neglect\", \"halloa\", \"rider\", \"stains\", \"sombre\", \"read\", \"matting\", \"thoughtful\", \"chair\", \"paper\", \"breakfast\", \"foolish\", \"remarkable\", \"watson\", \"high\", \"gaze\", \"house\", \"eyes\", \"visit\", \"hopkins\", \"holmes\", \"sat\", \"sheet\", \"writing\", \"knew\", \"check\", \"ran\", \"note\", \"window\", \"round\", \"sherlock\", \"police\", \"matter\", \"suddenly\", \"work\", \"back\", \"light\", \"side\", \"case\", \"front\", \"hand\", \"morning\", \"friend\", \"time\", \"life\", \"away\", \"night\", \"bodymaster\", \"sahib\", \"achmet\", \"ferret\", \"kate\", \"mahomet\", \"abdullah\", \"jonathan\", \"fort\", \"akbar\", \"mordecai\", \"singh\", \"freeman\", \"launch\", \"billiards\", \"departments\", \"loot\", \"euston\", \"lash\", \"pea\", \"edwards\", \"lodgers\", \"1915\", \"dost\", \"lurid\", \"khan\", \"rajah\", \"americans\", \"congratulations\", \"15\", \"birdy\", \"aurora\", \"agra\", \"cabby\", \"treasure\", \"mason\", \"pinkerton\", \"trust\", \"neatly\", \"jack\", \"oath\", \"baldwin\", \"lodge\", \"sholto\", \"stand\", \"leave\", \"mcmurdo\", \"mcginty\", \"adventure\", \"bring\", \"watson\", \"mrs\", \"find\", \"douglas\", \"dear\", \"brother\", \"give\", \"round\", \"lady\", \"word\", \"great\", \"police\", \"white\", \"night\", \"young\", \"hand\", \"life\", \"london\", \"holmes\", \"matter\", \"back\", \"case\", \"friend\", \"answered\", \"left\", \"put\", \"time\", \"cuts\", \"annie\", \"beetle\", \"candidate\", \"expectations\", \"directory\", \"barmaid\", \"lists\", \"slunk\", \"acquaintances\", \"tolerably\", \"extraction\", \"rests\", \"blanks\", \"reparation\", \"tiptoes\", \"spontaneous\", \"everyday\", \"slits\", \"sweating\", \"vox\", \"moser\", \"sprightly\", \"alterations\", \"whisk\", \"actress\", \"pebble\", \"penge\", \"rucastles\", \"cumulative\", \"wider\", \"porlock\", \"turner\", \"neligan\", \"mitton\", \"recover\", \"regarded\", \"dawson\", \"misery\", \"pose\", \"naturally\", \"discovering\", \"demeanour\", \"securities\", \"wronged\", \"legal\", \"offer\", \"secrecy\", \"begin\", \"mccarthy\", \"love\", \"cipher\", \"importance\", \"mark\", \"understand\", \"taking\", \"contrary\", \"original\", \"find\", \"life\", \"law\", \"course\", \"examine\", \"papers\", \"great\", \"young\", \"matters\", \"reason\", \"holmes\", \"spoke\", \"time\", \"house\", \"hands\", \"miss\", \"knew\", \"matter\", \"woman\", \"father\", \"paper\", \"lost\", \"days\", \"head\", \"night\", \"lady\", \"case\", \"hand\", \"eyes\", \"found\"], \"Freq\": [255.0, 1312.0, 599.0, 124.0, 1430.0, 205.0, 964.0, 179.0, 283.0, 149.0, 203.0, 157.0, 178.0, 81.0, 1047.0, 678.0, 84.0, 141.0, 816.0, 71.0, 523.0, 570.0, 387.0, 63.0, 104.0, 3225.0, 66.0, 62.0, 62.0, 62.0, 16.476747283177545, 12.62259964757817, 12.622428536630173, 40.324981560706405, 40.32488528884325, 10.695374929122393, 9.731931885643263, 11.482461294882116, 10.56594504949054, 8.768373117362332, 7.804798238921384, 7.804784354264301, 7.80474108881294, 7.8047410899960346, 6.841246367078083, 6.841242874943663, 6.84123132937077, 6.833016667752876, 5.877703149551658, 5.877703149193453, 5.8776967174315695, 5.877688035065928, 5.8776841703485045, 5.8776785088936885, 5.877678328707645, 5.877678019900983, 5.877674557451555, 5.877661534296106, 5.877660674127588, 5.877658930997398, 18.360956759816265, 18.00499529303028, 56.316041038751074, 9.857182542575236, 21.485852864061776, 36.843748067493514, 14.467139930046933, 11.65901678664933, 35.35078706905069, 23.31236766476121, 120.93472530120214, 15.513277772423098, 27.717820357559518, 107.26474370185551, 72.92575674586173, 83.0856275421929, 38.804831949079556, 158.70143439833353, 1049.0688574045973, 31.892010395859266, 247.58982065213587, 280.4923130049102, 47.818246682622636, 89.52158444294281, 95.42526253679107, 170.1807618637072, 153.60271209179257, 124.90225898192487, 458.77305756176844, 167.4544072106234, 132.9163941987616, 74.54672499291453, 324.6177207206802, 108.61372609739894, 167.1472102170688, 196.04496974238623, 63.54220150239535, 173.31035425833946, 201.68882791478956, 235.48635442920826, 85.75770541821868, 238.86364042409002, 192.98846445061585, 188.68918528020663, 200.4801628502795, 244.13966983462922, 200.14647857960762, 149.24697172673822, 146.71479923036662, 207.13722111688477, 143.760991412729, 125.36447553798764, 132.8586602080793, 140.10836441818205, 15.159872164587094, 15.159866533062505, 11.431878133908704, 11.431878047889724, 11.431874142013683, 11.431846784160332, 10.487096617175977, 10.487093282896112, 9.542318035864811, 8.597502976629908, 9.435246783900157, 7.652750107938793, 7.652750107757672, 7.6527494444325255, 7.652744300511417, 7.652738241496692, 7.642954803721526, 66.60141556620295, 6.707947157586285, 6.707923508143032, 6.707917168594195, 14.954738612491402, 5.763182179843409, 5.763182179721676, 5.763182179628217, 5.763163371639686, 5.763157896813381, 5.7631553017675685, 5.763123337798634, 5.76301409057162, 37.30504873823737, 70.4504076040114, 12.999755929496406, 42.25870143431493, 10.48698845302732, 11.268857511068553, 147.66440345643656, 17.031304443714777, 78.27807857364634, 59.26683787547857, 13.181528102630345, 93.50249706371349, 55.56692155935098, 44.415008821519386, 16.672834730445768, 392.8223380769746, 60.584084513211344, 33.08955292598631, 242.11083780400926, 31.13404340384049, 17.34955322337873, 69.39387040233564, 343.5326050800472, 93.29992865542101, 116.56440045803409, 67.83523360415444, 62.66790857569493, 195.41761130925963, 46.42526016936869, 83.6513488933639, 258.57987891902343, 170.6126080289011, 214.57746817028433, 85.90617048071496, 53.78798714017447, 50.971187504386904, 113.77847823065946, 190.7089237182782, 124.73083427401983, 77.91855558724905, 309.77980383568234, 148.63595744092603, 171.4486402215379, 116.77426930456973, 125.49762096647802, 84.420788760121, 119.6020862637379, 103.67178035151032, 92.60305148284432, 97.85074317826175, 104.70623521475846, 105.50069419943264, 98.37852218385909, 92.08033816449773, 101.70757830598411, 95.07090605050838, 94.56209886374066, 11.33140465473135, 10.394924334088046, 8.521973674081474, 8.521967261225976, 7.5854855732927735, 7.585477192986508, 7.585412029355583, 6.649004565098307, 5.712541434817778, 5.712541434627504, 5.712541434461701, 5.712522865038166, 5.712517778528374, 5.712512791356874, 5.712471715763349, 5.710677715952684, 4.776059231568174, 4.776049223938023, 4.776045612730909, 4.776020957458642, 4.7759722345281475, 11.836806859022916, 3.839577029910197, 3.839577029910197, 3.8395770298866707, 3.839577029815572, 3.839577029805962, 3.839577029784067, 3.8395770297684506, 3.8395770296815037, 10.608749380886046, 6.623376977361595, 12.085375852480965, 7.124244205622769, 38.10521194697442, 8.24315913326392, 7.514751610844997, 5.71254381584097, 22.77460028530462, 61.40699107760669, 23.316359551459133, 17.225783651949367, 11.098771322126302, 139.44434988382403, 52.16382496135599, 93.00220591664736, 151.54156778087014, 60.34696314974044, 100.09822342582652, 31.606037918111046, 352.3614334870569, 37.911996446477986, 24.600641223190465, 12.238378984771538, 12.179879421959212, 150.77587344222528, 48.900870226620576, 78.69015349884582, 37.29508177934824, 60.15830444270356, 46.990409209994944, 147.964041847625, 55.64226136903803, 130.09973676124983, 46.23127457244224, 83.86254663822938, 75.3728027452261, 61.4465979754061, 82.58643045046088, 70.83569539957789, 77.26057592697151, 57.104655385249806, 56.19279947974716, 72.45171294583693, 85.77514506197835, 69.63534825571736, 95.35055737835143, 92.28307864770902, 82.50553072555047, 78.28379757703819, 67.57486634768173, 65.63961734384402, 59.00134883329233, 59.683964833817804, 60.43945972316759, 59.81628657909198, 254.9543978016135, 123.19750800362219, 62.60856154713359, 61.64684046059066, 61.64684046059058, 61.64684046059066, 61.64684046052159, 61.64684046052159, 61.64684046052159, 61.64684046052159, 61.64684046052159, 61.64684046052159, 61.64684046052159, 63.57032728212878, 15.483824997320411, 67.35200616225312, 13.559478209423311, 13.557219961377397, 76.74173964666517, 63.570462980092806, 9.713450302552221, 9.7134425500527, 8.751711588021415, 7.789927773357052, 23.17766580901568, 6.828263499163395, 6.828222945570249, 7.642975496245564, 21.061080709440134, 5.866547999925973, 72.56695342261587, 35.5941373659226, 12.204575587567088, 103.92510355148849, 72.69808162109626, 101.33126565786823, 113.40480430820112, 48.31847797468791, 121.75241233727814, 106.77320616625701, 92.72040235232846, 85.46198283807615, 129.5621499523857, 255.12263885009395, 144.7566245188155, 120.5840120122601, 145.98402645058297, 114.92007890795998, 142.9244126871505, 122.01342032750699, 174.6359746129406, 103.75806911998524, 81.31235947388961, 108.4408492294541, 86.81801791758461, 85.18937218592966, 88.30461043292306, 76.89734327871624, 79.47594016117992, 74.48903007260454, 76.31681386457055, 76.25528227372851, 9.569459353832041, 7.492315726578416, 5.780150034178745, 5.7801413166151185, 5.780138235522518, 4.832588223345691, 4.832588075084007, 4.832585251284956, 4.832583767865305, 4.832577380891174, 4.832576762984692, 4.830986738133752, 3.8850279725451142, 3.8850279725021957, 3.8850279723543726, 3.885027972204467, 3.885027972144348, 3.8850279718888836, 3.8850264787472395, 3.8850261522448655, 3.88502403987217, 3.88502318661504, 3.8850230063970783, 3.885022213897503, 3.88501966271647, 3.885016959360175, 3.8850155040172205, 3.8850123152129505, 3.8850111996032286, 3.8850093328306285, 12.691952598093028, 13.274324865463402, 24.098552768270615, 21.046698357554423, 47.98108341855748, 11.465593828226877, 14.21867598127779, 9.552085819288395, 30.416949246414994, 7.675319087264173, 8.214186454271877, 40.811312750225156, 15.177120882272366, 27.84502349810409, 17.881239389580475, 13.29705610505836, 15.638799486172058, 23.2868264249451, 24.237107247932677, 61.47250336136703, 34.64016051089384, 24.080567869448597, 16.846939474241953, 23.808168253720435, 32.4054177290043, 22.100636673741914, 32.145718906514986, 42.296768708688894, 239.1208383401602, 18.87057477492877, 52.264506653660824, 50.79922986927981, 372.4860006316835, 54.99286568128862, 26.81771950697399, 62.70106482319393, 94.73312561664135, 104.36749394540443, 45.78416046913172, 61.8660706879703, 96.28619993231646, 25.672482264729762, 86.28447788660601, 50.46677086581537, 51.02184201789351, 68.32670219861953, 99.28230297455202, 101.88841675853917, 67.11922914182223, 67.96883532517155, 66.94900808272519, 91.70634615529978, 78.89069908781944, 56.0224801882746, 84.79809454775747, 79.90833797313772, 75.77980452645383, 87.05828775973983, 72.25669337231179, 85.28824675289363, 56.796718434166, 68.06282339139526, 71.22256528394027, 62.01086081623597, 60.55748097547922, 59.79256190914002, 56.59450631346323, 56.925861217148906, 11.263103608684494, 7.5651072175933205, 6.631120679682223, 5.69718353583434, 5.697183082916992, 5.697182860644237, 5.697181088001468, 5.697179045277638, 5.697174857052453, 5.697170655729394, 5.697140223825571, 5.697121830047647, 4.763219021663759, 4.763215991595444, 4.76314816966143, 15.036786298096565, 3.829254507707033, 3.8292545076797575, 3.829254507667057, 3.829254507652243, 3.82925450758204, 3.8292545075417137, 3.829254507540463, 3.829254507506906, 3.829254507482807, 3.8292545074777666, 3.829254507159541, 3.829251584628414, 3.829250706579426, 3.829250442421347, 15.811757570280841, 7.420428369802824, 9.433028752265978, 20.442703339958467, 14.324370921751354, 16.329249961225077, 22.507409828853984, 11.300972231272638, 9.999657527952703, 30.312519672699505, 7.565027574193872, 7.565127480269574, 7.5650917443519825, 25.73513872722782, 10.181250286229846, 21.224644592099537, 29.23348913862318, 12.740141272970433, 38.49931118633629, 146.13425729503984, 15.821076900851544, 20.6793705948853, 37.576796533903796, 23.658283962418036, 123.41363381282632, 180.7059557874817, 25.490966722887997, 11.754324467069967, 51.692587030925, 149.65055474768874, 148.9783857031771, 65.53120662188388, 82.76448730181365, 63.65813781700357, 66.64787648311838, 39.263838543272826, 66.70933747043478, 195.246531250705, 77.384575255232, 54.598869821512714, 114.13871682764179, 76.05457839242546, 59.997149062556524, 87.55864346523275, 61.854912444451564, 74.88979511376127, 56.85620998739624, 58.35530611199477, 69.61178198655206, 73.62844355758095, 76.71849934034302, 55.013567300543606, 53.20163073004375, 49.678814347110674, 60.84669527668153, 66.29440144252995, 62.0840390729207, 58.40766651041687, 55.46064274012298, 55.68397940025201, 15.030924930565638, 12.230127691583217, 12.229901349312964, 8.495653366597205, 7.562090873664288, 6.628555721184509, 6.628530955632517, 5.694956953710305, 5.694918679319934, 4.761353415541135, 4.761352962677309, 4.761334080428651, 4.761300415407937, 3.8277621177134864, 3.8277621177134864, 3.8277621177134864, 3.8277621177134864, 3.8277621177032626, 3.827762117687322, 3.827762117673086, 3.8277621176178456, 3.827762117599868, 3.8277621175995593, 3.8277621175626964, 3.8277621175626964, 3.827762117456199, 3.8277621174426466, 3.8277621174340157, 3.827762117265656, 3.827762117168178, 9.914243394238573, 7.4978816256196295, 9.429356115541442, 9.429354525820377, 9.212956730265674, 14.075811061446574, 18.76546127710946, 7.562166912432027, 19.70312789187258, 7.562146365781776, 5.6949323978475315, 5.694948880544733, 12.840487466575627, 5.694954459704727, 8.495777142239415, 5.666469015301289, 16.806783856768345, 6.789441932067195, 9.428768840256598, 22.326333352167254, 13.661365529362513, 57.234268725235964, 22.499778924733764, 27.401697870650107, 19.462152284053023, 11.228898352385102, 15.611815852406236, 24.334538337167608, 70.38578714980365, 14.908565251232762, 107.80429326091438, 31.028240227605142, 29.721270852060435, 27.463390246561097, 164.72922846103756, 18.448842205704963, 99.97238058855854, 78.52613396747172, 116.0020972707701, 74.27785557633568, 27.165914996820263, 56.98211667288653, 133.73146790374705, 221.52443643697467, 73.12255815783145, 46.026759077536845, 86.63227637087996, 76.41919303746343, 67.63560513858904, 76.93209299137027, 63.03427478580179, 46.609485345040206, 80.77248970688807, 70.65806025223507, 71.47337825474152, 82.70707550933486, 59.69226819453901, 40.08637158098664, 84.65346373319056, 61.71708310695858, 83.9787160300735, 68.37486818365682, 55.93870291264342, 54.23454074148234, 73.70019151657384, 63.93717100061568, 54.58747069743109, 13.969626891068476, 7.493906282812562, 7.493889989884679, 7.4938846576034654, 7.493737674269227, 17.40433636246496, 15.634675999864106, 6.568702145487554, 6.568691824523267, 5.643549964814986, 5.643542764627607, 5.504086624803991, 4.7183854372440415, 4.718382478746603, 4.7183743487463925, 4.71835534146399, 4.718352816228261, 4.718351481885524, 4.7183480878689465, 4.7183191836866865, 4.718316648976823, 4.718315589325299, 4.718314888935084, 3.793211822339355, 3.7932118222792965, 3.793211822235249, 3.7932118218740074, 3.793211821614839, 3.7932065177534393, 3.7932057065417593, 7.3722354221403075, 6.568720760020518, 12.931282817634813, 12.931282817634763, 12.016695365932003, 11.990741638663659, 10.155798717566544, 9.337795246341132, 8.514304479489516, 52.85321443607889, 7.493890743552565, 7.479072822395081, 20.44654593586189, 8.41903418711066, 18.26404787867203, 15.652442485567201, 81.76906943452182, 8.2746457650409, 13.583249352127817, 93.94620453602208, 95.30084819220635, 43.57310442874933, 16.289204778385724, 60.85107383203994, 177.06849889611806, 61.7342170453266, 14.256322057926145, 151.51669180799558, 119.54641660852883, 42.708476325244604, 33.51252669477797, 256.4250631021451, 68.95564073295033, 26.738112937621555, 30.586207004821553, 75.90933605994041, 21.08135632695962, 48.447668174466195, 52.796527111487016, 80.60301448844696, 77.14956537951876, 66.21205742756212, 59.69232232835888, 76.38214662044135, 50.23656128913899, 57.844726091718826, 88.22735066883585, 64.1918449482576, 65.4710930793642, 76.79313250622263, 50.81418346275943, 75.9563813404926, 65.36394023971263, 64.36723093579295, 75.26298419711318, 58.08754352454619, 60.45331242109796, 56.81184757623563, 25.279002132130966, 12.224261340474387, 10.358224917623895, 7.558712930107312, 7.558707239207092, 7.558705538253888, 7.558697507046071, 16.679406462797687, 14.090950573246664, 6.625538523719608, 6.625532951572591, 6.625529545094899, 6.624672809659543, 22.87184214994385, 5.692366674020615, 5.692364231992959, 5.6923547180705265, 5.692345763097198, 5.692325573679571, 5.692007455626702, 11.291415642587504, 7.194957984988107, 4.759195169013397, 4.759191004268126, 4.759189783090434, 4.759171721917978, 4.7591697012935965, 4.7591678740840715, 4.759164955953613, 14.09100393332516, 8.491883429707679, 12.043105693864621, 17.935547677478294, 11.042671876936339, 58.69268594319747, 25.87849312415713, 14.02835995743885, 66.34261298147942, 10.358231482853133, 34.48461942472717, 10.278845652940188, 19.75940768687077, 61.21456483419117, 32.04074898737641, 54.26606234505373, 96.05453391238417, 49.8962833133443, 30.48726251964565, 37.603379732857654, 60.09429432973265, 194.60283252804857, 78.74923001138889, 113.1998839125752, 31.994430401516034, 81.38736516050723, 53.48622563384095, 88.81213002827371, 98.48793411518923, 85.58545114452137, 70.7841898166656, 89.0738094566385, 69.00788882249498, 54.97161498257125, 99.36009714430148, 73.25609905967146, 86.47738606435287, 66.74890569627237, 62.86301613062448, 113.99350323049481, 70.36945599934143, 75.09802187925474, 69.74285574840634, 59.62103734329611, 46.73486416339712, 57.24329464001441, 52.7626125236795, 53.20945784099813, 8.520330954108948, 7.584030874916665, 7.584019257963971, 6.647734233987456, 6.647728891623758, 6.64771277333021, 5.711438553394698, 5.711396657569441, 5.710422026147172, 5.705519746670252, 4.775129314507307, 4.775120828955184, 4.775118365050148, 4.775110080560483, 4.739829400078849, 3.8388357489947253, 3.8388357489250824, 3.8388357488054305, 3.8388357487203377, 3.8388357487018836, 3.8388357487014892, 3.8388332396983267, 3.838830784773898, 3.838821591194256, 3.8388215896659417, 3.838818874006834, 3.8388139790980444, 3.8388064458420508, 3.838787766790348, 3.838783883734076, 7.584029921078792, 10.39291601922927, 24.412619584375683, 9.456609045411712, 9.451288626825818, 15.074500217036833, 6.588267173129782, 5.913252934598665, 11.431930457262599, 7.58401816193449, 44.77682671979242, 13.090893152926148, 5.7114230512972455, 15.766068822168402, 9.952219835596617, 14.192374987556091, 20.526528606316795, 17.659628979368396, 27.955800979652086, 25.365060348626788, 46.000225862889174, 10.176836086301195, 48.41012011563614, 40.88448219254498, 66.21985275197437, 41.508224333626146, 20.290585440053768, 21.964480465452354, 101.83000258172395, 86.72955375252505, 38.391250612029445, 76.69279025877124, 23.73881659711831, 61.95256212178375, 85.68342570011903, 82.85606905734411, 29.776634955888245, 53.464181656476676, 179.55999881186926, 44.554639374221495, 105.48765819430074, 100.29034200353756, 66.51621643916071, 53.29181727560499, 64.41003653146345, 70.26566670708507, 62.32517835790393, 48.10561838511058, 51.6494404990638, 38.553804924246876, 46.938100197263886, 55.27110700319137, 68.42915451764337, 51.76171192819436, 57.18128544598127, 55.90868071034673, 53.421991826220925, 46.35246803043628], \"Total\": [255.0, 1312.0, 599.0, 124.0, 1430.0, 205.0, 964.0, 179.0, 283.0, 149.0, 203.0, 157.0, 178.0, 81.0, 1047.0, 678.0, 84.0, 141.0, 816.0, 71.0, 523.0, 570.0, 387.0, 63.0, 104.0, 3225.0, 66.0, 62.0, 62.0, 62.0, 17.322114809741112, 13.467886080356555, 13.467881308960147, 43.251820354691986, 43.25181651428048, 11.540767290740352, 10.577212589644875, 12.498760337401823, 11.5356101895505, 9.613654602757153, 8.650096492783213, 8.650096041497424, 8.650094749543028, 8.650095197689339, 7.686538567079243, 7.686538371905576, 7.686537970124966, 7.686307303340418, 6.722981021405165, 6.722981021395715, 6.722980866469394, 6.722980992683863, 6.722980484530954, 6.72298038208099, 6.722980378310615, 6.722980973665977, 6.722980244030494, 6.722979839960485, 6.7229797953376496, 6.722980684856095, 21.14365484999913, 21.108303664066504, 69.07785627210222, 11.51433815073378, 26.81478991641188, 50.70332783469635, 18.226947969913514, 14.376930665097023, 49.75072708960654, 31.51837123155757, 204.35320365213119, 20.10376595932852, 39.20929475035934, 189.53615073818582, 122.03789961040513, 147.5673677816388, 60.10009430538674, 327.14924578280414, 3225.0816028041495, 47.737051802665775, 599.715039238131, 699.5991786214664, 79.16823520475849, 174.3969643234482, 189.16697081986388, 393.95452533667316, 346.1915687750414, 266.9900731836526, 1430.4761464927824, 426.77926978743847, 325.6807868241978, 149.1961067170943, 1135.507205747837, 254.4871085066727, 472.6069277986156, 617.1406651606508, 124.3639158059358, 531.5526809187722, 699.1521535950827, 906.4212718099292, 196.33541159037605, 976.7316642924674, 740.580747794884, 720.6830030627121, 816.3005631294692, 1186.0294364065426, 844.1081347849017, 536.2365085270261, 580.0975801211341, 1306.219700313165, 568.1216080038055, 508.7390893277446, 634.6141619016615, 1047.6594904824346, 16.057591580844132, 16.057591516354048, 12.27904113885913, 12.279041292054153, 12.279041263356321, 12.279041123945735, 11.33425725283769, 11.334257200143119, 10.389473300601558, 9.444689425642832, 10.38978885524811, 8.499905372677016, 8.499905372675924, 8.499905365078558, 8.499905307628032, 8.499905420947803, 8.500099644281812, 74.55833177973106, 7.555121429691705, 7.555120972833589, 7.5551213999342135, 16.992177809233446, 6.610337444751385, 6.610337444750651, 6.61033744475009, 6.610337549965316, 6.610337427453877, 6.610337248964872, 6.610337698061586, 6.610336934454239, 43.41373980115741, 83.17278577642918, 15.087105953079966, 51.927205703287946, 12.281824259007598, 13.245838022851641, 205.17604690238718, 20.827534048280363, 110.26983239510949, 83.96547402076598, 16.0564603120121, 147.72031842266557, 88.83830192093242, 70.79976334777339, 21.75561937044126, 1047.6594904824346, 110.29174171572014, 51.84464987915139, 740.580747794884, 50.85710456745586, 23.552699658819922, 155.84513698780688, 1430.4761464927824, 238.9294243863351, 338.3568640000946, 159.01465672314802, 145.5241380030716, 844.1081347849017, 98.85431002874176, 239.424320118712, 1312.9852519712292, 719.1443528548052, 1135.507205747837, 265.873813961985, 129.08649469764842, 122.60814032520756, 482.6669034740543, 1186.0294364065426, 584.8070912690063, 252.54363508172628, 3225.0816028041495, 906.4212718099292, 1306.219700313165, 596.4995257760398, 720.6830030627121, 303.13048886780155, 761.479653227859, 543.0514644782344, 404.3365151020644, 523.1744090202143, 678.9905278020943, 699.5991786214664, 617.1406651606508, 435.28321311456654, 964.0955755770083, 715.2942119206283, 976.7316642924674, 12.17942042916518, 11.242938013919357, 9.369973649239318, 9.369973819109994, 8.43349123914707, 8.433492052860734, 8.43349135351832, 7.497009006704606, 6.560526875679074, 6.560526875679755, 6.560526875680346, 6.560526962474558, 6.560526939668574, 6.560527555145855, 6.560526969295275, 6.560580324640207, 5.624044673232462, 5.624044778101748, 5.624044692651487, 5.62404534807617, 5.62404518730022, 14.064507679477007, 4.687562470780116, 4.687562470780116, 4.6875624707801995, 4.687562470780452, 4.687562470780487, 4.687562470780565, 4.687562470780621, 4.687562470780934, 13.163871929296295, 8.430531190205556, 16.910883766210734, 9.353095568452563, 65.50411974378899, 11.298384993445621, 10.362650679084064, 7.522255544250173, 41.283591139299645, 150.2716142669593, 47.89668055019146, 31.958727173002774, 17.727652722874865, 568.1216080038055, 157.75970049667276, 387.9404406762663, 816.3005631294692, 213.58572943413213, 467.97582726979186, 84.26354930405924, 3225.0816028041495, 112.16807440746581, 58.486863015550675, 20.69748370059996, 20.65526920063257, 976.7316642924674, 173.28150717725364, 390.35467192716425, 120.71984130974586, 271.90463193651715, 183.14233104919148, 1306.219700313165, 249.45236019480188, 1135.507205747837, 182.06717726615565, 536.2365085270261, 445.4855551265079, 312.97845556163645, 550.0830828201447, 425.38302008496703, 508.7390893277446, 295.1941580861912, 291.30665656827045, 497.4119801881409, 761.479653227859, 540.3734059878042, 1430.4761464927824, 1312.9852519712292, 964.0955755770083, 1047.6594904824346, 634.6141619016615, 678.9905278020943, 445.23794530089685, 531.5526809187722, 719.1443528548052, 1186.0294364065426, 255.79986623451558, 124.04296874703138, 63.45403020092407, 62.49230120400127, 62.492301204001194, 62.49230120400127, 62.49230120399942, 62.49230120399942, 62.49230120399942, 62.49230120399942, 62.49230120399942, 62.49230120399942, 62.49230120399942, 66.28872474592595, 16.329300349515957, 71.06268741324422, 14.405843691369308, 14.405845107194208, 81.60397826618208, 68.1419616006567, 10.558925358850086, 10.558925177841042, 9.59719605821412, 8.635464805318694, 25.89033513511474, 7.673737739919529, 7.673736791293755, 8.632931251998796, 23.96122791074774, 6.71200874313516, 84.45715962186382, 45.90707700430994, 14.385877759882002, 149.03065369957852, 104.87802748378301, 157.04658861989407, 179.30751648135262, 67.9735916179128, 203.8820601189331, 178.8235216934167, 158.37544276497823, 150.3770431382501, 283.35465194005354, 964.0955755770083, 540.3734059878042, 437.5757007702864, 1306.219700313165, 570.5340972047744, 1312.9852519712292, 761.479653227859, 3225.0816028041495, 464.15855028826473, 202.9005966690627, 715.2942119206283, 322.7326166028099, 324.6237279943435, 505.0074481316873, 288.56052759273473, 387.7743214310484, 226.43743235154355, 404.3365151020644, 1186.0294364065426, 10.417288747883271, 8.519478998662052, 6.627040250722055, 6.627040235033267, 6.627040467502394, 5.679472727180641, 5.679472729173619, 5.679472668526109, 5.679472636254083, 5.679472262587815, 5.679472596169497, 5.679496472472337, 4.731904853811119, 4.731904853810709, 4.731904853809304, 4.731904853807876, 4.731904853807301, 4.731904853804873, 4.7319048363354685, 4.731904848461549, 4.731904912574034, 4.731904934556453, 4.731904928015636, 4.731904950968549, 4.731904755007899, 4.731904593547615, 4.731904684843955, 4.731904718081671, 4.731904704759959, 4.731904583641994, 17.01703679993285, 17.940866317485167, 34.90053787234193, 30.19434735839737, 77.70113686778436, 16.11252756552273, 20.818179078906944, 13.217365620399644, 50.41182678382656, 10.449291408781587, 11.33748762442565, 76.2036834829302, 23.551808688912278, 49.23054765726289, 29.479012384327394, 20.771128671466702, 25.47523782340793, 41.58371213228269, 44.46583866684432, 147.34440217673222, 74.67368433728912, 46.372691448263765, 29.30594253268081, 46.27693750907305, 72.28631901042348, 43.61761108765948, 73.66453054558438, 110.65966500406944, 1430.4761464927824, 36.125568315234055, 158.27825091898794, 157.2759782836448, 3225.0816028041495, 181.9478586030434, 60.65477064569714, 243.6899213986429, 508.7390893277446, 617.1406651606508, 156.5466616842235, 266.8468940717164, 580.0975801211341, 58.43480553117834, 543.0514644782344, 207.74792656272706, 219.78190219148905, 393.95452533667316, 844.1081347849017, 964.0955755770083, 396.945358443542, 410.13325708247584, 426.77926978743847, 976.7316642924674, 699.5991786214664, 291.7419430944174, 906.4212718099292, 816.3005631294692, 719.1443528548052, 1186.0294364065426, 715.2942119206283, 1306.219700313165, 346.7018958415736, 761.479653227859, 1135.507205747837, 568.1216080038055, 505.0074481316873, 699.1521535950827, 445.23794530089685, 1047.6594904824346, 12.149309860154196, 8.413349835678876, 7.479385700145704, 6.54542074555873, 6.545420746692795, 6.54542076563162, 6.545420823114738, 6.545420756794904, 6.545420826484793, 6.545420740538601, 6.545421370636314, 6.5454220265185254, 5.611456231463368, 5.611456239630519, 5.611457064556343, 17.78020176345825, 4.6774917173665385, 4.6774917173667205, 4.677491717366803, 4.677491717366902, 4.67749171736737, 4.677491717367636, 4.677491717367645, 4.677491717367867, 4.6774917173680315, 4.677491717368061, 4.677491717370176, 4.677491804254891, 4.677491837804732, 4.677491838210515, 20.629288196250975, 9.363025103088633, 12.20839439070682, 28.06296889494618, 19.72026835120585, 23.43393322089086, 34.53121300749485, 16.003439135439322, 14.047851372048857, 50.74170770173292, 10.286314379967843, 10.302917473312874, 10.34046545609391, 44.05422741154847, 14.94708402708137, 37.63632765640165, 57.262562705313954, 20.59237648007931, 93.98823045462369, 599.715039238131, 29.023283351177497, 43.24222966611841, 105.43329195768663, 56.37369240652523, 719.1443528548052, 1306.219700313165, 64.77902422193391, 19.720696480301076, 206.5263307288708, 1186.0294364065426, 1312.9852519712292, 338.5849324302295, 531.5526809187722, 346.7018958415736, 385.29947481213736, 161.6479332682369, 426.50442613530583, 3225.0816028041495, 596.4995257760398, 312.97845556163645, 1430.4761464927824, 634.6141619016615, 404.3365151020644, 906.4212718099292, 438.21062652750925, 678.9905278020943, 380.20237739665055, 419.92151445783287, 699.1521535950827, 844.1081347849017, 964.0955755770083, 435.28321311456654, 396.945358443542, 322.5391442761, 720.6830030627121, 1135.507205747837, 1047.6594904824346, 816.3005631294692, 584.8070912690063, 715.2942119206283, 15.879242962763886, 13.078440614014273, 13.078441370827017, 9.344041162056897, 8.4104381850672, 7.476837292329429, 7.476837789626542, 6.54323695614468, 6.54323709357225, 5.6096363314924576, 5.609636547588746, 5.609636758078027, 5.609636974831208, 4.6760357271432, 4.6760357271432, 4.6760357271432, 4.6760357271432, 4.6760357271432715, 4.676035727143385, 4.676035727143487, 4.676035727143877, 4.676035727144005, 4.676035727144007, 4.676035727144269, 4.676035727144269, 4.676035727145025, 4.676035727145121, 4.676035727145182, 4.676035727146373, 4.676035727147066, 12.144566997308138, 9.372137396439289, 12.143990096386487, 12.14556814951711, 12.184995783224688, 19.672975336069204, 27.155311604776895, 10.283402189772211, 31.869224066259832, 10.333895117932233, 7.46841240084396, 7.479538693030948, 19.725039115220433, 7.506794138227152, 12.158780895158639, 7.490815785380789, 28.18323516956366, 9.339764273717552, 14.056792622696165, 41.3846214611697, 22.448290714748026, 141.9448984013492, 43.860185870096494, 57.25369059072826, 37.309198956846956, 17.75796586747575, 28.016823019965393, 52.4885291075732, 247.9340747051417, 27.190380438518257, 523.1744090202143, 81.62566978371657, 79.80288793296023, 70.5641678230283, 1312.9852519712292, 38.57523305739024, 599.715039238131, 439.79197078506263, 906.4212718099292, 426.50442613530583, 75.98633903046749, 284.0223526487473, 1306.219700313165, 3225.0816028041495, 445.4855551265079, 197.97141360731328, 636.7844040764368, 505.0074481316873, 419.92151445783287, 543.0514644782344, 391.50393440810706, 219.54176752683944, 720.6830030627121, 550.4254055722514, 584.8070912690063, 844.1081347849017, 408.38962727108856, 164.69180654514483, 976.7316642924674, 482.6669034740543, 1186.0294364065426, 715.2942119206283, 410.13325708247584, 390.903479255278, 1135.507205747837, 761.479653227859, 816.3005631294692, 14.819248513009557, 8.343022582764304, 8.34302311158142, 8.34302330441975, 8.343026113656492, 19.492190644485955, 17.60801188309253, 7.4178498304024085, 7.41784952513992, 6.492675479863055, 6.4926755912705, 6.494353014806937, 5.567501737097685, 5.567501772680144, 5.56750187046508, 5.567502090849453, 5.5675020680572604, 5.5675025125561595, 5.567502688731303, 5.567503697311694, 5.567502383484988, 5.567503281438954, 5.567502597226242, 4.642328121870468, 4.64232812187151, 4.642328121872275, 4.642328121878544, 4.642328121883039, 4.6423283419386605, 4.6423282912057315, 9.291642596010234, 8.365416867967102, 17.692246760322647, 17.69224676032265, 16.7332457484107, 16.773563290123363, 13.96601982179622, 12.99481639225363, 12.091785213910978, 134.82586675959453, 10.238158689745005, 10.24068397168067, 39.31360079504745, 12.074401864665814, 34.58814992461989, 28.09230072295117, 290.6130794204725, 12.076149000613382, 24.340585540435285, 387.9404406762663, 408.38962727108856, 133.54427042436686, 31.80997160126561, 239.75747958318948, 1312.9852519712292, 262.2578025530518, 27.047113434520476, 1186.0294364065426, 816.3005631294692, 155.9729296129585, 105.79039598911483, 3225.0816028041495, 390.35467192716425, 78.79177192643363, 102.79455987073615, 524.0120957838506, 53.30881791995422, 244.437797326478, 293.48731825286126, 699.5991786214664, 699.1521535950827, 540.3734059878042, 438.21062652750925, 761.479653227859, 314.5913382839313, 439.79197078506263, 1135.507205747837, 580.0975801211341, 617.1406651606508, 964.0955755770083, 346.1915687750414, 976.7316642924674, 740.580747794884, 715.2942119206283, 1306.219700313165, 570.5340972047744, 720.6830030627121, 1047.6594904824346, 26.137379052945473, 13.072917704767898, 11.206564917080273, 8.407037896070479, 8.407037860798882, 8.407038205640161, 8.407038270147211, 18.67249030830322, 15.864440884945223, 7.473862538049168, 7.473862538409214, 7.473862675596499, 7.473863200767934, 26.186272287433297, 6.540686891429639, 6.540687001113466, 6.540686907352393, 6.540687384851792, 6.540687321551874, 6.540683968085657, 13.076222271599502, 8.408256535644172, 5.6075112782066805, 5.607511365630101, 5.607511345205581, 5.607511740558103, 5.607511848898893, 5.607511825987584, 5.607511648657358, 16.82883375407853, 10.276695657223174, 14.946523165291305, 23.44395874617581, 14.007054852167798, 88.90041301103754, 36.554109973941536, 18.736348605304336, 128.33591023737543, 13.990876755206965, 66.63861475266847, 14.035731298953635, 33.84080974052247, 163.1219478443346, 68.81213295915245, 155.93279045491835, 369.0410106863416, 141.9448984013492, 70.94673280480288, 98.27990136402067, 205.1790932132645, 1312.9852519712292, 367.9040404502233, 678.9905278020943, 95.13872030067364, 464.15855028826473, 228.49079677427608, 550.4254055722514, 699.1521535950827, 550.0830828201447, 391.184417359045, 636.7844040764368, 438.21062652750925, 287.8216828881796, 1047.6594904824346, 634.6141619016615, 976.7316642924674, 570.5340972047744, 523.1744090202143, 3225.0816028041495, 761.479653227859, 1135.507205747837, 964.0955755770083, 715.2942119206283, 268.98129157615523, 844.1081347849017, 543.0514644782344, 1306.219700313165, 9.368346440326002, 8.4320449035177, 8.432045161869686, 7.495743547681624, 7.49574353612902, 7.495743873593658, 6.559442074239374, 6.559442252852724, 6.559470919617448, 6.559513063498705, 5.6231406524704814, 5.62314063129224, 5.623140891727753, 5.623140700128939, 5.62416833119522, 4.686839269820853, 4.686839269821127, 4.686839269821597, 4.686839269821932, 4.686839269822006, 4.686839269822006, 4.686839261443449, 4.686839210823631, 4.686839101569215, 4.686839681994642, 4.6868396486026445, 4.686839903541905, 4.686839188682727, 4.686839654027278, 4.686839279832058, 9.36564567282572, 13.091297156304526, 32.75557497748629, 12.177613137754953, 12.177599106859992, 20.592490725713667, 8.44106538030755, 7.502397877642049, 15.954796441705348, 10.293701251518282, 82.9536138534191, 19.70089367421292, 7.4934073122112785, 26.329277713215696, 15.047082584857996, 25.430734524974163, 42.166014810623466, 34.930727621009225, 68.6741063991163, 62.8944939657371, 153.61790453336778, 16.84911749722355, 174.33279961541842, 138.2480532317582, 316.18751939290416, 155.6971255530774, 49.67895352925706, 56.536590390139, 678.9905278020943, 570.5340972047744, 145.4415025857097, 497.4119801881409, 66.60680298323726, 359.3460361369677, 636.7844040764368, 634.6141619016615, 100.54247332814202, 295.1941580861912, 3225.0816028041495, 235.95327994583687, 1306.219700313165, 1186.0294364065426, 536.2365085270261, 346.7018958415736, 524.0120957838506, 761.479653227859, 596.4995257760398, 338.5849324302295, 408.38962727108856, 210.4065188283418, 351.5417053812198, 568.1216080038055, 1047.6594904824346, 550.0830828201447, 964.0955755770083, 976.7316642924674, 816.3005631294692, 906.4212718099292], \"Category\": [\"Default\", \"Default\", \"Default\", \"Default\", \"Default\", \"Default\", \"Default\", \"Default\", \"Default\", \"Default\", \"Default\", \"Default\", \"Default\", \"Default\", \"Default\", \"Default\", \"Default\", \"Default\", \"Default\", \"Default\", \"Default\", \"Default\", \"Default\", \"Default\", \"Default\", \"Default\", \"Default\", \"Default\", \"Default\", \"Default\", \"Topic1\", \"Topic1\", \"Topic1\", \"Topic1\", \"Topic1\", \"Topic1\", \"Topic1\", \"Topic1\", \"Topic1\", \"Topic1\", \"Topic1\", \"Topic1\", \"Topic1\", \"Topic1\", \"Topic1\", \"Topic1\", \"Topic1\", \"Topic1\", \"Topic1\", \"Topic1\", \"Topic1\", \"Topic1\", \"Topic1\", \"Topic1\", \"Topic1\", \"Topic1\", \"Topic1\", \"Topic1\", \"Topic1\", \"Topic1\", \"Topic1\", \"Topic1\", \"Topic1\", \"Topic1\", \"Topic1\", \"Topic1\", \"Topic1\", \"Topic1\", \"Topic1\", \"Topic1\", \"Topic1\", \"Topic1\", \"Topic1\", \"Topic1\", \"Topic1\", \"Topic1\", \"Topic1\", \"Topic1\", \"Topic1\", \"Topic1\", \"Topic1\", \"Topic1\", \"Topic1\", \"Topic1\", \"Topic1\", \"Topic1\", \"Topic1\", \"Topic1\", \"Topic1\", \"Topic1\", \"Topic1\", \"Topic1\", \"Topic1\", \"Topic1\", \"Topic1\", \"Topic1\", \"Topic1\", \"Topic1\", \"Topic1\", \"Topic1\", \"Topic1\", \"Topic1\", \"Topic1\", \"Topic1\", \"Topic1\", \"Topic1\", \"Topic1\", \"Topic1\", \"Topic1\", \"Topic1\", \"Topic1\", \"Topic1\", \"Topic1\", \"Topic1\", \"Topic2\", \"Topic2\", \"Topic2\", \"Topic2\", \"Topic2\", \"Topic2\", \"Topic2\", \"Topic2\", \"Topic2\", \"Topic2\", \"Topic2\", \"Topic2\", \"Topic2\", \"Topic2\", \"Topic2\", \"Topic2\", \"Topic2\", \"Topic2\", \"Topic2\", \"Topic2\", \"Topic2\", \"Topic2\", \"Topic2\", \"Topic2\", \"Topic2\", \"Topic2\", \"Topic2\", \"Topic2\", \"Topic2\", \"Topic2\", \"Topic2\", \"Topic2\", \"Topic2\", \"Topic2\", \"Topic2\", \"Topic2\", \"Topic2\", \"Topic2\", \"Topic2\", \"Topic2\", \"Topic2\", \"Topic2\", \"Topic2\", \"Topic2\", \"Topic2\", \"Topic2\", \"Topic2\", \"Topic2\", \"Topic2\", \"Topic2\", \"Topic2\", \"Topic2\", \"Topic2\", \"Topic2\", \"Topic2\", \"Topic2\", \"Topic2\", \"Topic2\", \"Topic2\", \"Topic2\", \"Topic2\", \"Topic2\", \"Topic2\", \"Topic2\", \"Topic2\", \"Topic2\", \"Topic2\", \"Topic2\", \"Topic2\", \"Topic2\", \"Topic2\", \"Topic2\", \"Topic2\", \"Topic2\", \"Topic2\", \"Topic2\", \"Topic2\", \"Topic2\", \"Topic2\", \"Topic2\", \"Topic2\", \"Topic2\", \"Topic2\", \"Topic2\", \"Topic2\", \"Topic2\", \"Topic2\", \"Topic3\", \"Topic3\", \"Topic3\", \"Topic3\", \"Topic3\", \"Topic3\", \"Topic3\", \"Topic3\", \"Topic3\", \"Topic3\", \"Topic3\", \"Topic3\", \"Topic3\", \"Topic3\", \"Topic3\", \"Topic3\", \"Topic3\", \"Topic3\", \"Topic3\", \"Topic3\", \"Topic3\", \"Topic3\", \"Topic3\", \"Topic3\", \"Topic3\", \"Topic3\", \"Topic3\", \"Topic3\", \"Topic3\", \"Topic3\", \"Topic3\", \"Topic3\", \"Topic3\", \"Topic3\", \"Topic3\", \"Topic3\", \"Topic3\", \"Topic3\", \"Topic3\", \"Topic3\", \"Topic3\", \"Topic3\", \"Topic3\", \"Topic3\", \"Topic3\", \"Topic3\", \"Topic3\", \"Topic3\", \"Topic3\", \"Topic3\", \"Topic3\", \"Topic3\", \"Topic3\", \"Topic3\", \"Topic3\", \"Topic3\", \"Topic3\", \"Topic3\", \"Topic3\", \"Topic3\", \"Topic3\", \"Topic3\", \"Topic3\", \"Topic3\", \"Topic3\", \"Topic3\", \"Topic3\", \"Topic3\", \"Topic3\", \"Topic3\", \"Topic3\", \"Topic3\", \"Topic3\", \"Topic3\", \"Topic3\", \"Topic3\", \"Topic3\", \"Topic3\", \"Topic3\", \"Topic3\", \"Topic3\", \"Topic3\", \"Topic3\", \"Topic3\", \"Topic3\", \"Topic3\", \"Topic4\", \"Topic4\", \"Topic4\", \"Topic4\", \"Topic4\", \"Topic4\", \"Topic4\", \"Topic4\", \"Topic4\", \"Topic4\", \"Topic4\", \"Topic4\", \"Topic4\", \"Topic4\", \"Topic4\", \"Topic4\", \"Topic4\", \"Topic4\", \"Topic4\", \"Topic4\", \"Topic4\", \"Topic4\", \"Topic4\", \"Topic4\", \"Topic4\", \"Topic4\", \"Topic4\", \"Topic4\", \"Topic4\", \"Topic4\", \"Topic4\", \"Topic4\", \"Topic4\", \"Topic4\", \"Topic4\", \"Topic4\", \"Topic4\", \"Topic4\", \"Topic4\", \"Topic4\", \"Topic4\", \"Topic4\", \"Topic4\", \"Topic4\", \"Topic4\", \"Topic4\", \"Topic4\", \"Topic4\", \"Topic4\", \"Topic4\", \"Topic4\", \"Topic4\", \"Topic4\", \"Topic4\", \"Topic4\", \"Topic4\", \"Topic4\", \"Topic4\", \"Topic4\", \"Topic4\", \"Topic4\", \"Topic4\", \"Topic5\", \"Topic5\", \"Topic5\", \"Topic5\", \"Topic5\", \"Topic5\", \"Topic5\", \"Topic5\", \"Topic5\", \"Topic5\", \"Topic5\", \"Topic5\", \"Topic5\", \"Topic5\", \"Topic5\", \"Topic5\", \"Topic5\", \"Topic5\", \"Topic5\", \"Topic5\", \"Topic5\", \"Topic5\", \"Topic5\", \"Topic5\", \"Topic5\", \"Topic5\", \"Topic5\", \"Topic5\", \"Topic5\", \"Topic5\", \"Topic5\", \"Topic5\", \"Topic5\", \"Topic5\", \"Topic5\", \"Topic5\", \"Topic5\", \"Topic5\", \"Topic5\", \"Topic5\", \"Topic5\", \"Topic5\", \"Topic5\", \"Topic5\", \"Topic5\", \"Topic5\", \"Topic5\", \"Topic5\", \"Topic5\", \"Topic5\", \"Topic5\", \"Topic5\", \"Topic5\", \"Topic5\", \"Topic5\", \"Topic5\", \"Topic5\", \"Topic5\", \"Topic5\", \"Topic5\", \"Topic5\", \"Topic5\", \"Topic5\", \"Topic5\", \"Topic5\", \"Topic5\", \"Topic5\", \"Topic5\", \"Topic5\", \"Topic5\", \"Topic5\", \"Topic5\", \"Topic5\", \"Topic5\", \"Topic5\", \"Topic5\", \"Topic5\", \"Topic5\", \"Topic5\", \"Topic5\", \"Topic5\", \"Topic5\", \"Topic5\", \"Topic5\", \"Topic5\", \"Topic5\", \"Topic5\", \"Topic5\", \"Topic5\", \"Topic5\", \"Topic5\", \"Topic5\", \"Topic5\", \"Topic5\", \"Topic5\", \"Topic5\", \"Topic5\", \"Topic5\", \"Topic6\", \"Topic6\", \"Topic6\", \"Topic6\", \"Topic6\", \"Topic6\", \"Topic6\", \"Topic6\", \"Topic6\", \"Topic6\", \"Topic6\", \"Topic6\", \"Topic6\", \"Topic6\", \"Topic6\", \"Topic6\", \"Topic6\", \"Topic6\", \"Topic6\", \"Topic6\", \"Topic6\", \"Topic6\", \"Topic6\", \"Topic6\", \"Topic6\", \"Topic6\", \"Topic6\", \"Topic6\", \"Topic6\", \"Topic6\", \"Topic6\", \"Topic6\", \"Topic6\", \"Topic6\", \"Topic6\", \"Topic6\", \"Topic6\", \"Topic6\", \"Topic6\", \"Topic6\", \"Topic6\", \"Topic6\", \"Topic6\", \"Topic6\", \"Topic6\", \"Topic6\", \"Topic6\", \"Topic6\", \"Topic6\", \"Topic6\", \"Topic6\", \"Topic6\", \"Topic6\", \"Topic6\", \"Topic6\", \"Topic6\", \"Topic6\", \"Topic6\", \"Topic6\", \"Topic6\", \"Topic6\", \"Topic6\", \"Topic6\", \"Topic6\", \"Topic6\", \"Topic6\", \"Topic6\", \"Topic6\", \"Topic6\", \"Topic6\", \"Topic6\", \"Topic6\", \"Topic6\", \"Topic6\", \"Topic6\", \"Topic6\", \"Topic6\", \"Topic6\", \"Topic6\", \"Topic6\", \"Topic6\", \"Topic6\", \"Topic6\", \"Topic6\", \"Topic6\", \"Topic6\", \"Topic6\", \"Topic6\", \"Topic6\", \"Topic6\", \"Topic7\", \"Topic7\", \"Topic7\", \"Topic7\", \"Topic7\", \"Topic7\", \"Topic7\", \"Topic7\", \"Topic7\", \"Topic7\", \"Topic7\", \"Topic7\", \"Topic7\", \"Topic7\", \"Topic7\", \"Topic7\", \"Topic7\", \"Topic7\", \"Topic7\", \"Topic7\", \"Topic7\", \"Topic7\", \"Topic7\", \"Topic7\", \"Topic7\", \"Topic7\", \"Topic7\", \"Topic7\", \"Topic7\", \"Topic7\", \"Topic7\", \"Topic7\", \"Topic7\", \"Topic7\", \"Topic7\", \"Topic7\", \"Topic7\", \"Topic7\", \"Topic7\", \"Topic7\", \"Topic7\", \"Topic7\", \"Topic7\", \"Topic7\", \"Topic7\", \"Topic7\", \"Topic7\", \"Topic7\", \"Topic7\", \"Topic7\", \"Topic7\", \"Topic7\", \"Topic7\", \"Topic7\", \"Topic7\", \"Topic7\", \"Topic7\", \"Topic7\", \"Topic7\", \"Topic7\", \"Topic7\", \"Topic7\", \"Topic7\", \"Topic7\", \"Topic7\", \"Topic7\", \"Topic7\", \"Topic7\", \"Topic7\", \"Topic7\", \"Topic7\", \"Topic7\", \"Topic7\", \"Topic7\", \"Topic7\", \"Topic7\", \"Topic7\", \"Topic7\", \"Topic7\", \"Topic7\", \"Topic7\", \"Topic7\", \"Topic7\", \"Topic7\", \"Topic7\", \"Topic7\", \"Topic7\", \"Topic7\", \"Topic7\", \"Topic7\", \"Topic7\", \"Topic7\", \"Topic7\", \"Topic7\", \"Topic7\", \"Topic7\", \"Topic7\", \"Topic8\", \"Topic8\", \"Topic8\", \"Topic8\", \"Topic8\", \"Topic8\", \"Topic8\", \"Topic8\", \"Topic8\", \"Topic8\", \"Topic8\", \"Topic8\", \"Topic8\", \"Topic8\", \"Topic8\", \"Topic8\", \"Topic8\", \"Topic8\", \"Topic8\", \"Topic8\", \"Topic8\", \"Topic8\", \"Topic8\", \"Topic8\", \"Topic8\", \"Topic8\", \"Topic8\", \"Topic8\", \"Topic8\", \"Topic8\", \"Topic8\", \"Topic8\", \"Topic8\", \"Topic8\", \"Topic8\", \"Topic8\", \"Topic8\", \"Topic8\", \"Topic8\", \"Topic8\", \"Topic8\", \"Topic8\", \"Topic8\", \"Topic8\", \"Topic8\", \"Topic8\", \"Topic8\", \"Topic8\", \"Topic8\", \"Topic8\", \"Topic8\", \"Topic8\", \"Topic8\", \"Topic8\", \"Topic8\", \"Topic8\", \"Topic8\", \"Topic8\", \"Topic8\", \"Topic8\", \"Topic8\", \"Topic8\", \"Topic8\", \"Topic8\", \"Topic8\", \"Topic8\", \"Topic8\", \"Topic8\", \"Topic8\", \"Topic8\", \"Topic8\", \"Topic8\", \"Topic8\", \"Topic8\", \"Topic8\", \"Topic8\", \"Topic8\", \"Topic8\", \"Topic8\", \"Topic8\", \"Topic8\", \"Topic8\", \"Topic8\", \"Topic8\", \"Topic8\", \"Topic8\", \"Topic8\", \"Topic8\", \"Topic9\", \"Topic9\", \"Topic9\", \"Topic9\", \"Topic9\", \"Topic9\", \"Topic9\", \"Topic9\", \"Topic9\", \"Topic9\", \"Topic9\", \"Topic9\", \"Topic9\", \"Topic9\", \"Topic9\", \"Topic9\", \"Topic9\", \"Topic9\", \"Topic9\", \"Topic9\", \"Topic9\", \"Topic9\", \"Topic9\", \"Topic9\", \"Topic9\", \"Topic9\", \"Topic9\", \"Topic9\", \"Topic9\", \"Topic9\", \"Topic9\", \"Topic9\", \"Topic9\", \"Topic9\", \"Topic9\", \"Topic9\", \"Topic9\", \"Topic9\", \"Topic9\", \"Topic9\", \"Topic9\", \"Topic9\", \"Topic9\", \"Topic9\", \"Topic9\", \"Topic9\", \"Topic9\", \"Topic9\", \"Topic9\", \"Topic9\", \"Topic9\", \"Topic9\", \"Topic9\", \"Topic9\", \"Topic9\", \"Topic9\", \"Topic9\", \"Topic9\", \"Topic9\", \"Topic9\", \"Topic9\", \"Topic9\", \"Topic9\", \"Topic9\", \"Topic9\", \"Topic9\", \"Topic9\", \"Topic9\", \"Topic9\", \"Topic9\", \"Topic9\", \"Topic9\", \"Topic9\", \"Topic9\", \"Topic9\", \"Topic9\", \"Topic9\", \"Topic10\", \"Topic10\", \"Topic10\", \"Topic10\", \"Topic10\", \"Topic10\", \"Topic10\", \"Topic10\", \"Topic10\", \"Topic10\", \"Topic10\", \"Topic10\", \"Topic10\", \"Topic10\", \"Topic10\", \"Topic10\", \"Topic10\", \"Topic10\", \"Topic10\", \"Topic10\", \"Topic10\", \"Topic10\", \"Topic10\", \"Topic10\", \"Topic10\", \"Topic10\", \"Topic10\", \"Topic10\", \"Topic10\", \"Topic10\", \"Topic10\", \"Topic10\", \"Topic10\", \"Topic10\", \"Topic10\", \"Topic10\", \"Topic10\", \"Topic10\", \"Topic10\", \"Topic10\", \"Topic10\", \"Topic10\", \"Topic10\", \"Topic10\", \"Topic10\", \"Topic10\", \"Topic10\", \"Topic10\", \"Topic10\", \"Topic10\", \"Topic10\", \"Topic10\", \"Topic10\", \"Topic10\", \"Topic10\", \"Topic10\", \"Topic10\", \"Topic10\", \"Topic10\", \"Topic10\", \"Topic10\", \"Topic10\", \"Topic10\", \"Topic10\", \"Topic10\", \"Topic10\", \"Topic10\", \"Topic10\", \"Topic10\", \"Topic10\", \"Topic10\", \"Topic10\", \"Topic10\", \"Topic10\", \"Topic10\", \"Topic10\", \"Topic10\", \"Topic10\", \"Topic10\", \"Topic10\", \"Topic10\", \"Topic10\", \"Topic10\", \"Topic10\", \"Topic10\", \"Topic10\", \"Topic10\", \"Topic10\"], \"logprob\": [30.0, 29.0, 28.0, 27.0, 26.0, 25.0, 24.0, 23.0, 22.0, 21.0, 20.0, 19.0, 18.0, 17.0, 16.0, 15.0, 14.0, 13.0, 12.0, 11.0, 10.0, 9.0, 8.0, 7.0, 6.0, 5.0, 4.0, 3.0, 2.0, 1.0, -8.1058, -8.3723, -8.3723, -7.2108, -7.2108, -8.538, -8.6324, -8.467, -8.5501, -8.7366, -8.853, -8.853, -8.853, -8.853, -8.9848, -8.9848, -8.9848, -8.986, -9.1366, -9.1366, -9.1366, -9.1366, -9.1366, -9.1366, -9.1366, -9.1366, -9.1366, -9.1366, -9.1366, -9.1366, -7.9975, -8.0171, -6.8768, -8.6196, -7.8404, -7.3011, -8.2359, -8.4517, -7.3425, -7.7588, -6.1125, -8.1661, -7.5857, -6.2325, -6.6183, -6.4879, -7.2492, -5.8408, -3.9521, -7.4454, -5.396, -5.2712, -7.0404, -6.4133, -6.3494, -5.7709, -5.8734, -6.0802, -4.7792, -5.7871, -6.0181, -6.5964, -5.1251, -6.22, -5.7889, -5.6294, -6.7561, -5.7527, -5.6011, -5.4461, -6.4563, -5.4319, -5.6451, -5.6677, -5.6071, -5.41, -5.6087, -5.9022, -5.9193, -5.5744, -5.9396, -6.0766, -6.0185, -5.9654, -7.875, -7.875, -8.1573, -8.1573, -8.1573, -8.1573, -8.2435, -8.2435, -8.338, -8.4422, -8.3492, -8.5586, -8.5586, -8.5586, -8.5586, -8.5586, -8.5599, -6.395, -8.6904, -8.6904, -8.6904, -7.8887, -8.8422, -8.8422, -8.8422, -8.8422, -8.8422, -8.8422, -8.8422, -8.8422, -6.9746, -6.3388, -8.0288, -6.8499, -8.2436, -8.1716, -5.5987, -7.7586, -6.2334, -6.5116, -8.0149, -6.0557, -6.5761, -6.8001, -7.7799, -4.6203, -6.4897, -7.0945, -5.1043, -7.1554, -7.7401, -6.3539, -4.7544, -6.0579, -5.8352, -6.3766, -6.4558, -5.3185, -6.7558, -6.167, -5.0385, -5.4543, -5.225, -6.1404, -6.6086, -6.6624, -5.8594, -5.3429, -5.7675, -6.238, -4.8578, -5.5922, -5.4494, -5.8334, -5.7614, -6.1579, -5.8095, -5.9525, -6.0654, -6.0102, -5.9425, -5.935, -6.0049, -6.071, -5.9716, -6.0391, -6.0444, -7.8596, -7.9458, -8.1445, -8.1445, -8.2609, -8.2609, -8.2609, -8.3927, -8.5445, -8.5445, -8.5445, -8.5445, -8.5445, -8.5445, -8.5445, -8.5448, -8.7235, -8.7235, -8.7236, -8.7236, -8.7236, -7.8159, -8.9418, -8.9418, -8.9418, -8.9418, -8.9418, -8.9418, -8.9418, -8.9418, -7.9255, -8.3966, -7.7952, -8.3237, -6.6468, -8.1778, -8.2703, -8.5445, -7.1615, -6.1696, -7.138, -7.4408, -7.8803, -5.3495, -6.3328, -5.7545, -5.2663, -6.1871, -5.681, -6.8338, -4.4225, -6.6519, -7.0844, -7.7826, -7.7874, -5.2714, -6.3974, -5.9216, -6.6683, -6.1902, -6.4372, -5.2902, -6.2682, -5.4189, -6.4535, -5.858, -5.9647, -6.169, -5.8733, -6.0268, -5.94, -6.2423, -6.2584, -6.0042, -5.8354, -6.0439, -5.7296, -5.7623, -5.8743, -5.9268, -6.0739, -6.103, -6.2096, -6.1981, -6.1855, -6.1959, -4.7127, -5.44, -6.1169, -6.1324, -6.1324, -6.1324, -6.1324, -6.1324, -6.1324, -6.1324, -6.1324, -6.1324, -6.1324, -6.1017, -7.514, -6.0439, -7.6467, -7.6469, -5.9134, -6.1017, -7.9803, -7.9803, -8.0846, -8.201, -7.1106, -8.3328, -8.3328, -8.22, -7.2064, -8.4846, -5.9693, -6.6816, -7.752, -5.6102, -5.9675, -5.6354, -5.5229, -6.376, -5.4518, -5.5831, -5.7242, -5.8058, -5.3897, -4.7121, -5.2788, -5.4615, -5.2703, -5.5096, -5.2915, -5.4497, -5.0911, -5.6118, -5.8555, -5.5676, -5.79, -5.8089, -5.773, -5.9114, -5.8784, -5.9432, -5.9189, -5.9197, -7.946, -8.1907, -8.4501, -8.4501, -8.4501, -8.6292, -8.6292, -8.6292, -8.6292, -8.6292, -8.6292, -8.6295, -8.8474, -8.8474, -8.8474, -8.8474, -8.8474, -8.8474, -8.8474, -8.8474, -8.8474, -8.8474, -8.8474, -8.8474, -8.8474, -8.8474, -8.8474, -8.8474, -8.8474, -8.8474, -7.6636, -7.6187, -7.0224, -7.1578, -6.3337, -7.7652, -7.55, -7.9478, -6.7895, -8.1665, -8.0987, -6.4956, -7.4848, -6.8779, -7.3208, -7.617, -7.4548, -7.0567, -7.0167, -6.086, -6.6595, -7.0231, -7.3804, -7.0345, -6.7262, -7.1089, -6.7343, -6.4598, -4.7276, -7.2669, -6.2482, -6.2767, -4.2843, -6.1973, -6.9155, -6.0662, -5.6535, -5.5566, -6.3806, -6.0796, -5.6372, -6.9591, -5.7469, -6.2832, -6.2723, -5.9802, -5.6066, -5.5807, -5.9981, -5.9855, -6.0006, -5.686, -5.8365, -6.1788, -5.7643, -5.8237, -5.8767, -5.738, -5.9243, -5.7585, -6.1651, -5.9841, -5.9387, -6.0772, -6.101, -6.1137, -6.1686, -6.1628, -7.7554, -8.1534, -8.2852, -8.437, -8.437, -8.437, -8.437, -8.437, -8.437, -8.437, -8.437, -8.437, -8.616, -8.616, -8.616, -7.4664, -8.8343, -8.8343, -8.8343, -8.8343, -8.8343, -8.8343, -8.8343, -8.8343, -8.8343, -8.8343, -8.8343, -8.8343, -8.8343, -8.8343, -7.4162, -8.1727, -7.9327, -7.1593, -7.515, -7.384, -7.0631, -7.7521, -7.8744, -6.7654, -8.1534, -8.1534, -8.1534, -6.9291, -7.8564, -7.1218, -6.8016, -7.6322, -6.5263, -5.1924, -7.4156, -7.1478, -6.5506, -7.0132, -5.3614, -4.9801, -6.9386, -7.7127, -6.2316, -5.1686, -5.1731, -5.9944, -5.7609, -6.0234, -5.9775, -6.5066, -5.9766, -4.9027, -5.8282, -6.1769, -5.4395, -5.8455, -6.0826, -5.7046, -6.0521, -5.8609, -6.1364, -6.1104, -5.934, -5.8779, -5.8368, -6.1694, -6.2029, -6.2714, -6.0686, -5.9828, -6.0485, -6.1095, -6.1613, -6.1572, -7.4531, -7.6593, -7.6593, -8.0236, -8.14, -8.2718, -8.2718, -8.4236, -8.4236, -8.6026, -8.6026, -8.6026, -8.6027, -8.8209, -8.8209, -8.8209, -8.8209, -8.8209, -8.8209, -8.8209, -8.8209, -8.8209, -8.8209, -8.8209, -8.8209, -8.8209, -8.8209, -8.8209, -8.8209, -8.8209, -7.8692, -8.1486, -7.9193, -7.9193, -7.9426, -7.5187, -7.2312, -8.14, -7.1824, -8.14, -8.4236, -8.4236, -7.6106, -8.4236, -8.0236, -8.4286, -7.3414, -8.2478, -7.9194, -7.0574, -7.5486, -6.116, -7.0497, -6.8526, -7.1947, -7.7447, -7.4151, -6.9713, -5.9092, -7.4612, -5.4829, -6.7283, -6.7713, -6.8503, -5.0589, -7.2482, -5.5583, -5.7997, -5.4096, -5.8554, -6.8612, -6.1204, -5.2673, -4.7626, -5.871, -6.334, -5.7015, -5.8269, -5.949, -5.8203, -6.0195, -6.3214, -5.7715, -5.9053, -5.8939, -5.7479, -6.074, -6.4721, -5.7246, -6.0406, -5.7326, -5.9382, -6.1389, -6.1699, -5.8632, -6.0053, -6.1634, -7.5153, -8.1381, -8.1381, -8.1381, -8.1381, -7.2955, -7.4027, -8.2699, -8.2699, -8.4217, -8.4217, -8.4467, -8.6007, -8.6007, -8.6007, -8.6007, -8.6007, -8.6007, -8.6007, -8.6007, -8.6007, -8.6007, -8.6007, -8.819, -8.819, -8.819, -8.819, -8.819, -8.819, -8.819, -8.1545, -8.2699, -7.5925, -7.5925, -7.6659, -7.668, -7.8341, -7.9181, -8.0104, -6.1847, -8.1381, -8.1401, -7.1344, -8.0217, -7.2472, -7.4016, -5.7483, -8.039, -7.5433, -5.6095, -5.5951, -6.3777, -7.3617, -6.0437, -4.9756, -6.0293, -7.495, -5.1315, -5.3685, -6.3978, -6.6403, -4.6053, -5.9187, -6.8661, -6.7316, -5.8226, -7.1038, -6.2717, -6.1857, -5.7626, -5.8064, -5.9593, -6.063, -5.8164, -6.2354, -6.0944, -5.6723, -5.9903, -5.9706, -5.8111, -6.224, -5.822, -5.9722, -5.9876, -5.8312, -6.0902, -6.0503, -6.1124, -6.8511, -7.5776, -7.7433, -8.0584, -8.0584, -8.0584, -8.0584, -7.2669, -7.4355, -8.1901, -8.1901, -8.1901, -8.1903, -6.9511, -8.3419, -8.3419, -8.3419, -8.3419, -8.3419, -8.342, -7.657, -8.1077, -8.521, -8.521, -8.521, -8.521, -8.521, -8.521, -8.521, -7.4355, -7.9419, -7.5926, -7.1943, -7.6793, -6.0087, -6.8276, -7.44, -5.8862, -7.7433, -6.5405, -7.751, -7.0974, -5.9667, -6.614, -6.0872, -5.5161, -6.1711, -6.6637, -6.454, -5.9851, -4.8101, -5.7148, -5.3519, -6.6155, -5.6818, -6.1016, -5.5945, -5.4911, -5.6315, -5.8214, -5.5916, -5.8468, -6.0742, -5.4823, -5.7871, -5.6212, -5.8801, -5.9401, -5.3449, -5.8273, -5.7623, -5.8362, -5.993, -6.2366, -6.0337, -6.1153, -6.1068, -7.8507, -7.9671, -7.9671, -8.0989, -8.0989, -8.0989, -8.2507, -8.2507, -8.2508, -8.2517, -8.4297, -8.4297, -8.4297, -8.4297, -8.4371, -8.648, -8.648, -8.648, -8.648, -8.648, -8.648, -8.648, -8.648, -8.648, -8.648, -8.648, -8.648, -8.648, -8.648, -8.648, -7.9671, -7.652, -6.798, -7.7464, -7.747, -7.2801, -8.1078, -8.2159, -7.5567, -7.9671, -6.1914, -7.4212, -8.2507, -7.2353, -7.6953, -7.3404, -6.9714, -7.1219, -6.6625, -6.7598, -6.1645, -7.673, -6.1134, -6.2824, -5.8002, -6.2672, -6.983, -6.9037, -5.3698, -5.5303, -6.3453, -5.6533, -6.826, -5.8668, -5.5425, -5.576, -6.5994, -6.0141, -4.8026, -6.1964, -5.3345, -5.3851, -5.7957, -6.0174, -5.8279, -5.7409, -5.8608, -6.1197, -6.0487, -6.3411, -6.1443, -5.9809, -5.7673, -6.0465, -5.9469, -5.9694, -6.0149, -6.1569], \"loglift\": [30.0, 29.0, 28.0, 27.0, 26.0, 25.0, 24.0, 23.0, 22.0, 21.0, 20.0, 19.0, 18.0, 17.0, 16.0, 15.0, 14.0, 13.0, 12.0, 11.0, 10.0, 9.0, 8.0, 7.0, 6.0, 5.0, 4.0, 3.0, 2.0, 1.0, 1.6633, 1.6485, 1.6485, 1.6433, 1.6432, 1.6372, 1.63, 1.6285, 1.6255, 1.6213, 1.6105, 1.6105, 1.6105, 1.6105, 1.5968, 1.5968, 1.5968, 1.5956, 1.579, 1.579, 1.579, 1.579, 1.579, 1.5789, 1.5789, 1.5789, 1.5789, 1.5789, 1.5789, 1.5789, 1.5722, 1.5543, 1.5091, 1.5579, 1.4918, 1.394, 1.4823, 1.5038, 1.3716, 1.4117, 1.1887, 1.4541, 1.3665, 1.144, 1.1984, 1.1389, 1.2759, 0.9899, 0.5903, 1.31, 0.8286, 0.7994, 1.2092, 1.0465, 1.029, 0.8739, 0.9007, 0.9536, 0.5761, 0.7778, 0.8171, 1.0195, 0.4611, 0.8619, 0.6739, 0.5666, 1.0418, 0.5926, 0.4702, 0.3655, 0.885, 0.305, 0.3685, 0.3732, 0.3093, 0.1327, 0.2741, 0.4343, 0.3386, -0.1282, 0.3391, 0.3126, 0.1496, -0.2986, 1.9699, 1.9699, 1.9559, 1.9559, 1.9559, 1.9559, 1.9497, 1.9497, 1.9424, 1.9334, 1.931, 1.9224, 1.9224, 1.9224, 1.9224, 1.9224, 1.9211, 1.9146, 1.9085, 1.9085, 1.9085, 1.8997, 1.8903, 1.8903, 1.8903, 1.8903, 1.8903, 1.8903, 1.8903, 1.8902, 1.8758, 1.8614, 1.8785, 1.8214, 1.8694, 1.8658, 1.6985, 1.8262, 1.6847, 1.6791, 1.8301, 1.5701, 1.5582, 1.5611, 1.7613, 1.0465, 1.4283, 1.5784, 0.9094, 1.5367, 1.7217, 1.2183, 0.6009, 1.0871, 0.9618, 1.1755, 1.1849, 0.5643, 1.2716, 0.9758, 0.4026, 0.5887, 0.3612, 0.8976, 1.152, 1.1497, 0.5823, 0.1998, 0.4823, 0.8515, -0.3154, 0.2194, -0.0032, 0.3966, 0.2795, 0.7491, 0.1763, 0.3714, 0.5535, 0.3509, 0.158, 0.1356, 0.1911, 0.4741, -0.2217, 0.0093, -0.3075, 2.2618, 2.2555, 2.2391, 2.2391, 2.228, 2.228, 2.2279, 2.2139, 2.1955, 2.1955, 2.1955, 2.1955, 2.1955, 2.1955, 2.1955, 2.1952, 2.1705, 2.1705, 2.1705, 2.1705, 2.1705, 2.1615, 2.1344, 2.1344, 2.1344, 2.1344, 2.1344, 2.1344, 2.1344, 2.1344, 2.1181, 2.0927, 1.998, 2.0617, 1.7922, 2.0187, 2.0126, 2.0587, 1.7391, 1.439, 1.614, 1.7159, 1.8656, 0.9293, 1.2272, 0.9057, 0.65, 1.07, 0.7917, 1.3533, 0.1199, 1.2492, 1.4679, 1.8085, 1.8057, 0.4655, 1.0688, 0.7324, 1.1593, 0.8255, 0.9736, 0.156, 0.8336, 0.1674, 0.9632, 0.4785, 0.5572, 0.706, 0.4377, 0.5413, 0.4492, 0.6912, 0.6883, 0.4074, 0.1504, 0.2849, -0.3743, -0.3213, -0.1244, -0.26, 0.0942, -0.0025, 0.3129, 0.1472, -0.1425, -0.6532, 2.364, 2.3604, 2.3539, 2.3536, 2.3536, 2.3536, 2.3536, 2.3536, 2.3536, 2.3536, 2.3536, 2.3536, 2.3536, 2.3254, 2.3141, 2.3136, 2.3067, 2.3066, 2.3058, 2.2978, 2.2838, 2.2838, 2.275, 2.2642, 2.2566, 2.2505, 2.2505, 2.2455, 2.2383, 2.2326, 2.2155, 2.1128, 2.2028, 2.0068, 2.0008, 1.9291, 1.9091, 2.026, 1.8517, 1.8516, 1.8319, 1.8022, 1.5847, 1.0378, 1.0501, 1.0784, 0.1759, 0.7649, 0.1495, 0.5361, -0.5487, 0.8691, 1.4529, 0.4808, 1.0543, 1.0295, 0.6235, 1.0448, 0.7823, 1.2555, 0.6999, -0.377, 2.3317, 2.2881, 2.2798, 2.2798, 2.2798, 2.2551, 2.2551, 2.2551, 2.2551, 2.2551, 2.2551, 2.2547, 2.2194, 2.2194, 2.2194, 2.2194, 2.2194, 2.2194, 2.2194, 2.2194, 2.2194, 2.2194, 2.2194, 2.2193, 2.2193, 2.2193, 2.2193, 2.2193, 2.2193, 2.2193, 2.1233, 2.1153, 2.0462, 2.0556, 1.9345, 2.0763, 2.0353, 2.0918, 1.9113, 2.108, 2.0943, 1.7921, 1.9771, 1.8467, 1.9166, 1.9705, 1.9286, 1.8367, 1.8097, 1.5424, 1.6484, 1.7612, 1.8629, 1.7519, 1.6142, 1.7367, 1.5873, 1.4548, 0.6278, 1.7672, 1.3085, 1.2864, 0.258, 1.22, 1.6004, 1.059, 0.7357, 0.6394, 1.1871, 0.9548, 0.6207, 1.5941, 0.577, 1.0015, 0.9562, 0.6646, 0.2762, 0.1692, 0.6392, 0.6191, 0.5642, 0.0509, 0.2341, 0.7664, 0.0473, 0.0926, 0.1663, -0.1952, 0.1241, -0.3123, 0.6076, 0.0017, -0.3525, 0.2015, 0.2956, -0.0424, 0.3539, -0.496, 2.3684, 2.3379, 2.3238, 2.3054, 2.3054, 2.3054, 2.3054, 2.3054, 2.3054, 2.3054, 2.3054, 2.3053, 2.2803, 2.2803, 2.2803, 2.2766, 2.2441, 2.2441, 2.2441, 2.2441, 2.2441, 2.2441, 2.2441, 2.2441, 2.2441, 2.2441, 2.2441, 2.2441, 2.2441, 2.2441, 2.1782, 2.2116, 2.1862, 2.1273, 2.1245, 2.0829, 2.0161, 2.0962, 2.1042, 1.929, 2.1369, 2.1353, 2.1316, 1.9066, 2.0602, 1.8713, 1.7718, 1.964, 1.5516, 1.0322, 1.8374, 1.7065, 1.4125, 1.5759, 0.6816, 0.4661, 1.5115, 1.9267, 1.059, 0.3741, 0.2679, 0.8019, 0.5844, 0.7492, 0.6896, 1.029, 0.5889, -0.3603, 0.4019, 0.698, -0.0842, 0.3226, 0.5362, 0.107, 0.4862, 0.2396, 0.544, 0.4706, 0.1372, 0.0049, -0.0869, 0.3757, 0.4344, 0.5735, -0.0277, -0.3966, -0.3817, -0.1932, 0.0885, -0.1088, 2.403, 2.3909, 2.3908, 2.3627, 2.3516, 2.3375, 2.3375, 2.3191, 2.3191, 2.294, 2.294, 2.294, 2.294, 2.2577, 2.2577, 2.2577, 2.2577, 2.2577, 2.2577, 2.2577, 2.2577, 2.2577, 2.2577, 2.2577, 2.2577, 2.2577, 2.2577, 2.2577, 2.2577, 2.2577, 2.255, 2.2348, 2.2049, 2.2048, 2.1783, 2.1231, 2.0884, 2.1505, 1.9771, 2.1456, 2.1868, 2.1853, 2.0286, 2.1817, 2.0994, 2.1788, 1.941, 2.139, 2.0586, 1.8408, 1.9613, 1.5496, 1.7904, 1.721, 1.8072, 1.9996, 1.8731, 1.6892, 1.1987, 1.857, 0.8783, 1.4907, 1.4702, 1.5143, 0.3822, 1.7203, 0.6664, 0.735, 0.402, 0.7101, 1.4293, 0.8516, 0.1789, -0.2203, 0.6509, 0.999, 0.4632, 0.5696, 0.632, 0.5036, 0.6316, 0.9082, 0.2694, 0.4051, 0.356, 0.1349, 0.5349, 1.0449, 0.0123, 0.4012, -0.1899, 0.1102, 0.4657, 0.4828, -0.2769, -0.0194, -0.2471, 2.4099, 2.3616, 2.3616, 2.3616, 2.3616, 2.3556, 2.3501, 2.3473, 2.3473, 2.3288, 2.3288, 2.3035, 2.3034, 2.3034, 2.3034, 2.3034, 2.3034, 2.3034, 2.3034, 2.3034, 2.3034, 2.3034, 2.3034, 2.2669, 2.2669, 2.2669, 2.2669, 2.2669, 2.2669, 2.2669, 2.2375, 2.2271, 2.1554, 2.1554, 2.1378, 2.1332, 2.1503, 2.1384, 2.1181, 1.5325, 2.1569, 2.1547, 1.8152, 2.1083, 1.8303, 1.884, 1.2008, 2.0909, 1.8856, 1.0508, 1.0137, 1.3489, 1.7996, 1.0977, 0.4654, 1.0224, 1.8285, 0.4112, 0.5478, 1.1736, 1.3194, -0.063, 0.7353, 1.3882, 1.2567, 0.5369, 1.5412, 0.8504, 0.7535, 0.3079, 0.2648, 0.3695, 0.4754, 0.1694, 0.6344, 0.4404, -0.086, 0.2676, 0.2254, -0.0612, 0.5501, -0.0851, 0.0415, 0.0608, -0.385, 0.1843, -0.0094, -0.4457, 2.5066, 2.4729, 2.4613, 2.4337, 2.4337, 2.4337, 2.4337, 2.4272, 2.4215, 2.4196, 2.4196, 2.4196, 2.4194, 2.4047, 2.4011, 2.4011, 2.4011, 2.4011, 2.4011, 2.4011, 2.3933, 2.3842, 2.376, 2.376, 2.376, 2.376, 2.376, 2.376, 2.376, 2.3625, 2.3493, 2.3241, 2.2722, 2.3022, 2.1248, 2.1947, 2.2507, 1.8802, 2.2394, 1.8813, 2.2285, 2.002, 1.5599, 1.7757, 1.4845, 1.194, 1.4945, 1.6954, 1.5793, 1.3121, 0.6309, 0.9985, 0.7486, 1.4503, 0.799, 1.088, 0.7159, 0.5801, 0.6795, 0.8305, 0.5731, 0.6916, 0.8845, 0.1845, 0.381, 0.1157, 0.3944, 0.4211, -0.8025, 0.1585, -0.176, -0.0863, 0.0554, 0.7899, -0.1509, 0.2086, -0.6606, 2.5331, 2.522, 2.522, 2.5079, 2.5079, 2.5079, 2.4895, 2.4895, 2.4893, 2.4885, 2.4645, 2.4645, 2.4645, 2.4645, 2.4569, 2.4284, 2.4284, 2.4284, 2.4284, 2.4284, 2.4284, 2.4284, 2.4284, 2.4284, 2.4284, 2.4284, 2.4284, 2.4284, 2.4284, 2.4284, 2.417, 2.3971, 2.334, 2.3751, 2.3745, 2.316, 2.3801, 2.3899, 2.2946, 2.3225, 2.0114, 2.2192, 2.3564, 2.1151, 2.2146, 2.0447, 1.9081, 1.9459, 1.7292, 1.7199, 1.4221, 2.1238, 1.3467, 1.4097, 1.0646, 1.3059, 1.7325, 1.6825, 0.7307, 0.7442, 1.296, 0.7583, 1.5963, 0.87, 0.6222, 0.592, 1.4111, 0.9193, -0.2602, 0.961, 0.1117, 0.1577, 0.5408, 0.7553, 0.5317, 0.245, 0.3692, 0.6766, 0.5602, 0.931, 0.6145, 0.2979, -0.1006, 0.2645, -0.197, -0.2325, -0.0986, -0.3453]}, \"token.table\": {\"Topic\": [2, 9, 9, 7, 3, 8, 9, 5, 8, 5, 5, 9, 10, 10, 4, 7, 5, 8, 4, 6, 1, 2, 4, 5, 7, 9, 10, 1, 7, 9, 9, 1, 3, 5, 9, 10, 1, 2, 3, 4, 8, 10, 1, 2, 4, 6, 9, 2, 3, 4, 5, 7, 9, 10, 1, 2, 3, 5, 6, 7, 8, 9, 10, 8, 1, 1, 2, 2, 4, 6, 7, 8, 9, 10, 4, 3, 9, 4, 2, 10, 1, 2, 3, 4, 5, 6, 7, 8, 9, 10, 5, 1, 2, 3, 4, 5, 6, 7, 8, 9, 10, 2, 7, 8, 1, 2, 3, 4, 9, 10, 2, 3, 6, 1, 1, 2, 4, 6, 2, 1, 2, 3, 5, 6, 7, 8, 9, 10, 7, 1, 2, 3, 4, 5, 6, 7, 6, 10, 5, 8, 6, 1, 2, 4, 5, 6, 7, 8, 10, 5, 7, 8, 9, 7, 8, 10, 1, 7, 2, 7, 10, 9, 3, 9, 1, 4, 6, 8, 1, 2, 3, 4, 5, 6, 7, 8, 9, 10, 10, 1, 2, 3, 4, 5, 7, 8, 9, 10, 2, 4, 5, 8, 6, 9, 1, 5, 3, 2, 4, 6, 8, 3, 5, 6, 9, 10, 1, 3, 3, 1, 3, 5, 7, 3, 1, 2, 3, 6, 7, 8, 9, 7, 1, 2, 3, 4, 5, 6, 7, 8, 9, 10, 5, 1, 2, 3, 5, 6, 7, 8, 9, 10, 1, 2, 3, 4, 5, 6, 7, 8, 9, 10, 1, 2, 3, 4, 5, 6, 7, 8, 9, 10, 1, 3, 6, 7, 10, 6, 1, 2, 3, 4, 5, 6, 7, 8, 9, 10, 3, 1, 2, 4, 6, 7, 8, 9, 10, 7, 9, 1, 2, 3, 4, 5, 6, 7, 8, 9, 10, 10, 1, 2, 3, 5, 6, 7, 8, 10, 1, 2, 4, 5, 6, 7, 8, 10, 1, 2, 3, 4, 5, 6, 7, 8, 9, 10, 2, 3, 4, 5, 6, 7, 8, 9, 3, 7, 1, 2, 3, 4, 5, 6, 7, 8, 9, 10, 1, 2, 3, 4, 6, 8, 9, 10, 1, 2, 3, 4, 5, 7, 8, 10, 3, 7, 8, 9, 10, 3, 6, 7, 10, 3, 1, 2, 3, 4, 5, 6, 7, 8, 9, 10, 6, 7, 9, 8, 5, 1, 2, 3, 4, 5, 6, 7, 8, 10, 7, 1, 10, 8, 10, 4, 9, 3, 1, 2, 3, 4, 6, 7, 8, 9, 10, 6, 2, 2, 4, 6, 9, 10, 7, 8, 2, 8, 10, 1, 2, 3, 4, 5, 6, 7, 8, 9, 10, 1, 2, 3, 4, 5, 6, 7, 8, 9, 10, 3, 6, 5, 1, 2, 3, 4, 5, 6, 7, 8, 9, 10, 1, 2, 3, 4, 5, 6, 7, 8, 9, 10, 1, 2, 3, 5, 6, 7, 2, 3, 4, 5, 1, 8, 10, 1, 5, 10, 3, 3, 8, 10, 1, 2, 1, 2, 3, 5, 6, 7, 8, 9, 10, 1, 3, 5, 6, 9, 10, 2, 10, 1, 2, 3, 4, 6, 7, 8, 9, 10, 1, 2, 3, 4, 5, 6, 7, 8, 9, 10, 4, 1, 2, 3, 4, 5, 6, 7, 8, 9, 10, 3, 8, 6, 10, 8, 9, 7, 1, 1, 2, 5, 8, 7, 10, 1, 2, 8, 10, 1, 2, 3, 4, 5, 6, 7, 8, 9, 10, 4, 8, 9, 5, 1, 2, 3, 4, 5, 6, 7, 8, 9, 10, 1, 2, 4, 7, 8, 9, 1, 2, 3, 5, 6, 9, 1, 2, 4, 5, 6, 7, 8, 9, 10, 2, 4, 5, 6, 7, 8, 9, 7, 1, 2, 3, 5, 10, 1, 3, 5, 6, 7, 1, 2, 3, 4, 5, 6, 8, 10, 3, 9, 8, 4, 1, 2, 3, 4, 5, 6, 7, 8, 9, 10, 2, 1, 2, 4, 8, 10, 6, 9, 4, 1, 2, 3, 4, 5, 6, 7, 8, 9, 10, 10, 1, 2, 3, 4, 5, 7, 8, 10, 1, 2, 3, 5, 6, 7, 8, 10, 10, 1, 2, 4, 7, 10, 1, 2, 3, 4, 5, 6, 7, 8, 9, 10, 1, 2, 3, 4, 5, 6, 7, 8, 9, 10, 1, 1, 2, 3, 4, 5, 6, 7, 8, 9, 10, 8, 1, 2, 3, 4, 5, 6, 7, 8, 9, 10, 1, 2, 3, 4, 5, 6, 7, 8, 9, 10, 9, 1, 2, 5, 10, 1, 2, 3, 5, 6, 7, 8, 9, 10, 1, 2, 3, 4, 5, 6, 7, 8, 9, 10, 4, 2, 1, 7, 8, 3, 1, 2, 6, 7, 8, 10, 1, 2, 3, 4, 5, 6, 7, 8, 9, 10, 6, 6, 1, 2, 6, 8, 1, 2, 3, 4, 5, 6, 7, 8, 9, 10, 6, 8, 1, 2, 3, 4, 5, 6, 7, 8, 9, 10, 4, 8, 9, 1, 2, 3, 5, 6, 7, 8, 9, 10, 1, 2, 3, 4, 5, 6, 7, 8, 9, 10, 1, 3, 4, 6, 7, 8, 10, 1, 6, 1, 2, 3, 4, 6, 10, 1, 1, 3, 4, 6, 7, 8, 9, 10, 9, 1, 2, 3, 4, 5, 6, 7, 8, 9, 10, 1, 3, 9, 1, 2, 3, 5, 6, 7, 8, 9, 5, 2, 4, 8, 2, 3, 5, 8, 9, 3, 7, 8, 1, 2, 2, 1, 2, 3, 4, 5, 6, 7, 8, 9, 10, 7, 8, 2, 5, 6, 7, 8, 9, 10, 5, 1, 10, 1, 2, 3, 4, 6, 7, 8, 3, 5, 6, 1, 2, 3, 4, 5, 6, 7, 8, 9, 10, 1, 2, 3, 4, 6, 7, 8, 9, 1, 1, 2, 3, 4, 5, 6, 7, 8, 9, 10, 7, 1, 2, 3, 2, 6, 1, 1, 2, 3, 4, 5, 6, 7, 8, 9, 10, 1, 2, 3, 4, 5, 6, 7, 8, 9, 10, 1, 2, 3, 5, 8, 9, 1, 2, 3, 4, 5, 6, 7, 8, 9, 10, 7, 1, 2, 3, 4, 5, 6, 7, 8, 9, 10, 1, 5, 7, 2, 5, 6, 1, 1, 2, 3, 4, 5, 6, 7, 8, 9, 10, 1, 2, 4, 5, 6, 7, 8, 9, 10, 1, 2, 3, 4, 5, 6, 7, 8, 9, 10, 8, 1, 2, 3, 4, 5, 6, 7, 8, 9, 10, 2, 2, 3, 7, 1, 1, 2, 5, 6, 7, 8, 9, 10, 1, 2, 3, 4, 5, 6, 7, 8, 9, 10, 1, 8, 6, 7, 4, 1, 2, 3, 4, 5, 6, 7, 8, 9, 10, 1, 2, 3, 4, 5, 6, 7, 8, 9, 10, 2, 3, 4, 5, 7, 9, 1, 2, 3, 7, 8, 9, 1, 2, 3, 4, 5, 6, 7, 8, 9, 10, 4, 4, 3, 5, 3, 1, 2, 3, 4, 5, 6, 7, 8, 9, 10, 7, 2, 4, 5, 6, 8, 7, 8, 4, 1, 2, 3, 4, 5, 6, 7, 9, 10, 2, 4, 5, 6, 7, 8, 9, 10, 4, 8, 10, 5, 10, 4, 2, 3, 7, 8, 1, 2, 3, 4, 5, 6, 7, 8, 10, 8, 1, 2, 3, 4, 5, 7, 8, 9, 10, 1, 2, 3, 4, 5, 6, 7, 8, 9, 10, 1, 2, 3, 4, 5, 6, 7, 8, 9, 10, 3, 1, 2, 3, 4, 5, 6, 7, 8, 9, 10, 6, 2, 6, 1, 3, 6, 7, 9, 10, 1, 2, 3, 4, 6, 7, 8, 9, 10, 2, 7, 6, 7, 9, 2, 1, 9, 6, 8, 10, 1, 2, 3, 4, 5, 8, 9, 10, 9, 5, 7, 3, 8, 1, 2, 4, 5, 6, 7, 8, 9, 10, 1, 2, 3, 4, 5, 6, 7, 8, 9, 10, 1, 2, 3, 5, 6, 7, 9, 2, 1, 2, 3, 4, 5, 6, 7, 8, 9, 10, 1, 2, 3, 5, 6, 7, 8, 10, 9, 5, 6, 3, 4, 2, 4, 9, 2, 1, 1, 2, 3, 4, 5, 6, 7, 8, 9, 10, 1, 2, 3, 4, 5, 6, 7, 8, 9, 10, 7, 1, 2, 3, 4, 5, 6, 7, 8, 9, 1, 2, 3, 4, 5, 6, 7, 8, 10, 1, 2, 3, 4, 5, 6, 7, 8, 9, 10, 2, 3, 4, 9, 10, 2, 3, 1, 2, 3, 4, 5, 6, 7, 8, 9, 10, 1, 2, 3, 4, 5, 6, 7, 8, 9, 10, 5, 1, 2, 5, 6, 7, 1, 4, 6, 7, 8, 1, 3, 5, 7, 10, 10, 1, 2, 3, 5, 8, 3, 1, 2, 3, 4, 5, 6, 7, 8, 9, 10, 9, 1, 2, 3, 4, 5, 6, 7, 8, 9, 10, 5, 1, 2, 3, 4, 5, 6, 7, 8, 9, 10, 9, 1, 2, 3, 4, 6, 7, 8, 9, 5, 1, 2, 3, 4, 5, 6, 7, 8, 9, 10, 1, 1, 2, 3, 4, 5, 6, 7, 8, 9, 10, 9, 2, 7, 9, 6, 2, 3, 7, 1, 8, 9, 1, 3, 5, 6, 8, 1, 2, 3, 4, 5, 7, 9, 10, 2, 3, 1, 6, 9, 1, 2, 3, 4, 5, 6, 7, 8, 9, 10, 1, 2, 3, 4, 5, 6, 8, 9, 10, 7, 8, 10, 1, 2, 3, 4, 6, 10, 3, 6, 7, 8, 9, 10, 2, 3, 5, 6, 7, 8, 9, 10, 8, 3, 4, 4, 1, 6, 1, 2, 7, 1, 2, 3, 4, 5, 6, 7, 8, 9, 10, 1, 2, 4, 5, 6, 7, 8, 9, 2, 6, 9, 3, 5, 10, 8, 1, 2, 3, 4, 5, 6, 7, 8, 9, 10, 3, 10, 1, 5, 1, 2, 6, 7, 8, 9, 10, 9, 1, 2, 3, 4, 7, 8, 10, 1, 2, 3, 4, 5, 6, 7, 8, 9, 10, 2, 3, 4, 7, 1, 2, 3, 4, 5, 6, 7, 9, 10, 5, 7, 2, 3, 5, 6, 7, 8, 10, 3, 1, 2, 3, 4, 5, 6, 7, 8, 9, 3, 8, 6, 1, 2, 3, 4, 5, 8, 10, 6, 8, 9, 1, 6, 8, 3, 10, 1, 2, 3, 4, 5, 6, 7, 8, 9, 10, 1, 3, 5, 6, 7, 8, 9, 1, 2, 3, 4, 5, 6, 8, 10, 3, 8, 7, 5, 6, 9, 1, 2, 3, 5, 10, 7, 8, 2, 5, 7, 8, 9, 10, 4, 5, 1, 2, 3, 4, 5, 6, 7, 8, 9, 10, 1, 2, 3, 5, 6, 8, 9, 10, 7, 6, 5, 1, 2, 4, 6, 7, 8, 9, 10, 4, 1, 2, 3, 5, 9, 10, 3, 1, 8, 9, 1, 2, 3, 4, 5, 6, 7, 8, 9, 10, 1, 2, 3, 4, 5, 6, 7, 8, 9, 10, 1, 3, 1, 2, 3, 4, 5, 6, 7, 8, 9, 10, 1, 2, 3, 4, 5, 6, 7, 8, 9, 10, 6, 1, 2, 3, 6, 9, 2, 3, 4, 6, 7, 9, 9, 5, 9, 2, 10, 10, 3, 6, 8, 8, 7, 2, 1, 5, 7, 8, 1, 3, 5, 7, 2, 3, 4, 5, 6, 10, 8, 1, 6, 9, 1, 2, 3, 4, 5, 6, 7, 8, 1, 3, 4, 6, 7, 1, 2, 3, 4, 5, 6, 7, 8, 9, 10, 1, 3, 5, 6, 8, 10, 2, 6, 1, 2, 3, 4, 5, 6, 7, 8, 9, 10, 1, 2, 3, 5, 6, 7, 8, 9, 10, 5, 6, 9, 1, 3, 5, 6, 8, 1, 2, 3, 4, 5, 6, 7, 8, 9, 10, 8, 10, 5, 3, 8, 10, 1, 2, 3, 4, 5, 6, 7, 8, 9, 10, 6, 2, 4, 5, 6, 7, 8, 10, 1, 2, 3, 4, 5, 6, 7, 8, 9, 10, 8, 3, 4, 4, 9, 6, 1, 2, 3, 5, 6, 7, 6, 2, 3, 4, 6, 8, 9, 2, 4, 5, 7, 1, 2, 3, 4, 5, 6, 7, 8, 9, 10, 7, 1, 3, 4, 6, 7, 10, 4, 7, 2, 1, 2, 3, 5, 6, 7, 8, 9, 9, 1, 2, 6, 10, 1, 2, 3, 4, 5, 6, 7, 8, 10, 2, 1, 2, 3, 4, 5, 6, 7, 8, 9, 10, 4, 7, 1, 2, 3, 4, 5, 6, 7, 8, 9, 10, 2, 1, 3, 7, 9, 10, 1, 2, 3, 4, 5, 6, 7, 8, 9, 10, 1, 2, 10, 1, 2, 6, 7, 10, 6, 1, 2, 3, 4, 5, 6, 7, 8, 9, 10, 10, 5, 10, 6, 8, 7, 8, 10, 5, 6, 5, 1, 2, 3, 5, 6, 7, 8, 9, 10, 3, 1, 4, 2, 3, 1, 2, 3, 4, 5, 6, 7, 8, 9, 10, 1, 4, 5, 6, 7, 8, 9, 10, 1, 2, 3, 4, 5, 6, 7, 8, 9, 10, 5, 10, 1, 2, 3, 4, 5, 6, 7, 8, 10, 1, 6, 7, 9, 3, 3, 6, 7, 8, 1, 2, 3, 4, 5, 6, 7, 8, 9, 10, 1, 2, 5, 7, 9, 5, 8, 1, 3, 4, 7, 9, 10, 2, 4, 9, 10, 1, 2, 4, 5, 6, 9, 2, 5, 7, 10, 1, 2, 3, 5, 6, 7, 8, 1, 2, 3, 4, 5, 6, 7, 8, 9, 10, 2, 7, 4, 5, 7, 9, 1, 2, 3, 5, 7, 8, 10, 1, 9, 1, 2, 3, 4, 5, 6, 7, 8, 9, 10, 1, 2, 3, 4, 5, 6, 7, 8, 9, 10, 1, 1, 2, 3, 5, 6, 7, 8, 9, 10, 1, 3, 5, 6, 7, 8, 10, 2, 3, 4, 8, 9, 6, 1, 2, 3, 4, 5, 7, 8, 9, 10, 1, 2, 3, 4, 5, 6, 7, 8, 9, 10, 4, 2, 5, 2, 5, 6, 9, 10, 1, 10, 1, 2, 3, 4, 6, 9, 10, 1, 7, 9, 7, 8, 1, 1, 4, 6, 8, 10, 7, 3, 7, 9, 1, 2, 3, 5, 6, 7, 8, 9, 10, 10, 1, 2, 3, 4, 5, 6, 8, 9, 10, 1, 10, 2, 3, 4, 5, 6, 8, 9, 2, 3, 4, 5, 8, 9, 1, 2, 3, 4, 5, 6, 7, 8, 9, 10, 1, 2, 3, 4, 5, 6, 8, 9, 10, 2, 3, 4, 6, 8, 1, 2, 1, 2, 6, 7, 6, 1, 2, 3, 4, 5, 6, 7, 8, 9, 10, 1, 3, 5, 6, 10, 1, 2, 3, 4, 5, 6, 9, 10, 4, 1, 2, 4, 5, 1, 2, 3, 5, 6, 7, 8, 9, 10, 1, 2, 3, 4, 5, 6, 7, 8, 9, 1, 2, 3, 6, 7, 5, 1, 1, 2, 3, 4, 5, 6, 7, 8, 9, 10, 8, 1, 10, 3, 1, 1, 2, 3, 5, 6, 7, 8, 9, 10, 1, 2, 3, 4, 5, 6, 7, 8, 9, 10, 7, 4, 2, 3, 1, 2, 3, 4, 5, 6, 7, 8, 9, 10, 8, 5, 4, 5, 6, 9, 7, 1, 2, 3, 4, 5, 6, 7, 8, 9, 10, 1, 2, 5, 6, 8, 1, 2, 3, 4, 5, 6, 7, 8, 9, 10, 10, 1, 2, 3, 4, 5, 6, 7, 8, 9, 10, 10, 7, 2, 1, 3, 6, 8, 9, 1, 2, 3, 4, 5, 6, 7, 8, 9, 2, 1, 2, 3, 4, 5, 6, 7, 8, 9, 10, 3, 1, 3, 4, 5, 6, 7, 9, 10, 5, 8, 1, 10, 1, 2, 3, 4, 5, 7, 8, 9, 10, 1, 2, 3, 5, 6, 7, 8, 9, 10, 6, 9, 10, 3, 1, 2, 3, 4, 5, 6, 7, 8, 9, 10, 3, 5, 5, 5, 1, 4, 5, 6, 7, 8, 4, 7, 2, 1, 2, 3, 4, 5, 6, 7, 8, 9, 10, 10, 6, 7, 1, 2, 3, 5, 6, 7, 9, 5, 4, 4, 8, 8, 1, 2, 3, 4, 5, 6, 7, 8, 9, 10, 5, 4, 7, 6, 1, 2, 5, 7, 5, 10, 1, 2, 3, 7, 8, 9, 1, 2, 3, 4, 5, 6, 7, 8, 9, 10, 1, 6, 7, 10, 4, 1, 2, 3, 4, 5, 6, 7, 8, 9, 10, 1, 2, 3, 4, 5, 6, 7, 8, 9, 10, 2, 5, 1, 2, 3, 6, 8, 9, 1, 2, 3, 4, 5, 6, 7, 8, 9, 10, 1, 2, 3, 4, 5, 6, 7, 8, 9, 10, 1, 2, 3, 4, 5, 6, 7, 8, 9, 10, 5, 6, 1, 2, 3, 5, 6, 7, 8, 9, 10, 2, 4, 10, 1, 2, 3, 4, 5, 6, 7, 8, 9, 10, 7, 1, 2, 3, 4, 5, 6, 7, 8, 9, 10, 2, 8, 5, 7, 8, 9, 1, 2, 3, 4, 5, 6, 7, 8, 9, 10, 7], \"Freq\": [0.11884364830184935, 0.8319055381129454, 0.891661158031417, 0.9511989534866404, 0.9145605973857702, 0.9241182491956151, 0.951583630635705, 0.8803634231234992, 0.8980688177354758, 0.8453255810470833, 0.8453255345529397, 0.8923340982711562, 0.9147020429592265, 0.853453563574034, 0.8883623900567199, 0.07724890348319303, 0.10762359719145816, 0.753365180340207, 0.9428295275463078, 0.042216247502073485, 0.1526253058032815, 0.1526253058032815, 0.17297534657705238, 0.030525061160656303, 0.04070008154754174, 0.3866507747016465, 0.07122514270819805, 0.1279647363519338, 0.04265491211731127, 0.7677884181116028, 0.9365973704176721, 0.09619150852322968, 0.14428726278484452, 0.5531011740085706, 0.04809575426161484, 0.14428726278484452, 0.14404009581958632, 0.8162272096443225, 0.16540154862320106, 0.08270077431160053, 0.7443069688044047, 0.8534536631865062, 0.05070924909289342, 0.10141849818578684, 0.05070924909289342, 0.7099294873005079, 0.8916610709277301, 0.144981391351608, 0.024163565225268, 0.144981391351608, 0.072490695675804, 0.531598434955896, 0.048327130450536, 0.9487615509095003, 0.12268511243525235, 0.1635801499136698, 0.07435461359712264, 0.10781418971582782, 0.11524965107554008, 0.08550780563669103, 0.055765960197841975, 0.1747333419532382, 0.10037872835611555, 0.8390243853558124, 0.8924613144133804, 0.8924613280133947, 0.8958354128857523, 0.1397073344616063, 0.1397073344616063, 0.5064390874233229, 0.06985366723080315, 0.06985366723080315, 0.034926833615401574, 0.034926833615401574, 0.9921222103440813, 0.1338103837181602, 0.8028623023089613, 0.9377739024407042, 0.8827591241335229, 0.05885060827556819, 0.2622512244590201, 0.17344657702316144, 0.07770406650637633, 0.03468931540463229, 0.049952614182670496, 0.08464192958730278, 0.11239338191100862, 0.0832543569711175, 0.06799105819307928, 0.05272775941504108, 0.9053815242901763, 0.2862157090284225, 0.18934269981880258, 0.114486283611369, 0.0554818143655096, 0.06252712412620923, 0.05812380552577196, 0.0651691152864716, 0.07749840736769595, 0.06604977900655905, 0.025539247882536163, 0.16449017522771187, 0.6579607009108475, 0.08224508761385593, 0.08865036099912434, 0.17730072199824867, 0.059100240666082896, 0.059100240666082896, 0.5910024066608289, 0.9147119422799009, 0.8522647477380785, 0.06910254711389825, 0.04606836474259884, 0.9535689763480669, 0.01928839335073099, 0.6365169805741228, 0.03857678670146198, 0.2893259002609649, 0.9076692477271977, 0.1463332787649433, 0.6303587392951403, 0.02251281211768358, 0.02251281211768358, 0.06753843635305075, 0.02251281211768358, 0.01125640605884179, 0.06753843635305075, 0.01125640605884179, 0.8554254572477825, 0.24274950709384935, 0.38923627861599985, 0.05022403595045159, 0.029297354304430097, 0.14648677152215048, 0.08789206291329028, 0.05440937227965589, 0.9166714009443921, 0.9487615218401076, 0.11953976900173441, 0.8367783830121409, 0.9166714002413343, 0.07280764559121136, 0.058246116472969095, 0.13105376206418046, 0.029123058236484548, 0.08736917470945364, 0.10193070382769591, 0.10193070382769591, 0.40772281531078364, 0.6368937603956379, 0.08491916805275172, 0.08491916805275172, 0.16983833610550345, 0.749483583830725, 0.1070690834043893, 0.1070690834043893, 0.13321265797175116, 0.7992759478305069, 0.8986252562347993, 0.08047390354341485, 0.013412317257235809, 0.9173348456508277, 0.09730754255597038, 0.778460340447763, 0.6703388414575914, 0.08379235518219892, 0.08379235518219892, 0.1466366215688481, 0.2560143518887692, 0.09509104498725712, 0.12922629190575968, 0.00975292769100073, 0.1657997707470124, 0.0414499426867531, 0.1365409876740102, 0.03169701499575237, 0.08533811729625639, 0.05120287037775383, 0.8891828013276192, 0.2236583456958227, 0.08283642433178619, 0.30649477002760894, 0.008283642433178619, 0.04970185459907172, 0.041418212165893094, 0.02485092729953586, 0.07455278189860758, 0.19052377596310824, 0.05961762463368899, 0.05961762463368899, 0.11923524926737798, 0.7154114956042679, 0.9166714000825112, 0.9564845790145398, 0.19140053825268952, 0.7656021530107581, 0.8533219610262841, 0.050708148213674704, 0.20283259285469882, 0.6084977785640965, 0.10141629642734941, 0.07126829693205329, 0.07126829693205329, 0.712682969320533, 0.035634148466026645, 0.07126829693205329, 0.19300081243081876, 0.772003249723275, 0.9485988392168044, 0.12412701805268347, 0.12412701805268347, 0.6826985992897592, 0.8913233094459933, 0.9485988263523298, 0.23962091296251667, 0.21715645237228073, 0.08236968883086511, 0.05990522824062917, 0.05241707471055052, 0.32947875532346044, 0.02246446059023594, 0.8913233772267974, 0.0974758182560631, 0.21932059107614196, 0.0974758182560631, 0.0536117000408347, 0.04873790912803155, 0.0536117000408347, 0.07798065460485047, 0.014621372738409464, 0.29242745476818927, 0.04873790912803155, 0.8216464881361079, 0.502694082642619, 0.09383622875995554, 0.09383622875995554, 0.07372846545425078, 0.020107763305704757, 0.02681035107427301, 0.07372846545425078, 0.040215526611409515, 0.07372846545425078, 0.09190742164003088, 0.11379014107813347, 0.08315433386478985, 0.09190742164003088, 0.08315433386478985, 0.048141982763825704, 0.10066050941527192, 0.13129631662861554, 0.23195682604388748, 0.02188271943810259, 0.27330504394998567, 0.08684459340466834, 0.1379296483485909, 0.020434021977569022, 0.04342229670233417, 0.05108505494392255, 0.16091792307335603, 0.1021701098878451, 0.07662758241588383, 0.0459765494495303, 0.09682759302593595, 0.5809655581556157, 0.09682759302593595, 0.048413796512967976, 0.09682759302593595, 0.9166713893797906, 0.14837422299360842, 0.06651258272127274, 0.08953616904786715, 0.18674686687126577, 0.03325629136063637, 0.10488522659893008, 0.13814151795956645, 0.07162893523829372, 0.09209434530637764, 0.06651258272127274, 0.8890398797501393, 0.39704380410287815, 0.09683995222021419, 0.03389398327707496, 0.2517838757725569, 0.07747196177617136, 0.024209988055053547, 0.05810397133212851, 0.06294596894313922, 0.14278519082764002, 0.7853185495520201, 0.059214244954143964, 0.15031308334513468, 0.08198895455189165, 0.013664825758648608, 0.059214244954143964, 0.17308779294288237, 0.2140822702188282, 0.05465930303459443, 0.12298343182783747, 0.07287907071279258, 0.933863325962512, 0.9248452227144422, 0.04150162909204726, 0.027667752728031507, 0.4426840436485041, 0.04150162909204726, 0.055335505456063014, 0.23517589818826778, 0.16600651636818903, 0.516064028689628, 0.17775538765976076, 0.04587235810574471, 0.09174471621148941, 0.022936179052872353, 0.022936179052872353, 0.06880853715861707, 0.06307449239539897, 0.09542622363445478, 0.10579863924689553, 0.08609104958325813, 0.2644965981172388, 0.10579863924689553, 0.07986760021579369, 0.05186207806220369, 0.07986760021579369, 0.07260690928708516, 0.059122768990912206, 0.044736844036186524, 0.12861842660403625, 0.5983552889839947, 0.022368422018093262, 0.06151316054975647, 0.03355263302713989, 0.03355263302713989, 0.07828947706332641, 0.19448816287562729, 0.7779526515025091, 0.15466291654308245, 0.10568632630443967, 0.2397275206417778, 0.020621722205744326, 0.0567097360657969, 0.0824868888229773, 0.05413202079007886, 0.24230523591749584, 0.007733145827154122, 0.04124344441148865, 0.027200585948969586, 0.5530785809623816, 0.05440117189793917, 0.0725348958639189, 0.10880234379587835, 0.05440117189793917, 0.03626744793195945, 0.09066861982989863, 0.037517245327088236, 0.037517245327088236, 0.1125517359812647, 0.07503449065417647, 0.037517245327088236, 0.1313103586448088, 0.39393107593442644, 0.16882760397189706, 0.08040912385896835, 0.5092577844401329, 0.1876212890042595, 0.10721216514529115, 0.08040912385896835, 0.11870057884809494, 0.11870057884809494, 0.11870057884809494, 0.5935028942404748, 0.8890398766804114, 0.09944746502093701, 0.2361877294247254, 0.053867376886340884, 0.09737564283300083, 0.11187839814855415, 0.04350826594665994, 0.12845297565204364, 0.10773475377268177, 0.08908835408125608, 0.03107733281904282, 0.08234134656440625, 0.8234134656440626, 0.08234134656440625, 0.9436697221042593, 0.8453255647375554, 0.18055732361627752, 0.0205178776836679, 0.01641430214693432, 0.21338592791014618, 0.25852525881421556, 0.06976078412447087, 0.1436251437856753, 0.06565720858773728, 0.028725028757135063, 0.9169773370908518, 0.8346705064894335, 0.13911175108157225, 0.9086772604557039, 0.05679232877848149, 0.8939201704909308, 0.8916610991253459, 0.9605149744183802, 0.04025849696737583, 0.1409047393858154, 0.06038774545106374, 0.020129248483687915, 0.04025849696737583, 0.04025849696737583, 0.08051699393475166, 0.16103398786950332, 0.4025849696737583, 0.9054012225070035, 0.9341375961943269, 0.2312554203890948, 0.1156277101945474, 0.4856363828170991, 0.04625108407781896, 0.1156277101945474, 0.2308612841800779, 0.6925838525402337, 0.11952253795053223, 0.7171352277031935, 0.11952253795053223, 0.19842552798867324, 0.17982313473973513, 0.04340558424752228, 0.03720478649787624, 0.058907578621637376, 0.155019943741151, 0.1085139606188057, 0.06200797749646039, 0.07130917412092945, 0.08991156736986756, 0.04020811881618776, 0.12464516833018205, 0.14474922773827592, 0.14072841585665716, 0.11057232674451634, 0.09850989109966, 0.08644745545480367, 0.04623933663861592, 0.0502601485202347, 0.15480125744232287, 0.19443310073187287, 0.7777324029274915, 0.8453255522032, 0.11046748388998896, 0.12887873120498713, 0.10783730570213208, 0.0920562365749908, 0.01052071275142752, 0.14992015670784217, 0.12361837482927338, 0.0526035637571376, 0.11309766207784584, 0.11309766207784584, 0.1208430694440707, 0.14872993162347162, 0.09605474750682542, 0.2695730010675423, 0.009295620726466976, 0.037182482905867904, 0.15182847186562728, 0.05577372435880186, 0.018591241452933952, 0.0898576670225141, 0.30449347963230045, 0.05536245084223645, 0.1107249016844729, 0.5259432830012463, 0.9166713974301715, 0.855425457247765, 0.24157525969473595, 0.5797806232673663, 0.04831505193894719, 0.09663010387789438, 0.9248165666086415, 0.046240828330432075, 0.8534536307255944, 0.29754922519118854, 0.5950984503823771, 0.07934646005098361, 0.853321961026433, 0.7484153186256949, 0.10691647408938498, 0.9606818083989234, 0.7680934857063966, 0.16459146122279927, 0.18642364352151786, 0.1360388750021887, 0.1133657291684906, 0.16878897453975267, 0.13351963657622226, 0.017634668981765203, 0.07557715277899373, 0.08061562963092664, 0.08565410648285955, 0.7035073062743614, 0.04020041750139208, 0.12060125250417625, 0.060300626252088124, 0.02010020875069604, 0.04020041750139208, 0.13329071802231487, 0.7997443081338893, 0.16214292394749552, 0.2389474668699934, 0.10525066993083043, 0.05404764131583184, 0.06827070481999811, 0.07111531752083138, 0.07964915562333114, 0.08533838102499765, 0.13369679693916298, 0.035146189153054064, 0.24282821596655535, 0.1949015943942089, 0.05751194588681574, 0.05751194588681574, 0.17573094576527032, 0.06390216209646193, 0.06709727020128503, 0.05751194588681574, 0.044731513467523354, 0.9122021415437903, 0.053860905900524295, 0.1766637713537197, 0.02369879859623069, 0.22406136854618106, 0.04739759719246138, 0.07971414073277595, 0.0991040668569647, 0.08186857696879693, 0.1745093351176987, 0.03877985224837749, 0.8890398631725727, 0.8980687176173375, 0.13345063978710953, 0.8007038387226573, 0.8980685549278186, 0.9173348302676124, 0.8554254572481164, 0.9236747461691214, 0.048143748749373445, 0.14443124624812034, 0.6258687337418548, 0.14443124624812034, 0.9169773178315823, 0.933863285358497, 0.05075911867434366, 0.152277356023031, 0.10151823734868733, 0.6598685427664676, 0.07100364738039568, 0.3508415517619551, 0.0668269622403724, 0.0835337028004655, 0.07100364738039568, 0.12112386906067497, 0.0668269622403724, 0.07518033252041895, 0.03759016626020947, 0.054296906820302575, 0.05130259693426941, 0.87214414788258, 0.8916611441300509, 0.880363413722653, 0.14374336391465484, 0.19090915519915094, 0.13251341360882243, 0.11005351299715761, 0.12802143348648945, 0.05390376146799556, 0.03818183103983019, 0.011229950305832409, 0.09657757263015872, 0.09208559250782575, 0.021021935061552838, 0.3678838635771747, 0.1681754804924227, 0.042043870123105676, 0.07357677271543493, 0.3363509609848454, 0.08643614325636308, 0.06482710744227231, 0.04321807162818154, 0.5186168595381785, 0.1512632506986354, 0.12965421488454462, 0.1802830280398359, 0.3457887586993574, 0.06797556794944633, 0.07684194637763497, 0.07979740585369785, 0.11526291956645246, 0.06797556794944633, 0.04728735161700614, 0.020688216332440185, 0.12226286074794258, 0.13972898371193437, 0.017466122963991797, 0.06986449185596719, 0.47158532002777853, 0.05239836889197539, 0.10479673778395078, 0.9175405279383975, 0.10782207898323755, 0.12938649477988506, 0.08625766318659003, 0.5175459791195403, 0.15095091057653257, 0.06845235410025911, 0.1711308852506478, 0.4449403016516843, 0.1882439737757126, 0.11979161967545346, 0.17179280594310972, 0.4329178709766365, 0.09620397132814144, 0.0618454101395195, 0.03435856118862195, 0.013743424475448778, 0.1374342447544878, 0.04123027342634633, 0.07647468658986618, 0.841221552488528, 0.8390241028422377, 0.9921222103440813, 0.2510803066795052, 0.19486829772140704, 0.0637069434858446, 0.007494934527746425, 0.23234297036013915, 0.07869681254133745, 0.04496960716647855, 0.07869681254133745, 0.0037474672638732123, 0.04496960716647855, 0.9411869556735646, 0.10298117008952222, 0.08826957436244762, 0.7061565948995809, 0.05884638290829841, 0.029423191454149206, 0.855159183959117, 0.9173347764481112, 0.9266840852170284, 0.2357583419554495, 0.11430707488749067, 0.06191633223072412, 0.0642977296242135, 0.03095816611536206, 0.13812104882238457, 0.16193502275727845, 0.06906052441119229, 0.10001869052655434, 0.02381397393489389, 0.8534536325484571, 0.0903671631360194, 0.0903671631360194, 0.0451835815680097, 0.1355507447040291, 0.37954208517128146, 0.06325701419521358, 0.10844059576322328, 0.08133044682241747, 0.030026962868993038, 0.09008088860697912, 0.13512133291046868, 0.09008088860697912, 0.19517525864845475, 0.0750674071724826, 0.015013481434496519, 0.36032355442791647, 0.9338633274018024, 0.05920161206446287, 0.02368064482578515, 0.864343536141158, 0.0473612896515703, 0.8891828122127122, 0.2450077937386882, 0.0661521043094458, 0.18620592324140303, 0.008575272780854086, 0.09800311749547527, 0.07105226018421958, 0.06737714327813925, 0.14700467624321292, 0.045326441841657315, 0.06492706534075236, 0.021174877345120698, 0.06705377825954888, 0.08822865560466957, 0.4587890091442818, 0.021174877345120698, 0.10587438672560348, 0.03529146224186783, 0.09881609427722991, 0.003529146224186783, 0.1023452405014167, 0.9361684366545517, 0.19492893415627788, 0.08565059228078876, 0.13881302886886454, 0.07679018618277612, 0.023627749594700348, 0.19492893415627788, 0.05316243658807578, 0.047255499189400696, 0.04430203049006315, 0.1417664975682021, 0.8616365981406604, 0.12504384260705842, 0.09194400191695472, 0.22066560460069132, 0.040455360843460075, 0.10665504222366748, 0.12504384260705842, 0.0661996813802074, 0.10297728214698929, 0.04413312092013826, 0.07355520153356378, 0.2086730982054693, 0.051582114163149714, 0.1125427945377812, 0.051582114163149714, 0.11488743609065163, 0.15709098404231958, 0.17350347491241266, 0.011723207764352208, 0.10316422832629943, 0.01641249087009309, 0.9515836729770504, 0.7297351392916039, 0.01972257133220551, 0.03944514266441102, 0.1972257133220551, 0.4380259236139526, 0.03565327285229847, 0.10695981855689539, 0.13751976671600838, 0.1120531432500809, 0.01018664938637099, 0.0967731691705244, 0.025466623465927474, 0.03565327285229847, 0.05301988544160212, 0.1546413325380062, 0.09720312330960389, 0.0927847995228037, 0.06480208220640259, 0.11045809467000442, 0.04860156165480194, 0.06332930761080253, 0.16642352930280666, 0.150223008751206, 0.9921222103440519, 0.9265238279375567, 0.7297331397940828, 0.1586376390856702, 0.06345505563426808, 0.853321961026433, 0.05898880845685698, 0.6095510207208554, 0.13764055306599962, 0.11797761691371396, 0.03932587230457132, 0.03932587230457132, 0.29119777088942844, 0.15924878095515618, 0.04094968653132587, 0.009099930340294639, 0.2320482236775133, 0.027299791020883916, 0.04094968653132587, 0.06369951238206246, 0.04094968653132587, 0.09099930340294639, 0.8551591619403667, 0.8551591839591947, 0.1886200992320685, 0.0628733664106895, 0.22005678243741325, 0.502986931285516, 0.12775743529007855, 0.11498169176107068, 0.03832723058702356, 0.03193935882251964, 0.2938421011671806, 0.04471510235152749, 0.08943020470305497, 0.0958180764675589, 0.08943020470305497, 0.08304233293855105, 0.9166712208458417, 0.8616366389862886, 0.09471165313336677, 0.04419877146223783, 0.05051288167112895, 0.587212249426874, 0.04419877146223783, 0.012628220417782237, 0.05051288167112895, 0.012628220417782237, 0.07576932250669341, 0.018942330626673352, 0.9921222103440813, 0.06303405252365141, 0.8824767353311197, 0.3954584295814424, 0.05492478188631144, 0.25265399667703264, 0.1373119547157786, 0.07689469464083602, 0.005492478188631144, 0.04393982550904915, 0.016477434565893432, 0.010984956377262288, 0.25926134713360743, 0.1643827264804575, 0.054058748976794746, 0.06729762627723428, 0.09377538087811334, 0.09708510020322321, 0.12797581390424878, 0.04633607055153835, 0.039716631901318585, 0.05074902965168486, 0.9454286670752966, 0.07355542540209453, 0.14711085080418906, 0.07355542540209453, 0.551665690515709, 0.07355542540209453, 0.07355542540209453, 0.16382170627797088, 0.737197678250869, 0.07062170498282105, 0.6214710038488254, 0.18361643295533475, 0.028248681993128424, 0.04237302298969264, 0.04237302298969264, 0.8800872809028213, 0.07381031839378632, 0.033550144724448325, 0.6978430102685252, 0.013420057889779331, 0.020130086834668996, 0.04026017366933799, 0.020130086834668996, 0.09394040522845531, 0.9365972873681652, 0.15937497899486688, 0.13281248249572242, 0.07269735883976385, 0.15098682220566337, 0.10065788147044225, 0.07828946336589952, 0.09506577694430657, 0.08947367241817089, 0.0838815678920352, 0.034950653288348, 0.11826703013571391, 0.7096021808142835, 0.11826703013571391, 0.44484041175500344, 0.08088007486454608, 0.034662889227662606, 0.14731727921756607, 0.023108592818441735, 0.04621718563688347, 0.14731727921756607, 0.07510292665993565, 0.8453255345532975, 0.8096429566281486, 0.0622802274329345, 0.0622802274329345, 0.03697252212961443, 0.14789008851845772, 0.18486261064807213, 0.517615309814602, 0.07394504425922886, 0.2963963727491472, 0.5015938615754799, 0.15959804686492543, 0.9531428650178024, 0.9076692309050816, 0.8822810155907094, 0.1580595646916955, 0.07448784083171857, 0.08357172385997692, 0.1180904793673587, 0.043602638535640136, 0.0726710642260669, 0.12899113900126874, 0.09265560688823529, 0.16169311790299884, 0.06722073440911187, 0.8554254572481164, 0.9447172700902915, 0.05249090092732865, 0.5380317345051187, 0.026245450463664326, 0.1049818018546573, 0.11810452708648947, 0.1049818018546573, 0.05249090092732865, 0.8453255345531948, 0.852744980670432, 0.09474944229671467, 0.6063037767086024, 0.18946993022143824, 0.0757879720885753, 0.012631328681429216, 0.02526265736285843, 0.05052531472571686, 0.03789398604428765, 0.07118526339121935, 0.1423705267824387, 0.7118526339121934, 0.10964816909495405, 0.057709562681554756, 0.2827768571396183, 0.12696103789942048, 0.011541912536310952, 0.10387721282679857, 0.04616765014524381, 0.04039669387708833, 0.1385029504357314, 0.08079338775417666, 0.021279260076777107, 0.21279260076777107, 0.042558520153554213, 0.11703593042227409, 0.40430594145876503, 0.14895482053743975, 0.021279260076777107, 0.021279260076777107, 0.8924612469571711, 0.15389824149687642, 0.11777926645169114, 0.0785195109677941, 0.06438599899359115, 0.04554131636132057, 0.08166029140650585, 0.13662394908396172, 0.04868209680003233, 0.13976472952267346, 0.13505355886460582, 0.9446294155945802, 0.09193027171257385, 0.7814073095568778, 0.09193027171257385, 0.1941197728876795, 0.776479091550718, 0.8924612431444802, 0.3254616263076218, 0.1053517403076695, 0.11287686461536017, 0.04515074584614407, 0.024456653999994703, 0.1561463293845816, 0.07525124307690678, 0.08277636738459747, 0.005643843230768009, 0.06584483769229343, 0.1781411041881372, 0.2771083842926579, 0.1187607361254248, 0.05278254938907769, 0.10556509877815538, 0.10226618944133803, 0.03958691204180827, 0.10556509877815538, 0.01649454668408678, 0.0065978186736347115, 0.15261893794159534, 0.1271824482846628, 0.05087297931386511, 0.05087297931386511, 0.5087297931386512, 0.07630946897079767, 0.24469361313593607, 0.09726315166491183, 0.1545972200147546, 0.055286423051634094, 0.09419168371759883, 0.04504819656059074, 0.08702492517386848, 0.07781052133192946, 0.08804874782297281, 0.05733406834984276, 0.8554254572479687, 0.2778624685761963, 0.03729697564781158, 0.15664729772080865, 0.02051333660629637, 0.09324243911952895, 0.06526970738367027, 0.055945463471717374, 0.08391819520757605, 0.08578304398996664, 0.1249448684201688, 0.09606988163659363, 0.6724891714561555, 0.19213976327318727, 0.17069264311268428, 0.08534632155634214, 0.6827705724507371, 0.8924612431457345, 0.2534668598611645, 0.0580861553848502, 0.2446659272270963, 0.0070407461072545694, 0.10913156466244583, 0.05104540927759563, 0.04928522275078199, 0.07568802065298662, 0.05456578233122292, 0.09681025897475033, 0.18805913698273827, 0.3234617156103098, 0.063940106574131, 0.1316413958879168, 0.08274602027240484, 0.07146247205344054, 0.033850644656892886, 0.07146247205344054, 0.033850644656892886, 0.16130280317089596, 0.23778258053640697, 0.08343248439873929, 0.047278407825952266, 0.10568114690506977, 0.17103659301741556, 0.058402739079117506, 0.03754461797943268, 0.06952707033228274, 0.027810828132913096, 0.839024457929812, 0.2437294115981194, 0.18537166515913306, 0.1922372823872491, 0.08238740673739248, 0.04119370336869624, 0.01029842584217406, 0.048059320596812276, 0.058357746438986335, 0.11328268426391465, 0.024029660298406138, 0.9076692453521678, 0.9411869484708693, 0.8303154145414322, 0.11861648779163317, 0.9107104001628775, 0.03384774723876321, 0.6363376480887483, 0.020308648343257924, 0.09477369226853698, 0.04738684613426849, 0.14216053840280546, 0.006769549447752641, 0.020308648343257924, 0.16014776144364234, 0.11439125817403024, 0.1258303839914333, 0.0457565032696121, 0.05719562908701512, 0.06863475490441814, 0.13345646786970194, 0.23640860022632917, 0.0457565032696121, 0.011439125817403025, 0.9248166487248732, 0.04624083243624366, 0.8551591839591225, 0.9362247333082102, 0.9921222103440813, 0.32526308763409695, 0.096121598824185, 0.10914452511649393, 0.054262192884620565, 0.11534591858902199, 0.06046358635714863, 0.06883546754506151, 0.07937783644835922, 0.03534794279340996, 0.055812541252752576, 0.03781061562915007, 0.028357961721862553, 0.13233715470202526, 0.09452653907287517, 0.047263269536437585, 0.15124246251660028, 0.047263269536437585, 0.32139023284777557, 0.1039791929801627, 0.03781061562915007, 0.25923368979061034, 0.025923368979061036, 0.12961684489530517, 0.05184673795812207, 0.46662064162309863, 0.05184673795812207, 0.05954828527215152, 0.702669766211388, 0.10718691348987273, 0.04763862821772122, 0.02381931410886061, 0.05954828527215152, 0.20572845201825382, 0.1610415341618298, 0.05058896361104602, 0.06407935390732496, 0.07335399723601672, 0.12647240902761506, 0.07082454905546443, 0.1281587078146499, 0.03625542392124965, 0.08431493935174336, 0.9921222103440813, 0.9921222103440813, 0.9485987476903249, 0.8453255212964377, 0.853321961026341, 0.07523452330862096, 0.3088575167406544, 0.051476252790109076, 0.2336229934320335, 0.019798558765426567, 0.007919423506170626, 0.051476252790109076, 0.07127481155553564, 0.0593956762962797, 0.12275106434564471, 0.855425457247969, 0.0653494013508712, 0.7841928162104543, 0.04356626756724746, 0.04356626756724746, 0.04356626756724746, 0.8561606120150017, 0.8980688140589693, 0.9928447381594769, 0.040153086598977, 0.10325079411165514, 0.13193157025378158, 0.17208465685275856, 0.040153086598977, 0.028680776142126427, 0.13193157025378158, 0.06883386274110342, 0.2753354509644137, 0.11125461575371304, 0.15575646205519825, 0.022250923150742605, 0.09642066698655129, 0.09642066698655129, 0.39309964232978606, 0.022250923150742605, 0.10383764137013217, 0.9392156975912948, 0.02935049054972796, 0.02935049054972796, 0.7056237029767232, 0.1764059257441808, 0.9122022543100327, 0.11262551211808895, 0.11262551211808895, 0.6194403166494892, 0.11262551211808895, 0.04461608836588829, 0.022308044182944145, 0.0613471215030964, 0.6302022481681722, 0.04461608836588829, 0.06692413254883244, 0.011154022091472073, 0.022308044182944145, 0.10038619882324866, 0.8616366389847898, 0.22889700253572454, 0.18438925204266698, 0.06358250070436793, 0.019074750211310377, 0.3242707535922764, 0.03179125035218396, 0.057224250633931134, 0.012716500140873584, 0.07629900084524151, 0.13710747099211124, 0.13025209744250565, 0.051415301622041706, 0.09597522969447786, 0.19195045938895572, 0.04798761484723893, 0.11311366356849176, 0.08226448259526674, 0.051415301622041706, 0.09254754291967508, 0.3913029798358668, 0.04451950069988904, 0.12652910725231623, 0.01874505292626907, 0.15698981825750347, 0.07966647493664354, 0.07732334332085991, 0.04920576393145631, 0.028117579389403603, 0.02577444777361997, 0.8890397984871475, 0.07970598124377384, 0.07970598124377384, 0.11089527825220709, 0.2668417632943733, 0.16287743993292916, 0.11089527825220709, 0.03812025189919619, 0.0866369361345368, 0.03812025189919619, 0.027723819563051772, 0.8551591839593621, 0.9529164585936012, 0.9508697672446753, 0.1500631433758842, 0.13505682903829577, 0.030012628675176838, 0.060025257350353675, 0.5102146874780062, 0.0900378860255305, 0.04949027085131292, 0.27219648968222104, 0.04949027085131292, 0.07423540627696937, 0.24126507040015047, 0.11135310941545407, 0.08042169013338349, 0.018558851569242342, 0.10516682555903994, 0.9076692453520668, 0.8554254572480825, 0.855159183959329, 0.05355472052676998, 0.9104302489550896, 0.9625127001790352, 0.8924612494817544, 0.9515836769694049, 0.666064061954845, 0.14479653520757502, 0.17375584224909002, 0.15846886068680932, 0.22185640496153305, 0.32961523022856337, 0.03803252656483424, 0.13311384297691983, 0.012677508854944746, 0.03803252656483424, 0.0697262987021961, 0.8916610845120336, 0.13349680844529885, 0.800980850671793, 0.6204995197026935, 0.3384542834741964, 0.024523982134981796, 0.12261991067490897, 0.5983851640935558, 0.044143167842967235, 0.029428778561978154, 0.04904796426996359, 0.044143167842967235, 0.03433357498897451, 0.05395276069695995, 0.15839329028434607, 0.12213458527949576, 0.1068677621195588, 0.08205917448466121, 0.08396752737965334, 0.07442576290469273, 0.08587588027464546, 0.1450348200194012, 0.019083528949921214, 0.12213458527949576, 0.13372789075000482, 0.10698231260000386, 0.3387773232333456, 0.20504943248334073, 0.035660770866667954, 0.10698231260000386, 0.062406349016668916, 0.9265238242882408, 0.20542351424565897, 0.08362373146283462, 0.15088629807424508, 0.06726256661141046, 0.07453419543426565, 0.04544768014284491, 0.05999093778855528, 0.06544465940569667, 0.15634001969138647, 0.0945311746971174, 0.25831576343275436, 0.23633144314060509, 0.03847256051126129, 0.302284404017053, 0.05496080073037327, 0.0054960800730373275, 0.08244120109555991, 0.02198432029214931, 0.9173347853259575, 0.11248466280682969, 0.8436349710512226, 0.7976330988364589, 0.1329388498060765, 0.03818794783096701, 0.03818794783096701, 0.8783228001122413, 0.9411654374406965, 0.9106830704807142, 0.08250739841558165, 0.08250739841558165, 0.07563178188094985, 0.24752219524674496, 0.006875616534631804, 0.041253699207790824, 0.07563178188094985, 0.055004932277054434, 0.06188054881168624, 0.2612734283160086, 0.19511827242991828, 0.1504526438013828, 0.166908401717159, 0.030560693272155878, 0.08698043469767441, 0.06582303166310496, 0.1175411279698303, 0.05877056398491515, 0.0799279670194846, 0.04936727374732872, 0.9362246710383215, 0.15174465270364215, 0.11651821546886808, 0.03793616317591054, 0.1463252008213692, 0.06503342258727521, 0.09484040793977634, 0.06774314852841168, 0.059613970705002274, 0.26013369034910083, 0.4283124620324019, 0.07858944257475264, 0.06680102618853975, 0.05501260980232685, 0.05501260980232685, 0.09037785896096553, 0.08644838683222791, 0.03536524915863869, 0.10609574747591607, 0.23693646792180795, 0.23101305622376275, 0.04620261124475255, 0.020139599773353674, 0.11728355162129493, 0.08766649313106893, 0.09832863418755029, 0.04501792890514351, 0.06752689335771526, 0.04975665826357967, 0.07864499541041203, 0.039322497705206017, 0.19661248852603008, 0.07864499541041203, 0.5505149678728842, 0.8958354230566556, 0.9031628445684569, 0.15073595149061378, 0.07361523212332301, 0.07186248850133913, 0.20156551652814633, 0.03330212881769374, 0.04557133417158091, 0.052582308659516436, 0.10165913007506511, 0.11743382267292003, 0.15248869511259766, 0.25340564249432646, 0.1534224638230956, 0.07757315586561013, 0.013790783264997357, 0.1654893991799683, 0.06895391632498679, 0.04654389351936608, 0.11032626611997885, 0.0741254600493608, 0.03620080607061806, 0.880363486047167, 0.039253804299371434, 0.039253804299371434, 0.6280608687899429, 0.07850760859874287, 0.2355228257962286, 0.038139542628397624, 0.6960466529682566, 0.1430232848564911, 0.057209313942596436, 0.06674419959969584, 0.1251614301892164, 0.5319360783041697, 0.0625807150946082, 0.2190325028311287, 0.0312903575473041, 0.9147119173723314, 0.10860043416756068, 0.12217548843850577, 0.23077592260606644, 0.43440173667024273, 0.08145032562567052, 0.9145606831854742, 0.08582536062749838, 0.06743421192160587, 0.05517344611767753, 0.02452153160785668, 0.01839114870589251, 0.15325957254910424, 0.1655203383530326, 0.03678229741178502, 0.37395335701981436, 0.01839114870589251, 0.8325150368956621, 0.14144422724839512, 0.18731803068030703, 0.05351943733723058, 0.11659591705610949, 0.007645633905318654, 0.0841019729585052, 0.20643211544360368, 0.07836774752951621, 0.1204187340087688, 0.005734225428988991, 0.8453255240549843, 0.19872821325530718, 0.14103292553602445, 0.21368625081215828, 0.04701097517867482, 0.08974822534110648, 0.08761136283298489, 0.042737250162431656, 0.08974822534110648, 0.05555842521116115, 0.034189800129945325, 0.9173348434176529, 0.0273011704686505, 0.2402503001241244, 0.2566310024053147, 0.0982842136871418, 0.0600625750310311, 0.1528865546244428, 0.1583467887181729, 0.0054602340937301, 0.8453255828166613, 0.11881761144670626, 0.1806027693989935, 0.04277434012081425, 0.114064906988838, 0.0855486802416285, 0.09030138469949675, 0.057032453494419, 0.06178515795228725, 0.07129056686802375, 0.18535547385686177, 0.8924613463393044, 0.10415452579308289, 0.1301931572413536, 0.07160623648274449, 0.1367028151034213, 0.013019315724135361, 0.07160623648274449, 0.07160623648274449, 0.08462555220687985, 0.0065096578620676806, 0.29944426165511334, 0.891661147377793, 0.866235120404194, 0.8554254572479207, 0.9515836379371888, 0.8551591680740929, 0.2209512484086001, 0.07365041613620002, 0.6996789532939003, 0.11304386758188799, 0.734785139282272, 0.11304386758188799, 0.1880764231973817, 0.42744641635768565, 0.23936999316030397, 0.03419571330861485, 0.08548928327153713, 0.09403387386733669, 0.07233374912872054, 0.20976787247328954, 0.04340024947723232, 0.050633624390104374, 0.07956712404159258, 0.15913424808318516, 0.29656837142775416, 0.9411869431257672, 0.8533219610263718, 0.13678352457669926, 0.13678352457669926, 0.7112743277988363, 0.05909547262260803, 0.15758792699362142, 0.11293801434542869, 0.16021439244351512, 0.08929982529638547, 0.05252930899787381, 0.0840468943965981, 0.09980568709596023, 0.09192629074627916, 0.09192629074627916, 0.07956836285387844, 0.1889748617779613, 0.07956836285387844, 0.04973022678367403, 0.029838136070204416, 0.04973022678367403, 0.1491906803510221, 0.07956836285387844, 0.2983813607020442, 0.08280785538081777, 0.6624628430465421, 0.16561571076163553, 0.03179928597707672, 0.06359857195415344, 0.09539785793123015, 0.06359857195415344, 0.33389250275930554, 0.39749107471345896, 0.15504589943929503, 0.04228524530162591, 0.19733114474092092, 0.08457049060325182, 0.4228524530162591, 0.08457049060325182, 0.07749485979339321, 0.035224936269724186, 0.014089974507889673, 0.0070449872539448365, 0.4015642734748557, 0.09158483430128288, 0.35224936269724183, 0.02113496176183451, 0.8980687460353552, 0.030171043532149385, 0.9654733930287803, 0.9921222103440531, 0.1934148910890029, 0.7736595643560116, 0.08206814493745815, 0.08206814493745815, 0.7386133044371234, 0.08118692140419426, 0.15841350517891561, 0.057424895627356906, 0.17425485569680718, 0.12079029769892315, 0.03366286985051957, 0.15049282991996982, 0.07524641495998491, 0.07128607733051202, 0.07722658377472136, 0.46818220059446597, 0.05618186407133592, 0.014981830419022912, 0.17229104981876348, 0.15356376179498485, 0.01872728802377864, 0.09738189772364893, 0.011236372814267183, 0.721785623145494, 0.12737393349626364, 0.08491595566417576, 0.06267707668059185, 0.1253541533611837, 0.6894478434865103, 0.8980688496081863, 0.1442161136114688, 0.06633941226127564, 0.008652966816688127, 0.04614915635567001, 0.16440636951707444, 0.18459662542268004, 0.060570767716816895, 0.04614915635567001, 0.12691017997809254, 0.15286908042815692, 0.16423598629333613, 0.7390619383200127, 0.8513192315944724, 0.09459102573271916, 0.14134203498811337, 0.7213317647669234, 0.05848635930542622, 0.00974772655090437, 0.034117042928165295, 0.02924317965271311, 0.004873863275452185, 0.9365973703725525, 0.06265437416500935, 0.05012349933200748, 0.05012349933200748, 0.13783962316302056, 0.3759262449900561, 0.20049399732802992, 0.11277787349701683, 0.2606062884765329, 0.32677057933326925, 0.07021516580714876, 0.03510758290357438, 0.03105670795316195, 0.07156545745728624, 0.07291574910742371, 0.08776895725893595, 0.029706416303024476, 0.013502916501374761, 0.10644626076284651, 0.14192834768379536, 0.14192834768379536, 0.6031954776561302, 0.14464075497168843, 0.4276335364380353, 0.08804219867841905, 0.11319711258653876, 0.037732370862179586, 0.05030982781623945, 0.018866185431089793, 0.07546474172435917, 0.05030982781623945, 0.7246026903020955, 0.22295467393910628, 0.7073557500343071, 0.027205990385934888, 0.09975529808176124, 0.06348064423384807, 0.009068663461978295, 0.08161797115780466, 0.8534536340740824, 0.9145532411919749, 0.13590500375807887, 0.22560230623841093, 0.029899100826777353, 0.10600590293130152, 0.07067060195420101, 0.07067060195420101, 0.07610680210452417, 0.07610680210452417, 0.21472990593776461, 0.8533219610263654, 0.898068766855245, 0.9166713889078222, 0.10849436910492173, 0.09643943920437487, 0.024109859801093717, 0.12054929900546858, 0.036164789701640575, 0.06027464950273429, 0.5424718455246086, 0.07147514894860547, 0.14295029789721095, 0.7147514894860548, 0.09764972757340963, 0.09764972757340963, 0.6835480930138674, 0.16423579706266783, 0.7390610867820052, 0.13363120486364485, 0.3751218822243745, 0.07445167128117355, 0.052497973339289045, 0.05440699055162683, 0.059179533582471286, 0.036271327034417884, 0.05440699055162683, 0.09449635201072028, 0.06490658521948464, 0.1740907806461119, 0.1740907806461119, 0.46870594789337816, 0.06695799255619687, 0.040174795533718125, 0.040174795533718125, 0.02678319702247875, 0.20103083278428777, 0.20784543728545007, 0.1260701832715025, 0.18399432153138204, 0.06814604501162297, 0.017036511252905742, 0.18058701928080087, 0.013629209002324595, 0.9337056943295481, 0.8980688653814377, 0.8554254572475358, 0.14249346595493034, 0.07124673297746517, 0.7124673297746517, 0.0674675231581077, 0.2473809182463949, 0.044978348772071804, 0.5397401852648616, 0.08995669754414361, 0.8033835945269944, 0.13389726575449906, 0.07114734492869762, 0.11857890821449603, 0.16601047150029444, 0.07114734492869762, 0.07114734492869762, 0.4980314145008833, 0.8341513948814777, 0.06951261624012314, 0.3533591874708215, 0.14811462947878745, 0.11002801046995639, 0.006347769834805177, 0.11849170358302996, 0.04020254228709945, 0.04866623540017302, 0.07828916129593051, 0.09098470096554087, 0.006347769834805177, 0.48601670965049637, 0.14672202555486683, 0.13755189895768766, 0.07030430391170703, 0.1253250634947821, 0.009170126597179177, 0.0030567088657263925, 0.021396962060084745, 0.8554254572479207, 0.8910343031257818, 0.8803634281259198, 0.1945642622608278, 0.1061259612331788, 0.0530629806165894, 0.1061259612331788, 0.0530629806165894, 0.0707506408221192, 0.0176876602055298, 0.3891285245216556, 0.9470660916308032, 0.1415680702164952, 0.07721894739081557, 0.10295859652108742, 0.6177515791265246, 0.012869824565135928, 0.038609473695407785, 0.9145606800062394, 0.11304386758188796, 0.7347851392822717, 0.11304386758188796, 0.15916173100266592, 0.08570247053989705, 0.07101061844734326, 0.012243210077128149, 0.053870124339363855, 0.066113334416492, 0.14691852092553778, 0.23262099146543483, 0.04652419829308697, 0.12732938480213274, 0.030611162761810064, 0.09739915424212293, 0.10018198722046931, 0.14192448189566484, 0.1196618180688939, 0.008348498935039108, 0.10296482019881567, 0.13079314998227937, 0.09739915424212293, 0.17253564465747492, 0.15193098282496847, 0.8356204055373265, 0.0465496584712369, 0.0864493657322971, 0.0332497560508835, 0.5652458528650195, 0.0199498536305301, 0.0199498536305301, 0.0997492681526505, 0.066499512101767, 0.0265998048407068, 0.0332497560508835, 0.2803014461741952, 0.062289210260932266, 0.05969382650006009, 0.031144605130466133, 0.09602919915227058, 0.17389071197843592, 0.0934338153913984, 0.08564766410878187, 0.07526612906529316, 0.04152614017395485, 0.9166713986677336, 0.18599051596919963, 0.07971022112965698, 0.07971022112965698, 0.5579715479075988, 0.05314014741977132, 0.10336528654254715, 0.06891019102836476, 0.03445509551418238, 0.5512815282269181, 0.10336528654254715, 0.13782038205672953, 0.9173352556515728, 0.6876684848751167, 0.2865285353646319, 0.9265238803151304, 0.8534535171506815, 0.8534536473235027, 0.8894472234588029, 0.8551591618661797, 0.8616366389839555, 0.8616366389860952, 0.8554254572481033, 0.8958354107920601, 0.07160236150025644, 0.07160236150025644, 0.07160236150025644, 0.7160236150025644, 0.7141163894498099, 0.07651247029819393, 0.10201662706425857, 0.10201662706425857, 0.06824554432158872, 0.06824554432158872, 0.10236831648238306, 0.580087126733504, 0.06824554432158872, 0.10236831648238306, 0.898068732377606, 0.10674438451864586, 0.10674438451864586, 0.747210691630521, 0.13573640874399154, 0.06108138393479619, 0.054294563497596614, 0.033934102185997884, 0.41399604666917417, 0.027147281748798307, 0.1968177926787877, 0.07465502480919535, 0.6489174509748556, 0.06655563599742109, 0.033277817998710546, 0.09983345399613164, 0.13311127199484218, 0.19664604228798754, 0.2137456981391169, 0.08891821042587263, 0.08891821042587263, 0.03590927728737164, 0.09404810718121144, 0.1214075565430184, 0.04616907079804925, 0.04616907079804925, 0.06839862340451741, 0.16250073136896692, 0.10156295710560431, 0.5687525597913842, 0.04062518284224173, 0.04062518284224173, 0.08125036568448346, 0.9076692453522447, 0.855159183959347, 0.06924924896514012, 0.23000643406278684, 0.07172243642818084, 0.18796224719109464, 0.07419562389122157, 0.14839124778244314, 0.04451737433473294, 0.02225868716736647, 0.06430287403905868, 0.08903474866946588, 0.10497235168511435, 0.13235644342905722, 0.08215227523182862, 0.06846022935985718, 0.1414844740103715, 0.09356231345847149, 0.13692045871971437, 0.15745852752767153, 0.0844342828771572, 0.7565804175505313, 0.07565804175505313, 0.15131608351010625, 0.17736888267346654, 0.1379535754126962, 0.03941530726077034, 0.5912296089115552, 0.03941530726077034, 0.12427222566982944, 0.1603512589288122, 0.22449176250033706, 0.04810537767864366, 0.07215806651796548, 0.04008781473220305, 0.06013172209830457, 0.10021953683050762, 0.092201973884067, 0.0801756294644061, 0.1527732489852495, 0.7638662449262474, 0.9599426724186693, 0.0971467867160516, 0.0971467867160516, 0.7771742937284128, 0.10473664451476093, 0.06777076998013942, 0.12630007132662346, 0.2618416112869023, 0.12321958178207168, 0.0800927281583466, 0.05852930134648405, 0.06160979089103584, 0.052368322257380466, 0.06160979089103584, 0.8910341721371281, 0.11025943215960479, 0.09800838414187092, 0.08575733612413705, 0.061255240088669324, 0.37978248854974983, 0.11025943215960479, 0.1470125762128064, 0.05914226077694774, 0.07392782597118468, 0.10842747809107085, 0.3992102602443972, 0.0837848694340093, 0.02957113038847387, 0.039428173851298494, 0.0837848694340093, 0.09364191289683392, 0.024642608657061558, 0.9436696832699644, 0.7080657991952771, 0.17701644979881928, 0.9435814483067911, 0.04901721809385928, 0.8551591839591931, 0.5981748312044524, 0.07374758192931605, 0.09833010923908807, 0.06555340615939205, 0.12291263654886009, 0.04097087884962003, 0.8551591839592434, 0.08277798399979513, 0.05094029784602778, 0.6431212603061007, 0.06367537230753471, 0.10188059569205556, 0.05094029784602778, 0.10139396876819068, 0.10139396876819068, 0.10139396876819068, 0.6590607969932394, 0.12153544243437961, 0.19151039413902243, 0.09575519706951122, 0.04235326024228381, 0.15836436438419163, 0.051560490729736806, 0.14179134950677622, 0.034987475852321405, 0.09759664316700181, 0.06445061341217101, 0.8554254572477538, 0.14171498521855372, 0.08502899113113224, 0.08502899113113224, 0.11337198817484298, 0.38263046009009505, 0.17005798226226448, 0.10669924668197088, 0.7468947267737962, 0.882281019692559, 0.5146187267042079, 0.056286423233272743, 0.06432734083802599, 0.06432734083802599, 0.11257284646654549, 0.024122752814259747, 0.1366955992808052, 0.024122752814259747, 0.8916610672845594, 0.8924612637118703, 0.09712332143571499, 0.6313015893321474, 0.24280830358928748, 0.2945534642657362, 0.08182040674048227, 0.028637142359168796, 0.012273061011072341, 0.10227550842560283, 0.053183264381313475, 0.09000244741453049, 0.19636897617715746, 0.13500367112179573, 0.9076693154212677, 0.08946603522404438, 0.17549106909331783, 0.11355304470744094, 0.027528010838167503, 0.041292016257251256, 0.051615020321564065, 0.0722610284501897, 0.2821621110912169, 0.10323004064312813, 0.04817401896679313, 0.8764158530698883, 0.0834681764828465, 0.057589215552959275, 0.21680645855231728, 0.19309325214815756, 0.15582964208447803, 0.016938004574399788, 0.07452722012735906, 0.057589215552959275, 0.016938004574399788, 0.02710080731903966, 0.17954284848863775, 0.9076692722356267, 0.8924614059023304, 0.04856139130131104, 0.09712278260262208, 0.09712278260262208, 0.7284208695196657, 0.07663327448071007, 0.0967999256598443, 0.06856661400905638, 0.03629997212244161, 0.12099990707480537, 0.10486658613149799, 0.2823331165078792, 0.07663327448071007, 0.10486658613149799, 0.032266641886614766, 0.9248453608467848, 0.11846845806134071, 0.8292792064293849, 0.09694953994406197, 0.09694953994406197, 0.7755963195524957, 0.8021885100468152, 0.13369808500780253, 0.8551591839593954, 0.0583923388931955, 0.06256322024270947, 0.07507586429125135, 0.1751770166795865, 0.07924674564076531, 0.07924674564076531, 0.11261379643687702, 0.2544237623203518, 0.02085440674756982, 0.08758850833979324, 0.889020332529312, 0.8453255345526887, 0.889182771030251, 0.8551591839587303, 0.924118265052507, 0.08281983747173195, 0.6625586997738556, 0.1656396749434639, 0.10680308863746658, 0.7476216204622661, 0.8803634343393495, 0.40837533370303875, 0.22414585985204383, 0.018422947385099493, 0.11360817554144687, 0.03377540353934907, 0.10132621061804721, 0.04298687723189881, 0.03377540353934907, 0.024563929846799323, 0.9145606790554074, 0.892461328513904, 0.9718278429181866, 0.07110096014659685, 0.8532115217591622, 0.3208721803053959, 0.24047936824630978, 0.06641145344011462, 0.017476698273714373, 0.16707723549670941, 0.07969374412813754, 0.025865513445097275, 0.03285619275458302, 0.0195739020665601, 0.030059921030788722, 0.05715534519650221, 0.0762071269286696, 0.0381035634643348, 0.1524142538573392, 0.45724276157201765, 0.1333624721251718, 0.0381035634643348, 0.0381035634643348, 0.28892137278173824, 0.07437579893391282, 0.0514909377234781, 0.0514909377234781, 0.08581822953913017, 0.10012126779565186, 0.05721215302608678, 0.11013339457521705, 0.1401697749139126, 0.04147881094391291, 0.9053815539065521, 0.8534535625862313, 0.5921120777043326, 0.12233720613725879, 0.044041394209413165, 0.014680464736471055, 0.1321241826282395, 0.06361534719137457, 0.009786976490980703, 0.004893488245490352, 0.014680464736471055, 0.7831498984501474, 0.07458570461429975, 0.07458570461429975, 0.91792821396125, 0.8533219610264178, 0.13380536273003935, 0.6690268136501968, 0.06690268136501967, 0.06690268136501967, 0.20238005506628215, 0.07172963977032784, 0.20238005506628215, 0.007685318546820841, 0.056359002676686164, 0.07685318546820841, 0.10247091395761121, 0.17676232657687935, 0.023055955640462523, 0.08453850401502924, 0.8924613999787431, 0.0890936430490026, 0.0445468215245013, 0.6236555013430182, 0.22273410762250648, 0.880359733338025, 0.8616366075569157, 0.08588426878905431, 0.028628089596351436, 0.2290247167708115, 0.05725617919270287, 0.08588426878905431, 0.5153056127343258, 0.22788319776004964, 0.07596106592001654, 0.07596106592001654, 0.6076885273601323, 0.08869385322401291, 0.08869385322401291, 0.05321631193440775, 0.1064326238688155, 0.425730495475262, 0.2660815596720387, 0.05876463756627394, 0.7639402883615612, 0.05876463756627394, 0.11752927513254788, 0.17768352783170727, 0.08884176391585363, 0.21575856950993025, 0.025383361118815322, 0.025383361118815322, 0.12691680559407661, 0.34267537510400686, 0.20726408583202513, 0.06662059901743664, 0.1295400536450157, 0.2683329682646754, 0.05181602145800628, 0.020356294144216754, 0.06847117121236544, 0.12213776486530052, 0.02590801072900314, 0.042563160483362304, 0.2845599353540708, 0.6402598545466593, 0.15985553022356838, 0.3342433813765521, 0.029064641858830613, 0.4650342697412898, 0.3678933566890071, 0.03560258290538778, 0.37976088432413635, 0.08307269344590483, 0.0593376381756463, 0.047470110540517044, 0.023735055270258522, 0.868482397258997, 0.08684823972589971, 0.12628085815252507, 0.10607592084812106, 0.11112715517422206, 0.12122962382642406, 0.03535864028270702, 0.08587098354371704, 0.23235677900064614, 0.025256171630505014, 0.10102468652202005, 0.05051234326101003, 0.3175937206292804, 0.1587968603146402, 0.053472412146766596, 0.004861128376978782, 0.16851911706859776, 0.05833354052374538, 0.048611283769787815, 0.1053244481678736, 0.05671316439808578, 0.0259260180105535, 0.9248453129321633, 0.5624549739398912, 0.07454222546191329, 0.06776565951083027, 0.08809535736407935, 0.04743596165758119, 0.033882829755415136, 0.06098909355974724, 0.04743596165758119, 0.013553131902166053, 0.10528208230682516, 0.1710833837485909, 0.03948078086505944, 0.18424364403694404, 0.35532702778553493, 0.013160260288353145, 0.13160260288353146, 0.12212972300507173, 0.5801161842740907, 0.045798646126901904, 0.24425944601014346, 0.9365973531807393, 0.891034304422631, 0.20756285527488502, 0.07065969541272682, 0.12365446697227192, 0.32680109128386153, 0.09715708119249937, 0.026497385779772554, 0.02208115481647713, 0.04416230963295426, 0.07949215733931767, 0.054227206466452446, 0.418324164169776, 0.015493487561843556, 0.061973950247374225, 0.09296092537106133, 0.139441388056592, 0.007746743780921778, 0.10845441293290489, 0.03873371890460889, 0.054227206466452446, 0.9470660753954837, 0.9411869493121189, 0.9053815560499432, 0.8088245733842873, 0.09628863968860563, 0.03851545587544225, 0.03851545587544225, 0.8534536325483961, 0.9106830228786881, 0.9147079198195337, 0.010115896815315906, 0.46533125350453164, 0.09104307133784315, 0.07081127770721134, 0.09104307133784315, 0.23266562675226582, 0.030347690445947716, 0.10166230404066647, 0.7116361282846653, 0.1524934560609997, 0.8913232750057678, 0.8980688711210854, 0.9652594719075177, 0.17798471009229383, 0.07119388403691752, 0.10679082605537629, 0.5695510722953402, 0.07119388403691752, 0.8554254572481164, 0.9145606921057423, 0.7411073237516886, 0.16469051638926413, 0.1652869585409131, 0.06781003427319511, 0.11442943283601675, 0.033905017136597555, 0.18223946710921188, 0.09323879712564329, 0.05509565284697103, 0.09747692426771798, 0.19071572139336126, 0.8534536325485426, 0.564536103446585, 0.0316562300998085, 0.11607284369929785, 0.010552076699936169, 0.11607284369929785, 0.058036421849648925, 0.063312460199617, 0.01582811504990425, 0.021104153399872337, 0.9652591299358415, 0.8534536432917375, 0.04658231718709308, 0.40593162120181114, 0.18632926874837233, 0.03992770044607979, 0.04658231718709308, 0.23291158593546543, 0.033273083705066486, 0.14455817992280048, 0.05782327196912019, 0.08673490795368029, 0.11564654393824038, 0.5204094477220818, 0.05782327196912019, 0.07054321267456702, 0.18597756068749488, 0.03847811600430929, 0.06413019334051548, 0.012826038668103095, 0.08336925134267012, 0.12826038668103096, 0.04489113533836083, 0.3463030440387836, 0.012826038668103095, 0.5022018357024107, 0.06343602135188346, 0.1057267022531391, 0.026431675563284775, 0.04229068090125564, 0.11101303736579606, 0.03700434578859869, 0.08986769691516823, 0.02114534045062782, 0.841621443198524, 0.02404632694852926, 0.0841621443198524, 0.01202316347426463, 0.02404632694852926, 0.07549541208905061, 0.8304495329795567, 0.06809789153659232, 0.11349648589432054, 0.5901817266504669, 0.22699297178864108, 0.9359057388715273, 0.14440577336372043, 0.19254103115162724, 0.13959224758492975, 0.028881154672744085, 0.24067628893953405, 0.1010840413546043, 0.03850820623032545, 0.03850820623032545, 0.028881154672744085, 0.052948783566697494, 0.8106794712825527, 0.043429257390136755, 0.08685851478027351, 0.014476419130045584, 0.02895283826009117, 0.27167345955831185, 0.06317987431588647, 0.04422591202112053, 0.018953962294765942, 0.3285353464426096, 0.13899572349495024, 0.06949786174747512, 0.05686188688429782, 0.9185941637998372, 0.06784487804154885, 0.06784487804154885, 0.20353463412464654, 0.6106039023739396, 0.4315218865799756, 0.058382372890231994, 0.07107419308376069, 0.17260875463199024, 0.08884274135470085, 0.030460368464468868, 0.05584400885152625, 0.048228916735409036, 0.04315218865799756, 0.41352973291291056, 0.003334917200910569, 0.04668884081274797, 0.0433539236118374, 0.02834679620773984, 0.24344895566647154, 0.16674586004552847, 0.0216769618059187, 0.03334917200910569, 0.06275646987330996, 0.12551293974661992, 0.12551293974661992, 0.06275646987330996, 0.6275646987330996, 0.8803634140315805, 0.8924612878206462, 0.30197907074688335, 0.1080767200567793, 0.10171926593579228, 0.0349659976654286, 0.0731107223913507, 0.09854053887529877, 0.04450217884690912, 0.15893635302467546, 0.04132345178641562, 0.0349659976654286, 0.898068622010353, 0.9106829997549708, 0.8534536325483827, 0.9145606921058372, 0.9248451744641705, 0.206516235916727, 0.08530018440038724, 0.16835562710602744, 0.1167265681268457, 0.08081070101089317, 0.16386614371653338, 0.1167265681268457, 0.024692158642217358, 0.038160608810699555, 0.05138180921183922, 0.05138180921183922, 0.07064998766627893, 0.19268178454439708, 0.15414542763551767, 0.03853635690887942, 0.03853635690887942, 0.05138180921183922, 0.08349543996923874, 0.2697544983621559, 0.8554254572479925, 0.9264122059848703, 0.9076692105698986, 0.9145606921056599, 0.10433137195805867, 0.20866274391611733, 0.018969340356010667, 0.056908021068032, 0.06639269124603733, 0.36041746676420267, 0.009484670178005333, 0.06639269124603733, 0.056908021068032, 0.056908021068032, 0.8616366389859533, 0.845325535508283, 0.9968730779797115, 0.6954944165785943, 0.2318314721928648, 0.03311878174183783, 0.8554254572481164, 0.042250195761319165, 0.17956333198560645, 0.10210463975652131, 0.09858379010974472, 0.05633359434842555, 0.09154209081619152, 0.20068842986626603, 0.04577104540809576, 0.1126671886968511, 0.07041699293553194, 0.1643345840368172, 0.0821672920184086, 0.0821672920184086, 0.0821672920184086, 0.5751710441288602, 0.15847257544069496, 0.13091212753796538, 0.1133040636001104, 0.11177292760551431, 0.06507327977033367, 0.13856780751094583, 0.1025861116379378, 0.057417599797353246, 0.040575103856796295, 0.08038463971629455, 0.8534536325485925, 0.20446458149208524, 0.21135664603676227, 0.08270477453612438, 0.062028580902093275, 0.03905503241983651, 0.12635451665241224, 0.0895968390808014, 0.057433871205641925, 0.04824445181273922, 0.08040741968789869, 0.8891828088638135, 0.9175405810338991, 0.8958354219686271, 0.18790446220106632, 0.48020029229161393, 0.1461479150452738, 0.1461479150452738, 0.020878273577896258, 0.1153670021513291, 0.1760864769678181, 0.0425036323715423, 0.0910792122247335, 0.0182158424449467, 0.1275108971146269, 0.24287789926595602, 0.0850072647430846, 0.10322310718803131, 0.9341375999459862, 0.024468195929265038, 0.41595933079750563, 0.07340458778779511, 0.08971671840730513, 0.10602884902681516, 0.08156065309755012, 0.0652485224780401, 0.03262426123902005, 0.048936391858530076, 0.0652485224780401, 0.960514957004956, 0.0337456250020743, 0.0112485416673581, 0.0112485416673581, 0.0787397916715067, 0.0674912500041486, 0.0112485416673581, 0.663663958374128, 0.14623104167565532, 0.19534762652226606, 0.6837166928279312, 0.7958707852234871, 0.19896769630587177, 0.007792051329595579, 0.17142512925110273, 0.05454435930716905, 0.023376153988786733, 0.05454435930716905, 0.03896025664797789, 0.06233641063676463, 0.5142753877533082, 0.06233641063676463, 0.2457055151102638, 0.06093496774734543, 0.1513545973079225, 0.1867361914838005, 0.07862576483528443, 0.09631656192322342, 0.09828220604410552, 0.03341595005499588, 0.047175458901170655, 0.18317492531039212, 0.06105830843679737, 0.7326997012415685, 0.8533219610263512, 0.1423206079936433, 0.08539236479618598, 0.01265072071054607, 0.15813400888182588, 0.034789481954001694, 0.12018184675018767, 0.09488040532909553, 0.03795216213163821, 0.10436844586200508, 0.20873689172401017, 0.889039773071951, 0.8453255171960419, 0.8453255345537313, 0.8453255611796842, 0.23081449078058894, 0.06594699736588255, 0.4451422322197073, 0.14838074407323576, 0.03297349868294128, 0.08243374670735319, 0.9921222103440813, 0.8554254572474091, 0.9411869484707484, 0.1602842240768103, 0.108993272372231, 0.012822737926144823, 0.03205684481536206, 0.10258190340915858, 0.044879582741506885, 0.14746148615066548, 0.27568886541211374, 0.07693642755686894, 0.03205684481536206, 0.8534536325483827, 0.16466911842897336, 0.7410110329303802, 0.18608216182112197, 0.4427472126088764, 0.04491638388785703, 0.01924987880908158, 0.1604156567423465, 0.09624939404540792, 0.05133301015755089, 0.8453255376745323, 0.9915918753189601, 0.9921222103440519, 0.8390244047487901, 0.9238795591062224, 0.05179037608983749, 0.1972604030480575, 0.07006933235683896, 0.10891211442421707, 0.03579628935621121, 0.11348185349096744, 0.1256678243356351, 0.1348073024691358, 0.14851651966938692, 0.0137092172002511, 0.8453255345526155, 0.19353786516852042, 0.7741514606740817, 0.8551591839591525, 0.20633867320042948, 0.11463259622246083, 0.5043834233788277, 0.16048563471144517, 0.8453255201279612, 0.8534535574934933, 0.12111349478122999, 0.04844539791249199, 0.5571220759936579, 0.07266809686873799, 0.09689079582498399, 0.12111349478122999, 0.2640523786719934, 0.0521156010536829, 0.07296184147515607, 0.027794987228630882, 0.059064347860840624, 0.10770557551094466, 0.12507744252883896, 0.027794987228630882, 0.1910905371968373, 0.07296184147515607, 0.24994627505672037, 0.687352256405981, 0.10677320442534838, 0.854185635402787, 0.9718277474057019, 0.10831042098146815, 0.18825382694398035, 0.08252222550969002, 0.20372674422704723, 0.1186256991701794, 0.08767986460404564, 0.007736458641533439, 0.10573160143429033, 0.02578819547177813, 0.06962812777380095, 0.4002291720120789, 0.15151532940457274, 0.050028646501509864, 0.0028587798000862777, 0.11292180210340798, 0.037164137401121615, 0.06861071520207067, 0.11578058190349426, 0.047169866701423584, 0.01429389900043139, 0.8142112921592989, 0.0814211292159299, 0.13893386181869405, 0.1080596703034287, 0.1080596703034287, 0.38592739394081677, 0.046311287272898016, 0.20068224484922473, 0.19279143575241936, 0.19614433028724404, 0.09388104697509117, 0.0553227598246073, 0.06370499616166901, 0.12908643959075036, 0.062028548894256665, 0.06705789069649369, 0.03855828715048387, 0.10393973057956522, 0.17638739412431395, 0.17127471603375413, 0.08435918849423711, 0.023007051407519213, 0.10480990085647642, 0.0818028494489572, 0.05112678090559825, 0.06390847613199781, 0.1815000722148738, 0.06390847613199781, 0.11141631329133003, 0.1409757433482135, 0.029559430056883475, 0.043202243929291236, 0.06821406936203879, 0.1182377202275339, 0.1796303826533688, 0.13188053409994166, 0.10232110404305819, 0.07503547629824267, 0.8453255587998426, 0.9166713127006382, 0.04864070633978573, 0.06809698887570002, 0.26265981423484297, 0.019456282535914294, 0.03891256507182859, 0.08755327141161431, 0.3015723793066715, 0.10700955394752862, 0.06809698887570002, 0.19937419649832486, 0.06645806549944162, 0.6645806549944162, 0.03745568592618509, 0.05618352888927764, 0.28091764444638817, 0.1545047044455135, 0.05618352888927764, 0.12173097926010155, 0.09832117555623587, 0.04681960740773137, 0.10300313629700901, 0.04681960740773137, 0.8913233428909413, 0.08227147882441233, 0.13483381251778687, 0.0662742468307766, 0.27652358160427476, 0.018282550849869406, 0.09141275424934703, 0.12112189938038481, 0.084556797680646, 0.045706377124673514, 0.07770084111194497, 0.861662935252742, 0.06628176425021091, 0.07138568133063326, 0.5710854506450661, 0.1070785219959499, 0.24984988465721644, 0.20957616136623405, 0.08666683364769077, 0.10715172160078132, 0.10715172160078132, 0.029939451623747722, 0.11975780649499089, 0.05357586080039066, 0.04254553651795729, 0.1150305246596623, 0.13078813077742427, 0.8554254572480637], \"Term\": [\"15\", \"15\", \"1915\", \"221b\", \"85\", \"9\", \"abdullah\", \"abnormal\", \"abnormally\", \"accidentally\", \"accidents\", \"achmet\", \"acquaintances\", \"actress\", \"adair\", \"adair\", \"adding\", \"adding\", \"additional\", \"additional\", \"adventure\", \"adventure\", \"adventure\", \"adventure\", \"adventure\", \"adventure\", \"adventure\", \"agra\", \"agra\", \"agra\", \"akbar\", \"alec\", \"alec\", \"alec\", \"alec\", \"alec\", \"alley\", \"alley\", \"aloysius\", \"aloysius\", \"aloysius\", \"alterations\", \"amberley\", \"amberley\", \"amberley\", \"amberley\", \"americans\", \"angel\", \"angel\", \"angel\", \"angel\", \"angel\", \"angel\", \"annie\", \"answered\", \"answered\", \"answered\", \"answered\", \"answered\", \"answered\", \"answered\", \"answered\", \"answered\", \"appetite\", \"arcade\", \"arched\", \"armitage\", \"arthur\", \"arthur\", \"arthur\", \"arthur\", \"arthur\", \"arthur\", \"arthur\", \"ascii\", \"aurora\", \"aurora\", \"aversion\", \"awake\", \"awake\", \"away\", \"away\", \"away\", \"away\", \"away\", \"away\", \"away\", \"away\", \"away\", \"away\", \"awry\", \"back\", \"back\", \"back\", \"back\", \"back\", \"back\", \"back\", \"back\", \"back\", \"back\", \"baggage\", \"baggage\", \"baggage\", \"baldwin\", \"baldwin\", \"baldwin\", \"baldwin\", \"baldwin\", \"barmaid\", \"baronet\", \"baronet\", \"baronet\", \"barrels\", \"barrymore\", \"barrymore\", \"barrymore\", \"barrymore\", \"barrymores\", \"baskerville\", \"baskerville\", \"baskerville\", \"baskerville\", \"baskerville\", \"baskerville\", \"baskerville\", \"baskerville\", \"baskerville\", \"bayard\", \"bed\", \"bed\", \"bed\", \"bed\", \"bed\", \"bed\", \"bed\", \"beer\", \"beetle\", \"befallen\", \"befallen\", \"begging\", \"begin\", \"begin\", \"begin\", \"begin\", \"begin\", \"begin\", \"begin\", \"begin\", \"beppo\", \"beppo\", \"beppo\", \"beppo\", \"beware\", \"beware\", \"beware\", \"bewilderment\", \"bewilderment\", \"bicycle\", \"bicycle\", \"bicycle\", \"billiards\", \"birdy\", \"birdy\", \"bitter\", \"bitter\", \"bitter\", \"bitter\", \"black\", \"black\", \"black\", \"black\", \"black\", \"black\", \"black\", \"black\", \"black\", \"black\", \"blanks\", \"blow\", \"blow\", \"blow\", \"blow\", \"blow\", \"blow\", \"blow\", \"blow\", \"blow\", \"bluff\", \"bluff\", \"bluff\", \"bluff\", \"blunders\", \"bodymaster\", \"bookcase\", \"bookcase\", \"bootmaker\", \"border\", \"border\", \"border\", \"border\", \"boscombe\", \"boscombe\", \"boscombe\", \"boscombe\", \"boscombe\", \"bowing\", \"bowing\", \"bracket\", \"bradstreet\", \"bradstreet\", \"bradstreet\", \"brand\", \"branded\", \"breakfast\", \"breakfast\", \"breakfast\", \"breakfast\", \"breakfast\", \"breakfast\", \"breakfast\", \"brier\", \"bring\", \"bring\", \"bring\", \"bring\", \"bring\", \"bring\", \"bring\", \"bring\", \"bring\", \"bring\", \"brink\", \"broken\", \"broken\", \"broken\", \"broken\", \"broken\", \"broken\", \"broken\", \"broken\", \"broken\", \"brother\", \"brother\", \"brother\", \"brother\", \"brother\", \"brother\", \"brother\", \"brother\", \"brother\", \"brother\", \"brought\", \"brought\", \"brought\", \"brought\", \"brought\", \"brought\", \"brought\", \"brought\", \"brought\", \"brought\", \"brutal\", \"brutal\", \"brutal\", \"brutal\", \"brutal\", \"budge\", \"business\", \"business\", \"business\", \"business\", \"business\", \"business\", \"business\", \"business\", \"business\", \"business\", \"bygones\", \"cab\", \"cab\", \"cab\", \"cab\", \"cab\", \"cab\", \"cab\", \"cab\", \"cabby\", \"cabby\", \"called\", \"called\", \"called\", \"called\", \"called\", \"called\", \"called\", \"called\", \"called\", \"called\", \"candidate\", \"carafe\", \"carpet\", \"carpet\", \"carpet\", \"carpet\", \"carpet\", \"carpet\", \"carpet\", \"carriage\", \"carriage\", \"carriage\", \"carriage\", \"carriage\", \"carriage\", \"carriage\", \"carriage\", \"case\", \"case\", \"case\", \"case\", \"case\", \"case\", \"case\", \"case\", \"case\", \"case\", \"cases\", \"cases\", \"cases\", \"cases\", \"cases\", \"cases\", \"cases\", \"cases\", \"castalotte\", \"castalotte\", \"chair\", \"chair\", \"chair\", \"chair\", \"chair\", \"chair\", \"chair\", \"chair\", \"chair\", \"chair\", \"charles\", \"charles\", \"charles\", \"charles\", \"charles\", \"charles\", \"charles\", \"charles\", \"check\", \"check\", \"check\", \"check\", \"check\", \"check\", \"check\", \"check\", \"chicago\", \"chicago\", \"chicago\", \"chicago\", \"chicago\", \"cipher\", \"cipher\", \"cipher\", \"cipher\", \"clasping\", \"clear\", \"clear\", \"clear\", \"clear\", \"clear\", \"clear\", \"clear\", \"clear\", \"clear\", \"clear\", \"climb\", \"climb\", \"climb\", \"coach\", \"cocking\", \"colonel\", \"colonel\", \"colonel\", \"colonel\", \"colonel\", \"colonel\", \"colonel\", \"colonel\", \"colonel\", \"commercial\", \"commit\", \"commit\", \"composed\", \"composed\", \"confederates\", \"congratulations\", \"constraint\", \"contrary\", \"contrary\", \"contrary\", \"contrary\", \"contrary\", \"contrary\", \"contrary\", \"contrary\", \"contrary\", \"cooee\", \"coombe\", \"coroner\", \"coroner\", \"coroner\", \"coroner\", \"coroner\", \"correspondent\", \"correspondent\", \"councillor\", \"councillor\", \"councillor\", \"country\", \"country\", \"country\", \"country\", \"country\", \"country\", \"country\", \"country\", \"country\", \"country\", \"course\", \"course\", \"course\", \"course\", \"course\", \"course\", \"course\", \"course\", \"course\", \"course\", \"courts\", \"courts\", \"cracks\", \"cried\", \"cried\", \"cried\", \"cried\", \"cried\", \"cried\", \"cried\", \"cried\", \"cried\", \"cried\", \"crime\", \"crime\", \"crime\", \"crime\", \"crime\", \"crime\", \"crime\", \"crime\", \"crime\", \"crime\", \"crop\", \"crop\", \"crop\", \"crop\", \"crowder\", \"cruiser\", \"crumpled\", \"crumpled\", \"crumpled\", \"crumpled\", \"cubitt\", \"cubitt\", \"cumulative\", \"cunningham\", \"cunningham\", \"cunningham\", \"curry\", \"curt\", \"curt\", \"cuts\", \"dangers\", \"dangers\", \"dark\", \"dark\", \"dark\", \"dark\", \"dark\", \"dark\", \"dark\", \"dark\", \"dark\", \"dashed\", \"dashed\", \"dashed\", \"dashed\", \"dashed\", \"dashed\", \"dawson\", \"dawson\", \"days\", \"days\", \"days\", \"days\", \"days\", \"days\", \"days\", \"days\", \"days\", \"dead\", \"dead\", \"dead\", \"dead\", \"dead\", \"dead\", \"dead\", \"dead\", \"dead\", \"dead\", \"deals\", \"dear\", \"dear\", \"dear\", \"dear\", \"dear\", \"dear\", \"dear\", \"dear\", \"dear\", \"dear\", \"decade\", \"dejection\", \"demeanour\", \"demeanour\", \"demented\", \"departments\", \"depleted\", \"destined\", \"destroyed\", \"destroyed\", \"destroyed\", \"destroyed\", \"detachment\", \"directory\", \"discovering\", \"discovering\", \"discovering\", \"discovering\", \"doctor\", \"doctor\", \"doctor\", \"doctor\", \"doctor\", \"doctor\", \"doctor\", \"doctor\", \"doctor\", \"doctor\", \"doran\", \"doran\", \"dost\", \"dotted\", \"doubt\", \"doubt\", \"doubt\", \"doubt\", \"doubt\", \"doubt\", \"doubt\", \"doubt\", \"doubt\", \"doubt\", \"douglas\", \"douglas\", \"douglas\", \"douglas\", \"douglas\", \"douglas\", \"downstairs\", \"downstairs\", \"downstairs\", \"downstairs\", \"downstairs\", \"downstairs\", \"dr\", \"dr\", \"dr\", \"dr\", \"dr\", \"dr\", \"dr\", \"dr\", \"dr\", \"drop\", \"drop\", \"drop\", \"drop\", \"drop\", \"drop\", \"drop\", \"duncan\", \"dust\", \"dust\", \"dust\", \"dust\", \"dust\", \"ear\", \"ear\", \"ear\", \"ear\", \"ear\", \"early\", \"early\", \"early\", \"early\", \"early\", \"early\", \"early\", \"early\", \"edwards\", \"edwards\", \"eggs\", \"electronic\", \"entered\", \"entered\", \"entered\", \"entered\", \"entered\", \"entered\", \"entered\", \"entered\", \"entered\", \"entered\", \"epistle\", \"essential\", \"essential\", \"essential\", \"essential\", \"essential\", \"estranged\", \"euston\", \"eva\", \"evening\", \"evening\", \"evening\", \"evening\", \"evening\", \"evening\", \"evening\", \"evening\", \"evening\", \"evening\", \"everyday\", \"examination\", \"examination\", \"examination\", \"examination\", \"examination\", \"examination\", \"examination\", \"examination\", \"examine\", \"examine\", \"examine\", \"examine\", \"examine\", \"examine\", \"examine\", \"examine\", \"expectations\", \"expressed\", \"expressed\", \"expressed\", \"expressed\", \"extraction\", \"eyes\", \"eyes\", \"eyes\", \"eyes\", \"eyes\", \"eyes\", \"eyes\", \"eyes\", \"eyes\", \"eyes\", \"facts\", \"facts\", \"facts\", \"facts\", \"facts\", \"facts\", \"facts\", \"facts\", \"facts\", \"facts\", \"fanlight\", \"father\", \"father\", \"father\", \"father\", \"father\", \"father\", \"father\", \"father\", \"father\", \"father\", \"favourably\", \"fear\", \"fear\", \"fear\", \"fear\", \"fear\", \"fear\", \"fear\", \"fear\", \"fear\", \"fear\", \"fellow\", \"fellow\", \"fellow\", \"fellow\", \"fellow\", \"fellow\", \"fellow\", \"fellow\", \"fellow\", \"fellow\", \"ferret\", \"ferrier\", \"ferrier\", \"ferrier\", \"ferrier\", \"figure\", \"figure\", \"figure\", \"figure\", \"figure\", \"figure\", \"figure\", \"figure\", \"figure\", \"find\", \"find\", \"find\", \"find\", \"find\", \"find\", \"find\", \"find\", \"find\", \"find\", \"fitness\", \"flags\", \"flash\", \"flash\", \"flash\", \"flavor\", \"fled\", \"fled\", \"fled\", \"fled\", \"fled\", \"fled\", \"floor\", \"floor\", \"floor\", \"floor\", \"floor\", \"floor\", \"floor\", \"floor\", \"floor\", \"floor\", \"flopped\", \"fondly\", \"foolish\", \"foolish\", \"foolish\", \"foolish\", \"foot\", \"foot\", \"foot\", \"foot\", \"foot\", \"foot\", \"foot\", \"foot\", \"foot\", \"foot\", \"footfalls\", \"fordingham\", \"form\", \"form\", \"form\", \"form\", \"form\", \"form\", \"form\", \"form\", \"form\", \"form\", \"formatted\", \"fort\", \"fort\", \"forward\", \"forward\", \"forward\", \"forward\", \"forward\", \"forward\", \"forward\", \"forward\", \"forward\", \"found\", \"found\", \"found\", \"found\", \"found\", \"found\", \"found\", \"found\", \"found\", \"found\", \"fournaye\", \"france\", \"france\", \"france\", \"france\", \"france\", \"france\", \"franco\", \"franco\", \"frank\", \"frank\", \"frank\", \"frank\", \"frank\", \"frank\", \"frantically\", \"free\", \"free\", \"free\", \"free\", \"free\", \"free\", \"free\", \"free\", \"freeman\", \"friend\", \"friend\", \"friend\", \"friend\", \"friend\", \"friend\", \"friend\", \"friend\", \"friend\", \"friend\", \"frighten\", \"frighten\", \"frighten\", \"front\", \"front\", \"front\", \"front\", \"front\", \"front\", \"front\", \"front\", \"frou\", \"fugitives\", \"fugitives\", \"fugitives\", \"gaze\", \"gaze\", \"gaze\", \"gaze\", \"gaze\", \"gennaro\", \"gennaro\", \"gennaro\", \"ghost\", \"ghosts\", \"gipsies\", \"give\", \"give\", \"give\", \"give\", \"give\", \"give\", \"give\", \"give\", \"give\", \"give\", \"glades\", \"glances\", \"glasses\", \"glasses\", \"glasses\", \"glasses\", \"glasses\", \"glasses\", \"glasses\", \"glided\", \"glimmer\", \"glimmer\", \"glimpse\", \"glimpse\", \"glimpse\", \"glimpse\", \"glimpse\", \"glimpse\", \"glimpse\", \"glint\", \"glint\", \"glint\", \"god\", \"god\", \"god\", \"god\", \"god\", \"god\", \"god\", \"god\", \"god\", \"god\", \"godfrey\", \"godfrey\", \"godfrey\", \"godfrey\", \"godfrey\", \"godfrey\", \"godfrey\", \"godfrey\", \"graver\", \"great\", \"great\", \"great\", \"great\", \"great\", \"great\", \"great\", \"great\", \"great\", \"great\", \"gregory\", \"grimpen\", \"grimpen\", \"grimpen\", \"grosvenor\", \"grosvenor\", \"guardsmen\", \"half\", \"half\", \"half\", \"half\", \"half\", \"half\", \"half\", \"half\", \"half\", \"half\", \"hall\", \"hall\", \"hall\", \"hall\", \"hall\", \"hall\", \"hall\", \"hall\", \"hall\", \"hall\", \"halloa\", \"halloa\", \"halloa\", \"halloa\", \"halloa\", \"halloa\", \"hand\", \"hand\", \"hand\", \"hand\", \"hand\", \"hand\", \"hand\", \"hand\", \"hand\", \"hand\", \"handbook\", \"hands\", \"hands\", \"hands\", \"hands\", \"hands\", \"hands\", \"hands\", \"hands\", \"hands\", \"hands\", \"hastened\", \"hastened\", \"hastened\", \"hayes\", \"hayes\", \"hayes\", \"hayter\", \"head\", \"head\", \"head\", \"head\", \"head\", \"head\", \"head\", \"head\", \"head\", \"head\", \"hear\", \"hear\", \"hear\", \"hear\", \"hear\", \"hear\", \"hear\", \"hear\", \"hear\", \"heard\", \"heard\", \"heard\", \"heard\", \"heard\", \"heard\", \"heard\", \"heard\", \"heard\", \"heard\", \"hears\", \"heart\", \"heart\", \"heart\", \"heart\", \"heart\", \"heart\", \"heart\", \"heart\", \"heart\", \"heart\", \"hector\", \"heidegger\", \"hellish\", \"hellish\", \"henri\", \"henry\", \"henry\", \"henry\", \"henry\", \"henry\", \"henry\", \"henry\", \"henry\", \"high\", \"high\", \"high\", \"high\", \"high\", \"high\", \"high\", \"high\", \"high\", \"high\", \"hilton\", \"hilton\", \"hobbling\", \"hobson\", \"holm\", \"holmes\", \"holmes\", \"holmes\", \"holmes\", \"holmes\", \"holmes\", \"holmes\", \"holmes\", \"holmes\", \"holmes\", \"hopkins\", \"hopkins\", \"hopkins\", \"hopkins\", \"hopkins\", \"hopkins\", \"hopkins\", \"hopkins\", \"hopkins\", \"hopkins\", \"hosmer\", \"hosmer\", \"hosmer\", \"hosmer\", \"hosmer\", \"hosmer\", \"hound\", \"hound\", \"hound\", \"hound\", \"hound\", \"hound\", \"house\", \"house\", \"house\", \"house\", \"house\", \"house\", \"house\", \"house\", \"house\", \"house\", \"html\", \"http\", \"hugh\", \"hurling\", \"hurts\", \"husband\", \"husband\", \"husband\", \"husband\", \"husband\", \"husband\", \"husband\", \"husband\", \"husband\", \"husband\", \"hynes\", \"hypothesis\", \"hypothesis\", \"hypothesis\", \"hypothesis\", \"hypothesis\", \"identify\", \"imperturbably\", \"implied\", \"importance\", \"importance\", \"importance\", \"importance\", \"importance\", \"importance\", \"importance\", \"importance\", \"importance\", \"important\", \"important\", \"important\", \"important\", \"important\", \"important\", \"important\", \"important\", \"including\", \"including\", \"including\", \"inconvenience\", \"inconvenience\", \"indifference\", \"infinitely\", \"infinitely\", \"infinitely\", \"infinitely\", \"information\", \"information\", \"information\", \"information\", \"information\", \"information\", \"information\", \"information\", \"information\", \"insensibly\", \"inside\", \"inside\", \"inside\", \"inside\", \"inside\", \"inside\", \"inside\", \"inside\", \"inside\", \"inspector\", \"inspector\", \"inspector\", \"inspector\", \"inspector\", \"inspector\", \"inspector\", \"inspector\", \"inspector\", \"inspector\", \"instant\", \"instant\", \"instant\", \"instant\", \"instant\", \"instant\", \"instant\", \"instant\", \"instant\", \"instant\", \"intercepted\", \"interest\", \"interest\", \"interest\", \"interest\", \"interest\", \"interest\", \"interest\", \"interest\", \"interest\", \"interest\", \"intrusions\", \"investigate\", \"isa\", \"jack\", \"jack\", \"jack\", \"jack\", \"jack\", \"jack\", \"james\", \"james\", \"james\", \"james\", \"james\", \"james\", \"james\", \"james\", \"james\", \"jane\", \"jobs\", \"johann\", \"jonathan\", \"jonathan\", \"jules\", \"justifiable\", \"kate\", \"keeper\", \"keeper\", \"keeper\", \"key\", \"key\", \"key\", \"key\", \"key\", \"key\", \"key\", \"key\", \"khan\", \"killer\", \"killer\", \"killing\", \"killing\", \"kind\", \"kind\", \"kind\", \"kind\", \"kind\", \"kind\", \"kind\", \"kind\", \"kind\", \"knew\", \"knew\", \"knew\", \"knew\", \"knew\", \"knew\", \"knew\", \"knew\", \"knew\", \"knew\", \"knife\", \"knife\", \"knife\", \"knife\", \"knife\", \"knife\", \"knife\", \"ladder\", \"lady\", \"lady\", \"lady\", \"lady\", \"lady\", \"lady\", \"lady\", \"lady\", \"lady\", \"lady\", \"lamp\", \"lamp\", \"lamp\", \"lamp\", \"lamp\", \"lamp\", \"lamp\", \"lamp\", \"lash\", \"lashed\", \"lashed\", \"latin\", \"latin\", \"launch\", \"launch\", \"launch\", \"laura\", \"laurels\", \"law\", \"law\", \"law\", \"law\", \"law\", \"law\", \"law\", \"law\", \"law\", \"law\", \"lay\", \"lay\", \"lay\", \"lay\", \"lay\", \"lay\", \"lay\", \"lay\", \"lay\", \"lay\", \"leash\", \"leave\", \"leave\", \"leave\", \"leave\", \"leave\", \"leave\", \"leave\", \"leave\", \"leave\", \"led\", \"led\", \"led\", \"led\", \"led\", \"led\", \"led\", \"led\", \"led\", \"left\", \"left\", \"left\", \"left\", \"left\", \"left\", \"left\", \"left\", \"left\", \"left\", \"legal\", \"legal\", \"legal\", \"legal\", \"legal\", \"legend\", \"leonardo\", \"life\", \"life\", \"life\", \"life\", \"life\", \"life\", \"life\", \"life\", \"life\", \"life\", \"light\", \"light\", \"light\", \"light\", \"light\", \"light\", \"light\", \"light\", \"light\", \"light\", \"lightened\", \"lighting\", \"lighting\", \"lighting\", \"lighting\", \"lighting\", \"limited\", \"limited\", \"limited\", \"limited\", \"limited\", \"lion\", \"lion\", \"lion\", \"lion\", \"lion\", \"lists\", \"lock\", \"lock\", \"lock\", \"lock\", \"lock\", \"locket\", \"lodge\", \"lodge\", \"lodge\", \"lodge\", \"lodge\", \"lodge\", \"lodge\", \"lodge\", \"lodge\", \"lodge\", \"lodgers\", \"london\", \"london\", \"london\", \"london\", \"london\", \"london\", \"london\", \"london\", \"london\", \"london\", \"longing\", \"looked\", \"looked\", \"looked\", \"looked\", \"looked\", \"looked\", \"looked\", \"looked\", \"looked\", \"looked\", \"loot\", \"lord\", \"lord\", \"lord\", \"lord\", \"lord\", \"lord\", \"lord\", \"lord\", \"lordship\", \"lost\", \"lost\", \"lost\", \"lost\", \"lost\", \"lost\", \"lost\", \"lost\", \"lost\", \"lost\", \"loungers\", \"love\", \"love\", \"love\", \"love\", \"love\", \"love\", \"love\", \"love\", \"love\", \"love\", \"lurid\", \"mackleton\", \"magnum\", \"mahomet\", \"majestic\", \"majesty\", \"majesty\", \"majesty\", \"mall\", \"mall\", \"mall\", \"mantelpiece\", \"mantelpiece\", \"mantelpiece\", \"mantelpiece\", \"mantelpiece\", \"mark\", \"mark\", \"mark\", \"mark\", \"mark\", \"mark\", \"mark\", \"mark\", \"martha\", \"marx\", \"mason\", \"mason\", \"mason\", \"matter\", \"matter\", \"matter\", \"matter\", \"matter\", \"matter\", \"matter\", \"matter\", \"matter\", \"matter\", \"matters\", \"matters\", \"matters\", \"matters\", \"matters\", \"matters\", \"matters\", \"matters\", \"matters\", \"matting\", \"matting\", \"matting\", \"mccarthy\", \"mccarthy\", \"mccarthy\", \"mccarthy\", \"mccarthy\", \"mccarthy\", \"mcginty\", \"mcginty\", \"mcginty\", \"mcginty\", \"mcginty\", \"mcginty\", \"mcmurdo\", \"mcmurdo\", \"mcmurdo\", \"mcmurdo\", \"mcmurdo\", \"mcmurdo\", \"mcmurdo\", \"mcmurdo\", \"meditation\", \"medium\", \"medium\", \"merchantablity\", \"midland\", \"midland\", \"millions\", \"millions\", \"millions\", \"mind\", \"mind\", \"mind\", \"mind\", \"mind\", \"mind\", \"mind\", \"mind\", \"mind\", \"mind\", \"minutes\", \"minutes\", \"minutes\", \"minutes\", \"minutes\", \"minutes\", \"minutes\", \"minutes\", \"mire\", \"mire\", \"mire\", \"misery\", \"misery\", \"misery\", \"misgivings\", \"miss\", \"miss\", \"miss\", \"miss\", \"miss\", \"miss\", \"miss\", \"miss\", \"miss\", \"miss\", \"mitton\", \"mitton\", \"moonlight\", \"moonlight\", \"moor\", \"moor\", \"moor\", \"moor\", \"moor\", \"moor\", \"moor\", \"mordecai\", \"moriarty\", \"moriarty\", \"moriarty\", \"moriarty\", \"moriarty\", \"moriarty\", \"moriarty\", \"morning\", \"morning\", \"morning\", \"morning\", \"morning\", \"morning\", \"morning\", \"morning\", \"morning\", \"morning\", \"morris\", \"morris\", \"morris\", \"morris\", \"morrow\", \"morrow\", \"morrow\", \"morrow\", \"morrow\", \"morrow\", \"morrow\", \"morrow\", \"morrow\", \"morse\", \"morse\", \"mortimer\", \"mortimer\", \"mortimer\", \"mortimer\", \"mortimer\", \"mortimer\", \"moser\", \"moulton\", \"mrs\", \"mrs\", \"mrs\", \"mrs\", \"mrs\", \"mrs\", \"mrs\", \"mrs\", \"mrs\", \"musician\", \"napoleons\", \"narrowed\", \"naturally\", \"naturally\", \"naturally\", \"naturally\", \"naturally\", \"naturally\", \"naturally\", \"neatly\", \"neatly\", \"neatly\", \"neglect\", \"neglect\", \"neglect\", \"neligan\", \"neligan\", \"night\", \"night\", \"night\", \"night\", \"night\", \"night\", \"night\", \"night\", \"night\", \"night\", \"nose\", \"nose\", \"nose\", \"nose\", \"nose\", \"nose\", \"nose\", \"note\", \"note\", \"note\", \"note\", \"note\", \"note\", \"note\", \"note\", \"notices\", \"nucleus\", \"nugget\", \"oath\", \"oath\", \"oath\", \"obtained\", \"obtained\", \"obtained\", \"obtained\", \"obtained\", \"offend\", \"offend\", \"offer\", \"offer\", \"offer\", \"offer\", \"offer\", \"offer\", \"oldest\", \"oldest\", \"open\", \"open\", \"open\", \"open\", \"open\", \"open\", \"open\", \"open\", \"open\", \"open\", \"opened\", \"opened\", \"opened\", \"opened\", \"opened\", \"opened\", \"opened\", \"opened\", \"opus\", \"ore\", \"organisation\", \"original\", \"original\", \"original\", \"original\", \"original\", \"original\", \"original\", \"original\", \"originals\", \"pair\", \"pair\", \"pair\", \"pair\", \"pair\", \"pair\", \"paler\", \"pall\", \"pall\", \"pall\", \"paper\", \"paper\", \"paper\", \"paper\", \"paper\", \"paper\", \"paper\", \"paper\", \"paper\", \"paper\", \"papers\", \"papers\", \"papers\", \"papers\", \"papers\", \"papers\", \"papers\", \"papers\", \"papers\", \"papers\", \"pardon\", \"pardon\", \"particular\", \"particular\", \"particular\", \"particular\", \"particular\", \"particular\", \"particular\", \"particular\", \"particular\", \"particular\", \"passed\", \"passed\", \"passed\", \"passed\", \"passed\", \"passed\", \"passed\", \"passed\", \"passed\", \"passed\", \"pathetic\", \"patience\", \"patience\", \"patience\", \"patience\", \"patience\", \"pavement\", \"pavement\", \"pavement\", \"pavement\", \"pavement\", \"pavement\", \"pea\", \"pearl\", \"pearl\", \"peasants\", \"pebble\", \"penge\", \"pennies\", \"perch\", \"pericolo\", \"periods\", \"persia\", \"pew\", \"pheasant\", \"pheasant\", \"pheasant\", \"pheasant\", \"phelps\", \"phelps\", \"phelps\", \"phelps\", \"physical\", \"physical\", \"physical\", \"physical\", \"physical\", \"physical\", \"pillar\", \"pinkerton\", \"pinkerton\", \"pinkerton\", \"pipe\", \"pipe\", \"pipe\", \"pipe\", \"pipe\", \"pipe\", \"pipe\", \"pipe\", \"pistol\", \"pistol\", \"pistol\", \"pistol\", \"pistol\", \"place\", \"place\", \"place\", \"place\", \"place\", \"place\", \"place\", \"place\", \"place\", \"place\", \"plaster\", \"plaster\", \"plaster\", \"plaster\", \"plaster\", \"plaster\", \"pledged\", \"plied\", \"point\", \"point\", \"point\", \"point\", \"point\", \"point\", \"point\", \"point\", \"point\", \"point\", \"police\", \"police\", \"police\", \"police\", \"police\", \"police\", \"police\", \"police\", \"police\", \"policemen\", \"policemen\", \"policemen\", \"pool\", \"pool\", \"pool\", \"pool\", \"pool\", \"poor\", \"poor\", \"poor\", \"poor\", \"poor\", \"poor\", \"poor\", \"poor\", \"poor\", \"poor\", \"porlock\", \"porlock\", \"portly\", \"pose\", \"pose\", \"pose\", \"possible\", \"possible\", \"possible\", \"possible\", \"possible\", \"possible\", \"possible\", \"possible\", \"possible\", \"possible\", \"postmaster\", \"practical\", \"practical\", \"practical\", \"practical\", \"practical\", \"practical\", \"practical\", \"present\", \"present\", \"present\", \"present\", \"present\", \"present\", \"present\", \"present\", \"present\", \"present\", \"prolonged\", \"proposition\", \"proposition\", \"provided\", \"provided\", \"prussian\", \"pulled\", \"pulled\", \"pulled\", \"pulled\", \"pulled\", \"pulled\", \"pupils\", \"purpose\", \"purpose\", \"purpose\", \"purpose\", \"purpose\", \"purpose\", \"purposes\", \"purposes\", \"purposes\", \"purposes\", \"put\", \"put\", \"put\", \"put\", \"put\", \"put\", \"put\", \"put\", \"put\", \"put\", \"putty\", \"queer\", \"queer\", \"queer\", \"queer\", \"queer\", \"queer\", \"queerest\", \"queerest\", \"rail\", \"raised\", \"raised\", \"raised\", \"raised\", \"raised\", \"raised\", \"raised\", \"raised\", \"rajah\", \"rallied\", \"ralph\", \"ralph\", \"ralph\", \"ran\", \"ran\", \"ran\", \"ran\", \"ran\", \"ran\", \"ran\", \"ran\", \"ran\", \"ray\", \"read\", \"read\", \"read\", \"read\", \"read\", \"read\", \"read\", \"read\", \"read\", \"read\", \"reader\", \"reader\", \"reason\", \"reason\", \"reason\", \"reason\", \"reason\", \"reason\", \"reason\", \"reason\", \"reason\", \"reason\", \"reckoned\", \"recounted\", \"recover\", \"recover\", \"recover\", \"recover\", \"red\", \"red\", \"red\", \"red\", \"red\", \"red\", \"red\", \"red\", \"red\", \"red\", \"referring\", \"regarded\", \"regarded\", \"regiment\", \"regiment\", \"regiment\", \"registered\", \"registered\", \"registration\", \"remarkable\", \"remarkable\", \"remarkable\", \"remarkable\", \"remarkable\", \"remarkable\", \"remarkable\", \"remarkable\", \"remarkable\", \"remarkable\", \"reparation\", \"response\", \"rests\", \"reuben\", \"reverse\", \"rider\", \"rider\", \"rider\", \"ridge\", \"ridge\", \"rises\", \"road\", \"road\", \"road\", \"road\", \"road\", \"road\", \"road\", \"road\", \"road\", \"robber\", \"rolls\", \"ronald\", \"ronder\", \"ronder\", \"room\", \"room\", \"room\", \"room\", \"room\", \"room\", \"room\", \"room\", \"room\", \"room\", \"ross\", \"ross\", \"ross\", \"ross\", \"ross\", \"ross\", \"ross\", \"ross\", \"round\", \"round\", \"round\", \"round\", \"round\", \"round\", \"round\", \"round\", \"round\", \"round\", \"roundhay\", \"rucastles\", \"rushed\", \"rushed\", \"rushed\", \"rushed\", \"rushed\", \"rushed\", \"rushed\", \"rushed\", \"rushed\", \"rushing\", \"rushing\", \"rushing\", \"sahib\", \"sales\", \"saloon\", \"saloon\", \"saloon\", \"saloon\", \"sat\", \"sat\", \"sat\", \"sat\", \"sat\", \"sat\", \"sat\", \"sat\", \"sat\", \"sat\", \"sawed\", \"scanlan\", \"scanlan\", \"scanlan\", \"scanlan\", \"scraping\", \"scraps\", \"secrecy\", \"secrecy\", \"secrecy\", \"secrecy\", \"secrecy\", \"secrecy\", \"securities\", \"securities\", \"securities\", \"securities\", \"sergeant\", \"sergeant\", \"sergeant\", \"sergeant\", \"sergeant\", \"sergeant\", \"sheer\", \"sheer\", \"sheer\", \"sheer\", \"sheet\", \"sheet\", \"sheet\", \"sheet\", \"sheet\", \"sheet\", \"sheet\", \"sherlock\", \"sherlock\", \"sherlock\", \"sherlock\", \"sherlock\", \"sherlock\", \"sherlock\", \"sherlock\", \"sherlock\", \"sherlock\", \"shilling\", \"shilling\", \"sholto\", \"sholto\", \"sholto\", \"sholto\", \"shook\", \"shook\", \"shook\", \"shook\", \"shook\", \"shook\", \"shook\", \"shotgun\", \"shotgun\", \"show\", \"show\", \"show\", \"show\", \"show\", \"show\", \"show\", \"show\", \"show\", \"show\", \"side\", \"side\", \"side\", \"side\", \"side\", \"side\", \"side\", \"side\", \"side\", \"side\", \"sikhs\", \"silence\", \"silence\", \"silence\", \"silence\", \"silence\", \"silence\", \"silence\", \"silence\", \"silence\", \"silver\", \"silver\", \"silver\", \"silver\", \"silver\", \"silver\", \"silver\", \"simon\", \"simon\", \"simon\", \"simon\", \"singh\", \"sings\", \"singular\", \"singular\", \"singular\", \"singular\", \"singular\", \"singular\", \"singular\", \"singular\", \"singular\", \"sister\", \"sister\", \"sister\", \"sister\", \"sister\", \"sister\", \"sister\", \"sister\", \"sister\", \"sister\", \"sketches\", \"skipper\", \"skirts\", \"slept\", \"slept\", \"slept\", \"slept\", \"slits\", \"slung\", \"slunk\", \"smith\", \"smith\", \"smith\", \"smith\", \"smith\", \"smith\", \"smith\", \"smooth\", \"smooth\", \"smooth\", \"sniffing\", \"snips\", \"sodden\", \"sombre\", \"sombre\", \"sombre\", \"sombre\", \"sombre\", \"southsea\", \"spaniard\", \"spaulding\", \"spaulding\", \"spoke\", \"spoke\", \"spoke\", \"spoke\", \"spoke\", \"spoke\", \"spoke\", \"spoke\", \"spoke\", \"spontaneous\", \"sprang\", \"sprang\", \"sprang\", \"sprang\", \"sprang\", \"sprang\", \"sprang\", \"sprang\", \"sprang\", \"spray\", \"sprightly\", \"st\", \"st\", \"st\", \"st\", \"st\", \"st\", \"st\", \"stains\", \"stains\", \"stains\", \"stains\", \"stains\", \"stains\", \"stand\", \"stand\", \"stand\", \"stand\", \"stand\", \"stand\", \"stand\", \"stand\", \"stand\", \"stand\", \"standing\", \"standing\", \"standing\", \"standing\", \"standing\", \"standing\", \"standing\", \"standing\", \"standing\", \"stapleton\", \"stapleton\", \"stapleton\", \"stapleton\", \"stapleton\", \"stapletons\", \"stapletons\", \"staunton\", \"staunton\", \"staunton\", \"staunton\", \"stealthily\", \"step\", \"step\", \"step\", \"step\", \"step\", \"step\", \"step\", \"step\", \"step\", \"step\", \"stepped\", \"stepped\", \"stepped\", \"stepped\", \"stepped\", \"steps\", \"steps\", \"steps\", \"steps\", \"steps\", \"steps\", \"steps\", \"steps\", \"stoke\", \"stoner\", \"stoner\", \"stoner\", \"stoner\", \"stood\", \"stood\", \"stood\", \"stood\", \"stood\", \"stood\", \"stood\", \"stood\", \"stood\", \"street\", \"street\", \"street\", \"street\", \"street\", \"street\", \"street\", \"street\", \"street\", \"string\", \"string\", \"string\", \"string\", \"string\", \"stub\", \"suavely\", \"suddenly\", \"suddenly\", \"suddenly\", \"suddenly\", \"suddenly\", \"suddenly\", \"suddenly\", \"suddenly\", \"suddenly\", \"suddenly\", \"surmounted\", \"swan\", \"sweating\", \"swirled\", \"symbols\", \"table\", \"table\", \"table\", \"table\", \"table\", \"table\", \"table\", \"table\", \"table\", \"taking\", \"taking\", \"taking\", \"taking\", \"taking\", \"taking\", \"taking\", \"taking\", \"taking\", \"taking\", \"talker\", \"tallow\", \"taught\", \"teddy\", \"telegram\", \"telegram\", \"telegram\", \"telegram\", \"telegram\", \"telegram\", \"telegram\", \"telegram\", \"telegram\", \"telegram\", \"tendencies\", \"tennis\", \"text\", \"thaddeus\", \"thaddeus\", \"thaddeus\", \"thermometer\", \"things\", \"things\", \"things\", \"things\", \"things\", \"things\", \"things\", \"things\", \"things\", \"things\", \"thoughtful\", \"thoughtful\", \"thoughtful\", \"thoughtful\", \"thoughtful\", \"time\", \"time\", \"time\", \"time\", \"time\", \"time\", \"time\", \"time\", \"time\", \"time\", \"tiptoes\", \"told\", \"told\", \"told\", \"told\", \"told\", \"told\", \"told\", \"told\", \"told\", \"told\", \"tolerably\", \"tonga\", \"tooth\", \"torn\", \"torn\", \"torn\", \"torn\", \"torn\", \"town\", \"town\", \"town\", \"town\", \"town\", \"town\", \"town\", \"town\", \"town\", \"tracey\", \"track\", \"track\", \"track\", \"track\", \"track\", \"track\", \"track\", \"track\", \"track\", \"track\", \"tramp\", \"treasure\", \"treasure\", \"treasure\", \"treasure\", \"treasure\", \"treasure\", \"treasure\", \"treasure\", \"tredannick\", \"tredannick\", \"trevelyan\", \"trevelyan\", \"trust\", \"trust\", \"trust\", \"trust\", \"trust\", \"trust\", \"trust\", \"trust\", \"trust\", \"turned\", \"turned\", \"turned\", \"turned\", \"turned\", \"turned\", \"turned\", \"turned\", \"turned\", \"turner\", \"turner\", \"turner\", \"tying\", \"understand\", \"understand\", \"understand\", \"understand\", \"understand\", \"understand\", \"understand\", \"understand\", \"understand\", \"understand\", \"unfolding\", \"uniformed\", \"unresponsive\", \"unwieldy\", \"upstairs\", \"upstairs\", \"upstairs\", \"upstairs\", \"upstairs\", \"upstairs\", \"variants\", \"vat\", \"vibart\", \"visit\", \"visit\", \"visit\", \"visit\", \"visit\", \"visit\", \"visit\", \"visit\", \"visit\", \"visit\", \"vox\", \"wages\", \"wages\", \"walk\", \"walk\", \"walk\", \"walk\", \"walk\", \"walk\", \"walk\", \"wallington\", \"warranties\", \"warranty\", \"wartha\", \"watches\", \"watson\", \"watson\", \"watson\", \"watson\", \"watson\", \"watson\", \"watson\", \"watson\", \"watson\", \"watson\", \"wearer\", \"wessex\", \"wessex\", \"westaway\", \"wet\", \"wet\", \"wet\", \"wet\", \"whilst\", \"whisk\", \"whispered\", \"whispered\", \"whispered\", \"whispered\", \"whispered\", \"whispered\", \"white\", \"white\", \"white\", \"white\", \"white\", \"white\", \"white\", \"white\", \"white\", \"white\", \"whitney\", \"whitney\", \"wider\", \"wider\", \"widower\", \"wife\", \"wife\", \"wife\", \"wife\", \"wife\", \"wife\", \"wife\", \"wife\", \"wife\", \"wife\", \"window\", \"window\", \"window\", \"window\", \"window\", \"window\", \"window\", \"window\", \"window\", \"window\", \"withdraw\", \"withdraw\", \"witness\", \"witness\", \"witness\", \"witness\", \"witness\", \"witness\", \"woman\", \"woman\", \"woman\", \"woman\", \"woman\", \"woman\", \"woman\", \"woman\", \"woman\", \"woman\", \"word\", \"word\", \"word\", \"word\", \"word\", \"word\", \"word\", \"word\", \"word\", \"word\", \"work\", \"work\", \"work\", \"work\", \"work\", \"work\", \"work\", \"work\", \"work\", \"work\", \"wrestling\", \"writes\", \"writing\", \"writing\", \"writing\", \"writing\", \"writing\", \"writing\", \"writing\", \"writing\", \"writing\", \"wronged\", \"wronged\", \"wronged\", \"year\", \"year\", \"year\", \"year\", \"year\", \"year\", \"year\", \"year\", \"year\", \"year\", \"yearned\", \"years\", \"years\", \"years\", \"years\", \"years\", \"years\", \"years\", \"years\", \"years\", \"years\", \"yew\", \"yew\", \"york\", \"york\", \"york\", \"york\", \"young\", \"young\", \"young\", \"young\", \"young\", \"young\", \"young\", \"young\", \"young\", \"young\", \"zamba\"]}, \"R\": 30, \"lambda.step\": 0.01, \"plot.opts\": {\"xlab\": \"PC1\", \"ylab\": \"PC2\"}, \"topic.order\": [5, 4, 1, 10, 2, 6, 9, 8, 7, 3]};\n",
              "\n",
              "function LDAvis_load_lib(url, callback){\n",
              "  var s = document.createElement('script');\n",
              "  s.src = url;\n",
              "  s.async = true;\n",
              "  s.onreadystatechange = s.onload = callback;\n",
              "  s.onerror = function(){console.warn(\"failed to load library \" + url);};\n",
              "  document.getElementsByTagName(\"head\")[0].appendChild(s);\n",
              "}\n",
              "\n",
              "if(typeof(LDAvis) !== \"undefined\"){\n",
              "   // already loaded: just create the visualization\n",
              "   !function(LDAvis){\n",
              "       new LDAvis(\"#\" + \"ldavis_el406971401827975250563964944144\", ldavis_el406971401827975250563964944144_data);\n",
              "   }(LDAvis);\n",
              "}else if(typeof define === \"function\" && define.amd){\n",
              "   // require.js is available: use it to load d3/LDAvis\n",
              "   require.config({paths: {d3: \"https://d3js.org/d3.v5\"}});\n",
              "   require([\"d3\"], function(d3){\n",
              "      window.d3 = d3;\n",
              "      LDAvis_load_lib(\"https://cdn.jsdelivr.net/gh/bmabey/pyLDAvis@3.3.1/pyLDAvis/js/ldavis.v3.0.0.js\", function(){\n",
              "        new LDAvis(\"#\" + \"ldavis_el406971401827975250563964944144\", ldavis_el406971401827975250563964944144_data);\n",
              "      });\n",
              "    });\n",
              "}else{\n",
              "    // require.js not available: dynamically load d3 & LDAvis\n",
              "    LDAvis_load_lib(\"https://d3js.org/d3.v5.js\", function(){\n",
              "         LDAvis_load_lib(\"https://cdn.jsdelivr.net/gh/bmabey/pyLDAvis@3.3.1/pyLDAvis/js/ldavis.v3.0.0.js\", function(){\n",
              "                 new LDAvis(\"#\" + \"ldavis_el406971401827975250563964944144\", ldavis_el406971401827975250563964944144_data);\n",
              "            })\n",
              "         });\n",
              "}\n",
              "</script>"
            ]
          },
          "metadata": {},
          "execution_count": 150
        }
      ]
    },
    {
      "cell_type": "markdown",
      "source": [
        "From the above visualization we can make the conclusion that most of the topics refear to `Holmes` because the word Holmes appeared on top of the most relevant terms of each topic excepted for the topic number `4` which have, as the most relevant term, the word `case` and the topic number `9` which refears mostly to `Watson` than Holmes."
      ],
      "metadata": {
        "id": "ph0ngkw-mg6V"
      }
    },
    {
      "cell_type": "markdown",
      "source": [
        "##### Finding Similar Paragraphs using Word2Vec"
      ],
      "metadata": {
        "id": "DAqZyhQUw6LI"
      }
    },
    {
      "cell_type": "markdown",
      "source": [
        "Let's include some `deep learning` staffs 👌!. The purpose is to search for paragraphs that have similar text or writing style."
      ],
      "metadata": {
        "id": "J_2he4HaxLca"
      }
    },
    {
      "cell_type": "markdown",
      "source": [
        "Let's use the `Word2Vec` model using the `gensim` package. The gensim model seems to not work correctly in this environment so let's use `spacy`."
      ],
      "metadata": {
        "id": "tpXjxbsNxhlN"
      }
    },
    {
      "cell_type": "code",
      "source": [
        "# import gensim\n",
        "\n",
        "# use sherlock's stories\n",
        "txt = urllib.request.urlopen(\"https://sherlock-holm.es/stories/plain-text/cnus.txt\").read()\n",
        "\n",
        "# decode the text to utf8\n",
        "txt = txt.decode('utf8')\n",
        "\n"
      ],
      "metadata": {
        "id": "f9NrMhWSw_zI"
      },
      "execution_count": 151,
      "outputs": []
    },
    {
      "cell_type": "code",
      "source": [
        "# create the natural language processing model\n",
        "nlp = spacy.load(\"en_core_web_md\", exclude=['ner'])"
      ],
      "metadata": {
        "id": "MeZ-mCfd9pRZ"
      },
      "execution_count": 152,
      "outputs": []
    },
    {
      "cell_type": "code",
      "source": [
        "nlp.max_length"
      ],
      "metadata": {
        "colab": {
          "base_uri": "https://localhost:8080/"
        },
        "id": "at5RsUlAPvC6",
        "outputId": "07e28f8f-4fd8-4f13-ffc7-7dfaa1335124"
      },
      "execution_count": 160,
      "outputs": [
        {
          "output_type": "execute_result",
          "data": {
            "text/plain": [
              "1000000"
            ]
          },
          "metadata": {},
          "execution_count": 160
        }
      ]
    },
    {
      "cell_type": "code",
      "source": [
        "nlp.tokenizer.token_match = re.compile(r\"^(\\w+)$\").match # add a new regex matcher"
      ],
      "metadata": {
        "id": "4I-jQjbz-KFa"
      },
      "execution_count": 161,
      "outputs": []
    },
    {
      "cell_type": "code",
      "source": [
        "def get_tokenized_sentences(txt: str):\n",
        "\n",
        "  # use spacy to recuperate the tokens\n",
        "  sentences = nltk.sent_tokenize(txt)\n",
        "\n",
        "  for sent in nlp.pipe(sentences):\n",
        "\n",
        "    yield [t.text for t in sent]"
      ],
      "metadata": {
        "id": "_7FxsEWkzDtz"
      },
      "execution_count": 162,
      "outputs": []
    },
    {
      "cell_type": "code",
      "source": [
        "# sents = list(get_tokenized_sentences(txt))"
      ],
      "metadata": {
        "id": "uPXU2UuM0mVG"
      },
      "execution_count": 163,
      "outputs": []
    },
    {
      "cell_type": "markdown",
      "source": [
        "We want to get similarities between some words of the text. Let's transform the text to a spacy doc object. We want to use only a part of the text because it is very large. Say lower than 1000000 first letters (max length of nlp)."
      ],
      "metadata": {
        "id": "vZaFIaKuXZVP"
      }
    },
    {
      "cell_type": "code",
      "source": [
        "len(txt)"
      ],
      "metadata": {
        "colab": {
          "base_uri": "https://localhost:8080/"
        },
        "id": "yLbX7KR3QQO9",
        "outputId": "fd0561b9-533c-4006-94c0-8bb88573b5a3"
      },
      "execution_count": 164,
      "outputs": [
        {
          "output_type": "execute_result",
          "data": {
            "text/plain": [
              "3381928"
            ]
          },
          "metadata": {},
          "execution_count": 164
        }
      ]
    },
    {
      "cell_type": "code",
      "source": [
        "doc = nlp(txt[:500000].lower()) # convert to lowercase because creating the doc object"
      ],
      "metadata": {
        "id": "fm5_MyU9WxRv"
      },
      "execution_count": 168,
      "outputs": []
    },
    {
      "cell_type": "markdown",
      "source": [
        "Let's get the 30 most similar words of \"watson\" and \"holmes\"."
      ],
      "metadata": {
        "id": "k3NcNrrTQgPh"
      }
    },
    {
      "cell_type": "code",
      "source": [
        "word1 = \"watson\"\n",
        "word2 = \"holmes\""
      ],
      "metadata": {
        "id": "pybBOIy7RTs1"
      },
      "execution_count": 169,
      "outputs": []
    },
    {
      "cell_type": "code",
      "source": [
        "import numpy as np"
      ],
      "metadata": {
        "id": "ghKklo3vTO4a"
      },
      "execution_count": 177,
      "outputs": []
    },
    {
      "cell_type": "code",
      "source": [
        "\n",
        "# let's create a function for getting the most similar words of a given word\n",
        "def get_most_similar(doc, word: str, n: int = 30):\n",
        "\n",
        "  # vectorize vocab to recuperate most similar words with distance matching\n",
        "  ms = doc.vocab.vectors.most_similar(\n",
        "      np.asarray([doc.vocab.vectors[doc.vocab.strings[word]]]), n = n\n",
        "      )\n",
        "  # recuperate words\n",
        "  words = [doc.vocab.strings[w] for w in ms[0][0]]\n",
        "  \n",
        "  # return results as DataFrame\n",
        "  return pd.DataFrame({\"words\": words, \"distances\": ms[2][0]})"
      ],
      "metadata": {
        "id": "-hCoUzH6SxTI"
      },
      "execution_count": 191,
      "outputs": []
    },
    {
      "cell_type": "code",
      "source": [
        "get_most_similar(doc, word1)"
      ],
      "metadata": {
        "colab": {
          "base_uri": "https://localhost:8080/",
          "height": 990
        },
        "id": "8c7S8Lzan6UF",
        "outputId": "dd33e078-cf75-4195-fb9e-ff93133121bd"
      },
      "execution_count": 192,
      "outputs": [
        {
          "output_type": "execute_result",
          "data": {
            "text/plain": [
              "           words  distances\n",
              "0   Mimblewimble     1.0000\n",
              "1         Renson     0.8140\n",
              "2        Latshaw     0.8068\n",
              "3    Armathwaite     0.8068\n",
              "4        Poneman     0.8062\n",
              "5     Kerhonkson     0.7938\n",
              "6       Wallidan     0.7914\n",
              "7          Davik     0.7902\n",
              "8            LZ4     0.7874\n",
              "9         Macker     0.7843\n",
              "10      Thomsett     0.7805\n",
              "11        Frolik     0.7760\n",
              "12       Haveman     0.7742\n",
              "13     Nankivell     0.7698\n",
              "14       McMakin     0.7697\n",
              "15          UUVs     0.7696\n",
              "16       Smithey     0.7696\n",
              "17        Pebley     0.7693\n",
              "18       Densley     0.7676\n",
              "19      Wackford     0.7620\n",
              "20     Willstrop     0.7619\n",
              "21      Ardrahan     0.7610\n",
              "22     Farandole     0.7610\n",
              "23        Bissix     0.7595\n",
              "24        Heslep     0.7558\n",
              "25       Newhook     0.7542\n",
              "26       Hughesy     0.7529\n",
              "27       Caldron     0.7516\n",
              "28        Hendin     0.7514\n",
              "29    Blackmoore     0.7508"
            ],
            "text/html": [
              "\n",
              "  <div id=\"df-6b64445e-8bb9-4c47-9802-bd11d949b33a\">\n",
              "    <div class=\"colab-df-container\">\n",
              "      <div>\n",
              "<style scoped>\n",
              "    .dataframe tbody tr th:only-of-type {\n",
              "        vertical-align: middle;\n",
              "    }\n",
              "\n",
              "    .dataframe tbody tr th {\n",
              "        vertical-align: top;\n",
              "    }\n",
              "\n",
              "    .dataframe thead th {\n",
              "        text-align: right;\n",
              "    }\n",
              "</style>\n",
              "<table border=\"1\" class=\"dataframe\">\n",
              "  <thead>\n",
              "    <tr style=\"text-align: right;\">\n",
              "      <th></th>\n",
              "      <th>words</th>\n",
              "      <th>distances</th>\n",
              "    </tr>\n",
              "  </thead>\n",
              "  <tbody>\n",
              "    <tr>\n",
              "      <th>0</th>\n",
              "      <td>Mimblewimble</td>\n",
              "      <td>1.0000</td>\n",
              "    </tr>\n",
              "    <tr>\n",
              "      <th>1</th>\n",
              "      <td>Renson</td>\n",
              "      <td>0.8140</td>\n",
              "    </tr>\n",
              "    <tr>\n",
              "      <th>2</th>\n",
              "      <td>Latshaw</td>\n",
              "      <td>0.8068</td>\n",
              "    </tr>\n",
              "    <tr>\n",
              "      <th>3</th>\n",
              "      <td>Armathwaite</td>\n",
              "      <td>0.8068</td>\n",
              "    </tr>\n",
              "    <tr>\n",
              "      <th>4</th>\n",
              "      <td>Poneman</td>\n",
              "      <td>0.8062</td>\n",
              "    </tr>\n",
              "    <tr>\n",
              "      <th>5</th>\n",
              "      <td>Kerhonkson</td>\n",
              "      <td>0.7938</td>\n",
              "    </tr>\n",
              "    <tr>\n",
              "      <th>6</th>\n",
              "      <td>Wallidan</td>\n",
              "      <td>0.7914</td>\n",
              "    </tr>\n",
              "    <tr>\n",
              "      <th>7</th>\n",
              "      <td>Davik</td>\n",
              "      <td>0.7902</td>\n",
              "    </tr>\n",
              "    <tr>\n",
              "      <th>8</th>\n",
              "      <td>LZ4</td>\n",
              "      <td>0.7874</td>\n",
              "    </tr>\n",
              "    <tr>\n",
              "      <th>9</th>\n",
              "      <td>Macker</td>\n",
              "      <td>0.7843</td>\n",
              "    </tr>\n",
              "    <tr>\n",
              "      <th>10</th>\n",
              "      <td>Thomsett</td>\n",
              "      <td>0.7805</td>\n",
              "    </tr>\n",
              "    <tr>\n",
              "      <th>11</th>\n",
              "      <td>Frolik</td>\n",
              "      <td>0.7760</td>\n",
              "    </tr>\n",
              "    <tr>\n",
              "      <th>12</th>\n",
              "      <td>Haveman</td>\n",
              "      <td>0.7742</td>\n",
              "    </tr>\n",
              "    <tr>\n",
              "      <th>13</th>\n",
              "      <td>Nankivell</td>\n",
              "      <td>0.7698</td>\n",
              "    </tr>\n",
              "    <tr>\n",
              "      <th>14</th>\n",
              "      <td>McMakin</td>\n",
              "      <td>0.7697</td>\n",
              "    </tr>\n",
              "    <tr>\n",
              "      <th>15</th>\n",
              "      <td>UUVs</td>\n",
              "      <td>0.7696</td>\n",
              "    </tr>\n",
              "    <tr>\n",
              "      <th>16</th>\n",
              "      <td>Smithey</td>\n",
              "      <td>0.7696</td>\n",
              "    </tr>\n",
              "    <tr>\n",
              "      <th>17</th>\n",
              "      <td>Pebley</td>\n",
              "      <td>0.7693</td>\n",
              "    </tr>\n",
              "    <tr>\n",
              "      <th>18</th>\n",
              "      <td>Densley</td>\n",
              "      <td>0.7676</td>\n",
              "    </tr>\n",
              "    <tr>\n",
              "      <th>19</th>\n",
              "      <td>Wackford</td>\n",
              "      <td>0.7620</td>\n",
              "    </tr>\n",
              "    <tr>\n",
              "      <th>20</th>\n",
              "      <td>Willstrop</td>\n",
              "      <td>0.7619</td>\n",
              "    </tr>\n",
              "    <tr>\n",
              "      <th>21</th>\n",
              "      <td>Ardrahan</td>\n",
              "      <td>0.7610</td>\n",
              "    </tr>\n",
              "    <tr>\n",
              "      <th>22</th>\n",
              "      <td>Farandole</td>\n",
              "      <td>0.7610</td>\n",
              "    </tr>\n",
              "    <tr>\n",
              "      <th>23</th>\n",
              "      <td>Bissix</td>\n",
              "      <td>0.7595</td>\n",
              "    </tr>\n",
              "    <tr>\n",
              "      <th>24</th>\n",
              "      <td>Heslep</td>\n",
              "      <td>0.7558</td>\n",
              "    </tr>\n",
              "    <tr>\n",
              "      <th>25</th>\n",
              "      <td>Newhook</td>\n",
              "      <td>0.7542</td>\n",
              "    </tr>\n",
              "    <tr>\n",
              "      <th>26</th>\n",
              "      <td>Hughesy</td>\n",
              "      <td>0.7529</td>\n",
              "    </tr>\n",
              "    <tr>\n",
              "      <th>27</th>\n",
              "      <td>Caldron</td>\n",
              "      <td>0.7516</td>\n",
              "    </tr>\n",
              "    <tr>\n",
              "      <th>28</th>\n",
              "      <td>Hendin</td>\n",
              "      <td>0.7514</td>\n",
              "    </tr>\n",
              "    <tr>\n",
              "      <th>29</th>\n",
              "      <td>Blackmoore</td>\n",
              "      <td>0.7508</td>\n",
              "    </tr>\n",
              "  </tbody>\n",
              "</table>\n",
              "</div>\n",
              "      <button class=\"colab-df-convert\" onclick=\"convertToInteractive('df-6b64445e-8bb9-4c47-9802-bd11d949b33a')\"\n",
              "              title=\"Convert this dataframe to an interactive table.\"\n",
              "              style=\"display:none;\">\n",
              "        \n",
              "  <svg xmlns=\"http://www.w3.org/2000/svg\" height=\"24px\"viewBox=\"0 0 24 24\"\n",
              "       width=\"24px\">\n",
              "    <path d=\"M0 0h24v24H0V0z\" fill=\"none\"/>\n",
              "    <path d=\"M18.56 5.44l.94 2.06.94-2.06 2.06-.94-2.06-.94-.94-2.06-.94 2.06-2.06.94zm-11 1L8.5 8.5l.94-2.06 2.06-.94-2.06-.94L8.5 2.5l-.94 2.06-2.06.94zm10 10l.94 2.06.94-2.06 2.06-.94-2.06-.94-.94-2.06-.94 2.06-2.06.94z\"/><path d=\"M17.41 7.96l-1.37-1.37c-.4-.4-.92-.59-1.43-.59-.52 0-1.04.2-1.43.59L10.3 9.45l-7.72 7.72c-.78.78-.78 2.05 0 2.83L4 21.41c.39.39.9.59 1.41.59.51 0 1.02-.2 1.41-.59l7.78-7.78 2.81-2.81c.8-.78.8-2.07 0-2.86zM5.41 20L4 18.59l7.72-7.72 1.47 1.35L5.41 20z\"/>\n",
              "  </svg>\n",
              "      </button>\n",
              "      \n",
              "  <style>\n",
              "    .colab-df-container {\n",
              "      display:flex;\n",
              "      flex-wrap:wrap;\n",
              "      gap: 12px;\n",
              "    }\n",
              "\n",
              "    .colab-df-convert {\n",
              "      background-color: #E8F0FE;\n",
              "      border: none;\n",
              "      border-radius: 50%;\n",
              "      cursor: pointer;\n",
              "      display: none;\n",
              "      fill: #1967D2;\n",
              "      height: 32px;\n",
              "      padding: 0 0 0 0;\n",
              "      width: 32px;\n",
              "    }\n",
              "\n",
              "    .colab-df-convert:hover {\n",
              "      background-color: #E2EBFA;\n",
              "      box-shadow: 0px 1px 2px rgba(60, 64, 67, 0.3), 0px 1px 3px 1px rgba(60, 64, 67, 0.15);\n",
              "      fill: #174EA6;\n",
              "    }\n",
              "\n",
              "    [theme=dark] .colab-df-convert {\n",
              "      background-color: #3B4455;\n",
              "      fill: #D2E3FC;\n",
              "    }\n",
              "\n",
              "    [theme=dark] .colab-df-convert:hover {\n",
              "      background-color: #434B5C;\n",
              "      box-shadow: 0px 1px 3px 1px rgba(0, 0, 0, 0.15);\n",
              "      filter: drop-shadow(0px 1px 2px rgba(0, 0, 0, 0.3));\n",
              "      fill: #FFFFFF;\n",
              "    }\n",
              "  </style>\n",
              "\n",
              "      <script>\n",
              "        const buttonEl =\n",
              "          document.querySelector('#df-6b64445e-8bb9-4c47-9802-bd11d949b33a button.colab-df-convert');\n",
              "        buttonEl.style.display =\n",
              "          google.colab.kernel.accessAllowed ? 'block' : 'none';\n",
              "\n",
              "        async function convertToInteractive(key) {\n",
              "          const element = document.querySelector('#df-6b64445e-8bb9-4c47-9802-bd11d949b33a');\n",
              "          const dataTable =\n",
              "            await google.colab.kernel.invokeFunction('convertToInteractive',\n",
              "                                                     [key], {});\n",
              "          if (!dataTable) return;\n",
              "\n",
              "          const docLinkHtml = 'Like what you see? Visit the ' +\n",
              "            '<a target=\"_blank\" href=https://colab.research.google.com/notebooks/data_table.ipynb>data table notebook</a>'\n",
              "            + ' to learn more about interactive tables.';\n",
              "          element.innerHTML = '';\n",
              "          dataTable['output_type'] = 'display_data';\n",
              "          await google.colab.output.renderOutput(dataTable, element);\n",
              "          const docLink = document.createElement('div');\n",
              "          docLink.innerHTML = docLinkHtml;\n",
              "          element.appendChild(docLink);\n",
              "        }\n",
              "      </script>\n",
              "    </div>\n",
              "  </div>\n",
              "  "
            ]
          },
          "metadata": {},
          "execution_count": 192
        }
      ]
    },
    {
      "cell_type": "code",
      "source": [
        "get_most_similar(doc, word2)"
      ],
      "metadata": {
        "colab": {
          "base_uri": "https://localhost:8080/",
          "height": 990
        },
        "id": "3Ks2RmDfVnAq",
        "outputId": "370ea9ef-11f6-49f2-ca0d-164c0e8aded8"
      },
      "execution_count": 193,
      "outputs": [
        {
          "output_type": "execute_result",
          "data": {
            "text/plain": [
              "           words  distances\n",
              "0           Woos     1.0000\n",
              "1   Mimblewimble     0.7320\n",
              "2          Loyle     0.6660\n",
              "3         TOPSIS     0.6625\n",
              "4    Armathwaite     0.6319\n",
              "5       Wallidan     0.6276\n",
              "6         Macker     0.6275\n",
              "7          Modot     0.6268\n",
              "8            LZ4     0.6246\n",
              "9      Spraggett     0.6235\n",
              "10     Anagallis     0.6233\n",
              "11       Haveman     0.6216\n",
              "12       Latshaw     0.6162\n",
              "13       Densley     0.6128\n",
              "14      Frishman     0.6085\n",
              "15        Renson     0.6070\n",
              "16       Hughesy     0.6060\n",
              "17          UUVs     0.6055\n",
              "18         Sepin     0.6054\n",
              "19      Wackford     0.6038\n",
              "20     Willstrop     0.6031\n",
              "21      Thomsett     0.6027\n",
              "22       Poneman     0.6021\n",
              "23     Farandole     0.5997\n",
              "24      Vennells     0.5995\n",
              "25    Kerhonkson     0.5967\n",
              "26       McMakin     0.5946\n",
              "27        Frolik     0.5931\n",
              "28       Carnley     0.5911\n",
              "29        niffin     0.5903"
            ],
            "text/html": [
              "\n",
              "  <div id=\"df-cf552578-b155-43fe-9299-3865f8257916\">\n",
              "    <div class=\"colab-df-container\">\n",
              "      <div>\n",
              "<style scoped>\n",
              "    .dataframe tbody tr th:only-of-type {\n",
              "        vertical-align: middle;\n",
              "    }\n",
              "\n",
              "    .dataframe tbody tr th {\n",
              "        vertical-align: top;\n",
              "    }\n",
              "\n",
              "    .dataframe thead th {\n",
              "        text-align: right;\n",
              "    }\n",
              "</style>\n",
              "<table border=\"1\" class=\"dataframe\">\n",
              "  <thead>\n",
              "    <tr style=\"text-align: right;\">\n",
              "      <th></th>\n",
              "      <th>words</th>\n",
              "      <th>distances</th>\n",
              "    </tr>\n",
              "  </thead>\n",
              "  <tbody>\n",
              "    <tr>\n",
              "      <th>0</th>\n",
              "      <td>Woos</td>\n",
              "      <td>1.0000</td>\n",
              "    </tr>\n",
              "    <tr>\n",
              "      <th>1</th>\n",
              "      <td>Mimblewimble</td>\n",
              "      <td>0.7320</td>\n",
              "    </tr>\n",
              "    <tr>\n",
              "      <th>2</th>\n",
              "      <td>Loyle</td>\n",
              "      <td>0.6660</td>\n",
              "    </tr>\n",
              "    <tr>\n",
              "      <th>3</th>\n",
              "      <td>TOPSIS</td>\n",
              "      <td>0.6625</td>\n",
              "    </tr>\n",
              "    <tr>\n",
              "      <th>4</th>\n",
              "      <td>Armathwaite</td>\n",
              "      <td>0.6319</td>\n",
              "    </tr>\n",
              "    <tr>\n",
              "      <th>5</th>\n",
              "      <td>Wallidan</td>\n",
              "      <td>0.6276</td>\n",
              "    </tr>\n",
              "    <tr>\n",
              "      <th>6</th>\n",
              "      <td>Macker</td>\n",
              "      <td>0.6275</td>\n",
              "    </tr>\n",
              "    <tr>\n",
              "      <th>7</th>\n",
              "      <td>Modot</td>\n",
              "      <td>0.6268</td>\n",
              "    </tr>\n",
              "    <tr>\n",
              "      <th>8</th>\n",
              "      <td>LZ4</td>\n",
              "      <td>0.6246</td>\n",
              "    </tr>\n",
              "    <tr>\n",
              "      <th>9</th>\n",
              "      <td>Spraggett</td>\n",
              "      <td>0.6235</td>\n",
              "    </tr>\n",
              "    <tr>\n",
              "      <th>10</th>\n",
              "      <td>Anagallis</td>\n",
              "      <td>0.6233</td>\n",
              "    </tr>\n",
              "    <tr>\n",
              "      <th>11</th>\n",
              "      <td>Haveman</td>\n",
              "      <td>0.6216</td>\n",
              "    </tr>\n",
              "    <tr>\n",
              "      <th>12</th>\n",
              "      <td>Latshaw</td>\n",
              "      <td>0.6162</td>\n",
              "    </tr>\n",
              "    <tr>\n",
              "      <th>13</th>\n",
              "      <td>Densley</td>\n",
              "      <td>0.6128</td>\n",
              "    </tr>\n",
              "    <tr>\n",
              "      <th>14</th>\n",
              "      <td>Frishman</td>\n",
              "      <td>0.6085</td>\n",
              "    </tr>\n",
              "    <tr>\n",
              "      <th>15</th>\n",
              "      <td>Renson</td>\n",
              "      <td>0.6070</td>\n",
              "    </tr>\n",
              "    <tr>\n",
              "      <th>16</th>\n",
              "      <td>Hughesy</td>\n",
              "      <td>0.6060</td>\n",
              "    </tr>\n",
              "    <tr>\n",
              "      <th>17</th>\n",
              "      <td>UUVs</td>\n",
              "      <td>0.6055</td>\n",
              "    </tr>\n",
              "    <tr>\n",
              "      <th>18</th>\n",
              "      <td>Sepin</td>\n",
              "      <td>0.6054</td>\n",
              "    </tr>\n",
              "    <tr>\n",
              "      <th>19</th>\n",
              "      <td>Wackford</td>\n",
              "      <td>0.6038</td>\n",
              "    </tr>\n",
              "    <tr>\n",
              "      <th>20</th>\n",
              "      <td>Willstrop</td>\n",
              "      <td>0.6031</td>\n",
              "    </tr>\n",
              "    <tr>\n",
              "      <th>21</th>\n",
              "      <td>Thomsett</td>\n",
              "      <td>0.6027</td>\n",
              "    </tr>\n",
              "    <tr>\n",
              "      <th>22</th>\n",
              "      <td>Poneman</td>\n",
              "      <td>0.6021</td>\n",
              "    </tr>\n",
              "    <tr>\n",
              "      <th>23</th>\n",
              "      <td>Farandole</td>\n",
              "      <td>0.5997</td>\n",
              "    </tr>\n",
              "    <tr>\n",
              "      <th>24</th>\n",
              "      <td>Vennells</td>\n",
              "      <td>0.5995</td>\n",
              "    </tr>\n",
              "    <tr>\n",
              "      <th>25</th>\n",
              "      <td>Kerhonkson</td>\n",
              "      <td>0.5967</td>\n",
              "    </tr>\n",
              "    <tr>\n",
              "      <th>26</th>\n",
              "      <td>McMakin</td>\n",
              "      <td>0.5946</td>\n",
              "    </tr>\n",
              "    <tr>\n",
              "      <th>27</th>\n",
              "      <td>Frolik</td>\n",
              "      <td>0.5931</td>\n",
              "    </tr>\n",
              "    <tr>\n",
              "      <th>28</th>\n",
              "      <td>Carnley</td>\n",
              "      <td>0.5911</td>\n",
              "    </tr>\n",
              "    <tr>\n",
              "      <th>29</th>\n",
              "      <td>niffin</td>\n",
              "      <td>0.5903</td>\n",
              "    </tr>\n",
              "  </tbody>\n",
              "</table>\n",
              "</div>\n",
              "      <button class=\"colab-df-convert\" onclick=\"convertToInteractive('df-cf552578-b155-43fe-9299-3865f8257916')\"\n",
              "              title=\"Convert this dataframe to an interactive table.\"\n",
              "              style=\"display:none;\">\n",
              "        \n",
              "  <svg xmlns=\"http://www.w3.org/2000/svg\" height=\"24px\"viewBox=\"0 0 24 24\"\n",
              "       width=\"24px\">\n",
              "    <path d=\"M0 0h24v24H0V0z\" fill=\"none\"/>\n",
              "    <path d=\"M18.56 5.44l.94 2.06.94-2.06 2.06-.94-2.06-.94-.94-2.06-.94 2.06-2.06.94zm-11 1L8.5 8.5l.94-2.06 2.06-.94-2.06-.94L8.5 2.5l-.94 2.06-2.06.94zm10 10l.94 2.06.94-2.06 2.06-.94-2.06-.94-.94-2.06-.94 2.06-2.06.94z\"/><path d=\"M17.41 7.96l-1.37-1.37c-.4-.4-.92-.59-1.43-.59-.52 0-1.04.2-1.43.59L10.3 9.45l-7.72 7.72c-.78.78-.78 2.05 0 2.83L4 21.41c.39.39.9.59 1.41.59.51 0 1.02-.2 1.41-.59l7.78-7.78 2.81-2.81c.8-.78.8-2.07 0-2.86zM5.41 20L4 18.59l7.72-7.72 1.47 1.35L5.41 20z\"/>\n",
              "  </svg>\n",
              "      </button>\n",
              "      \n",
              "  <style>\n",
              "    .colab-df-container {\n",
              "      display:flex;\n",
              "      flex-wrap:wrap;\n",
              "      gap: 12px;\n",
              "    }\n",
              "\n",
              "    .colab-df-convert {\n",
              "      background-color: #E8F0FE;\n",
              "      border: none;\n",
              "      border-radius: 50%;\n",
              "      cursor: pointer;\n",
              "      display: none;\n",
              "      fill: #1967D2;\n",
              "      height: 32px;\n",
              "      padding: 0 0 0 0;\n",
              "      width: 32px;\n",
              "    }\n",
              "\n",
              "    .colab-df-convert:hover {\n",
              "      background-color: #E2EBFA;\n",
              "      box-shadow: 0px 1px 2px rgba(60, 64, 67, 0.3), 0px 1px 3px 1px rgba(60, 64, 67, 0.15);\n",
              "      fill: #174EA6;\n",
              "    }\n",
              "\n",
              "    [theme=dark] .colab-df-convert {\n",
              "      background-color: #3B4455;\n",
              "      fill: #D2E3FC;\n",
              "    }\n",
              "\n",
              "    [theme=dark] .colab-df-convert:hover {\n",
              "      background-color: #434B5C;\n",
              "      box-shadow: 0px 1px 3px 1px rgba(0, 0, 0, 0.15);\n",
              "      filter: drop-shadow(0px 1px 2px rgba(0, 0, 0, 0.3));\n",
              "      fill: #FFFFFF;\n",
              "    }\n",
              "  </style>\n",
              "\n",
              "      <script>\n",
              "        const buttonEl =\n",
              "          document.querySelector('#df-cf552578-b155-43fe-9299-3865f8257916 button.colab-df-convert');\n",
              "        buttonEl.style.display =\n",
              "          google.colab.kernel.accessAllowed ? 'block' : 'none';\n",
              "\n",
              "        async function convertToInteractive(key) {\n",
              "          const element = document.querySelector('#df-cf552578-b155-43fe-9299-3865f8257916');\n",
              "          const dataTable =\n",
              "            await google.colab.kernel.invokeFunction('convertToInteractive',\n",
              "                                                     [key], {});\n",
              "          if (!dataTable) return;\n",
              "\n",
              "          const docLinkHtml = 'Like what you see? Visit the ' +\n",
              "            '<a target=\"_blank\" href=https://colab.research.google.com/notebooks/data_table.ipynb>data table notebook</a>'\n",
              "            + ' to learn more about interactive tables.';\n",
              "          element.innerHTML = '';\n",
              "          dataTable['output_type'] = 'display_data';\n",
              "          await google.colab.output.renderOutput(dataTable, element);\n",
              "          const docLink = document.createElement('div');\n",
              "          docLink.innerHTML = docLinkHtml;\n",
              "          element.appendChild(docLink);\n",
              "        }\n",
              "      </script>\n",
              "    </div>\n",
              "  </div>\n",
              "  "
            ]
          },
          "metadata": {},
          "execution_count": 193
        }
      ]
    },
    {
      "cell_type": "markdown",
      "source": [
        "Let's recuperate the mean vector of the paragraphs."
      ],
      "metadata": {
        "id": "sDE1WGkyWuPd"
      }
    },
    {
      "cell_type": "code",
      "source": [
        "# we will use the sf_paragraph frame\n",
        "def get_mean_vector(paragraph: str):\n",
        "  doc_p = nlp(paragraph)\n",
        "  return np.mean(doc_p.vector)\n",
        "\n",
        "# let's get the mean of paragraphs using pandas_parallel\n",
        "sf_paragraphs = sf_paragraphs.to_dataframe() # convert to a DataFrame\n",
        "\n",
        "sf_paragraphs['mean_vector'] = sf_paragraphs['paragraph'].parallel_apply(get_mean_vector)"
      ],
      "metadata": {
        "colab": {
          "base_uri": "https://localhost:8080/",
          "height": 337,
          "referenced_widgets": [
            "42c0f0744860423f917eb3ffdc83d1b8",
            "4edf4e90958741f69debd6bb80c9e654",
            "fcec16d153d44f3b9720806992c3d8c2",
            "5b57bfeafb5d49a8857e3249e3518501",
            "05fc743f8f644c18afd1dced9106cb0f",
            "0d7ffb9884aa4269979c81a1cf0d9019",
            "d5eab0231ee944ba8150b98a8be0d60e",
            "61bac79022bf4413a87d284ec4f13147",
            "b02a4c7938d34fe896ab6a06d84e08eb",
            "30adda598d5b48b88ccb10f218efa979",
            "c8aae976909b414bb20585107ab33fd9",
            "64436d34573849ba98fe21aa0c7bc6c6",
            "ec0edaa2b14f4d5b875a24e1f0a71b11",
            "9818083a499744b4aff8b01b816478f7",
            "2551b34bcd404c7a95ad9364383fe2ca",
            "072689960cce43fca9408cd44851528e",
            "7b72b26a4df347669045cdca28f59164",
            "5d9e3d652cb94d60bf659169b1139b61",
            "8a1e1f1c4e6f43a9b0ef5971d0dd2d2c",
            "418d9f1e738944e4ba26c8b42cbaadf9",
            "0b2816cdceb143e68585cc0a998c8811",
            "81d42c1db0d84ca685df7eeb21bf8afe",
            "fb8ec2a9677d41e7aa858f0ce9a1e4dc",
            "4ddbc024330a4c08acc2c836f1811422",
            "fd138f89038a456993ccef1d2dbb90c4",
            "dae1cdf18d0848e89e607ba51fd3234f",
            "3cabcd0141dd488a94299e1f1994e06b",
            "3c10779bccb6461cbc0eb6543bd8302d",
            "1ea3993acead4bfcaca7198b422df5e3",
            "3e3526ebe767467d874ba069e3d1f1c2",
            "f332499f40584f949be64cd34057a321",
            "b6d82dad2cdf4519bfff7d20f614a671",
            "65a55121236f4aa2bcc38d614cf7e0a5",
            "bef2987e615c4e7cb02a30a665816eee",
            "b135c57d64e2462b9393e1b577e98bdc",
            "efa120404e0a4bfe804fdf31bd5aa7ca",
            "22b798cb63a7437088fb8f7e03313c28",
            "62963515ef1246508dee37e453b46270",
            "b10a5519de7940508127ce9339d961f0",
            "efbebf21c7ad461eb4f8ad45d61febfa",
            "ff5c8145d59046018482b0ffcdfca411",
            "7f9c453f1a6f48b6867ef85367bb28c2",
            "dd944ef3d59c474385262ccfd64c1b07",
            "50fdf624cc3a4d348567142c4345364e",
            "41fc2e1b85204599ae93e77530b5acef",
            "47be9f1ea0a34c53bc367948d97afaa8",
            "f0b2bebec13540a691d61ad9430e0408",
            "242a0a923e864dd3b6ed658db86177f4",
            "30cc70b94166416d8bbb066f6b02b907",
            "de971938c7b347c78bbefccda08a2387",
            "c7e9dd4995c9487997765b9b8216b7a8",
            "1a27e6eeeec240fe98d86ba1f6f77494",
            "84a629642ffd4de883886a1408dc9085",
            "a2b945e8a86b42098bd3e68f29f8a80f",
            "1b80ffda7f1f4d5a877071f77023c71f",
            "fdd3635ae6894c2a9b899d08e8700a49",
            "aaa31a0a68794c75aa5f9094bb43b363",
            "213a8e4d9af74b18a275f270d011a6fa",
            "d6a98eb1313b465baefe6d717cd8d4df",
            "004b37de2b3f48ae8b8cbe300d49ec13",
            "0ba670db0a734a2aae7aa8523cc81d08",
            "dab3798cdbcd4240a190e95c827a91bc",
            "3459e957591547a588f791e7281fcae6",
            "dde9170abf9a4d05955c37b63013a2c7",
            "730fe38cbcfe47ee96c8ee9bf77bd7f2",
            "9eed2cf71bbc46519db889b63ff2eccf",
            "8347f2093bae41cc8342d42867891f44",
            "ab00b32cbd0a4fa8b4eca9a40d92c2ae",
            "d92271c726c5451fb5fc1f31ac41b83f",
            "cb732f14d0d448fe8f63c4caf70f70d3",
            "21538fb9af544721843c65b78cd4da86",
            "545ff2d9be7e45e9abf4974a46fd0145",
            "e2c138648b754a4cb99454a97e47632e",
            "5c9fc3feb29f4869b90b765399c4c118",
            "301e79ed6ecb4b4b96c26a8d5a097f7e",
            "e20a1957644847b5b248cca10c31a6aa",
            "b9ca1e1228fd4635acbaa1e13ac52bb7",
            "1651fa33fb7c4cf1971f45b8f4f6f61d",
            "166e9876ac9d48f6983ed7bfd58dd8b5",
            "cf99c20e103f43c2b53cea6e0e42f6d5",
            "607a78d9f12e41d2b4b03f2c9caa53f2",
            "109e116bd8c8487393413f913807c8a3"
          ]
        },
        "id": "Bk-FB7pf1tPy",
        "outputId": "6ab68b7e-33d7-46ab-f5bc-d74d7babf137"
      },
      "execution_count": 194,
      "outputs": [
        {
          "output_type": "display_data",
          "data": {
            "text/plain": [
              "VBox(children=(HBox(children=(IntProgress(value=0, description='0.00%', max=1166), Label(value='0 / 1166'))), …"
            ],
            "application/vnd.jupyter.widget-view+json": {
              "version_major": 2,
              "version_minor": 0,
              "model_id": "42c0f0744860423f917eb3ffdc83d1b8"
            }
          },
          "metadata": {}
        }
      ]
    },
    {
      "cell_type": "markdown",
      "source": [
        "Retransform the frame and train the nearest neighbors model."
      ],
      "metadata": {
        "id": "5YxCmIUeZs0c"
      }
    },
    {
      "cell_type": "code",
      "source": [
        "sf_paragraphs = tr.SFrame(sf_paragraphs)\n",
        "nn_model = tr.nearest_neighbors.create(sf_paragraphs, features = [\"mean_vector\"])\n",
        "\n",
        "# getting the two nearest neighbors of each paragraph from all the paragraphs\n",
        "r = nn_model.query(sf_paragraphs, k = 2)\n",
        "r.head(10)"
      ],
      "metadata": {
        "colab": {
          "base_uri": "https://localhost:8080/",
          "height": 527
        },
        "id": "VhvSHat-Z5oD",
        "outputId": "2bf9eb46-9fb7-4dde-fcb8-78e421692d67"
      },
      "execution_count": null,
      "outputs": [
        {
          "output_type": "display_data",
          "data": {
            "text/plain": [
              "Starting ball tree nearest neighbors model training."
            ],
            "text/html": [
              "<pre>Starting ball tree nearest neighbors model training.</pre>"
            ]
          },
          "metadata": {}
        },
        {
          "output_type": "display_data",
          "data": {
            "text/plain": [
              "+------------+--------------+"
            ],
            "text/html": [
              "<pre>+------------+--------------+</pre>"
            ]
          },
          "metadata": {}
        },
        {
          "output_type": "display_data",
          "data": {
            "text/plain": [
              "| Tree level | Elapsed Time |"
            ],
            "text/html": [
              "<pre>| Tree level | Elapsed Time |</pre>"
            ]
          },
          "metadata": {}
        },
        {
          "output_type": "display_data",
          "data": {
            "text/plain": [
              "+------------+--------------+"
            ],
            "text/html": [
              "<pre>+------------+--------------+</pre>"
            ]
          },
          "metadata": {}
        },
        {
          "output_type": "display_data",
          "data": {
            "text/plain": [
              "| 0          | 6.55ms       |"
            ],
            "text/html": [
              "<pre>| 0          | 6.55ms       |</pre>"
            ]
          },
          "metadata": {}
        },
        {
          "output_type": "display_data",
          "data": {
            "text/plain": [
              "| 1          | 10.888ms     |"
            ],
            "text/html": [
              "<pre>| 1          | 10.888ms     |</pre>"
            ]
          },
          "metadata": {}
        },
        {
          "output_type": "display_data",
          "data": {
            "text/plain": [
              "| 2          | 17.096ms     |"
            ],
            "text/html": [
              "<pre>| 2          | 17.096ms     |</pre>"
            ]
          },
          "metadata": {}
        },
        {
          "output_type": "display_data",
          "data": {
            "text/plain": [
              "| 3          | 19.977ms     |"
            ],
            "text/html": [
              "<pre>| 3          | 19.977ms     |</pre>"
            ]
          },
          "metadata": {}
        },
        {
          "output_type": "display_data",
          "data": {
            "text/plain": [
              "| 4          | 20.829ms     |"
            ],
            "text/html": [
              "<pre>| 4          | 20.829ms     |</pre>"
            ]
          },
          "metadata": {}
        },
        {
          "output_type": "display_data",
          "data": {
            "text/plain": [
              "+------------+--------------+"
            ],
            "text/html": [
              "<pre>+------------+--------------+</pre>"
            ]
          },
          "metadata": {}
        },
        {
          "output_type": "display_data",
          "data": {
            "text/plain": [
              "+--------------+-------------+--------------+"
            ],
            "text/html": [
              "<pre>+--------------+-------------+--------------+</pre>"
            ]
          },
          "metadata": {}
        },
        {
          "output_type": "display_data",
          "data": {
            "text/plain": [
              "| Query points | % Complete. | Elapsed Time |"
            ],
            "text/html": [
              "<pre>| Query points | % Complete. | Elapsed Time |</pre>"
            ]
          },
          "metadata": {}
        },
        {
          "output_type": "display_data",
          "data": {
            "text/plain": [
              "+--------------+-------------+--------------+"
            ],
            "text/html": [
              "<pre>+--------------+-------------+--------------+</pre>"
            ]
          },
          "metadata": {}
        },
        {
          "output_type": "display_data",
          "data": {
            "text/plain": [
              "| 1            | 0           | 1.784ms      |"
            ],
            "text/html": [
              "<pre>| 1            | 0           | 1.784ms      |</pre>"
            ]
          },
          "metadata": {}
        },
        {
          "output_type": "display_data",
          "data": {
            "text/plain": [
              "| Done         |             | 886.954ms    |"
            ],
            "text/html": [
              "<pre>| Done         |             | 886.954ms    |</pre>"
            ]
          },
          "metadata": {}
        },
        {
          "output_type": "display_data",
          "data": {
            "text/plain": [
              "+--------------+-------------+--------------+"
            ],
            "text/html": [
              "<pre>+--------------+-------------+--------------+</pre>"
            ]
          },
          "metadata": {}
        },
        {
          "output_type": "execute_result",
          "data": {
            "text/plain": [
              "Columns:\n",
              "\tquery_label\tint\n",
              "\treference_label\tint\n",
              "\tdistance\tfloat\n",
              "\trank\tint\n",
              "\n",
              "Rows: 10\n",
              "\n",
              "Data:\n",
              "+-------------+-----------------+-----------------------+------+\n",
              "| query_label | reference_label |        distance       | rank |\n",
              "+-------------+-----------------+-----------------------+------+\n",
              "|      0      |        0        |          0.0          |  1   |\n",
              "|      0      |       6231      | 0.0008178725838661194 |  2   |\n",
              "|      1      |        1        |          0.0          |  1   |\n",
              "|      1      |       6453      |          0.0          |  2   |\n",
              "|      2      |        2        |          0.0          |  1   |\n",
              "|      2      |       6454      |          0.0          |  2   |\n",
              "|      3      |       6455      |          0.0          |  1   |\n",
              "|      3      |        3        |          0.0          |  2   |\n",
              "|      4      |        4        |          0.0          |  1   |\n",
              "|      4      |       6456      |          0.0          |  2   |\n",
              "+-------------+-----------------+-----------------------+------+\n",
              "[10 rows x 4 columns]"
            ],
            "text/html": [
              "<div style=\"max-height:1000px;max-width:1500px;overflow:auto;\"><table frame=\"box\" rules=\"cols\">\n",
              "    <tr>\n",
              "        <th style=\"padding-left: 1em; padding-right: 1em; text-align: center\">query_label</th>\n",
              "        <th style=\"padding-left: 1em; padding-right: 1em; text-align: center\">reference_label</th>\n",
              "        <th style=\"padding-left: 1em; padding-right: 1em; text-align: center\">distance</th>\n",
              "        <th style=\"padding-left: 1em; padding-right: 1em; text-align: center\">rank</th>\n",
              "    </tr>\n",
              "    <tr>\n",
              "        <td style=\"padding-left: 1em; padding-right: 1em; text-align: center; vertical-align: top\">0</td>\n",
              "        <td style=\"padding-left: 1em; padding-right: 1em; text-align: center; vertical-align: top\">0</td>\n",
              "        <td style=\"padding-left: 1em; padding-right: 1em; text-align: center; vertical-align: top\">0.0</td>\n",
              "        <td style=\"padding-left: 1em; padding-right: 1em; text-align: center; vertical-align: top\">1</td>\n",
              "    </tr>\n",
              "    <tr>\n",
              "        <td style=\"padding-left: 1em; padding-right: 1em; text-align: center; vertical-align: top\">0</td>\n",
              "        <td style=\"padding-left: 1em; padding-right: 1em; text-align: center; vertical-align: top\">6231</td>\n",
              "        <td style=\"padding-left: 1em; padding-right: 1em; text-align: center; vertical-align: top\">0.0008178725838661194</td>\n",
              "        <td style=\"padding-left: 1em; padding-right: 1em; text-align: center; vertical-align: top\">2</td>\n",
              "    </tr>\n",
              "    <tr>\n",
              "        <td style=\"padding-left: 1em; padding-right: 1em; text-align: center; vertical-align: top\">1</td>\n",
              "        <td style=\"padding-left: 1em; padding-right: 1em; text-align: center; vertical-align: top\">1</td>\n",
              "        <td style=\"padding-left: 1em; padding-right: 1em; text-align: center; vertical-align: top\">0.0</td>\n",
              "        <td style=\"padding-left: 1em; padding-right: 1em; text-align: center; vertical-align: top\">1</td>\n",
              "    </tr>\n",
              "    <tr>\n",
              "        <td style=\"padding-left: 1em; padding-right: 1em; text-align: center; vertical-align: top\">1</td>\n",
              "        <td style=\"padding-left: 1em; padding-right: 1em; text-align: center; vertical-align: top\">6453</td>\n",
              "        <td style=\"padding-left: 1em; padding-right: 1em; text-align: center; vertical-align: top\">0.0</td>\n",
              "        <td style=\"padding-left: 1em; padding-right: 1em; text-align: center; vertical-align: top\">2</td>\n",
              "    </tr>\n",
              "    <tr>\n",
              "        <td style=\"padding-left: 1em; padding-right: 1em; text-align: center; vertical-align: top\">2</td>\n",
              "        <td style=\"padding-left: 1em; padding-right: 1em; text-align: center; vertical-align: top\">2</td>\n",
              "        <td style=\"padding-left: 1em; padding-right: 1em; text-align: center; vertical-align: top\">0.0</td>\n",
              "        <td style=\"padding-left: 1em; padding-right: 1em; text-align: center; vertical-align: top\">1</td>\n",
              "    </tr>\n",
              "    <tr>\n",
              "        <td style=\"padding-left: 1em; padding-right: 1em; text-align: center; vertical-align: top\">2</td>\n",
              "        <td style=\"padding-left: 1em; padding-right: 1em; text-align: center; vertical-align: top\">6454</td>\n",
              "        <td style=\"padding-left: 1em; padding-right: 1em; text-align: center; vertical-align: top\">0.0</td>\n",
              "        <td style=\"padding-left: 1em; padding-right: 1em; text-align: center; vertical-align: top\">2</td>\n",
              "    </tr>\n",
              "    <tr>\n",
              "        <td style=\"padding-left: 1em; padding-right: 1em; text-align: center; vertical-align: top\">3</td>\n",
              "        <td style=\"padding-left: 1em; padding-right: 1em; text-align: center; vertical-align: top\">6455</td>\n",
              "        <td style=\"padding-left: 1em; padding-right: 1em; text-align: center; vertical-align: top\">0.0</td>\n",
              "        <td style=\"padding-left: 1em; padding-right: 1em; text-align: center; vertical-align: top\">1</td>\n",
              "    </tr>\n",
              "    <tr>\n",
              "        <td style=\"padding-left: 1em; padding-right: 1em; text-align: center; vertical-align: top\">3</td>\n",
              "        <td style=\"padding-left: 1em; padding-right: 1em; text-align: center; vertical-align: top\">3</td>\n",
              "        <td style=\"padding-left: 1em; padding-right: 1em; text-align: center; vertical-align: top\">0.0</td>\n",
              "        <td style=\"padding-left: 1em; padding-right: 1em; text-align: center; vertical-align: top\">2</td>\n",
              "    </tr>\n",
              "    <tr>\n",
              "        <td style=\"padding-left: 1em; padding-right: 1em; text-align: center; vertical-align: top\">4</td>\n",
              "        <td style=\"padding-left: 1em; padding-right: 1em; text-align: center; vertical-align: top\">4</td>\n",
              "        <td style=\"padding-left: 1em; padding-right: 1em; text-align: center; vertical-align: top\">0.0</td>\n",
              "        <td style=\"padding-left: 1em; padding-right: 1em; text-align: center; vertical-align: top\">1</td>\n",
              "    </tr>\n",
              "    <tr>\n",
              "        <td style=\"padding-left: 1em; padding-right: 1em; text-align: center; vertical-align: top\">4</td>\n",
              "        <td style=\"padding-left: 1em; padding-right: 1em; text-align: center; vertical-align: top\">6456</td>\n",
              "        <td style=\"padding-left: 1em; padding-right: 1em; text-align: center; vertical-align: top\">0.0</td>\n",
              "        <td style=\"padding-left: 1em; padding-right: 1em; text-align: center; vertical-align: top\">2</td>\n",
              "    </tr>\n",
              "</table>\n",
              "[10 rows x 4 columns]<br/>\n",
              "</div>"
            ]
          },
          "metadata": {},
          "execution_count": 81
        }
      ]
    },
    {
      "cell_type": "markdown",
      "source": [
        "Let's recuperate paragraphs having distances different from 0 (not the same paragraphs) and which are too distant."
      ],
      "metadata": {
        "id": "4NpD2VDsbn1_"
      }
    },
    {
      "cell_type": "code",
      "source": [
        "r = r[(r['distance'] < 0.08) & (r['distance'] != 0)]\n",
        "r.head()"
      ],
      "metadata": {
        "colab": {
          "base_uri": "https://localhost:8080/",
          "height": 249
        },
        "id": "S3CZefLRb4BL",
        "outputId": "1f5ae05f-d53c-41e6-949e-f126e521f4a1"
      },
      "execution_count": null,
      "outputs": [
        {
          "output_type": "execute_result",
          "data": {
            "text/plain": [
              "Columns:\n",
              "\tquery_label\tint\n",
              "\treference_label\tint\n",
              "\tdistance\tfloat\n",
              "\trank\tint\n",
              "\n",
              "Rows: 10\n",
              "\n",
              "Data:\n",
              "+-------------+-----------------+------------------------+------+\n",
              "| query_label | reference_label |        distance        | rank |\n",
              "+-------------+-----------------+------------------------+------+\n",
              "|      0      |       6231      | 0.0008178725838661194  |  2   |\n",
              "|     1166    |       5694      | 8.863612310960889e-05  |  2   |\n",
              "|     2149    |       4359      |  7.35744833946228e-05  |  2   |\n",
              "|     2150    |       8921      |  0.00058756023645401   |  2   |\n",
              "|     3326    |       7925      |  0.001023031771183014  |  2   |\n",
              "|     3327    |       2791      | 2.1470244973897934e-05 |  2   |\n",
              "|     4083    |      10644      | 1.4334917068481445e-05 |  2   |\n",
              "|     4084    |      11156      | 2.1391548216342926e-05 |  2   |\n",
              "|     4085    |       6388      | 2.818182110786438e-05  |  2   |\n",
              "|     4086    |       4140      | 1.1101365089416504e-05 |  2   |\n",
              "+-------------+-----------------+------------------------+------+\n",
              "[10 rows x 4 columns]"
            ],
            "text/html": [
              "<div style=\"max-height:1000px;max-width:1500px;overflow:auto;\"><table frame=\"box\" rules=\"cols\">\n",
              "    <tr>\n",
              "        <th style=\"padding-left: 1em; padding-right: 1em; text-align: center\">query_label</th>\n",
              "        <th style=\"padding-left: 1em; padding-right: 1em; text-align: center\">reference_label</th>\n",
              "        <th style=\"padding-left: 1em; padding-right: 1em; text-align: center\">distance</th>\n",
              "        <th style=\"padding-left: 1em; padding-right: 1em; text-align: center\">rank</th>\n",
              "    </tr>\n",
              "    <tr>\n",
              "        <td style=\"padding-left: 1em; padding-right: 1em; text-align: center; vertical-align: top\">0</td>\n",
              "        <td style=\"padding-left: 1em; padding-right: 1em; text-align: center; vertical-align: top\">6231</td>\n",
              "        <td style=\"padding-left: 1em; padding-right: 1em; text-align: center; vertical-align: top\">0.0008178725838661194</td>\n",
              "        <td style=\"padding-left: 1em; padding-right: 1em; text-align: center; vertical-align: top\">2</td>\n",
              "    </tr>\n",
              "    <tr>\n",
              "        <td style=\"padding-left: 1em; padding-right: 1em; text-align: center; vertical-align: top\">1166</td>\n",
              "        <td style=\"padding-left: 1em; padding-right: 1em; text-align: center; vertical-align: top\">5694</td>\n",
              "        <td style=\"padding-left: 1em; padding-right: 1em; text-align: center; vertical-align: top\">8.863612310960889e-05</td>\n",
              "        <td style=\"padding-left: 1em; padding-right: 1em; text-align: center; vertical-align: top\">2</td>\n",
              "    </tr>\n",
              "    <tr>\n",
              "        <td style=\"padding-left: 1em; padding-right: 1em; text-align: center; vertical-align: top\">2149</td>\n",
              "        <td style=\"padding-left: 1em; padding-right: 1em; text-align: center; vertical-align: top\">4359</td>\n",
              "        <td style=\"padding-left: 1em; padding-right: 1em; text-align: center; vertical-align: top\">7.35744833946228e-05</td>\n",
              "        <td style=\"padding-left: 1em; padding-right: 1em; text-align: center; vertical-align: top\">2</td>\n",
              "    </tr>\n",
              "    <tr>\n",
              "        <td style=\"padding-left: 1em; padding-right: 1em; text-align: center; vertical-align: top\">2150</td>\n",
              "        <td style=\"padding-left: 1em; padding-right: 1em; text-align: center; vertical-align: top\">8921</td>\n",
              "        <td style=\"padding-left: 1em; padding-right: 1em; text-align: center; vertical-align: top\">0.00058756023645401</td>\n",
              "        <td style=\"padding-left: 1em; padding-right: 1em; text-align: center; vertical-align: top\">2</td>\n",
              "    </tr>\n",
              "    <tr>\n",
              "        <td style=\"padding-left: 1em; padding-right: 1em; text-align: center; vertical-align: top\">3326</td>\n",
              "        <td style=\"padding-left: 1em; padding-right: 1em; text-align: center; vertical-align: top\">7925</td>\n",
              "        <td style=\"padding-left: 1em; padding-right: 1em; text-align: center; vertical-align: top\">0.001023031771183014</td>\n",
              "        <td style=\"padding-left: 1em; padding-right: 1em; text-align: center; vertical-align: top\">2</td>\n",
              "    </tr>\n",
              "    <tr>\n",
              "        <td style=\"padding-left: 1em; padding-right: 1em; text-align: center; vertical-align: top\">3327</td>\n",
              "        <td style=\"padding-left: 1em; padding-right: 1em; text-align: center; vertical-align: top\">2791</td>\n",
              "        <td style=\"padding-left: 1em; padding-right: 1em; text-align: center; vertical-align: top\">2.1470244973897934e-05</td>\n",
              "        <td style=\"padding-left: 1em; padding-right: 1em; text-align: center; vertical-align: top\">2</td>\n",
              "    </tr>\n",
              "    <tr>\n",
              "        <td style=\"padding-left: 1em; padding-right: 1em; text-align: center; vertical-align: top\">4083</td>\n",
              "        <td style=\"padding-left: 1em; padding-right: 1em; text-align: center; vertical-align: top\">10644</td>\n",
              "        <td style=\"padding-left: 1em; padding-right: 1em; text-align: center; vertical-align: top\">1.4334917068481445e-05</td>\n",
              "        <td style=\"padding-left: 1em; padding-right: 1em; text-align: center; vertical-align: top\">2</td>\n",
              "    </tr>\n",
              "    <tr>\n",
              "        <td style=\"padding-left: 1em; padding-right: 1em; text-align: center; vertical-align: top\">4084</td>\n",
              "        <td style=\"padding-left: 1em; padding-right: 1em; text-align: center; vertical-align: top\">11156</td>\n",
              "        <td style=\"padding-left: 1em; padding-right: 1em; text-align: center; vertical-align: top\">2.1391548216342926e-05</td>\n",
              "        <td style=\"padding-left: 1em; padding-right: 1em; text-align: center; vertical-align: top\">2</td>\n",
              "    </tr>\n",
              "    <tr>\n",
              "        <td style=\"padding-left: 1em; padding-right: 1em; text-align: center; vertical-align: top\">4085</td>\n",
              "        <td style=\"padding-left: 1em; padding-right: 1em; text-align: center; vertical-align: top\">6388</td>\n",
              "        <td style=\"padding-left: 1em; padding-right: 1em; text-align: center; vertical-align: top\">2.818182110786438e-05</td>\n",
              "        <td style=\"padding-left: 1em; padding-right: 1em; text-align: center; vertical-align: top\">2</td>\n",
              "    </tr>\n",
              "    <tr>\n",
              "        <td style=\"padding-left: 1em; padding-right: 1em; text-align: center; vertical-align: top\">4086</td>\n",
              "        <td style=\"padding-left: 1em; padding-right: 1em; text-align: center; vertical-align: top\">4140</td>\n",
              "        <td style=\"padding-left: 1em; padding-right: 1em; text-align: center; vertical-align: top\">1.1101365089416504e-05</td>\n",
              "        <td style=\"padding-left: 1em; padding-right: 1em; text-align: center; vertical-align: top\">2</td>\n",
              "    </tr>\n",
              "</table>\n",
              "[10 rows x 4 columns]<br/>\n",
              "</div>"
            ]
          },
          "metadata": {},
          "execution_count": 82
        }
      ]
    },
    {
      "cell_type": "markdown",
      "source": [
        "Let's join the paragraphs on columns \"query_label\" and \"reference_label\"."
      ],
      "metadata": {
        "id": "R-rHQLUNceTe"
      }
    },
    {
      "cell_type": "code",
      "source": [
        "sf_paragraphs = sf_paragraphs.add_row_number(\"query_label\")\n",
        "sf_paragraphs = sf_paragraphs.add_row_number(\"reference_label\")\n",
        "sf_similar = r.join(sf_paragraphs, on = \"query_label\").join(sf_paragraphs, on = \"reference_label\")"
      ],
      "metadata": {
        "id": "hYpzc-DncwJC"
      },
      "execution_count": null,
      "outputs": []
    },
    {
      "cell_type": "code",
      "source": [
        "sf_similar[[\"paragraph\", \"title\", \"title.1\", \"paragraph.1\", \"distance\"]]"
      ],
      "metadata": {
        "colab": {
          "base_uri": "https://localhost:8080/",
          "height": 673
        },
        "id": "6kHNe1t1deCy",
        "outputId": "fc76afdf-60fc-4cf3-f43d-c00e0e927238"
      },
      "execution_count": null,
      "outputs": [
        {
          "output_type": "execute_result",
          "data": {
            "text/plain": [
              "Columns:\n",
              "\tparagraph\tstr\n",
              "\ttitle\tstr\n",
              "\ttitle.1\tstr\n",
              "\tparagraph.1\tstr\n",
              "\tdistance\tfloat\n",
              "\n",
              "Rows: 3390\n",
              "\n",
              "Data:\n",
              "+-------------------------------+-------------------------------+\n",
              "|           paragraph           |             title             |\n",
              "+-------------------------------+-------------------------------+\n",
              "| Miller Hill is an ill-kept... |       The Valley of Fear      |\n",
              "| \"All this seems strange to... |       A Study In Scarlet      |\n",
              "| He took up a second letter... |       The Sussex Vampire      |\n",
              "| As he spoke the bright, ye... |       The Valley of Fear      |\n",
              "| \"But why in the world woul... |      Shoscombe Old Place      |\n",
              "| \"You've been so kind to us... | The Hound of the Baskervilles |\n",
              "| It appeared to have been f... |      The Sign of the Four     |\n",
              "| Well, I happen to be clear... |      The Three Garridebs      |\n",
              "| \"You compliment me, madam.... |       The Veiled Lodger       |\n",
              "| \"The whole course of event... | The Hound of the Baskervilles |\n",
              "+-------------------------------+-------------------------------+\n",
              "+-------------------------------+-------------------------------+\n",
              "|            title.1            |          paragraph.1          |\n",
              "+-------------------------------+-------------------------------+\n",
              "| The Adventures of Sherlock... | A Scandal in Bohemia\\n    ... |\n",
              "| The Adventures of Sherlock... | To Sherlock Holmes she is ... |\n",
              "| The Adventures of Sherlock... | I had seen little of Holme... |\n",
              "| The Adventures of Sherlock... | His manner was not effusiv... |\n",
              "| The Adventures of Sherlock... | His manner was not effusiv... |\n",
              "| The Adventures of Sherlock... | \"Indeed, I should have tho... |\n",
              "| The Adventures of Sherlock... | I did so, and saw a large ... |\n",
              "| The Adventures of Sherlock... | \"Never mind him. I may wan... |\n",
              "| The Adventures of Sherlock... | \"Never mind him. I may wan... |\n",
              "| The Adventures of Sherlock... | A man entered who could ha... |\n",
              "+-------------------------------+-------------------------------+\n",
              "+------------------------+\n",
              "|        distance        |\n",
              "+------------------------+\n",
              "| 0.0008178725838661194  |\n",
              "| 1.5927478671073914e-05 |\n",
              "| 2.021901309490204e-06  |\n",
              "| 4.0605664253234863e-07 |\n",
              "| 1.2442469596862793e-06 |\n",
              "| 0.00012792646884918213 |\n",
              "| 1.1068768799304962e-05 |\n",
              "| 1.5854835510253906e-05 |\n",
              "| 6.273388862609863e-06  |\n",
              "|  4.06801700592041e-06  |\n",
              "+------------------------+\n",
              "[3390 rows x 5 columns]\n",
              "Note: Only the head of the SFrame is printed.\n",
              "You can use print_rows(num_rows=m, num_columns=n) to print more rows and columns."
            ],
            "text/html": [
              "<div style=\"max-height:1000px;max-width:1500px;overflow:auto;\"><table frame=\"box\" rules=\"cols\">\n",
              "    <tr>\n",
              "        <th style=\"padding-left: 1em; padding-right: 1em; text-align: center\">paragraph</th>\n",
              "        <th style=\"padding-left: 1em; padding-right: 1em; text-align: center\">title</th>\n",
              "        <th style=\"padding-left: 1em; padding-right: 1em; text-align: center\">title.1</th>\n",
              "        <th style=\"padding-left: 1em; padding-right: 1em; text-align: center\">paragraph.1</th>\n",
              "    </tr>\n",
              "    <tr>\n",
              "        <td style=\"padding-left: 1em; padding-right: 1em; text-align: center; vertical-align: top\">Miller Hill is an ill-<br>kept public park in the ...</td>\n",
              "        <td style=\"padding-left: 1em; padding-right: 1em; text-align: center; vertical-align: top\">The Valley of Fear</td>\n",
              "        <td style=\"padding-left: 1em; padding-right: 1em; text-align: center; vertical-align: top\">The Adventures of<br>Sherlock Holmes ...</td>\n",
              "        <td style=\"padding-left: 1em; padding-right: 1em; text-align: center; vertical-align: top\">A Scandal in Bohemia\\n<br>The Red-Headed League\\n ...</td>\n",
              "    </tr>\n",
              "    <tr>\n",
              "        <td style=\"padding-left: 1em; padding-right: 1em; text-align: center; vertical-align: top\">&quot;All this seems strange<br>to you,&quot; continued ...</td>\n",
              "        <td style=\"padding-left: 1em; padding-right: 1em; text-align: center; vertical-align: top\">A Study In Scarlet</td>\n",
              "        <td style=\"padding-left: 1em; padding-right: 1em; text-align: center; vertical-align: top\">The Adventures of<br>Sherlock Holmes ...</td>\n",
              "        <td style=\"padding-left: 1em; padding-right: 1em; text-align: center; vertical-align: top\">To Sherlock Holmes she is<br>always the woman. I have ...</td>\n",
              "    </tr>\n",
              "    <tr>\n",
              "        <td style=\"padding-left: 1em; padding-right: 1em; text-align: center; vertical-align: top\">He took up a second<br>letter which had lain ...</td>\n",
              "        <td style=\"padding-left: 1em; padding-right: 1em; text-align: center; vertical-align: top\">The Sussex Vampire</td>\n",
              "        <td style=\"padding-left: 1em; padding-right: 1em; text-align: center; vertical-align: top\">The Adventures of<br>Sherlock Holmes ...</td>\n",
              "        <td style=\"padding-left: 1em; padding-right: 1em; text-align: center; vertical-align: top\">I had seen little of<br>Holmes lately. My ...</td>\n",
              "    </tr>\n",
              "    <tr>\n",
              "        <td style=\"padding-left: 1em; padding-right: 1em; text-align: center; vertical-align: top\">As he spoke the bright,<br>yellow light in the s ...</td>\n",
              "        <td style=\"padding-left: 1em; padding-right: 1em; text-align: center; vertical-align: top\">The Valley of Fear</td>\n",
              "        <td style=\"padding-left: 1em; padding-right: 1em; text-align: center; vertical-align: top\">The Adventures of<br>Sherlock Holmes ...</td>\n",
              "        <td style=\"padding-left: 1em; padding-right: 1em; text-align: center; vertical-align: top\">His manner was not<br>effusive. It seldom was; ...</td>\n",
              "    </tr>\n",
              "    <tr>\n",
              "        <td style=\"padding-left: 1em; padding-right: 1em; text-align: center; vertical-align: top\">&quot;But why in the world<br>would anyone want to  ...</td>\n",
              "        <td style=\"padding-left: 1em; padding-right: 1em; text-align: center; vertical-align: top\">Shoscombe Old Place</td>\n",
              "        <td style=\"padding-left: 1em; padding-right: 1em; text-align: center; vertical-align: top\">The Adventures of<br>Sherlock Holmes ...</td>\n",
              "        <td style=\"padding-left: 1em; padding-right: 1em; text-align: center; vertical-align: top\">His manner was not<br>effusive. It seldom was; ...</td>\n",
              "    </tr>\n",
              "    <tr>\n",
              "        <td style=\"padding-left: 1em; padding-right: 1em; text-align: center; vertical-align: top\">&quot;You&#x27;ve been so kind to<br>us, sir, that I should ...</td>\n",
              "        <td style=\"padding-left: 1em; padding-right: 1em; text-align: center; vertical-align: top\">The Hound of the<br>Baskervilles ...</td>\n",
              "        <td style=\"padding-left: 1em; padding-right: 1em; text-align: center; vertical-align: top\">The Adventures of<br>Sherlock Holmes ...</td>\n",
              "        <td style=\"padding-left: 1em; padding-right: 1em; text-align: center; vertical-align: top\">&quot;Indeed, I should have<br>thought a little more. ...</td>\n",
              "    </tr>\n",
              "    <tr>\n",
              "        <td style=\"padding-left: 1em; padding-right: 1em; text-align: center; vertical-align: top\">It appeared to have been<br>fitted up as a chemical ...</td>\n",
              "        <td style=\"padding-left: 1em; padding-right: 1em; text-align: center; vertical-align: top\">The Sign of the Four</td>\n",
              "        <td style=\"padding-left: 1em; padding-right: 1em; text-align: center; vertical-align: top\">The Adventures of<br>Sherlock Holmes ...</td>\n",
              "        <td style=\"padding-left: 1em; padding-right: 1em; text-align: center; vertical-align: top\">I did so, and saw a large<br>&quot;E&quot; with a small &quot;g,&quot; a ...</td>\n",
              "    </tr>\n",
              "    <tr>\n",
              "        <td style=\"padding-left: 1em; padding-right: 1em; text-align: center; vertical-align: top\">Well, I happen to be<br>clear to-morrow ...</td>\n",
              "        <td style=\"padding-left: 1em; padding-right: 1em; text-align: center; vertical-align: top\">The Three Garridebs</td>\n",
              "        <td style=\"padding-left: 1em; padding-right: 1em; text-align: center; vertical-align: top\">The Adventures of<br>Sherlock Holmes ...</td>\n",
              "        <td style=\"padding-left: 1em; padding-right: 1em; text-align: center; vertical-align: top\">&quot;Never mind him. I may<br>want your help, and so ...</td>\n",
              "    </tr>\n",
              "    <tr>\n",
              "        <td style=\"padding-left: 1em; padding-right: 1em; text-align: center; vertical-align: top\">&quot;You compliment me,<br>madam. At the same time, ...</td>\n",
              "        <td style=\"padding-left: 1em; padding-right: 1em; text-align: center; vertical-align: top\">The Veiled Lodger</td>\n",
              "        <td style=\"padding-left: 1em; padding-right: 1em; text-align: center; vertical-align: top\">The Adventures of<br>Sherlock Holmes ...</td>\n",
              "        <td style=\"padding-left: 1em; padding-right: 1em; text-align: center; vertical-align: top\">&quot;Never mind him. I may<br>want your help, and so ...</td>\n",
              "    </tr>\n",
              "    <tr>\n",
              "        <td style=\"padding-left: 1em; padding-right: 1em; text-align: center; vertical-align: top\">&quot;The whole course of<br>events,&quot; said Holmes, ...</td>\n",
              "        <td style=\"padding-left: 1em; padding-right: 1em; text-align: center; vertical-align: top\">The Hound of the<br>Baskervilles ...</td>\n",
              "        <td style=\"padding-left: 1em; padding-right: 1em; text-align: center; vertical-align: top\">The Adventures of<br>Sherlock Holmes ...</td>\n",
              "        <td style=\"padding-left: 1em; padding-right: 1em; text-align: center; vertical-align: top\">A man entered who could<br>hardly have been less ...</td>\n",
              "    </tr>\n",
              "</table>\n",
              "<table frame=\"box\" rules=\"cols\">\n",
              "    <tr>\n",
              "        <th style=\"padding-left: 1em; padding-right: 1em; text-align: center\">distance</th>\n",
              "    </tr>\n",
              "    <tr>\n",
              "        <td style=\"padding-left: 1em; padding-right: 1em; text-align: center; vertical-align: top\">0.0008178725838661194</td>\n",
              "    </tr>\n",
              "    <tr>\n",
              "        <td style=\"padding-left: 1em; padding-right: 1em; text-align: center; vertical-align: top\">1.5927478671073914e-05</td>\n",
              "    </tr>\n",
              "    <tr>\n",
              "        <td style=\"padding-left: 1em; padding-right: 1em; text-align: center; vertical-align: top\">2.021901309490204e-06</td>\n",
              "    </tr>\n",
              "    <tr>\n",
              "        <td style=\"padding-left: 1em; padding-right: 1em; text-align: center; vertical-align: top\">4.0605664253234863e-07</td>\n",
              "    </tr>\n",
              "    <tr>\n",
              "        <td style=\"padding-left: 1em; padding-right: 1em; text-align: center; vertical-align: top\">1.2442469596862793e-06</td>\n",
              "    </tr>\n",
              "    <tr>\n",
              "        <td style=\"padding-left: 1em; padding-right: 1em; text-align: center; vertical-align: top\">0.00012792646884918213</td>\n",
              "    </tr>\n",
              "    <tr>\n",
              "        <td style=\"padding-left: 1em; padding-right: 1em; text-align: center; vertical-align: top\">1.1068768799304962e-05</td>\n",
              "    </tr>\n",
              "    <tr>\n",
              "        <td style=\"padding-left: 1em; padding-right: 1em; text-align: center; vertical-align: top\">1.5854835510253906e-05</td>\n",
              "    </tr>\n",
              "    <tr>\n",
              "        <td style=\"padding-left: 1em; padding-right: 1em; text-align: center; vertical-align: top\">6.273388862609863e-06</td>\n",
              "    </tr>\n",
              "    <tr>\n",
              "        <td style=\"padding-left: 1em; padding-right: 1em; text-align: center; vertical-align: top\">4.06801700592041e-06</td>\n",
              "    </tr>\n",
              "</table>\n",
              "[3390 rows x 5 columns]<br/>Note: Only the head of the SFrame is printed.<br/>You can use print_rows(num_rows=m, num_columns=n) to print more rows and columns.\n",
              "</div>"
            ]
          },
          "metadata": {},
          "execution_count": 84
        }
      ]
    },
    {
      "cell_type": "markdown",
      "source": [
        "Let's look at some the similar paragraphs."
      ],
      "metadata": {
        "id": "CkZ6ZOQnds06"
      }
    },
    {
      "cell_type": "code",
      "source": [
        "print(sf_similar[1][\"paragraph\"])\n",
        "print(\"-\"*100)\n",
        "print(sf_similar[1][\"paragraph.1\"])"
      ],
      "metadata": {
        "colab": {
          "base_uri": "https://localhost:8080/"
        },
        "id": "ZoRiXMANdzZz",
        "outputId": "d0f370db-5381-42c2-b6d1-2247b34f847c"
      },
      "execution_count": null,
      "outputs": [
        {
          "output_type": "stream",
          "name": "stdout",
          "text": [
            "\"All this seems strange to you,\" continued Holmes, \"because you\n",
            "     failed at the beginning of the inquiry to grasp the importance of the\n",
            "     single real clue which was presented to you. I had the good fortune\n",
            "     to seize upon that, and everything which has occurred since then has\n",
            "     served to confirm my original supposition, and, indeed, was the\n",
            "     logical sequence of it. Hence things which have perplexed you and\n",
            "     made the case more obscure, have served to enlighten me and to\n",
            "     strengthen my conclusions. It is a mistake to confound strangeness\n",
            "     with mystery. The most commonplace crime is often the most mysterious\n",
            "     because it presents no new or special features from which deductions\n",
            "     may be drawn. This murder would have been infinitely more difficult\n",
            "     to unravel had the body of the victim been simply found lying in the\n",
            "     roadway without any of those outré and sensational accompaniments\n",
            "     which have rendered it remarkable. These strange details, far from\n",
            "     making the case more difficult, have really had the effect of making\n",
            "     it less so.\"\n",
            "----------------------------------------------------------------------------------------------------\n",
            "To Sherlock Holmes she is always the woman. I have seldom heard him\n",
            "     mention her under any other name. In his eyes she eclipses and\n",
            "     predominates the whole of her sex. It was not that he felt any\n",
            "     emotion akin to love for Irene Adler. All emotions, and that one\n",
            "     particularly, were abhorrent to his cold, precise but admirably\n",
            "     balanced mind. He was, I take it, the most perfect reasoning and\n",
            "     observing machine that the world has seen, but as a lover he would\n",
            "     have placed himself in a false position. He never spoke of the softer\n",
            "     passions, save with a gibe and a sneer. They were admirable things\n",
            "     for the observer--excellent for drawing the veil from men's motives\n",
            "     and actions. But for the trained reasoner to admit such intrusions\n",
            "     into his own delicate and finely adjusted temperament was to\n",
            "     introduce a distracting factor which might throw a doubt upon all his\n",
            "     mental results. Grit in a sensitive instrument, or a crack in one of\n",
            "     his own high-power lenses, would not be more disturbing than a strong\n",
            "     emotion in a nature such as his. And yet there was but one woman to\n",
            "     him, and that woman was the late Irene Adler, of dubious and\n",
            "     questionable memory.\n"
          ]
        }
      ]
    },
    {
      "cell_type": "markdown",
      "source": [
        "# END!"
      ],
      "metadata": {
        "id": "O7vkHfW2fnGj"
      }
    }
  ],
  "metadata": {
    "kernelspec": {
      "display_name": "grammarrules-R9LSO1qf-py3.10",
      "language": "python",
      "name": "python3"
    },
    "language_info": {
      "codemirror_mode": {
        "name": "ipython",
        "version": 3
      },
      "file_extension": ".py",
      "mimetype": "text/x-python",
      "name": "python",
      "nbconvert_exporter": "python",
      "pygments_lexer": "ipython3",
      "version": "3.10.4"
    },
    "orig_nbformat": 4,
    "vscode": {
      "interpreter": {
        "hash": "350e372a59c6a2174c4996d01ba34ddc044542d9850a5b2a01946a38bca0736a"
      }
    },
    "colab": {
      "provenance": [],
      "include_colab_link": true
    },
    "accelerator": "GPU",
    "gpuClass": "standard",
    "widgets": {
      "application/vnd.jupyter.widget-state+json": {
        "dd6afa0730b54acb925db024780da0f7": {
          "model_module": "@jupyter-widgets/controls",
          "model_name": "VBoxModel",
          "model_module_version": "1.5.0",
          "state": {
            "_dom_classes": [],
            "_model_module": "@jupyter-widgets/controls",
            "_model_module_version": "1.5.0",
            "_model_name": "VBoxModel",
            "_view_count": null,
            "_view_module": "@jupyter-widgets/controls",
            "_view_module_version": "1.5.0",
            "_view_name": "VBoxView",
            "box_style": "",
            "children": [
              "IPY_MODEL_26440a8202a44bca96287a537f748799",
              "IPY_MODEL_bbc2827715a34004b68df5a465350aab",
              "IPY_MODEL_595e14fa2e6f4490b32509507eec41e5",
              "IPY_MODEL_e4d35d3d634d44f5a7f5b7b3dd4ab8b6",
              "IPY_MODEL_df297cf3a7324181972afc55c69f60b7",
              "IPY_MODEL_6bf5e6b6f72847d9b3656fc198d9faa1",
              "IPY_MODEL_d6e4609b938842d5891872720639e3aa",
              "IPY_MODEL_0b7bed63e22a4dd5bad7e22e7df017ec",
              "IPY_MODEL_6b3b9aa0e56249e096929ef6a69570ff",
              "IPY_MODEL_d3a7680325114ee7a03ce2c4e4c952b2"
            ],
            "layout": "IPY_MODEL_34d6386def9c457f8a19c11892d39d59"
          }
        },
        "26440a8202a44bca96287a537f748799": {
          "model_module": "@jupyter-widgets/controls",
          "model_name": "HBoxModel",
          "model_module_version": "1.5.0",
          "state": {
            "_dom_classes": [],
            "_model_module": "@jupyter-widgets/controls",
            "_model_module_version": "1.5.0",
            "_model_name": "HBoxModel",
            "_view_count": null,
            "_view_module": "@jupyter-widgets/controls",
            "_view_module_version": "1.5.0",
            "_view_name": "HBoxView",
            "box_style": "",
            "children": [
              "IPY_MODEL_4cecfb176f1a4eee8411c7762a466a7b",
              "IPY_MODEL_64e8681e08734420937524d63adb76e2"
            ],
            "layout": "IPY_MODEL_9a58f11bf01a4386af85e486ba260dd0"
          }
        },
        "bbc2827715a34004b68df5a465350aab": {
          "model_module": "@jupyter-widgets/controls",
          "model_name": "HBoxModel",
          "model_module_version": "1.5.0",
          "state": {
            "_dom_classes": [],
            "_model_module": "@jupyter-widgets/controls",
            "_model_module_version": "1.5.0",
            "_model_name": "HBoxModel",
            "_view_count": null,
            "_view_module": "@jupyter-widgets/controls",
            "_view_module_version": "1.5.0",
            "_view_name": "HBoxView",
            "box_style": "",
            "children": [
              "IPY_MODEL_283b2f1797bb4b44943b41da6b3423e8",
              "IPY_MODEL_12f5ba26937140a39ea42b6925f8c68e"
            ],
            "layout": "IPY_MODEL_06dfafda9db64a7dab73a5acd9fca01e"
          }
        },
        "595e14fa2e6f4490b32509507eec41e5": {
          "model_module": "@jupyter-widgets/controls",
          "model_name": "HBoxModel",
          "model_module_version": "1.5.0",
          "state": {
            "_dom_classes": [],
            "_model_module": "@jupyter-widgets/controls",
            "_model_module_version": "1.5.0",
            "_model_name": "HBoxModel",
            "_view_count": null,
            "_view_module": "@jupyter-widgets/controls",
            "_view_module_version": "1.5.0",
            "_view_name": "HBoxView",
            "box_style": "",
            "children": [
              "IPY_MODEL_2f0ea792044b4c489cd0214069343e20",
              "IPY_MODEL_1b3904c2449343ceaebdd3838af3d4f7"
            ],
            "layout": "IPY_MODEL_02a8c908d5d9467db3d5642ee581181c"
          }
        },
        "e4d35d3d634d44f5a7f5b7b3dd4ab8b6": {
          "model_module": "@jupyter-widgets/controls",
          "model_name": "HBoxModel",
          "model_module_version": "1.5.0",
          "state": {
            "_dom_classes": [],
            "_model_module": "@jupyter-widgets/controls",
            "_model_module_version": "1.5.0",
            "_model_name": "HBoxModel",
            "_view_count": null,
            "_view_module": "@jupyter-widgets/controls",
            "_view_module_version": "1.5.0",
            "_view_name": "HBoxView",
            "box_style": "",
            "children": [
              "IPY_MODEL_eb06bd4f8d394621a309101cc33e2b6a",
              "IPY_MODEL_f3118ad813ac4d8a8199faf9d80ddeb5"
            ],
            "layout": "IPY_MODEL_aa53ad5e15364343ac58da9fcda782b4"
          }
        },
        "df297cf3a7324181972afc55c69f60b7": {
          "model_module": "@jupyter-widgets/controls",
          "model_name": "HBoxModel",
          "model_module_version": "1.5.0",
          "state": {
            "_dom_classes": [],
            "_model_module": "@jupyter-widgets/controls",
            "_model_module_version": "1.5.0",
            "_model_name": "HBoxModel",
            "_view_count": null,
            "_view_module": "@jupyter-widgets/controls",
            "_view_module_version": "1.5.0",
            "_view_name": "HBoxView",
            "box_style": "",
            "children": [
              "IPY_MODEL_fd53a839a7d14fc298fbd467030c3af1",
              "IPY_MODEL_421e8fadd6c048d7bf801da10bd461cd"
            ],
            "layout": "IPY_MODEL_8c125db3373646a7ab6a225d3c92aa5a"
          }
        },
        "6bf5e6b6f72847d9b3656fc198d9faa1": {
          "model_module": "@jupyter-widgets/controls",
          "model_name": "HBoxModel",
          "model_module_version": "1.5.0",
          "state": {
            "_dom_classes": [],
            "_model_module": "@jupyter-widgets/controls",
            "_model_module_version": "1.5.0",
            "_model_name": "HBoxModel",
            "_view_count": null,
            "_view_module": "@jupyter-widgets/controls",
            "_view_module_version": "1.5.0",
            "_view_name": "HBoxView",
            "box_style": "",
            "children": [
              "IPY_MODEL_b23f86eb7c674fb5978258a9ee3a8fc7",
              "IPY_MODEL_6d8730959c6c4898959293df57ee8415"
            ],
            "layout": "IPY_MODEL_ac6e66d23e1c464a9bc57c90c03513d2"
          }
        },
        "d6e4609b938842d5891872720639e3aa": {
          "model_module": "@jupyter-widgets/controls",
          "model_name": "HBoxModel",
          "model_module_version": "1.5.0",
          "state": {
            "_dom_classes": [],
            "_model_module": "@jupyter-widgets/controls",
            "_model_module_version": "1.5.0",
            "_model_name": "HBoxModel",
            "_view_count": null,
            "_view_module": "@jupyter-widgets/controls",
            "_view_module_version": "1.5.0",
            "_view_name": "HBoxView",
            "box_style": "",
            "children": [
              "IPY_MODEL_8ade0ed116d74689b1dc8b9d75b317b8",
              "IPY_MODEL_edd33cefe7f34fe3805b3330d9556c80"
            ],
            "layout": "IPY_MODEL_c3ebdc2f4aa9422dba676994c63b1632"
          }
        },
        "0b7bed63e22a4dd5bad7e22e7df017ec": {
          "model_module": "@jupyter-widgets/controls",
          "model_name": "HBoxModel",
          "model_module_version": "1.5.0",
          "state": {
            "_dom_classes": [],
            "_model_module": "@jupyter-widgets/controls",
            "_model_module_version": "1.5.0",
            "_model_name": "HBoxModel",
            "_view_count": null,
            "_view_module": "@jupyter-widgets/controls",
            "_view_module_version": "1.5.0",
            "_view_name": "HBoxView",
            "box_style": "",
            "children": [
              "IPY_MODEL_66271910313c4ca5ab3304cb5d075fab",
              "IPY_MODEL_87ce52b2628645ffb8948b39376c979d"
            ],
            "layout": "IPY_MODEL_91f62409971c4f46846bc48672f11462"
          }
        },
        "6b3b9aa0e56249e096929ef6a69570ff": {
          "model_module": "@jupyter-widgets/controls",
          "model_name": "HBoxModel",
          "model_module_version": "1.5.0",
          "state": {
            "_dom_classes": [],
            "_model_module": "@jupyter-widgets/controls",
            "_model_module_version": "1.5.0",
            "_model_name": "HBoxModel",
            "_view_count": null,
            "_view_module": "@jupyter-widgets/controls",
            "_view_module_version": "1.5.0",
            "_view_name": "HBoxView",
            "box_style": "",
            "children": [
              "IPY_MODEL_9d90880a9a5546f589ab73607197078f",
              "IPY_MODEL_fa27b4320a3e406e9a4859bc64e23bfe"
            ],
            "layout": "IPY_MODEL_3158428101fc4e1e99cef654967c3c54"
          }
        },
        "d3a7680325114ee7a03ce2c4e4c952b2": {
          "model_module": "@jupyter-widgets/controls",
          "model_name": "HBoxModel",
          "model_module_version": "1.5.0",
          "state": {
            "_dom_classes": [],
            "_model_module": "@jupyter-widgets/controls",
            "_model_module_version": "1.5.0",
            "_model_name": "HBoxModel",
            "_view_count": null,
            "_view_module": "@jupyter-widgets/controls",
            "_view_module_version": "1.5.0",
            "_view_name": "HBoxView",
            "box_style": "",
            "children": [
              "IPY_MODEL_19146253bbfd419780cd732d4c3564c6",
              "IPY_MODEL_8957a56b23cc4cdf8c58db94f83754d0"
            ],
            "layout": "IPY_MODEL_be6b50155002479e9d459a5c1b1400b0"
          }
        },
        "34d6386def9c457f8a19c11892d39d59": {
          "model_module": "@jupyter-widgets/base",
          "model_name": "LayoutModel",
          "model_module_version": "1.2.0",
          "state": {
            "_model_module": "@jupyter-widgets/base",
            "_model_module_version": "1.2.0",
            "_model_name": "LayoutModel",
            "_view_count": null,
            "_view_module": "@jupyter-widgets/base",
            "_view_module_version": "1.2.0",
            "_view_name": "LayoutView",
            "align_content": null,
            "align_items": null,
            "align_self": null,
            "border": null,
            "bottom": null,
            "display": null,
            "flex": null,
            "flex_flow": null,
            "grid_area": null,
            "grid_auto_columns": null,
            "grid_auto_flow": null,
            "grid_auto_rows": null,
            "grid_column": null,
            "grid_gap": null,
            "grid_row": null,
            "grid_template_areas": null,
            "grid_template_columns": null,
            "grid_template_rows": null,
            "height": null,
            "justify_content": null,
            "justify_items": null,
            "left": null,
            "margin": null,
            "max_height": null,
            "max_width": null,
            "min_height": null,
            "min_width": null,
            "object_fit": null,
            "object_position": null,
            "order": null,
            "overflow": null,
            "overflow_x": null,
            "overflow_y": null,
            "padding": null,
            "right": null,
            "top": null,
            "visibility": null,
            "width": null
          }
        },
        "4cecfb176f1a4eee8411c7762a466a7b": {
          "model_module": "@jupyter-widgets/controls",
          "model_name": "IntProgressModel",
          "model_module_version": "1.5.0",
          "state": {
            "_dom_classes": [],
            "_model_module": "@jupyter-widgets/controls",
            "_model_module_version": "1.5.0",
            "_model_name": "IntProgressModel",
            "_view_count": null,
            "_view_module": "@jupyter-widgets/controls",
            "_view_module_version": "1.5.0",
            "_view_name": "ProgressView",
            "bar_style": "success",
            "description": "100.00%",
            "description_tooltip": null,
            "layout": "IPY_MODEL_120f5a4ee57349b9bd566335710b4526",
            "max": 7,
            "min": 0,
            "orientation": "horizontal",
            "style": "IPY_MODEL_22311daf08a248eb92d632eabd32a3c6",
            "value": 7
          }
        },
        "64e8681e08734420937524d63adb76e2": {
          "model_module": "@jupyter-widgets/controls",
          "model_name": "LabelModel",
          "model_module_version": "1.5.0",
          "state": {
            "_dom_classes": [],
            "_model_module": "@jupyter-widgets/controls",
            "_model_module_version": "1.5.0",
            "_model_name": "LabelModel",
            "_view_count": null,
            "_view_module": "@jupyter-widgets/controls",
            "_view_module_version": "1.5.0",
            "_view_name": "LabelView",
            "description": "",
            "description_tooltip": null,
            "layout": "IPY_MODEL_2cad399916964dc9825ca185335e2ce3",
            "placeholder": "​",
            "style": "IPY_MODEL_0cf01f2fb60b4915a0bfc23fd3c1d270",
            "value": "7 / 7"
          }
        },
        "9a58f11bf01a4386af85e486ba260dd0": {
          "model_module": "@jupyter-widgets/base",
          "model_name": "LayoutModel",
          "model_module_version": "1.2.0",
          "state": {
            "_model_module": "@jupyter-widgets/base",
            "_model_module_version": "1.2.0",
            "_model_name": "LayoutModel",
            "_view_count": null,
            "_view_module": "@jupyter-widgets/base",
            "_view_module_version": "1.2.0",
            "_view_name": "LayoutView",
            "align_content": null,
            "align_items": null,
            "align_self": null,
            "border": null,
            "bottom": null,
            "display": null,
            "flex": null,
            "flex_flow": null,
            "grid_area": null,
            "grid_auto_columns": null,
            "grid_auto_flow": null,
            "grid_auto_rows": null,
            "grid_column": null,
            "grid_gap": null,
            "grid_row": null,
            "grid_template_areas": null,
            "grid_template_columns": null,
            "grid_template_rows": null,
            "height": null,
            "justify_content": null,
            "justify_items": null,
            "left": null,
            "margin": null,
            "max_height": null,
            "max_width": null,
            "min_height": null,
            "min_width": null,
            "object_fit": null,
            "object_position": null,
            "order": null,
            "overflow": null,
            "overflow_x": null,
            "overflow_y": null,
            "padding": null,
            "right": null,
            "top": null,
            "visibility": null,
            "width": null
          }
        },
        "283b2f1797bb4b44943b41da6b3423e8": {
          "model_module": "@jupyter-widgets/controls",
          "model_name": "IntProgressModel",
          "model_module_version": "1.5.0",
          "state": {
            "_dom_classes": [],
            "_model_module": "@jupyter-widgets/controls",
            "_model_module_version": "1.5.0",
            "_model_name": "IntProgressModel",
            "_view_count": null,
            "_view_module": "@jupyter-widgets/controls",
            "_view_module_version": "1.5.0",
            "_view_name": "ProgressView",
            "bar_style": "success",
            "description": "100.00%",
            "description_tooltip": null,
            "layout": "IPY_MODEL_114313fa0a9a4251a7a69ef99d14a29c",
            "max": 7,
            "min": 0,
            "orientation": "horizontal",
            "style": "IPY_MODEL_af89bf24bcdf46b39f1095d1ba4fc7f9",
            "value": 7
          }
        },
        "12f5ba26937140a39ea42b6925f8c68e": {
          "model_module": "@jupyter-widgets/controls",
          "model_name": "LabelModel",
          "model_module_version": "1.5.0",
          "state": {
            "_dom_classes": [],
            "_model_module": "@jupyter-widgets/controls",
            "_model_module_version": "1.5.0",
            "_model_name": "LabelModel",
            "_view_count": null,
            "_view_module": "@jupyter-widgets/controls",
            "_view_module_version": "1.5.0",
            "_view_name": "LabelView",
            "description": "",
            "description_tooltip": null,
            "layout": "IPY_MODEL_cbfac6bd8b6343259e36ae959e5e0511",
            "placeholder": "​",
            "style": "IPY_MODEL_160479d37744463796262f694afe0533",
            "value": "7 / 7"
          }
        },
        "06dfafda9db64a7dab73a5acd9fca01e": {
          "model_module": "@jupyter-widgets/base",
          "model_name": "LayoutModel",
          "model_module_version": "1.2.0",
          "state": {
            "_model_module": "@jupyter-widgets/base",
            "_model_module_version": "1.2.0",
            "_model_name": "LayoutModel",
            "_view_count": null,
            "_view_module": "@jupyter-widgets/base",
            "_view_module_version": "1.2.0",
            "_view_name": "LayoutView",
            "align_content": null,
            "align_items": null,
            "align_self": null,
            "border": null,
            "bottom": null,
            "display": null,
            "flex": null,
            "flex_flow": null,
            "grid_area": null,
            "grid_auto_columns": null,
            "grid_auto_flow": null,
            "grid_auto_rows": null,
            "grid_column": null,
            "grid_gap": null,
            "grid_row": null,
            "grid_template_areas": null,
            "grid_template_columns": null,
            "grid_template_rows": null,
            "height": null,
            "justify_content": null,
            "justify_items": null,
            "left": null,
            "margin": null,
            "max_height": null,
            "max_width": null,
            "min_height": null,
            "min_width": null,
            "object_fit": null,
            "object_position": null,
            "order": null,
            "overflow": null,
            "overflow_x": null,
            "overflow_y": null,
            "padding": null,
            "right": null,
            "top": null,
            "visibility": null,
            "width": null
          }
        },
        "2f0ea792044b4c489cd0214069343e20": {
          "model_module": "@jupyter-widgets/controls",
          "model_name": "IntProgressModel",
          "model_module_version": "1.5.0",
          "state": {
            "_dom_classes": [],
            "_model_module": "@jupyter-widgets/controls",
            "_model_module_version": "1.5.0",
            "_model_name": "IntProgressModel",
            "_view_count": null,
            "_view_module": "@jupyter-widgets/controls",
            "_view_module_version": "1.5.0",
            "_view_name": "ProgressView",
            "bar_style": "success",
            "description": "100.00%",
            "description_tooltip": null,
            "layout": "IPY_MODEL_31941770cbb54847b6f0a39b97a3372e",
            "max": 7,
            "min": 0,
            "orientation": "horizontal",
            "style": "IPY_MODEL_b4bd17ae684c4d7db3f3169f3e1dc698",
            "value": 7
          }
        },
        "1b3904c2449343ceaebdd3838af3d4f7": {
          "model_module": "@jupyter-widgets/controls",
          "model_name": "LabelModel",
          "model_module_version": "1.5.0",
          "state": {
            "_dom_classes": [],
            "_model_module": "@jupyter-widgets/controls",
            "_model_module_version": "1.5.0",
            "_model_name": "LabelModel",
            "_view_count": null,
            "_view_module": "@jupyter-widgets/controls",
            "_view_module_version": "1.5.0",
            "_view_name": "LabelView",
            "description": "",
            "description_tooltip": null,
            "layout": "IPY_MODEL_99994d441b404b4ea91ce9334e909f38",
            "placeholder": "​",
            "style": "IPY_MODEL_23fad4a55b0f41fc87b45fd0f476b0bf",
            "value": "7 / 7"
          }
        },
        "02a8c908d5d9467db3d5642ee581181c": {
          "model_module": "@jupyter-widgets/base",
          "model_name": "LayoutModel",
          "model_module_version": "1.2.0",
          "state": {
            "_model_module": "@jupyter-widgets/base",
            "_model_module_version": "1.2.0",
            "_model_name": "LayoutModel",
            "_view_count": null,
            "_view_module": "@jupyter-widgets/base",
            "_view_module_version": "1.2.0",
            "_view_name": "LayoutView",
            "align_content": null,
            "align_items": null,
            "align_self": null,
            "border": null,
            "bottom": null,
            "display": null,
            "flex": null,
            "flex_flow": null,
            "grid_area": null,
            "grid_auto_columns": null,
            "grid_auto_flow": null,
            "grid_auto_rows": null,
            "grid_column": null,
            "grid_gap": null,
            "grid_row": null,
            "grid_template_areas": null,
            "grid_template_columns": null,
            "grid_template_rows": null,
            "height": null,
            "justify_content": null,
            "justify_items": null,
            "left": null,
            "margin": null,
            "max_height": null,
            "max_width": null,
            "min_height": null,
            "min_width": null,
            "object_fit": null,
            "object_position": null,
            "order": null,
            "overflow": null,
            "overflow_x": null,
            "overflow_y": null,
            "padding": null,
            "right": null,
            "top": null,
            "visibility": null,
            "width": null
          }
        },
        "eb06bd4f8d394621a309101cc33e2b6a": {
          "model_module": "@jupyter-widgets/controls",
          "model_name": "IntProgressModel",
          "model_module_version": "1.5.0",
          "state": {
            "_dom_classes": [],
            "_model_module": "@jupyter-widgets/controls",
            "_model_module_version": "1.5.0",
            "_model_name": "IntProgressModel",
            "_view_count": null,
            "_view_module": "@jupyter-widgets/controls",
            "_view_module_version": "1.5.0",
            "_view_name": "ProgressView",
            "bar_style": "success",
            "description": "100.00%",
            "description_tooltip": null,
            "layout": "IPY_MODEL_3992caf6739a402cb9b298c8f9e0891a",
            "max": 7,
            "min": 0,
            "orientation": "horizontal",
            "style": "IPY_MODEL_aab41051320b475eb615ef3c7c2057c0",
            "value": 7
          }
        },
        "f3118ad813ac4d8a8199faf9d80ddeb5": {
          "model_module": "@jupyter-widgets/controls",
          "model_name": "LabelModel",
          "model_module_version": "1.5.0",
          "state": {
            "_dom_classes": [],
            "_model_module": "@jupyter-widgets/controls",
            "_model_module_version": "1.5.0",
            "_model_name": "LabelModel",
            "_view_count": null,
            "_view_module": "@jupyter-widgets/controls",
            "_view_module_version": "1.5.0",
            "_view_name": "LabelView",
            "description": "",
            "description_tooltip": null,
            "layout": "IPY_MODEL_f3fc8c052d104486a1740b4c224dba9a",
            "placeholder": "​",
            "style": "IPY_MODEL_8df644e34b9749909ef5e43612eb6335",
            "value": "7 / 7"
          }
        },
        "aa53ad5e15364343ac58da9fcda782b4": {
          "model_module": "@jupyter-widgets/base",
          "model_name": "LayoutModel",
          "model_module_version": "1.2.0",
          "state": {
            "_model_module": "@jupyter-widgets/base",
            "_model_module_version": "1.2.0",
            "_model_name": "LayoutModel",
            "_view_count": null,
            "_view_module": "@jupyter-widgets/base",
            "_view_module_version": "1.2.0",
            "_view_name": "LayoutView",
            "align_content": null,
            "align_items": null,
            "align_self": null,
            "border": null,
            "bottom": null,
            "display": null,
            "flex": null,
            "flex_flow": null,
            "grid_area": null,
            "grid_auto_columns": null,
            "grid_auto_flow": null,
            "grid_auto_rows": null,
            "grid_column": null,
            "grid_gap": null,
            "grid_row": null,
            "grid_template_areas": null,
            "grid_template_columns": null,
            "grid_template_rows": null,
            "height": null,
            "justify_content": null,
            "justify_items": null,
            "left": null,
            "margin": null,
            "max_height": null,
            "max_width": null,
            "min_height": null,
            "min_width": null,
            "object_fit": null,
            "object_position": null,
            "order": null,
            "overflow": null,
            "overflow_x": null,
            "overflow_y": null,
            "padding": null,
            "right": null,
            "top": null,
            "visibility": null,
            "width": null
          }
        },
        "fd53a839a7d14fc298fbd467030c3af1": {
          "model_module": "@jupyter-widgets/controls",
          "model_name": "IntProgressModel",
          "model_module_version": "1.5.0",
          "state": {
            "_dom_classes": [],
            "_model_module": "@jupyter-widgets/controls",
            "_model_module_version": "1.5.0",
            "_model_name": "IntProgressModel",
            "_view_count": null,
            "_view_module": "@jupyter-widgets/controls",
            "_view_module_version": "1.5.0",
            "_view_name": "ProgressView",
            "bar_style": "success",
            "description": "100.00%",
            "description_tooltip": null,
            "layout": "IPY_MODEL_b98f863211054789afd72331c2a386a5",
            "max": 6,
            "min": 0,
            "orientation": "horizontal",
            "style": "IPY_MODEL_2ab1b35fad1448cca639843021b9b1fa",
            "value": 6
          }
        },
        "421e8fadd6c048d7bf801da10bd461cd": {
          "model_module": "@jupyter-widgets/controls",
          "model_name": "LabelModel",
          "model_module_version": "1.5.0",
          "state": {
            "_dom_classes": [],
            "_model_module": "@jupyter-widgets/controls",
            "_model_module_version": "1.5.0",
            "_model_name": "LabelModel",
            "_view_count": null,
            "_view_module": "@jupyter-widgets/controls",
            "_view_module_version": "1.5.0",
            "_view_name": "LabelView",
            "description": "",
            "description_tooltip": null,
            "layout": "IPY_MODEL_90a4b348c7a24a21b4a0dc665690616b",
            "placeholder": "​",
            "style": "IPY_MODEL_06be2854f20749c592d7a6ab306b231e",
            "value": "6 / 6"
          }
        },
        "8c125db3373646a7ab6a225d3c92aa5a": {
          "model_module": "@jupyter-widgets/base",
          "model_name": "LayoutModel",
          "model_module_version": "1.2.0",
          "state": {
            "_model_module": "@jupyter-widgets/base",
            "_model_module_version": "1.2.0",
            "_model_name": "LayoutModel",
            "_view_count": null,
            "_view_module": "@jupyter-widgets/base",
            "_view_module_version": "1.2.0",
            "_view_name": "LayoutView",
            "align_content": null,
            "align_items": null,
            "align_self": null,
            "border": null,
            "bottom": null,
            "display": null,
            "flex": null,
            "flex_flow": null,
            "grid_area": null,
            "grid_auto_columns": null,
            "grid_auto_flow": null,
            "grid_auto_rows": null,
            "grid_column": null,
            "grid_gap": null,
            "grid_row": null,
            "grid_template_areas": null,
            "grid_template_columns": null,
            "grid_template_rows": null,
            "height": null,
            "justify_content": null,
            "justify_items": null,
            "left": null,
            "margin": null,
            "max_height": null,
            "max_width": null,
            "min_height": null,
            "min_width": null,
            "object_fit": null,
            "object_position": null,
            "order": null,
            "overflow": null,
            "overflow_x": null,
            "overflow_y": null,
            "padding": null,
            "right": null,
            "top": null,
            "visibility": null,
            "width": null
          }
        },
        "b23f86eb7c674fb5978258a9ee3a8fc7": {
          "model_module": "@jupyter-widgets/controls",
          "model_name": "IntProgressModel",
          "model_module_version": "1.5.0",
          "state": {
            "_dom_classes": [],
            "_model_module": "@jupyter-widgets/controls",
            "_model_module_version": "1.5.0",
            "_model_name": "IntProgressModel",
            "_view_count": null,
            "_view_module": "@jupyter-widgets/controls",
            "_view_module_version": "1.5.0",
            "_view_name": "ProgressView",
            "bar_style": "success",
            "description": "100.00%",
            "description_tooltip": null,
            "layout": "IPY_MODEL_08e3e64273cd4e4198eda35a8dd40078",
            "max": 6,
            "min": 0,
            "orientation": "horizontal",
            "style": "IPY_MODEL_346dc36c5bdf4e4295fba3dc495e5ea4",
            "value": 6
          }
        },
        "6d8730959c6c4898959293df57ee8415": {
          "model_module": "@jupyter-widgets/controls",
          "model_name": "LabelModel",
          "model_module_version": "1.5.0",
          "state": {
            "_dom_classes": [],
            "_model_module": "@jupyter-widgets/controls",
            "_model_module_version": "1.5.0",
            "_model_name": "LabelModel",
            "_view_count": null,
            "_view_module": "@jupyter-widgets/controls",
            "_view_module_version": "1.5.0",
            "_view_name": "LabelView",
            "description": "",
            "description_tooltip": null,
            "layout": "IPY_MODEL_fd8d824945854ae5b369d4b9c50a4642",
            "placeholder": "​",
            "style": "IPY_MODEL_e925a966c0724744a287355fdddb24ac",
            "value": "6 / 6"
          }
        },
        "ac6e66d23e1c464a9bc57c90c03513d2": {
          "model_module": "@jupyter-widgets/base",
          "model_name": "LayoutModel",
          "model_module_version": "1.2.0",
          "state": {
            "_model_module": "@jupyter-widgets/base",
            "_model_module_version": "1.2.0",
            "_model_name": "LayoutModel",
            "_view_count": null,
            "_view_module": "@jupyter-widgets/base",
            "_view_module_version": "1.2.0",
            "_view_name": "LayoutView",
            "align_content": null,
            "align_items": null,
            "align_self": null,
            "border": null,
            "bottom": null,
            "display": null,
            "flex": null,
            "flex_flow": null,
            "grid_area": null,
            "grid_auto_columns": null,
            "grid_auto_flow": null,
            "grid_auto_rows": null,
            "grid_column": null,
            "grid_gap": null,
            "grid_row": null,
            "grid_template_areas": null,
            "grid_template_columns": null,
            "grid_template_rows": null,
            "height": null,
            "justify_content": null,
            "justify_items": null,
            "left": null,
            "margin": null,
            "max_height": null,
            "max_width": null,
            "min_height": null,
            "min_width": null,
            "object_fit": null,
            "object_position": null,
            "order": null,
            "overflow": null,
            "overflow_x": null,
            "overflow_y": null,
            "padding": null,
            "right": null,
            "top": null,
            "visibility": null,
            "width": null
          }
        },
        "8ade0ed116d74689b1dc8b9d75b317b8": {
          "model_module": "@jupyter-widgets/controls",
          "model_name": "IntProgressModel",
          "model_module_version": "1.5.0",
          "state": {
            "_dom_classes": [],
            "_model_module": "@jupyter-widgets/controls",
            "_model_module_version": "1.5.0",
            "_model_name": "IntProgressModel",
            "_view_count": null,
            "_view_module": "@jupyter-widgets/controls",
            "_view_module_version": "1.5.0",
            "_view_name": "ProgressView",
            "bar_style": "success",
            "description": "100.00%",
            "description_tooltip": null,
            "layout": "IPY_MODEL_dc52243f52c84aa99260bf4a7760cf34",
            "max": 6,
            "min": 0,
            "orientation": "horizontal",
            "style": "IPY_MODEL_1102aa20f3e24cc19a0468dd183b879b",
            "value": 6
          }
        },
        "edd33cefe7f34fe3805b3330d9556c80": {
          "model_module": "@jupyter-widgets/controls",
          "model_name": "LabelModel",
          "model_module_version": "1.5.0",
          "state": {
            "_dom_classes": [],
            "_model_module": "@jupyter-widgets/controls",
            "_model_module_version": "1.5.0",
            "_model_name": "LabelModel",
            "_view_count": null,
            "_view_module": "@jupyter-widgets/controls",
            "_view_module_version": "1.5.0",
            "_view_name": "LabelView",
            "description": "",
            "description_tooltip": null,
            "layout": "IPY_MODEL_da6241c354ec457da508b1a90afd24ab",
            "placeholder": "​",
            "style": "IPY_MODEL_02809dfdb1154471b7cba2e479a11c1c",
            "value": "6 / 6"
          }
        },
        "c3ebdc2f4aa9422dba676994c63b1632": {
          "model_module": "@jupyter-widgets/base",
          "model_name": "LayoutModel",
          "model_module_version": "1.2.0",
          "state": {
            "_model_module": "@jupyter-widgets/base",
            "_model_module_version": "1.2.0",
            "_model_name": "LayoutModel",
            "_view_count": null,
            "_view_module": "@jupyter-widgets/base",
            "_view_module_version": "1.2.0",
            "_view_name": "LayoutView",
            "align_content": null,
            "align_items": null,
            "align_self": null,
            "border": null,
            "bottom": null,
            "display": null,
            "flex": null,
            "flex_flow": null,
            "grid_area": null,
            "grid_auto_columns": null,
            "grid_auto_flow": null,
            "grid_auto_rows": null,
            "grid_column": null,
            "grid_gap": null,
            "grid_row": null,
            "grid_template_areas": null,
            "grid_template_columns": null,
            "grid_template_rows": null,
            "height": null,
            "justify_content": null,
            "justify_items": null,
            "left": null,
            "margin": null,
            "max_height": null,
            "max_width": null,
            "min_height": null,
            "min_width": null,
            "object_fit": null,
            "object_position": null,
            "order": null,
            "overflow": null,
            "overflow_x": null,
            "overflow_y": null,
            "padding": null,
            "right": null,
            "top": null,
            "visibility": null,
            "width": null
          }
        },
        "66271910313c4ca5ab3304cb5d075fab": {
          "model_module": "@jupyter-widgets/controls",
          "model_name": "IntProgressModel",
          "model_module_version": "1.5.0",
          "state": {
            "_dom_classes": [],
            "_model_module": "@jupyter-widgets/controls",
            "_model_module_version": "1.5.0",
            "_model_name": "IntProgressModel",
            "_view_count": null,
            "_view_module": "@jupyter-widgets/controls",
            "_view_module_version": "1.5.0",
            "_view_name": "ProgressView",
            "bar_style": "success",
            "description": "100.00%",
            "description_tooltip": null,
            "layout": "IPY_MODEL_bc1429acc2904da59401a0836ee2f78b",
            "max": 6,
            "min": 0,
            "orientation": "horizontal",
            "style": "IPY_MODEL_2c1ac502f1bd478799cfdfcd47e74018",
            "value": 6
          }
        },
        "87ce52b2628645ffb8948b39376c979d": {
          "model_module": "@jupyter-widgets/controls",
          "model_name": "LabelModel",
          "model_module_version": "1.5.0",
          "state": {
            "_dom_classes": [],
            "_model_module": "@jupyter-widgets/controls",
            "_model_module_version": "1.5.0",
            "_model_name": "LabelModel",
            "_view_count": null,
            "_view_module": "@jupyter-widgets/controls",
            "_view_module_version": "1.5.0",
            "_view_name": "LabelView",
            "description": "",
            "description_tooltip": null,
            "layout": "IPY_MODEL_b27af80bcfad4da0b9b08bce1cbaa286",
            "placeholder": "​",
            "style": "IPY_MODEL_5490d83be65f412ea77676394190d920",
            "value": "6 / 6"
          }
        },
        "91f62409971c4f46846bc48672f11462": {
          "model_module": "@jupyter-widgets/base",
          "model_name": "LayoutModel",
          "model_module_version": "1.2.0",
          "state": {
            "_model_module": "@jupyter-widgets/base",
            "_model_module_version": "1.2.0",
            "_model_name": "LayoutModel",
            "_view_count": null,
            "_view_module": "@jupyter-widgets/base",
            "_view_module_version": "1.2.0",
            "_view_name": "LayoutView",
            "align_content": null,
            "align_items": null,
            "align_self": null,
            "border": null,
            "bottom": null,
            "display": null,
            "flex": null,
            "flex_flow": null,
            "grid_area": null,
            "grid_auto_columns": null,
            "grid_auto_flow": null,
            "grid_auto_rows": null,
            "grid_column": null,
            "grid_gap": null,
            "grid_row": null,
            "grid_template_areas": null,
            "grid_template_columns": null,
            "grid_template_rows": null,
            "height": null,
            "justify_content": null,
            "justify_items": null,
            "left": null,
            "margin": null,
            "max_height": null,
            "max_width": null,
            "min_height": null,
            "min_width": null,
            "object_fit": null,
            "object_position": null,
            "order": null,
            "overflow": null,
            "overflow_x": null,
            "overflow_y": null,
            "padding": null,
            "right": null,
            "top": null,
            "visibility": null,
            "width": null
          }
        },
        "9d90880a9a5546f589ab73607197078f": {
          "model_module": "@jupyter-widgets/controls",
          "model_name": "IntProgressModel",
          "model_module_version": "1.5.0",
          "state": {
            "_dom_classes": [],
            "_model_module": "@jupyter-widgets/controls",
            "_model_module_version": "1.5.0",
            "_model_name": "IntProgressModel",
            "_view_count": null,
            "_view_module": "@jupyter-widgets/controls",
            "_view_module_version": "1.5.0",
            "_view_name": "ProgressView",
            "bar_style": "success",
            "description": "100.00%",
            "description_tooltip": null,
            "layout": "IPY_MODEL_090a35759c464054bf34a45f0817d3b6",
            "max": 6,
            "min": 0,
            "orientation": "horizontal",
            "style": "IPY_MODEL_74c2c09b619c478ebbb118dea9b51f40",
            "value": 6
          }
        },
        "fa27b4320a3e406e9a4859bc64e23bfe": {
          "model_module": "@jupyter-widgets/controls",
          "model_name": "LabelModel",
          "model_module_version": "1.5.0",
          "state": {
            "_dom_classes": [],
            "_model_module": "@jupyter-widgets/controls",
            "_model_module_version": "1.5.0",
            "_model_name": "LabelModel",
            "_view_count": null,
            "_view_module": "@jupyter-widgets/controls",
            "_view_module_version": "1.5.0",
            "_view_name": "LabelView",
            "description": "",
            "description_tooltip": null,
            "layout": "IPY_MODEL_5c4ef68c922e4886bfa851bbcfa2784e",
            "placeholder": "​",
            "style": "IPY_MODEL_f411ba63cc674ceba6d2b1cc3f614dc5",
            "value": "6 / 6"
          }
        },
        "3158428101fc4e1e99cef654967c3c54": {
          "model_module": "@jupyter-widgets/base",
          "model_name": "LayoutModel",
          "model_module_version": "1.2.0",
          "state": {
            "_model_module": "@jupyter-widgets/base",
            "_model_module_version": "1.2.0",
            "_model_name": "LayoutModel",
            "_view_count": null,
            "_view_module": "@jupyter-widgets/base",
            "_view_module_version": "1.2.0",
            "_view_name": "LayoutView",
            "align_content": null,
            "align_items": null,
            "align_self": null,
            "border": null,
            "bottom": null,
            "display": null,
            "flex": null,
            "flex_flow": null,
            "grid_area": null,
            "grid_auto_columns": null,
            "grid_auto_flow": null,
            "grid_auto_rows": null,
            "grid_column": null,
            "grid_gap": null,
            "grid_row": null,
            "grid_template_areas": null,
            "grid_template_columns": null,
            "grid_template_rows": null,
            "height": null,
            "justify_content": null,
            "justify_items": null,
            "left": null,
            "margin": null,
            "max_height": null,
            "max_width": null,
            "min_height": null,
            "min_width": null,
            "object_fit": null,
            "object_position": null,
            "order": null,
            "overflow": null,
            "overflow_x": null,
            "overflow_y": null,
            "padding": null,
            "right": null,
            "top": null,
            "visibility": null,
            "width": null
          }
        },
        "19146253bbfd419780cd732d4c3564c6": {
          "model_module": "@jupyter-widgets/controls",
          "model_name": "IntProgressModel",
          "model_module_version": "1.5.0",
          "state": {
            "_dom_classes": [],
            "_model_module": "@jupyter-widgets/controls",
            "_model_module_version": "1.5.0",
            "_model_name": "IntProgressModel",
            "_view_count": null,
            "_view_module": "@jupyter-widgets/controls",
            "_view_module_version": "1.5.0",
            "_view_name": "ProgressView",
            "bar_style": "success",
            "description": "100.00%",
            "description_tooltip": null,
            "layout": "IPY_MODEL_e8b50ca991d94aacabad071c0ec5e110",
            "max": 6,
            "min": 0,
            "orientation": "horizontal",
            "style": "IPY_MODEL_fc37f0360c1d4ca69274c3e3b988d293",
            "value": 6
          }
        },
        "8957a56b23cc4cdf8c58db94f83754d0": {
          "model_module": "@jupyter-widgets/controls",
          "model_name": "LabelModel",
          "model_module_version": "1.5.0",
          "state": {
            "_dom_classes": [],
            "_model_module": "@jupyter-widgets/controls",
            "_model_module_version": "1.5.0",
            "_model_name": "LabelModel",
            "_view_count": null,
            "_view_module": "@jupyter-widgets/controls",
            "_view_module_version": "1.5.0",
            "_view_name": "LabelView",
            "description": "",
            "description_tooltip": null,
            "layout": "IPY_MODEL_4eae534eb786480fa1502b2e9eb01f3e",
            "placeholder": "​",
            "style": "IPY_MODEL_9895d7cc91314cbcaf3ccde57aabe7dd",
            "value": "6 / 6"
          }
        },
        "be6b50155002479e9d459a5c1b1400b0": {
          "model_module": "@jupyter-widgets/base",
          "model_name": "LayoutModel",
          "model_module_version": "1.2.0",
          "state": {
            "_model_module": "@jupyter-widgets/base",
            "_model_module_version": "1.2.0",
            "_model_name": "LayoutModel",
            "_view_count": null,
            "_view_module": "@jupyter-widgets/base",
            "_view_module_version": "1.2.0",
            "_view_name": "LayoutView",
            "align_content": null,
            "align_items": null,
            "align_self": null,
            "border": null,
            "bottom": null,
            "display": null,
            "flex": null,
            "flex_flow": null,
            "grid_area": null,
            "grid_auto_columns": null,
            "grid_auto_flow": null,
            "grid_auto_rows": null,
            "grid_column": null,
            "grid_gap": null,
            "grid_row": null,
            "grid_template_areas": null,
            "grid_template_columns": null,
            "grid_template_rows": null,
            "height": null,
            "justify_content": null,
            "justify_items": null,
            "left": null,
            "margin": null,
            "max_height": null,
            "max_width": null,
            "min_height": null,
            "min_width": null,
            "object_fit": null,
            "object_position": null,
            "order": null,
            "overflow": null,
            "overflow_x": null,
            "overflow_y": null,
            "padding": null,
            "right": null,
            "top": null,
            "visibility": null,
            "width": null
          }
        },
        "120f5a4ee57349b9bd566335710b4526": {
          "model_module": "@jupyter-widgets/base",
          "model_name": "LayoutModel",
          "model_module_version": "1.2.0",
          "state": {
            "_model_module": "@jupyter-widgets/base",
            "_model_module_version": "1.2.0",
            "_model_name": "LayoutModel",
            "_view_count": null,
            "_view_module": "@jupyter-widgets/base",
            "_view_module_version": "1.2.0",
            "_view_name": "LayoutView",
            "align_content": null,
            "align_items": null,
            "align_self": null,
            "border": null,
            "bottom": null,
            "display": null,
            "flex": null,
            "flex_flow": null,
            "grid_area": null,
            "grid_auto_columns": null,
            "grid_auto_flow": null,
            "grid_auto_rows": null,
            "grid_column": null,
            "grid_gap": null,
            "grid_row": null,
            "grid_template_areas": null,
            "grid_template_columns": null,
            "grid_template_rows": null,
            "height": null,
            "justify_content": null,
            "justify_items": null,
            "left": null,
            "margin": null,
            "max_height": null,
            "max_width": null,
            "min_height": null,
            "min_width": null,
            "object_fit": null,
            "object_position": null,
            "order": null,
            "overflow": null,
            "overflow_x": null,
            "overflow_y": null,
            "padding": null,
            "right": null,
            "top": null,
            "visibility": null,
            "width": null
          }
        },
        "22311daf08a248eb92d632eabd32a3c6": {
          "model_module": "@jupyter-widgets/controls",
          "model_name": "ProgressStyleModel",
          "model_module_version": "1.5.0",
          "state": {
            "_model_module": "@jupyter-widgets/controls",
            "_model_module_version": "1.5.0",
            "_model_name": "ProgressStyleModel",
            "_view_count": null,
            "_view_module": "@jupyter-widgets/base",
            "_view_module_version": "1.2.0",
            "_view_name": "StyleView",
            "bar_color": null,
            "description_width": ""
          }
        },
        "2cad399916964dc9825ca185335e2ce3": {
          "model_module": "@jupyter-widgets/base",
          "model_name": "LayoutModel",
          "model_module_version": "1.2.0",
          "state": {
            "_model_module": "@jupyter-widgets/base",
            "_model_module_version": "1.2.0",
            "_model_name": "LayoutModel",
            "_view_count": null,
            "_view_module": "@jupyter-widgets/base",
            "_view_module_version": "1.2.0",
            "_view_name": "LayoutView",
            "align_content": null,
            "align_items": null,
            "align_self": null,
            "border": null,
            "bottom": null,
            "display": null,
            "flex": null,
            "flex_flow": null,
            "grid_area": null,
            "grid_auto_columns": null,
            "grid_auto_flow": null,
            "grid_auto_rows": null,
            "grid_column": null,
            "grid_gap": null,
            "grid_row": null,
            "grid_template_areas": null,
            "grid_template_columns": null,
            "grid_template_rows": null,
            "height": null,
            "justify_content": null,
            "justify_items": null,
            "left": null,
            "margin": null,
            "max_height": null,
            "max_width": null,
            "min_height": null,
            "min_width": null,
            "object_fit": null,
            "object_position": null,
            "order": null,
            "overflow": null,
            "overflow_x": null,
            "overflow_y": null,
            "padding": null,
            "right": null,
            "top": null,
            "visibility": null,
            "width": null
          }
        },
        "0cf01f2fb60b4915a0bfc23fd3c1d270": {
          "model_module": "@jupyter-widgets/controls",
          "model_name": "DescriptionStyleModel",
          "model_module_version": "1.5.0",
          "state": {
            "_model_module": "@jupyter-widgets/controls",
            "_model_module_version": "1.5.0",
            "_model_name": "DescriptionStyleModel",
            "_view_count": null,
            "_view_module": "@jupyter-widgets/base",
            "_view_module_version": "1.2.0",
            "_view_name": "StyleView",
            "description_width": ""
          }
        },
        "114313fa0a9a4251a7a69ef99d14a29c": {
          "model_module": "@jupyter-widgets/base",
          "model_name": "LayoutModel",
          "model_module_version": "1.2.0",
          "state": {
            "_model_module": "@jupyter-widgets/base",
            "_model_module_version": "1.2.0",
            "_model_name": "LayoutModel",
            "_view_count": null,
            "_view_module": "@jupyter-widgets/base",
            "_view_module_version": "1.2.0",
            "_view_name": "LayoutView",
            "align_content": null,
            "align_items": null,
            "align_self": null,
            "border": null,
            "bottom": null,
            "display": null,
            "flex": null,
            "flex_flow": null,
            "grid_area": null,
            "grid_auto_columns": null,
            "grid_auto_flow": null,
            "grid_auto_rows": null,
            "grid_column": null,
            "grid_gap": null,
            "grid_row": null,
            "grid_template_areas": null,
            "grid_template_columns": null,
            "grid_template_rows": null,
            "height": null,
            "justify_content": null,
            "justify_items": null,
            "left": null,
            "margin": null,
            "max_height": null,
            "max_width": null,
            "min_height": null,
            "min_width": null,
            "object_fit": null,
            "object_position": null,
            "order": null,
            "overflow": null,
            "overflow_x": null,
            "overflow_y": null,
            "padding": null,
            "right": null,
            "top": null,
            "visibility": null,
            "width": null
          }
        },
        "af89bf24bcdf46b39f1095d1ba4fc7f9": {
          "model_module": "@jupyter-widgets/controls",
          "model_name": "ProgressStyleModel",
          "model_module_version": "1.5.0",
          "state": {
            "_model_module": "@jupyter-widgets/controls",
            "_model_module_version": "1.5.0",
            "_model_name": "ProgressStyleModel",
            "_view_count": null,
            "_view_module": "@jupyter-widgets/base",
            "_view_module_version": "1.2.0",
            "_view_name": "StyleView",
            "bar_color": null,
            "description_width": ""
          }
        },
        "cbfac6bd8b6343259e36ae959e5e0511": {
          "model_module": "@jupyter-widgets/base",
          "model_name": "LayoutModel",
          "model_module_version": "1.2.0",
          "state": {
            "_model_module": "@jupyter-widgets/base",
            "_model_module_version": "1.2.0",
            "_model_name": "LayoutModel",
            "_view_count": null,
            "_view_module": "@jupyter-widgets/base",
            "_view_module_version": "1.2.0",
            "_view_name": "LayoutView",
            "align_content": null,
            "align_items": null,
            "align_self": null,
            "border": null,
            "bottom": null,
            "display": null,
            "flex": null,
            "flex_flow": null,
            "grid_area": null,
            "grid_auto_columns": null,
            "grid_auto_flow": null,
            "grid_auto_rows": null,
            "grid_column": null,
            "grid_gap": null,
            "grid_row": null,
            "grid_template_areas": null,
            "grid_template_columns": null,
            "grid_template_rows": null,
            "height": null,
            "justify_content": null,
            "justify_items": null,
            "left": null,
            "margin": null,
            "max_height": null,
            "max_width": null,
            "min_height": null,
            "min_width": null,
            "object_fit": null,
            "object_position": null,
            "order": null,
            "overflow": null,
            "overflow_x": null,
            "overflow_y": null,
            "padding": null,
            "right": null,
            "top": null,
            "visibility": null,
            "width": null
          }
        },
        "160479d37744463796262f694afe0533": {
          "model_module": "@jupyter-widgets/controls",
          "model_name": "DescriptionStyleModel",
          "model_module_version": "1.5.0",
          "state": {
            "_model_module": "@jupyter-widgets/controls",
            "_model_module_version": "1.5.0",
            "_model_name": "DescriptionStyleModel",
            "_view_count": null,
            "_view_module": "@jupyter-widgets/base",
            "_view_module_version": "1.2.0",
            "_view_name": "StyleView",
            "description_width": ""
          }
        },
        "31941770cbb54847b6f0a39b97a3372e": {
          "model_module": "@jupyter-widgets/base",
          "model_name": "LayoutModel",
          "model_module_version": "1.2.0",
          "state": {
            "_model_module": "@jupyter-widgets/base",
            "_model_module_version": "1.2.0",
            "_model_name": "LayoutModel",
            "_view_count": null,
            "_view_module": "@jupyter-widgets/base",
            "_view_module_version": "1.2.0",
            "_view_name": "LayoutView",
            "align_content": null,
            "align_items": null,
            "align_self": null,
            "border": null,
            "bottom": null,
            "display": null,
            "flex": null,
            "flex_flow": null,
            "grid_area": null,
            "grid_auto_columns": null,
            "grid_auto_flow": null,
            "grid_auto_rows": null,
            "grid_column": null,
            "grid_gap": null,
            "grid_row": null,
            "grid_template_areas": null,
            "grid_template_columns": null,
            "grid_template_rows": null,
            "height": null,
            "justify_content": null,
            "justify_items": null,
            "left": null,
            "margin": null,
            "max_height": null,
            "max_width": null,
            "min_height": null,
            "min_width": null,
            "object_fit": null,
            "object_position": null,
            "order": null,
            "overflow": null,
            "overflow_x": null,
            "overflow_y": null,
            "padding": null,
            "right": null,
            "top": null,
            "visibility": null,
            "width": null
          }
        },
        "b4bd17ae684c4d7db3f3169f3e1dc698": {
          "model_module": "@jupyter-widgets/controls",
          "model_name": "ProgressStyleModel",
          "model_module_version": "1.5.0",
          "state": {
            "_model_module": "@jupyter-widgets/controls",
            "_model_module_version": "1.5.0",
            "_model_name": "ProgressStyleModel",
            "_view_count": null,
            "_view_module": "@jupyter-widgets/base",
            "_view_module_version": "1.2.0",
            "_view_name": "StyleView",
            "bar_color": null,
            "description_width": ""
          }
        },
        "99994d441b404b4ea91ce9334e909f38": {
          "model_module": "@jupyter-widgets/base",
          "model_name": "LayoutModel",
          "model_module_version": "1.2.0",
          "state": {
            "_model_module": "@jupyter-widgets/base",
            "_model_module_version": "1.2.0",
            "_model_name": "LayoutModel",
            "_view_count": null,
            "_view_module": "@jupyter-widgets/base",
            "_view_module_version": "1.2.0",
            "_view_name": "LayoutView",
            "align_content": null,
            "align_items": null,
            "align_self": null,
            "border": null,
            "bottom": null,
            "display": null,
            "flex": null,
            "flex_flow": null,
            "grid_area": null,
            "grid_auto_columns": null,
            "grid_auto_flow": null,
            "grid_auto_rows": null,
            "grid_column": null,
            "grid_gap": null,
            "grid_row": null,
            "grid_template_areas": null,
            "grid_template_columns": null,
            "grid_template_rows": null,
            "height": null,
            "justify_content": null,
            "justify_items": null,
            "left": null,
            "margin": null,
            "max_height": null,
            "max_width": null,
            "min_height": null,
            "min_width": null,
            "object_fit": null,
            "object_position": null,
            "order": null,
            "overflow": null,
            "overflow_x": null,
            "overflow_y": null,
            "padding": null,
            "right": null,
            "top": null,
            "visibility": null,
            "width": null
          }
        },
        "23fad4a55b0f41fc87b45fd0f476b0bf": {
          "model_module": "@jupyter-widgets/controls",
          "model_name": "DescriptionStyleModel",
          "model_module_version": "1.5.0",
          "state": {
            "_model_module": "@jupyter-widgets/controls",
            "_model_module_version": "1.5.0",
            "_model_name": "DescriptionStyleModel",
            "_view_count": null,
            "_view_module": "@jupyter-widgets/base",
            "_view_module_version": "1.2.0",
            "_view_name": "StyleView",
            "description_width": ""
          }
        },
        "3992caf6739a402cb9b298c8f9e0891a": {
          "model_module": "@jupyter-widgets/base",
          "model_name": "LayoutModel",
          "model_module_version": "1.2.0",
          "state": {
            "_model_module": "@jupyter-widgets/base",
            "_model_module_version": "1.2.0",
            "_model_name": "LayoutModel",
            "_view_count": null,
            "_view_module": "@jupyter-widgets/base",
            "_view_module_version": "1.2.0",
            "_view_name": "LayoutView",
            "align_content": null,
            "align_items": null,
            "align_self": null,
            "border": null,
            "bottom": null,
            "display": null,
            "flex": null,
            "flex_flow": null,
            "grid_area": null,
            "grid_auto_columns": null,
            "grid_auto_flow": null,
            "grid_auto_rows": null,
            "grid_column": null,
            "grid_gap": null,
            "grid_row": null,
            "grid_template_areas": null,
            "grid_template_columns": null,
            "grid_template_rows": null,
            "height": null,
            "justify_content": null,
            "justify_items": null,
            "left": null,
            "margin": null,
            "max_height": null,
            "max_width": null,
            "min_height": null,
            "min_width": null,
            "object_fit": null,
            "object_position": null,
            "order": null,
            "overflow": null,
            "overflow_x": null,
            "overflow_y": null,
            "padding": null,
            "right": null,
            "top": null,
            "visibility": null,
            "width": null
          }
        },
        "aab41051320b475eb615ef3c7c2057c0": {
          "model_module": "@jupyter-widgets/controls",
          "model_name": "ProgressStyleModel",
          "model_module_version": "1.5.0",
          "state": {
            "_model_module": "@jupyter-widgets/controls",
            "_model_module_version": "1.5.0",
            "_model_name": "ProgressStyleModel",
            "_view_count": null,
            "_view_module": "@jupyter-widgets/base",
            "_view_module_version": "1.2.0",
            "_view_name": "StyleView",
            "bar_color": null,
            "description_width": ""
          }
        },
        "f3fc8c052d104486a1740b4c224dba9a": {
          "model_module": "@jupyter-widgets/base",
          "model_name": "LayoutModel",
          "model_module_version": "1.2.0",
          "state": {
            "_model_module": "@jupyter-widgets/base",
            "_model_module_version": "1.2.0",
            "_model_name": "LayoutModel",
            "_view_count": null,
            "_view_module": "@jupyter-widgets/base",
            "_view_module_version": "1.2.0",
            "_view_name": "LayoutView",
            "align_content": null,
            "align_items": null,
            "align_self": null,
            "border": null,
            "bottom": null,
            "display": null,
            "flex": null,
            "flex_flow": null,
            "grid_area": null,
            "grid_auto_columns": null,
            "grid_auto_flow": null,
            "grid_auto_rows": null,
            "grid_column": null,
            "grid_gap": null,
            "grid_row": null,
            "grid_template_areas": null,
            "grid_template_columns": null,
            "grid_template_rows": null,
            "height": null,
            "justify_content": null,
            "justify_items": null,
            "left": null,
            "margin": null,
            "max_height": null,
            "max_width": null,
            "min_height": null,
            "min_width": null,
            "object_fit": null,
            "object_position": null,
            "order": null,
            "overflow": null,
            "overflow_x": null,
            "overflow_y": null,
            "padding": null,
            "right": null,
            "top": null,
            "visibility": null,
            "width": null
          }
        },
        "8df644e34b9749909ef5e43612eb6335": {
          "model_module": "@jupyter-widgets/controls",
          "model_name": "DescriptionStyleModel",
          "model_module_version": "1.5.0",
          "state": {
            "_model_module": "@jupyter-widgets/controls",
            "_model_module_version": "1.5.0",
            "_model_name": "DescriptionStyleModel",
            "_view_count": null,
            "_view_module": "@jupyter-widgets/base",
            "_view_module_version": "1.2.0",
            "_view_name": "StyleView",
            "description_width": ""
          }
        },
        "b98f863211054789afd72331c2a386a5": {
          "model_module": "@jupyter-widgets/base",
          "model_name": "LayoutModel",
          "model_module_version": "1.2.0",
          "state": {
            "_model_module": "@jupyter-widgets/base",
            "_model_module_version": "1.2.0",
            "_model_name": "LayoutModel",
            "_view_count": null,
            "_view_module": "@jupyter-widgets/base",
            "_view_module_version": "1.2.0",
            "_view_name": "LayoutView",
            "align_content": null,
            "align_items": null,
            "align_self": null,
            "border": null,
            "bottom": null,
            "display": null,
            "flex": null,
            "flex_flow": null,
            "grid_area": null,
            "grid_auto_columns": null,
            "grid_auto_flow": null,
            "grid_auto_rows": null,
            "grid_column": null,
            "grid_gap": null,
            "grid_row": null,
            "grid_template_areas": null,
            "grid_template_columns": null,
            "grid_template_rows": null,
            "height": null,
            "justify_content": null,
            "justify_items": null,
            "left": null,
            "margin": null,
            "max_height": null,
            "max_width": null,
            "min_height": null,
            "min_width": null,
            "object_fit": null,
            "object_position": null,
            "order": null,
            "overflow": null,
            "overflow_x": null,
            "overflow_y": null,
            "padding": null,
            "right": null,
            "top": null,
            "visibility": null,
            "width": null
          }
        },
        "2ab1b35fad1448cca639843021b9b1fa": {
          "model_module": "@jupyter-widgets/controls",
          "model_name": "ProgressStyleModel",
          "model_module_version": "1.5.0",
          "state": {
            "_model_module": "@jupyter-widgets/controls",
            "_model_module_version": "1.5.0",
            "_model_name": "ProgressStyleModel",
            "_view_count": null,
            "_view_module": "@jupyter-widgets/base",
            "_view_module_version": "1.2.0",
            "_view_name": "StyleView",
            "bar_color": null,
            "description_width": ""
          }
        },
        "90a4b348c7a24a21b4a0dc665690616b": {
          "model_module": "@jupyter-widgets/base",
          "model_name": "LayoutModel",
          "model_module_version": "1.2.0",
          "state": {
            "_model_module": "@jupyter-widgets/base",
            "_model_module_version": "1.2.0",
            "_model_name": "LayoutModel",
            "_view_count": null,
            "_view_module": "@jupyter-widgets/base",
            "_view_module_version": "1.2.0",
            "_view_name": "LayoutView",
            "align_content": null,
            "align_items": null,
            "align_self": null,
            "border": null,
            "bottom": null,
            "display": null,
            "flex": null,
            "flex_flow": null,
            "grid_area": null,
            "grid_auto_columns": null,
            "grid_auto_flow": null,
            "grid_auto_rows": null,
            "grid_column": null,
            "grid_gap": null,
            "grid_row": null,
            "grid_template_areas": null,
            "grid_template_columns": null,
            "grid_template_rows": null,
            "height": null,
            "justify_content": null,
            "justify_items": null,
            "left": null,
            "margin": null,
            "max_height": null,
            "max_width": null,
            "min_height": null,
            "min_width": null,
            "object_fit": null,
            "object_position": null,
            "order": null,
            "overflow": null,
            "overflow_x": null,
            "overflow_y": null,
            "padding": null,
            "right": null,
            "top": null,
            "visibility": null,
            "width": null
          }
        },
        "06be2854f20749c592d7a6ab306b231e": {
          "model_module": "@jupyter-widgets/controls",
          "model_name": "DescriptionStyleModel",
          "model_module_version": "1.5.0",
          "state": {
            "_model_module": "@jupyter-widgets/controls",
            "_model_module_version": "1.5.0",
            "_model_name": "DescriptionStyleModel",
            "_view_count": null,
            "_view_module": "@jupyter-widgets/base",
            "_view_module_version": "1.2.0",
            "_view_name": "StyleView",
            "description_width": ""
          }
        },
        "08e3e64273cd4e4198eda35a8dd40078": {
          "model_module": "@jupyter-widgets/base",
          "model_name": "LayoutModel",
          "model_module_version": "1.2.0",
          "state": {
            "_model_module": "@jupyter-widgets/base",
            "_model_module_version": "1.2.0",
            "_model_name": "LayoutModel",
            "_view_count": null,
            "_view_module": "@jupyter-widgets/base",
            "_view_module_version": "1.2.0",
            "_view_name": "LayoutView",
            "align_content": null,
            "align_items": null,
            "align_self": null,
            "border": null,
            "bottom": null,
            "display": null,
            "flex": null,
            "flex_flow": null,
            "grid_area": null,
            "grid_auto_columns": null,
            "grid_auto_flow": null,
            "grid_auto_rows": null,
            "grid_column": null,
            "grid_gap": null,
            "grid_row": null,
            "grid_template_areas": null,
            "grid_template_columns": null,
            "grid_template_rows": null,
            "height": null,
            "justify_content": null,
            "justify_items": null,
            "left": null,
            "margin": null,
            "max_height": null,
            "max_width": null,
            "min_height": null,
            "min_width": null,
            "object_fit": null,
            "object_position": null,
            "order": null,
            "overflow": null,
            "overflow_x": null,
            "overflow_y": null,
            "padding": null,
            "right": null,
            "top": null,
            "visibility": null,
            "width": null
          }
        },
        "346dc36c5bdf4e4295fba3dc495e5ea4": {
          "model_module": "@jupyter-widgets/controls",
          "model_name": "ProgressStyleModel",
          "model_module_version": "1.5.0",
          "state": {
            "_model_module": "@jupyter-widgets/controls",
            "_model_module_version": "1.5.0",
            "_model_name": "ProgressStyleModel",
            "_view_count": null,
            "_view_module": "@jupyter-widgets/base",
            "_view_module_version": "1.2.0",
            "_view_name": "StyleView",
            "bar_color": null,
            "description_width": ""
          }
        },
        "fd8d824945854ae5b369d4b9c50a4642": {
          "model_module": "@jupyter-widgets/base",
          "model_name": "LayoutModel",
          "model_module_version": "1.2.0",
          "state": {
            "_model_module": "@jupyter-widgets/base",
            "_model_module_version": "1.2.0",
            "_model_name": "LayoutModel",
            "_view_count": null,
            "_view_module": "@jupyter-widgets/base",
            "_view_module_version": "1.2.0",
            "_view_name": "LayoutView",
            "align_content": null,
            "align_items": null,
            "align_self": null,
            "border": null,
            "bottom": null,
            "display": null,
            "flex": null,
            "flex_flow": null,
            "grid_area": null,
            "grid_auto_columns": null,
            "grid_auto_flow": null,
            "grid_auto_rows": null,
            "grid_column": null,
            "grid_gap": null,
            "grid_row": null,
            "grid_template_areas": null,
            "grid_template_columns": null,
            "grid_template_rows": null,
            "height": null,
            "justify_content": null,
            "justify_items": null,
            "left": null,
            "margin": null,
            "max_height": null,
            "max_width": null,
            "min_height": null,
            "min_width": null,
            "object_fit": null,
            "object_position": null,
            "order": null,
            "overflow": null,
            "overflow_x": null,
            "overflow_y": null,
            "padding": null,
            "right": null,
            "top": null,
            "visibility": null,
            "width": null
          }
        },
        "e925a966c0724744a287355fdddb24ac": {
          "model_module": "@jupyter-widgets/controls",
          "model_name": "DescriptionStyleModel",
          "model_module_version": "1.5.0",
          "state": {
            "_model_module": "@jupyter-widgets/controls",
            "_model_module_version": "1.5.0",
            "_model_name": "DescriptionStyleModel",
            "_view_count": null,
            "_view_module": "@jupyter-widgets/base",
            "_view_module_version": "1.2.0",
            "_view_name": "StyleView",
            "description_width": ""
          }
        },
        "dc52243f52c84aa99260bf4a7760cf34": {
          "model_module": "@jupyter-widgets/base",
          "model_name": "LayoutModel",
          "model_module_version": "1.2.0",
          "state": {
            "_model_module": "@jupyter-widgets/base",
            "_model_module_version": "1.2.0",
            "_model_name": "LayoutModel",
            "_view_count": null,
            "_view_module": "@jupyter-widgets/base",
            "_view_module_version": "1.2.0",
            "_view_name": "LayoutView",
            "align_content": null,
            "align_items": null,
            "align_self": null,
            "border": null,
            "bottom": null,
            "display": null,
            "flex": null,
            "flex_flow": null,
            "grid_area": null,
            "grid_auto_columns": null,
            "grid_auto_flow": null,
            "grid_auto_rows": null,
            "grid_column": null,
            "grid_gap": null,
            "grid_row": null,
            "grid_template_areas": null,
            "grid_template_columns": null,
            "grid_template_rows": null,
            "height": null,
            "justify_content": null,
            "justify_items": null,
            "left": null,
            "margin": null,
            "max_height": null,
            "max_width": null,
            "min_height": null,
            "min_width": null,
            "object_fit": null,
            "object_position": null,
            "order": null,
            "overflow": null,
            "overflow_x": null,
            "overflow_y": null,
            "padding": null,
            "right": null,
            "top": null,
            "visibility": null,
            "width": null
          }
        },
        "1102aa20f3e24cc19a0468dd183b879b": {
          "model_module": "@jupyter-widgets/controls",
          "model_name": "ProgressStyleModel",
          "model_module_version": "1.5.0",
          "state": {
            "_model_module": "@jupyter-widgets/controls",
            "_model_module_version": "1.5.0",
            "_model_name": "ProgressStyleModel",
            "_view_count": null,
            "_view_module": "@jupyter-widgets/base",
            "_view_module_version": "1.2.0",
            "_view_name": "StyleView",
            "bar_color": null,
            "description_width": ""
          }
        },
        "da6241c354ec457da508b1a90afd24ab": {
          "model_module": "@jupyter-widgets/base",
          "model_name": "LayoutModel",
          "model_module_version": "1.2.0",
          "state": {
            "_model_module": "@jupyter-widgets/base",
            "_model_module_version": "1.2.0",
            "_model_name": "LayoutModel",
            "_view_count": null,
            "_view_module": "@jupyter-widgets/base",
            "_view_module_version": "1.2.0",
            "_view_name": "LayoutView",
            "align_content": null,
            "align_items": null,
            "align_self": null,
            "border": null,
            "bottom": null,
            "display": null,
            "flex": null,
            "flex_flow": null,
            "grid_area": null,
            "grid_auto_columns": null,
            "grid_auto_flow": null,
            "grid_auto_rows": null,
            "grid_column": null,
            "grid_gap": null,
            "grid_row": null,
            "grid_template_areas": null,
            "grid_template_columns": null,
            "grid_template_rows": null,
            "height": null,
            "justify_content": null,
            "justify_items": null,
            "left": null,
            "margin": null,
            "max_height": null,
            "max_width": null,
            "min_height": null,
            "min_width": null,
            "object_fit": null,
            "object_position": null,
            "order": null,
            "overflow": null,
            "overflow_x": null,
            "overflow_y": null,
            "padding": null,
            "right": null,
            "top": null,
            "visibility": null,
            "width": null
          }
        },
        "02809dfdb1154471b7cba2e479a11c1c": {
          "model_module": "@jupyter-widgets/controls",
          "model_name": "DescriptionStyleModel",
          "model_module_version": "1.5.0",
          "state": {
            "_model_module": "@jupyter-widgets/controls",
            "_model_module_version": "1.5.0",
            "_model_name": "DescriptionStyleModel",
            "_view_count": null,
            "_view_module": "@jupyter-widgets/base",
            "_view_module_version": "1.2.0",
            "_view_name": "StyleView",
            "description_width": ""
          }
        },
        "bc1429acc2904da59401a0836ee2f78b": {
          "model_module": "@jupyter-widgets/base",
          "model_name": "LayoutModel",
          "model_module_version": "1.2.0",
          "state": {
            "_model_module": "@jupyter-widgets/base",
            "_model_module_version": "1.2.0",
            "_model_name": "LayoutModel",
            "_view_count": null,
            "_view_module": "@jupyter-widgets/base",
            "_view_module_version": "1.2.0",
            "_view_name": "LayoutView",
            "align_content": null,
            "align_items": null,
            "align_self": null,
            "border": null,
            "bottom": null,
            "display": null,
            "flex": null,
            "flex_flow": null,
            "grid_area": null,
            "grid_auto_columns": null,
            "grid_auto_flow": null,
            "grid_auto_rows": null,
            "grid_column": null,
            "grid_gap": null,
            "grid_row": null,
            "grid_template_areas": null,
            "grid_template_columns": null,
            "grid_template_rows": null,
            "height": null,
            "justify_content": null,
            "justify_items": null,
            "left": null,
            "margin": null,
            "max_height": null,
            "max_width": null,
            "min_height": null,
            "min_width": null,
            "object_fit": null,
            "object_position": null,
            "order": null,
            "overflow": null,
            "overflow_x": null,
            "overflow_y": null,
            "padding": null,
            "right": null,
            "top": null,
            "visibility": null,
            "width": null
          }
        },
        "2c1ac502f1bd478799cfdfcd47e74018": {
          "model_module": "@jupyter-widgets/controls",
          "model_name": "ProgressStyleModel",
          "model_module_version": "1.5.0",
          "state": {
            "_model_module": "@jupyter-widgets/controls",
            "_model_module_version": "1.5.0",
            "_model_name": "ProgressStyleModel",
            "_view_count": null,
            "_view_module": "@jupyter-widgets/base",
            "_view_module_version": "1.2.0",
            "_view_name": "StyleView",
            "bar_color": null,
            "description_width": ""
          }
        },
        "b27af80bcfad4da0b9b08bce1cbaa286": {
          "model_module": "@jupyter-widgets/base",
          "model_name": "LayoutModel",
          "model_module_version": "1.2.0",
          "state": {
            "_model_module": "@jupyter-widgets/base",
            "_model_module_version": "1.2.0",
            "_model_name": "LayoutModel",
            "_view_count": null,
            "_view_module": "@jupyter-widgets/base",
            "_view_module_version": "1.2.0",
            "_view_name": "LayoutView",
            "align_content": null,
            "align_items": null,
            "align_self": null,
            "border": null,
            "bottom": null,
            "display": null,
            "flex": null,
            "flex_flow": null,
            "grid_area": null,
            "grid_auto_columns": null,
            "grid_auto_flow": null,
            "grid_auto_rows": null,
            "grid_column": null,
            "grid_gap": null,
            "grid_row": null,
            "grid_template_areas": null,
            "grid_template_columns": null,
            "grid_template_rows": null,
            "height": null,
            "justify_content": null,
            "justify_items": null,
            "left": null,
            "margin": null,
            "max_height": null,
            "max_width": null,
            "min_height": null,
            "min_width": null,
            "object_fit": null,
            "object_position": null,
            "order": null,
            "overflow": null,
            "overflow_x": null,
            "overflow_y": null,
            "padding": null,
            "right": null,
            "top": null,
            "visibility": null,
            "width": null
          }
        },
        "5490d83be65f412ea77676394190d920": {
          "model_module": "@jupyter-widgets/controls",
          "model_name": "DescriptionStyleModel",
          "model_module_version": "1.5.0",
          "state": {
            "_model_module": "@jupyter-widgets/controls",
            "_model_module_version": "1.5.0",
            "_model_name": "DescriptionStyleModel",
            "_view_count": null,
            "_view_module": "@jupyter-widgets/base",
            "_view_module_version": "1.2.0",
            "_view_name": "StyleView",
            "description_width": ""
          }
        },
        "090a35759c464054bf34a45f0817d3b6": {
          "model_module": "@jupyter-widgets/base",
          "model_name": "LayoutModel",
          "model_module_version": "1.2.0",
          "state": {
            "_model_module": "@jupyter-widgets/base",
            "_model_module_version": "1.2.0",
            "_model_name": "LayoutModel",
            "_view_count": null,
            "_view_module": "@jupyter-widgets/base",
            "_view_module_version": "1.2.0",
            "_view_name": "LayoutView",
            "align_content": null,
            "align_items": null,
            "align_self": null,
            "border": null,
            "bottom": null,
            "display": null,
            "flex": null,
            "flex_flow": null,
            "grid_area": null,
            "grid_auto_columns": null,
            "grid_auto_flow": null,
            "grid_auto_rows": null,
            "grid_column": null,
            "grid_gap": null,
            "grid_row": null,
            "grid_template_areas": null,
            "grid_template_columns": null,
            "grid_template_rows": null,
            "height": null,
            "justify_content": null,
            "justify_items": null,
            "left": null,
            "margin": null,
            "max_height": null,
            "max_width": null,
            "min_height": null,
            "min_width": null,
            "object_fit": null,
            "object_position": null,
            "order": null,
            "overflow": null,
            "overflow_x": null,
            "overflow_y": null,
            "padding": null,
            "right": null,
            "top": null,
            "visibility": null,
            "width": null
          }
        },
        "74c2c09b619c478ebbb118dea9b51f40": {
          "model_module": "@jupyter-widgets/controls",
          "model_name": "ProgressStyleModel",
          "model_module_version": "1.5.0",
          "state": {
            "_model_module": "@jupyter-widgets/controls",
            "_model_module_version": "1.5.0",
            "_model_name": "ProgressStyleModel",
            "_view_count": null,
            "_view_module": "@jupyter-widgets/base",
            "_view_module_version": "1.2.0",
            "_view_name": "StyleView",
            "bar_color": null,
            "description_width": ""
          }
        },
        "5c4ef68c922e4886bfa851bbcfa2784e": {
          "model_module": "@jupyter-widgets/base",
          "model_name": "LayoutModel",
          "model_module_version": "1.2.0",
          "state": {
            "_model_module": "@jupyter-widgets/base",
            "_model_module_version": "1.2.0",
            "_model_name": "LayoutModel",
            "_view_count": null,
            "_view_module": "@jupyter-widgets/base",
            "_view_module_version": "1.2.0",
            "_view_name": "LayoutView",
            "align_content": null,
            "align_items": null,
            "align_self": null,
            "border": null,
            "bottom": null,
            "display": null,
            "flex": null,
            "flex_flow": null,
            "grid_area": null,
            "grid_auto_columns": null,
            "grid_auto_flow": null,
            "grid_auto_rows": null,
            "grid_column": null,
            "grid_gap": null,
            "grid_row": null,
            "grid_template_areas": null,
            "grid_template_columns": null,
            "grid_template_rows": null,
            "height": null,
            "justify_content": null,
            "justify_items": null,
            "left": null,
            "margin": null,
            "max_height": null,
            "max_width": null,
            "min_height": null,
            "min_width": null,
            "object_fit": null,
            "object_position": null,
            "order": null,
            "overflow": null,
            "overflow_x": null,
            "overflow_y": null,
            "padding": null,
            "right": null,
            "top": null,
            "visibility": null,
            "width": null
          }
        },
        "f411ba63cc674ceba6d2b1cc3f614dc5": {
          "model_module": "@jupyter-widgets/controls",
          "model_name": "DescriptionStyleModel",
          "model_module_version": "1.5.0",
          "state": {
            "_model_module": "@jupyter-widgets/controls",
            "_model_module_version": "1.5.0",
            "_model_name": "DescriptionStyleModel",
            "_view_count": null,
            "_view_module": "@jupyter-widgets/base",
            "_view_module_version": "1.2.0",
            "_view_name": "StyleView",
            "description_width": ""
          }
        },
        "e8b50ca991d94aacabad071c0ec5e110": {
          "model_module": "@jupyter-widgets/base",
          "model_name": "LayoutModel",
          "model_module_version": "1.2.0",
          "state": {
            "_model_module": "@jupyter-widgets/base",
            "_model_module_version": "1.2.0",
            "_model_name": "LayoutModel",
            "_view_count": null,
            "_view_module": "@jupyter-widgets/base",
            "_view_module_version": "1.2.0",
            "_view_name": "LayoutView",
            "align_content": null,
            "align_items": null,
            "align_self": null,
            "border": null,
            "bottom": null,
            "display": null,
            "flex": null,
            "flex_flow": null,
            "grid_area": null,
            "grid_auto_columns": null,
            "grid_auto_flow": null,
            "grid_auto_rows": null,
            "grid_column": null,
            "grid_gap": null,
            "grid_row": null,
            "grid_template_areas": null,
            "grid_template_columns": null,
            "grid_template_rows": null,
            "height": null,
            "justify_content": null,
            "justify_items": null,
            "left": null,
            "margin": null,
            "max_height": null,
            "max_width": null,
            "min_height": null,
            "min_width": null,
            "object_fit": null,
            "object_position": null,
            "order": null,
            "overflow": null,
            "overflow_x": null,
            "overflow_y": null,
            "padding": null,
            "right": null,
            "top": null,
            "visibility": null,
            "width": null
          }
        },
        "fc37f0360c1d4ca69274c3e3b988d293": {
          "model_module": "@jupyter-widgets/controls",
          "model_name": "ProgressStyleModel",
          "model_module_version": "1.5.0",
          "state": {
            "_model_module": "@jupyter-widgets/controls",
            "_model_module_version": "1.5.0",
            "_model_name": "ProgressStyleModel",
            "_view_count": null,
            "_view_module": "@jupyter-widgets/base",
            "_view_module_version": "1.2.0",
            "_view_name": "StyleView",
            "bar_color": null,
            "description_width": ""
          }
        },
        "4eae534eb786480fa1502b2e9eb01f3e": {
          "model_module": "@jupyter-widgets/base",
          "model_name": "LayoutModel",
          "model_module_version": "1.2.0",
          "state": {
            "_model_module": "@jupyter-widgets/base",
            "_model_module_version": "1.2.0",
            "_model_name": "LayoutModel",
            "_view_count": null,
            "_view_module": "@jupyter-widgets/base",
            "_view_module_version": "1.2.0",
            "_view_name": "LayoutView",
            "align_content": null,
            "align_items": null,
            "align_self": null,
            "border": null,
            "bottom": null,
            "display": null,
            "flex": null,
            "flex_flow": null,
            "grid_area": null,
            "grid_auto_columns": null,
            "grid_auto_flow": null,
            "grid_auto_rows": null,
            "grid_column": null,
            "grid_gap": null,
            "grid_row": null,
            "grid_template_areas": null,
            "grid_template_columns": null,
            "grid_template_rows": null,
            "height": null,
            "justify_content": null,
            "justify_items": null,
            "left": null,
            "margin": null,
            "max_height": null,
            "max_width": null,
            "min_height": null,
            "min_width": null,
            "object_fit": null,
            "object_position": null,
            "order": null,
            "overflow": null,
            "overflow_x": null,
            "overflow_y": null,
            "padding": null,
            "right": null,
            "top": null,
            "visibility": null,
            "width": null
          }
        },
        "9895d7cc91314cbcaf3ccde57aabe7dd": {
          "model_module": "@jupyter-widgets/controls",
          "model_name": "DescriptionStyleModel",
          "model_module_version": "1.5.0",
          "state": {
            "_model_module": "@jupyter-widgets/controls",
            "_model_module_version": "1.5.0",
            "_model_name": "DescriptionStyleModel",
            "_view_count": null,
            "_view_module": "@jupyter-widgets/base",
            "_view_module_version": "1.2.0",
            "_view_name": "StyleView",
            "description_width": ""
          }
        },
        "42c0f0744860423f917eb3ffdc83d1b8": {
          "model_module": "@jupyter-widgets/controls",
          "model_name": "VBoxModel",
          "model_module_version": "1.5.0",
          "state": {
            "_dom_classes": [],
            "_model_module": "@jupyter-widgets/controls",
            "_model_module_version": "1.5.0",
            "_model_name": "VBoxModel",
            "_view_count": null,
            "_view_module": "@jupyter-widgets/controls",
            "_view_module_version": "1.5.0",
            "_view_name": "VBoxView",
            "box_style": "",
            "children": [
              "IPY_MODEL_4edf4e90958741f69debd6bb80c9e654",
              "IPY_MODEL_fcec16d153d44f3b9720806992c3d8c2",
              "IPY_MODEL_5b57bfeafb5d49a8857e3249e3518501",
              "IPY_MODEL_05fc743f8f644c18afd1dced9106cb0f",
              "IPY_MODEL_0d7ffb9884aa4269979c81a1cf0d9019",
              "IPY_MODEL_d5eab0231ee944ba8150b98a8be0d60e",
              "IPY_MODEL_61bac79022bf4413a87d284ec4f13147",
              "IPY_MODEL_b02a4c7938d34fe896ab6a06d84e08eb",
              "IPY_MODEL_30adda598d5b48b88ccb10f218efa979",
              "IPY_MODEL_c8aae976909b414bb20585107ab33fd9"
            ],
            "layout": "IPY_MODEL_64436d34573849ba98fe21aa0c7bc6c6"
          }
        },
        "4edf4e90958741f69debd6bb80c9e654": {
          "model_module": "@jupyter-widgets/controls",
          "model_name": "HBoxModel",
          "model_module_version": "1.5.0",
          "state": {
            "_dom_classes": [],
            "_model_module": "@jupyter-widgets/controls",
            "_model_module_version": "1.5.0",
            "_model_name": "HBoxModel",
            "_view_count": null,
            "_view_module": "@jupyter-widgets/controls",
            "_view_module_version": "1.5.0",
            "_view_name": "HBoxView",
            "box_style": "",
            "children": [
              "IPY_MODEL_ec0edaa2b14f4d5b875a24e1f0a71b11",
              "IPY_MODEL_9818083a499744b4aff8b01b816478f7"
            ],
            "layout": "IPY_MODEL_2551b34bcd404c7a95ad9364383fe2ca"
          }
        },
        "fcec16d153d44f3b9720806992c3d8c2": {
          "model_module": "@jupyter-widgets/controls",
          "model_name": "HBoxModel",
          "model_module_version": "1.5.0",
          "state": {
            "_dom_classes": [],
            "_model_module": "@jupyter-widgets/controls",
            "_model_module_version": "1.5.0",
            "_model_name": "HBoxModel",
            "_view_count": null,
            "_view_module": "@jupyter-widgets/controls",
            "_view_module_version": "1.5.0",
            "_view_name": "HBoxView",
            "box_style": "",
            "children": [
              "IPY_MODEL_072689960cce43fca9408cd44851528e",
              "IPY_MODEL_7b72b26a4df347669045cdca28f59164"
            ],
            "layout": "IPY_MODEL_5d9e3d652cb94d60bf659169b1139b61"
          }
        },
        "5b57bfeafb5d49a8857e3249e3518501": {
          "model_module": "@jupyter-widgets/controls",
          "model_name": "HBoxModel",
          "model_module_version": "1.5.0",
          "state": {
            "_dom_classes": [],
            "_model_module": "@jupyter-widgets/controls",
            "_model_module_version": "1.5.0",
            "_model_name": "HBoxModel",
            "_view_count": null,
            "_view_module": "@jupyter-widgets/controls",
            "_view_module_version": "1.5.0",
            "_view_name": "HBoxView",
            "box_style": "",
            "children": [
              "IPY_MODEL_8a1e1f1c4e6f43a9b0ef5971d0dd2d2c",
              "IPY_MODEL_418d9f1e738944e4ba26c8b42cbaadf9"
            ],
            "layout": "IPY_MODEL_0b2816cdceb143e68585cc0a998c8811"
          }
        },
        "05fc743f8f644c18afd1dced9106cb0f": {
          "model_module": "@jupyter-widgets/controls",
          "model_name": "HBoxModel",
          "model_module_version": "1.5.0",
          "state": {
            "_dom_classes": [],
            "_model_module": "@jupyter-widgets/controls",
            "_model_module_version": "1.5.0",
            "_model_name": "HBoxModel",
            "_view_count": null,
            "_view_module": "@jupyter-widgets/controls",
            "_view_module_version": "1.5.0",
            "_view_name": "HBoxView",
            "box_style": "",
            "children": [
              "IPY_MODEL_81d42c1db0d84ca685df7eeb21bf8afe",
              "IPY_MODEL_fb8ec2a9677d41e7aa858f0ce9a1e4dc"
            ],
            "layout": "IPY_MODEL_4ddbc024330a4c08acc2c836f1811422"
          }
        },
        "0d7ffb9884aa4269979c81a1cf0d9019": {
          "model_module": "@jupyter-widgets/controls",
          "model_name": "HBoxModel",
          "model_module_version": "1.5.0",
          "state": {
            "_dom_classes": [],
            "_model_module": "@jupyter-widgets/controls",
            "_model_module_version": "1.5.0",
            "_model_name": "HBoxModel",
            "_view_count": null,
            "_view_module": "@jupyter-widgets/controls",
            "_view_module_version": "1.5.0",
            "_view_name": "HBoxView",
            "box_style": "",
            "children": [
              "IPY_MODEL_fd138f89038a456993ccef1d2dbb90c4",
              "IPY_MODEL_dae1cdf18d0848e89e607ba51fd3234f"
            ],
            "layout": "IPY_MODEL_3cabcd0141dd488a94299e1f1994e06b"
          }
        },
        "d5eab0231ee944ba8150b98a8be0d60e": {
          "model_module": "@jupyter-widgets/controls",
          "model_name": "HBoxModel",
          "model_module_version": "1.5.0",
          "state": {
            "_dom_classes": [],
            "_model_module": "@jupyter-widgets/controls",
            "_model_module_version": "1.5.0",
            "_model_name": "HBoxModel",
            "_view_count": null,
            "_view_module": "@jupyter-widgets/controls",
            "_view_module_version": "1.5.0",
            "_view_name": "HBoxView",
            "box_style": "",
            "children": [
              "IPY_MODEL_3c10779bccb6461cbc0eb6543bd8302d",
              "IPY_MODEL_1ea3993acead4bfcaca7198b422df5e3"
            ],
            "layout": "IPY_MODEL_3e3526ebe767467d874ba069e3d1f1c2"
          }
        },
        "61bac79022bf4413a87d284ec4f13147": {
          "model_module": "@jupyter-widgets/controls",
          "model_name": "HBoxModel",
          "model_module_version": "1.5.0",
          "state": {
            "_dom_classes": [],
            "_model_module": "@jupyter-widgets/controls",
            "_model_module_version": "1.5.0",
            "_model_name": "HBoxModel",
            "_view_count": null,
            "_view_module": "@jupyter-widgets/controls",
            "_view_module_version": "1.5.0",
            "_view_name": "HBoxView",
            "box_style": "",
            "children": [
              "IPY_MODEL_f332499f40584f949be64cd34057a321",
              "IPY_MODEL_b6d82dad2cdf4519bfff7d20f614a671"
            ],
            "layout": "IPY_MODEL_65a55121236f4aa2bcc38d614cf7e0a5"
          }
        },
        "b02a4c7938d34fe896ab6a06d84e08eb": {
          "model_module": "@jupyter-widgets/controls",
          "model_name": "HBoxModel",
          "model_module_version": "1.5.0",
          "state": {
            "_dom_classes": [],
            "_model_module": "@jupyter-widgets/controls",
            "_model_module_version": "1.5.0",
            "_model_name": "HBoxModel",
            "_view_count": null,
            "_view_module": "@jupyter-widgets/controls",
            "_view_module_version": "1.5.0",
            "_view_name": "HBoxView",
            "box_style": "",
            "children": [
              "IPY_MODEL_bef2987e615c4e7cb02a30a665816eee",
              "IPY_MODEL_b135c57d64e2462b9393e1b577e98bdc"
            ],
            "layout": "IPY_MODEL_efa120404e0a4bfe804fdf31bd5aa7ca"
          }
        },
        "30adda598d5b48b88ccb10f218efa979": {
          "model_module": "@jupyter-widgets/controls",
          "model_name": "HBoxModel",
          "model_module_version": "1.5.0",
          "state": {
            "_dom_classes": [],
            "_model_module": "@jupyter-widgets/controls",
            "_model_module_version": "1.5.0",
            "_model_name": "HBoxModel",
            "_view_count": null,
            "_view_module": "@jupyter-widgets/controls",
            "_view_module_version": "1.5.0",
            "_view_name": "HBoxView",
            "box_style": "",
            "children": [
              "IPY_MODEL_22b798cb63a7437088fb8f7e03313c28",
              "IPY_MODEL_62963515ef1246508dee37e453b46270"
            ],
            "layout": "IPY_MODEL_b10a5519de7940508127ce9339d961f0"
          }
        },
        "c8aae976909b414bb20585107ab33fd9": {
          "model_module": "@jupyter-widgets/controls",
          "model_name": "HBoxModel",
          "model_module_version": "1.5.0",
          "state": {
            "_dom_classes": [],
            "_model_module": "@jupyter-widgets/controls",
            "_model_module_version": "1.5.0",
            "_model_name": "HBoxModel",
            "_view_count": null,
            "_view_module": "@jupyter-widgets/controls",
            "_view_module_version": "1.5.0",
            "_view_name": "HBoxView",
            "box_style": "",
            "children": [
              "IPY_MODEL_efbebf21c7ad461eb4f8ad45d61febfa",
              "IPY_MODEL_ff5c8145d59046018482b0ffcdfca411"
            ],
            "layout": "IPY_MODEL_7f9c453f1a6f48b6867ef85367bb28c2"
          }
        },
        "64436d34573849ba98fe21aa0c7bc6c6": {
          "model_module": "@jupyter-widgets/base",
          "model_name": "LayoutModel",
          "model_module_version": "1.2.0",
          "state": {
            "_model_module": "@jupyter-widgets/base",
            "_model_module_version": "1.2.0",
            "_model_name": "LayoutModel",
            "_view_count": null,
            "_view_module": "@jupyter-widgets/base",
            "_view_module_version": "1.2.0",
            "_view_name": "LayoutView",
            "align_content": null,
            "align_items": null,
            "align_self": null,
            "border": null,
            "bottom": null,
            "display": null,
            "flex": null,
            "flex_flow": null,
            "grid_area": null,
            "grid_auto_columns": null,
            "grid_auto_flow": null,
            "grid_auto_rows": null,
            "grid_column": null,
            "grid_gap": null,
            "grid_row": null,
            "grid_template_areas": null,
            "grid_template_columns": null,
            "grid_template_rows": null,
            "height": null,
            "justify_content": null,
            "justify_items": null,
            "left": null,
            "margin": null,
            "max_height": null,
            "max_width": null,
            "min_height": null,
            "min_width": null,
            "object_fit": null,
            "object_position": null,
            "order": null,
            "overflow": null,
            "overflow_x": null,
            "overflow_y": null,
            "padding": null,
            "right": null,
            "top": null,
            "visibility": null,
            "width": null
          }
        },
        "ec0edaa2b14f4d5b875a24e1f0a71b11": {
          "model_module": "@jupyter-widgets/controls",
          "model_name": "IntProgressModel",
          "model_module_version": "1.5.0",
          "state": {
            "_dom_classes": [],
            "_model_module": "@jupyter-widgets/controls",
            "_model_module_version": "1.5.0",
            "_model_name": "IntProgressModel",
            "_view_count": null,
            "_view_module": "@jupyter-widgets/controls",
            "_view_module_version": "1.5.0",
            "_view_name": "ProgressView",
            "bar_style": "success",
            "description": "100.00%",
            "description_tooltip": null,
            "layout": "IPY_MODEL_dd944ef3d59c474385262ccfd64c1b07",
            "max": 1166,
            "min": 0,
            "orientation": "horizontal",
            "style": "IPY_MODEL_50fdf624cc3a4d348567142c4345364e",
            "value": 1166
          }
        },
        "9818083a499744b4aff8b01b816478f7": {
          "model_module": "@jupyter-widgets/controls",
          "model_name": "LabelModel",
          "model_module_version": "1.5.0",
          "state": {
            "_dom_classes": [],
            "_model_module": "@jupyter-widgets/controls",
            "_model_module_version": "1.5.0",
            "_model_name": "LabelModel",
            "_view_count": null,
            "_view_module": "@jupyter-widgets/controls",
            "_view_module_version": "1.5.0",
            "_view_name": "LabelView",
            "description": "",
            "description_tooltip": null,
            "layout": "IPY_MODEL_41fc2e1b85204599ae93e77530b5acef",
            "placeholder": "​",
            "style": "IPY_MODEL_47be9f1ea0a34c53bc367948d97afaa8",
            "value": "1166 / 1166"
          }
        },
        "2551b34bcd404c7a95ad9364383fe2ca": {
          "model_module": "@jupyter-widgets/base",
          "model_name": "LayoutModel",
          "model_module_version": "1.2.0",
          "state": {
            "_model_module": "@jupyter-widgets/base",
            "_model_module_version": "1.2.0",
            "_model_name": "LayoutModel",
            "_view_count": null,
            "_view_module": "@jupyter-widgets/base",
            "_view_module_version": "1.2.0",
            "_view_name": "LayoutView",
            "align_content": null,
            "align_items": null,
            "align_self": null,
            "border": null,
            "bottom": null,
            "display": null,
            "flex": null,
            "flex_flow": null,
            "grid_area": null,
            "grid_auto_columns": null,
            "grid_auto_flow": null,
            "grid_auto_rows": null,
            "grid_column": null,
            "grid_gap": null,
            "grid_row": null,
            "grid_template_areas": null,
            "grid_template_columns": null,
            "grid_template_rows": null,
            "height": null,
            "justify_content": null,
            "justify_items": null,
            "left": null,
            "margin": null,
            "max_height": null,
            "max_width": null,
            "min_height": null,
            "min_width": null,
            "object_fit": null,
            "object_position": null,
            "order": null,
            "overflow": null,
            "overflow_x": null,
            "overflow_y": null,
            "padding": null,
            "right": null,
            "top": null,
            "visibility": null,
            "width": null
          }
        },
        "072689960cce43fca9408cd44851528e": {
          "model_module": "@jupyter-widgets/controls",
          "model_name": "IntProgressModel",
          "model_module_version": "1.5.0",
          "state": {
            "_dom_classes": [],
            "_model_module": "@jupyter-widgets/controls",
            "_model_module_version": "1.5.0",
            "_model_name": "IntProgressModel",
            "_view_count": null,
            "_view_module": "@jupyter-widgets/controls",
            "_view_module_version": "1.5.0",
            "_view_name": "ProgressView",
            "bar_style": "success",
            "description": "100.00%",
            "description_tooltip": null,
            "layout": "IPY_MODEL_f0b2bebec13540a691d61ad9430e0408",
            "max": 1166,
            "min": 0,
            "orientation": "horizontal",
            "style": "IPY_MODEL_242a0a923e864dd3b6ed658db86177f4",
            "value": 1166
          }
        },
        "7b72b26a4df347669045cdca28f59164": {
          "model_module": "@jupyter-widgets/controls",
          "model_name": "LabelModel",
          "model_module_version": "1.5.0",
          "state": {
            "_dom_classes": [],
            "_model_module": "@jupyter-widgets/controls",
            "_model_module_version": "1.5.0",
            "_model_name": "LabelModel",
            "_view_count": null,
            "_view_module": "@jupyter-widgets/controls",
            "_view_module_version": "1.5.0",
            "_view_name": "LabelView",
            "description": "",
            "description_tooltip": null,
            "layout": "IPY_MODEL_30cc70b94166416d8bbb066f6b02b907",
            "placeholder": "​",
            "style": "IPY_MODEL_de971938c7b347c78bbefccda08a2387",
            "value": "1166 / 1166"
          }
        },
        "5d9e3d652cb94d60bf659169b1139b61": {
          "model_module": "@jupyter-widgets/base",
          "model_name": "LayoutModel",
          "model_module_version": "1.2.0",
          "state": {
            "_model_module": "@jupyter-widgets/base",
            "_model_module_version": "1.2.0",
            "_model_name": "LayoutModel",
            "_view_count": null,
            "_view_module": "@jupyter-widgets/base",
            "_view_module_version": "1.2.0",
            "_view_name": "LayoutView",
            "align_content": null,
            "align_items": null,
            "align_self": null,
            "border": null,
            "bottom": null,
            "display": null,
            "flex": null,
            "flex_flow": null,
            "grid_area": null,
            "grid_auto_columns": null,
            "grid_auto_flow": null,
            "grid_auto_rows": null,
            "grid_column": null,
            "grid_gap": null,
            "grid_row": null,
            "grid_template_areas": null,
            "grid_template_columns": null,
            "grid_template_rows": null,
            "height": null,
            "justify_content": null,
            "justify_items": null,
            "left": null,
            "margin": null,
            "max_height": null,
            "max_width": null,
            "min_height": null,
            "min_width": null,
            "object_fit": null,
            "object_position": null,
            "order": null,
            "overflow": null,
            "overflow_x": null,
            "overflow_y": null,
            "padding": null,
            "right": null,
            "top": null,
            "visibility": null,
            "width": null
          }
        },
        "8a1e1f1c4e6f43a9b0ef5971d0dd2d2c": {
          "model_module": "@jupyter-widgets/controls",
          "model_name": "IntProgressModel",
          "model_module_version": "1.5.0",
          "state": {
            "_dom_classes": [],
            "_model_module": "@jupyter-widgets/controls",
            "_model_module_version": "1.5.0",
            "_model_name": "IntProgressModel",
            "_view_count": null,
            "_view_module": "@jupyter-widgets/controls",
            "_view_module_version": "1.5.0",
            "_view_name": "ProgressView",
            "bar_style": "success",
            "description": "100.00%",
            "description_tooltip": null,
            "layout": "IPY_MODEL_c7e9dd4995c9487997765b9b8216b7a8",
            "max": 1166,
            "min": 0,
            "orientation": "horizontal",
            "style": "IPY_MODEL_1a27e6eeeec240fe98d86ba1f6f77494",
            "value": 1166
          }
        },
        "418d9f1e738944e4ba26c8b42cbaadf9": {
          "model_module": "@jupyter-widgets/controls",
          "model_name": "LabelModel",
          "model_module_version": "1.5.0",
          "state": {
            "_dom_classes": [],
            "_model_module": "@jupyter-widgets/controls",
            "_model_module_version": "1.5.0",
            "_model_name": "LabelModel",
            "_view_count": null,
            "_view_module": "@jupyter-widgets/controls",
            "_view_module_version": "1.5.0",
            "_view_name": "LabelView",
            "description": "",
            "description_tooltip": null,
            "layout": "IPY_MODEL_84a629642ffd4de883886a1408dc9085",
            "placeholder": "​",
            "style": "IPY_MODEL_a2b945e8a86b42098bd3e68f29f8a80f",
            "value": "1166 / 1166"
          }
        },
        "0b2816cdceb143e68585cc0a998c8811": {
          "model_module": "@jupyter-widgets/base",
          "model_name": "LayoutModel",
          "model_module_version": "1.2.0",
          "state": {
            "_model_module": "@jupyter-widgets/base",
            "_model_module_version": "1.2.0",
            "_model_name": "LayoutModel",
            "_view_count": null,
            "_view_module": "@jupyter-widgets/base",
            "_view_module_version": "1.2.0",
            "_view_name": "LayoutView",
            "align_content": null,
            "align_items": null,
            "align_self": null,
            "border": null,
            "bottom": null,
            "display": null,
            "flex": null,
            "flex_flow": null,
            "grid_area": null,
            "grid_auto_columns": null,
            "grid_auto_flow": null,
            "grid_auto_rows": null,
            "grid_column": null,
            "grid_gap": null,
            "grid_row": null,
            "grid_template_areas": null,
            "grid_template_columns": null,
            "grid_template_rows": null,
            "height": null,
            "justify_content": null,
            "justify_items": null,
            "left": null,
            "margin": null,
            "max_height": null,
            "max_width": null,
            "min_height": null,
            "min_width": null,
            "object_fit": null,
            "object_position": null,
            "order": null,
            "overflow": null,
            "overflow_x": null,
            "overflow_y": null,
            "padding": null,
            "right": null,
            "top": null,
            "visibility": null,
            "width": null
          }
        },
        "81d42c1db0d84ca685df7eeb21bf8afe": {
          "model_module": "@jupyter-widgets/controls",
          "model_name": "IntProgressModel",
          "model_module_version": "1.5.0",
          "state": {
            "_dom_classes": [],
            "_model_module": "@jupyter-widgets/controls",
            "_model_module_version": "1.5.0",
            "_model_name": "IntProgressModel",
            "_view_count": null,
            "_view_module": "@jupyter-widgets/controls",
            "_view_module_version": "1.5.0",
            "_view_name": "ProgressView",
            "bar_style": "success",
            "description": "100.00%",
            "description_tooltip": null,
            "layout": "IPY_MODEL_1b80ffda7f1f4d5a877071f77023c71f",
            "max": 1166,
            "min": 0,
            "orientation": "horizontal",
            "style": "IPY_MODEL_fdd3635ae6894c2a9b899d08e8700a49",
            "value": 1166
          }
        },
        "fb8ec2a9677d41e7aa858f0ce9a1e4dc": {
          "model_module": "@jupyter-widgets/controls",
          "model_name": "LabelModel",
          "model_module_version": "1.5.0",
          "state": {
            "_dom_classes": [],
            "_model_module": "@jupyter-widgets/controls",
            "_model_module_version": "1.5.0",
            "_model_name": "LabelModel",
            "_view_count": null,
            "_view_module": "@jupyter-widgets/controls",
            "_view_module_version": "1.5.0",
            "_view_name": "LabelView",
            "description": "",
            "description_tooltip": null,
            "layout": "IPY_MODEL_aaa31a0a68794c75aa5f9094bb43b363",
            "placeholder": "​",
            "style": "IPY_MODEL_213a8e4d9af74b18a275f270d011a6fa",
            "value": "1166 / 1166"
          }
        },
        "4ddbc024330a4c08acc2c836f1811422": {
          "model_module": "@jupyter-widgets/base",
          "model_name": "LayoutModel",
          "model_module_version": "1.2.0",
          "state": {
            "_model_module": "@jupyter-widgets/base",
            "_model_module_version": "1.2.0",
            "_model_name": "LayoutModel",
            "_view_count": null,
            "_view_module": "@jupyter-widgets/base",
            "_view_module_version": "1.2.0",
            "_view_name": "LayoutView",
            "align_content": null,
            "align_items": null,
            "align_self": null,
            "border": null,
            "bottom": null,
            "display": null,
            "flex": null,
            "flex_flow": null,
            "grid_area": null,
            "grid_auto_columns": null,
            "grid_auto_flow": null,
            "grid_auto_rows": null,
            "grid_column": null,
            "grid_gap": null,
            "grid_row": null,
            "grid_template_areas": null,
            "grid_template_columns": null,
            "grid_template_rows": null,
            "height": null,
            "justify_content": null,
            "justify_items": null,
            "left": null,
            "margin": null,
            "max_height": null,
            "max_width": null,
            "min_height": null,
            "min_width": null,
            "object_fit": null,
            "object_position": null,
            "order": null,
            "overflow": null,
            "overflow_x": null,
            "overflow_y": null,
            "padding": null,
            "right": null,
            "top": null,
            "visibility": null,
            "width": null
          }
        },
        "fd138f89038a456993ccef1d2dbb90c4": {
          "model_module": "@jupyter-widgets/controls",
          "model_name": "IntProgressModel",
          "model_module_version": "1.5.0",
          "state": {
            "_dom_classes": [],
            "_model_module": "@jupyter-widgets/controls",
            "_model_module_version": "1.5.0",
            "_model_name": "IntProgressModel",
            "_view_count": null,
            "_view_module": "@jupyter-widgets/controls",
            "_view_module_version": "1.5.0",
            "_view_name": "ProgressView",
            "bar_style": "success",
            "description": "100.00%",
            "description_tooltip": null,
            "layout": "IPY_MODEL_d6a98eb1313b465baefe6d717cd8d4df",
            "max": 1166,
            "min": 0,
            "orientation": "horizontal",
            "style": "IPY_MODEL_004b37de2b3f48ae8b8cbe300d49ec13",
            "value": 1166
          }
        },
        "dae1cdf18d0848e89e607ba51fd3234f": {
          "model_module": "@jupyter-widgets/controls",
          "model_name": "LabelModel",
          "model_module_version": "1.5.0",
          "state": {
            "_dom_classes": [],
            "_model_module": "@jupyter-widgets/controls",
            "_model_module_version": "1.5.0",
            "_model_name": "LabelModel",
            "_view_count": null,
            "_view_module": "@jupyter-widgets/controls",
            "_view_module_version": "1.5.0",
            "_view_name": "LabelView",
            "description": "",
            "description_tooltip": null,
            "layout": "IPY_MODEL_0ba670db0a734a2aae7aa8523cc81d08",
            "placeholder": "​",
            "style": "IPY_MODEL_dab3798cdbcd4240a190e95c827a91bc",
            "value": "1166 / 1166"
          }
        },
        "3cabcd0141dd488a94299e1f1994e06b": {
          "model_module": "@jupyter-widgets/base",
          "model_name": "LayoutModel",
          "model_module_version": "1.2.0",
          "state": {
            "_model_module": "@jupyter-widgets/base",
            "_model_module_version": "1.2.0",
            "_model_name": "LayoutModel",
            "_view_count": null,
            "_view_module": "@jupyter-widgets/base",
            "_view_module_version": "1.2.0",
            "_view_name": "LayoutView",
            "align_content": null,
            "align_items": null,
            "align_self": null,
            "border": null,
            "bottom": null,
            "display": null,
            "flex": null,
            "flex_flow": null,
            "grid_area": null,
            "grid_auto_columns": null,
            "grid_auto_flow": null,
            "grid_auto_rows": null,
            "grid_column": null,
            "grid_gap": null,
            "grid_row": null,
            "grid_template_areas": null,
            "grid_template_columns": null,
            "grid_template_rows": null,
            "height": null,
            "justify_content": null,
            "justify_items": null,
            "left": null,
            "margin": null,
            "max_height": null,
            "max_width": null,
            "min_height": null,
            "min_width": null,
            "object_fit": null,
            "object_position": null,
            "order": null,
            "overflow": null,
            "overflow_x": null,
            "overflow_y": null,
            "padding": null,
            "right": null,
            "top": null,
            "visibility": null,
            "width": null
          }
        },
        "3c10779bccb6461cbc0eb6543bd8302d": {
          "model_module": "@jupyter-widgets/controls",
          "model_name": "IntProgressModel",
          "model_module_version": "1.5.0",
          "state": {
            "_dom_classes": [],
            "_model_module": "@jupyter-widgets/controls",
            "_model_module_version": "1.5.0",
            "_model_name": "IntProgressModel",
            "_view_count": null,
            "_view_module": "@jupyter-widgets/controls",
            "_view_module_version": "1.5.0",
            "_view_name": "ProgressView",
            "bar_style": "success",
            "description": "100.00%",
            "description_tooltip": null,
            "layout": "IPY_MODEL_3459e957591547a588f791e7281fcae6",
            "max": 1166,
            "min": 0,
            "orientation": "horizontal",
            "style": "IPY_MODEL_dde9170abf9a4d05955c37b63013a2c7",
            "value": 1166
          }
        },
        "1ea3993acead4bfcaca7198b422df5e3": {
          "model_module": "@jupyter-widgets/controls",
          "model_name": "LabelModel",
          "model_module_version": "1.5.0",
          "state": {
            "_dom_classes": [],
            "_model_module": "@jupyter-widgets/controls",
            "_model_module_version": "1.5.0",
            "_model_name": "LabelModel",
            "_view_count": null,
            "_view_module": "@jupyter-widgets/controls",
            "_view_module_version": "1.5.0",
            "_view_name": "LabelView",
            "description": "",
            "description_tooltip": null,
            "layout": "IPY_MODEL_730fe38cbcfe47ee96c8ee9bf77bd7f2",
            "placeholder": "​",
            "style": "IPY_MODEL_9eed2cf71bbc46519db889b63ff2eccf",
            "value": "1166 / 1166"
          }
        },
        "3e3526ebe767467d874ba069e3d1f1c2": {
          "model_module": "@jupyter-widgets/base",
          "model_name": "LayoutModel",
          "model_module_version": "1.2.0",
          "state": {
            "_model_module": "@jupyter-widgets/base",
            "_model_module_version": "1.2.0",
            "_model_name": "LayoutModel",
            "_view_count": null,
            "_view_module": "@jupyter-widgets/base",
            "_view_module_version": "1.2.0",
            "_view_name": "LayoutView",
            "align_content": null,
            "align_items": null,
            "align_self": null,
            "border": null,
            "bottom": null,
            "display": null,
            "flex": null,
            "flex_flow": null,
            "grid_area": null,
            "grid_auto_columns": null,
            "grid_auto_flow": null,
            "grid_auto_rows": null,
            "grid_column": null,
            "grid_gap": null,
            "grid_row": null,
            "grid_template_areas": null,
            "grid_template_columns": null,
            "grid_template_rows": null,
            "height": null,
            "justify_content": null,
            "justify_items": null,
            "left": null,
            "margin": null,
            "max_height": null,
            "max_width": null,
            "min_height": null,
            "min_width": null,
            "object_fit": null,
            "object_position": null,
            "order": null,
            "overflow": null,
            "overflow_x": null,
            "overflow_y": null,
            "padding": null,
            "right": null,
            "top": null,
            "visibility": null,
            "width": null
          }
        },
        "f332499f40584f949be64cd34057a321": {
          "model_module": "@jupyter-widgets/controls",
          "model_name": "IntProgressModel",
          "model_module_version": "1.5.0",
          "state": {
            "_dom_classes": [],
            "_model_module": "@jupyter-widgets/controls",
            "_model_module_version": "1.5.0",
            "_model_name": "IntProgressModel",
            "_view_count": null,
            "_view_module": "@jupyter-widgets/controls",
            "_view_module_version": "1.5.0",
            "_view_name": "ProgressView",
            "bar_style": "success",
            "description": "100.00%",
            "description_tooltip": null,
            "layout": "IPY_MODEL_8347f2093bae41cc8342d42867891f44",
            "max": 1166,
            "min": 0,
            "orientation": "horizontal",
            "style": "IPY_MODEL_ab00b32cbd0a4fa8b4eca9a40d92c2ae",
            "value": 1166
          }
        },
        "b6d82dad2cdf4519bfff7d20f614a671": {
          "model_module": "@jupyter-widgets/controls",
          "model_name": "LabelModel",
          "model_module_version": "1.5.0",
          "state": {
            "_dom_classes": [],
            "_model_module": "@jupyter-widgets/controls",
            "_model_module_version": "1.5.0",
            "_model_name": "LabelModel",
            "_view_count": null,
            "_view_module": "@jupyter-widgets/controls",
            "_view_module_version": "1.5.0",
            "_view_name": "LabelView",
            "description": "",
            "description_tooltip": null,
            "layout": "IPY_MODEL_d92271c726c5451fb5fc1f31ac41b83f",
            "placeholder": "​",
            "style": "IPY_MODEL_cb732f14d0d448fe8f63c4caf70f70d3",
            "value": "1166 / 1166"
          }
        },
        "65a55121236f4aa2bcc38d614cf7e0a5": {
          "model_module": "@jupyter-widgets/base",
          "model_name": "LayoutModel",
          "model_module_version": "1.2.0",
          "state": {
            "_model_module": "@jupyter-widgets/base",
            "_model_module_version": "1.2.0",
            "_model_name": "LayoutModel",
            "_view_count": null,
            "_view_module": "@jupyter-widgets/base",
            "_view_module_version": "1.2.0",
            "_view_name": "LayoutView",
            "align_content": null,
            "align_items": null,
            "align_self": null,
            "border": null,
            "bottom": null,
            "display": null,
            "flex": null,
            "flex_flow": null,
            "grid_area": null,
            "grid_auto_columns": null,
            "grid_auto_flow": null,
            "grid_auto_rows": null,
            "grid_column": null,
            "grid_gap": null,
            "grid_row": null,
            "grid_template_areas": null,
            "grid_template_columns": null,
            "grid_template_rows": null,
            "height": null,
            "justify_content": null,
            "justify_items": null,
            "left": null,
            "margin": null,
            "max_height": null,
            "max_width": null,
            "min_height": null,
            "min_width": null,
            "object_fit": null,
            "object_position": null,
            "order": null,
            "overflow": null,
            "overflow_x": null,
            "overflow_y": null,
            "padding": null,
            "right": null,
            "top": null,
            "visibility": null,
            "width": null
          }
        },
        "bef2987e615c4e7cb02a30a665816eee": {
          "model_module": "@jupyter-widgets/controls",
          "model_name": "IntProgressModel",
          "model_module_version": "1.5.0",
          "state": {
            "_dom_classes": [],
            "_model_module": "@jupyter-widgets/controls",
            "_model_module_version": "1.5.0",
            "_model_name": "IntProgressModel",
            "_view_count": null,
            "_view_module": "@jupyter-widgets/controls",
            "_view_module_version": "1.5.0",
            "_view_name": "ProgressView",
            "bar_style": "success",
            "description": "100.00%",
            "description_tooltip": null,
            "layout": "IPY_MODEL_21538fb9af544721843c65b78cd4da86",
            "max": 1165,
            "min": 0,
            "orientation": "horizontal",
            "style": "IPY_MODEL_545ff2d9be7e45e9abf4974a46fd0145",
            "value": 1165
          }
        },
        "b135c57d64e2462b9393e1b577e98bdc": {
          "model_module": "@jupyter-widgets/controls",
          "model_name": "LabelModel",
          "model_module_version": "1.5.0",
          "state": {
            "_dom_classes": [],
            "_model_module": "@jupyter-widgets/controls",
            "_model_module_version": "1.5.0",
            "_model_name": "LabelModel",
            "_view_count": null,
            "_view_module": "@jupyter-widgets/controls",
            "_view_module_version": "1.5.0",
            "_view_name": "LabelView",
            "description": "",
            "description_tooltip": null,
            "layout": "IPY_MODEL_e2c138648b754a4cb99454a97e47632e",
            "placeholder": "​",
            "style": "IPY_MODEL_5c9fc3feb29f4869b90b765399c4c118",
            "value": "1165 / 1165"
          }
        },
        "efa120404e0a4bfe804fdf31bd5aa7ca": {
          "model_module": "@jupyter-widgets/base",
          "model_name": "LayoutModel",
          "model_module_version": "1.2.0",
          "state": {
            "_model_module": "@jupyter-widgets/base",
            "_model_module_version": "1.2.0",
            "_model_name": "LayoutModel",
            "_view_count": null,
            "_view_module": "@jupyter-widgets/base",
            "_view_module_version": "1.2.0",
            "_view_name": "LayoutView",
            "align_content": null,
            "align_items": null,
            "align_self": null,
            "border": null,
            "bottom": null,
            "display": null,
            "flex": null,
            "flex_flow": null,
            "grid_area": null,
            "grid_auto_columns": null,
            "grid_auto_flow": null,
            "grid_auto_rows": null,
            "grid_column": null,
            "grid_gap": null,
            "grid_row": null,
            "grid_template_areas": null,
            "grid_template_columns": null,
            "grid_template_rows": null,
            "height": null,
            "justify_content": null,
            "justify_items": null,
            "left": null,
            "margin": null,
            "max_height": null,
            "max_width": null,
            "min_height": null,
            "min_width": null,
            "object_fit": null,
            "object_position": null,
            "order": null,
            "overflow": null,
            "overflow_x": null,
            "overflow_y": null,
            "padding": null,
            "right": null,
            "top": null,
            "visibility": null,
            "width": null
          }
        },
        "22b798cb63a7437088fb8f7e03313c28": {
          "model_module": "@jupyter-widgets/controls",
          "model_name": "IntProgressModel",
          "model_module_version": "1.5.0",
          "state": {
            "_dom_classes": [],
            "_model_module": "@jupyter-widgets/controls",
            "_model_module_version": "1.5.0",
            "_model_name": "IntProgressModel",
            "_view_count": null,
            "_view_module": "@jupyter-widgets/controls",
            "_view_module_version": "1.5.0",
            "_view_name": "ProgressView",
            "bar_style": "success",
            "description": "100.00%",
            "description_tooltip": null,
            "layout": "IPY_MODEL_301e79ed6ecb4b4b96c26a8d5a097f7e",
            "max": 1165,
            "min": 0,
            "orientation": "horizontal",
            "style": "IPY_MODEL_e20a1957644847b5b248cca10c31a6aa",
            "value": 1165
          }
        },
        "62963515ef1246508dee37e453b46270": {
          "model_module": "@jupyter-widgets/controls",
          "model_name": "LabelModel",
          "model_module_version": "1.5.0",
          "state": {
            "_dom_classes": [],
            "_model_module": "@jupyter-widgets/controls",
            "_model_module_version": "1.5.0",
            "_model_name": "LabelModel",
            "_view_count": null,
            "_view_module": "@jupyter-widgets/controls",
            "_view_module_version": "1.5.0",
            "_view_name": "LabelView",
            "description": "",
            "description_tooltip": null,
            "layout": "IPY_MODEL_b9ca1e1228fd4635acbaa1e13ac52bb7",
            "placeholder": "​",
            "style": "IPY_MODEL_1651fa33fb7c4cf1971f45b8f4f6f61d",
            "value": "1165 / 1165"
          }
        },
        "b10a5519de7940508127ce9339d961f0": {
          "model_module": "@jupyter-widgets/base",
          "model_name": "LayoutModel",
          "model_module_version": "1.2.0",
          "state": {
            "_model_module": "@jupyter-widgets/base",
            "_model_module_version": "1.2.0",
            "_model_name": "LayoutModel",
            "_view_count": null,
            "_view_module": "@jupyter-widgets/base",
            "_view_module_version": "1.2.0",
            "_view_name": "LayoutView",
            "align_content": null,
            "align_items": null,
            "align_self": null,
            "border": null,
            "bottom": null,
            "display": null,
            "flex": null,
            "flex_flow": null,
            "grid_area": null,
            "grid_auto_columns": null,
            "grid_auto_flow": null,
            "grid_auto_rows": null,
            "grid_column": null,
            "grid_gap": null,
            "grid_row": null,
            "grid_template_areas": null,
            "grid_template_columns": null,
            "grid_template_rows": null,
            "height": null,
            "justify_content": null,
            "justify_items": null,
            "left": null,
            "margin": null,
            "max_height": null,
            "max_width": null,
            "min_height": null,
            "min_width": null,
            "object_fit": null,
            "object_position": null,
            "order": null,
            "overflow": null,
            "overflow_x": null,
            "overflow_y": null,
            "padding": null,
            "right": null,
            "top": null,
            "visibility": null,
            "width": null
          }
        },
        "efbebf21c7ad461eb4f8ad45d61febfa": {
          "model_module": "@jupyter-widgets/controls",
          "model_name": "IntProgressModel",
          "model_module_version": "1.5.0",
          "state": {
            "_dom_classes": [],
            "_model_module": "@jupyter-widgets/controls",
            "_model_module_version": "1.5.0",
            "_model_name": "IntProgressModel",
            "_view_count": null,
            "_view_module": "@jupyter-widgets/controls",
            "_view_module_version": "1.5.0",
            "_view_name": "ProgressView",
            "bar_style": "success",
            "description": "100.00%",
            "description_tooltip": null,
            "layout": "IPY_MODEL_166e9876ac9d48f6983ed7bfd58dd8b5",
            "max": 1165,
            "min": 0,
            "orientation": "horizontal",
            "style": "IPY_MODEL_cf99c20e103f43c2b53cea6e0e42f6d5",
            "value": 1165
          }
        },
        "ff5c8145d59046018482b0ffcdfca411": {
          "model_module": "@jupyter-widgets/controls",
          "model_name": "LabelModel",
          "model_module_version": "1.5.0",
          "state": {
            "_dom_classes": [],
            "_model_module": "@jupyter-widgets/controls",
            "_model_module_version": "1.5.0",
            "_model_name": "LabelModel",
            "_view_count": null,
            "_view_module": "@jupyter-widgets/controls",
            "_view_module_version": "1.5.0",
            "_view_name": "LabelView",
            "description": "",
            "description_tooltip": null,
            "layout": "IPY_MODEL_607a78d9f12e41d2b4b03f2c9caa53f2",
            "placeholder": "​",
            "style": "IPY_MODEL_109e116bd8c8487393413f913807c8a3",
            "value": "1165 / 1165"
          }
        },
        "7f9c453f1a6f48b6867ef85367bb28c2": {
          "model_module": "@jupyter-widgets/base",
          "model_name": "LayoutModel",
          "model_module_version": "1.2.0",
          "state": {
            "_model_module": "@jupyter-widgets/base",
            "_model_module_version": "1.2.0",
            "_model_name": "LayoutModel",
            "_view_count": null,
            "_view_module": "@jupyter-widgets/base",
            "_view_module_version": "1.2.0",
            "_view_name": "LayoutView",
            "align_content": null,
            "align_items": null,
            "align_self": null,
            "border": null,
            "bottom": null,
            "display": null,
            "flex": null,
            "flex_flow": null,
            "grid_area": null,
            "grid_auto_columns": null,
            "grid_auto_flow": null,
            "grid_auto_rows": null,
            "grid_column": null,
            "grid_gap": null,
            "grid_row": null,
            "grid_template_areas": null,
            "grid_template_columns": null,
            "grid_template_rows": null,
            "height": null,
            "justify_content": null,
            "justify_items": null,
            "left": null,
            "margin": null,
            "max_height": null,
            "max_width": null,
            "min_height": null,
            "min_width": null,
            "object_fit": null,
            "object_position": null,
            "order": null,
            "overflow": null,
            "overflow_x": null,
            "overflow_y": null,
            "padding": null,
            "right": null,
            "top": null,
            "visibility": null,
            "width": null
          }
        },
        "dd944ef3d59c474385262ccfd64c1b07": {
          "model_module": "@jupyter-widgets/base",
          "model_name": "LayoutModel",
          "model_module_version": "1.2.0",
          "state": {
            "_model_module": "@jupyter-widgets/base",
            "_model_module_version": "1.2.0",
            "_model_name": "LayoutModel",
            "_view_count": null,
            "_view_module": "@jupyter-widgets/base",
            "_view_module_version": "1.2.0",
            "_view_name": "LayoutView",
            "align_content": null,
            "align_items": null,
            "align_self": null,
            "border": null,
            "bottom": null,
            "display": null,
            "flex": null,
            "flex_flow": null,
            "grid_area": null,
            "grid_auto_columns": null,
            "grid_auto_flow": null,
            "grid_auto_rows": null,
            "grid_column": null,
            "grid_gap": null,
            "grid_row": null,
            "grid_template_areas": null,
            "grid_template_columns": null,
            "grid_template_rows": null,
            "height": null,
            "justify_content": null,
            "justify_items": null,
            "left": null,
            "margin": null,
            "max_height": null,
            "max_width": null,
            "min_height": null,
            "min_width": null,
            "object_fit": null,
            "object_position": null,
            "order": null,
            "overflow": null,
            "overflow_x": null,
            "overflow_y": null,
            "padding": null,
            "right": null,
            "top": null,
            "visibility": null,
            "width": null
          }
        },
        "50fdf624cc3a4d348567142c4345364e": {
          "model_module": "@jupyter-widgets/controls",
          "model_name": "ProgressStyleModel",
          "model_module_version": "1.5.0",
          "state": {
            "_model_module": "@jupyter-widgets/controls",
            "_model_module_version": "1.5.0",
            "_model_name": "ProgressStyleModel",
            "_view_count": null,
            "_view_module": "@jupyter-widgets/base",
            "_view_module_version": "1.2.0",
            "_view_name": "StyleView",
            "bar_color": null,
            "description_width": ""
          }
        },
        "41fc2e1b85204599ae93e77530b5acef": {
          "model_module": "@jupyter-widgets/base",
          "model_name": "LayoutModel",
          "model_module_version": "1.2.0",
          "state": {
            "_model_module": "@jupyter-widgets/base",
            "_model_module_version": "1.2.0",
            "_model_name": "LayoutModel",
            "_view_count": null,
            "_view_module": "@jupyter-widgets/base",
            "_view_module_version": "1.2.0",
            "_view_name": "LayoutView",
            "align_content": null,
            "align_items": null,
            "align_self": null,
            "border": null,
            "bottom": null,
            "display": null,
            "flex": null,
            "flex_flow": null,
            "grid_area": null,
            "grid_auto_columns": null,
            "grid_auto_flow": null,
            "grid_auto_rows": null,
            "grid_column": null,
            "grid_gap": null,
            "grid_row": null,
            "grid_template_areas": null,
            "grid_template_columns": null,
            "grid_template_rows": null,
            "height": null,
            "justify_content": null,
            "justify_items": null,
            "left": null,
            "margin": null,
            "max_height": null,
            "max_width": null,
            "min_height": null,
            "min_width": null,
            "object_fit": null,
            "object_position": null,
            "order": null,
            "overflow": null,
            "overflow_x": null,
            "overflow_y": null,
            "padding": null,
            "right": null,
            "top": null,
            "visibility": null,
            "width": null
          }
        },
        "47be9f1ea0a34c53bc367948d97afaa8": {
          "model_module": "@jupyter-widgets/controls",
          "model_name": "DescriptionStyleModel",
          "model_module_version": "1.5.0",
          "state": {
            "_model_module": "@jupyter-widgets/controls",
            "_model_module_version": "1.5.0",
            "_model_name": "DescriptionStyleModel",
            "_view_count": null,
            "_view_module": "@jupyter-widgets/base",
            "_view_module_version": "1.2.0",
            "_view_name": "StyleView",
            "description_width": ""
          }
        },
        "f0b2bebec13540a691d61ad9430e0408": {
          "model_module": "@jupyter-widgets/base",
          "model_name": "LayoutModel",
          "model_module_version": "1.2.0",
          "state": {
            "_model_module": "@jupyter-widgets/base",
            "_model_module_version": "1.2.0",
            "_model_name": "LayoutModel",
            "_view_count": null,
            "_view_module": "@jupyter-widgets/base",
            "_view_module_version": "1.2.0",
            "_view_name": "LayoutView",
            "align_content": null,
            "align_items": null,
            "align_self": null,
            "border": null,
            "bottom": null,
            "display": null,
            "flex": null,
            "flex_flow": null,
            "grid_area": null,
            "grid_auto_columns": null,
            "grid_auto_flow": null,
            "grid_auto_rows": null,
            "grid_column": null,
            "grid_gap": null,
            "grid_row": null,
            "grid_template_areas": null,
            "grid_template_columns": null,
            "grid_template_rows": null,
            "height": null,
            "justify_content": null,
            "justify_items": null,
            "left": null,
            "margin": null,
            "max_height": null,
            "max_width": null,
            "min_height": null,
            "min_width": null,
            "object_fit": null,
            "object_position": null,
            "order": null,
            "overflow": null,
            "overflow_x": null,
            "overflow_y": null,
            "padding": null,
            "right": null,
            "top": null,
            "visibility": null,
            "width": null
          }
        },
        "242a0a923e864dd3b6ed658db86177f4": {
          "model_module": "@jupyter-widgets/controls",
          "model_name": "ProgressStyleModel",
          "model_module_version": "1.5.0",
          "state": {
            "_model_module": "@jupyter-widgets/controls",
            "_model_module_version": "1.5.0",
            "_model_name": "ProgressStyleModel",
            "_view_count": null,
            "_view_module": "@jupyter-widgets/base",
            "_view_module_version": "1.2.0",
            "_view_name": "StyleView",
            "bar_color": null,
            "description_width": ""
          }
        },
        "30cc70b94166416d8bbb066f6b02b907": {
          "model_module": "@jupyter-widgets/base",
          "model_name": "LayoutModel",
          "model_module_version": "1.2.0",
          "state": {
            "_model_module": "@jupyter-widgets/base",
            "_model_module_version": "1.2.0",
            "_model_name": "LayoutModel",
            "_view_count": null,
            "_view_module": "@jupyter-widgets/base",
            "_view_module_version": "1.2.0",
            "_view_name": "LayoutView",
            "align_content": null,
            "align_items": null,
            "align_self": null,
            "border": null,
            "bottom": null,
            "display": null,
            "flex": null,
            "flex_flow": null,
            "grid_area": null,
            "grid_auto_columns": null,
            "grid_auto_flow": null,
            "grid_auto_rows": null,
            "grid_column": null,
            "grid_gap": null,
            "grid_row": null,
            "grid_template_areas": null,
            "grid_template_columns": null,
            "grid_template_rows": null,
            "height": null,
            "justify_content": null,
            "justify_items": null,
            "left": null,
            "margin": null,
            "max_height": null,
            "max_width": null,
            "min_height": null,
            "min_width": null,
            "object_fit": null,
            "object_position": null,
            "order": null,
            "overflow": null,
            "overflow_x": null,
            "overflow_y": null,
            "padding": null,
            "right": null,
            "top": null,
            "visibility": null,
            "width": null
          }
        },
        "de971938c7b347c78bbefccda08a2387": {
          "model_module": "@jupyter-widgets/controls",
          "model_name": "DescriptionStyleModel",
          "model_module_version": "1.5.0",
          "state": {
            "_model_module": "@jupyter-widgets/controls",
            "_model_module_version": "1.5.0",
            "_model_name": "DescriptionStyleModel",
            "_view_count": null,
            "_view_module": "@jupyter-widgets/base",
            "_view_module_version": "1.2.0",
            "_view_name": "StyleView",
            "description_width": ""
          }
        },
        "c7e9dd4995c9487997765b9b8216b7a8": {
          "model_module": "@jupyter-widgets/base",
          "model_name": "LayoutModel",
          "model_module_version": "1.2.0",
          "state": {
            "_model_module": "@jupyter-widgets/base",
            "_model_module_version": "1.2.0",
            "_model_name": "LayoutModel",
            "_view_count": null,
            "_view_module": "@jupyter-widgets/base",
            "_view_module_version": "1.2.0",
            "_view_name": "LayoutView",
            "align_content": null,
            "align_items": null,
            "align_self": null,
            "border": null,
            "bottom": null,
            "display": null,
            "flex": null,
            "flex_flow": null,
            "grid_area": null,
            "grid_auto_columns": null,
            "grid_auto_flow": null,
            "grid_auto_rows": null,
            "grid_column": null,
            "grid_gap": null,
            "grid_row": null,
            "grid_template_areas": null,
            "grid_template_columns": null,
            "grid_template_rows": null,
            "height": null,
            "justify_content": null,
            "justify_items": null,
            "left": null,
            "margin": null,
            "max_height": null,
            "max_width": null,
            "min_height": null,
            "min_width": null,
            "object_fit": null,
            "object_position": null,
            "order": null,
            "overflow": null,
            "overflow_x": null,
            "overflow_y": null,
            "padding": null,
            "right": null,
            "top": null,
            "visibility": null,
            "width": null
          }
        },
        "1a27e6eeeec240fe98d86ba1f6f77494": {
          "model_module": "@jupyter-widgets/controls",
          "model_name": "ProgressStyleModel",
          "model_module_version": "1.5.0",
          "state": {
            "_model_module": "@jupyter-widgets/controls",
            "_model_module_version": "1.5.0",
            "_model_name": "ProgressStyleModel",
            "_view_count": null,
            "_view_module": "@jupyter-widgets/base",
            "_view_module_version": "1.2.0",
            "_view_name": "StyleView",
            "bar_color": null,
            "description_width": ""
          }
        },
        "84a629642ffd4de883886a1408dc9085": {
          "model_module": "@jupyter-widgets/base",
          "model_name": "LayoutModel",
          "model_module_version": "1.2.0",
          "state": {
            "_model_module": "@jupyter-widgets/base",
            "_model_module_version": "1.2.0",
            "_model_name": "LayoutModel",
            "_view_count": null,
            "_view_module": "@jupyter-widgets/base",
            "_view_module_version": "1.2.0",
            "_view_name": "LayoutView",
            "align_content": null,
            "align_items": null,
            "align_self": null,
            "border": null,
            "bottom": null,
            "display": null,
            "flex": null,
            "flex_flow": null,
            "grid_area": null,
            "grid_auto_columns": null,
            "grid_auto_flow": null,
            "grid_auto_rows": null,
            "grid_column": null,
            "grid_gap": null,
            "grid_row": null,
            "grid_template_areas": null,
            "grid_template_columns": null,
            "grid_template_rows": null,
            "height": null,
            "justify_content": null,
            "justify_items": null,
            "left": null,
            "margin": null,
            "max_height": null,
            "max_width": null,
            "min_height": null,
            "min_width": null,
            "object_fit": null,
            "object_position": null,
            "order": null,
            "overflow": null,
            "overflow_x": null,
            "overflow_y": null,
            "padding": null,
            "right": null,
            "top": null,
            "visibility": null,
            "width": null
          }
        },
        "a2b945e8a86b42098bd3e68f29f8a80f": {
          "model_module": "@jupyter-widgets/controls",
          "model_name": "DescriptionStyleModel",
          "model_module_version": "1.5.0",
          "state": {
            "_model_module": "@jupyter-widgets/controls",
            "_model_module_version": "1.5.0",
            "_model_name": "DescriptionStyleModel",
            "_view_count": null,
            "_view_module": "@jupyter-widgets/base",
            "_view_module_version": "1.2.0",
            "_view_name": "StyleView",
            "description_width": ""
          }
        },
        "1b80ffda7f1f4d5a877071f77023c71f": {
          "model_module": "@jupyter-widgets/base",
          "model_name": "LayoutModel",
          "model_module_version": "1.2.0",
          "state": {
            "_model_module": "@jupyter-widgets/base",
            "_model_module_version": "1.2.0",
            "_model_name": "LayoutModel",
            "_view_count": null,
            "_view_module": "@jupyter-widgets/base",
            "_view_module_version": "1.2.0",
            "_view_name": "LayoutView",
            "align_content": null,
            "align_items": null,
            "align_self": null,
            "border": null,
            "bottom": null,
            "display": null,
            "flex": null,
            "flex_flow": null,
            "grid_area": null,
            "grid_auto_columns": null,
            "grid_auto_flow": null,
            "grid_auto_rows": null,
            "grid_column": null,
            "grid_gap": null,
            "grid_row": null,
            "grid_template_areas": null,
            "grid_template_columns": null,
            "grid_template_rows": null,
            "height": null,
            "justify_content": null,
            "justify_items": null,
            "left": null,
            "margin": null,
            "max_height": null,
            "max_width": null,
            "min_height": null,
            "min_width": null,
            "object_fit": null,
            "object_position": null,
            "order": null,
            "overflow": null,
            "overflow_x": null,
            "overflow_y": null,
            "padding": null,
            "right": null,
            "top": null,
            "visibility": null,
            "width": null
          }
        },
        "fdd3635ae6894c2a9b899d08e8700a49": {
          "model_module": "@jupyter-widgets/controls",
          "model_name": "ProgressStyleModel",
          "model_module_version": "1.5.0",
          "state": {
            "_model_module": "@jupyter-widgets/controls",
            "_model_module_version": "1.5.0",
            "_model_name": "ProgressStyleModel",
            "_view_count": null,
            "_view_module": "@jupyter-widgets/base",
            "_view_module_version": "1.2.0",
            "_view_name": "StyleView",
            "bar_color": null,
            "description_width": ""
          }
        },
        "aaa31a0a68794c75aa5f9094bb43b363": {
          "model_module": "@jupyter-widgets/base",
          "model_name": "LayoutModel",
          "model_module_version": "1.2.0",
          "state": {
            "_model_module": "@jupyter-widgets/base",
            "_model_module_version": "1.2.0",
            "_model_name": "LayoutModel",
            "_view_count": null,
            "_view_module": "@jupyter-widgets/base",
            "_view_module_version": "1.2.0",
            "_view_name": "LayoutView",
            "align_content": null,
            "align_items": null,
            "align_self": null,
            "border": null,
            "bottom": null,
            "display": null,
            "flex": null,
            "flex_flow": null,
            "grid_area": null,
            "grid_auto_columns": null,
            "grid_auto_flow": null,
            "grid_auto_rows": null,
            "grid_column": null,
            "grid_gap": null,
            "grid_row": null,
            "grid_template_areas": null,
            "grid_template_columns": null,
            "grid_template_rows": null,
            "height": null,
            "justify_content": null,
            "justify_items": null,
            "left": null,
            "margin": null,
            "max_height": null,
            "max_width": null,
            "min_height": null,
            "min_width": null,
            "object_fit": null,
            "object_position": null,
            "order": null,
            "overflow": null,
            "overflow_x": null,
            "overflow_y": null,
            "padding": null,
            "right": null,
            "top": null,
            "visibility": null,
            "width": null
          }
        },
        "213a8e4d9af74b18a275f270d011a6fa": {
          "model_module": "@jupyter-widgets/controls",
          "model_name": "DescriptionStyleModel",
          "model_module_version": "1.5.0",
          "state": {
            "_model_module": "@jupyter-widgets/controls",
            "_model_module_version": "1.5.0",
            "_model_name": "DescriptionStyleModel",
            "_view_count": null,
            "_view_module": "@jupyter-widgets/base",
            "_view_module_version": "1.2.0",
            "_view_name": "StyleView",
            "description_width": ""
          }
        },
        "d6a98eb1313b465baefe6d717cd8d4df": {
          "model_module": "@jupyter-widgets/base",
          "model_name": "LayoutModel",
          "model_module_version": "1.2.0",
          "state": {
            "_model_module": "@jupyter-widgets/base",
            "_model_module_version": "1.2.0",
            "_model_name": "LayoutModel",
            "_view_count": null,
            "_view_module": "@jupyter-widgets/base",
            "_view_module_version": "1.2.0",
            "_view_name": "LayoutView",
            "align_content": null,
            "align_items": null,
            "align_self": null,
            "border": null,
            "bottom": null,
            "display": null,
            "flex": null,
            "flex_flow": null,
            "grid_area": null,
            "grid_auto_columns": null,
            "grid_auto_flow": null,
            "grid_auto_rows": null,
            "grid_column": null,
            "grid_gap": null,
            "grid_row": null,
            "grid_template_areas": null,
            "grid_template_columns": null,
            "grid_template_rows": null,
            "height": null,
            "justify_content": null,
            "justify_items": null,
            "left": null,
            "margin": null,
            "max_height": null,
            "max_width": null,
            "min_height": null,
            "min_width": null,
            "object_fit": null,
            "object_position": null,
            "order": null,
            "overflow": null,
            "overflow_x": null,
            "overflow_y": null,
            "padding": null,
            "right": null,
            "top": null,
            "visibility": null,
            "width": null
          }
        },
        "004b37de2b3f48ae8b8cbe300d49ec13": {
          "model_module": "@jupyter-widgets/controls",
          "model_name": "ProgressStyleModel",
          "model_module_version": "1.5.0",
          "state": {
            "_model_module": "@jupyter-widgets/controls",
            "_model_module_version": "1.5.0",
            "_model_name": "ProgressStyleModel",
            "_view_count": null,
            "_view_module": "@jupyter-widgets/base",
            "_view_module_version": "1.2.0",
            "_view_name": "StyleView",
            "bar_color": null,
            "description_width": ""
          }
        },
        "0ba670db0a734a2aae7aa8523cc81d08": {
          "model_module": "@jupyter-widgets/base",
          "model_name": "LayoutModel",
          "model_module_version": "1.2.0",
          "state": {
            "_model_module": "@jupyter-widgets/base",
            "_model_module_version": "1.2.0",
            "_model_name": "LayoutModel",
            "_view_count": null,
            "_view_module": "@jupyter-widgets/base",
            "_view_module_version": "1.2.0",
            "_view_name": "LayoutView",
            "align_content": null,
            "align_items": null,
            "align_self": null,
            "border": null,
            "bottom": null,
            "display": null,
            "flex": null,
            "flex_flow": null,
            "grid_area": null,
            "grid_auto_columns": null,
            "grid_auto_flow": null,
            "grid_auto_rows": null,
            "grid_column": null,
            "grid_gap": null,
            "grid_row": null,
            "grid_template_areas": null,
            "grid_template_columns": null,
            "grid_template_rows": null,
            "height": null,
            "justify_content": null,
            "justify_items": null,
            "left": null,
            "margin": null,
            "max_height": null,
            "max_width": null,
            "min_height": null,
            "min_width": null,
            "object_fit": null,
            "object_position": null,
            "order": null,
            "overflow": null,
            "overflow_x": null,
            "overflow_y": null,
            "padding": null,
            "right": null,
            "top": null,
            "visibility": null,
            "width": null
          }
        },
        "dab3798cdbcd4240a190e95c827a91bc": {
          "model_module": "@jupyter-widgets/controls",
          "model_name": "DescriptionStyleModel",
          "model_module_version": "1.5.0",
          "state": {
            "_model_module": "@jupyter-widgets/controls",
            "_model_module_version": "1.5.0",
            "_model_name": "DescriptionStyleModel",
            "_view_count": null,
            "_view_module": "@jupyter-widgets/base",
            "_view_module_version": "1.2.0",
            "_view_name": "StyleView",
            "description_width": ""
          }
        },
        "3459e957591547a588f791e7281fcae6": {
          "model_module": "@jupyter-widgets/base",
          "model_name": "LayoutModel",
          "model_module_version": "1.2.0",
          "state": {
            "_model_module": "@jupyter-widgets/base",
            "_model_module_version": "1.2.0",
            "_model_name": "LayoutModel",
            "_view_count": null,
            "_view_module": "@jupyter-widgets/base",
            "_view_module_version": "1.2.0",
            "_view_name": "LayoutView",
            "align_content": null,
            "align_items": null,
            "align_self": null,
            "border": null,
            "bottom": null,
            "display": null,
            "flex": null,
            "flex_flow": null,
            "grid_area": null,
            "grid_auto_columns": null,
            "grid_auto_flow": null,
            "grid_auto_rows": null,
            "grid_column": null,
            "grid_gap": null,
            "grid_row": null,
            "grid_template_areas": null,
            "grid_template_columns": null,
            "grid_template_rows": null,
            "height": null,
            "justify_content": null,
            "justify_items": null,
            "left": null,
            "margin": null,
            "max_height": null,
            "max_width": null,
            "min_height": null,
            "min_width": null,
            "object_fit": null,
            "object_position": null,
            "order": null,
            "overflow": null,
            "overflow_x": null,
            "overflow_y": null,
            "padding": null,
            "right": null,
            "top": null,
            "visibility": null,
            "width": null
          }
        },
        "dde9170abf9a4d05955c37b63013a2c7": {
          "model_module": "@jupyter-widgets/controls",
          "model_name": "ProgressStyleModel",
          "model_module_version": "1.5.0",
          "state": {
            "_model_module": "@jupyter-widgets/controls",
            "_model_module_version": "1.5.0",
            "_model_name": "ProgressStyleModel",
            "_view_count": null,
            "_view_module": "@jupyter-widgets/base",
            "_view_module_version": "1.2.0",
            "_view_name": "StyleView",
            "bar_color": null,
            "description_width": ""
          }
        },
        "730fe38cbcfe47ee96c8ee9bf77bd7f2": {
          "model_module": "@jupyter-widgets/base",
          "model_name": "LayoutModel",
          "model_module_version": "1.2.0",
          "state": {
            "_model_module": "@jupyter-widgets/base",
            "_model_module_version": "1.2.0",
            "_model_name": "LayoutModel",
            "_view_count": null,
            "_view_module": "@jupyter-widgets/base",
            "_view_module_version": "1.2.0",
            "_view_name": "LayoutView",
            "align_content": null,
            "align_items": null,
            "align_self": null,
            "border": null,
            "bottom": null,
            "display": null,
            "flex": null,
            "flex_flow": null,
            "grid_area": null,
            "grid_auto_columns": null,
            "grid_auto_flow": null,
            "grid_auto_rows": null,
            "grid_column": null,
            "grid_gap": null,
            "grid_row": null,
            "grid_template_areas": null,
            "grid_template_columns": null,
            "grid_template_rows": null,
            "height": null,
            "justify_content": null,
            "justify_items": null,
            "left": null,
            "margin": null,
            "max_height": null,
            "max_width": null,
            "min_height": null,
            "min_width": null,
            "object_fit": null,
            "object_position": null,
            "order": null,
            "overflow": null,
            "overflow_x": null,
            "overflow_y": null,
            "padding": null,
            "right": null,
            "top": null,
            "visibility": null,
            "width": null
          }
        },
        "9eed2cf71bbc46519db889b63ff2eccf": {
          "model_module": "@jupyter-widgets/controls",
          "model_name": "DescriptionStyleModel",
          "model_module_version": "1.5.0",
          "state": {
            "_model_module": "@jupyter-widgets/controls",
            "_model_module_version": "1.5.0",
            "_model_name": "DescriptionStyleModel",
            "_view_count": null,
            "_view_module": "@jupyter-widgets/base",
            "_view_module_version": "1.2.0",
            "_view_name": "StyleView",
            "description_width": ""
          }
        },
        "8347f2093bae41cc8342d42867891f44": {
          "model_module": "@jupyter-widgets/base",
          "model_name": "LayoutModel",
          "model_module_version": "1.2.0",
          "state": {
            "_model_module": "@jupyter-widgets/base",
            "_model_module_version": "1.2.0",
            "_model_name": "LayoutModel",
            "_view_count": null,
            "_view_module": "@jupyter-widgets/base",
            "_view_module_version": "1.2.0",
            "_view_name": "LayoutView",
            "align_content": null,
            "align_items": null,
            "align_self": null,
            "border": null,
            "bottom": null,
            "display": null,
            "flex": null,
            "flex_flow": null,
            "grid_area": null,
            "grid_auto_columns": null,
            "grid_auto_flow": null,
            "grid_auto_rows": null,
            "grid_column": null,
            "grid_gap": null,
            "grid_row": null,
            "grid_template_areas": null,
            "grid_template_columns": null,
            "grid_template_rows": null,
            "height": null,
            "justify_content": null,
            "justify_items": null,
            "left": null,
            "margin": null,
            "max_height": null,
            "max_width": null,
            "min_height": null,
            "min_width": null,
            "object_fit": null,
            "object_position": null,
            "order": null,
            "overflow": null,
            "overflow_x": null,
            "overflow_y": null,
            "padding": null,
            "right": null,
            "top": null,
            "visibility": null,
            "width": null
          }
        },
        "ab00b32cbd0a4fa8b4eca9a40d92c2ae": {
          "model_module": "@jupyter-widgets/controls",
          "model_name": "ProgressStyleModel",
          "model_module_version": "1.5.0",
          "state": {
            "_model_module": "@jupyter-widgets/controls",
            "_model_module_version": "1.5.0",
            "_model_name": "ProgressStyleModel",
            "_view_count": null,
            "_view_module": "@jupyter-widgets/base",
            "_view_module_version": "1.2.0",
            "_view_name": "StyleView",
            "bar_color": null,
            "description_width": ""
          }
        },
        "d92271c726c5451fb5fc1f31ac41b83f": {
          "model_module": "@jupyter-widgets/base",
          "model_name": "LayoutModel",
          "model_module_version": "1.2.0",
          "state": {
            "_model_module": "@jupyter-widgets/base",
            "_model_module_version": "1.2.0",
            "_model_name": "LayoutModel",
            "_view_count": null,
            "_view_module": "@jupyter-widgets/base",
            "_view_module_version": "1.2.0",
            "_view_name": "LayoutView",
            "align_content": null,
            "align_items": null,
            "align_self": null,
            "border": null,
            "bottom": null,
            "display": null,
            "flex": null,
            "flex_flow": null,
            "grid_area": null,
            "grid_auto_columns": null,
            "grid_auto_flow": null,
            "grid_auto_rows": null,
            "grid_column": null,
            "grid_gap": null,
            "grid_row": null,
            "grid_template_areas": null,
            "grid_template_columns": null,
            "grid_template_rows": null,
            "height": null,
            "justify_content": null,
            "justify_items": null,
            "left": null,
            "margin": null,
            "max_height": null,
            "max_width": null,
            "min_height": null,
            "min_width": null,
            "object_fit": null,
            "object_position": null,
            "order": null,
            "overflow": null,
            "overflow_x": null,
            "overflow_y": null,
            "padding": null,
            "right": null,
            "top": null,
            "visibility": null,
            "width": null
          }
        },
        "cb732f14d0d448fe8f63c4caf70f70d3": {
          "model_module": "@jupyter-widgets/controls",
          "model_name": "DescriptionStyleModel",
          "model_module_version": "1.5.0",
          "state": {
            "_model_module": "@jupyter-widgets/controls",
            "_model_module_version": "1.5.0",
            "_model_name": "DescriptionStyleModel",
            "_view_count": null,
            "_view_module": "@jupyter-widgets/base",
            "_view_module_version": "1.2.0",
            "_view_name": "StyleView",
            "description_width": ""
          }
        },
        "21538fb9af544721843c65b78cd4da86": {
          "model_module": "@jupyter-widgets/base",
          "model_name": "LayoutModel",
          "model_module_version": "1.2.0",
          "state": {
            "_model_module": "@jupyter-widgets/base",
            "_model_module_version": "1.2.0",
            "_model_name": "LayoutModel",
            "_view_count": null,
            "_view_module": "@jupyter-widgets/base",
            "_view_module_version": "1.2.0",
            "_view_name": "LayoutView",
            "align_content": null,
            "align_items": null,
            "align_self": null,
            "border": null,
            "bottom": null,
            "display": null,
            "flex": null,
            "flex_flow": null,
            "grid_area": null,
            "grid_auto_columns": null,
            "grid_auto_flow": null,
            "grid_auto_rows": null,
            "grid_column": null,
            "grid_gap": null,
            "grid_row": null,
            "grid_template_areas": null,
            "grid_template_columns": null,
            "grid_template_rows": null,
            "height": null,
            "justify_content": null,
            "justify_items": null,
            "left": null,
            "margin": null,
            "max_height": null,
            "max_width": null,
            "min_height": null,
            "min_width": null,
            "object_fit": null,
            "object_position": null,
            "order": null,
            "overflow": null,
            "overflow_x": null,
            "overflow_y": null,
            "padding": null,
            "right": null,
            "top": null,
            "visibility": null,
            "width": null
          }
        },
        "545ff2d9be7e45e9abf4974a46fd0145": {
          "model_module": "@jupyter-widgets/controls",
          "model_name": "ProgressStyleModel",
          "model_module_version": "1.5.0",
          "state": {
            "_model_module": "@jupyter-widgets/controls",
            "_model_module_version": "1.5.0",
            "_model_name": "ProgressStyleModel",
            "_view_count": null,
            "_view_module": "@jupyter-widgets/base",
            "_view_module_version": "1.2.0",
            "_view_name": "StyleView",
            "bar_color": null,
            "description_width": ""
          }
        },
        "e2c138648b754a4cb99454a97e47632e": {
          "model_module": "@jupyter-widgets/base",
          "model_name": "LayoutModel",
          "model_module_version": "1.2.0",
          "state": {
            "_model_module": "@jupyter-widgets/base",
            "_model_module_version": "1.2.0",
            "_model_name": "LayoutModel",
            "_view_count": null,
            "_view_module": "@jupyter-widgets/base",
            "_view_module_version": "1.2.0",
            "_view_name": "LayoutView",
            "align_content": null,
            "align_items": null,
            "align_self": null,
            "border": null,
            "bottom": null,
            "display": null,
            "flex": null,
            "flex_flow": null,
            "grid_area": null,
            "grid_auto_columns": null,
            "grid_auto_flow": null,
            "grid_auto_rows": null,
            "grid_column": null,
            "grid_gap": null,
            "grid_row": null,
            "grid_template_areas": null,
            "grid_template_columns": null,
            "grid_template_rows": null,
            "height": null,
            "justify_content": null,
            "justify_items": null,
            "left": null,
            "margin": null,
            "max_height": null,
            "max_width": null,
            "min_height": null,
            "min_width": null,
            "object_fit": null,
            "object_position": null,
            "order": null,
            "overflow": null,
            "overflow_x": null,
            "overflow_y": null,
            "padding": null,
            "right": null,
            "top": null,
            "visibility": null,
            "width": null
          }
        },
        "5c9fc3feb29f4869b90b765399c4c118": {
          "model_module": "@jupyter-widgets/controls",
          "model_name": "DescriptionStyleModel",
          "model_module_version": "1.5.0",
          "state": {
            "_model_module": "@jupyter-widgets/controls",
            "_model_module_version": "1.5.0",
            "_model_name": "DescriptionStyleModel",
            "_view_count": null,
            "_view_module": "@jupyter-widgets/base",
            "_view_module_version": "1.2.0",
            "_view_name": "StyleView",
            "description_width": ""
          }
        },
        "301e79ed6ecb4b4b96c26a8d5a097f7e": {
          "model_module": "@jupyter-widgets/base",
          "model_name": "LayoutModel",
          "model_module_version": "1.2.0",
          "state": {
            "_model_module": "@jupyter-widgets/base",
            "_model_module_version": "1.2.0",
            "_model_name": "LayoutModel",
            "_view_count": null,
            "_view_module": "@jupyter-widgets/base",
            "_view_module_version": "1.2.0",
            "_view_name": "LayoutView",
            "align_content": null,
            "align_items": null,
            "align_self": null,
            "border": null,
            "bottom": null,
            "display": null,
            "flex": null,
            "flex_flow": null,
            "grid_area": null,
            "grid_auto_columns": null,
            "grid_auto_flow": null,
            "grid_auto_rows": null,
            "grid_column": null,
            "grid_gap": null,
            "grid_row": null,
            "grid_template_areas": null,
            "grid_template_columns": null,
            "grid_template_rows": null,
            "height": null,
            "justify_content": null,
            "justify_items": null,
            "left": null,
            "margin": null,
            "max_height": null,
            "max_width": null,
            "min_height": null,
            "min_width": null,
            "object_fit": null,
            "object_position": null,
            "order": null,
            "overflow": null,
            "overflow_x": null,
            "overflow_y": null,
            "padding": null,
            "right": null,
            "top": null,
            "visibility": null,
            "width": null
          }
        },
        "e20a1957644847b5b248cca10c31a6aa": {
          "model_module": "@jupyter-widgets/controls",
          "model_name": "ProgressStyleModel",
          "model_module_version": "1.5.0",
          "state": {
            "_model_module": "@jupyter-widgets/controls",
            "_model_module_version": "1.5.0",
            "_model_name": "ProgressStyleModel",
            "_view_count": null,
            "_view_module": "@jupyter-widgets/base",
            "_view_module_version": "1.2.0",
            "_view_name": "StyleView",
            "bar_color": null,
            "description_width": ""
          }
        },
        "b9ca1e1228fd4635acbaa1e13ac52bb7": {
          "model_module": "@jupyter-widgets/base",
          "model_name": "LayoutModel",
          "model_module_version": "1.2.0",
          "state": {
            "_model_module": "@jupyter-widgets/base",
            "_model_module_version": "1.2.0",
            "_model_name": "LayoutModel",
            "_view_count": null,
            "_view_module": "@jupyter-widgets/base",
            "_view_module_version": "1.2.0",
            "_view_name": "LayoutView",
            "align_content": null,
            "align_items": null,
            "align_self": null,
            "border": null,
            "bottom": null,
            "display": null,
            "flex": null,
            "flex_flow": null,
            "grid_area": null,
            "grid_auto_columns": null,
            "grid_auto_flow": null,
            "grid_auto_rows": null,
            "grid_column": null,
            "grid_gap": null,
            "grid_row": null,
            "grid_template_areas": null,
            "grid_template_columns": null,
            "grid_template_rows": null,
            "height": null,
            "justify_content": null,
            "justify_items": null,
            "left": null,
            "margin": null,
            "max_height": null,
            "max_width": null,
            "min_height": null,
            "min_width": null,
            "object_fit": null,
            "object_position": null,
            "order": null,
            "overflow": null,
            "overflow_x": null,
            "overflow_y": null,
            "padding": null,
            "right": null,
            "top": null,
            "visibility": null,
            "width": null
          }
        },
        "1651fa33fb7c4cf1971f45b8f4f6f61d": {
          "model_module": "@jupyter-widgets/controls",
          "model_name": "DescriptionStyleModel",
          "model_module_version": "1.5.0",
          "state": {
            "_model_module": "@jupyter-widgets/controls",
            "_model_module_version": "1.5.0",
            "_model_name": "DescriptionStyleModel",
            "_view_count": null,
            "_view_module": "@jupyter-widgets/base",
            "_view_module_version": "1.2.0",
            "_view_name": "StyleView",
            "description_width": ""
          }
        },
        "166e9876ac9d48f6983ed7bfd58dd8b5": {
          "model_module": "@jupyter-widgets/base",
          "model_name": "LayoutModel",
          "model_module_version": "1.2.0",
          "state": {
            "_model_module": "@jupyter-widgets/base",
            "_model_module_version": "1.2.0",
            "_model_name": "LayoutModel",
            "_view_count": null,
            "_view_module": "@jupyter-widgets/base",
            "_view_module_version": "1.2.0",
            "_view_name": "LayoutView",
            "align_content": null,
            "align_items": null,
            "align_self": null,
            "border": null,
            "bottom": null,
            "display": null,
            "flex": null,
            "flex_flow": null,
            "grid_area": null,
            "grid_auto_columns": null,
            "grid_auto_flow": null,
            "grid_auto_rows": null,
            "grid_column": null,
            "grid_gap": null,
            "grid_row": null,
            "grid_template_areas": null,
            "grid_template_columns": null,
            "grid_template_rows": null,
            "height": null,
            "justify_content": null,
            "justify_items": null,
            "left": null,
            "margin": null,
            "max_height": null,
            "max_width": null,
            "min_height": null,
            "min_width": null,
            "object_fit": null,
            "object_position": null,
            "order": null,
            "overflow": null,
            "overflow_x": null,
            "overflow_y": null,
            "padding": null,
            "right": null,
            "top": null,
            "visibility": null,
            "width": null
          }
        },
        "cf99c20e103f43c2b53cea6e0e42f6d5": {
          "model_module": "@jupyter-widgets/controls",
          "model_name": "ProgressStyleModel",
          "model_module_version": "1.5.0",
          "state": {
            "_model_module": "@jupyter-widgets/controls",
            "_model_module_version": "1.5.0",
            "_model_name": "ProgressStyleModel",
            "_view_count": null,
            "_view_module": "@jupyter-widgets/base",
            "_view_module_version": "1.2.0",
            "_view_name": "StyleView",
            "bar_color": null,
            "description_width": ""
          }
        },
        "607a78d9f12e41d2b4b03f2c9caa53f2": {
          "model_module": "@jupyter-widgets/base",
          "model_name": "LayoutModel",
          "model_module_version": "1.2.0",
          "state": {
            "_model_module": "@jupyter-widgets/base",
            "_model_module_version": "1.2.0",
            "_model_name": "LayoutModel",
            "_view_count": null,
            "_view_module": "@jupyter-widgets/base",
            "_view_module_version": "1.2.0",
            "_view_name": "LayoutView",
            "align_content": null,
            "align_items": null,
            "align_self": null,
            "border": null,
            "bottom": null,
            "display": null,
            "flex": null,
            "flex_flow": null,
            "grid_area": null,
            "grid_auto_columns": null,
            "grid_auto_flow": null,
            "grid_auto_rows": null,
            "grid_column": null,
            "grid_gap": null,
            "grid_row": null,
            "grid_template_areas": null,
            "grid_template_columns": null,
            "grid_template_rows": null,
            "height": null,
            "justify_content": null,
            "justify_items": null,
            "left": null,
            "margin": null,
            "max_height": null,
            "max_width": null,
            "min_height": null,
            "min_width": null,
            "object_fit": null,
            "object_position": null,
            "order": null,
            "overflow": null,
            "overflow_x": null,
            "overflow_y": null,
            "padding": null,
            "right": null,
            "top": null,
            "visibility": null,
            "width": null
          }
        },
        "109e116bd8c8487393413f913807c8a3": {
          "model_module": "@jupyter-widgets/controls",
          "model_name": "DescriptionStyleModel",
          "model_module_version": "1.5.0",
          "state": {
            "_model_module": "@jupyter-widgets/controls",
            "_model_module_version": "1.5.0",
            "_model_name": "DescriptionStyleModel",
            "_view_count": null,
            "_view_module": "@jupyter-widgets/base",
            "_view_module_version": "1.2.0",
            "_view_name": "StyleView",
            "description_width": ""
          }
        }
      }
    }
  },
  "nbformat": 4,
  "nbformat_minor": 0
}